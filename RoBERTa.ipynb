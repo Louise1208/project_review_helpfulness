{
 "cells": [
  {
   "cell_type": "markdown",
   "source": [
    "# 1. Importing Libraries"
   ],
   "metadata": {
    "collapsed": false
   }
  },
  {
   "cell_type": "code",
   "execution_count": 1,
   "outputs": [],
   "source": [
    "import pandas as pd\n",
    "import matplotlib.pyplot as plt\n",
    "import seaborn as sns\n",
    "import numpy as np\n",
    "np.random.seed(10)\n",
    "from transformers import RobertaTokenizerFast\n",
    "import torch\n",
    "torch.manual_seed(10)\n",
    "from torch.utils.data import TensorDataset, DataLoader\n",
    "import torch.nn as nn\n",
    "from sklearn.preprocessing import StandardScaler\n",
    "import data_load\n",
    "import time\n",
    "from torch.nn.utils.clip_grad import clip_grad_norm\n",
    "from torch.optim.lr_scheduler import LambdaLR\n",
    "from functools import partial\n",
    "from transformers import RobertaModel"
   ],
   "metadata": {
    "collapsed": false
   }
  },
  {
   "cell_type": "code",
   "execution_count": 2,
   "outputs": [
    {
     "data": {
      "text/plain": "20"
     },
     "execution_count": 2,
     "metadata": {},
     "output_type": "execute_result"
    }
   ],
   "source": [
    "import gc\n",
    "gc.collect()"
   ],
   "metadata": {
    "collapsed": false
   }
  },
  {
   "cell_type": "markdown",
   "source": [
    "***Set device to GPU***"
   ],
   "metadata": {
    "collapsed": false
   }
  },
  {
   "cell_type": "code",
   "execution_count": 3,
   "outputs": [
    {
     "name": "stdout",
     "output_type": "stream",
     "text": [
      "2.1.0.dev20230818\n",
      "mps\n"
     ]
    }
   ],
   "source": [
    "# always check your version\n",
    "print(torch.__version__)\n",
    "torch.device('mps')\n",
    "# True\n",
    "device = torch.device('mps' if torch.backends.mps.is_available() else 'cpu')\n",
    "print('mps' if torch.backends.mps.is_available() else 'cpu')\n"
   ],
   "metadata": {
    "collapsed": false
   }
  },
  {
   "cell_type": "markdown",
   "source": [
    "***Set global variables***"
   ],
   "metadata": {
    "collapsed": false
   }
  },
  {
   "cell_type": "code",
   "execution_count": 4,
   "outputs": [],
   "source": [
    "batch_size = 16\n",
    "epochs = 5\n",
    "bias_linear = 0.5\n",
    "max_length =512\n",
    "#75%:(905+643+1356+1146)/4=1012\n",
    "# mid:(447+320+636+496)/4=475\n"
   ],
   "metadata": {
    "collapsed": false
   }
  },
  {
   "cell_type": "markdown",
   "source": [
    "# load data"
   ],
   "metadata": {
    "collapsed": false
   }
  },
  {
   "cell_type": "code",
   "execution_count": 5,
   "outputs": [],
   "source": [
    "def data_preprocessing(X_train,X_validation,X_test,y_train,y_validation,y_test,max_length):\n",
    "    # do with review\n",
    "    X_train_review=X_train['reviewText'].tolist()\n",
    "    X_validation_review=X_validation['reviewText'].tolist()\n",
    "    X_test_review=X_test['reviewText'].tolist()\n",
    "    # tokenization\n",
    "    tokenizer_2 = RobertaTokenizerFast.from_pretrained(\"roberta-base\")\n",
    "    train_encodings = tokenizer_2(X_train_review, padding='max_length', truncation='longest_first', max_length=max_length,return_attention_mask=True)\n",
    "    validation_encodings = tokenizer_2(X_validation_review, padding='max_length', truncation='longest_first',max_length=max_length, return_attention_mask=True)\n",
    "    test_encodings = tokenizer_2(X_test_review, padding='max_length', truncation='longest_first', max_length=max_length,return_attention_mask=True)\n",
    "    # 设置attention mask\n",
    "    train_masks = train_encodings['attention_mask']\n",
    "    test_masks = test_encodings['attention_mask']\n",
    "    train_inputs = train_encodings['input_ids']\n",
    "    test_inputs = test_encodings['input_ids']\n",
    "    val_inputs = validation_encodings['input_ids']\n",
    "    val_masks = validation_encodings['attention_mask']\n",
    "    print('length of train_inputs:', len(train_inputs))\n",
    "    print('length of val_inputs:', len(val_inputs))\n",
    "    print('length of test_inputs:', len(test_inputs))\n",
    "    print('length of train_masks:', len(train_masks))\n",
    "\n",
    "    # do with features\n",
    "    X_train.drop(columns=['reviewText'],inplace=True)\n",
    "    X_validation.drop(columns=['reviewText'],inplace=True)\n",
    "    X_test.drop(columns=['reviewText'], inplace=True)\n",
    "\n",
    "    # 定义一个函数，用于对每个特征应用 .values.reshape(-1, 1),并对数值特征进行标准化\n",
    "    def reshape_column(df):\n",
    "        # 保存原始特征列的列名\n",
    "        feature_columns = df.columns.tolist()\n",
    "\n",
    "        # 定义数值特征转换器，将每个特征的值转换为均值为 0，标准差为 1 的分布，从而使得数据的分布更接近正态分布。\n",
    "        numerical_transformer = StandardScaler()\n",
    "\n",
    "        # 对每一列进行标准化并保存回原列\n",
    "        for column in feature_columns:\n",
    "            column_values = df[column].values.reshape(-1, 1)\n",
    "            normalized_values = numerical_transformer.fit_transform(column_values)\n",
    "            df[column] = normalized_values\n",
    "        return df\n",
    "\n",
    "    print('shape of X_train:', X_train.shape)\n",
    "    # 对 DataFrame 的每个特征应用 reshape_column 函数\n",
    "    X_train_numerical =reshape_column(X_train)\n",
    "    print('shape of X_train_numerical:', X_train_numerical.shape)\n",
    "    print('X_train_numerical:', X_train_numerical.head())\n",
    "    X_validation_numerical = reshape_column(X_validation)\n",
    "    X_test_numerical = reshape_column(X_test)\n",
    "\n",
    "    # 假设 X_train_numerical 是经过转换后的数值特征数组\n",
    "    x_train_features = list(X_train_numerical.values)\n",
    "    x_validation_features = list(X_validation_numerical.values)\n",
    "    x_test_features = list(X_test_numerical.values)\n",
    "    print('shape of x_train_features:', np.array(x_train_features).shape)\n",
    "    print('shape of x_validation_features:', np.array(x_validation_features).shape)\n",
    "    print('shape of x_test_features:', np.array(x_test_features).shape)\n",
    "    # do with helpfulness_score\n",
    "    y_train=y_train.tolist()\n",
    "    y_validation=y_validation.tolist()\n",
    "    y_test=y_test.tolist()\n",
    "\n",
    "    print('length of y_train:', len(y_train))\n",
    "    print('length of y_validation:', len(y_validation))\n",
    "    print('length of y_test:', len(y_test))\n",
    "\n",
    "    # 找到bias term\n",
    "    bias_linear = np.mean(y_train)\n",
    "    print(\"bias_linear=\", bias_linear)\n",
    "    return train_inputs, val_inputs, test_inputs, train_masks, val_masks, test_masks,x_train_features, x_validation_features, x_test_features, y_train, y_validation, y_test, bias_linear"
   ],
   "metadata": {
    "collapsed": false
   }
  },
  {
   "cell_type": "markdown",
   "source": [
    "***create dataloader***"
   ],
   "metadata": {
    "collapsed": false
   }
  },
  {
   "cell_type": "code",
   "execution_count": 6,
   "outputs": [],
   "source": [
    "def create_dataloaders(inputs, inputs_add, masks, labels, batch_size,shuffle=False):\n",
    "    input_tensor = torch.tensor(inputs)\n",
    "    input_add_tensor = torch.tensor(inputs_add).float()\n",
    "    mask_tensor = torch.tensor(masks)\n",
    "    labels_tensor = torch.tensor(labels)\n",
    "    dataset = TensorDataset(input_tensor, input_add_tensor, mask_tensor,\n",
    "                            labels_tensor)\n",
    "    dataloader = DataLoader(dataset, batch_size=batch_size,\n",
    "                            shuffle=shuffle)\n",
    "    return dataloader"
   ],
   "metadata": {
    "collapsed": false
   }
  },
  {
   "cell_type": "markdown",
   "source": [
    "# 2. Model"
   ],
   "metadata": {
    "collapsed": false
   }
  },
  {
   "cell_type": "code",
   "execution_count": 7,
   "outputs": [],
   "source": [
    "def init_bias(m):\n",
    "    if type(m) == nn.Linear:\n",
    "        with torch.no_grad():\n",
    "            m.bias.fill_(bias_linear)\n",
    "\n",
    "# model\n",
    "class RobertaRegressor(nn.Module):\n",
    "\n",
    "    def __init__(self, num_features=9, drop_rate=0.2, freeze_Roberta=False, freeze_layers='all'):\n",
    "\n",
    "        super(RobertaRegressor, self).__init__()\n",
    "        D_in, D_out = 768 + num_features, 1\n",
    "        D_hid = int(D_in / 2)\n",
    "\n",
    "        self.freeze_Roberta = freeze_Roberta\n",
    "\n",
    "        self.roberta = \\\n",
    "            RobertaModel.from_pretrained('roberta-base')\n",
    "        if self.freeze_Roberta:\n",
    "            if freeze_layers == 'all':\n",
    "                for param in self.roberta.parameters():\n",
    "                    param.requires_grad = False\n",
    "            else:\n",
    "                for layer in self.roberta.encoder.layer[:freeze_layers]:\n",
    "                    for param in layer.parameters():\n",
    "                        param.requires_grad = False\n",
    "        self.cat_layer = nn.Sequential(\n",
    "            nn.Dropout(drop_rate),\n",
    "            nn.Linear(D_in, D_hid), nn.ReLU())\n",
    "        self.regressor = nn.Sequential(\n",
    "            nn.Dropout(drop_rate),\n",
    "            nn.Linear(D_hid, D_out))\n",
    "        self.regressor.apply(init_bias)\n",
    "\n",
    "    def forward(self, input_ids, attention_masks, input_add):\n",
    "\n",
    "        outputs = self.roberta(input_ids, attention_masks)\n",
    "        class_label_output = outputs[1]\n",
    "        hidden = self.cat_layer(torch.cat((class_label_output, input_add), dim=1))\n",
    "        outputs = self.regressor(hidden)\n",
    "        return outputs"
   ],
   "metadata": {
    "collapsed": false
   }
  },
  {
   "cell_type": "code",
   "execution_count": 7,
   "outputs": [],
   "source": [],
   "metadata": {
    "collapsed": false
   }
  },
  {
   "cell_type": "code",
   "execution_count": 8,
   "outputs": [],
   "source": [
    "\n",
    "# load model\n",
    "def model_preparing(num_features,train_dataloader, drop_rate, freeze_layers='all'):\n",
    "\n",
    "    model = RobertaRegressor(num_features=num_features,drop_rate=drop_rate, freeze_Roberta=True, freeze_layers=freeze_layers)\n",
    "    # freeze_layers=10：那么只有前 10层的编码器会被冻结，其余的 2层将可以被微调\n",
    "    # add_dim=9：在RoBERTa的输出上添加9个特征\n",
    "    model.to(device)\n",
    "    # 定义optimizer\n",
    "    optimizer = torch.optim.AdamW(model.parameters(),\n",
    "                      lr=1e-4,\n",
    "                      weight_decay =0.0,\n",
    "                      eps=1e-8)\n",
    "\n",
    "    # 定义loss function\n",
    "    loss_function = nn.MSELoss()\n",
    "\n",
    "     # 定义scheduler\n",
    "    total_steps = len(train_dataloader) * epochs * 10\n",
    "    warmup_steps = len(train_dataloader)\n",
    "    def _get_linear_schedule_with_warmup_lr_lambda(current_step: int, *, num_warmup_steps: int, num_training_steps: int):\n",
    "        if current_step < num_warmup_steps:\n",
    "            return float(current_step) / float(max(1, num_warmup_steps))\n",
    "        return max(0.0, float(num_training_steps - current_step) / float(max(1, num_training_steps - num_warmup_steps)))\n",
    "\n",
    "    def get_linear_schedule_with_warmup(optimizer, num_warmup_steps, num_training_steps, last_epoch=-1):\n",
    "        lr_lambda = partial(\n",
    "        _get_linear_schedule_with_warmup_lr_lambda,\n",
    "        num_warmup_steps=num_warmup_steps,\n",
    "        num_training_steps=num_training_steps,\n",
    "    )\n",
    "        return LambdaLR(optimizer, lr_lambda, last_epoch)\n",
    "\n",
    "    scheduler = get_linear_schedule_with_warmup(optimizer, warmup_steps, total_steps)\n",
    "\n",
    "\n",
    "\n",
    "    return model, optimizer, loss_function, scheduler"
   ],
   "metadata": {
    "collapsed": false
   }
  },
  {
   "cell_type": "code",
   "execution_count": 9,
   "outputs": [],
   "source": [
    "# 定义model evaluate function\n",
    "def model_evaluate(model, loss_function, test_dataloader):\n",
    "    model.eval()\n",
    "    test_loss= []\n",
    "    for batch in test_dataloader:\n",
    "        batch_inputs, batch_inputs_add, batch_masks, batch_labels = tuple(b.to(device) for b in batch)\n",
    "        with torch.no_grad():\n",
    "            outputs = model(batch_inputs, batch_masks, batch_inputs_add)\n",
    "        loss = loss_function(outputs.squeeze(), batch_labels.squeeze())\n",
    "        test_loss.append(loss.item())\n",
    "    return np.mean(test_loss)\n"
   ],
   "metadata": {
    "collapsed": false
   }
  },
  {
   "cell_type": "code",
   "execution_count": 10,
   "outputs": [],
   "source": [
    "#This is just to format the time that training takes\n",
    "import datetime\n",
    "\n",
    "def format_time(elapsed):\n",
    "    '''\n",
    "    Takes a time in seconds and returns a string hh:mm:ss\n",
    "    '''\n",
    "    # Round to the nearest second.\n",
    "    elapsed_rounded = int(round((elapsed)))\n",
    "\n",
    "    # Format as hh:mm:ss\n",
    "    return str(datetime.timedelta(seconds=elapsed_rounded))\n"
   ],
   "metadata": {
    "collapsed": false
   }
  },
  {
   "cell_type": "markdown",
   "source": [
    "# 3. Training"
   ],
   "metadata": {
    "collapsed": false
   }
  },
  {
   "cell_type": "code",
   "execution_count": 11,
   "outputs": [],
   "source": [
    "def train(model, optimizer, scheduler, loss_function, epochs, train_dataloader, val_dataloader, save_name_best, status_name, pic):\n",
    "\n",
    "    #To save some stats of training\n",
    "    training_stats = []\n",
    "    #starting time of training\n",
    "    t_total_start = time.time()\n",
    "    #best loss\n",
    "    ev = model_evaluate(model, loss_function, val_dataloader)\n",
    "    best_loss = ev\n",
    "    for epoch in range(epochs):\n",
    "        print(epoch)\n",
    "        #time of this epoch\n",
    "        t_e_start = time.time()\n",
    "\n",
    "        model.train()\n",
    "        #To keep sum of loss over training batches\n",
    "        running_loss = 0.\n",
    "        for step, batch in enumerate(train_dataloader):\n",
    "            if step % 250 == 0:\n",
    "                print(step, 'time elapsed for epoch',format_time(time.time() - t_e_start))\n",
    "            batch_inputs, batch_inputs_add, batch_masks, batch_labels = \\\n",
    "                               tuple(b.to(device) for b in batch)\n",
    "            model.zero_grad()\n",
    "            outputs = model(batch_inputs, batch_masks, batch_inputs_add)\n",
    "            loss = loss_function(outputs.squeeze(),\n",
    "                             batch_labels.squeeze())\n",
    "            loss.backward()\n",
    "            clip_grad_norm(model.parameters(), 100)\n",
    "            optimizer.step()\n",
    "            scheduler.step()\n",
    "            running_loss += loss.item()\n",
    "        training_time_epoch = format_time(time.time() - t_e_start)\n",
    "        print('training loss', running_loss/len(train_dataloader), 'epoch training time', training_time_epoch)\n",
    "\n",
    "        ev = model_evaluate(model, loss_function, val_dataloader)\n",
    "        print('validation metrics: ', ev)\n",
    "        print(\"-----\")\n",
    "        if ev < best_loss:\n",
    "          best_loss = ev\n",
    "          torch.save({'epoch':epoch,'best_loss':best_loss,'state_dict':model.state_dict(),'optimizer':optimizer.state_dict()}, save_name_best)\n",
    "        training_stats.append(\n",
    "        {\n",
    "            'epoch': epoch,\n",
    "            'training loss': running_loss/len(train_dataloader),\n",
    "            'valid loss': ev,\n",
    "            'training time': training_time_epoch\n",
    "        }\n",
    "        )\n",
    "\n",
    "    print('time elapsed for training',format_time(time.time() - t_total_start))\n",
    "\n",
    "    #create a pandas df from training stats\n",
    "    df_stats = pd.DataFrame(data=training_stats)\n",
    "    df_stats = df_stats.set_index('epoch')\n",
    "    # Display the table.\n",
    "    print(df_stats)\n",
    "    df_stats.to_csv(status_name)\n",
    "\n",
    "\n",
    "    # Use plot styling from seaborn.\n",
    "    sns.set(style='darkgrid')\n",
    "\n",
    "    # Increase the plot size and font size.\n",
    "    sns.set(font_scale=1.5)\n",
    "    plt.rcParams[\"figure.figsize\"] = (12, 6)\n",
    "\n",
    "    # Plot the learning curve.\n",
    "    plt.plot(df_stats['training loss'], 'b-o', label=\"Training\")\n",
    "    plt.plot(df_stats['valid loss'], 'g-o', label=\"Validation\")\n",
    "\n",
    "    # Label the plot.\n",
    "    plt.title(\"Training & Validation Loss\")\n",
    "    plt.xlabel(\"Epoch\")\n",
    "    plt.ylabel(\"Loss\")\n",
    "    plt.legend()\n",
    "    plt.xticks(list(range(epochs)))\n",
    "    # save figure\n",
    "    plt.savefig(pic)\n",
    "    plt.show()\n"
   ],
   "metadata": {
    "collapsed": false
   }
  },
  {
   "cell_type": "markdown",
   "source": [
    "# Predict"
   ],
   "metadata": {
    "collapsed": false
   }
  },
  {
   "cell_type": "code",
   "execution_count": 12,
   "outputs": [],
   "source": [
    "def predict(model, dataloader):\n",
    "    model.eval()\n",
    "    output = []\n",
    "    for batch in dataloader:\n",
    "        batch_inputs, batch_inputs_add, batch_masks, _ = \\\n",
    "                                  tuple(b.to(device) for b in batch)\n",
    "        with torch.no_grad():\n",
    "            output += model(batch_inputs,\n",
    "                            batch_masks, batch_inputs_add).view(1,-1).tolist()[0]\n",
    "    return output"
   ],
   "metadata": {
    "collapsed": false
   }
  },
  {
   "cell_type": "code",
   "execution_count": 13,
   "outputs": [],
   "source": [
    "def load_ckp(checkpoint_fpath, model, optimizer):\n",
    "    \"\"\"\n",
    "    checkpoint_path: path to saved checkpoint\n",
    "    model: model that we want to load checkpoint parameters into\n",
    "    optimizer: optimizer ussed in training\n",
    "    \"\"\"\n",
    "    # load check point\n",
    "    checkpoint = torch.load(checkpoint_fpath)\n",
    "    # initialize state_dict from checkpoint to model\n",
    "    model.load_state_dict(checkpoint['state_dict'])\n",
    "    # initialize optimizer from checkpoint to optimizer\n",
    "    optimizer.load_state_dict(checkpoint['optimizer'])\n",
    "    # initialize best_loss from checkpoint to best_loss\n",
    "    best_loss = checkpoint['best_loss']\n",
    "    return model, optimizer, checkpoint['epoch'], best_loss\n"
   ],
   "metadata": {
    "collapsed": false
   }
  },
  {
   "cell_type": "code",
   "execution_count": 14,
   "outputs": [],
   "source": [
    "def saved_results(y_pred,y_ture,X_test,saved_path):\n",
    "    X_test['y_pred'] = y_pred\n",
    "    X_test['y_true'] = y_ture\n",
    "    X_test.to_csv(saved_path, index=False)"
   ],
   "metadata": {
    "collapsed": false
   }
  },
  {
   "cell_type": "code",
   "execution_count": 15,
   "outputs": [],
   "source": [
    "import evaluation as ev\n",
    "def evaliation(y_true, y_pred):\n",
    "    rmse=ev.rmse(y_true, y_pred)\n",
    "    pcc=ev.pcc(y_true, y_pred)\n",
    "    ndcg=ev.ndcg(y_true, y_pred)\n",
    "    print('RMSE: ',rmse )\n",
    "    print('PCC: ',pcc)\n",
    "    print('NDCG: ', ndcg)\n",
    "    # save into text file\n",
    "    with open('results/evaluation_result_RoBERTa.txt', 'a') as f:\n",
    "        # f.write(table_name + '\\n')\n",
    "\n",
    "        f.write('RMSE: ' + str(rmse) + '\\n')\n",
    "        f.write('PCC: ' + str(pcc) + '\\n')\n",
    "        f.write('NDCG: ' + str(ndcg) + '\\n')\n",
    "        f.write('\\n=====================\\n\\n')"
   ],
   "metadata": {
    "collapsed": false
   }
  },
  {
   "cell_type": "markdown",
   "source": [
    "# Video Games"
   ],
   "metadata": {
    "collapsed": false
   }
  },
  {
   "cell_type": "code",
   "execution_count": 16,
   "outputs": [],
   "source": [
    "num_features=9"
   ],
   "metadata": {
    "collapsed": false
   }
  },
  {
   "cell_type": "markdown",
   "source": [
    "# 1. dataloader"
   ],
   "metadata": {
    "collapsed": false
   }
  },
  {
   "cell_type": "code",
   "execution_count": null,
   "outputs": [],
   "source": [
    "# video_games\n",
    "X_train_video_games, X_validation_video_games, X_test_video_games, y_train_video_games, y_validation_video_games, y_test_video_games = data_load.data_load(tag='all', table_name='features_video_games')\n"
   ],
   "metadata": {
    "collapsed": false
   }
  },
  {
   "cell_type": "code",
   "execution_count": null,
   "outputs": [],
   "source": [
    "train_inputs, val_inputs, test_inputs, train_masks, val_masks, test_masks,x_train_features, x_validation_features, x_test_features, y_train, y_validation, y_test, bias_linear=data_preprocessing(X_train_video_games, X_validation_video_games, X_test_video_games, y_train_video_games, y_validation_video_games, y_test_video_games, max_length=max_length)"
   ],
   "metadata": {
    "collapsed": false
   }
  },
  {
   "cell_type": "code",
   "execution_count": null,
   "outputs": [],
   "source": [
    "\n",
    "train_dataloader = create_dataloaders(train_inputs, x_train_features, train_masks,\n",
    "                                      y_train, batch_size, shuffle=True)\n",
    "val_dataloader = create_dataloaders(val_inputs, x_validation_features, val_masks,\n",
    "                                    y_validation, batch_size)\n",
    "test_dataloader = create_dataloaders(test_inputs, x_test_features, test_masks,\n",
    "                                     y_test, batch_size)\n"
   ],
   "metadata": {
    "collapsed": false
   }
  },
  {
   "cell_type": "code",
   "execution_count": null,
   "outputs": [],
   "source": [
    "# check dataloader\n",
    "for batch in train_dataloader:\n",
    "    batch_inputs, batch_inputs_add, batch_masks, batch_labels = tuple(b.to(device) for b in batch)\n",
    "    print(batch_inputs.shape)\n",
    "    print(batch_inputs_add.shape)\n",
    "    print(batch_masks.shape)\n",
    "    print(batch_labels.shape)\n",
    "    break"
   ],
   "metadata": {
    "collapsed": false
   }
  },
  {
   "cell_type": "markdown",
   "source": [
    "# 2. Model"
   ],
   "metadata": {
    "collapsed": false
   }
  },
  {
   "cell_type": "code",
   "execution_count": null,
   "outputs": [],
   "source": [
    "drop_rates=[0.0]\n",
    "#0.5, 0.093577  0.5,\n",
    "# 0.3,0.089257\n",
    "# 0.0,0.08360770480656946"
   ],
   "metadata": {
    "collapsed": false
   }
  },
  {
   "cell_type": "code",
   "execution_count": null,
   "outputs": [],
   "source": [
    "best_loss_final=100\n",
    "best_epoch_final=0\n",
    "best_drop_rate_final=0\n",
    "best_model=''\n",
    "\n",
    "for drop_rate in drop_rates:\n",
    "    model, optimizer, loss_function, scheduler=model_preparing(num_features,train_dataloader, drop_rate, freeze_layers='all')\n",
    "    name_best=f'checkpoints/roberta_tune/roberta_video_games_drop_rate_{drop_rate}_best.pt'\n",
    "    stats=f'checkpoints/roberta_tune/roberta_video_games_drop_rate_{drop_rate}_stats.csv'\n",
    "    pic=f'pictures/roberta_tune/roberta_video_games_drop_rate_{drop_rate}.png'\n",
    "    train(model, optimizer, scheduler, loss_function, epochs,train_dataloader,val_dataloader, name_best,stats, pic)\n",
    "    model, optimizer, best_epoch, best_loss = load_ckp(name_best, model, optimizer)\n",
    "\n",
    "    if best_loss<best_loss_final:\n",
    "        best_loss_final=best_loss\n",
    "        best_epoch_final=best_epoch\n",
    "        best_drop_rate_final=drop_rate\n",
    "        best_model=name_best\n",
    "        del model\n",
    "        del optimizer\n",
    "        del loss_function\n",
    "        del scheduler\n",
    "        print('best_loss_final: ',best_loss_final)\n",
    "        print('best_epoch_final: ',best_epoch_final)\n",
    "        print('best_drop_rate_final: ',best_drop_rate_final)\n",
    "        print('best_model: ',best_model)"
   ],
   "metadata": {
    "collapsed": false
   }
  },
  {
   "cell_type": "markdown",
   "source": [
    "# 3. Predict"
   ],
   "metadata": {
    "collapsed": false
   }
  },
  {
   "cell_type": "code",
   "execution_count": null,
   "outputs": [],
   "source": [
    "model, optimizer, loss_function, scheduler=\\\n",
    "    model_preparing(num_features,train_dataloader, best_drop_rate_final, freeze_layers='all')\n",
    "\n",
    "model, optimizer, best_epoch, best_loss = load_ckp(best_model, model, optimizer)\n",
    "with open('results/evaluation_result_RoBERTa.txt', 'a') as f:\n",
    "    f.write('\\n==================roberta_video_games_all==================\\n')\n",
    "    f.write('best_epoch: ' + str(best_epoch_final) + '\\n')\n",
    "    f.write('best_loss: ' + str(best_loss_final) + '\\n')\n",
    "    f.write('best_drop_rate: ' + str(best_drop_rate_final) + '\\n')\n",
    "\n",
    "y_pred = predict(model, test_dataloader)\n",
    "saved_path='results/roberta_video_games_all.csv'\n",
    "saved_results(y_pred,y_test_video_games,X_test_video_games,saved_path)"
   ],
   "metadata": {
    "collapsed": false
   }
  },
  {
   "cell_type": "markdown",
   "source": [
    "# 4. Evaluation"
   ],
   "metadata": {
    "collapsed": false
   }
  },
  {
   "cell_type": "code",
   "execution_count": null,
   "outputs": [],
   "source": [
    "with open('results/evaluation_result_RoBERTa.txt', 'a') as f:\n",
    "    f.write('test evaluation:' + '\\n')\n",
    "evaliation(y_test_video_games, y_pred)"
   ],
   "metadata": {
    "collapsed": false
   }
  },
  {
   "cell_type": "code",
   "execution_count": null,
   "outputs": [],
   "source": [
    "# 删除变量\n",
    "del model\n",
    "del optimizer\n",
    "del loss_function\n",
    "del scheduler\n",
    "\n",
    "del y_pred\n",
    "torch.cuda.empty_cache()"
   ],
   "metadata": {
    "collapsed": false
   }
  },
  {
   "cell_type": "markdown",
   "source": [
    "# Try unfreeze layers"
   ],
   "metadata": {
    "collapsed": false
   }
  },
  {
   "cell_type": "code",
   "execution_count": null,
   "outputs": [],
   "source": [
    "drop_rate=0.0"
   ],
   "metadata": {
    "collapsed": false
   }
  },
  {
   "cell_type": "code",
   "execution_count": null,
   "outputs": [],
   "source": [
    "# video_games\n",
    "X_train_video_games, X_validation_video_games, X_test_video_games, y_train_video_games, y_validation_video_games, y_test_video_games = data_load.data_load(tag='all', table_name='features_video_games')"
   ],
   "metadata": {
    "collapsed": false
   }
  },
  {
   "cell_type": "code",
   "execution_count": null,
   "outputs": [],
   "source": [
    "train_inputs, val_inputs, test_inputs, train_masks, val_masks, test_masks,x_train_features, x_validation_features, x_test_features, y_train, y_validation, y_test, bias_linear=data_preprocessing(X_train_video_games, X_validation_video_games, X_test_video_games, y_train_video_games, y_validation_video_games, y_test_video_games, max_length=max_length)"
   ],
   "metadata": {
    "collapsed": false
   }
  },
  {
   "cell_type": "code",
   "execution_count": null,
   "outputs": [],
   "source": [
    "\n",
    "train_dataloader = create_dataloaders(train_inputs, x_train_features, train_masks,\n",
    "                                      y_train, batch_size, shuffle=True)\n",
    "val_dataloader = create_dataloaders(val_inputs, x_validation_features, val_masks,\n",
    "                                    y_validation, batch_size)\n",
    "test_dataloader = create_dataloaders(test_inputs, x_test_features, test_masks,\n",
    "                                     y_test, batch_size)\n"
   ],
   "metadata": {
    "collapsed": false
   }
  },
  {
   "cell_type": "code",
   "execution_count": null,
   "outputs": [],
   "source": [
    "# check dataloader\n",
    "for batch in train_dataloader:\n",
    "    batch_inputs, batch_inputs_add, batch_masks, batch_labels = tuple(b.to(device) for b in batch)\n",
    "    print(batch_inputs.shape)\n",
    "    print(batch_inputs_add.shape)\n",
    "    print(batch_masks.shape)\n",
    "    print(batch_labels.shape)\n",
    "    break"
   ],
   "metadata": {
    "collapsed": false
   }
  },
  {
   "cell_type": "markdown",
   "source": [
    "# 2. Model--unfreeze 2 layers"
   ],
   "metadata": {
    "collapsed": false
   }
  },
  {
   "cell_type": "code",
   "execution_count": null,
   "outputs": [],
   "source": [
    "num_features=9"
   ],
   "metadata": {
    "collapsed": false
   }
  },
  {
   "cell_type": "code",
   "execution_count": null,
   "outputs": [],
   "source": [
    "# freeze_layers=10：那么只有前 10层的编码器会被冻结，其余的 2层将可以被微调\n",
    "# add_dim=9：在RoBERTa的输出上添加9个特征\n",
    "model, optimizer, loss_function, scheduler = model_preparing(num_features,train_dataloader, drop_rate, freeze_layers=10)\n",
    "print('model prepared!')\n"
   ],
   "metadata": {
    "collapsed": false
   }
  },
  {
   "cell_type": "code",
   "execution_count": null,
   "outputs": [],
   "source": [
    "name_best='checkpoints/roberta_video_games_10_best.pt'\n",
    "name_final='checkpoints/roberta_video_games_10_final.pt'\n",
    "status_name='checkpoints/roberta_video_games_10_stats.csv'\n",
    "pic='pictures/roberta_video_games_10.png'\n",
    "train(model, optimizer, scheduler, loss_function, epochs, train_dataloader, val_dataloader, name_best, status_name, pic)"
   ],
   "metadata": {
    "collapsed": false
   }
  },
  {
   "cell_type": "code",
   "execution_count": null,
   "outputs": [],
   "source": [
    "model, optimizer, best_epoch, best_loss = load_ckp(name_best, model, optimizer)\n",
    "print('model loaded!')\n",
    "with open('results/evaluation_result_RoBERTa.txt', 'a') as f:\n",
    "    f.write('\\n==================roberta_video_games_10_add==================\\n')\n",
    "    f.write('best_epoch: ' + str(best_epoch) + '\\n')\n",
    "\n",
    "y_pred = predict(model, test_dataloader)\n",
    "print('model predicted!')\n",
    "saved_path = 'results/roberta_video_games_10.csv'\n",
    "saved_results(y_pred, y_test_video_games, X_test_video_games, saved_path)\n",
    "\n",
    "with open('results/evaluation_result_RoBERTa.txt', 'a') as f:\n",
    "    f.write('test evaluation:' + '\\n')\n",
    "evaliation(y_test_video_games, y_pred)"
   ],
   "metadata": {
    "collapsed": false
   }
  },
  {
   "cell_type": "code",
   "execution_count": null,
   "outputs": [],
   "source": [
    "# 删除变量\n",
    "del model\n",
    "del optimizer\n",
    "del loss_function\n",
    "del scheduler\n",
    "del y_pred\n",
    "del name_best\n",
    "del name_final\n",
    "del best_loss\n",
    "torch.cuda.empty_cache()"
   ],
   "metadata": {
    "collapsed": false
   }
  },
  {
   "cell_type": "markdown",
   "source": [
    "# 2. Model--unfreeze 4 layers"
   ],
   "metadata": {
    "collapsed": false
   }
  },
  {
   "cell_type": "code",
   "execution_count": null,
   "outputs": [],
   "source": [
    "model, optimizer, loss_function, scheduler = model_preparing(train_dataloader,drop_rate,freeze_layers=8)"
   ],
   "metadata": {
    "collapsed": false
   }
  },
  {
   "cell_type": "code",
   "execution_count": null,
   "outputs": [],
   "source": [
    "name_best='checkpoints/roberta_video_games_8_best.pt'\n",
    "stats_name='checkpoints/roberta_video_games_8_stats.csv'\n",
    "pic='pictures/roberta_video_games_8.png'\n",
    "train(model, optimizer, scheduler, loss_function, epochs, train_dataloader, val_dataloader, name_best, stats_name, pic)\n"
   ],
   "metadata": {
    "collapsed": false
   }
  },
  {
   "cell_type": "code",
   "execution_count": null,
   "outputs": [],
   "source": [
    "model, optimizer, best_epoch, best_loss = load_ckp(name_best, model, optimizer)"
   ],
   "metadata": {
    "collapsed": false
   }
  },
  {
   "cell_type": "code",
   "execution_count": null,
   "outputs": [],
   "source": [
    "with open('results/evaluation_result.txt', 'a') as f:\n",
    "    f.write('\\n==================roberta_video_games_8_add==================\\n')\n",
    "    f.write('best_epoch: ' + str(best_epoch) + '\\n')\n",
    "\n",
    "y_pred = predict(model, test_dataloader)\n",
    "print('model predicted!')\n",
    "saved_path = 'results/roberta_video_games_8.csv'\n",
    "saved_results(y_pred, y_test_video_games, X_test_video_games, saved_path)\n",
    "with open('results/evaluation_result_RoBERTa.txt', 'a') as f:\n",
    "    f.write('test evaluation:' + '\\n')\n",
    "evaliation(y_test_video_games, y_pred)"
   ],
   "metadata": {
    "collapsed": false
   }
  },
  {
   "cell_type": "code",
   "execution_count": null,
   "outputs": [],
   "source": [
    "# 删除变量\n",
    "del model\n",
    "del optimizer\n",
    "del loss_function\n",
    "del scheduler\n",
    "del y_pred\n",
    "del name_best\n",
    "del name_final\n",
    "del best_loss\n",
    "torch.cuda.empty_cache()"
   ],
   "metadata": {
    "collapsed": false
   }
  },
  {
   "cell_type": "markdown",
   "source": [
    "# 2. Model--unfreeze 6 layers"
   ],
   "metadata": {
    "collapsed": false
   }
  },
  {
   "cell_type": "code",
   "execution_count": null,
   "outputs": [],
   "source": [
    "model, optimizer, loss_function, scheduler = model_preparing(train_dataloader,drop_rate,freeze_layers=6)\n"
   ],
   "metadata": {
    "collapsed": false
   }
  },
  {
   "cell_type": "code",
   "execution_count": null,
   "outputs": [],
   "source": [
    "name_best='checkpoints/roberta_video_games_6_best.pt'\n",
    "stats_name='checkpoints/roberta_video_games_6_stats.csv'\n",
    "pic='pictures/roberta_video_games_6.png'\n",
    "train(model, optimizer, scheduler, loss_function, epochs,\n",
    "                        train_dataloader, val_dataloader, name_best, stats_name, pic)"
   ],
   "metadata": {
    "collapsed": false
   }
  },
  {
   "cell_type": "code",
   "execution_count": null,
   "outputs": [],
   "source": [
    "model, optimizer, best_epoch, best_loss = load_ckp(name_best, model, optimizer)"
   ],
   "metadata": {
    "collapsed": false
   }
  },
  {
   "cell_type": "code",
   "execution_count": null,
   "outputs": [],
   "source": [
    "with open('results/evaluation_result_RoBERTa.txt', 'a') as f:\n",
    "    f.write('\\n==================roberta_video_games_6_add==================\\n')\n",
    "    f.write('best_epoch: ' + str(best_epoch) + '\\n')\n",
    "\n",
    "y_pred = predict(model, test_dataloader)\n",
    "print('model predicted!')\n",
    "saved_path = 'results/roberta_video_games_6.csv'\n",
    "saved_results(y_pred, y_test_video_games, X_test_video_games, saved_path)\n",
    "with open('results/evaluation_result_RoBERTa.txt', 'a') as f:\n",
    "    f.write('test evaluation:' + '\\n')\n",
    "evaliation(y_test_video_games, y_pred)"
   ],
   "metadata": {
    "collapsed": false
   }
  },
  {
   "cell_type": "markdown",
   "source": [
    "# Books"
   ],
   "metadata": {
    "collapsed": false
   }
  },
  {
   "cell_type": "code",
   "execution_count": null,
   "outputs": [],
   "source": [
    "drop_rate=0.0\n",
    "num_features=9"
   ],
   "metadata": {
    "collapsed": false
   }
  },
  {
   "cell_type": "code",
   "execution_count": null,
   "outputs": [],
   "source": [
    "# books\n",
    "X_train_books, X_validation_books, X_test_books, y_train_books, y_validation_books, y_test_books = data_load.data_load(tag='all', table_name='features_books')"
   ],
   "metadata": {
    "collapsed": false
   }
  },
  {
   "cell_type": "code",
   "execution_count": null,
   "outputs": [],
   "source": [
    "train_inputs, val_inputs, test_inputs, train_masks, val_masks, test_masks,x_train_features, x_validation_features, x_test_features, y_train, y_validation, y_test, bias_linear=data_preprocessing(X_train_books, X_validation_books, X_test_books, y_train_books, y_validation_books, y_test_books, max_length=max_length)"
   ],
   "metadata": {
    "collapsed": false
   }
  },
  {
   "cell_type": "code",
   "execution_count": null,
   "outputs": [],
   "source": [
    "train_dataloader = create_dataloaders(train_inputs, x_train_features, train_masks,\n",
    "                                      y_train, batch_size, shuffle=True)\n",
    "val_dataloader = create_dataloaders(val_inputs, x_validation_features, val_masks,\n",
    "                                    y_validation, batch_size)\n",
    "test_dataloader = create_dataloaders(test_inputs, x_test_features, test_masks,\n",
    "                                     y_test, batch_size)"
   ],
   "metadata": {
    "collapsed": false
   }
  },
  {
   "cell_type": "code",
   "execution_count": null,
   "outputs": [],
   "source": [
    "#check dataloader\n",
    "for batch in train_dataloader:\n",
    "    batch_inputs, batch_inputs_add, batch_masks, batch_labels = tuple(b.to(device) for b in batch)\n",
    "    print(batch_inputs.shape)\n",
    "    print(batch_inputs_add.shape)\n",
    "    print(batch_masks.shape)\n",
    "    print(batch_labels.shape)\n",
    "    break"
   ],
   "metadata": {
    "collapsed": false
   }
  },
  {
   "cell_type": "code",
   "execution_count": null,
   "outputs": [],
   "source": [
    "model, optimizer, loss_function, scheduler=model_preparing(num_features,train_dataloader,drop_rate,freeze_layers='all')"
   ],
   "metadata": {
    "collapsed": false
   }
  },
  {
   "cell_type": "code",
   "execution_count": null,
   "outputs": [],
   "source": [
    "name_best='checkpoints/roberta_books_all_best.pt'\n",
    "stats_name='checkpoints/roberta_books_all_stats.csv'\n",
    "pic='pictures/roberta_books_all.png'\n",
    "train(model, optimizer, scheduler, loss_function, epochs,\n",
    "              train_dataloader,val_dataloader, name_best, stats_name, pic)"
   ],
   "metadata": {
    "collapsed": false
   }
  },
  {
   "cell_type": "code",
   "execution_count": null,
   "outputs": [],
   "source": [
    "# load best\n",
    "model, optimizer, best_epoch, best_loss = load_ckp(name_best, model, optimizer)"
   ],
   "metadata": {
    "collapsed": false
   }
  },
  {
   "cell_type": "code",
   "execution_count": null,
   "outputs": [],
   "source": [
    "with open('results/evaluation_result_RoBERTa.txt', 'a') as f:\n",
    "    f.write('\\n==================roberta_books_all_add==================\\n')\n",
    "    f.write('best_epoch: ' + str(best_epoch) + '\\n')\n",
    "\n",
    "y_pred = predict(model, test_dataloader)\n",
    "saved_path='results/roberta_books_all_add.csv'\n",
    "saved_results(y_pred,y_test_books,X_test_books,saved_path)"
   ],
   "metadata": {
    "collapsed": false
   }
  },
  {
   "cell_type": "code",
   "execution_count": null,
   "outputs": [],
   "source": [
    "with open('results/evaluation_result_RoBERTa.txt', 'a') as f:\n",
    "    f.write('test evaluation:' + '\\n')\n",
    "evaliation(y_test_books, y_pred)\n",
    "# RMSE:  0.2394088347203378\n",
    "# PCC:  0.5753836697475646\n",
    "# R2:  0.33835532121598627\n",
    "# NDCG:  0.9857299004070295"
   ],
   "metadata": {
    "collapsed": false
   }
  },
  {
   "cell_type": "code",
   "execution_count": null,
   "outputs": [],
   "source": [
    "# 删除变量\n",
    "del model\n",
    "del optimizer\n",
    "del loss_function\n",
    "del scheduler\n",
    "del y_pred\n",
    "del name_best\n",
    "del best_loss"
   ],
   "metadata": {
    "collapsed": false
   }
  },
  {
   "cell_type": "code",
   "execution_count": null,
   "outputs": [],
   "source": [
    "del X_train_books\n",
    "del X_validation_books\n",
    "del X_test_books\n",
    "del y_train_books\n",
    "del y_validation_books\n",
    "del y_test_books\n",
    "del train_inputs\n",
    "del val_inputs\n",
    "del test_inputs\n",
    "del train_masks\n",
    "del val_masks\n",
    "del test_masks\n",
    "del x_train_features\n",
    "del x_validation_features\n",
    "del x_test_features\n",
    "del y_train\n",
    "del y_validation\n",
    "del y_test"
   ],
   "metadata": {
    "collapsed": false
   }
  },
  {
   "cell_type": "markdown",
   "source": [
    "# Cell Phones"
   ],
   "metadata": {
    "collapsed": false
   }
  },
  {
   "cell_type": "code",
   "execution_count": null,
   "outputs": [],
   "source": [
    "num_features=5\n",
    "drop_rate=0.0"
   ],
   "metadata": {
    "collapsed": false
   }
  },
  {
   "cell_type": "markdown",
   "source": [
    "# 1. dataloader"
   ],
   "metadata": {
    "collapsed": false
   }
  },
  {
   "cell_type": "code",
   "execution_count": null,
   "outputs": [],
   "source": [
    "# cell_phones\n",
    "X_train_cell_phones, X_validation_cell_phones, X_test_cell_phones, y_train_cell_phones, y_validation_cell_phones, y_test_cell_phones = data_load.data_load(tag='SPC', table_name='features_cell_phones')\n"
   ],
   "metadata": {
    "collapsed": false
   }
  },
  {
   "cell_type": "code",
   "execution_count": null,
   "outputs": [],
   "source": [
    "train_inputs, val_inputs, test_inputs, train_masks, val_masks, test_masks,x_train_features, x_validation_features, x_test_features, y_train, y_validation, y_test, bias_linear=data_preprocessing(X_train_cell_phones, X_validation_cell_phones, X_test_cell_phones, y_train_cell_phones, y_validation_cell_phones, y_test_cell_phones, max_length=max_length)"
   ],
   "metadata": {
    "collapsed": false
   }
  },
  {
   "cell_type": "code",
   "execution_count": null,
   "outputs": [],
   "source": [
    "train_dataloader = create_dataloaders(train_inputs, x_train_features, train_masks,\n",
    "                                      y_train, batch_size, shuffle=True)\n",
    "val_dataloader = create_dataloaders(val_inputs, x_validation_features, val_masks,\n",
    "                                    y_validation, batch_size)\n",
    "test_dataloader = create_dataloaders(test_inputs, x_test_features, test_masks,\n",
    "                                     y_test, batch_size)"
   ],
   "metadata": {
    "collapsed": false
   }
  },
  {
   "cell_type": "code",
   "execution_count": null,
   "outputs": [],
   "source": [
    "#check dataloader\n",
    "for batch in train_dataloader:\n",
    "    batch_inputs, batch_inputs_add, batch_masks, batch_labels = tuple(b.to(device) for b in batch)\n",
    "    print(batch_inputs.shape)\n",
    "    print(batch_inputs_add.shape)\n",
    "    print(batch_masks.shape)\n",
    "    print(batch_labels.shape)\n",
    "    break"
   ],
   "metadata": {
    "collapsed": false
   }
  },
  {
   "cell_type": "code",
   "execution_count": null,
   "outputs": [],
   "source": [
    "model, optimizer, loss_function, scheduler=model_preparing(num_features,train_dataloader,drop_rate,freeze_layers='all')"
   ],
   "metadata": {
    "collapsed": false
   }
  },
  {
   "cell_type": "code",
   "execution_count": null,
   "outputs": [],
   "source": [
    "name_best='checkpoints/roberta_cell_phones_all_best.pt'\n",
    "stats_name='checkpoints/roberta_cell_phones_all_stats.csv'\n",
    "pic='pictures/roberta_cell_phones_all.png'\n",
    "train(model, optimizer, scheduler, loss_function, epochs,\n",
    "              train_dataloader,val_dataloader, name_best, stats_name, pic)"
   ],
   "metadata": {
    "collapsed": false
   }
  },
  {
   "cell_type": "code",
   "execution_count": null,
   "outputs": [],
   "source": [
    "# load best\n",
    "model, optimizer, best_epoch, best_loss = load_ckp(name_best, model, optimizer)"
   ],
   "metadata": {
    "collapsed": false
   }
  },
  {
   "cell_type": "code",
   "execution_count": null,
   "outputs": [],
   "source": [
    "with open('results/evaluation_result_RoBERTa.txt', 'a') as f:\n",
    "    f.write('\\n==================roberta_cell_phones_all_add==================\\n')\n",
    "    f.write('best_epoch: ' + str(best_epoch) + '\\n')\n",
    "y_pred = predict(model, test_dataloader)\n",
    "saved_path='results/roberta_cell_phones_all_add.csv'\n",
    "saved_results(y_pred,y_test_cell_phones,X_test_cell_phones,saved_path)"
   ],
   "metadata": {
    "collapsed": false
   }
  },
  {
   "cell_type": "code",
   "execution_count": null,
   "outputs": [],
   "source": [
    "with open('results/evaluation_result_RoBERTa.txt', 'a') as f:\n",
    "    f.write('test evaluation:' + '\\n')\n",
    "evaliation(y_test_cell_phones, y_pred)"
   ],
   "metadata": {
    "collapsed": false
   }
  },
  {
   "cell_type": "code",
   "execution_count": null,
   "outputs": [],
   "source": [
    "del model\n",
    "del optimizer\n",
    "del loss_function\n",
    "del scheduler\n",
    "del y_pred\n",
    "del name_best\n",
    "del best_loss"
   ],
   "metadata": {
    "collapsed": false
   }
  },
  {
   "cell_type": "code",
   "execution_count": null,
   "outputs": [],
   "source": [
    "del X_train_cell_phones\n",
    "del X_validation_cell_phones\n",
    "del X_test_cell_phones\n",
    "del y_train_cell_phones\n",
    "del y_validation_cell_phones\n",
    "del y_test_cell_phones\n",
    "del train_inputs\n",
    "del val_inputs\n",
    "del test_inputs\n",
    "del train_masks\n",
    "del val_masks\n",
    "del test_masks\n",
    "del x_train_features\n",
    "del x_validation_features\n",
    "del x_test_features\n",
    "del y_train\n",
    "del y_validation\n",
    "del y_test"
   ],
   "metadata": {
    "collapsed": false
   }
  },
  {
   "cell_type": "markdown",
   "source": [
    "# Electronics"
   ],
   "metadata": {
    "collapsed": false
   }
  },
  {
   "cell_type": "code",
   "execution_count": 17,
   "outputs": [],
   "source": [
    "drop_rate=0.0\n",
    "num_features=5"
   ],
   "metadata": {
    "collapsed": false
   }
  },
  {
   "cell_type": "code",
   "execution_count": 18,
   "outputs": [
    {
     "name": "stderr",
     "output_type": "stream",
     "text": [
      "/Users/xiangzhiping/Code/project_review_helpfulness/data_load.py:18: UserWarning: pandas only supports SQLAlchemy connectable (engine/connection) or database string URI or sqlite3 DBAPI2 connection. Other DBAPI2 objects are not tested. Please consider using SQLAlchemy.\n",
      "  df = pd.read_sql(query, conn)\n"
     ]
    },
    {
     "name": "stdout",
     "output_type": "stream",
     "text": [
      "load features_electronics from MySQL: (64577, 11)!\n",
      "features selection finished!\n",
      "No null values found in the dataset.\n",
      "shape of X_train: (46494, 6)\n",
      "shape of X_validation: (5167, 6)\n",
      "shape of X_test: (12916, 6)\n",
      "shape of y_train: (46494,)\n",
      "shape of y_validation: (5167,)\n",
      "shape of y_test: (12916,)\n",
      "Index(['reviewText', 'review_volume', 'overall', 'readability',\n",
      "       'review_length', 'num_sentences'],\n",
      "      dtype='object')\n"
     ]
    }
   ],
   "source": [
    "# electronics\n",
    "X_train_electronics, X_validation_electronics, X_test_electronics, y_train_electronics, y_validation_electronics, y_test_electronics = data_load.data_load(tag='SPC', table_name='features_electronics')"
   ],
   "metadata": {
    "collapsed": false
   }
  },
  {
   "cell_type": "code",
   "execution_count": 19,
   "outputs": [
    {
     "name": "stdout",
     "output_type": "stream",
     "text": [
      "length of train_inputs: 46494\n",
      "length of val_inputs: 5167\n",
      "length of test_inputs: 12916\n",
      "length of train_masks: 46494\n",
      "shape of X_train: (46494, 5)\n",
      "shape of X_train_numerical: (46494, 5)\n",
      "X_train_numerical:         review_volume   overall  readability  review_length  num_sentences\n",
      "689976      -0.192962  0.926941     1.036183      -0.366243      -0.426600\n",
      "535560       0.305120  0.308084     0.359601      -0.202068      -0.167853\n",
      "802972      -0.235900  0.926941    -0.091453      -0.458591       0.090893\n",
      "341250      -0.250212 -0.929630     0.528747       0.121150      -0.038480\n",
      "402289      -0.347539 -1.548487     1.120756      -0.001981      -0.167853\n",
      "shape of x_train_features: (46494, 5)\n",
      "shape of x_validation_features: (5167, 5)\n",
      "shape of x_test_features: (12916, 5)\n",
      "length of y_train: 46494\n",
      "length of y_validation: 5167\n",
      "length of y_test: 12916\n",
      "bias_linear= 0.7056370034206563\n"
     ]
    }
   ],
   "source": [
    "train_inputs, val_inputs, test_inputs, train_masks, val_masks, test_masks,x_train_features, x_validation_features, x_test_features, y_train, y_validation, y_test, bias_linear=data_preprocessing(X_train_electronics, X_validation_electronics, X_test_electronics, y_train_electronics, y_validation_electronics, y_test_electronics, max_length=max_length)"
   ],
   "metadata": {
    "collapsed": false
   }
  },
  {
   "cell_type": "code",
   "execution_count": 20,
   "outputs": [
    {
     "name": "stderr",
     "output_type": "stream",
     "text": [
      "/var/folders/s9/6ly2nsx50hg7kjfnghxs0bm80000gn/T/ipykernel_84213/3211627108.py:3: UserWarning: Creating a tensor from a list of numpy.ndarrays is extremely slow. Please consider converting the list to a single numpy.ndarray with numpy.array() before converting to a tensor. (Triggered internally at /Users/runner/work/pytorch/pytorch/pytorch/torch/csrc/utils/tensor_new.cpp:264.)\n",
      "  input_add_tensor = torch.tensor(inputs_add).float()\n"
     ]
    }
   ],
   "source": [
    "train_dataloader = create_dataloaders(train_inputs, x_train_features, train_masks,\n",
    "                                      y_train, batch_size, shuffle=True)\n",
    "val_dataloader = create_dataloaders(val_inputs, x_validation_features, val_masks,\n",
    "                                    y_validation, batch_size)\n",
    "test_dataloader = create_dataloaders(test_inputs, x_test_features, test_masks,\n",
    "                                     y_test, batch_size)\n"
   ],
   "metadata": {
    "collapsed": false
   }
  },
  {
   "cell_type": "code",
   "execution_count": 21,
   "outputs": [
    {
     "name": "stdout",
     "output_type": "stream",
     "text": [
      "torch.Size([16, 512])\n",
      "torch.Size([16, 5])\n",
      "torch.Size([16, 512])\n",
      "torch.Size([16])\n"
     ]
    }
   ],
   "source": [
    "#check dataloader\n",
    "for batch in train_dataloader:\n",
    "    batch_inputs, batch_inputs_add, batch_masks, batch_labels = tuple(b.to(device) for b in batch)\n",
    "    print(batch_inputs.shape)\n",
    "    print(batch_inputs_add.shape)\n",
    "    print(batch_masks.shape)\n",
    "    print(batch_labels.shape)\n",
    "    break"
   ],
   "metadata": {
    "collapsed": false
   }
  },
  {
   "cell_type": "code",
   "execution_count": 22,
   "outputs": [
    {
     "name": "stderr",
     "output_type": "stream",
     "text": [
      "Some weights of RobertaModel were not initialized from the model checkpoint at roberta-base and are newly initialized: ['roberta.pooler.dense.bias', 'roberta.pooler.dense.weight']\n",
      "You should probably TRAIN this model on a down-stream task to be able to use it for predictions and inference.\n"
     ]
    }
   ],
   "source": [
    "model, optimizer, loss_function, scheduler=model_preparing(num_features,train_dataloader,drop_rate,freeze_layers='all')"
   ],
   "metadata": {
    "collapsed": false
   }
  },
  {
   "cell_type": "code",
   "execution_count": 23,
   "outputs": [
    {
     "name": "stdout",
     "output_type": "stream",
     "text": [
      "0\n",
      "0 time elapsed for epoch 0:00:00\n"
     ]
    },
    {
     "name": "stderr",
     "output_type": "stream",
     "text": [
      "/var/folders/s9/6ly2nsx50hg7kjfnghxs0bm80000gn/T/ipykernel_84213/328584438.py:28: UserWarning: torch.nn.utils.clip_grad_norm is now deprecated in favor of torch.nn.utils.clip_grad_norm_.\n",
      "  clip_grad_norm(model.parameters(), 100)\n"
     ]
    },
    {
     "name": "stdout",
     "output_type": "stream",
     "text": [
      "250 time elapsed for epoch 0:05:25\n",
      "500 time elapsed for epoch 0:10:56\n",
      "750 time elapsed for epoch 0:16:25\n",
      "1000 time elapsed for epoch 0:22:08\n",
      "1250 time elapsed for epoch 0:27:34\n",
      "1500 time elapsed for epoch 0:32:58\n",
      "1750 time elapsed for epoch 0:38:25\n",
      "2000 time elapsed for epoch 0:43:52\n",
      "2250 time elapsed for epoch 0:49:22\n",
      "2500 time elapsed for epoch 0:54:46\n",
      "2750 time elapsed for epoch 1:00:14\n",
      "training loss 0.09067374529766979 epoch training time 1:03:36\n",
      "validation metrics:  0.09137349019847787\n",
      "-----\n",
      "1\n",
      "0 time elapsed for epoch 0:00:00\n",
      "250 time elapsed for epoch 0:05:27\n",
      "500 time elapsed for epoch 0:10:56\n",
      "750 time elapsed for epoch 0:16:23\n",
      "1000 time elapsed for epoch 0:37:20\n",
      "1250 time elapsed for epoch 0:42:41\n",
      "1500 time elapsed for epoch 0:48:02\n",
      "1750 time elapsed for epoch 0:53:25\n",
      "2000 time elapsed for epoch 0:58:47\n",
      "2250 time elapsed for epoch 1:04:08\n",
      "2500 time elapsed for epoch 1:09:30\n",
      "2750 time elapsed for epoch 1:14:51\n",
      "training loss 0.0870972664915256 epoch training time 1:18:13\n",
      "validation metrics:  0.08551494616888256\n",
      "-----\n",
      "2\n",
      "0 time elapsed for epoch 0:00:00\n",
      "250 time elapsed for epoch 0:05:27\n",
      "500 time elapsed for epoch 0:10:54\n",
      "750 time elapsed for epoch 0:16:21\n",
      "1000 time elapsed for epoch 0:21:46\n",
      "1250 time elapsed for epoch 0:27:03\n",
      "1500 time elapsed for epoch 0:32:26\n",
      "1750 time elapsed for epoch 0:37:53\n",
      "2000 time elapsed for epoch 0:43:19\n",
      "2250 time elapsed for epoch 0:48:43\n",
      "2500 time elapsed for epoch 0:54:09\n",
      "2750 time elapsed for epoch 0:59:36\n",
      "training loss 0.08610510562802297 epoch training time 1:02:59\n",
      "validation metrics:  0.08317252889783021\n",
      "-----\n",
      "3\n",
      "0 time elapsed for epoch 0:00:00\n",
      "250 time elapsed for epoch 0:05:17\n",
      "500 time elapsed for epoch 0:10:38\n",
      "750 time elapsed for epoch 0:16:03\n",
      "1000 time elapsed for epoch 0:21:28\n",
      "1250 time elapsed for epoch 0:26:54\n",
      "1500 time elapsed for epoch 0:32:19\n",
      "1750 time elapsed for epoch 0:37:43\n",
      "2000 time elapsed for epoch 0:43:04\n",
      "2250 time elapsed for epoch 0:48:26\n",
      "2500 time elapsed for epoch 0:53:49\n",
      "2750 time elapsed for epoch 0:59:10\n",
      "training loss 0.08551369387084709 epoch training time 1:02:31\n",
      "validation metrics:  0.08533921392617211\n",
      "-----\n",
      "4\n",
      "0 time elapsed for epoch 0:00:00\n",
      "250 time elapsed for epoch 0:05:21\n",
      "500 time elapsed for epoch 0:10:43\n",
      "750 time elapsed for epoch 0:16:04\n",
      "1000 time elapsed for epoch 0:21:25\n",
      "1250 time elapsed for epoch 0:26:53\n",
      "1500 time elapsed for epoch 0:32:21\n",
      "1750 time elapsed for epoch 0:37:46\n",
      "2000 time elapsed for epoch 0:43:10\n",
      "2250 time elapsed for epoch 0:48:35\n",
      "2500 time elapsed for epoch 0:54:02\n",
      "2750 time elapsed for epoch 0:59:31\n",
      "training loss 0.08479665676856135 epoch training time 1:02:55\n",
      "validation metrics:  0.08239947167735535\n",
      "-----\n",
      "time elapsed for training 6:02:35\n",
      "       training loss  valid loss training time\n",
      "epoch                                         \n",
      "0           0.090674    0.091373       1:03:36\n",
      "1           0.087097    0.085515       1:18:13\n",
      "2           0.086105    0.083173       1:02:59\n",
      "3           0.085514    0.085339       1:02:31\n",
      "4           0.084797    0.082399       1:02:55\n"
     ]
    },
    {
     "data": {
      "text/plain": "<Figure size 1200x600 with 1 Axes>",
      "image/png": "[encoded data removed]"
     },
     "metadata": {},
     "output_type": "display_data"
    }
   ],
   "source": [
    "name_best='checkpoints/roberta_electronics_all_best.pt'\n",
    "stats_name='checkpoints/roberta_electronics_all_stats.csv'\n",
    "pic='pictures/roberta_electronics_all.png'\n",
    "train(model, optimizer, scheduler, loss_function, epochs,\n",
    "              train_dataloader,val_dataloader, name_best, stats_name, pic)"
   ],
   "metadata": {
    "collapsed": false
   }
  },
  {
   "cell_type": "code",
   "execution_count": 24,
   "outputs": [],
   "source": [
    "# load best\n",
    "model, optimizer, best_epoch, best_loss = load_ckp(name_best, model, optimizer)"
   ],
   "metadata": {
    "collapsed": false
   }
  },
  {
   "cell_type": "code",
   "execution_count": 25,
   "outputs": [],
   "source": [
    "with open('results/evaluation_result_RoBERTa.txt', 'a') as f:\n",
    "    f.write('\\n==================roberta_electronics_all_add==================\\n')\n",
    "    f.write('best_epoch: ' + str(best_epoch) + '\\n')\n",
    "y_pred = predict(model, test_dataloader)\n",
    "saved_path='results/roberta_electronics_all_add.csv'\n",
    "saved_results(y_pred,y_test_electronics,X_test_electronics,saved_path)\n"
   ],
   "metadata": {
    "collapsed": false
   }
  },
  {
   "cell_type": "code",
   "execution_count": 26,
   "outputs": [
    {
     "name": "stdout",
     "output_type": "stream",
     "text": [
      "RMSE:  0.28849051921820473\n",
      "PCC:  0.45123880785990894\n",
      "NDCG:  0.982625848456166\n"
     ]
    }
   ],
   "source": [
    "with open('results/evaluation_result_RoBERTa.txt', 'a') as f:\n",
    "    f.write('test evaluation:' + '\\n')\n",
    "evaliation(y_test_electronics, y_pred)\n",
    "\n",
    "#RMSE:  0.2877342903305914\n",
    "# PCC:  0.41425440752369\n",
    "# R2:  0.18957230210959294\n",
    "# NDCG:  0.9811399890344885"
   ],
   "metadata": {
    "collapsed": false
   }
  },
  {
   "cell_type": "code",
   "execution_count": 27,
   "outputs": [],
   "source": [
    "del model\n",
    "del optimizer\n",
    "del loss_function\n",
    "del scheduler\n",
    "del y_pred\n",
    "del name_best\n",
    "del best_loss\n",
    "del X_train_electronics\n",
    "del X_validation_electronics\n",
    "del X_test_electronics\n",
    "del y_train_electronics\n",
    "del y_validation_electronics\n",
    "del y_test_electronics\n",
    "del train_inputs\n",
    "del val_inputs\n",
    "del test_inputs\n",
    "del train_masks\n",
    "del val_masks\n",
    "del test_masks\n",
    "del x_train_features\n",
    "del x_validation_features\n",
    "del x_test_features\n",
    "del y_train\n",
    "del y_validation\n",
    "del y_test"
   ],
   "metadata": {
    "collapsed": false
   }
  },
  {
   "cell_type": "code",
   "execution_count": 27,
   "outputs": [],
   "source": [],
   "metadata": {
    "collapsed": false
   }
  },
  {
   "cell_type": "code",
   "execution_count": null,
   "outputs": [],
   "source": [],
   "metadata": {
    "collapsed": false
   }
  }
 ],
 "metadata": {
  "kernelspec": {
   "display_name": "Python 3",
   "language": "python",
   "name": "python3"
  },
  "language_info": {
   "codemirror_mode": {
    "name": "ipython",
    "version": 2
   },
   "file_extension": ".py",
   "mimetype": "text/x-python",
   "name": "python",
   "nbconvert_exporter": "python",
   "pygments_lexer": "ipython2",
   "version": "2.7.6"
  }
 },
 "nbformat": 4,
 "nbformat_minor": 0
}
