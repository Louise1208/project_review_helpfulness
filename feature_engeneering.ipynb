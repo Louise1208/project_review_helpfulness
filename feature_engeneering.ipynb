{
 "cells": [
  {
   "cell_type": "code",
   "execution_count": 2,
   "outputs": [],
   "source": [
    "import pandas as pd\n",
    "import mysql.connector\n",
    "import nltk\n",
    "from textblob import TextBlob\n",
    "import matplotlib.pyplot as plt\n",
    "from nltk.corpus import stopwords\n",
    "from nltk.tokenize import word_tokenize\n",
    "from sklearn.feature_extraction.text import TfidfVectorizer\n",
    "import string\n",
    "from sklearn.decomposition import LatentDirichletAllocation\n",
    "import textstat\n",
    "\n",
    "from nltk.stem import PorterStemmer"
   ],
   "metadata": {
    "collapsed": false
   }
  },
  {
   "cell_type": "markdown",
   "source": [
    "\n",
    "# Feature Enginnering"
   ],
   "metadata": {
    "collapsed": false
   }
  },
  {
   "cell_type": "markdown",
   "source": [
    "loud datasets"
   ],
   "metadata": {
    "collapsed": false
   }
  },
  {
   "cell_type": "code",
   "execution_count": 3,
   "outputs": [],
   "source": [
    "def read_data_from_mysql(table_name):\n",
    "    # 设置本地MySQL数据库连接信息\n",
    "    host = 'localhost'  # 替换为本地MySQL数据库的主机名\n",
    "    user = 'root'  # 替换为数据库用户名\n",
    "    password = '991208louise'  # 替换为数据库密码\n",
    "    database = 'amazon'  # 替换为数据库名称\n",
    "\n",
    "    # 建立数据库连接\n",
    "    conn = mysql.connector.connect(host=host, user=user, password=password, database=database)\n",
    "    # Read data from MySQL into a DataFrame\n",
    "    query = f\"SELECT * FROM {table_name};\"\n",
    "    df = pd.read_sql(query, conn)\n",
    "    print(f'load {table_name} from MySQL!')\n",
    "    # df.drop(columns=['reviewerID'], inplace=True)\n",
    "\n",
    "    # Close the database connection\n",
    "    conn.close()\n",
    "\n",
    "    return df"
   ],
   "metadata": {
    "collapsed": false
   }
  },
  {
   "cell_type": "code",
   "execution_count": 4,
   "outputs": [],
   "source": [
    "def saved_mysql(df, table_name):\n",
    "    # 设置本地MySQL数据库连接信息\n",
    "    host = 'localhost'  # 替换为本地MySQL数据库的主机名\n",
    "    user = 'root'  # 替换为数据库用户名\n",
    "    password = '991208louise'  # 替换为数据库密码\n",
    "    database = 'amazon'  # 替换为数据库名称\n",
    "\n",
    "    # 建立数据库连接\n",
    "    conn = mysql.connector.connect(host=host, user=user, password=password, database=database)\n",
    "    # 检查表是否存在\n",
    "    table_exists = False\n",
    "    with conn.cursor() as cursor:\n",
    "        check_table_sql = f\"SHOW TABLES LIKE '{table_name}';\"\n",
    "        cursor.execute(check_table_sql)\n",
    "        table_exists = cursor.fetchone() is not None\n",
    "        print(f\"Table '{table_name}' exists: {table_exists}\")\n",
    "    if table_exists:\n",
    "        print(f\"Table '{table_name}' already exists. Drop it...\")\n",
    "        with conn.cursor() as cursor:\n",
    "            # Move the del_table query execution inside the 'with' block\n",
    "            del_table = f\"DROP TABLE {table_name};\"\n",
    "            cursor.execute(del_table)\n",
    "            # table_exists 设置为反面\n",
    "            table_exists=False\n",
    "\n",
    "    if not table_exists:\n",
    "        print(f\"Table '{table_name}' does not exist. Creating new table...\")\n",
    "        column_types = {\n",
    "            'helpfulness_score': 'FLOAT',\n",
    "            'reviewText': 'LONGTEXT',\n",
    "            'cleaned_review': 'LONGTEXT',\n",
    "            'overall': 'FLOAT',\n",
    "            'review_length': 'INT',\n",
    "            'num_sentences': 'INT',\n",
    "            'avg_sentence_length': 'FLOAT',\n",
    "            'subjectivity': 'FLOAT',\n",
    "            'readability': 'FLOAT',\n",
    "            'timeline': 'INT',\n",
    "            'topic':'int',\n",
    "            'review_volume':'INT',\n",
    "        }\n",
    "\n",
    "\n",
    "\n",
    "        # 构建创建表的SQL语句\n",
    "        create_table_sql = f\"CREATE TABLE {table_name} (\"\n",
    "        for col_name, col_type in column_types.items():\n",
    "            create_table_sql += f\"{col_name} {col_type}, \"\n",
    "        create_table_sql = create_table_sql.rstrip(', ')  # 去除最后一个逗号和空格\n",
    "        create_table_sql += \");\"\n",
    "\n",
    "        # 创建表\n",
    "        with conn.cursor() as cursor:\n",
    "            cursor.execute(create_table_sql)\n",
    "        print(f\"Table '{table_name}' created.\")\n",
    "\n",
    "    df.drop(columns=['reviewerID','asin','helpful_vote','total_vote'], inplace=True)\n",
    "\n",
    "\n",
    "    # 将DataFrame数据插入数据库表\n",
    "    with conn.cursor() as cursor:\n",
    "        for _, row in df.iterrows():\n",
    "            insert_sql = f\"INSERT INTO {table_name} ({', '.join(df.columns)}) VALUES ({', '.join(['%s'] * len(df.columns))})\"\n",
    "            cursor.execute(insert_sql, tuple(row))\n",
    "\n",
    "    # 提交数据\n",
    "    conn.commit()\n",
    "    print(f'Finished saving {table_name} to MySQL!')\n",
    "    # 关闭数据库连接\n",
    "    conn.close()\n"
   ],
   "metadata": {
    "collapsed": false
   }
  },
  {
   "cell_type": "markdown",
   "source": [
    "# **Content Features**"
   ],
   "metadata": {
    "collapsed": false
   }
  },
  {
   "cell_type": "code",
   "execution_count": 4,
   "outputs": [],
   "source": [
    "def preprocess_text(text):\n",
    "    # Tokenize text\n",
    "    words = word_tokenize(text)\n",
    "\n",
    "    # Remove stopwords\n",
    "    stop_words = set(stopwords.words('english'))\n",
    "    words = [word for word in words if word.lower() not in stop_words]\n",
    "\n",
    "    # Remove punctuation from within words\n",
    "    words = [word.translate(str.maketrans('', '', string.punctuation)) for word in words]\n",
    "    # lower capitalization\n",
    "    words = [word.lower() for word in words]\n",
    "\n",
    "\n",
    "    # Stem words\n",
    "    stemmer = PorterStemmer()\n",
    "    words = [stemmer.stem(word) for word in words]\n",
    "    # Remove words with length less than 3\n",
    "    words = [word for word in words if len(word) >= 3]\n",
    "\n",
    "    return ' '.join(words)\n",
    "\n",
    "\n",
    "\n",
    "def clean_text(df):\n",
    "    df['cleaned_review'] = df['reviewText'].apply(preprocess_text)\n",
    "    # print(df['cleaned_review'].head())\n",
    "    print('\\nText cleaned!')\n",
    "    return df"
   ],
   "metadata": {
    "collapsed": false
   }
  },
  {
   "cell_type": "markdown",
   "source": [
    "Review length\n"
   ],
   "metadata": {
    "collapsed": false
   }
  },
  {
   "cell_type": "code",
   "execution_count": 5,
   "outputs": [],
   "source": [
    "def review_length(df):\n",
    "    df['review_length']=df['reviewText'].apply(words_count)\n",
    "    print('\\nReview length extracted!')\n",
    "    return df\n",
    "def words_count(text):\n",
    "    # Tokenize text\n",
    "    words = word_tokenize(text)\n",
    "    return len(words)"
   ],
   "metadata": {
    "collapsed": false
   }
  },
  {
   "cell_type": "markdown",
   "source": [
    "Number of Sentence"
   ],
   "metadata": {
    "collapsed": false
   }
  },
  {
   "cell_type": "code",
   "execution_count": 6,
   "outputs": [],
   "source": [
    "# Function to count sentences in each review\n",
    "def count_sentences(review):\n",
    "    sentences = nltk.sent_tokenize(review)\n",
    "    return len(sentences)\n",
    "def num_sentences(df):\n",
    "    df['num_sentences']=df['reviewText'].apply(count_sentences)\n",
    "    print('\\nNumber of sentences extracted!')\n",
    "    return df"
   ],
   "metadata": {
    "collapsed": false
   }
  },
  {
   "cell_type": "markdown",
   "source": [
    "Average Sentence length"
   ],
   "metadata": {
    "collapsed": false
   }
  },
  {
   "cell_type": "code",
   "execution_count": 7,
   "outputs": [],
   "source": [
    "def avg_sentence_length(df):\n",
    "    # print(df['num_sentences'])\n",
    "    df['avg_sentence_length']=df['review_length']/df['num_sentences']\n",
    "    print('\\nAverage sentence length extracted!')\n",
    "    return df"
   ],
   "metadata": {
    "collapsed": false
   }
  },
  {
   "cell_type": "markdown",
   "source": [
    "Subjective"
   ],
   "metadata": {
    "collapsed": false
   }
  },
  {
   "cell_type": "code",
   "execution_count": 8,
   "outputs": [],
   "source": [
    "def get_subjective(review):\n",
    "    blob = TextBlob(review)\n",
    "    subjectivity = blob.sentiment.subjectivity\n",
    "    return subjectivity\n",
    "\n",
    "def subjective(df):\n",
    "    df['subjectivity'] = df['reviewText'].apply(get_subjective)\n",
    "    print('\\nSubjective extracted!')\n",
    "    return df\n"
   ],
   "metadata": {
    "collapsed": false
   }
  },
  {
   "cell_type": "markdown",
   "source": [
    "Readability"
   ],
   "metadata": {
    "collapsed": false
   }
  },
  {
   "cell_type": "code",
   "execution_count": 9,
   "outputs": [],
   "source": [
    "def readability(df):\n",
    "    # Calculate SMOG Index for each review and store in a new column 'smog_index'\n",
    "    df['readability'] = df['reviewText'].apply(lambda x: textstat.smog_index(x))\n",
    "    # Print the DataFrame with the SMOG Index\n",
    "    print('\\nReadability extracted!')\n",
    "    return df"
   ],
   "metadata": {
    "collapsed": false
   }
  },
  {
   "cell_type": "markdown",
   "source": [
    "Timeline"
   ],
   "metadata": {
    "collapsed": false
   }
  },
  {
   "cell_type": "code",
   "execution_count": 10,
   "outputs": [],
   "source": [
    "\n",
    "# 将reviewTime列转换为日期时间类型\n",
    "def timeline(df):\n",
    "    df['reviewTime'] = pd.to_datetime(df['reviewTime'])\n",
    "    # 设置目标日期为2014年7月31日\n",
    "    target_date = pd.to_datetime('2014-07-31')\n",
    "    # 计算每个日期距离目标日期的天数，并将结果保存在新的列'days_before_target'中\n",
    "    df['timeline'] = (target_date - df['reviewTime']).dt.days\n",
    "    df.drop(columns=['reviewTime'], inplace=True)\n",
    "    print('\\nTimeline extracted!')\n",
    "     # 作图显示天数的分布\n",
    "    # plt.hist(df['timeline'], bins=20, edgecolor='black')\n",
    "    # plt.xlabel('Days before 2014-07-31')\n",
    "    # plt.ylabel('Number of Reviews')\n",
    "    # plt.title('Distribution of Reviews Before 2014-07-31')\n",
    "    # plt.show()\n",
    "    return df"
   ],
   "metadata": {
    "collapsed": false
   }
  },
  {
   "cell_type": "markdown",
   "source": [
    "Lexical Features"
   ],
   "metadata": {
    "collapsed": false
   }
  },
  {
   "cell_type": "code",
   "execution_count": 11,
   "outputs": [],
   "source": [
    "tfidf_vectorizer = TfidfVectorizer(max_features=500, max_df=0.95,min_df=0.1, stop_words='english',)\n",
    "def TFIDF(df):\n",
    "    tfidf_matrix = tfidf_vectorizer.fit_transform(df['cleaned_review'])\n",
    "    feature_names=tfidf_vectorizer.get_feature_names_out()\n",
    "    # feature_names = np.array(feature_names)\n",
    "    feature_names.tolist()\n",
    "    # 将list保存为txt文件\n",
    "    with open('results/feature_names.txt', 'a') as f:\n",
    "        for item in feature_names:\n",
    "            f.write(\"%s\\n\" % item)\n",
    "\n",
    "    return tfidf_matrix\n",
    "\n",
    "# def Lexical(df):\n",
    "#     # 将文本数据转换为TF-IDF矩阵\n",
    "#     tfidf_matrix = TFIDF(df)\n",
    "#     # 将计算得到的TF-IDF矩阵保存到新列'lexical'中\n",
    "#     df['lexical'] = [row for row in tfidf_matrix.toarray()]\n",
    "#     print('\\nLexical features extracted!')\n",
    "#\n",
    "#     return df"
   ],
   "metadata": {
    "collapsed": false
   }
  },
  {
   "cell_type": "markdown",
   "source": [
    "latent review topics distribution"
   ],
   "metadata": {
    "collapsed": false
   }
  },
  {
   "cell_type": "code",
   "execution_count": 12,
   "outputs": [],
   "source": [
    "import pandas as pd\n",
    "import numpy as np\n",
    "from sklearn.feature_extraction.text import TfidfVectorizer\n",
    "from sklearn.decomposition import NMF\n",
    "from sklearn.preprocessing import normalize\n",
    "\n",
    "# 假设您的数据存储在一个名为df的DataFrame中，包含一个名为'cleaned_review'的列\n",
    "def topics(df):\n",
    "    tfidf=TFIDF(df)\n",
    "    print('tfidf get')\n",
    "    # 使用NMF模型提取主题\n",
    "    num_topics = 10\n",
    "    nmf_model = NMF(n_components=num_topics, random_state=42)\n",
    "    print('nmf_model get')\n",
    "    nmf_topic_matrix = nmf_model.fit_transform(tfidf)\n",
    "    print('nmf_topic_matrix get')\n",
    "\n",
    "    # 规范化主题矩阵\n",
    "    nmf_topic_matrix = normalize(nmf_topic_matrix, norm='l1', axis=1)\n",
    "    print('nmf_topic_matrix normalize')\n",
    "\n",
    "    # 提取主题关键词\n",
    "    feature_names = tfidf_vectorizer.get_feature_names_out()\n",
    "    topic_keywords = []\n",
    "    for topic_idx, topic in enumerate(nmf_model.components_):\n",
    "        top_keywords_idx = topic.argsort()[-10:][::-1]\n",
    "        top_keywords = [feature_names[i] for i in top_keywords_idx]\n",
    "        topic_keywords.append(top_keywords)\n",
    "\n",
    "    # 保存主题关键词到txt文件\n",
    "    with open('results/topics_keywords.txt', 'a') as f:\n",
    "        for topic_idx, keywords in enumerate(topic_keywords):\n",
    "            f.write(f\"Topic {topic_idx + 1}: {', '.join(keywords)}\\n\")\n",
    "\n",
    "    # 提取可能性最大的主题序号\n",
    "    max_topic_indices = np.argmax(nmf_topic_matrix, axis=1)\n",
    "    df['topic'] = max_topic_indices\n",
    "\n",
    "    print('\\nTopics extracted:')\n",
    "    print('df[topic] get:', df['topic'].head())\n",
    "    return df\n",
    "\n"
   ],
   "metadata": {
    "collapsed": false
   }
  },
  {
   "cell_type": "markdown",
   "source": [
    "review volume"
   ],
   "metadata": {
    "collapsed": false
   }
  },
  {
   "cell_type": "code",
   "execution_count": 13,
   "outputs": [],
   "source": [
    "def review_volume(df):\n",
    "    # Calculate review volume for each product\n",
    "    df['review_volume'] = df.groupby('asin')['asin'].transform('count')\n",
    "    print('\\nReview volume extracted!')\n",
    "    return df"
   ],
   "metadata": {
    "collapsed": false
   }
  },
  {
   "cell_type": "markdown",
   "source": [
    "product information"
   ],
   "metadata": {
    "collapsed": false
   }
  },
  {
   "cell_type": "code",
   "execution_count": 14,
   "outputs": [],
   "source": [
    "# def product_information(df,meta_table):\n",
    "#     meta= read_data_from_mysql(meta_table)\n",
    "#     df = pd.merge(df, meta[['asin', 'title', 'brand', 'description', 'price']],\n",
    "#                      on='asin', how='inner')\n",
    "#     print('\\nProduct information extracted!')\n",
    "#     return df"
   ],
   "metadata": {
    "collapsed": false
   }
  },
  {
   "cell_type": "markdown",
   "source": [
    "**cell phones**"
   ],
   "metadata": {
    "collapsed": false
   }
  },
  {
   "cell_type": "code",
   "execution_count": 15,
   "outputs": [
    {
     "name": "stderr",
     "output_type": "stream",
     "text": [
      "/var/folders/s9/6ly2nsx50hg7kjfnghxs0bm80000gn/T/ipykernel_18686/2787366574.py:12: UserWarning: pandas only supports SQLAlchemy connectable (engine/connection) or database string URI or sqlite3 DBAPI2 connection. Other DBAPI2 objects are not tested. Please consider using SQLAlchemy.\n",
      "  df = pd.read_sql(query, conn)\n"
     ]
    },
    {
     "name": "stdout",
     "output_type": "stream",
     "text": [
      "load cell_phones_reviews_filter from MySQL!\n"
     ]
    },
    {
     "data": {
      "text/plain": "       reviewerID        asin  overall  reviewTime  \\\n0  A1EWN6KZ4HMLT7  011040047X      1.0  2012-08-14   \n1  A180NNPPKWCCU0  0110400550      5.0  2013-07-18   \n2   A3HVRXV0LVJN7  0110400550      5.0  2013-01-13   \n3  A1BJGDS0L1IO6I  0110400550      1.0  2013-01-30   \n4  A2UCUB1VC1SDJK  0110400550      5.0  2012-07-14   \n\n                                          reviewText  helpful_vote  \\\n0  The case pictured is a soft violet color, but ...             2   \n1  case fits perfectly and I always gets complime...             3   \n2  Best phone case ever . Everywhere I go I get a...             4   \n3  ITEM NOT SENT from Blue Top Company in Hong Ko...             0   \n4  This case is extremely durabl;e. I've dropped ...             6   \n\n   total_vote  helpfulness_score  \n0           2                1.0  \n1           3                1.0  \n2           4                1.0  \n3           3                0.0  \n4           6                1.0  ",
      "text/html": "<div>\n<style scoped>\n    .dataframe tbody tr th:only-of-type {\n        vertical-align: middle;\n    }\n\n    .dataframe tbody tr th {\n        vertical-align: top;\n    }\n\n    .dataframe thead th {\n        text-align: right;\n    }\n</style>\n<table border=\"1\" class=\"dataframe\">\n  <thead>\n    <tr style=\"text-align: right;\">\n      <th></th>\n      <th>reviewerID</th>\n      <th>asin</th>\n      <th>overall</th>\n      <th>reviewTime</th>\n      <th>reviewText</th>\n      <th>helpful_vote</th>\n      <th>total_vote</th>\n      <th>helpfulness_score</th>\n    </tr>\n  </thead>\n  <tbody>\n    <tr>\n      <th>0</th>\n      <td>A1EWN6KZ4HMLT7</td>\n      <td>011040047X</td>\n      <td>1.0</td>\n      <td>2012-08-14</td>\n      <td>The case pictured is a soft violet color, but ...</td>\n      <td>2</td>\n      <td>2</td>\n      <td>1.0</td>\n    </tr>\n    <tr>\n      <th>1</th>\n      <td>A180NNPPKWCCU0</td>\n      <td>0110400550</td>\n      <td>5.0</td>\n      <td>2013-07-18</td>\n      <td>case fits perfectly and I always gets complime...</td>\n      <td>3</td>\n      <td>3</td>\n      <td>1.0</td>\n    </tr>\n    <tr>\n      <th>2</th>\n      <td>A3HVRXV0LVJN7</td>\n      <td>0110400550</td>\n      <td>5.0</td>\n      <td>2013-01-13</td>\n      <td>Best phone case ever . Everywhere I go I get a...</td>\n      <td>4</td>\n      <td>4</td>\n      <td>1.0</td>\n    </tr>\n    <tr>\n      <th>3</th>\n      <td>A1BJGDS0L1IO6I</td>\n      <td>0110400550</td>\n      <td>1.0</td>\n      <td>2013-01-30</td>\n      <td>ITEM NOT SENT from Blue Top Company in Hong Ko...</td>\n      <td>0</td>\n      <td>3</td>\n      <td>0.0</td>\n    </tr>\n    <tr>\n      <th>4</th>\n      <td>A2UCUB1VC1SDJK</td>\n      <td>0110400550</td>\n      <td>5.0</td>\n      <td>2012-07-14</td>\n      <td>This case is extremely durabl;e. I've dropped ...</td>\n      <td>6</td>\n      <td>6</td>\n      <td>1.0</td>\n    </tr>\n  </tbody>\n</table>\n</div>"
     },
     "execution_count": 15,
     "metadata": {},
     "output_type": "execute_result"
    }
   ],
   "source": [
    "file_name='cell_phones_reviews_filter'\n",
    "reviews_cell_phones = read_data_from_mysql(file_name)\n",
    "with open('feature_names.txt', 'a') as f:\n",
    "    f.write(\"\\n==============================\\n\" )\n",
    "    f.write(\"%s\\n\" % file_name)\n",
    "with open('topics_keywords.txt', 'a') as f:\n",
    "    f.write(\"\\n==============================\\n\" )\n",
    "    f.write(\"%s\\n\" % file_name)\n",
    "    f.close()\n",
    "\n",
    "reviews_cell_phones.head()"
   ],
   "metadata": {
    "collapsed": false
   }
  },
  {
   "cell_type": "code",
   "execution_count": 16,
   "outputs": [
    {
     "data": {
      "text/plain": "356664"
     },
     "execution_count": 16,
     "metadata": {},
     "output_type": "execute_result"
    }
   ],
   "source": [
    "len(reviews_cell_phones)"
   ],
   "metadata": {
    "collapsed": false
   }
  },
  {
   "cell_type": "code",
   "execution_count": 18,
   "outputs": [
    {
     "name": "stdout",
     "output_type": "stream",
     "text": [
      "\n",
      "Text cleaned!\n",
      "\n",
      "Review length extracted!\n",
      "\n",
      "Number of sentences extracted!\n",
      "\n",
      "Average sentence length extracted!\n",
      "\n",
      "Subjective extracted!\n",
      "\n",
      "Readability extracted!\n",
      "\n",
      "Timeline extracted!\n",
      "tfidf get\n",
      "nmf_model get\n",
      "nmf_topic_matrix get\n",
      "nmf_topic_matrix normalize\n",
      "\n",
      "Topics extracted:\n",
      "df[topic] get: 0    1\n",
      "1    1\n",
      "2    1\n",
      "3    6\n",
      "4    1\n",
      "Name: topic, dtype: int64\n",
      "\n",
      "Review volume extracted!\n"
     ]
    }
   ],
   "source": [
    "reviews_cell_phones=clean_text(reviews_cell_phones)\n",
    "reviews_cell_phones=review_length(reviews_cell_phones)\n",
    "reviews_cell_phones=num_sentences(reviews_cell_phones)\n",
    "reviews_cell_phones=avg_sentence_length(reviews_cell_phones)\n",
    "reviews_cell_phones=subjective(reviews_cell_phones)\n",
    "reviews_cell_phones=readability(reviews_cell_phones)\n",
    "reviews_cell_phones=timeline(reviews_cell_phones)\n",
    "# LDA and TF-ID\n",
    "# reviews_cell_phones=Lexical(reviews_cell_phones)\n",
    "reviews_cell_phones=topics(reviews_cell_phones)\n",
    "# context features:\n",
    "reviews_cell_phones=review_volume(reviews_cell_phones)\n",
    "# reviews_cell_phones=product_information(reviews_cell_phones,'meta_cell_phones')"
   ],
   "metadata": {
    "collapsed": false
   }
  },
  {
   "cell_type": "code",
   "execution_count": 19,
   "outputs": [
    {
     "data": {
      "text/plain": "       reviewerID        asin  overall  \\\n0  A1EWN6KZ4HMLT7  011040047X      1.0   \n1  A180NNPPKWCCU0  0110400550      5.0   \n2   A3HVRXV0LVJN7  0110400550      5.0   \n3  A1BJGDS0L1IO6I  0110400550      1.0   \n4  A2UCUB1VC1SDJK  0110400550      5.0   \n\n                                          reviewText  helpful_vote  \\\n0  The case pictured is a soft violet color, but ...             2   \n1  case fits perfectly and I always gets complime...             3   \n2  Best phone case ever . Everywhere I go I get a...             4   \n3  ITEM NOT SENT from Blue Top Company in Hong Ko...             0   \n4  This case is extremely durabl;e. I've dropped ...             6   \n\n   total_vote  helpfulness_score  \\\n0           2                1.0   \n1           3                1.0   \n2           4                1.0   \n3           3                0.0   \n4           6                1.0   \n\n                                      cleaned_review  review_length  \\\n0  case pictur soft violet color case cover recei...             38   \n1  case fit perfectli alway get compliment crack ...             23   \n2  best phone case ever everywher get ton complim...             25   \n3  item sent blue top compani hong kong two month...             34   \n4  case extrem durabl drop phone atleast ten time...             70   \n\n   num_sentences  avg_sentence_length  subjectivity  readability  timeline  \\\n0              2            19.000000      0.583778          0.0       716   \n1              2            11.500000      1.000000          0.0       378   \n2              3             8.333333      0.650000          8.8       564   \n3              4             8.500000      0.533333          7.2       547   \n4              3            23.333333      0.531481          7.2       747   \n\n   topic  review_volume  \n0      1              1  \n1      1             12  \n2      1             12  \n3      6             12  \n4      1             12  ",
      "text/html": "<div>\n<style scoped>\n    .dataframe tbody tr th:only-of-type {\n        vertical-align: middle;\n    }\n\n    .dataframe tbody tr th {\n        vertical-align: top;\n    }\n\n    .dataframe thead th {\n        text-align: right;\n    }\n</style>\n<table border=\"1\" class=\"dataframe\">\n  <thead>\n    <tr style=\"text-align: right;\">\n      <th></th>\n      <th>reviewerID</th>\n      <th>asin</th>\n      <th>overall</th>\n      <th>reviewText</th>\n      <th>helpful_vote</th>\n      <th>total_vote</th>\n      <th>helpfulness_score</th>\n      <th>cleaned_review</th>\n      <th>review_length</th>\n      <th>num_sentences</th>\n      <th>avg_sentence_length</th>\n      <th>subjectivity</th>\n      <th>readability</th>\n      <th>timeline</th>\n      <th>topic</th>\n      <th>review_volume</th>\n    </tr>\n  </thead>\n  <tbody>\n    <tr>\n      <th>0</th>\n      <td>A1EWN6KZ4HMLT7</td>\n      <td>011040047X</td>\n      <td>1.0</td>\n      <td>The case pictured is a soft violet color, but ...</td>\n      <td>2</td>\n      <td>2</td>\n      <td>1.0</td>\n      <td>case pictur soft violet color case cover recei...</td>\n      <td>38</td>\n      <td>2</td>\n      <td>19.000000</td>\n      <td>0.583778</td>\n      <td>0.0</td>\n      <td>716</td>\n      <td>1</td>\n      <td>1</td>\n    </tr>\n    <tr>\n      <th>1</th>\n      <td>A180NNPPKWCCU0</td>\n      <td>0110400550</td>\n      <td>5.0</td>\n      <td>case fits perfectly and I always gets complime...</td>\n      <td>3</td>\n      <td>3</td>\n      <td>1.0</td>\n      <td>case fit perfectli alway get compliment crack ...</td>\n      <td>23</td>\n      <td>2</td>\n      <td>11.500000</td>\n      <td>1.000000</td>\n      <td>0.0</td>\n      <td>378</td>\n      <td>1</td>\n      <td>12</td>\n    </tr>\n    <tr>\n      <th>2</th>\n      <td>A3HVRXV0LVJN7</td>\n      <td>0110400550</td>\n      <td>5.0</td>\n      <td>Best phone case ever . Everywhere I go I get a...</td>\n      <td>4</td>\n      <td>4</td>\n      <td>1.0</td>\n      <td>best phone case ever everywher get ton complim...</td>\n      <td>25</td>\n      <td>3</td>\n      <td>8.333333</td>\n      <td>0.650000</td>\n      <td>8.8</td>\n      <td>564</td>\n      <td>1</td>\n      <td>12</td>\n    </tr>\n    <tr>\n      <th>3</th>\n      <td>A1BJGDS0L1IO6I</td>\n      <td>0110400550</td>\n      <td>1.0</td>\n      <td>ITEM NOT SENT from Blue Top Company in Hong Ko...</td>\n      <td>0</td>\n      <td>3</td>\n      <td>0.0</td>\n      <td>item sent blue top compani hong kong two month...</td>\n      <td>34</td>\n      <td>4</td>\n      <td>8.500000</td>\n      <td>0.533333</td>\n      <td>7.2</td>\n      <td>547</td>\n      <td>6</td>\n      <td>12</td>\n    </tr>\n    <tr>\n      <th>4</th>\n      <td>A2UCUB1VC1SDJK</td>\n      <td>0110400550</td>\n      <td>5.0</td>\n      <td>This case is extremely durabl;e. I've dropped ...</td>\n      <td>6</td>\n      <td>6</td>\n      <td>1.0</td>\n      <td>case extrem durabl drop phone atleast ten time...</td>\n      <td>70</td>\n      <td>3</td>\n      <td>23.333333</td>\n      <td>0.531481</td>\n      <td>7.2</td>\n      <td>747</td>\n      <td>1</td>\n      <td>12</td>\n    </tr>\n  </tbody>\n</table>\n</div>"
     },
     "execution_count": 19,
     "metadata": {},
     "output_type": "execute_result"
    }
   ],
   "source": [
    "pd.set_option('display.max_rows', None)  # 自动调整显示宽度，以适应数据\n",
    "reviews_cell_phones.head()"
   ],
   "metadata": {
    "collapsed": false
   }
  },
  {
   "cell_type": "code",
   "execution_count": 20,
   "outputs": [
    {
     "data": {
      "text/plain": "reviewerID              object\nasin                    object\noverall                float64\nreviewText              object\nhelpful_vote             int64\ntotal_vote               int64\nhelpfulness_score      float64\ncleaned_review          object\nreview_length            int64\nnum_sentences            int64\navg_sentence_length    float64\nsubjectivity           float64\nreadability            float64\ntimeline                 int64\ntopic                    int64\nreview_volume            int64\ndtype: object"
     },
     "execution_count": 20,
     "metadata": {},
     "output_type": "execute_result"
    }
   ],
   "source": [
    "reviews_cell_phones.dtypes"
   ],
   "metadata": {
    "collapsed": false
   }
  },
  {
   "cell_type": "code",
   "execution_count": 21,
   "outputs": [
    {
     "data": {
      "text/plain": "356664"
     },
     "execution_count": 21,
     "metadata": {},
     "output_type": "execute_result"
    }
   ],
   "source": [
    "len(reviews_cell_phones)"
   ],
   "metadata": {
    "collapsed": false
   }
  },
  {
   "cell_type": "code",
   "execution_count": 22,
   "outputs": [
    {
     "name": "stdout",
     "output_type": "stream",
     "text": [
      "Table 'features_cell_phones' exists: False\n",
      "Table 'features_cell_phones' does not exist. Creating new table...\n",
      "Table 'features_cell_phones' created.\n",
      "Finished saving features_cell_phones to MySQL!\n"
     ]
    }
   ],
   "source": [
    "saved_mysql(reviews_cell_phones,'features_cell_phones')"
   ],
   "metadata": {
    "collapsed": false
   }
  },
  {
   "cell_type": "markdown",
   "source": [
    "**electronics**"
   ],
   "metadata": {
    "collapsed": false
   }
  },
  {
   "cell_type": "code",
   "execution_count": 23,
   "outputs": [
    {
     "name": "stderr",
     "output_type": "stream",
     "text": [
      "/var/folders/s9/6ly2nsx50hg7kjfnghxs0bm80000gn/T/ipykernel_18686/2787366574.py:12: UserWarning: pandas only supports SQLAlchemy connectable (engine/connection) or database string URI or sqlite3 DBAPI2 connection. Other DBAPI2 objects are not tested. Please consider using SQLAlchemy.\n",
      "  df = pd.read_sql(query, conn)\n"
     ]
    },
    {
     "name": "stdout",
     "output_type": "stream",
     "text": [
      "load electronics_reviews_filter from MySQL!\n"
     ]
    },
    {
     "data": {
      "text/plain": "       reviewerID        asin  overall  reviewTime  \\\n0  A1GI0U4ZRJA8WN  0439886341      1.0  2012-04-18   \n1   AMO214LNFCEI4  0528881469      1.0  2010-11-25   \n2  A28B1G1MSJ6OO1  0528881469      4.0  2010-07-25   \n3  A3N7T0DY83Y4IG  0528881469      3.0  2010-09-09   \n4  A1H8PY3QHMQQA0  0528881469      2.0  2010-11-24   \n\n                                          reviewText  helpful_vote  \\\n0  Do not waste your money on this thing it is te...             4   \n1  I'm a professional OTR truck driver, and I bou...            12   \n2  This is a great truck GPS. I've tried others a...            21   \n3  Well, what can I say.  I've had this unit in m...            43   \n4  Not going to write a long review, even thought...             9   \n\n   total_vote  helpfulness_score  \n0           4           1.000000  \n1          15           0.800000  \n2          22           0.954545  \n3          45           0.955556  \n4          10           0.900000  ",
      "text/html": "<div>\n<style scoped>\n    .dataframe tbody tr th:only-of-type {\n        vertical-align: middle;\n    }\n\n    .dataframe tbody tr th {\n        vertical-align: top;\n    }\n\n    .dataframe thead th {\n        text-align: right;\n    }\n</style>\n<table border=\"1\" class=\"dataframe\">\n  <thead>\n    <tr style=\"text-align: right;\">\n      <th></th>\n      <th>reviewerID</th>\n      <th>asin</th>\n      <th>overall</th>\n      <th>reviewTime</th>\n      <th>reviewText</th>\n      <th>helpful_vote</th>\n      <th>total_vote</th>\n      <th>helpfulness_score</th>\n    </tr>\n  </thead>\n  <tbody>\n    <tr>\n      <th>0</th>\n      <td>A1GI0U4ZRJA8WN</td>\n      <td>0439886341</td>\n      <td>1.0</td>\n      <td>2012-04-18</td>\n      <td>Do not waste your money on this thing it is te...</td>\n      <td>4</td>\n      <td>4</td>\n      <td>1.000000</td>\n    </tr>\n    <tr>\n      <th>1</th>\n      <td>AMO214LNFCEI4</td>\n      <td>0528881469</td>\n      <td>1.0</td>\n      <td>2010-11-25</td>\n      <td>I'm a professional OTR truck driver, and I bou...</td>\n      <td>12</td>\n      <td>15</td>\n      <td>0.800000</td>\n    </tr>\n    <tr>\n      <th>2</th>\n      <td>A28B1G1MSJ6OO1</td>\n      <td>0528881469</td>\n      <td>4.0</td>\n      <td>2010-07-25</td>\n      <td>This is a great truck GPS. I've tried others a...</td>\n      <td>21</td>\n      <td>22</td>\n      <td>0.954545</td>\n    </tr>\n    <tr>\n      <th>3</th>\n      <td>A3N7T0DY83Y4IG</td>\n      <td>0528881469</td>\n      <td>3.0</td>\n      <td>2010-09-09</td>\n      <td>Well, what can I say.  I've had this unit in m...</td>\n      <td>43</td>\n      <td>45</td>\n      <td>0.955556</td>\n    </tr>\n    <tr>\n      <th>4</th>\n      <td>A1H8PY3QHMQQA0</td>\n      <td>0528881469</td>\n      <td>2.0</td>\n      <td>2010-11-24</td>\n      <td>Not going to write a long review, even thought...</td>\n      <td>9</td>\n      <td>10</td>\n      <td>0.900000</td>\n    </tr>\n  </tbody>\n</table>\n</div>"
     },
     "execution_count": 23,
     "metadata": {},
     "output_type": "execute_result"
    }
   ],
   "source": [
    "file_name='electronics_reviews_filter'\n",
    "reviews_electronics = read_data_from_mysql(file_name)\n",
    "with open('feature_names.txt', 'a') as f:\n",
    "    f.write(\"\\n==============================\\n\" )\n",
    "    f.write(\"%s\\n\" % file_name)\n",
    "with open('topics_keywords.txt', 'a') as f:\n",
    "    f.write(\"\\n==============================\\n\" )\n",
    "    f.write(\"%s\\n\" % file_name)\n",
    "    f.close()\n",
    "reviews_electronics.head()"
   ],
   "metadata": {
    "collapsed": false
   }
  },
  {
   "cell_type": "code",
   "execution_count": 24,
   "outputs": [
    {
     "name": "stdout",
     "output_type": "stream",
     "text": [
      "\n",
      "Review length extracted!\n",
      "\n",
      "Number of sentences extracted!\n",
      "\n",
      "Average sentence length extracted!\n",
      "\n",
      "Subjective extracted!\n",
      "\n",
      "Readability extracted!\n",
      "\n",
      "Timeline extracted!\n",
      "\n",
      "Text cleaned!\n",
      "tfidf get\n",
      "nmf_model get\n",
      "nmf_topic_matrix get\n",
      "nmf_topic_matrix normalize\n",
      "\n",
      "Topics extracted:\n",
      "df[topic] get: 581944     2\n",
      "1016398    9\n",
      "1180650    2\n",
      "458434     2\n",
      "845961     9\n",
      "Name: topic, dtype: int64\n",
      "\n",
      "Review volume extracted!\n"
     ]
    }
   ],
   "source": [
    "reviews_electronics=review_length(reviews_electronics)\n",
    "reviews_electronics=reviews_electronics.sort_values(by=['review_length'],ascending=False)\n",
    "reviews_electronics=num_sentences(reviews_electronics)\n",
    "reviews_electronics=avg_sentence_length(reviews_electronics)\n",
    "reviews_electronics=subjective(reviews_electronics)\n",
    "reviews_electronics=readability(reviews_electronics)\n",
    "reviews_electronics=timeline(reviews_electronics)\n",
    "# LDA and TF-IDF\n",
    "reviews_electronics=clean_text(reviews_electronics)\n",
    "# reviews_electronics=Lexical(reviews_electronics)\n",
    "reviews_electronics=topics(reviews_electronics)\n",
    "# context features:\n",
    "reviews_electronics=review_volume(reviews_electronics)\n",
    "# reviews_electronics=product_information(reviews_electronics,'meta_electronics')"
   ],
   "metadata": {
    "collapsed": false
   }
  },
  {
   "cell_type": "code",
   "execution_count": 25,
   "outputs": [
    {
     "data": {
      "text/plain": "             reviewerID        asin  overall  \\\n581944    ADPKRJ2BSFJ0I  B003WJR68U      5.0   \n1016398  A202C0YPF6B1JE  B0078GCLUG      5.0   \n1180650  A3CP1WGNTOSKDA  B0096W1P6G      5.0   \n458434   A2VLF9FE68LFX6  B0035LCZSG      4.0   \n845961   A21OCIA8RSJJFC  B005CNR7B0      5.0   \n\n                                                reviewText  helpful_vote  \\\n581944   I am updating this review constantly so check ...           533   \n1016398  I'll throw out some important information firs...            16   \n1180650  This camera is not for novices and neither is ...           232   \n458434   I have been researching $500-range camcorders ...            15   \n845961   Comparison Review: ATH-A9X, ATH-A900X, AKG K55...            12   \n\n         total_vote  helpfulness_score  review_length  num_sentences  \\\n581944          545           0.977982           6803            382   \n1016398          21           0.761905           6721            289   \n1180650         243           0.954733           6572            320   \n458434           15           1.000000           6538            223   \n845961           18           0.666667           6537            191   \n\n         avg_sentence_length  subjectivity  readability  timeline  \\\n581944             17.808901      0.447258          8.2      1291   \n1016398            23.256055      0.430560          9.8       566   \n1180650            20.537500      0.475533         10.4       597   \n458434             29.318386      0.526734         11.0      1211   \n845961             34.225131      0.488034         12.0       536   \n\n                                            cleaned_review  topic  \\\n581944   updat review constantli check back everi often...      2   \n1016398  throw import inform first packag includ panaso...      9   \n1180650  camera novic neither review fasten seatbelt a9...      2   \n458434   research 500rang camcord week read everi revie...      2   \n845961   comparison review atha9x atha900x akg k550 aud...      9   \n\n         review_volume  \n581944             115  \n1016398             47  \n1180650             44  \n458434              59  \n845961              65  ",
      "text/html": "<div>\n<style scoped>\n    .dataframe tbody tr th:only-of-type {\n        vertical-align: middle;\n    }\n\n    .dataframe tbody tr th {\n        vertical-align: top;\n    }\n\n    .dataframe thead th {\n        text-align: right;\n    }\n</style>\n<table border=\"1\" class=\"dataframe\">\n  <thead>\n    <tr style=\"text-align: right;\">\n      <th></th>\n      <th>reviewerID</th>\n      <th>asin</th>\n      <th>overall</th>\n      <th>reviewText</th>\n      <th>helpful_vote</th>\n      <th>total_vote</th>\n      <th>helpfulness_score</th>\n      <th>review_length</th>\n      <th>num_sentences</th>\n      <th>avg_sentence_length</th>\n      <th>subjectivity</th>\n      <th>readability</th>\n      <th>timeline</th>\n      <th>cleaned_review</th>\n      <th>topic</th>\n      <th>review_volume</th>\n    </tr>\n  </thead>\n  <tbody>\n    <tr>\n      <th>581944</th>\n      <td>ADPKRJ2BSFJ0I</td>\n      <td>B003WJR68U</td>\n      <td>5.0</td>\n      <td>I am updating this review constantly so check ...</td>\n      <td>533</td>\n      <td>545</td>\n      <td>0.977982</td>\n      <td>6803</td>\n      <td>382</td>\n      <td>17.808901</td>\n      <td>0.447258</td>\n      <td>8.2</td>\n      <td>1291</td>\n      <td>updat review constantli check back everi often...</td>\n      <td>2</td>\n      <td>115</td>\n    </tr>\n    <tr>\n      <th>1016398</th>\n      <td>A202C0YPF6B1JE</td>\n      <td>B0078GCLUG</td>\n      <td>5.0</td>\n      <td>I'll throw out some important information firs...</td>\n      <td>16</td>\n      <td>21</td>\n      <td>0.761905</td>\n      <td>6721</td>\n      <td>289</td>\n      <td>23.256055</td>\n      <td>0.430560</td>\n      <td>9.8</td>\n      <td>566</td>\n      <td>throw import inform first packag includ panaso...</td>\n      <td>9</td>\n      <td>47</td>\n    </tr>\n    <tr>\n      <th>1180650</th>\n      <td>A3CP1WGNTOSKDA</td>\n      <td>B0096W1P6G</td>\n      <td>5.0</td>\n      <td>This camera is not for novices and neither is ...</td>\n      <td>232</td>\n      <td>243</td>\n      <td>0.954733</td>\n      <td>6572</td>\n      <td>320</td>\n      <td>20.537500</td>\n      <td>0.475533</td>\n      <td>10.4</td>\n      <td>597</td>\n      <td>camera novic neither review fasten seatbelt a9...</td>\n      <td>2</td>\n      <td>44</td>\n    </tr>\n    <tr>\n      <th>458434</th>\n      <td>A2VLF9FE68LFX6</td>\n      <td>B0035LCZSG</td>\n      <td>4.0</td>\n      <td>I have been researching $500-range camcorders ...</td>\n      <td>15</td>\n      <td>15</td>\n      <td>1.000000</td>\n      <td>6538</td>\n      <td>223</td>\n      <td>29.318386</td>\n      <td>0.526734</td>\n      <td>11.0</td>\n      <td>1211</td>\n      <td>research 500rang camcord week read everi revie...</td>\n      <td>2</td>\n      <td>59</td>\n    </tr>\n    <tr>\n      <th>845961</th>\n      <td>A21OCIA8RSJJFC</td>\n      <td>B005CNR7B0</td>\n      <td>5.0</td>\n      <td>Comparison Review: ATH-A9X, ATH-A900X, AKG K55...</td>\n      <td>12</td>\n      <td>18</td>\n      <td>0.666667</td>\n      <td>6537</td>\n      <td>191</td>\n      <td>34.225131</td>\n      <td>0.488034</td>\n      <td>12.0</td>\n      <td>536</td>\n      <td>comparison review atha9x atha900x akg k550 aud...</td>\n      <td>9</td>\n      <td>65</td>\n    </tr>\n  </tbody>\n</table>\n</div>"
     },
     "execution_count": 25,
     "metadata": {},
     "output_type": "execute_result"
    }
   ],
   "source": [
    "reviews_electronics.head()"
   ],
   "metadata": {
    "collapsed": false
   }
  },
  {
   "cell_type": "code",
   "execution_count": 26,
   "outputs": [
    {
     "data": {
      "text/plain": "reviewerID              object\nasin                    object\noverall                float64\nreviewText              object\nhelpful_vote             int64\ntotal_vote               int64\nhelpfulness_score      float64\nreview_length            int64\nnum_sentences            int64\navg_sentence_length    float64\nsubjectivity           float64\nreadability            float64\ntimeline                 int64\ncleaned_review          object\ntopic                    int64\nreview_volume            int64\ndtype: object"
     },
     "execution_count": 26,
     "metadata": {},
     "output_type": "execute_result"
    }
   ],
   "source": [
    "reviews_electronics.dtypes"
   ],
   "metadata": {
    "collapsed": false
   }
  },
  {
   "cell_type": "code",
   "execution_count": 27,
   "outputs": [
    {
     "data": {
      "text/plain": "1291534"
     },
     "execution_count": 27,
     "metadata": {},
     "output_type": "execute_result"
    }
   ],
   "source": [
    "len(reviews_electronics)"
   ],
   "metadata": {
    "collapsed": false
   }
  },
  {
   "cell_type": "code",
   "execution_count": 28,
   "outputs": [
    {
     "name": "stdout",
     "output_type": "stream",
     "text": [
      "Table 'features_electronics' exists: False\n",
      "Table 'features_electronics' does not exist. Creating new table...\n",
      "Table 'features_electronics' created.\n",
      "Finished saving features_electronics to MySQL!\n"
     ]
    }
   ],
   "source": [
    "saved_mysql(reviews_electronics,'features_electronics')"
   ],
   "metadata": {
    "collapsed": false
   }
  },
  {
   "cell_type": "markdown",
   "source": [
    "**video games**"
   ],
   "metadata": {
    "collapsed": false
   }
  },
  {
   "cell_type": "code",
   "execution_count": 29,
   "outputs": [
    {
     "name": "stderr",
     "output_type": "stream",
     "text": [
      "/var/folders/s9/6ly2nsx50hg7kjfnghxs0bm80000gn/T/ipykernel_18686/2787366574.py:12: UserWarning: pandas only supports SQLAlchemy connectable (engine/connection) or database string URI or sqlite3 DBAPI2 connection. Other DBAPI2 objects are not tested. Please consider using SQLAlchemy.\n",
      "  df = pd.read_sql(query, conn)\n"
     ]
    },
    {
     "name": "stdout",
     "output_type": "stream",
     "text": [
      "load video_games_reviews_filter from MySQL!\n"
     ]
    },
    {
     "data": {
      "text/plain": "       reviewerID        asin  overall  reviewTime  \\\n0  A182S3ANC0W7DL  0439342260      4.0  2012-12-19   \n1   APDCEJMFDO2YT  0439394422      5.0  2010-09-27   \n2  A2H3TQWU51W1WE  043940133X      5.0  2011-03-07   \n3  A3KO10N2ODLHBR  043940133X      5.0  2009-11-16   \n4  A1TBUSGCBTXWFC  043940133X      1.0  2009-10-25   \n\n                                          reviewText  helpful_vote  \\\n0  I am an Ice Cream Truck Vendor (I lease out 20...             2   \n1  Such fast shipping, games is such great condit...             2   \n2  My son who hates doing math loves to play this...             3   \n3  My seven year old has had a lot of fun with th...             8   \n4  Came across this accidentally and took it home...             3   \n\n   total_vote  helpfulness_score  \n0           2           1.000000  \n1           3           0.666667  \n2           3           1.000000  \n3           8           1.000000  \n4           7           0.428571  ",
      "text/html": "<div>\n<style scoped>\n    .dataframe tbody tr th:only-of-type {\n        vertical-align: middle;\n    }\n\n    .dataframe tbody tr th {\n        vertical-align: top;\n    }\n\n    .dataframe thead th {\n        text-align: right;\n    }\n</style>\n<table border=\"1\" class=\"dataframe\">\n  <thead>\n    <tr style=\"text-align: right;\">\n      <th></th>\n      <th>reviewerID</th>\n      <th>asin</th>\n      <th>overall</th>\n      <th>reviewTime</th>\n      <th>reviewText</th>\n      <th>helpful_vote</th>\n      <th>total_vote</th>\n      <th>helpfulness_score</th>\n    </tr>\n  </thead>\n  <tbody>\n    <tr>\n      <th>0</th>\n      <td>A182S3ANC0W7DL</td>\n      <td>0439342260</td>\n      <td>4.0</td>\n      <td>2012-12-19</td>\n      <td>I am an Ice Cream Truck Vendor (I lease out 20...</td>\n      <td>2</td>\n      <td>2</td>\n      <td>1.000000</td>\n    </tr>\n    <tr>\n      <th>1</th>\n      <td>APDCEJMFDO2YT</td>\n      <td>0439394422</td>\n      <td>5.0</td>\n      <td>2010-09-27</td>\n      <td>Such fast shipping, games is such great condit...</td>\n      <td>2</td>\n      <td>3</td>\n      <td>0.666667</td>\n    </tr>\n    <tr>\n      <th>2</th>\n      <td>A2H3TQWU51W1WE</td>\n      <td>043940133X</td>\n      <td>5.0</td>\n      <td>2011-03-07</td>\n      <td>My son who hates doing math loves to play this...</td>\n      <td>3</td>\n      <td>3</td>\n      <td>1.000000</td>\n    </tr>\n    <tr>\n      <th>3</th>\n      <td>A3KO10N2ODLHBR</td>\n      <td>043940133X</td>\n      <td>5.0</td>\n      <td>2009-11-16</td>\n      <td>My seven year old has had a lot of fun with th...</td>\n      <td>8</td>\n      <td>8</td>\n      <td>1.000000</td>\n    </tr>\n    <tr>\n      <th>4</th>\n      <td>A1TBUSGCBTXWFC</td>\n      <td>043940133X</td>\n      <td>1.0</td>\n      <td>2009-10-25</td>\n      <td>Came across this accidentally and took it home...</td>\n      <td>3</td>\n      <td>7</td>\n      <td>0.428571</td>\n    </tr>\n  </tbody>\n</table>\n</div>"
     },
     "execution_count": 29,
     "metadata": {},
     "output_type": "execute_result"
    }
   ],
   "source": [
    "file_name='video_games_reviews_filter'\n",
    "reviews_video_games = read_data_from_mysql(file_name)\n",
    "with open('results/feature_names.txt', 'a') as f:\n",
    "    f.write(\"\\n==============================\\n\" )\n",
    "    f.write(file_name)\n",
    "    f.write('\\n')\n",
    "with open('results/topics_keywords.txt', 'a') as f:\n",
    "    f.write(\"\\n==============================\\n\" )\n",
    "    f.write(file_name)\n",
    "    f.write('\\n')\n",
    "reviews_video_games.head()"
   ],
   "metadata": {
    "collapsed": false
   }
  },
  {
   "cell_type": "code",
   "execution_count": 30,
   "outputs": [
    {
     "name": "stdout",
     "output_type": "stream",
     "text": [
      "\n",
      "Review length extracted!\n",
      "\n",
      "Number of sentences extracted!\n",
      "\n",
      "Average sentence length extracted!\n",
      "\n",
      "Subjective extracted!\n",
      "\n",
      "Readability extracted!\n",
      "\n",
      "Timeline extracted!\n",
      "\n",
      "Text cleaned!\n",
      "tfidf get\n",
      "nmf_model get\n",
      "nmf_topic_matrix get\n",
      "nmf_topic_matrix normalize\n",
      "\n",
      "Topics extracted:\n",
      "df[topic] get: 35781     7\n",
      "107310    7\n",
      "137414    7\n",
      "68182     7\n",
      "70681     7\n",
      "Name: topic, dtype: int64\n",
      "\n",
      "Review volume extracted!\n"
     ]
    }
   ],
   "source": [
    "reviews_video_games=review_length(reviews_video_games)\n",
    "reviews_video_games=reviews_video_games.sort_values(by=['review_length'],ascending=False)\n",
    "reviews_video_games=num_sentences(reviews_video_games)\n",
    "reviews_video_games=avg_sentence_length(reviews_video_games)\n",
    "reviews_video_games=subjective(reviews_video_games)\n",
    "reviews_video_games=readability(reviews_video_games)\n",
    "reviews_video_games=timeline(reviews_video_games)\n",
    "# # # LDA and TF-IDF\n",
    "reviews_video_games=clean_text(reviews_video_games)\n",
    "# reviews_video_games=Lexical(reviews_video_games)\n",
    "# #\n",
    "reviews_video_games=topics(reviews_video_games)\n",
    "# context features:\n",
    "reviews_video_games=review_volume(reviews_video_games)\n",
    "# reviews_video_games=product_information(reviews_video_games,'meta_video_games')"
   ],
   "metadata": {
    "collapsed": false
   }
  },
  {
   "cell_type": "code",
   "execution_count": 31,
   "outputs": [
    {
     "data": {
      "text/plain": "            reviewerID        asin  overall  \\\n35781   A2BN7W1SYPOKXY  B00178630A      1.0   \n107310  A2RMHF5YL8TE27  B0038TT8QM      5.0   \n137414   ALUXVG3MZV3SC  B0045Y0ORG      4.0   \n68182    AOMN8G5VQP74Z  B002BSA1C6      3.0   \n70681   A2582KMXLK2P06  B002BSC54I      4.0   \n\n                                               reviewText  helpful_vote  \\\n35781   I've played Diablo 1 and 2. Now that I have ha...            15   \n107310  So here is the deal...I am reviewing the game,...            22   \n137414  \"Dive to the Titanic\" Review and NotesTo make ...             7   \n68182   This is a review of the whole game - both sing...             1   \n70681   First of all, I have something important to sh...             2   \n\n        total_vote  helpfulness_score  review_length  num_sentences  \\\n35781           16           0.937500           7061            369   \n107310          46           0.478261           6962            301   \n137414           9           0.777778           6890            308   \n68182            3           0.333333           6555            204   \n70681            5           0.400000           6532            264   \n\n        avg_sentence_length  subjectivity  readability  timeline  \\\n35781             19.135501      0.503208          8.3       725   \n107310            23.129568      0.493450          9.9      1406   \n137414            22.370130      0.413449          8.7      1164   \n68182             32.132353      0.481855         10.1      1341   \n70681             24.742424      0.465303         11.0       767   \n\n                                           cleaned_review  topic  \\\n35781   play diablo 300 hour game diablo say game good...      7   \n107310  deal review game steam account annoy anyon per...      7   \n137414  dive titan review notesto make steamtml studio...      7   \n68182   review whole game singl multiplay almost year ...      7   \n70681   first someth import share yall last zelda game...      7   \n\n        review_volume  \n35781            3473  \n107310           1077  \n137414              2  \n68182             359  \n70681             247  ",
      "text/html": "<div>\n<style scoped>\n    .dataframe tbody tr th:only-of-type {\n        vertical-align: middle;\n    }\n\n    .dataframe tbody tr th {\n        vertical-align: top;\n    }\n\n    .dataframe thead th {\n        text-align: right;\n    }\n</style>\n<table border=\"1\" class=\"dataframe\">\n  <thead>\n    <tr style=\"text-align: right;\">\n      <th></th>\n      <th>reviewerID</th>\n      <th>asin</th>\n      <th>overall</th>\n      <th>reviewText</th>\n      <th>helpful_vote</th>\n      <th>total_vote</th>\n      <th>helpfulness_score</th>\n      <th>review_length</th>\n      <th>num_sentences</th>\n      <th>avg_sentence_length</th>\n      <th>subjectivity</th>\n      <th>readability</th>\n      <th>timeline</th>\n      <th>cleaned_review</th>\n      <th>topic</th>\n      <th>review_volume</th>\n    </tr>\n  </thead>\n  <tbody>\n    <tr>\n      <th>35781</th>\n      <td>A2BN7W1SYPOKXY</td>\n      <td>B00178630A</td>\n      <td>1.0</td>\n      <td>I've played Diablo 1 and 2. Now that I have ha...</td>\n      <td>15</td>\n      <td>16</td>\n      <td>0.937500</td>\n      <td>7061</td>\n      <td>369</td>\n      <td>19.135501</td>\n      <td>0.503208</td>\n      <td>8.3</td>\n      <td>725</td>\n      <td>play diablo 300 hour game diablo say game good...</td>\n      <td>7</td>\n      <td>3473</td>\n    </tr>\n    <tr>\n      <th>107310</th>\n      <td>A2RMHF5YL8TE27</td>\n      <td>B0038TT8QM</td>\n      <td>5.0</td>\n      <td>So here is the deal...I am reviewing the game,...</td>\n      <td>22</td>\n      <td>46</td>\n      <td>0.478261</td>\n      <td>6962</td>\n      <td>301</td>\n      <td>23.129568</td>\n      <td>0.493450</td>\n      <td>9.9</td>\n      <td>1406</td>\n      <td>deal review game steam account annoy anyon per...</td>\n      <td>7</td>\n      <td>1077</td>\n    </tr>\n    <tr>\n      <th>137414</th>\n      <td>ALUXVG3MZV3SC</td>\n      <td>B0045Y0ORG</td>\n      <td>4.0</td>\n      <td>\"Dive to the Titanic\" Review and NotesTo make ...</td>\n      <td>7</td>\n      <td>9</td>\n      <td>0.777778</td>\n      <td>6890</td>\n      <td>308</td>\n      <td>22.370130</td>\n      <td>0.413449</td>\n      <td>8.7</td>\n      <td>1164</td>\n      <td>dive titan review notesto make steamtml studio...</td>\n      <td>7</td>\n      <td>2</td>\n    </tr>\n    <tr>\n      <th>68182</th>\n      <td>AOMN8G5VQP74Z</td>\n      <td>B002BSA1C6</td>\n      <td>3.0</td>\n      <td>This is a review of the whole game - both sing...</td>\n      <td>1</td>\n      <td>3</td>\n      <td>0.333333</td>\n      <td>6555</td>\n      <td>204</td>\n      <td>32.132353</td>\n      <td>0.481855</td>\n      <td>10.1</td>\n      <td>1341</td>\n      <td>review whole game singl multiplay almost year ...</td>\n      <td>7</td>\n      <td>359</td>\n    </tr>\n    <tr>\n      <th>70681</th>\n      <td>A2582KMXLK2P06</td>\n      <td>B002BSC54I</td>\n      <td>4.0</td>\n      <td>First of all, I have something important to sh...</td>\n      <td>2</td>\n      <td>5</td>\n      <td>0.400000</td>\n      <td>6532</td>\n      <td>264</td>\n      <td>24.742424</td>\n      <td>0.465303</td>\n      <td>11.0</td>\n      <td>767</td>\n      <td>first someth import share yall last zelda game...</td>\n      <td>7</td>\n      <td>247</td>\n    </tr>\n  </tbody>\n</table>\n</div>"
     },
     "execution_count": 31,
     "metadata": {},
     "output_type": "execute_result"
    }
   ],
   "source": [
    "reviews_video_games.head()"
   ],
   "metadata": {
    "collapsed": false
   }
  },
  {
   "cell_type": "code",
   "execution_count": 32,
   "outputs": [
    {
     "data": {
      "text/plain": "183731"
     },
     "execution_count": 32,
     "metadata": {},
     "output_type": "execute_result"
    }
   ],
   "source": [
    "len(reviews_video_games)"
   ],
   "metadata": {
    "collapsed": false
   }
  },
  {
   "cell_type": "code",
   "execution_count": 33,
   "outputs": [
    {
     "data": {
      "text/plain": "reviewerID              object\nasin                    object\noverall                float64\nreviewText              object\nhelpful_vote             int64\ntotal_vote               int64\nhelpfulness_score      float64\nreview_length            int64\nnum_sentences            int64\navg_sentence_length    float64\nsubjectivity           float64\nreadability            float64\ntimeline                 int64\ncleaned_review          object\ntopic                    int64\nreview_volume            int64\ndtype: object"
     },
     "execution_count": 33,
     "metadata": {},
     "output_type": "execute_result"
    }
   ],
   "source": [
    "reviews_video_games.dtypes"
   ],
   "metadata": {
    "collapsed": false
   }
  },
  {
   "cell_type": "code",
   "execution_count": 34,
   "outputs": [
    {
     "name": "stdout",
     "output_type": "stream",
     "text": [
      "Table 'features_video_games' exists: False\n",
      "Table 'features_video_games' does not exist. Creating new table...\n",
      "Table 'features_video_games' created.\n",
      "Finished saving features_video_games to MySQL!\n"
     ]
    }
   ],
   "source": [
    "saved_mysql(reviews_video_games,'features_video_games')"
   ],
   "metadata": {
    "collapsed": false
   }
  },
  {
   "cell_type": "markdown",
   "source": [
    "**books**"
   ],
   "metadata": {
    "collapsed": false
   }
  },
  {
   "cell_type": "code",
   "execution_count": 15,
   "outputs": [
    {
     "name": "stderr",
     "output_type": "stream",
     "text": [
      "/var/folders/s9/6ly2nsx50hg7kjfnghxs0bm80000gn/T/ipykernel_13126/2787366574.py:12: UserWarning: pandas only supports SQLAlchemy connectable (engine/connection) or database string URI or sqlite3 DBAPI2 connection. Other DBAPI2 objects are not tested. Please consider using SQLAlchemy.\n",
      "  df = pd.read_sql(query, conn)\n"
     ]
    },
    {
     "name": "stdout",
     "output_type": "stream",
     "text": [
      "load books_reviews_filter from MySQL!\n"
     ]
    },
    {
     "data": {
      "text/plain": "       reviewerID        asin  overall  reviewTime  \\\n0  A23PISU0ZLW71C  0000029831      5.0  2014-02-24   \n1   AF7CSSGV93RXN  000100039X      5.0  2012-03-12   \n2  A37473RZR4WOHK  000100039X      5.0  2013-03-14   \n3  A3IS4WGMFR4X65  000100039X      5.0  2009-10-27   \n4  A39FW2WG64TQGO  000100039X      2.0  2012-06-03   \n\n                                          reviewText  helpful_vote  \\\n0  I thought this book was great before buying it...             5   \n1  I first read The Prophet by Kahlil Gibran over...             5   \n2  While it is certainly true that Gibran was no ...             5   \n3  The Prophet is Kahlil Gibran's best known work...             8   \n4  I'm afraid that if I write too much in this re...             2   \n\n   total_vote  helpfulness_score  \n0           5           1.000000  \n1           6           0.833333  \n2           6           0.833333  \n3          10           0.800000  \n4          14           0.142857  ",
      "text/html": "<div>\n<style scoped>\n    .dataframe tbody tr th:only-of-type {\n        vertical-align: middle;\n    }\n\n    .dataframe tbody tr th {\n        vertical-align: top;\n    }\n\n    .dataframe thead th {\n        text-align: right;\n    }\n</style>\n<table border=\"1\" class=\"dataframe\">\n  <thead>\n    <tr style=\"text-align: right;\">\n      <th></th>\n      <th>reviewerID</th>\n      <th>asin</th>\n      <th>overall</th>\n      <th>reviewTime</th>\n      <th>reviewText</th>\n      <th>helpful_vote</th>\n      <th>total_vote</th>\n      <th>helpfulness_score</th>\n    </tr>\n  </thead>\n  <tbody>\n    <tr>\n      <th>0</th>\n      <td>A23PISU0ZLW71C</td>\n      <td>0000029831</td>\n      <td>5.0</td>\n      <td>2014-02-24</td>\n      <td>I thought this book was great before buying it...</td>\n      <td>5</td>\n      <td>5</td>\n      <td>1.000000</td>\n    </tr>\n    <tr>\n      <th>1</th>\n      <td>AF7CSSGV93RXN</td>\n      <td>000100039X</td>\n      <td>5.0</td>\n      <td>2012-03-12</td>\n      <td>I first read The Prophet by Kahlil Gibran over...</td>\n      <td>5</td>\n      <td>6</td>\n      <td>0.833333</td>\n    </tr>\n    <tr>\n      <th>2</th>\n      <td>A37473RZR4WOHK</td>\n      <td>000100039X</td>\n      <td>5.0</td>\n      <td>2013-03-14</td>\n      <td>While it is certainly true that Gibran was no ...</td>\n      <td>5</td>\n      <td>6</td>\n      <td>0.833333</td>\n    </tr>\n    <tr>\n      <th>3</th>\n      <td>A3IS4WGMFR4X65</td>\n      <td>000100039X</td>\n      <td>5.0</td>\n      <td>2009-10-27</td>\n      <td>The Prophet is Kahlil Gibran's best known work...</td>\n      <td>8</td>\n      <td>10</td>\n      <td>0.800000</td>\n    </tr>\n    <tr>\n      <th>4</th>\n      <td>A39FW2WG64TQGO</td>\n      <td>000100039X</td>\n      <td>2.0</td>\n      <td>2012-06-03</td>\n      <td>I'm afraid that if I write too much in this re...</td>\n      <td>2</td>\n      <td>14</td>\n      <td>0.142857</td>\n    </tr>\n  </tbody>\n</table>\n</div>"
     },
     "execution_count": 15,
     "metadata": {},
     "output_type": "execute_result"
    }
   ],
   "source": [
    "file_name='books_reviews_filter'\n",
    "with open('results/feature_names.txt', 'a') as f:\n",
    "    f.write(\"\\n==============================\\n\" )\n",
    "    f.write(file_name)\n",
    "    f.write('\\n')\n",
    "with open('results/topics_keywords.txt', 'a') as f:\n",
    "    f.write(\"\\n==============================\\n\" )\n",
    "    f.write(file_name)\n",
    "    f.write('\\n')\n",
    "reviews_books = read_data_from_mysql(file_name)\n",
    "reviews_books.head()"
   ],
   "metadata": {
    "collapsed": false
   }
  },
  {
   "cell_type": "code",
   "execution_count": 16,
   "outputs": [
    {
     "name": "stdout",
     "output_type": "stream",
     "text": [
      "\n",
      "Review length extracted!\n",
      "\n",
      "Number of sentences extracted!\n",
      "\n",
      "Average sentence length extracted!\n",
      "\n",
      "Subjective extracted!\n"
     ]
    },
    {
     "data": {
      "text/plain": "       reviewerID        asin  overall  reviewTime  \\\n0  A23PISU0ZLW71C  0000029831      5.0  2014-02-24   \n1   AF7CSSGV93RXN  000100039X      5.0  2012-03-12   \n2  A37473RZR4WOHK  000100039X      5.0  2013-03-14   \n3  A3IS4WGMFR4X65  000100039X      5.0  2009-10-27   \n4  A39FW2WG64TQGO  000100039X      2.0  2012-06-03   \n\n                                          reviewText  helpful_vote  \\\n0  I thought this book was great before buying it...             5   \n1  I first read The Prophet by Kahlil Gibran over...             5   \n2  While it is certainly true that Gibran was no ...             5   \n3  The Prophet is Kahlil Gibran's best known work...             8   \n4  I'm afraid that if I write too much in this re...             2   \n\n   total_vote  helpfulness_score  review_length  num_sentences  \\\n0           5           1.000000            110              4   \n1           6           0.833333             82              5   \n2           6           0.833333             67              5   \n3          10           0.800000            442             12   \n4          14           0.142857            210              6   \n\n   avg_sentence_length  subjectivity  \n0            27.500000      0.619324  \n1            16.400000      0.546627  \n2            13.400000      0.511111  \n3            36.833333      0.464232  \n4            35.000000      0.498457  ",
      "text/html": "<div>\n<style scoped>\n    .dataframe tbody tr th:only-of-type {\n        vertical-align: middle;\n    }\n\n    .dataframe tbody tr th {\n        vertical-align: top;\n    }\n\n    .dataframe thead th {\n        text-align: right;\n    }\n</style>\n<table border=\"1\" class=\"dataframe\">\n  <thead>\n    <tr style=\"text-align: right;\">\n      <th></th>\n      <th>reviewerID</th>\n      <th>asin</th>\n      <th>overall</th>\n      <th>reviewTime</th>\n      <th>reviewText</th>\n      <th>helpful_vote</th>\n      <th>total_vote</th>\n      <th>helpfulness_score</th>\n      <th>review_length</th>\n      <th>num_sentences</th>\n      <th>avg_sentence_length</th>\n      <th>subjectivity</th>\n    </tr>\n  </thead>\n  <tbody>\n    <tr>\n      <th>0</th>\n      <td>A23PISU0ZLW71C</td>\n      <td>0000029831</td>\n      <td>5.0</td>\n      <td>2014-02-24</td>\n      <td>I thought this book was great before buying it...</td>\n      <td>5</td>\n      <td>5</td>\n      <td>1.000000</td>\n      <td>110</td>\n      <td>4</td>\n      <td>27.500000</td>\n      <td>0.619324</td>\n    </tr>\n    <tr>\n      <th>1</th>\n      <td>AF7CSSGV93RXN</td>\n      <td>000100039X</td>\n      <td>5.0</td>\n      <td>2012-03-12</td>\n      <td>I first read The Prophet by Kahlil Gibran over...</td>\n      <td>5</td>\n      <td>6</td>\n      <td>0.833333</td>\n      <td>82</td>\n      <td>5</td>\n      <td>16.400000</td>\n      <td>0.546627</td>\n    </tr>\n    <tr>\n      <th>2</th>\n      <td>A37473RZR4WOHK</td>\n      <td>000100039X</td>\n      <td>5.0</td>\n      <td>2013-03-14</td>\n      <td>While it is certainly true that Gibran was no ...</td>\n      <td>5</td>\n      <td>6</td>\n      <td>0.833333</td>\n      <td>67</td>\n      <td>5</td>\n      <td>13.400000</td>\n      <td>0.511111</td>\n    </tr>\n    <tr>\n      <th>3</th>\n      <td>A3IS4WGMFR4X65</td>\n      <td>000100039X</td>\n      <td>5.0</td>\n      <td>2009-10-27</td>\n      <td>The Prophet is Kahlil Gibran's best known work...</td>\n      <td>8</td>\n      <td>10</td>\n      <td>0.800000</td>\n      <td>442</td>\n      <td>12</td>\n      <td>36.833333</td>\n      <td>0.464232</td>\n    </tr>\n    <tr>\n      <th>4</th>\n      <td>A39FW2WG64TQGO</td>\n      <td>000100039X</td>\n      <td>2.0</td>\n      <td>2012-06-03</td>\n      <td>I'm afraid that if I write too much in this re...</td>\n      <td>2</td>\n      <td>14</td>\n      <td>0.142857</td>\n      <td>210</td>\n      <td>6</td>\n      <td>35.000000</td>\n      <td>0.498457</td>\n    </tr>\n  </tbody>\n</table>\n</div>"
     },
     "execution_count": 16,
     "metadata": {},
     "output_type": "execute_result"
    }
   ],
   "source": [
    "reviews_books=review_length(reviews_books)\n",
    "reviews_books=num_sentences(reviews_books)\n",
    "reviews_books=avg_sentence_length(reviews_books)\n",
    "reviews_books=subjective(reviews_books)\n",
    "reviews_books.head()"
   ],
   "metadata": {
    "collapsed": false
   }
  },
  {
   "cell_type": "code",
   "execution_count": 17,
   "outputs": [
    {
     "name": "stdout",
     "output_type": "stream",
     "text": [
      "\n",
      "Readability extracted!\n",
      "\n",
      "Timeline extracted!\n"
     ]
    },
    {
     "data": {
      "text/plain": "       reviewerID        asin  overall  \\\n0  A23PISU0ZLW71C  0000029831      5.0   \n1   AF7CSSGV93RXN  000100039X      5.0   \n2  A37473RZR4WOHK  000100039X      5.0   \n3  A3IS4WGMFR4X65  000100039X      5.0   \n4  A39FW2WG64TQGO  000100039X      2.0   \n\n                                          reviewText  helpful_vote  \\\n0  I thought this book was great before buying it...             5   \n1  I first read The Prophet by Kahlil Gibran over...             5   \n2  While it is certainly true that Gibran was no ...             5   \n3  The Prophet is Kahlil Gibran's best known work...             8   \n4  I'm afraid that if I write too much in this re...             2   \n\n   total_vote  helpfulness_score  review_length  num_sentences  \\\n0           5           1.000000            110              4   \n1           6           0.833333             82              5   \n2           6           0.833333             67              5   \n3          10           0.800000            442             12   \n4          14           0.142857            210              6   \n\n   avg_sentence_length  subjectivity  readability  timeline  \n0            27.500000      0.619324          9.3       157  \n1            16.400000      0.546627          8.8       871  \n2            13.400000      0.511111         13.8       504  \n3            36.833333      0.464232         12.0      1738  \n4            35.000000      0.498457         10.1       788  ",
      "text/html": "<div>\n<style scoped>\n    .dataframe tbody tr th:only-of-type {\n        vertical-align: middle;\n    }\n\n    .dataframe tbody tr th {\n        vertical-align: top;\n    }\n\n    .dataframe thead th {\n        text-align: right;\n    }\n</style>\n<table border=\"1\" class=\"dataframe\">\n  <thead>\n    <tr style=\"text-align: right;\">\n      <th></th>\n      <th>reviewerID</th>\n      <th>asin</th>\n      <th>overall</th>\n      <th>reviewText</th>\n      <th>helpful_vote</th>\n      <th>total_vote</th>\n      <th>helpfulness_score</th>\n      <th>review_length</th>\n      <th>num_sentences</th>\n      <th>avg_sentence_length</th>\n      <th>subjectivity</th>\n      <th>readability</th>\n      <th>timeline</th>\n    </tr>\n  </thead>\n  <tbody>\n    <tr>\n      <th>0</th>\n      <td>A23PISU0ZLW71C</td>\n      <td>0000029831</td>\n      <td>5.0</td>\n      <td>I thought this book was great before buying it...</td>\n      <td>5</td>\n      <td>5</td>\n      <td>1.000000</td>\n      <td>110</td>\n      <td>4</td>\n      <td>27.500000</td>\n      <td>0.619324</td>\n      <td>9.3</td>\n      <td>157</td>\n    </tr>\n    <tr>\n      <th>1</th>\n      <td>AF7CSSGV93RXN</td>\n      <td>000100039X</td>\n      <td>5.0</td>\n      <td>I first read The Prophet by Kahlil Gibran over...</td>\n      <td>5</td>\n      <td>6</td>\n      <td>0.833333</td>\n      <td>82</td>\n      <td>5</td>\n      <td>16.400000</td>\n      <td>0.546627</td>\n      <td>8.8</td>\n      <td>871</td>\n    </tr>\n    <tr>\n      <th>2</th>\n      <td>A37473RZR4WOHK</td>\n      <td>000100039X</td>\n      <td>5.0</td>\n      <td>While it is certainly true that Gibran was no ...</td>\n      <td>5</td>\n      <td>6</td>\n      <td>0.833333</td>\n      <td>67</td>\n      <td>5</td>\n      <td>13.400000</td>\n      <td>0.511111</td>\n      <td>13.8</td>\n      <td>504</td>\n    </tr>\n    <tr>\n      <th>3</th>\n      <td>A3IS4WGMFR4X65</td>\n      <td>000100039X</td>\n      <td>5.0</td>\n      <td>The Prophet is Kahlil Gibran's best known work...</td>\n      <td>8</td>\n      <td>10</td>\n      <td>0.800000</td>\n      <td>442</td>\n      <td>12</td>\n      <td>36.833333</td>\n      <td>0.464232</td>\n      <td>12.0</td>\n      <td>1738</td>\n    </tr>\n    <tr>\n      <th>4</th>\n      <td>A39FW2WG64TQGO</td>\n      <td>000100039X</td>\n      <td>2.0</td>\n      <td>I'm afraid that if I write too much in this re...</td>\n      <td>2</td>\n      <td>14</td>\n      <td>0.142857</td>\n      <td>210</td>\n      <td>6</td>\n      <td>35.000000</td>\n      <td>0.498457</td>\n      <td>10.1</td>\n      <td>788</td>\n    </tr>\n  </tbody>\n</table>\n</div>"
     },
     "execution_count": 17,
     "metadata": {},
     "output_type": "execute_result"
    }
   ],
   "source": [
    "reviews_books=readability(reviews_books)\n",
    "reviews_books=timeline(reviews_books)\n",
    "reviews_books.head()"
   ],
   "metadata": {
    "collapsed": false
   }
  },
  {
   "cell_type": "code",
   "execution_count": 18,
   "outputs": [
    {
     "name": "stdout",
     "output_type": "stream",
     "text": [
      "\n",
      "Text cleaned!\n"
     ]
    }
   ],
   "source": [
    "# LDA and TF-IDF\n",
    "reviews_books=clean_text(reviews_books)"
   ],
   "metadata": {
    "collapsed": false
   }
  },
  {
   "cell_type": "code",
   "execution_count": 20,
   "outputs": [
    {
     "name": "stdout",
     "output_type": "stream",
     "text": [
      "tfidf get\n",
      "nmf_model get\n",
      "nmf_topic_matrix get\n",
      "nmf_topic_matrix normalize\n",
      "\n",
      "Topics extracted:\n",
      "df[topic] get: 0    5\n",
      "1    9\n",
      "2    4\n",
      "3    4\n",
      "4    9\n",
      "Name: topic, dtype: int64\n"
     ]
    }
   ],
   "source": [
    "reviews_books=topics(reviews_books)"
   ],
   "metadata": {
    "collapsed": false
   }
  },
  {
   "cell_type": "code",
   "execution_count": 21,
   "outputs": [
    {
     "data": {
      "text/plain": "       reviewerID        asin  overall  \\\n0  A23PISU0ZLW71C  0000029831      5.0   \n1   AF7CSSGV93RXN  000100039X      5.0   \n2  A37473RZR4WOHK  000100039X      5.0   \n3  A3IS4WGMFR4X65  000100039X      5.0   \n4  A39FW2WG64TQGO  000100039X      2.0   \n\n                                          reviewText  helpful_vote  \\\n0  I thought this book was great before buying it...             5   \n1  I first read The Prophet by Kahlil Gibran over...             5   \n2  While it is certainly true that Gibran was no ...             5   \n3  The Prophet is Kahlil Gibran's best known work...             8   \n4  I'm afraid that if I write too much in this re...             2   \n\n   total_vote  helpfulness_score  review_length  num_sentences  \\\n0           5           1.000000            110              4   \n1           6           0.833333             82              5   \n2           6           0.833333             67              5   \n3          10           0.800000            442             12   \n4          14           0.142857            210              6   \n\n   avg_sentence_length  subjectivity  readability  timeline  \\\n0            27.500000      0.619324          9.3       157   \n1            16.400000      0.546627          8.8       871   \n2            13.400000      0.511111         13.8       504   \n3            36.833333      0.464232         12.0      1738   \n4            35.000000      0.498457         10.1       788   \n\n                                      cleaned_review  topic  \n0  thought book great buy buyer remors realli lik...      5  \n1  first read prophet kahlil gibran year ago read...      9  \n2  certainli true gibran christian necessarili tr...      4  \n3  prophet kahlil gibran best known work western ...      4  \n4  afraid write much review longer actual book he...      9  ",
      "text/html": "<div>\n<style scoped>\n    .dataframe tbody tr th:only-of-type {\n        vertical-align: middle;\n    }\n\n    .dataframe tbody tr th {\n        vertical-align: top;\n    }\n\n    .dataframe thead th {\n        text-align: right;\n    }\n</style>\n<table border=\"1\" class=\"dataframe\">\n  <thead>\n    <tr style=\"text-align: right;\">\n      <th></th>\n      <th>reviewerID</th>\n      <th>asin</th>\n      <th>overall</th>\n      <th>reviewText</th>\n      <th>helpful_vote</th>\n      <th>total_vote</th>\n      <th>helpfulness_score</th>\n      <th>review_length</th>\n      <th>num_sentences</th>\n      <th>avg_sentence_length</th>\n      <th>subjectivity</th>\n      <th>readability</th>\n      <th>timeline</th>\n      <th>cleaned_review</th>\n      <th>topic</th>\n    </tr>\n  </thead>\n  <tbody>\n    <tr>\n      <th>0</th>\n      <td>A23PISU0ZLW71C</td>\n      <td>0000029831</td>\n      <td>5.0</td>\n      <td>I thought this book was great before buying it...</td>\n      <td>5</td>\n      <td>5</td>\n      <td>1.000000</td>\n      <td>110</td>\n      <td>4</td>\n      <td>27.500000</td>\n      <td>0.619324</td>\n      <td>9.3</td>\n      <td>157</td>\n      <td>thought book great buy buyer remors realli lik...</td>\n      <td>5</td>\n    </tr>\n    <tr>\n      <th>1</th>\n      <td>AF7CSSGV93RXN</td>\n      <td>000100039X</td>\n      <td>5.0</td>\n      <td>I first read The Prophet by Kahlil Gibran over...</td>\n      <td>5</td>\n      <td>6</td>\n      <td>0.833333</td>\n      <td>82</td>\n      <td>5</td>\n      <td>16.400000</td>\n      <td>0.546627</td>\n      <td>8.8</td>\n      <td>871</td>\n      <td>first read prophet kahlil gibran year ago read...</td>\n      <td>9</td>\n    </tr>\n    <tr>\n      <th>2</th>\n      <td>A37473RZR4WOHK</td>\n      <td>000100039X</td>\n      <td>5.0</td>\n      <td>While it is certainly true that Gibran was no ...</td>\n      <td>5</td>\n      <td>6</td>\n      <td>0.833333</td>\n      <td>67</td>\n      <td>5</td>\n      <td>13.400000</td>\n      <td>0.511111</td>\n      <td>13.8</td>\n      <td>504</td>\n      <td>certainli true gibran christian necessarili tr...</td>\n      <td>4</td>\n    </tr>\n    <tr>\n      <th>3</th>\n      <td>A3IS4WGMFR4X65</td>\n      <td>000100039X</td>\n      <td>5.0</td>\n      <td>The Prophet is Kahlil Gibran's best known work...</td>\n      <td>8</td>\n      <td>10</td>\n      <td>0.800000</td>\n      <td>442</td>\n      <td>12</td>\n      <td>36.833333</td>\n      <td>0.464232</td>\n      <td>12.0</td>\n      <td>1738</td>\n      <td>prophet kahlil gibran best known work western ...</td>\n      <td>4</td>\n    </tr>\n    <tr>\n      <th>4</th>\n      <td>A39FW2WG64TQGO</td>\n      <td>000100039X</td>\n      <td>2.0</td>\n      <td>I'm afraid that if I write too much in this re...</td>\n      <td>2</td>\n      <td>14</td>\n      <td>0.142857</td>\n      <td>210</td>\n      <td>6</td>\n      <td>35.000000</td>\n      <td>0.498457</td>\n      <td>10.1</td>\n      <td>788</td>\n      <td>afraid write much review longer actual book he...</td>\n      <td>9</td>\n    </tr>\n  </tbody>\n</table>\n</div>"
     },
     "execution_count": 21,
     "metadata": {},
     "output_type": "execute_result"
    }
   ],
   "source": [
    "reviews_books.head()"
   ],
   "metadata": {
    "collapsed": false
   }
  },
  {
   "cell_type": "code",
   "execution_count": 22,
   "outputs": [],
   "source": [
    "# reviewsx_books=Lexical(reviews_books)"
   ],
   "metadata": {
    "collapsed": false
   }
  },
  {
   "cell_type": "code",
   "execution_count": 23,
   "outputs": [
    {
     "name": "stdout",
     "output_type": "stream",
     "text": [
      "\n",
      "Review volume extracted!\n"
     ]
    }
   ],
   "source": [
    "# context features:\n",
    "reviews_books=review_volume(reviews_books)\n",
    "# reviews_books=product_information(reviews_books,'meta_books')"
   ],
   "metadata": {
    "collapsed": false
   }
  },
  {
   "cell_type": "code",
   "execution_count": 24,
   "outputs": [
    {
     "data": {
      "text/plain": "       reviewerID        asin  overall  \\\n0  A23PISU0ZLW71C  0000029831      5.0   \n1   AF7CSSGV93RXN  000100039X      5.0   \n2  A37473RZR4WOHK  000100039X      5.0   \n3  A3IS4WGMFR4X65  000100039X      5.0   \n4  A39FW2WG64TQGO  000100039X      2.0   \n\n                                          reviewText  helpful_vote  \\\n0  I thought this book was great before buying it...             5   \n1  I first read The Prophet by Kahlil Gibran over...             5   \n2  While it is certainly true that Gibran was no ...             5   \n3  The Prophet is Kahlil Gibran's best known work...             8   \n4  I'm afraid that if I write too much in this re...             2   \n\n   total_vote  helpfulness_score  review_length  num_sentences  \\\n0           5           1.000000            110              4   \n1           6           0.833333             82              5   \n2           6           0.833333             67              5   \n3          10           0.800000            442             12   \n4          14           0.142857            210              6   \n\n   avg_sentence_length  subjectivity  readability  timeline  \\\n0            27.500000      0.619324          9.3       157   \n1            16.400000      0.546627          8.8       871   \n2            13.400000      0.511111         13.8       504   \n3            36.833333      0.464232         12.0      1738   \n4            35.000000      0.498457         10.1       788   \n\n                                      cleaned_review  topic  review_volume  \n0  thought book great buy buyer remors realli lik...      5              1  \n1  first read prophet kahlil gibran year ago read...      9             18  \n2  certainli true gibran christian necessarili tr...      4             18  \n3  prophet kahlil gibran best known work western ...      4             18  \n4  afraid write much review longer actual book he...      9             18  ",
      "text/html": "<div>\n<style scoped>\n    .dataframe tbody tr th:only-of-type {\n        vertical-align: middle;\n    }\n\n    .dataframe tbody tr th {\n        vertical-align: top;\n    }\n\n    .dataframe thead th {\n        text-align: right;\n    }\n</style>\n<table border=\"1\" class=\"dataframe\">\n  <thead>\n    <tr style=\"text-align: right;\">\n      <th></th>\n      <th>reviewerID</th>\n      <th>asin</th>\n      <th>overall</th>\n      <th>reviewText</th>\n      <th>helpful_vote</th>\n      <th>total_vote</th>\n      <th>helpfulness_score</th>\n      <th>review_length</th>\n      <th>num_sentences</th>\n      <th>avg_sentence_length</th>\n      <th>subjectivity</th>\n      <th>readability</th>\n      <th>timeline</th>\n      <th>cleaned_review</th>\n      <th>topic</th>\n      <th>review_volume</th>\n    </tr>\n  </thead>\n  <tbody>\n    <tr>\n      <th>0</th>\n      <td>A23PISU0ZLW71C</td>\n      <td>0000029831</td>\n      <td>5.0</td>\n      <td>I thought this book was great before buying it...</td>\n      <td>5</td>\n      <td>5</td>\n      <td>1.000000</td>\n      <td>110</td>\n      <td>4</td>\n      <td>27.500000</td>\n      <td>0.619324</td>\n      <td>9.3</td>\n      <td>157</td>\n      <td>thought book great buy buyer remors realli lik...</td>\n      <td>5</td>\n      <td>1</td>\n    </tr>\n    <tr>\n      <th>1</th>\n      <td>AF7CSSGV93RXN</td>\n      <td>000100039X</td>\n      <td>5.0</td>\n      <td>I first read The Prophet by Kahlil Gibran over...</td>\n      <td>5</td>\n      <td>6</td>\n      <td>0.833333</td>\n      <td>82</td>\n      <td>5</td>\n      <td>16.400000</td>\n      <td>0.546627</td>\n      <td>8.8</td>\n      <td>871</td>\n      <td>first read prophet kahlil gibran year ago read...</td>\n      <td>9</td>\n      <td>18</td>\n    </tr>\n    <tr>\n      <th>2</th>\n      <td>A37473RZR4WOHK</td>\n      <td>000100039X</td>\n      <td>5.0</td>\n      <td>While it is certainly true that Gibran was no ...</td>\n      <td>5</td>\n      <td>6</td>\n      <td>0.833333</td>\n      <td>67</td>\n      <td>5</td>\n      <td>13.400000</td>\n      <td>0.511111</td>\n      <td>13.8</td>\n      <td>504</td>\n      <td>certainli true gibran christian necessarili tr...</td>\n      <td>4</td>\n      <td>18</td>\n    </tr>\n    <tr>\n      <th>3</th>\n      <td>A3IS4WGMFR4X65</td>\n      <td>000100039X</td>\n      <td>5.0</td>\n      <td>The Prophet is Kahlil Gibran's best known work...</td>\n      <td>8</td>\n      <td>10</td>\n      <td>0.800000</td>\n      <td>442</td>\n      <td>12</td>\n      <td>36.833333</td>\n      <td>0.464232</td>\n      <td>12.0</td>\n      <td>1738</td>\n      <td>prophet kahlil gibran best known work western ...</td>\n      <td>4</td>\n      <td>18</td>\n    </tr>\n    <tr>\n      <th>4</th>\n      <td>A39FW2WG64TQGO</td>\n      <td>000100039X</td>\n      <td>2.0</td>\n      <td>I'm afraid that if I write too much in this re...</td>\n      <td>2</td>\n      <td>14</td>\n      <td>0.142857</td>\n      <td>210</td>\n      <td>6</td>\n      <td>35.000000</td>\n      <td>0.498457</td>\n      <td>10.1</td>\n      <td>788</td>\n      <td>afraid write much review longer actual book he...</td>\n      <td>9</td>\n      <td>18</td>\n    </tr>\n  </tbody>\n</table>\n</div>"
     },
     "execution_count": 24,
     "metadata": {},
     "output_type": "execute_result"
    }
   ],
   "source": [
    "reviews_books.head()"
   ],
   "metadata": {
    "collapsed": false
   }
  },
  {
   "cell_type": "code",
   "execution_count": 25,
   "outputs": [
    {
     "data": {
      "text/plain": "reviewerID              object\nasin                    object\noverall                float64\nreviewText              object\nhelpful_vote             int64\ntotal_vote               int64\nhelpfulness_score      float64\nreview_length            int64\nnum_sentences            int64\navg_sentence_length    float64\nsubjectivity           float64\nreadability            float64\ntimeline                 int64\ncleaned_review          object\ntopic                    int64\nreview_volume            int64\ndtype: object"
     },
     "execution_count": 25,
     "metadata": {},
     "output_type": "execute_result"
    }
   ],
   "source": [
    "reviews_books.dtypes"
   ],
   "metadata": {
    "collapsed": false
   }
  },
  {
   "cell_type": "code",
   "execution_count": 26,
   "outputs": [
    {
     "data": {
      "text/plain": "1623922"
     },
     "execution_count": 26,
     "metadata": {},
     "output_type": "execute_result"
    }
   ],
   "source": [
    "len(reviews_books)"
   ],
   "metadata": {
    "collapsed": false
   }
  },
  {
   "cell_type": "code",
   "execution_count": 27,
   "outputs": [
    {
     "name": "stdout",
     "output_type": "stream",
     "text": [
      "Table 'features_books' exists: False\n",
      "Table 'features_books' does not exist. Creating new table...\n",
      "Table 'features_books' created.\n",
      "Finished saving features_books to MySQL!\n"
     ]
    }
   ],
   "source": [
    "saved_mysql(reviews_books,'features_books')"
   ],
   "metadata": {
    "collapsed": false
   }
  },
  {
   "cell_type": "code",
   "execution_count": 30,
   "outputs": [],
   "source": [
    "reviews_tables = ['reviews_cell_phones', 'reviews_electronics', 'reviews_video_games', 'reviews_books']\n",
    "meta_tables = ['meta_cell_phones', 'meta_electronics', 'meta_video_games', 'meta_books']"
   ],
   "metadata": {
    "collapsed": false
   }
  },
  {
   "cell_type": "markdown",
   "source": [],
   "metadata": {
    "collapsed": false
   }
  },
  {
   "cell_type": "markdown",
   "source": [
    "# Feature Selection"
   ],
   "metadata": {
    "collapsed": false
   }
  },
  {
   "cell_type": "code",
   "execution_count": 5,
   "outputs": [
    {
     "name": "stderr",
     "output_type": "stream",
     "text": [
      "/var/folders/s9/6ly2nsx50hg7kjfnghxs0bm80000gn/T/ipykernel_18674/2787366574.py:12: UserWarning: pandas only supports SQLAlchemy connectable (engine/connection) or database string URI or sqlite3 DBAPI2 connection. Other DBAPI2 objects are not tested. Please consider using SQLAlchemy.\n",
      "  df = pd.read_sql(query, conn)\n"
     ]
    },
    {
     "name": "stdout",
     "output_type": "stream",
     "text": [
      "load features_cell_phones from MySQL!\n"
     ]
    },
    {
     "data": {
      "text/plain": "   helpfulness_score                                         reviewText  \\\n0                1.0  The case pictured is a soft violet color, but ...   \n1                1.0  case fits perfectly and I always gets complime...   \n2                1.0  Best phone case ever . Everywhere I go I get a...   \n3                0.0  ITEM NOT SENT from Blue Top Company in Hong Ko...   \n4                1.0  This case is extremely durabl;e. I've dropped ...   \n\n                                      cleaned_review  overall  review_length  \\\n0  case pictur soft violet color case cover recei...      1.0             38   \n1  case fit perfectli alway get compliment crack ...      5.0             23   \n2  best phone case ever everywher get ton complim...      5.0             25   \n3  item sent blue top compani hong kong two month...      1.0             34   \n4  case extrem durabl drop phone atleast ten time...      5.0             70   \n\n   num_sentences  avg_sentence_length  subjectivity  readability  timeline  \\\n0              2             19.00000      0.583778          0.0       716   \n1              2             11.50000      1.000000          0.0       378   \n2              3              8.33333      0.650000          8.8       564   \n3              4              8.50000      0.533333          7.2       547   \n4              3             23.33330      0.531482          7.2       747   \n\n   topic  review_volume  \n0      1              1  \n1      1             12  \n2      1             12  \n3      6             12  \n4      1             12  ",
      "text/html": "<div>\n<style scoped>\n    .dataframe tbody tr th:only-of-type {\n        vertical-align: middle;\n    }\n\n    .dataframe tbody tr th {\n        vertical-align: top;\n    }\n\n    .dataframe thead th {\n        text-align: right;\n    }\n</style>\n<table border=\"1\" class=\"dataframe\">\n  <thead>\n    <tr style=\"text-align: right;\">\n      <th></th>\n      <th>helpfulness_score</th>\n      <th>reviewText</th>\n      <th>cleaned_review</th>\n      <th>overall</th>\n      <th>review_length</th>\n      <th>num_sentences</th>\n      <th>avg_sentence_length</th>\n      <th>subjectivity</th>\n      <th>readability</th>\n      <th>timeline</th>\n      <th>topic</th>\n      <th>review_volume</th>\n    </tr>\n  </thead>\n  <tbody>\n    <tr>\n      <th>0</th>\n      <td>1.0</td>\n      <td>The case pictured is a soft violet color, but ...</td>\n      <td>case pictur soft violet color case cover recei...</td>\n      <td>1.0</td>\n      <td>38</td>\n      <td>2</td>\n      <td>19.00000</td>\n      <td>0.583778</td>\n      <td>0.0</td>\n      <td>716</td>\n      <td>1</td>\n      <td>1</td>\n    </tr>\n    <tr>\n      <th>1</th>\n      <td>1.0</td>\n      <td>case fits perfectly and I always gets complime...</td>\n      <td>case fit perfectli alway get compliment crack ...</td>\n      <td>5.0</td>\n      <td>23</td>\n      <td>2</td>\n      <td>11.50000</td>\n      <td>1.000000</td>\n      <td>0.0</td>\n      <td>378</td>\n      <td>1</td>\n      <td>12</td>\n    </tr>\n    <tr>\n      <th>2</th>\n      <td>1.0</td>\n      <td>Best phone case ever . Everywhere I go I get a...</td>\n      <td>best phone case ever everywher get ton complim...</td>\n      <td>5.0</td>\n      <td>25</td>\n      <td>3</td>\n      <td>8.33333</td>\n      <td>0.650000</td>\n      <td>8.8</td>\n      <td>564</td>\n      <td>1</td>\n      <td>12</td>\n    </tr>\n    <tr>\n      <th>3</th>\n      <td>0.0</td>\n      <td>ITEM NOT SENT from Blue Top Company in Hong Ko...</td>\n      <td>item sent blue top compani hong kong two month...</td>\n      <td>1.0</td>\n      <td>34</td>\n      <td>4</td>\n      <td>8.50000</td>\n      <td>0.533333</td>\n      <td>7.2</td>\n      <td>547</td>\n      <td>6</td>\n      <td>12</td>\n    </tr>\n    <tr>\n      <th>4</th>\n      <td>1.0</td>\n      <td>This case is extremely durabl;e. I've dropped ...</td>\n      <td>case extrem durabl drop phone atleast ten time...</td>\n      <td>5.0</td>\n      <td>70</td>\n      <td>3</td>\n      <td>23.33330</td>\n      <td>0.531482</td>\n      <td>7.2</td>\n      <td>747</td>\n      <td>1</td>\n      <td>12</td>\n    </tr>\n  </tbody>\n</table>\n</div>"
     },
     "execution_count": 5,
     "metadata": {},
     "output_type": "execute_result"
    }
   ],
   "source": [
    "features_cell_phones=read_data_from_mysql('features_cell_phones')\n",
    "features_cell_phones.head()"
   ],
   "metadata": {
    "collapsed": false
   }
  },
  {
   "cell_type": "code",
   "execution_count": 6,
   "outputs": [
    {
     "name": "stderr",
     "output_type": "stream",
     "text": [
      "/var/folders/s9/6ly2nsx50hg7kjfnghxs0bm80000gn/T/ipykernel_18674/2787366574.py:12: UserWarning: pandas only supports SQLAlchemy connectable (engine/connection) or database string URI or sqlite3 DBAPI2 connection. Other DBAPI2 objects are not tested. Please consider using SQLAlchemy.\n",
      "  df = pd.read_sql(query, conn)\n"
     ]
    },
    {
     "name": "stdout",
     "output_type": "stream",
     "text": [
      "load features_electronics from MySQL!\n"
     ]
    }
   ],
   "source": [
    "features_electronics=read_data_from_mysql('features_electronics')"
   ],
   "metadata": {
    "collapsed": false
   }
  },
  {
   "cell_type": "code",
   "execution_count": 7,
   "outputs": [
    {
     "name": "stderr",
     "output_type": "stream",
     "text": [
      "/var/folders/s9/6ly2nsx50hg7kjfnghxs0bm80000gn/T/ipykernel_18674/2787366574.py:12: UserWarning: pandas only supports SQLAlchemy connectable (engine/connection) or database string URI or sqlite3 DBAPI2 connection. Other DBAPI2 objects are not tested. Please consider using SQLAlchemy.\n",
      "  df = pd.read_sql(query, conn)\n"
     ]
    },
    {
     "name": "stdout",
     "output_type": "stream",
     "text": [
      "load features_video_games from MySQL!\n"
     ]
    }
   ],
   "source": [
    "features_video_games=read_data_from_mysql('features_video_games')"
   ],
   "metadata": {
    "collapsed": false
   }
  },
  {
   "cell_type": "code",
   "execution_count": 8,
   "outputs": [
    {
     "name": "stderr",
     "output_type": "stream",
     "text": [
      "/var/folders/s9/6ly2nsx50hg7kjfnghxs0bm80000gn/T/ipykernel_18674/2787366574.py:12: UserWarning: pandas only supports SQLAlchemy connectable (engine/connection) or database string URI or sqlite3 DBAPI2 connection. Other DBAPI2 objects are not tested. Please consider using SQLAlchemy.\n",
      "  df = pd.read_sql(query, conn)\n"
     ]
    },
    {
     "name": "stdout",
     "output_type": "stream",
     "text": [
      "load features_books from MySQL!\n"
     ]
    }
   ],
   "source": [
    "features_books=read_data_from_mysql('features_books')"
   ],
   "metadata": {
    "collapsed": false
   }
  },
  {
   "cell_type": "markdown",
   "source": [
    "**Random Forest**"
   ],
   "metadata": {
    "collapsed": false
   }
  },
  {
   "cell_type": "code",
   "execution_count": 4,
   "outputs": [],
   "source": [
    "from sklearn.ensemble import  RandomForestRegressor"
   ],
   "metadata": {
    "collapsed": false
   }
  },
  {
   "cell_type": "code",
   "execution_count": 11,
   "outputs": [],
   "source": [
    "def random_forest(df):\n",
    "    # 将特征列和目标变量分离\n",
    "    X = df.drop('reviewText', axis=1)\n",
    "    X = X.drop('cleaned_review', axis=1)\n",
    "    X = X.drop('helpfulness_score', axis=1)\n",
    "\n",
    "    y = df['helpfulness_score']\n",
    "\n",
    "    # 初始化随机森林回归模型\n",
    "    rf_model = RandomForestRegressor(random_state=42)\n",
    "\n",
    "    # 训练随机森林模型\n",
    "    rf_model.fit(X, y)\n",
    "\n",
    "    # 获取特征的重要性得分\n",
    "    feature_importance = rf_model.feature_importances_\n",
    "\n",
    "    # 创建一个包含特征和对应重要性得分的DataFrame\n",
    "    feature_importance_df = pd.DataFrame({'Feature': X.columns, 'Importance': feature_importance})\n",
    "\n",
    "    # 将特征按照重要性得分降序排序\n",
    "    feature_importance_df = feature_importance_df.sort_values(by='Importance', ascending=False)\n",
    "\n",
    "    # 输出特征重要性排名,包含他们的重要性得分\n",
    "    print(feature_importance_df)\n"
   ],
   "metadata": {
    "collapsed": false
   }
  },
  {
   "cell_type": "code",
   "execution_count": 12,
   "outputs": [
    {
     "name": "stdout",
     "output_type": "stream",
     "text": [
      "               Feature  Importance\n",
      "6             timeline    0.185235\n",
      "4         subjectivity    0.159374\n",
      "8        review_volume    0.142894\n",
      "1        review_length    0.119980\n",
      "3  avg_sentence_length    0.113795\n",
      "0              overall    0.108185\n",
      "5          readability    0.077281\n",
      "7                topic    0.062649\n",
      "2        num_sentences    0.030607\n"
     ]
    }
   ],
   "source": [
    "random_forest(features_cell_phones)"
   ],
   "metadata": {
    "collapsed": false
   }
  },
  {
   "cell_type": "code",
   "execution_count": 13,
   "outputs": [
    {
     "name": "stderr",
     "output_type": "stream",
     "text": [
      "/var/folders/s9/6ly2nsx50hg7kjfnghxs0bm80000gn/T/ipykernel_25001/2787366574.py:12: UserWarning: pandas only supports SQLAlchemy connectable (engine/connection) or database string URI or sqlite3 DBAPI2 connection. Other DBAPI2 objects are not tested. Please consider using SQLAlchemy.\n",
      "  df = pd.read_sql(query, conn)\n"
     ]
    },
    {
     "name": "stdout",
     "output_type": "stream",
     "text": [
      "load features_electronics from MySQL!\n",
      "               Feature  Importance\n",
      "6             timeline    0.177215\n",
      "4         subjectivity    0.158457\n",
      "8        review_volume    0.144160\n",
      "1        review_length    0.142677\n",
      "0              overall    0.109479\n",
      "3  avg_sentence_length    0.103602\n",
      "5          readability    0.080917\n",
      "7                topic    0.057192\n",
      "2        num_sentences    0.026300\n"
     ]
    }
   ],
   "source": [
    "random_forest(features_electronics)"
   ],
   "metadata": {
    "collapsed": false
   }
  },
  {
   "cell_type": "code",
   "execution_count": 14,
   "outputs": [
    {
     "name": "stderr",
     "output_type": "stream",
     "text": [
      "/var/folders/s9/6ly2nsx50hg7kjfnghxs0bm80000gn/T/ipykernel_25001/2787366574.py:12: UserWarning: pandas only supports SQLAlchemy connectable (engine/connection) or database string URI or sqlite3 DBAPI2 connection. Other DBAPI2 objects are not tested. Please consider using SQLAlchemy.\n",
      "  df = pd.read_sql(query, conn)\n"
     ]
    },
    {
     "name": "stdout",
     "output_type": "stream",
     "text": [
      "load features_video_games from MySQL!\n",
      "               Feature  Importance\n",
      "8        review_volume    0.200529\n",
      "1        review_length    0.174542\n",
      "6             timeline    0.164762\n",
      "4         subjectivity    0.132785\n",
      "3  avg_sentence_length    0.099103\n",
      "5          readability    0.072832\n",
      "0              overall    0.069694\n",
      "7                topic    0.055685\n",
      "2        num_sentences    0.030067\n"
     ]
    }
   ],
   "source": [
    "\n",
    "random_forest(features_video_games)"
   ],
   "metadata": {
    "collapsed": false
   }
  },
  {
   "cell_type": "code",
   "execution_count": 15,
   "outputs": [
    {
     "name": "stderr",
     "output_type": "stream",
     "text": [
      "/var/folders/s9/6ly2nsx50hg7kjfnghxs0bm80000gn/T/ipykernel_25001/2787366574.py:12: UserWarning: pandas only supports SQLAlchemy connectable (engine/connection) or database string URI or sqlite3 DBAPI2 connection. Other DBAPI2 objects are not tested. Please consider using SQLAlchemy.\n",
      "  df = pd.read_sql(query, conn)\n"
     ]
    },
    {
     "name": "stdout",
     "output_type": "stream",
     "text": [
      "load features_books from MySQL!\n",
      "               Feature  Importance\n",
      "8        review_volume    0.166395\n",
      "1        review_length    0.165370\n",
      "0              overall    0.160028\n",
      "6             timeline    0.154993\n",
      "4         subjectivity    0.129131\n",
      "3  avg_sentence_length    0.084343\n",
      "5          readability    0.069275\n",
      "7                topic    0.047142\n",
      "2        num_sentences    0.023322\n"
     ]
    }
   ],
   "source": [
    "\n",
    "random_forest(features_books)"
   ],
   "metadata": {
    "collapsed": false
   }
  },
  {
   "cell_type": "markdown",
   "source": [
    "**Correlation**"
   ],
   "metadata": {
    "collapsed": false
   }
  },
  {
   "cell_type": "code",
   "execution_count": 15,
   "outputs": [],
   "source": [
    "def correlation(df):\n",
    "    # 选择需要进行相关性分析的特征列\n",
    "    features = ['overall', 'review_length', 'num_sentences', 'avg_sentence_length',\n",
    "                'subjectivity', 'readability', 'timeline','topic','review_volume','helpfulness_score']\n",
    "\n",
    "    # 计算特征与目标变量(helpfulness_score)之间的相关系数\n",
    "    correlations_spc = df[features].corr(method='spearman')\n",
    "    correlations_spc = correlations_spc.round(decimals=3)\n",
    "\n",
    "    # 提取特征与目标变量(helpfulness_score)的相关系数\n",
    "    correlations_with_target_spc = correlations_spc['helpfulness_score'].drop('helpfulness_score').abs()\n",
    "    # 输出特征与目标变量(helpfulness_score)的相关系数\n",
    "    print('\\n=========SPC:========\\n',correlations_with_target_spc,'\\n')\n",
    "    print('--------------------------------------------------')\n",
    "\n",
    "\n",
    "\n",
    "        # 计算特征与目标变量(helpfulness_score)之间的相关系数\n",
    "    correlations_pcc = df[features].corr(method='pearson')\n",
    "    correlations_pcc = correlations_pcc.round(decimals=3)\n",
    "\n",
    "    # 提取特征与目标变量(helpfulness_score)的相关系数\n",
    "    correlations_with_target_pcc = correlations_pcc['helpfulness_score'].drop('helpfulness_score').abs()\n",
    "\n",
    "    # 输出特征与目标变量(helpfulness_score)的相关系数\n",
    "    print('\\n=========PCC=========:\\n',correlations_with_target_pcc)\n"
   ],
   "metadata": {
    "collapsed": false
   }
  },
  {
   "cell_type": "code",
   "execution_count": 16,
   "outputs": [
    {
     "name": "stdout",
     "output_type": "stream",
     "text": [
      "\n",
      "=========SPC:========\n",
      " overall                0.287\n",
      "review_length          0.100\n",
      "num_sentences          0.113\n",
      "avg_sentence_length    0.004\n",
      "subjectivity           0.064\n",
      "readability            0.085\n",
      "timeline               0.104\n",
      "topic                  0.016\n",
      "review_volume          0.215\n",
      "Name: helpfulness_score, dtype: float64 \n",
      "\n",
      "--------------------------------------------------\n",
      "\n",
      "=========PCC=========:\n",
      " overall                0.302\n",
      "review_length          0.111\n",
      "num_sentences          0.111\n",
      "avg_sentence_length    0.004\n",
      "subjectivity           0.076\n",
      "readability            0.121\n",
      "timeline               0.104\n",
      "topic                  0.014\n",
      "review_volume          0.097\n",
      "Name: helpfulness_score, dtype: float64\n"
     ]
    }
   ],
   "source": [
    "correlation(features_cell_phones)"
   ],
   "metadata": {
    "collapsed": false
   }
  },
  {
   "cell_type": "code",
   "execution_count": 17,
   "outputs": [
    {
     "name": "stdout",
     "output_type": "stream",
     "text": [
      "\n",
      "=========SPC:========\n",
      " overall                0.299\n",
      "review_length          0.193\n",
      "num_sentences          0.182\n",
      "avg_sentence_length    0.066\n",
      "subjectivity           0.044\n",
      "readability            0.147\n",
      "timeline               0.097\n",
      "topic                  0.014\n",
      "review_volume          0.156\n",
      "Name: helpfulness_score, dtype: float64 \n",
      "\n",
      "--------------------------------------------------\n",
      "\n",
      "=========PCC=========:\n",
      " overall                0.303\n",
      "review_length          0.169\n",
      "num_sentences          0.163\n",
      "avg_sentence_length    0.027\n",
      "subjectivity           0.059\n",
      "readability            0.191\n",
      "timeline               0.113\n",
      "topic                  0.030\n",
      "review_volume          0.064\n",
      "Name: helpfulness_score, dtype: float64\n"
     ]
    }
   ],
   "source": [
    "correlation(features_electronics)"
   ],
   "metadata": {
    "collapsed": false
   }
  },
  {
   "cell_type": "code",
   "execution_count": 18,
   "outputs": [
    {
     "name": "stdout",
     "output_type": "stream",
     "text": [
      "\n",
      "=========SPC:========\n",
      " overall                0.209\n",
      "review_length          0.282\n",
      "num_sentences          0.259\n",
      "avg_sentence_length    0.117\n",
      "subjectivity           0.004\n",
      "readability            0.233\n",
      "timeline               0.147\n",
      "topic                  0.060\n",
      "review_volume          0.180\n",
      "Name: helpfulness_score, dtype: float64 \n",
      "\n",
      "--------------------------------------------------\n",
      "\n",
      "=========PCC=========:\n",
      " overall                0.218\n",
      "review_length          0.191\n",
      "num_sentences          0.178\n",
      "avg_sentence_length    0.038\n",
      "subjectivity           0.020\n",
      "readability            0.251\n",
      "timeline               0.153\n",
      "topic                  0.070\n",
      "review_volume          0.058\n",
      "Name: helpfulness_score, dtype: float64\n"
     ]
    }
   ],
   "source": [
    "correlation(features_video_games)"
   ],
   "metadata": {
    "collapsed": false
   }
  },
  {
   "cell_type": "code",
   "execution_count": 19,
   "outputs": [],
   "source": [
    "# overall,review_length,num_sentences,avg_sentence_length,subjectivity"
   ],
   "metadata": {
    "collapsed": false
   }
  },
  {
   "cell_type": "code",
   "execution_count": 20,
   "outputs": [
    {
     "name": "stdout",
     "output_type": "stream",
     "text": [
      "\n",
      "=========SPC:========\n",
      " overall                0.401\n",
      "review_length          0.278\n",
      "num_sentences          0.245\n",
      "avg_sentence_length    0.166\n",
      "subjectivity           0.017\n",
      "readability            0.218\n",
      "timeline               0.021\n",
      "topic                  0.077\n",
      "review_volume          0.233\n",
      "Name: helpfulness_score, dtype: float64 \n",
      "\n",
      "--------------------------------------------------\n",
      "\n",
      "=========PCC=========:\n",
      " overall                0.396\n",
      "review_length          0.169\n",
      "num_sentences          0.150\n",
      "avg_sentence_length    0.095\n",
      "subjectivity           0.023\n",
      "readability            0.273\n",
      "timeline               0.027\n",
      "topic                  0.085\n",
      "review_volume          0.086\n",
      "Name: helpfulness_score, dtype: float64\n"
     ]
    }
   ],
   "source": [
    "correlation(features_books)"
   ],
   "metadata": {
    "collapsed": false
   }
  },
  {
   "cell_type": "code",
   "execution_count": null,
   "outputs": [],
   "source": [],
   "metadata": {
    "collapsed": false
   }
  }
 ],
 "metadata": {
  "kernelspec": {
   "display_name": "Python 3",
   "language": "python",
   "name": "python3"
  },
  "language_info": {
   "codemirror_mode": {
    "name": "ipython",
    "version": 2
   },
   "file_extension": ".py",
   "mimetype": "text/x-python",
   "name": "python",
   "nbconvert_exporter": "python",
   "pygments_lexer": "ipython2",
   "version": "2.7.6"
  }
 },
 "nbformat": 4,
 "nbformat_minor": 0
}
