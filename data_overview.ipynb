{
 "cells": [
  {
   "cell_type": "code",
   "execution_count": 26,
   "outputs": [],
   "source": [
    "import pandas as pd\n",
    "import gzip\n",
    "import mysql.connector\n",
    "import nltk\n",
    "from langdetect import detect  # 用于检测文本语言\n",
    "\n",
    "# nltk.download()"
   ],
   "metadata": {
    "collapsed": false
   }
  },
  {
   "cell_type": "code",
   "execution_count": 2,
   "outputs": [],
   "source": [
    "def read_data_from_mysql(table_name):\n",
    "    # 设置本地MySQL数据库连接信息\n",
    "    host = 'localhost'  # 替换为本地MySQL数据库的主机名\n",
    "    user = 'root'  # 替换为数据库用户名\n",
    "    password = '991208louise'  # 替换为数据库密码\n",
    "    database = 'amazon'  # 替换为数据库名称\n",
    "\n",
    "    # 建立数据库连接\n",
    "    conn = mysql.connector.connect(host=host, user=user, password=password, database=database)\n",
    "    print(f'Connected to MySQL')\n",
    "    # Read data from MySQL into a DataFrame\n",
    "    query = f\"SELECT * FROM {table_name};\"\n",
    "    df = pd.read_sql(query, conn)\n",
    "    print(f'load {table_name} data from MySQL!')\n",
    "\n",
    "    # Close the database connection\n",
    "    conn.close()\n",
    "\n",
    "    return df"
   ],
   "metadata": {
    "collapsed": false
   }
  },
  {
   "cell_type": "markdown",
   "source": [
    "# *Function*"
   ],
   "metadata": {
    "collapsed": false
   }
  },
  {
   "cell_type": "markdown",
   "source": [
    "# **Load MySQL**"
   ],
   "metadata": {
    "collapsed": false
   }
  },
  {
   "cell_type": "code",
   "execution_count": 3,
   "outputs": [],
   "source": [
    "def saved_mysql(df, table_name):\n",
    "    # 设置本地MySQL数据库连接信息\n",
    "    host = 'localhost'  # 替换为本地MySQL数据库的主机名\n",
    "    user = 'root'  # 替换为数据库用户名\n",
    "    password = '991208louise'  # 替换为数据库密码\n",
    "    database = 'amazon'  # 替换为数据库名称\n",
    "\n",
    "    # 建立数据库连接\n",
    "    conn = mysql.connector.connect(host=host, user=user, password=password, database=database)\n",
    "    # 检查表是否存在\n",
    "    table_exists = False\n",
    "    with conn.cursor() as cursor:\n",
    "        check_table_sql = f\"SHOW TABLES LIKE '{table_name}';\"\n",
    "        cursor.execute(check_table_sql)\n",
    "        table_exists = cursor.fetchone() is not None\n",
    "        # print(f\"Table '{table_name}' exists: {table_exists}\")\n",
    "    # if table_exists:\n",
    "    #     print(f\"Table '{table_name}' already exists. Drop it...\")\n",
    "    #     with conn.cursor() as cursor:\n",
    "    #         # Move the del_table query execution inside the 'with' block\n",
    "    #         del_table = f\"-- DROP TABLE {table_name};\"\n",
    "    #         cursor.execute(del_table)\n",
    "    #         # table_exists 设置为反面\n",
    "    #         table_exists=False\n",
    "\n",
    "    if not table_exists:\n",
    "        print(f\"Table '{table_name}' does not exist. Creating new table...\")\n",
    "\n",
    "            # 定义reviewText列的数据类型为LONGTEXT，helpful列的数据类型为INT\n",
    "        column_types = {\n",
    "                'reviewerID': 'VARCHAR(255)',\n",
    "                'asin': 'VARCHAR(255)',\n",
    "                'overall': 'FLOAT',\n",
    "                'reviewTime': 'DATE',\n",
    "                'reviewText': 'LONGTEXT',\n",
    "                'helpful_vote': 'INT',\n",
    "                'total_vote': 'INT',\n",
    "                'helpfulness_score': 'FLOAT'\n",
    "        }\n",
    "\n",
    "        # 构建创建表的SQL语句\n",
    "        create_table_sql = f\"CREATE TABLE {table_name} (\"\n",
    "        for col_name, col_type in column_types.items():\n",
    "            create_table_sql += f\"{col_name} {col_type}, \"\n",
    "        create_table_sql = create_table_sql.rstrip(', ')  # 去除最后一个逗号和空格\n",
    "        create_table_sql += \");\"\n",
    "\n",
    "        # 创建表\n",
    "        with conn.cursor() as cursor:\n",
    "            cursor.execute(create_table_sql)\n",
    "        print(f\"Table '{table_name}' created.\")\n",
    "\n",
    "    # 将DataFrame数据插入数据库表\n",
    "    with conn.cursor() as cursor:\n",
    "        for _, row in df.iterrows():\n",
    "            insert_sql = f\"INSERT INTO {table_name} ({', '.join(df.columns)}) VALUES ({', '.join(['%s'] * len(df.columns))})\"\n",
    "            cursor.execute(insert_sql, tuple(row))\n",
    "\n",
    "    # 提交数据\n",
    "    conn.commit()\n",
    "\n",
    "    # 关闭数据库连接\n",
    "    conn.close()\n",
    "    # print(f'Finished saving {table_name} to MySQL!')\n"
   ],
   "metadata": {
    "collapsed": false
   }
  },
  {
   "cell_type": "markdown",
   "source": [
    "# **Load Dataset**"
   ],
   "metadata": {
    "collapsed": false
   }
  },
  {
   "cell_type": "code",
   "execution_count": 4,
   "outputs": [],
   "source": [
    "def parse(path):\n",
    "  g = gzip.open(path, 'rb')\n",
    "  for l in g:\n",
    "    yield eval(l)"
   ],
   "metadata": {
    "collapsed": false
   }
  },
  {
   "cell_type": "code",
   "execution_count": 5,
   "outputs": [],
   "source": [
    "# for long dataset(>1000000)\n",
    "def getDF_reviews(path, columns_keep,file_name):\n",
    "    batch_size = 1000\n",
    "    i = 0\n",
    "    # Create an empty list to store individual DataFrames\n",
    "    dataframes =[]\n",
    "    dataframes_list=[]\n",
    "    df = {}\n",
    "    saved=0\n",
    "    for d in parse(path):\n",
    "        df[i] = d\n",
    "        i += 1\n",
    "        if i ==13121199:\n",
    "            file_name=f'{file_name}_1'\n",
    "            print(f'Processed {i} records')\n",
    "\n",
    "        if i % batch_size == 0:\n",
    "            df = pd.DataFrame.from_dict(df, orient='index')\n",
    "            df = df[columns_keep]\n",
    "            # print(f'The dataframe include: {df.columns}')\n",
    "            df=data_format(df)\n",
    "            df=review_data_clean(df)\n",
    "            saved_mysql(df, file_name)\n",
    "            saved+=len(df)\n",
    "            dataframes.append(df)\n",
    "            df = {}\n",
    "            if i % 1000000== 0:\n",
    "                # print(f'Processed {i} records')\n",
    "                dataframes_list.append(pd.concat(dataframes,ignore_index=True))\n",
    "                print(f'\\n================================================================\\n  Saved total {len(dataframes_list)} dataframes to MySQL {file_name} : \\n{saved}\\n================================================================')\n",
    "                # print(dataframes[1000:1005])\n",
    "                dataframes=[]\n",
    "\n",
    "    # Save any remaining records\n",
    "    if len(dataframes) > 0:\n",
    "        dataframes_list.append(pd.concat(dataframes,ignore_index=True))\n",
    "        print(f'\\n dataframes_list append {len(dataframes)} dataframe chuck as one dataframes ====================================================')\n",
    "    if len(df)>0:\n",
    "        print(f'Processed {i} records')\n",
    "        df = pd.DataFrame.from_dict(df, orient='index')\n",
    "        df = df[columns_keep]\n",
    "        df=data_format(df)\n",
    "        df=review_data_clean(df)\n",
    "        saved_mysql(df, file_name)\n",
    "        print(f'Saved total {(saved+len(df))} records to MySQL')\n",
    "        dataframes_list.append(df)\n",
    "    # print(f'Finished saving {file_name} to MySQL!')\n",
    "    print(f'Total {len(dataframes_list)} dataframes generated')\n",
    "    return dataframes_list\n",
    "\n",
    "\n",
    "# change helpfulness format\n",
    "def data_format(df):\n",
    "    # change helpfulness format\n",
    "    df['helpful_vote'] = df['helpful'].apply(lambda x: x[0])\n",
    "    df['total_vote'] = df['helpful'].apply(lambda x: x[1])\n",
    "    # 计算helpful score并在total Vote为0时设置为0\n",
    "    df['helpfulness_score'] = df.apply(lambda row: row['helpful_vote'] / row['total_vote'] if row['total_vote'] != 0 else 0, axis=1)\n",
    "\n",
    "    # 使用drop方法删除原始helpful列\n",
    "    df.drop(columns=['helpful'], inplace=True)\n",
    "    # Convert 'reviewTime' column to MySQL-compatible DATE format\n",
    "    df['reviewTime'] = pd.to_datetime(df['reviewTime'], format='%m %d, %Y').dt.strftime('%Y-%m-%d')\n",
    "\n",
    "    return df"
   ],
   "metadata": {
    "collapsed": false
   }
  },
  {
   "cell_type": "markdown",
   "source": [
    "***identify columns***"
   ],
   "metadata": {
    "collapsed": false
   }
  },
  {
   "cell_type": "code",
   "execution_count": 6,
   "outputs": [],
   "source": [
    "review_columns=['reviewerID','asin','overall','reviewTime','reviewText','helpful']\n",
    "content_columns_reviews = ['reviewText']"
   ],
   "metadata": {
    "collapsed": false
   }
  },
  {
   "cell_type": "markdown",
   "source": [
    "# **Data Clean**"
   ],
   "metadata": {
    "collapsed": false
   }
  },
  {
   "cell_type": "markdown",
   "source": [
    "***delete NaN***"
   ],
   "metadata": {
    "collapsed": false
   }
  },
  {
   "cell_type": "code",
   "execution_count": 7,
   "outputs": [],
   "source": [
    "import re\n",
    "# 删除reviews存在NaN的行\n",
    "def review_data_clean(df):\n",
    "    # 删除reviews存在NaN的行\n",
    "    df.dropna(subset=['reviewerID','asin','overall','reviewTime','reviewText','total_vote','helpfulness_score'], inplace=True)\n",
    "    df = df[df['reviewText'].apply(lambda x: len(x) >0)]\n",
    "    # 筛选出不包含非法字符的行\n",
    "    df_cleaned = df[~df['reviewText'].apply(lan_check)]\n",
    "    if len(df_cleaned) < len(df):\n",
    "        # 合并df和df_cleaned，并标记来源\n",
    "        merged_df = df.merge(df_cleaned, how='outer', indicator=True)\n",
    "        # 筛选出df中df_cleaned没有的那行\n",
    "        not_in_df_cleaned = merged_df[merged_df['_merge'] == 'left_only']\n",
    "        # 设置显示列的最大宽度为None（表示不截断文本）\n",
    "        # pd.options.display.max_colwidth = None\n",
    "        print(not_in_df_cleaned['reviewText'])\n",
    "    return df_cleaned\n",
    "\n",
    "\n",
    "def lan_check(text):\n",
    "    try:\n",
    "        if detect(text) == 'en':\n",
    "            return True\n",
    "        else:\n",
    "            print(f'Not English!!!!!!!!!!!!!:  {text}')\n",
    "            return False\n",
    "    except:\n",
    "        print('\\n======\\nHave Question:\\n  text')\n",
    "        return True\n",
    "\n"
   ],
   "metadata": {
    "collapsed": false
   }
  },
  {
   "cell_type": "markdown",
   "source": [
    "# **Statistic**"
   ],
   "metadata": {
    "collapsed": false
   }
  },
  {
   "cell_type": "markdown",
   "source": [
    "***统计reviews的最大长度，最小长度，平均长度,中位数以及3/4位数***"
   ],
   "metadata": {
    "collapsed": false
   }
  },
  {
   "cell_type": "code",
   "execution_count": 8,
   "outputs": [],
   "source": [
    "\n",
    "# 计算 reviewText, summary的最大长度，最小长度，平均长度\n",
    "# import matplotlib.pyplot as plt\n",
    "import statistics\n",
    "\n",
    "# 假设books_revibews是你的数据框\n",
    "def review_len(df):\n",
    "    num_rows, num_cols = df.shape\n",
    "    # 首先，计算每个reviewText的长度，并将结果存储在新的列'reviewText_length'中\n",
    "    # Calculate the length of each 'reviewText' and store in a list\n",
    "    review_lengths = df['reviewText'].apply(lambda x: len(x)).tolist()\n",
    "\n",
    "    # Sort the 'review_lengths' list in ascending order\n",
    "    sorted_review_lengths = sorted(review_lengths)\n",
    "    # Find the maximum length\n",
    "    max_length = max(sorted_review_lengths)\n",
    "\n",
    "    # Find the minimum length\n",
    "    min_length = min(sorted_review_lengths)\n",
    "\n",
    "    # Find the average length (mean)\n",
    "    average_length = sum(sorted_review_lengths) / len(sorted_review_lengths)\n",
    "\n",
    "    # Find the median length\n",
    "    median_length = statistics.median(sorted_review_lengths)\n",
    "    # Find the 3/4 quartile (75th percentile)\n",
    "    quantile_3_4 = statistics.quantiles(sorted_review_lengths, n=4)[-1]\n",
    "\n",
    "    all_sentences = df['reviewText'].apply(nltk.sent_tokenize)\n",
    "    # 计算句子的总个数\n",
    "    total_sentences = all_sentences.apply(len).sum()\n",
    "    # 计算平均句子个数\n",
    "    avg_sentences = all_sentences.apply(len).mean()\n",
    "\n",
    "    print(f'Num of rows: {num_rows}')\n",
    "    print('====      ')\n",
    "    print(f'Avg sentences: {avg_sentences}')\n",
    "    print(f'Total sentences: {total_sentences}')\n",
    "    print('====      ')\n",
    "    print(f'Max text length: {max_length}')\n",
    "    print(f'Min text length: {min_length}')\n",
    "    print(f'Avg text length: {average_length}')\n",
    "    print(f'Mid text length: {median_length}')\n",
    "    print(f'q75 text length: {quantile_3_4}')\n",
    "    print(\"=====================================\")\n"
   ],
   "metadata": {
    "collapsed": false
   }
  },
  {
   "cell_type": "markdown",
   "source": [
    "***data investigate function***"
   ],
   "metadata": {
    "collapsed": false
   }
  },
  {
   "cell_type": "code",
   "execution_count": 9,
   "outputs": [],
   "source": [
    "def data_quality(df,content_columns):\n",
    "    # 统计总行数和列数\n",
    "    num_rows, num_cols = df.shape\n",
    "    # 列出所有列名\n",
    "    column_names = df.columns.tolist()\n",
    "    # 统计每列的缺失值数量\n",
    "    missing_values = df.isnull().sum()\n",
    "\n",
    "    count_all_nan = df[df[content_columns].isnull().all(axis=1)].shape[0]\n",
    "    print(' data of specified columns is NaN:',count_all_nan)\n",
    "\n",
    "    # 创建数据质量报告的数据框架\n",
    "    report = pd.DataFrame({\n",
    "        '列名': column_names,\n",
    "        'num_rows': num_rows,\n",
    "        '缺失值数量': missing_values,\n",
    "        '数据类型': df.dtypes,\n",
    "\n",
    "    })\n",
    "    print(report)"
   ],
   "metadata": {
    "collapsed": false
   }
  },
  {
   "cell_type": "markdown",
   "source": [
    "# *2. Review dataset*\n",
    "** not in filtered_product**"
   ],
   "metadata": {
    "collapsed": false
   }
  },
  {
   "cell_type": "markdown",
   "source": [
    "# **Data Filter**\n",
    "***Filter with asin***"
   ],
   "metadata": {
    "collapsed": false
   }
  },
  {
   "cell_type": "code",
   "execution_count": 10,
   "outputs": [],
   "source": [
    "# def filter_by_asin(df, file_name):\n",
    "#     # Step 1: Read the ASINs to be removed from the file into a list\n",
    "#     with open(file_name, 'r') as file:\n",
    "#         lines = file.readlines()\n",
    "#         asins_to_remove = [line.strip() for line in lines if line.strip()]\n",
    "#\n",
    "#     # Step 2: Create a boolean mask based on 'asin' column to identify rows to be removed\n",
    "#     asin_mask = ~df['asin'].isin(asins_to_remove)\n",
    "#\n",
    "#     # Step 3: Create a new DataFrame with rows not matching the ASINs in the list\n",
    "#     df_filtered = df[asin_mask]\n",
    "#\n",
    "#     return df_filtered"
   ],
   "metadata": {
    "collapsed": false
   }
  },
  {
   "cell_type": "markdown",
   "source": [
    "***Filter with timeline***"
   ],
   "metadata": {
    "collapsed": false
   }
  },
  {
   "cell_type": "code",
   "execution_count": 11,
   "outputs": [],
   "source": [
    "def filter_by_timeline(df):\n",
    "    # 筛选出2004年7月之后的数据\n",
    "    cutoff_date = pd.to_datetime('2009-07-01')\n",
    "    # Convert the 'reviewTime' column to Timestamp\n",
    "    df['reviewTime'] = pd.to_datetime(df['reviewTime'])\n",
    "\n",
    "    df = df[df['reviewTime'] >= cutoff_date]\n",
    "    return df"
   ],
   "metadata": {
    "collapsed": false
   }
  },
  {
   "cell_type": "markdown",
   "source": [
    "**Base on Vote**\n",
    "\n",
    "***统计vote为0的数量,vote≥2***"
   ],
   "metadata": {
    "collapsed": false
   }
  },
  {
   "cell_type": "code",
   "execution_count": 12,
   "outputs": [],
   "source": [
    "# 统计 vote 的数量和比例\n",
    "def vote_analysis(df):\n",
    "    num_rows, num_cols = df.shape\n",
    "    vote_zeros = df[df['total_vote']==0].shape[0]\n",
    "    vote_zeros_ratio = vote_zeros / num_rows\n",
    "\n",
    "    # 统计 total vote > 2 的数量\n",
    "    total_vote=df['total_vote']\n",
    "    greater_than_2_count = (total_vote >= 5).sum()\n",
    "    # 统计 helfpful vote 不为的数量、比例\n",
    "    helpful_not_zeros=df[df['helpful_vote']>0].shape[0]\n",
    "    helpful_not_zeros_1=df[df['helpful_vote']!=0].shape[0]\n",
    "    if helpful_not_zeros != helpful_not_zeros_1:\n",
    "        print('!!!!!!!!!!!data has problem!!!!!!!!!')\n",
    "    print('=====================')\n",
    "    print('total vote is 0: ', vote_zeros)\n",
    "    print('     the ratio: ',vote_zeros_ratio)\n",
    "    print('total vote>=2: ',greater_than_2_count)\n",
    "    print('helpful vote is not 0: ',helpful_not_zeros)\n",
    "    print('=====================\\n')\n",
    "\n",
    "    # return helpful_zeros,helpful_zeros_ratio,helpful_not_zeros,b_greater_than_3_count,b_greater_than_5_count"
   ],
   "metadata": {
    "collapsed": false
   }
  },
  {
   "cell_type": "markdown",
   "source": [
    "***vote>2***"
   ],
   "metadata": {
    "collapsed": false
   }
  },
  {
   "cell_type": "code",
   "execution_count": 13,
   "outputs": [],
   "source": [
    "def filter_by_vote(df):\n",
    "    new_df = df[df['total_vote'] >= 5]\n",
    "    return new_df"
   ],
   "metadata": {
    "collapsed": false
   }
  },
  {
   "cell_type": "markdown",
   "source": [
    "# ***Reviews: Cell phone and Accessories***"
   ],
   "metadata": {
    "collapsed": false
   }
  },
  {
   "cell_type": "code",
   "execution_count": 38,
   "outputs": [
    {
     "ename": "KeyboardInterrupt",
     "evalue": "",
     "output_type": "error",
     "traceback": [
      "\u001B[0;31m---------------------------------------------------------------------------\u001B[0m",
      "\u001B[0;31mKeyboardInterrupt\u001B[0m                         Traceback (most recent call last)",
      "Cell \u001B[0;32mIn[38], line 2\u001B[0m\n\u001B[1;32m      1\u001B[0m file_name\u001B[38;5;241m=\u001B[39m\u001B[38;5;124m'\u001B[39m\u001B[38;5;124mcell_phones_reviews_original\u001B[39m\u001B[38;5;124m'\u001B[39m\n\u001B[0;32m----> 2\u001B[0m cell_phones_reviews_list\u001B[38;5;241m=\u001B[39m \u001B[43mgetDF_reviews\u001B[49m\u001B[43m(\u001B[49m\u001B[38;5;124;43m'\u001B[39;49m\u001B[38;5;124;43mdata/reviews_Cell_Phones_and_Accessories.json.gz\u001B[39;49m\u001B[38;5;124;43m'\u001B[39;49m\u001B[43m,\u001B[49m\u001B[43mreview_columns\u001B[49m\u001B[43m,\u001B[49m\u001B[43mfile_name\u001B[49m\u001B[43m)\u001B[49m\n",
      "Cell \u001B[0;32mIn[29], line 20\u001B[0m, in \u001B[0;36mgetDF_reviews\u001B[0;34m(path, columns_keep, file_name)\u001B[0m\n\u001B[1;32m     18\u001B[0m df\u001B[38;5;241m=\u001B[39mdata_format(df)\n\u001B[1;32m     19\u001B[0m df\u001B[38;5;241m=\u001B[39mreview_data_clean(df)\n\u001B[0;32m---> 20\u001B[0m \u001B[43msaved_mysql\u001B[49m\u001B[43m(\u001B[49m\u001B[43mdf\u001B[49m\u001B[43m,\u001B[49m\u001B[43m \u001B[49m\u001B[43mfile_name\u001B[49m\u001B[43m)\u001B[49m\n\u001B[1;32m     21\u001B[0m saved\u001B[38;5;241m+\u001B[39m\u001B[38;5;241m=\u001B[39m\u001B[38;5;28mlen\u001B[39m(df)\n\u001B[1;32m     22\u001B[0m dataframes\u001B[38;5;241m.\u001B[39mappend(df)\n",
      "Cell \u001B[0;32mIn[17], line 57\u001B[0m, in \u001B[0;36msaved_mysql\u001B[0;34m(df, table_name)\u001B[0m\n\u001B[1;32m     55\u001B[0m     \u001B[38;5;28;01mfor\u001B[39;00m _, row \u001B[38;5;129;01min\u001B[39;00m df\u001B[38;5;241m.\u001B[39miterrows():\n\u001B[1;32m     56\u001B[0m         insert_sql \u001B[38;5;241m=\u001B[39m \u001B[38;5;124mf\u001B[39m\u001B[38;5;124m\"\u001B[39m\u001B[38;5;124mINSERT INTO \u001B[39m\u001B[38;5;132;01m{\u001B[39;00mtable_name\u001B[38;5;132;01m}\u001B[39;00m\u001B[38;5;124m (\u001B[39m\u001B[38;5;132;01m{\u001B[39;00m\u001B[38;5;124m'\u001B[39m\u001B[38;5;124m, \u001B[39m\u001B[38;5;124m'\u001B[39m\u001B[38;5;241m.\u001B[39mjoin(df\u001B[38;5;241m.\u001B[39mcolumns)\u001B[38;5;132;01m}\u001B[39;00m\u001B[38;5;124m) VALUES (\u001B[39m\u001B[38;5;132;01m{\u001B[39;00m\u001B[38;5;124m'\u001B[39m\u001B[38;5;124m, \u001B[39m\u001B[38;5;124m'\u001B[39m\u001B[38;5;241m.\u001B[39mjoin([\u001B[38;5;124m'\u001B[39m\u001B[38;5;132;01m%s\u001B[39;00m\u001B[38;5;124m'\u001B[39m] \u001B[38;5;241m*\u001B[39m \u001B[38;5;28mlen\u001B[39m(df\u001B[38;5;241m.\u001B[39mcolumns))\u001B[38;5;132;01m}\u001B[39;00m\u001B[38;5;124m)\u001B[39m\u001B[38;5;124m\"\u001B[39m\n\u001B[0;32m---> 57\u001B[0m         \u001B[43mcursor\u001B[49m\u001B[38;5;241;43m.\u001B[39;49m\u001B[43mexecute\u001B[49m\u001B[43m(\u001B[49m\u001B[43minsert_sql\u001B[49m\u001B[43m,\u001B[49m\u001B[43m \u001B[49m\u001B[38;5;28;43mtuple\u001B[39;49m\u001B[43m(\u001B[49m\u001B[43mrow\u001B[49m\u001B[43m)\u001B[49m\u001B[43m)\u001B[49m\n\u001B[1;32m     59\u001B[0m \u001B[38;5;66;03m# 提交数据\u001B[39;00m\n\u001B[1;32m     60\u001B[0m conn\u001B[38;5;241m.\u001B[39mcommit()\n",
      "File \u001B[0;32m~/opt/anaconda3/envs/torch-gpu/lib/python3.8/site-packages/mysql/connector/cursor.py:597\u001B[0m, in \u001B[0;36mMySQLCursor.execute\u001B[0;34m(self, operation, params, multi)\u001B[0m\n\u001B[1;32m    595\u001B[0m     stmt \u001B[38;5;241m=\u001B[39m _bytestr_format_dict(stmt, \u001B[38;5;28mself\u001B[39m\u001B[38;5;241m.\u001B[39m_process_params_dict(params))\n\u001B[1;32m    596\u001B[0m \u001B[38;5;28;01melif\u001B[39;00m \u001B[38;5;28misinstance\u001B[39m(params, (\u001B[38;5;28mlist\u001B[39m, \u001B[38;5;28mtuple\u001B[39m)):\n\u001B[0;32m--> 597\u001B[0m     psub \u001B[38;5;241m=\u001B[39m _ParamSubstitutor(\u001B[38;5;28;43mself\u001B[39;49m\u001B[38;5;241;43m.\u001B[39;49m\u001B[43m_process_params\u001B[49m\u001B[43m(\u001B[49m\u001B[43mparams\u001B[49m\u001B[43m)\u001B[49m)\n\u001B[1;32m    598\u001B[0m     stmt \u001B[38;5;241m=\u001B[39m RE_PY_PARAM\u001B[38;5;241m.\u001B[39msub(psub, stmt)\n\u001B[1;32m    599\u001B[0m     \u001B[38;5;28;01mif\u001B[39;00m psub\u001B[38;5;241m.\u001B[39mremaining \u001B[38;5;241m!=\u001B[39m \u001B[38;5;241m0\u001B[39m:\n",
      "File \u001B[0;32m~/opt/anaconda3/envs/torch-gpu/lib/python3.8/site-packages/mysql/connector/cursor.py:465\u001B[0m, in \u001B[0;36mMySQLCursor._process_params\u001B[0;34m(self, params)\u001B[0m\n\u001B[1;32m    463\u001B[0m to_mysql \u001B[38;5;241m=\u001B[39m \u001B[38;5;28mself\u001B[39m\u001B[38;5;241m.\u001B[39m_connection\u001B[38;5;241m.\u001B[39mconverter\u001B[38;5;241m.\u001B[39mto_mysql\n\u001B[1;32m    464\u001B[0m escape \u001B[38;5;241m=\u001B[39m \u001B[38;5;28mself\u001B[39m\u001B[38;5;241m.\u001B[39m_connection\u001B[38;5;241m.\u001B[39mconverter\u001B[38;5;241m.\u001B[39mescape\n\u001B[0;32m--> 465\u001B[0m quote \u001B[38;5;241m=\u001B[39m \u001B[38;5;28;43mself\u001B[39;49m\u001B[38;5;241;43m.\u001B[39;49m\u001B[43m_connection\u001B[49m\u001B[38;5;241;43m.\u001B[39;49m\u001B[43mconverter\u001B[49m\u001B[38;5;241m.\u001B[39mquote\n\u001B[1;32m    466\u001B[0m res \u001B[38;5;241m=\u001B[39m [to_mysql(value) \u001B[38;5;28;01mfor\u001B[39;00m value \u001B[38;5;129;01min\u001B[39;00m res]\n\u001B[1;32m    467\u001B[0m res \u001B[38;5;241m=\u001B[39m [escape(value, sql_mode) \u001B[38;5;28;01mfor\u001B[39;00m value \u001B[38;5;129;01min\u001B[39;00m res]\n",
      "\u001B[0;31mKeyboardInterrupt\u001B[0m: "
     ]
    }
   ],
   "source": [
    "file_name='cell_phones_reviews_original'\n",
    "cell_phones_reviews_list= getDF_reviews('data/reviews_Cell_Phones_and_Accessories.json.gz',review_columns,file_name)"
   ],
   "metadata": {
    "collapsed": false
   }
  },
  {
   "cell_type": "code",
   "execution_count": 15,
   "outputs": [
    {
     "data": {
      "text/plain": "       reviewerID        asin  overall  reviewTime  \\\n0  A1EWN6KZ4HMLT7  011040047X      1.0  2012-08-14   \n1   A1YX2RBMS1L9L  0110400550      5.0  2012-11-22   \n2  A180NNPPKWCCU0  0110400550      5.0  2013-07-18   \n3   A3HVRXV0LVJN7  0110400550      5.0  2013-01-13   \n4  A292527VPX98P8  0110400550      1.0  2012-11-26   \n\n                                                                                                                                                                                                                reviewText  \\\n0                                               The case pictured is a soft violet color, but the case cover I received was a dark purple. While I'm sure the quality of the product is fine, the color is very different.   \n1                                                                                                                    Saw this same case at a theme park store for 25 dollars. This is very good quality for a great price.   \n2                                                                                                  case fits perfectly and I always gets compliments on it its hasn't cracked when I dropped it. wonderful and protective.   \n3                                                                                                            Best phone case ever . Everywhere I go I get a ton of compliments on it. It was in perfect condition as well.   \n4  It may look cute. This case started off pretty good the first couple of weeks. Then it started to slide off. It slid off one day I was in a parking lot phone fell face down and my glass shattered. TERRIBLE CASE!!!!!   \n\n   helpful_vote  total_vote  helpfulness_score  \n0             2           2                1.0  \n1             0           0                0.0  \n2             3           3                1.0  \n3             4           4                1.0  \n4             0           1                0.0  ",
      "text/html": "<div>\n<style scoped>\n    .dataframe tbody tr th:only-of-type {\n        vertical-align: middle;\n    }\n\n    .dataframe tbody tr th {\n        vertical-align: top;\n    }\n\n    .dataframe thead th {\n        text-align: right;\n    }\n</style>\n<table border=\"1\" class=\"dataframe\">\n  <thead>\n    <tr style=\"text-align: right;\">\n      <th></th>\n      <th>reviewerID</th>\n      <th>asin</th>\n      <th>overall</th>\n      <th>reviewTime</th>\n      <th>reviewText</th>\n      <th>helpful_vote</th>\n      <th>total_vote</th>\n      <th>helpfulness_score</th>\n    </tr>\n  </thead>\n  <tbody>\n    <tr>\n      <th>0</th>\n      <td>A1EWN6KZ4HMLT7</td>\n      <td>011040047X</td>\n      <td>1.0</td>\n      <td>2012-08-14</td>\n      <td>The case pictured is a soft violet color, but the case cover I received was a dark purple. While I'm sure the quality of the product is fine, the color is very different.</td>\n      <td>2</td>\n      <td>2</td>\n      <td>1.0</td>\n    </tr>\n    <tr>\n      <th>1</th>\n      <td>A1YX2RBMS1L9L</td>\n      <td>0110400550</td>\n      <td>5.0</td>\n      <td>2012-11-22</td>\n      <td>Saw this same case at a theme park store for 25 dollars. This is very good quality for a great price.</td>\n      <td>0</td>\n      <td>0</td>\n      <td>0.0</td>\n    </tr>\n    <tr>\n      <th>2</th>\n      <td>A180NNPPKWCCU0</td>\n      <td>0110400550</td>\n      <td>5.0</td>\n      <td>2013-07-18</td>\n      <td>case fits perfectly and I always gets compliments on it its hasn't cracked when I dropped it. wonderful and protective.</td>\n      <td>3</td>\n      <td>3</td>\n      <td>1.0</td>\n    </tr>\n    <tr>\n      <th>3</th>\n      <td>A3HVRXV0LVJN7</td>\n      <td>0110400550</td>\n      <td>5.0</td>\n      <td>2013-01-13</td>\n      <td>Best phone case ever . Everywhere I go I get a ton of compliments on it. It was in perfect condition as well.</td>\n      <td>4</td>\n      <td>4</td>\n      <td>1.0</td>\n    </tr>\n    <tr>\n      <th>4</th>\n      <td>A292527VPX98P8</td>\n      <td>0110400550</td>\n      <td>1.0</td>\n      <td>2012-11-26</td>\n      <td>It may look cute. This case started off pretty good the first couple of weeks. Then it started to slide off. It slid off one day I was in a parking lot phone fell face down and my glass shattered. TERRIBLE CASE!!!!!</td>\n      <td>0</td>\n      <td>1</td>\n      <td>0.0</td>\n    </tr>\n  </tbody>\n</table>\n</div>"
     },
     "execution_count": 15,
     "metadata": {},
     "output_type": "execute_result"
    }
   ],
   "source": [
    "cell_phones_reviews_list[0].head()"
   ],
   "metadata": {
    "collapsed": false
   }
  },
  {
   "cell_type": "code",
   "execution_count": 16,
   "outputs": [
    {
     "name": "stdout",
     "output_type": "stream",
     "text": [
      "\n",
      "***The cell_phones_reviews after cleaned:***\n",
      " data of specified columns is NaN: 0\n",
      "                                  列名  num_rows  缺失值数量     数据类型\n",
      "reviewerID                reviewerID    999680      0   object\n",
      "asin                            asin    999680      0   object\n",
      "overall                      overall    999680      0  float64\n",
      "reviewTime                reviewTime    999680      0   object\n",
      "reviewText                reviewText    999680      0   object\n",
      "helpful_vote            helpful_vote    999680      0    int64\n",
      "total_vote                total_vote    999680      0    int64\n",
      "helpfulness_score  helpfulness_score    999680      0  float64\n",
      "\n",
      "***The cell_phones_reviews after cleaned:***\n",
      " data of specified columns is NaN: 0\n",
      "                                  列名  num_rows  缺失值数量     数据类型\n",
      "reviewerID                reviewerID    999777      0   object\n",
      "asin                            asin    999777      0   object\n",
      "overall                      overall    999777      0  float64\n",
      "reviewTime                reviewTime    999777      0   object\n",
      "reviewText                reviewText    999777      0   object\n",
      "helpful_vote            helpful_vote    999777      0    int64\n",
      "total_vote                total_vote    999777      0    int64\n",
      "helpfulness_score  helpfulness_score    999777      0  float64\n",
      "\n",
      "***The cell_phones_reviews after cleaned:***\n",
      " data of specified columns is NaN: 0\n",
      "                                  列名  num_rows  缺失值数量     数据类型\n",
      "reviewerID                reviewerID    999800      0   object\n",
      "asin                            asin    999800      0   object\n",
      "overall                      overall    999800      0  float64\n",
      "reviewTime                reviewTime    999800      0   object\n",
      "reviewText                reviewText    999800      0   object\n",
      "helpful_vote            helpful_vote    999800      0    int64\n",
      "total_vote                total_vote    999800      0    int64\n",
      "helpfulness_score  helpfulness_score    999800      0  float64\n",
      "\n",
      "***The cell_phones_reviews after cleaned:***\n",
      " data of specified columns is NaN: 0\n",
      "                                  列名  num_rows  缺失值数量     数据类型\n",
      "reviewerID                reviewerID       248      0   object\n",
      "asin                            asin       248      0   object\n",
      "overall                      overall       248      0  float64\n",
      "reviewTime                reviewTime       248      0   object\n",
      "reviewText                reviewText       248      0   object\n",
      "helpful_vote            helpful_vote       248      0    int64\n",
      "total_vote                total_vote       248      0    int64\n",
      "helpfulness_score  helpfulness_score       248      0  float64\n"
     ]
    }
   ],
   "source": [
    "for cell_phones_reviews in cell_phones_reviews_list:\n",
    "    print('\\n***The cell_phones_reviews after cleaned:***')\n",
    "    # review_len(cell_phones_reviews)\n",
    "    data_quality(cell_phones_reviews,content_columns_reviews)"
   ],
   "metadata": {
    "collapsed": false
   }
  },
  {
   "cell_type": "markdown",
   "source": [
    "**Data filter**"
   ],
   "metadata": {
    "collapsed": false
   }
  },
  {
   "cell_type": "markdown",
   "source": [
    "**Filter with asin,timeline and vote**"
   ],
   "metadata": {
    "collapsed": false
   }
  },
  {
   "cell_type": "code",
   "execution_count": 17,
   "outputs": [
    {
     "name": "stdout",
     "output_type": "stream",
     "text": [
      "filter with timeline finished!\n",
      "=====================\n",
      "total vote is 0:  667246\n",
      "     the ratio:  0.7295248028986553\n",
      "total vote>=2:  124505\n",
      "helpful vote is not 0:  206637\n",
      "=====================\n",
      "\n",
      "filter with vote finished!\n",
      "filter with timeline finished!\n",
      "=====================\n",
      "total vote is 0:  767462\n",
      "     the ratio:  0.7676462350964232\n",
      "total vote>=2:  108174\n",
      "helpful vote is not 0:  186527\n",
      "=====================\n",
      "\n",
      "filter with vote finished!\n",
      "filter with timeline finished!\n",
      "=====================\n",
      "total vote is 0:  738683\n",
      "     the ratio:  0.7388632826409643\n",
      "total vote>=2:  123959\n",
      "helpful vote is not 0:  204822\n",
      "=====================\n",
      "\n",
      "filter with vote finished!\n",
      "filter with timeline finished!\n",
      "=====================\n",
      "total vote is 0:  183\n",
      "     the ratio:  0.7379032258064516\n",
      "total vote>=2:  26\n",
      "helpful vote is not 0:  22\n",
      "=====================\n",
      "\n",
      "filter with vote finished!\n"
     ]
    }
   ],
   "source": [
    "cell_phones_reviews_filter_list=[]\n",
    "for cell_phones_reviews in cell_phones_reviews_list:\n",
    "    cell_phones_reviews_filter=filter_by_timeline(cell_phones_reviews)\n",
    "    print('filter with timeline finished!')\n",
    "    vote_analysis(cell_phones_reviews_filter)\n",
    "    cell_phones_reviews_filter=filter_by_vote(cell_phones_reviews_filter)\n",
    "    cell_phones_reviews_filter_list.append(cell_phones_reviews_filter)\n",
    "    print('filter with vote finished!')"
   ],
   "metadata": {
    "collapsed": false
   }
  },
  {
   "cell_type": "code",
   "execution_count": 18,
   "outputs": [
    {
     "name": "stdout",
     "output_type": "stream",
     "text": [
      "\n",
      "******************\n",
      "\n",
      "Num of rows: 124505\n",
      "====      \n",
      "Avg sentences: 6.479394401831252\n",
      "Total sentences: 806717\n",
      "====      \n",
      "Max text length: 32384\n",
      "Min text length: 5\n",
      "Avg text length: 644.3291434078952\n",
      "Mid text length: 379\n",
      "q75 text length: 740.0\n",
      "=====================================\n",
      " data of specified columns is NaN: 0\n",
      "                                  列名  num_rows  缺失值数量            数据类型\n",
      "reviewerID                reviewerID    124505      0          object\n",
      "asin                            asin    124505      0          object\n",
      "overall                      overall    124505      0         float64\n",
      "reviewTime                reviewTime    124505      0  datetime64[ns]\n",
      "reviewText                reviewText    124505      0          object\n",
      "helpful_vote            helpful_vote    124505      0           int64\n",
      "total_vote                total_vote    124505      0           int64\n",
      "helpfulness_score  helpfulness_score    124505      0         float64\n",
      "\n",
      "******************\n",
      "\n",
      "Num of rows: 108174\n",
      "====      \n",
      "Avg sentences: 5.819087766006619\n",
      "Total sentences: 629474\n",
      "====      \n",
      "Max text length: 31947\n",
      "Min text length: 2\n",
      "Avg text length: 549.2653687577422\n",
      "Mid text length: 308.0\n",
      "q75 text length: 619.0\n",
      "=====================================\n",
      " data of specified columns is NaN: 0\n",
      "                                  列名  num_rows  缺失值数量            数据类型\n",
      "reviewerID                reviewerID    108174      0          object\n",
      "asin                            asin    108174      0          object\n",
      "overall                      overall    108174      0         float64\n",
      "reviewTime                reviewTime    108174      0  datetime64[ns]\n",
      "reviewText                reviewText    108174      0          object\n",
      "helpful_vote            helpful_vote    108174      0           int64\n",
      "total_vote                total_vote    108174      0           int64\n",
      "helpfulness_score  helpfulness_score    108174      0         float64\n",
      "\n",
      "******************\n",
      "\n",
      "Num of rows: 123959\n",
      "====      \n",
      "Avg sentences: 5.459781056639695\n",
      "Total sentences: 676789\n",
      "====      \n",
      "Max text length: 32110\n",
      "Min text length: 2\n",
      "Avg text length: 508.90994603054236\n",
      "Mid text length: 277\n",
      "q75 text length: 565.0\n",
      "=====================================\n",
      " data of specified columns is NaN: 0\n",
      "                                  列名  num_rows  缺失值数量            数据类型\n",
      "reviewerID                reviewerID    123959      0          object\n",
      "asin                            asin    123959      0          object\n",
      "overall                      overall    123959      0         float64\n",
      "reviewTime                reviewTime    123959      0  datetime64[ns]\n",
      "reviewText                reviewText    123959      0          object\n",
      "helpful_vote            helpful_vote    123959      0           int64\n",
      "total_vote                total_vote    123959      0           int64\n",
      "helpfulness_score  helpfulness_score    123959      0         float64\n",
      "\n",
      "******************\n",
      "\n",
      "Num of rows: 26\n",
      "====      \n",
      "Avg sentences: 4.0\n",
      "Total sentences: 104\n",
      "====      \n",
      "Max text length: 2777\n",
      "Min text length: 29\n",
      "Avg text length: 474.46153846153845\n",
      "Mid text length: 118.5\n",
      "q75 text length: 451.0\n",
      "=====================================\n",
      " data of specified columns is NaN: 0\n",
      "                                  列名  num_rows  缺失值数量            数据类型\n",
      "reviewerID                reviewerID        26      0          object\n",
      "asin                            asin        26      0          object\n",
      "overall                      overall        26      0         float64\n",
      "reviewTime                reviewTime        26      0  datetime64[ns]\n",
      "reviewText                reviewText        26      0          object\n",
      "helpful_vote            helpful_vote        26      0           int64\n",
      "total_vote                total_vote        26      0           int64\n",
      "helpfulness_score  helpfulness_score        26      0         float64\n"
     ]
    }
   ],
   "source": [
    "for cell_phones_reviews in cell_phones_reviews_filter_list:\n",
    "    print('\\n******************\\n')\n",
    "    review_len(cell_phones_reviews)\n",
    "    data_quality(cell_phones_reviews,content_columns_reviews)"
   ],
   "metadata": {
    "collapsed": false
   }
  },
  {
   "cell_type": "markdown",
   "source": [
    "***Concatenate***"
   ],
   "metadata": {
    "collapsed": false
   }
  },
  {
   "cell_type": "code",
   "execution_count": 19,
   "outputs": [
    {
     "name": "stdout",
     "output_type": "stream",
     "text": [
      "Table 'cell_phones_reviews_filter' does not exist. Creating new table...\n",
      "Table 'cell_phones_reviews_filter' created.\n"
     ]
    }
   ],
   "source": [
    "cell_phones_reviews_concatenated = pd.concat(cell_phones_reviews_filter_list, ignore_index=True)\n",
    "cell_phones_reviews_concatenated['reviewTime'] = cell_phones_reviews_concatenated['reviewTime'].dt.strftime('%Y-%m-%d')\n",
    "table_name='cell_phones_reviews_filter'\n",
    "saved_mysql(cell_phones_reviews_concatenated,table_name)"
   ],
   "metadata": {
    "collapsed": false
   }
  },
  {
   "cell_type": "code",
   "execution_count": 20,
   "outputs": [
    {
     "name": "stdout",
     "output_type": "stream",
     "text": [
      "Num of rows: 356664\n",
      "====      \n",
      "Avg sentences: 5.924578875356078\n",
      "Total sentences: 2113084\n",
      "====      \n",
      "Max text length: 32384\n",
      "Min text length: 2\n",
      "Avg text length: 568.4193975282058\n",
      "Mid text length: 320.0\n",
      "q75 text length: 643.0\n",
      "=====================================\n",
      " data of specified columns is NaN: 0\n",
      "                                  列名  num_rows  缺失值数量     数据类型\n",
      "reviewerID                reviewerID    356664      0   object\n",
      "asin                            asin    356664      0   object\n",
      "overall                      overall    356664      0  float64\n",
      "reviewTime                reviewTime    356664      0   object\n",
      "reviewText                reviewText    356664      0   object\n",
      "helpful_vote            helpful_vote    356664      0    int64\n",
      "total_vote                total_vote    356664      0    int64\n",
      "helpfulness_score  helpfulness_score    356664      0  float64\n"
     ]
    }
   ],
   "source": [
    "review_len(cell_phones_reviews_concatenated)\n",
    "data_quality(cell_phones_reviews_concatenated,content_columns_reviews)"
   ],
   "metadata": {
    "collapsed": false
   }
  },
  {
   "cell_type": "markdown",
   "source": [
    "# ***Reviews: Electronics***"
   ],
   "metadata": {
    "collapsed": false
   }
  },
  {
   "cell_type": "code",
   "execution_count": 21,
   "outputs": [
    {
     "name": "stdout",
     "output_type": "stream",
     "text": [
      "Table 'electronics_reviews_original' does not exist. Creating new table...\n",
      "Table 'electronics_reviews_original' created.\n",
      "904    Having set up similar products before, performance, features, and company reputation were priorities for me more than easy setup.  This product has performed very well for me.  The built in 4-port switch handles a home office network very nicely, and this router has the other features that I was looking for.\u0018The easy setup though was impressive from my point of view.  This is the only product I have personally seen that does not require you to enter any numbers to get a PC to talk to it.  You do have to select the appropriate network settings and reboot your computer, but that is all.  The router provides you with a simple and clear Web-based interface to complete the setup.  The documentation is also clear and to the point.  Overall I can highly recommend this product.Asante has a very good reputation for technical support.  For a product like this that is somewhat technical, good technical support is worth a lot to anyone who values their time at all.My experience with a couple of phone calls confirmed this for me, and this leads me to the only reason I did not feel justified in rating this product with 5 stars:Normal setup of the Asante FR3004 should work fine for the great majority of users, for Web browsing, email, and other online activities.  My use as a software developer involves keeping sessions with remote computers open for extended periods, and the Asante FR3004 with firmware as of October 2000 closes connections after 2 hours.  I was able to work around this limitation, but the workaround may not be available to every user.\n",
      "Name: reviewText, dtype: object\n",
      "650    The manual for this product was written very clearly.  That's my biggest PRO for this review, because a lot of manuals are never clear enough.Now for performance.  The adapter is a true bi-directional port.  Please understand, it is not EPP or ECP, just \"Byte Mode PS/2 Bi-directional\u0010\".  This means if you use say, an external hard drive, don't expect \"blazing\" performance, but your read speeds will be about 10KB/s faster than with a uni-directional port.Oh, and I'm using it in an IBM PS/2 Model 25, which is an 8086 based machine.\n",
      "Name: reviewText, dtype: object\n",
      "57    I really wanted to give these headphones a 5 star review. But I can't quite bring myself to do so.....I. SOUND QUALITYIn terms of sound quality, these headphones are absolutely top rate. I recommend you break in these headphones for a week or so before you evaluate them seriously. Here is one method: leave them playing overnight at medium volume for a week, for say 7 or 8 nights. Or, leave them playing continuously for 2 or 3 days straight.After this initial break-in period, I have been completely pleased with the sound quality. The sound signature is very balanced, without undue emphasis on any one part of the frequency spectrum: highs, midrange, lows. If anything, there is just a touch of extra high end brightness, which adds a touch of detail, but without becoming unduly fatiguing or irritating.II. BUILD QUALITYThis is the area in which the headphones fall a bit short.The headph\u0010ones are built entirely of lightweight plastic (save the drivers and the silicone headband support). If you have a mishap (such as dropping them or sitting on them), your chances of damaging these headphones are quite high. The plastic creaks and complains any time you adjust them.By way of comparison, koss's portapro model uses a metal headband which adds a very welcome dose of durability. If build quality and quality of materials is a priority, you will probably want to pass on these headphones.But try to keep this facet of evaluation in perspective: these are $15 headphones with drivers which offer top tier sound quality. There has to be a compromise somewhere in order to keep costs down, and I'd rather it be in terms of the headband or driver enclosure, rather than in the quality of the driver itself, which is far and away the most important component.III. COMFORTI am bit disappointed by the lack of comfort as well.First of all, the driver enclosure pivots up and down, but not left and right. In comparison, the driver in the koss portapro is attached via a ball joint with universal movement, to the headband. This is a far more comfortable design.Second, the headband will not 'hold' or retain any setting in terms of the headband's length. The sliders don't have enough friction. Poor design, poor built quality.Third, the foam covers are a bit rough, and smaller than they should be. You can't remove and replace them either, as is the case with portapro's. The covers do chafe, and as much as I like the sound quality, I may have to return these anyway due to a lack of comfort.IV. OVERALLThese are top notch headphones as far as sound quality is concerned. Unfortunately, they are cheaply made (by necessity), and are not very comfortable. I want to keep them, but I'm not sure if I will. I believe the Koss UR40 shares the same driver in a different design. If that is the case, the UR40 may be an unqualified winner.The ktx is tantalizingly close to being a phenomenal bargain in the headphone world. I would love to offer an unqualified recommendation, but given the serious compromises in comfort and build quality, am unfortunately unable to do so.\n",
      "Name: reviewText, dtype: object\n",
      "309    This product, in contrast to many other KVM switches, establishes the connectivity to both computers via USB and VGA cable. This is particulary interesting for notebook users since many notebooks do not offer two PS/2 ports (newer models have none, ie. Apple PB). Note, however, that the connection keyboard =&gt; switch and mouse =&gt; switch is via PS/2, so you need to have 2 USB =&gt; PS/2 adapters (often included when you buy a mouse or keyboard) for USB devices.As promised this product works with Mac and PC. I share a monitor and a keyboard between a desktop PC (WinXP) and a Apple Powerbook (OS 10.3.1). The keyboard is a Logitech Cordless keyboard and works ok. \u0010My Logitech &quot;Mini Optical Mouse&quot; doesn't work through the switch. Logitech &quot;Trackman Wheel&quot; works just fine. So, you might end up not being able to use your favorite mouse.Switching between the two computers is done by pushing the &quot;scroll lock&quot; key twice (I didn't know I have such a key...). The device is very small and easily disappears behind your desk.\n",
      "Name: reviewText, dtype: object\n",
      "275    Old camera \u001D\u0004\u0012\u0002\u0010\u0006\u001E\u0004\u0016\u0006\u001F\u001C Sony DSC-F707 but it takes great pictures. Wife needed more memory sticks so could take more pics. Bought two and Camera immediately recognized them and she was able to snap away.\n",
      "Name: reviewText, dtype: object\n",
      "544    The ZipIt Wireless Messenger is the best instant messaging device I have ever used. The ability to connect to any open access point is one of its strongest strengths - I can use it out in the park, at many local resturants, and at school. The software is very easy to use. On the device's first boot, it walks you through a simple setup proceedure that involves entering your IM names and passwords. Afterwards, every time the unit is turned on it automatically looks for an open access point, connects to it, and logs on your IM services. If it does not find an open one, or only finds one with WAP, a dialogue appears asking for the ESSID of the base station you want to connect to or for the WAP key, respectively.Your buddy list can be shown or hidden by the big \"Z\" logo key just below the screen's hinge. Messaging someone on your list is as simple as selecting their name with the arrow keys and hitting enter. If you have a large list of friends, you can begin typing their name, and it will automatically select the closesst match.Chatting itself is very intuitive. If you recieve a message when you have no other conversations going, that message is displayed, along with the familliar bottom text field for you to type. If another message is recieved while you are chatting, a non-intrusive popup is displayed for a few seconds informing you of the new message. You can switch conversations by hittting the previous and next keys, or by hitting P1, P2, or P3 for the first three conversations. You can have up to 99 conversations going at once - if that's not enough for you, then you need to seek the services of a professional. And of course, all the expected sound notifications are here - buddies logging on and off, sending and recieving messages, etc.Battery life is solid, with 4-6 hours in my experience depending on the power saving options. The power save option works with most newer access points, but some older ones won't let you connect with this option enabled so you will have to resort to turning that off.Physically, the device is lightweight yet has a solid feel to its construction. The display lid has a latch on it to keep it closed, and the power button will not turn the unit on if the screen is down. \u0010The battery door is secured with a single phillips screw to ensure it is not accidentally released.Nothing is perfect, however, and the ZipIt is no exception. My only gripe is relitively minor - the keyboard has a bit of a learning curve for those who type very quickly. Essentially, the keyboard cannot handle more than one keypress at a time. If, for instance, you are typing the word \"if\", and your right thumb hasn't completely released the 'i' key before your left thumb hits the 'f' key, the 'f' key will not register. This may have been intentional, as it does allow for people with large thumbs to type (since key in the center of the thumb is depressed before the others, only the intended one registers), but if that was the case I would have liked to have an option to turn it off. At this point, it is not much of a concern to me as I have adjusted my thumb typing methods to compensate. Typing speed now feels acceptable.Finally, a note to anyone who is interested in embedded Linux applications - this device is a must! If you are willing to void the warantee, there are instructions on the net to replace the default firmware with an open Linux one, which can make the device infinately more useful. After playing with it using the original firmware for a week, I myself installed the OpenZipit firmware on the device. Now, in addition to instant messaging, I can use SSH to connect to my server at home and adminster it remotely, browse the web, compile applications, or even play Infocom games, wherever I have a WiFi connection. Multiple virtual terminals are supported as well, so you can effectively multitask. There is plenty of development interest in the device amoung the open source community as well, ensuring that adventurous geeks like myself will often find new ways to use our Zipits =)Overall, this device should appeal to three primary crowds:-Parents who want the family computer back after their teens constantly hog it to chat with friends-Teens, who are tired of sharing the family computer just to chat-Geeks interested in Embedded Linux who are looking for an inexpensive device to experament on.If you fall into any of the above crowds, I cannot reccomend this product enough.\n",
      "Name: reviewText, dtype: object\n",
      "382    Is a great all around lens for a 1.6 sensor.It took decent pictures but nothing that will take your breath away\u0010.It's a great kit lense replacement.My aperture ring is now stuck. after more than a year and around 20k shot'sI'm not satisfied with that failure so soon.I always take good care of all my equipment, the camera has at least twice that amount of shots (xti) and is working great with the 18-55A camera failure at this point, will be more close to failure (getting to 50k shot's) but not a lens, or not this one at least.(Update)The repair by a canon authorize center, is $180.00 , they will replace 2 parts as they said is necessary in order to avoid future problems...It will take almost 7 weeks to get it done.\n",
      "Name: reviewText, dtype: object\n",
      "587    Life-changing, at any zoom level.I don't see any of the usual problems with &#34;zoom&#34; style binoculars here.  I can freely zoom in and out, changing my field of view of a subject, and using the 8x for finding a subject and then immediately hopping into 1\u00106x to get a better view of it.I compared it with the large-aperture Celestron 15x70 and 25x70 binoculars for both daytime and nighttime viewing.  It's definitely not as bright as those, but bright enough, such that even dimly-lit objects on the horizon are visible in probably 80 percent of the detail.  I haven't tried this for night-sky viewing, but I'm sure it's just fine for the moon and bright stars.16x zoom is enough to really feel like you're transported to your viewing object, but not so much that it requires perfect hand-steadiness to use.  Though once you achieve steadiness, you'll be amazed at what you see.\n",
      "Name: reviewText, dtype: object\n",
      "538    It only worked on one side, the sound quality was poor with some static noise. I turned it right after testing it.\n",
      "Name: reviewText, dtype: object\n",
      "895    What's the best thing about going into an Apple store? The hordes of black-shirted dudes with gleaming iPods round their necks? The Genius Bar answering any and every question that might come up in the Apple universe? Well, in my book it's the rows of Macs with those killer large TFT screens. Even if a lowly Mac Mini is out on display, it will be connected to a gleaming Apple Cinema Display, and even the iMac G5s seem to favour the 20\" models. As for the Power Macs, a pair of 24\" or 30\" screens seems to be the only way to truly show off Final Cut Pro or Logic.Cinema Displays are killer cool, with their gleaming aluminium cases and fabulous industrial design. They are priced as a premium product, and they look like they are worth every penny but that doesn't make it any easier to afford one. I'd always thought that I would never be able to aspire to such a fine window to OS X. However, I have recently discovered that this is not the case. This technology is now available to us mere mortals, for little more than half the price that Apple charges.Come Over to the Dark SideYou see, there is only one supplier of 20\" 1680x1050 resolution panels that manufactures in volume - LG.Philips. Accordingly, Dell's 20\" 2005FPW panel uses exactly the same LCD panel as Apple's 20\" Cinema Display. Dell prices for monitors start out somewhat less expensive than Apple, but are frequently discounted by massive percentages, something Apple is not known for.I needed to replace the 17\" Acer panel I was using on my Power Mac G5. It showed poor colour registration and some fuzziness, principally because it only had a captive analogue connector, and no DVI input. It was playing havoc with my digital photography work, and was quite uncomfortable to use for long periods. I decided to get a DVI display, and when I got wind that Dell had a sale on their widescreen displays, I got my credit card revved. Three days later, a courier delivered my new screen.Now, with Dell you get good value, a three-year warranty and industrial design that is firmly placed in the mid-nineties. The 2005FPW is dressed in a plastic shell in standard Dell dark grey, with the occasional silver highlight. However, build quality is very good, and the monitor ships with a robust grey and silver stand with cable management and height adjustment. The stand also allows the display to be rotated through ninety degrees to display a portrait image, though I have not tried this myself as I do not have enough vertical room on my desk. I believe this functionality will work without additional software on any Mac that is running OS X 10.4 Tiger and has an ATI graphics card.As well as this feature, the monitor is stuffed with other goodies as well. There are four inputs (DVI, VGA, RGB and Composite) as well as a plethora of display modes, including a very funky picture-in-picture mode, which allows TV monitoring or multiple PCs to be used in you have them cabled correctly. The monitor has four USB ports, and acts as a USB hub - two are on the back and two are on the side. Dell also throws in power, DVI and VGA cables in the box but as you might expect on a higher-end product, none of the cables are captive to the monitor.The only thing that is missing are speakers. I personally see this as no great loss, as monitor speakers are rarely of good quality. Dell will send a \u001Cmedia bar \u001D with speakers as an add on to the monitor if required,Yada, Yada, Yada - What Does It Look Like?In a word & superb! Connected via DVI, a bright and clear image of my Tiger desktop is displayed, and running through the calibration screens shows that no changes are necessary. Backlighting is strong and even across the display, and contrast looks fine. DVD and video playback shows little smearing to my jaded eyes, though I have to admit I am not a big movie watcher while I sit in front of my computer. Of course, DVDs play back in the 16:9 aspect ratio they were designed for, and the excellent contrast ratio means that blacks look black and a 'washed-out' image is not seen.I do play the occasional game, though, so I fired up Halo to see how the Dell performed. After adjusting the monitor to display the image in the centre of the screen rather than stretching it to fill the display, I was pleased to see that here too the image was bright and showed little ghosting.What I was really pleased with was the way this display affects my workflow. In Photoshop, you can push the took palettes to the edge of the screen while working on a large representation of your image, browsing images is a much nicer experience as well, and iPhoto really works best on a widescreen display. The Finder takes on a new ease of use as it is easier to drag and drop between two windows that you can actually see, and applications like Mail, iTunes or NetNewsWire really benefit from the extra real estate.The Bottom LineOf course, it makes sense that the extra screen real estate that a 1680x1050 display gives you will improve your computing experience, and it \u0019s a no-brainer if the price is right. Here in the UK, you can pick up a decent, brand name 17\" 1280x1024 4:3 ratio panel for around 170, or US$300. A 19\" 4:3 panel will give you the same resolution for around 240, or US$425. This panel lists with Dell at 507 (US$900), which is 40 less than the price for a 20\" Apple Cinema Display. However, I got it from Dell at 325 (US$575), substantially less than the Apple product. I am lead to believe from some of the posts I see online that in the US, rebates can bring the price below the $400 mark!I can remember just a few years ago that 17\" CRTs or 15\" TFT flat panels were priced at just over 300. The fact that for a little more you can today get such a fantastic display amazes me. As you spend all of your computing time looking at your monitor, and such a device should last longer than your current Macintosh, I feel that these displays represent excellent value for money.MyMac Rating:At this sort of price, I have no hesitation at all at giving the Dell UltraSharp 2005FPW 20\" Widescreen Display a mark of five out five.5 out of 5\n",
      "Name: reviewText, dtype: object\n",
      "872    Could be a great computer, when it is compatible with everything else.  Apple jumped the gun with the intel machines as so many devices are not able to work with it correctly!  Hp, Kensington, etc. say they are working on patches, but how long until I an use my scanner?  If you are patient, I guess it will all work out in the end.  \u0010Tiger is awesome!!\n",
      "Name: reviewText, dtype: object\n",
      "628    Trash... repeatedly got the dreaded Windows \"Delayed Write Failure\" message after multiple periods of time copying mp3's to the drive from my laptop hard drive. The timing of the failure message would vary from anywhere between 5 and 10 minutes. Many of the files would be in the range of 10 - 20 MB in size...At a glance, I would be able to copy the files again after ejecting and re-inserting the drive. But there is now MASSIVE data corruption on the drive...Certain folders show signs of hundreds of invalid sub-directories - some marked hidden, some marked system, all of them with corrupt characters for names... like:\u0012\u0017&&oacute;&szlig;.t&Auml;#\u0012\u0017&&oacute;&szlig;.t&Auml;#\u0012\u0017&&oacute;&szlig;.t&Auml;#So, I wonder what the problem is... Is Kingston just contracting out the manufacture of this product to vastly inferior facilities in China? Or is this hopefully some correctable firmware/microcode bug that can be fixed with some sort of code update?How dissapointing... the sort of experience that will guarantee I never buy anything remotely related to the Kingston brand ever again.\n",
      "Name: reviewText, dtype: object\n",
      "555    I have two of the et\u000F&oacute;n radios now, I bought a smaller one for backpacking/hiking and this one for home use.  It is a great radio, and if there is ever an emergency this thing might just be the only source of information available.I'll go over some of the details of the item:&#128230; UNBOXINGIt comes in a standard box, standard packaging, with the radio, a nylon carrying bag, and a user manual.  The nylon bag has a separate pocket on it to hold the user manual, which is a nice touch.  The adapter was not included, which would have been nice if you want to use this all the time rather than just for emergency use.&#128297; SET UPIt comes with a rechargeable battery pack already installed, this is for the crank when/if you don't have AA's or another electrical source (adapter), you'll need to open the battery compartment and connect the connector.  You can use it this way alone, or also insert three AA batteries in the battery compartment for non crank use.&#128251; FUNCTIONS&#9673;  It's a radio, it receives AM/FM and NOAA weather station signals.&#9673;  The cell phone charging connector allows you to charge your phone if the power is out (I haven't used this).&#9673;  There are two lighting functions, a LED Flashlight and a red LED Flashing function, selectable via switch.&#9673;  Earphone listening via the standard 3.5mm jack on the back (bad placement in my opinion).&#9673;  Set up the weather alerts so you receive alerts when extreme weather is on the way (I haven't used this either).&#128267; USEThere are four ways to use this (power wise)1) Just crank it -- even with no rechargeable battery pack, or a bad battery pack.2) Use the rechargeable battery pack by cranking to charge and then set it to the Dynamo setting.3) Insert three AA batteries and switch it to the battery setting.4) Purchase an adapter and plug it in.The flashlight seems pretty bright to me, bright enough to get you around a dark house at least, the red flashing light would be nice in case of an emergency, but isn't that bright.The radio has a standard radio dial, the tuning adjustor is very nice, it has what I would call (for lack of knowing the actual jargon) a macro adjustment ring, and an inner micro adjustment ring, so you can really adjust in stations.  When the antenna is up it picks up local stations very easily, with the antenna down forget it.&#128225; There are seven selectable weather channels, the weather frequencies are as follows:&#9673; Channel 1: 162.400 MHz&#9673; Channel 2: 162.425 MHz&#9673; Channel 3: 162.450 MHz&#9673; Channel 4: 162.475 MHz&#9673; Channel 5: 162.500 MHz&#9673; Channel 6: 162.525 MHz&#9673; Channel 7: 162.550 MHzI use channel 1 for my area, but I'm guessing this covers all U.S. weather broadcast areas.&#10003; PROS+ Nice looking radio+ Simple to use+ Four power options+ Two light options+ Micro tuning on the radio dial+ Quite loud for such a small radio+ Seems durable overall+ Has a nice, comfortable, and durable sewn leather and nylon handle for carrying&#10007; CONS- No power adapter included.- Some of the dials seem cheap, they wiggle a little and are made of fairly cheap feeling plastic.  I suspect the company has done that to make this as inexpensive as possible.- Bad placement for the headphone jack, it sticks out of the rear instead of being on the side or top.- No aux input.&#9758; CONCLUSIONThis radio is a great option for those times when the power is out, and if an emergency/disaster ever strikes.  I like having the lighting function and using the FM radio when the power is out here.Overall I feel that this is a great radio for emergencies, it could be used as a full time radio, but without an Aux input, or the A/C adapter it would be limited in what you can do with it.  And I wouldn't say the sound is as good as some of my full time radios, but it is pretty good and plenty loud, so don't hesitate to use it full time.I recommend everyone get a crank radio for power outages, emergencies, and possible disasters.  This one is a good balance of features and price so if you like this one, go for it!&#9734; &#9734; &#9734; &#9734; &#9734;Highly recommended!\n",
      "Name: reviewText, dtype: object\n",
      "701    I bought this to fit the \u0010Sony 7-inch DV\u0010D player and it fits with no problem.  Lots of storage space.  Great price, too.\n",
      "Name: reviewText, dtype: object\n",
      "107    This small relatively inexpensive ipod is perfect for anyone.  I have to admit I didn't want to spend a fortune for another traveling audio device.  However, when I first saw the advertisement on tv, it was love at first sight.  I can''t believe how much it holds.  Presently, I have an audio book which has 11 cds and 1 music cd loaded with plenty of room left to download another cd or 2.  Some people are concerned that it doesn't have a display.  Personally, who cares.  For those who do not want to watch CSI on a 1 inch screen or have no need to download 80 gb of music or tv shows, it is fine.  For the price who can beat it.  The only thing I would change is the horribe ear plugs.  I realize they could not include the best high quality ear plugs for this price.  But they could have included ear plugs that actually fit in normal ears.  I purchased another set of ear plugs and it was fine.  I feel fortunate that I even own one.  \u0007You will not be disappointed.\n",
      "Name: reviewText, dtype: object\n",
      "676    This desktop just arrived and I haven't been able to try out all it's functions -- mainly because there's no manual to find out how to do this -- but after downloading the software before installing the desktop, so far, I really like it. It is so much more superior to any Mac keyboard and mouse I have ever had that I can't believe it's a Microsoft product.Pros:  Keyboard layout is comfortable, keys easy to see, wrist shelf is relaxing for the hands, silver color attractive; all in all very easy to use, Mouse is larger than my old Apple super mouse, but very comfortable even tho' I have a small hand. I have arthritis so having a comfortable mouse makes my computer activity less painful.Cons: Key tapping is noisy and there's no manual to show how to 'customize' either the mouse or keyboard; also, download the software from Microsoft before installing equipment. Don't use the CD.Update: In the first set, the mouse was defective. Amazon offered me a new deskset at a higher price and a refund for the 1st set less s/h. I ended up paying $19 more for the same set. Less than a month later, the keyboard quit. Gave up on \u0010Amazon and went direct to Microsoft. They couldn't help because the deskset was out of manufacture, so they sent me a new Microsoft deskset, free, that works with a Mac. It works, but alien, so another learning curve. We'll see how long this one lasts -- again, no manual. Good news: The mouse is great, it slides like it's on a sheet of oil, the keyboard very comfortable and this wireless plug-in receiver is smaller than a flash drive and fits directly into the usb port, no corded usb receiver like the defective set. Mac users looking for a Microsoft compatible deskset: Microsoft wireless comfort keyboard 5000 coupled with Microsoft wireless mouse 5000. The support person at Microsoft was sympathetic and cooperative.\n",
      "Name: reviewText, dtype: object\n",
      "962    The keyboard is in standard QWERTY format, and has navigation arrows, a numeric keypad, plus video control buttons - with volume control - at the top of the keyboard.  The key action is just firm enough and I have no problem typing on it.I doubt that I could be any more pleased with a keyboard.  \u0010Especially one that will work on Mac and Windows-based PC's.\n",
      "Name: reviewText, dtype: object\n",
      "378    Good: recent sound, reasonably comfortable (b\u0010ut I we\u0010ar \u0010g\u0010lasses, they p\u0010inch\u0010 after a w\u0010hile), good \u0010price.  Bad: somewhat che\u0010ap \u0010construction. B\u0010ut my \u0010biggest gripe \u0010is that it is VERY picky about \u0010how the phones m\u0010ust rest\u0010 in the cradle in order to start recharging, and req\u0010uires way too m\u0010uch of fussing to get them to sit right. Note: I use these to listen to \u0010internet radio via my Mac. When I turn th\u0010e Mac's \u0010volume all the\u0010 way up and \u0010then adjust the\u0010 sound \u0010level with th\u0010e phones control, hi\u0010ss\u0010 \u0010and\u0010 st\u0010atic \u0010a\u0010re \u0010greatly reduced. B\u0010ut I m\u0010ust say that after u\u0010sing t\u0010hese for a couple of \u0010years\u0010 I'm starting to itch \u0010for a pair \u0010of \u0010to\u0010p\u0010-notch \u0010Sennheisers.\n",
      "Name: reviewText, dtype: object\n",
      "Processed 1000000 records\n",
      "this round saved total 999678 records to MySQL\n",
      "769    Great battery...all sealed and i\u0010n ori\u0010ginal box, shipped fast!\n",
      "Name: reviewText, dtype: object\n",
      "565                                                                                                                                                                                                     Nice build qualiy; it has a solid feel to it. It works.  What more can I say?  \u0010I had a Dell laptop for work, and used a displayport-to-DVI cable to hook it to a monitor.  Then they put video conference rooms in at work, that used HDMI cables.  So I got this adaptor, and used the cable I had.  So the chain is displayport -&#62; DVI -&#62; HDMI.\n",
      "698    I bought this keyboard to use with my home theater pc.  At first I thought it didn't work at all then, by chance, I was using it standing near the PC and it worked.  After calling tech support I confirmed that this uses the 27 MHz band which gives you a max distance from the receiver of 6 feet.I carefully searched the product  info on the logitech web site and nowhere does it mention this limitationIt's one thing to sell a product that has a certain limitation.  It's another thing \u0010 all together to do so without telling you about it.\n",
      "Name: reviewText, dtype: object\n",
      "204    I have had these headphones for a few weeks now and I absolutely love them, they sound amazing. Put simply they sound like movie theatre speakers\u0010/club speakers.**IMPORTANT** They have a \"V\" shaped sound curve, which means the lows/bass are forward, mids are recessed and highs are forward. They are FANTASTIC for techno, rap and for my tastes good for hard metal. For music with mostly mids, like jazz, classical, orchastra ect these are not ideal. That being said I still love listening to soundtrack\u0010/orchastra music on these, it sounds way better on these than on my macbook pro speakers. The bass is always loud but is not overpowering or muddy.PROSSound quality throughout the sound spectrum, BASS if you love bass get these!! Build quality, 5 year warranty, They go LOUD, decentralized drivers reduces listening fatigue/hearing damage(Ultrasone claims 40% less and I agree), Surround Sound does work well, very good sound isolation (keeps your music in and cuts background noise).CONSComfort is mediocre, they are not uncomfortable but can become uncomfortable if you listen for extended periods of time. Portability, the cord is 10ft long, and is not detachable. Long burn in time, Ultrasone says 50 hrs.DETAILSLows/Bass, As said before the lows are incredible. They can produce a phenomenal loud rumble, that is lower than my macbook pro speakers can go. The bass is loud and VERY punchy, at moderately loud volumes I can feel the bass kick in my ears. They are incredibly fun to listen to, especially with techno music, the BOOM BOOM is addictive. Bass guitar sounds great on these too, loud, punchy and much lower and less flat than it sounds on my macbook pro. The bass is also very clear and tight, I can clearly hear the bass guitar strings vibrating. The bass is loud without being overpowering, this is even more the case when they are burnt in(yes burn in does make a difference)Mids: The mids are very clear and very, very good (though not quite as good as the lows/highs)and can be intruded upon by the bass, you can clearly hear lows in the background taking center-stage along with your mids during a mids part of a song. This is less of a problem once they are burned in and to what degree this happens to depends greatly on the song. That being said this sound characteristic has grown on me and I like it for metal and most orchestra stuff. If the bass is too much you can use Itunes or another equalizer to turn it down, in my experience this totally solves the problem.Highs: Fantastic, crisp, clear and never shrill or piercing. In my experience these wont make highs that would hurt your ears in situations where other headphones  would. The highs are a bit loud compared to the recessed mids.Comfort: The earcups are very comfortable, the headband does not have a ton of padding (though the padding there does soften up). After about and hour of listening the headband can bother the top of your head a bit but in my experience a simple adjustment, pulling them back or forward, will fix that. For VERY VERY 2hrs+ long listening sessions you may want to take a break for a few mins. Other ppl complain about the clamp they have on your head, I don't have a very wide head and I never found this to be an issue. They also stretch out and lose the clamping effect.Build quality: I have only had them for a few weeks but they seem very sturdy, I wear glasses with them and have them on for about an hour each day. The glasses leave indents in the earcups but this goes away and it has not done any damage or left any permanent marks. The cord is very long, 10 ft, and is not detachable, but it is very thick and sturdy, it is thicker than a mac charger cable and almost as thick as a ps2 controller cable.LACK OF LISTENING FATIGUE: The decentralized drivers eliminate any fatigue on your ears. I listen to them at moderatley loud volumes and they don't bother my ears while other headphones would. Ultrasone claims 40% less pressure on your ear drums and I agree. For those who care about their hearing but like loud music, this is a major +\n",
      "Name: reviewText, dtype: object\n",
      "356    After several years of buying headsets between $30-60 and going through them like cupcakes, I finally found the perfect one! I was going to corded because I thought they would be better - simpler technology and all that. This is one of hose products, from which I will move away, in the future, kicking and screaming!LC\n",
      "Name: reviewText, dtype: object\n",
      "907    Watch out, this printer can go berserk. After changing reels, the label\u0010 maker became the sorcerer's apprentice, churning out labels as if possessed. Trying to staunch this flow --- the floor was covered with labels --- I tried to release the front clamp with the switch provided. The switch came off in my hand. Good sight gag, lousy performance. Sleek appearance, cheesy once you lift the hood.\n",
      "Name: reviewText, dtype: object\n",
      "265    Initially, I was wary of buying such a thin, flat keyboard. I had gotten used to the iOne \u0001\u0002\u0003\u0004\u0005\u0003\u0006\u0001\u0002\u0003\u0004\u0005\u0003\u0006XArmor U9-BL illuminated mechanical keyboard, with its raised, manual typewriter feel and clickety-clack keys. In a few days, I quickly adjusted to the silky-smooth, quiet action of this Logitech K740 ultrathin illuminated keyboard. Extending the collapsible feet raises the rear of the keyboard less than an inch, so it still lies fairly horizontal.  But this position is easy to get used to.  Maybe it's my imagination, but my typing has gotten faster in just a few days.  The three illumination levels are a great feature (I prefer the lowest illumination level) and unlike my previous xArmor keyboard, the Logitech \"remembers\" the illumination level each time the computer is turned off and back on again. The F-keys can be customized with Logitech's downloadable software.  Media volume control keys are in easy reach in the upper right corner and the Logitech software displays the volume control on the computer screen when these keys are pressed. All in all, this is a great, quiet, comfortable, versatile keyboard.\n",
      "Name: reviewText, dtype: object\n",
      "Processed 2000000 records\n",
      "this round saved total 999496 records to MySQL\n",
      "896    This set is very nice, both from an aesthetics and audio point of view.Compact yet clear in the treble and deep in the mediums, this set really fits the bill for my desktop.If you are going to listen more than just casually, I would advise to look elsewhere, but for the day-in-day-out use, it is the best compact 2.0 I have listened to as of yet.It doesn't squeel or rattle, quality assembly ensures they are solid and sound flawless.They allow quality listening to my favorite music while I work without being tiring over time.That's all I have to say.good stuff.\u0005&igrave;\u0005\u0005&Auml;\u0005\n",
      "Name: reviewText, dtype: object\n",
      "103    I was using a Western Digital 2 TB external drive for backup purposes.  The WD is nice, but does not include a cooling fan.  The electronics in the case malfunctioned,  however I was able to recover the hard drive.  I purchased this case and I'm back in business!  This saved me purchasing a new Apple Time Cap\u0010slue!\n",
      "Name: reviewText, dtype: object\n",
      "929    The unit would have had 5 stars all around, except for the rubber charge port-USB cover. As others have stated, the design of the charge cover plug is a Failure (i.e. it is very hard to connect the USB as the plug is in the way, it is also hard to open) I expect it will not last the life of the deviceThe GoodThe picture is fantastic, I have used \"Pavtube Blu Ray ripper\" to rip dvds to be used on this unitThe sound is great and allows the true enjoyment of FLAC files and other formats to there fullest. I use Fedora 10 and Rythmbox 0.11.06 to rip to FlacThe radio I could not believe, it is better than\u0010 my home Sony stereo system, It is A+++++++  you have to hear it to believe itThe ability to record is good. (i.e. handy at a meeting)The usage as a text file reader a nice option,  read a document while traveling ( i.e. works as a USB storage disk)User interface on this unit is Nice and works wellThe BadCover for the USB plug connectionOne point: My unit came with one USB to Cowon (mini USB) cable, so You do not need to order a second cable unless you need a second.Other reviews hinted that it did not come with the player IT DOES (or it did with mine).Amazon did a great job of getting this unit to me on time here in Hawaii, and it also arrived undamaged thanks Guys!This unit is so much nicer than the apple options out there, in my opinion on this one.I am looking forward to watching a couple of movies on my next flight.\n",
      "Name: reviewText, dtype: object\n",
      "15    This is definitely an economy bag, and it has very little room for anything extra, BUT it does hold a Nikon D40 with 2 lenses (one on the camera: 18-55 and 55-200) along with SD cards, extra battery, charger and cable. Little room for much else. \u0010\u0010It would be fairly roomy for a compact camera and accessories. The external storage is useful.Very basic bag, but a nice compact size if that matters to you (it's just what I was looking for) and reasonably padded and constructed.\n",
      "Name: reviewText, dtype: object\n",
      "82    I'm go so excited when I saw that big box arrive at my doorstep. The iMac works fast, came with 1GB of RAM, but I'm replacing it with 2 2GB cartridges. I'm a gamer (WoW), and the performance is AMAZING. I honestly don't need that extra memory, but what can I say, I like higher performance.The shipping was very fast, too. They send it through UPS, a very reliable company. Only took more than a few days to get here. It was tightly sealed with bubble wrap (and a lot of it!) in a big brown box, just like in the description. \u0010If you didn't know, you can track your purchases through UPS, and that's what I did every day until it arrived.Do read carefully, though, because all I got was the iMac, and nothing else. I was half-expecting to get the keyboard and mouse and software (iLife, snow leopard), but it was my mistake that I did not read over their description thoroughly. I suppose I have to look up the definition of 'refurbished' again, because I always thought it was, 'renovated' or 'fixed from an old problem', because I was expecting to see a like-new iMac, but there are a few marks on the front aluminum part and on the back, but they can only be seen if you closely look like I do with everything I buy. And also - this is a message to the company - you shouldn't put labels right on the iMac, or at least put them in places that are inconspicuous. I had a rough time trying to rip them off the top, side and back (they were small, only the size of your pinky) without leaving that sticky substance all stickers leave behind after being stuck there for a couple months. I have to go through with goop now to rub it off. Very minor though, I can understand business is business.For users who are looking to switch from PC to Mac, the only issues you'll face will be the fact that you have to download an app to delete and uninstall software that you no longer use instead of going to the control panel on PCs and doing it there, and the fact that you don't have Microsoft office anymore, but that's it.This model doesn't have the SD card jack on the side, that's only the new 21.5 inch and 27 inch ones that were released in '10. The screen in super super bright, something to love if you watch videos in 1080p all the time and play games on it. Of course, you can always turn the brightness down. Macs are really simple, and that's one thing I love about Apple. But this review's about the company, I get a little side tracked sometimes.I would definitely buy from this company again, great price for a great buy. Fast transaction, no problems at all. Thanks so much!\n",
      "Name: reviewText, dtype: object\n",
      "626    I've owned these headphones for about a year now. I wasted a stupid amount of money on garbage headphones from nike and a few other terrible terrible in ear headphone manufacturers prior to trying these. Not everyone's ears are the same so I believe any headphones that have a hard plastic speaker casing are hell to wear for longer than 27 seconds. That being said, I was not a huge fan of the little rubber guys on these ones either but I did not give up on them because the sound quality is so wonderful. I bit the bullet and got some great foamies that amazon suggested. They are the most comfortable, best noise isolating, best sound quality headphones I've ever purchased. \u0010And as long as you have the foamies they are fantastic for exercise cause the foamies will not let the speakers fall out of your ears.P.S. I gave the 3 star rating for the comfort out of the box due to the sub par rubber speaker cover things. Foamies brings that rating up to a 6 star. :)[...]Comply Tx-200 Foam Tips (Black-Medium), 3-Pair Pack...... a little pricey but it doubles the noise isolating quality.\n",
      "Name: reviewText, dtype: object\n",
      "19    This product thus far has totally met my expectations - I've been looking for a truly wireless, stereo a2dp solution for years now, and most products have been lacking in some significant area - this headphones are not lacking in any significant way.I've paired and used these with android devices flawlessly, and Apple/Mac computers with the recommended bitrate tweaks you can find on the internet. No tweaks required for pairing w/ android devices - worked out of the box.Audio quality is very good - these headphones are ON-ear - they're a bit smaller than they look in the photo (ie, they are not OVER ear like the large Sennheiser monitor headphones - they are on-ear and don't totally enclose your ear). I think the over-ear headphones (understandably) have better sound - I have a pair of \u0010Sennheiser HD 280 Pro's and the sound quality and bass are better, but those are Pro, over-ear headphones. The audio for these are very good, considering that they are on-ear which I think limits the bass to some extent, and gives you a bit less three-dimensionality than you can get in the over-ears.The bluetooth functionality works well - they're simple to pair and operate. These have a bulitin MIC as well, so you can use them to talk as well as listen to tunes.The battery life is good considering the size of the headphones and battery - I've gotten about a day and a half out of a full charge, assuming maybe 4-5 hours of total listen time. Not bad. Also included are a 1/8\" connector for when your batteries do die, or you can't use bluetooth (on an airplane). Only issue I've had is that the bluetooth has drowned out my wifi connection when it is already compromised (ie, poor Wifi signal gets totally drowned out by the bluetooth signal).Great product - highly recommended - with Pandora or other streaming music services and a2dp, I can finally have truly wireless music wherever I go.\n",
      "Name: reviewText, dtype: object\n",
      "842    I hope the $2900 quoted here is a typo, because it's  WAY above list. You can get this for hu\u0010ndreds less at the Ap\u0010ple Store even if you get hit with California sales tax (and they won't charge you shipping). Buyer beware!!!\n",
      "Name: reviewText, dtype: object\n",
      "731    I like that the support poles are pretty sturdy but am otherwise disappointed. The carry bag is cheap material with lousy zippers, but better than not having a bag at all.  One of the bags with the backdrops didn't even have velcro on it to hold the bag closed\u0001' like the others did, so definitely an oversight on someone's part. They're really cheaply done anyway. The green screen has a nasty pull going all the way through it about a third of the way up the fabric panel. I haven't had a need to use the black or white yet, so I don't know the quality of those.\n",
      "Name: reviewText, dtype: object\n",
      "655    For my purposes, these are beautiful headphones. The KLEERi technology works as advertised, absolutely no\u0010 static or \u0010has\u0010h\u0010, and the sound quality is as clean and good \u0010as first\u0010\u0010-class wired headphones. Don't be \u0010put of\u0010f \u0010by the specification t\u0010hat there has to be a l\u0010ine\u0010-of-sight connection between the headphones and the transmitter, that's just not true. There are only two drawbacks to these phones, neither of which\u0010 troubles me since I mostly use them while \u0010sitting at my computer in my office: a.) in comparison to many other models, the transmission range is limited; b.) the volume buttons on the\u0010 phones are unnecessarily difficult to locate by touch (a silly design flaw, they should \u0010have been\u0010 raised\u0010), it's hard to use them without taking the \u0010phones off your head \u0010(no worries for me, I control the volume from my computer's keyboard, but you may have different needs). As long as you can live within  these limitations you'll be madly happy with these ph\u0010ones. If not, you might do better \u0010to lo\u0010o\u0010k \u0010elsewhere. B\u0010ut \u0010do look for ph\u0010ones th\u0010at use KLEER.\n",
      "Name: reviewText, dtype: object\n",
      "299    Forgetting the fact that the title say 8 pack, and only 4 are sent to you......  These are just awful\u0010!  I bought these for my Nikon Digital camera.  They are supposed to be fully charged right out of the box..  i put them in, took a days worth of photos (literally about 20) and the next day the batteries were drained....I charged them up and the same thing happened to me This weekend.  Regular Alkaline batteries last for a couple of weeks in my camera.....these are just unacceptable, especially at this price.\n",
      "Name: reviewText, dtype: object\n",
      "666    This case fits the Zune perfectly. It fits snuggly and is a bit thicker on the sides but thinner in the front so that you can tell it has drop protection but it doesn't add too much bulk to the Zune.It also does not cover the screen at all so you can still use the keyboard (in either direction).8\u0006\n",
      "Name: reviewText, dtype: object\n",
      "659    Even when plugged directly into a MAC USB port, either nothing happens or iTunes reports an error. Waste of time and money\u0010.\n",
      "Name: reviewText, dtype: object\n",
      "422    \"First, let me say this is all I had hoped it would be. Second, this is still a tool for amatuers. It is fantastic, but still not what a proffesional would use. If you're looking to improve your hobby, this is perfect. It has a neutral white balance and because they are LEDs the battery life is great. The best distance for this without a tripod is less th'\u0003Xp'Xp'. All said, I love it.\"\n",
      "Name: reviewText, dtype: object\n",
      "Processed 3000000 records\n",
      "this round saved total 999390 records to MySQL\n",
      "516    I use this card in a computer which dual-boots Windows 7 and Debian 7\u0010.  Worked out of the box with Debian (it uses the Free and Open Source Software ath9k driver) and worked after installation from the included CD with Windows 7.As for speed, I am currently using a router which supports but is not using 300mbps operation; it is instead running at 150 mbps.  My knowledge of technical specifications of Internet speeds is lacking, but I can get download speeds of over 3MB/s with this card, rivaling the fastest Ethernet connections I've used.The wireless router in my house is upstairs through a considerable number of walls and, if I had to estimate, a good 35 feet from my computer.  The tower is oriented such that the antennae face almost directly away from the router, and yet signal strength is routinely reported as good and I have no problem attaining the speeds listed above.Overall, I highly recommend this.  It is a great card; fast, gets strong signals, and works out of the box, all of the characteristics any wireless card should have.\n",
      "Name: reviewText, dtype: object\n",
      "929    I almost sent this keyboard back.  Then why the 4 stars?  Well, see, I have a Mac.  Yes, I know, Macs and gaming don't really go together, but that's what I use.  My complaint about the keyboard is the moving of the Windows key to the right of the space bar and placing their proprietary key on the left in it's place.  That key is used as a function key to enable the multimedia keys on the F keys.  But, you see, when using a Windows keyboard on a Mac, the Windows key is used for the command key, and I always use the one of the left.  Command Q quits programs, not the X in the top left corner. It only closes the window.  I am pretty picky about how I use keys and I was unable to remap the function key, as it's coded into the keyboard bios.  Most key mapping programs I found for the Mac wouldn't allow switching alt, ctrl, and Windows keys.  I finally found one and decided to hang on to it, since it is one of the few mechanical keyboards that state they will work with a Mac.  My other complaints - the L shaped enter key and the large backspace key required moving the back slash key.  Where?  Next to the right shift, causing them to make the right shift smaller and making it unusable for the right hand, since it is now too far for the right little finger to hit and remain on the home keys.  That normally will be a deal breaker for anyone that will be using the keyboard for both gaming and typing, but I am not a hundred word a minute typist and hardly ever use the right shift key, so it wasn't that big of a deal for me.  I was stupid of them to insist on having an extra large backspace key, because who needs it?  Move the back slash key up next to the equal sign and make the backspace key smaller and the right shift key larger and you have  a decent keyboard.  I do like the response of the keys when pressed, even though they didn't make them click like an old IBM keyboard, my favorite.  \u0010So, 4 stars are mainly for feel and craftsmanship.  It is a solid built keyboard with an extra long cord.\n",
      "Name: reviewText, dtype: object\n",
      "28    If I were going to buy another keyboard it would be another one of these.  The DAS keyboards are by far the most comfortable to use.(I have the lettered and blank silent models - key feel is identical - this review can describe both silent models)Typing on this keyboard is effortless - the pressure/resistance of the keys is a little lighter than all other keyboards I have and I noticed that the lighter touch reduces fatigue.  After a few days of using it you will feel yourself flying - your typing speed will improve and accuracy will also improve.  Other keyboards will let me type fast but I definitely notice having to press harder than the DAS requires.  The lighter touch of the DAS definitely contributes to faster typing and less fatigue.The blank-key model is a great way to learn how to type because there's no benefit at looking at your fingers and keyboard - children are motivated to practice their typing tutors to learn how to type (Mavis Beacon comes to mind)!  Your kids and co-workers that don't know how to type will be motivated to learn!  And it's fun to watch those who cannot type try to use the blank key model...  the facial expressions are priceless.I also have the silent keyboard with lettering on the keys - the feel is the same and the printing is easy to read.I use one on a Mac and one on a PC - works fine with either one, USB or with the PS/2 adapter.  The mac key layout is different and you should plan to install a freeware/open source GPL program called DoubleCommand that swaps the Alt and Option keys.Gamers will like the keyboard as you can press on the edge of the keys and they will still depress, unlike some keyboards that get really tough to press if you don't press right at the center of the key.The design of the key switches is different in the DAS keyboards because there is more wiggle room for the key to travel - they don't bind up if your hand starts to creep and you press the edge or side of a key.  It seems like the keyboards that suffer this problem are the ones that have a very tight direction of key travel and will stick - the DAS keyboards do not do that.As far as Blank vs. Labeled keys - blank's nice; people who don't know how to type won't waltz over and start using your computer if they can't type anything and young kids will be less tempted to hijack your browser to play web-based games.  Labeled keys are nice if your number row proficiency is poor and you don't want to take the time to practice typing numbered row tutorials.  A nice benefit\u0010 to the blank key model is you can pick up Dvorak and not be bothered by the key labels (Dvorak training is a nice feature of Mavis Beacon).The clicky DAS keyboard is even better than the old IBM clicky mainframe/terminal keyboards so don't feel afraid to go that route if you like that feel.Manufacturing quality is very high - the keyboards are packed in very good packaging, include a cleaning cloth, USB-to-PS/2 adapter and good rubber feet on the bottom to keep it from sliding around.  I type with the key feet retracted inside so the keyboard is as flat to the table as possible (minimizes wrist strain) and it will not move unless you push pretty hard - quality workmanship all over these things.I've never cleaned mine and it's still glossy.  The E key has retained its matte finish and is not slick and worn down like other keyboards I have.  Even on hot summer days my fingers don't slide or lose grip.Bottom line - the keyboard is a genuine gift for anyone who types a lot - keystroke pressure is light but not too light, key travel is just right and the bottom of the key travel is solid, not mushy at all.  The curvature of the key rows (from the number row to the space bar) is just right.  Very comfortable all around.If you make a living by typing on a keyboard, you need one of these.\n",
      "Name: reviewText, dtype: object\n",
      "957    VERY LIGHT EXCELEN\u0010T FOR TRAVEL OR OTHER BATTERY PACK,  WORKS BETTER THAN ORIGINAL.  WAS NOT EASY TO FIND BUT THE ITEM WAS GOOD!!!\n",
      "Name: reviewText, dtype: object\n",
      "398    I also ordered this from purplus. Item says it works for mac but it does NOT. Where the mac installation is supposed to be is an exe. file when you click on it. Was directed to 3rd party tech support but there is NO  WAY to make something  magically appear that does not exist. Dont buy this product\u0010\u0010\u0010.\n",
      "Name: reviewText, dtype: object\n",
      "796    I was a bit hesitant to purchase because of the price and lack of reviews, but I am very happy that I decided to pick this up. \u0010It is completely compatible with my LG DLP-TV. It even seems a bit brighter than the previous Phillips' branded bulb. I can't make any promises as to how long this thing will last but so far it seems to be exactly what I needed. If you are not sure about it, just go for it- you won't be sorry.~~UPDATE~~I have gone through 2 of these bulbs now, each worked for about one month and then suddenly the TV would shut off after about 2 minutes of being on. I am not knocking these down too far, because maybe something else is wrong with my TV, but I think it is odd that both bulbs worked perfectly for about one month and then POOF no more. Just something to be aware of. However, the replacement policy makes it easy enough to return and buy another.\n",
      "Name: reviewText, dtype: object\n",
      "802    I am writing this review because this product did not have any reviews like other similar/identical\u0010 wall mounts that are listed.  Bottom Line: The drywall anchors included with this product are not adequate and your TV will fall off the wall if you install this wall mount out of the box.  Luckily before I plunked my TV on the wall I gave the mounts a TWO-FINGER pull when I installed them and was horrified when it slid out of the wall like butter.The upside: This product is way cheaper than the Samsung branded mount and it works well *IF* you provide stronger anchors to attach the hardware. I used white COBRA WallGripper Screw-in Anchors for drywall 36X 1/2\" rated to 50lbs vertical force.Also: Drill pilot holes and hand screw everything!If you want absolute peace of mind go with the expensive Samsung mount.If you need to save money go with this or a similar one for $25 or so, and get better anchors.\n",
      "Name: reviewText, dtype: object\n",
      "989    Bought the wireless keyboard and mouse for using it with my MacBook Pro OS X 10.6.8. Works well for all the basic functions.Notes on keyboard1. Amazon states operates only with the windows PC but checking with Logitech confirmed it should work fine with the Macs as well.2. Out of the \"FN\" key capabilities I could only make the power off key \u0010to work. All the others were tied to operating for windows.3. From the additional extra features keys located on the very top of the of the keyboard, I could make only the forward, play, reverse, volume and folder keys to work. Calculator key does not work.4. Basic Qwerty keyboard works fine.5. Use the \"windows key\" as the Mac command key to operate your regular MAc features.It works well for my needs. I have not experienced any obvious issues with the mouse and it seems to work fine.As for battery life it all depends on usage but I know its not bad as I haven't had to replace batteries since I bought it. Tip: Switch off the keyboard and mouse at the end of the day or whenever you do not intend to use the devices for a long period of time. This definitely conserves battery power.\n",
      "Name: reviewText, dtype: object\n",
      "117    I'm totally impressed! From the moment the music hit my ears, a big smile came to my face.. Theses little babies were totally impressive, just the sound I was looking or, and for under $ 20 WOW!!! I have tried a few pairs of sub $20 ear buds and they weren't quite there for me. No wonder there are so many reviews for these, and why most are very good.If you just started looking, I suggest to get these first, and then you'll be done.Impressed and amused! Great sound!\n",
      "Name: reviewText, dtype: object\n",
      "852    I've been SquareTrade customer for years.  Sometimes, I had a little hard time to file the claim because the call center customer service was not a native American, but Indian-American.\u0004 So far so good, Square Trade was a straight forward warranty company. I spent 90 dollars on my iPhone 5 two-years warranty, except lost covered. I filled in the claim first time because my phone was vibrate for no reason and I paid 199 dollars to Apple Store, in the same day, Square Trade paid that money back to my pocket by the check. Last but not least, I am looking to buy new Macbook Pro Retina and the price of warranty is around 200 to 300, at this time I am surely enough that this company is not going to tricky to me. Good Company!\n",
      "Name: reviewText, dtype: object\n",
      "480    I ordered this machine when I was on a business trip and never got a chance to fully test all of the ports and connections on this machine.When I got home and wanted to use the DisplayPort to connect to my monitor, I realized that ASUS had shipped me a machine with an issue.  I thought no problem, I am an IT geek, I can figure this out.I have attempted to reload all the drivers that pertain to the two Video Cards on my B43J machine.  The one thing holding me back is that the ASUS website does not actually have the Intel Driver available for my model of Laptop on their website.  I checked the Intel Website, and they detect that I have and ASUS machine and advise that ASUS has customized this driver for use on this machine.  Since my laptop uses the Intel Driver for low power consumption and the ATI driver for when it is plugged in, this sounds very reasonable.So I\u0010 broke down and called the ASUS customer support.  On both occasions I have got an agent in training who knows very little about computers and who likely has only been on the ASUS customer support site for less than 10 minutes.  On the first call, I was asked to mail in my laptop for service and best case scenario they would have it fixed and likely re-loaded with the factory software in two weeks.While I think the build quality of the case and hardware is 100 times better than the Dell that I just passed off to the in-laws, I miss the support that Dell has to offer.  What good is a computer that has a video display that supports some large high-res monitors if you can't actually hook it up to a monitor?\n",
      "Name: reviewText, dtype: object\n",
      "414    I like this mouse better than theLogitech MX 610 Left-Hand Laser Cordless Mouse, which it replaced. The unusual sideways orientation of the Evoluent looks strange, but it took no time getting used to.  It promotes a very relaxed and natural hand and wrist posture. It looks like your fingers are lined up vertically, but in reality, your fingers are positioned in a gentle arc and your hand is turned inwards by a few degrees. Your thumb rests in a chrome-looking divot.The Evoluent 4 design has a bottom \"lip\" that prevents your pinky finger from rubbing against the desk. I can confirm that it works beautifully and adds to the overall comfort. It helps you to position your hand correctly. I also find that proper chair height (in relation to your desk) and wrist support is essential to keeping the arm and wrist straight. It also has a very long cord, approximately 6 ft.Your index, middle, and ring fingers align with buttons 1, 2 and 3. Between buttons 1 and 2 are a scroll wheel (with notched movement). The scroll wheel can be clicked as another button. Above and below the thumb are two additional buttons that could be used for back/forward functions in your favorite browser, bringing the total button count to 6, and they are all programmable under Windows (a non-WQHL-certified 32-bit and 64-bit Windows driver are included in the box on a small (mini) CD. The purpose of the drivers is to assign custom actions for the buttons. You can even assign actions to a combination of the thumb and finger buttons when pressed simultaneously. Mouse sensitivity is controlled by its own dedicated rocker buttons located where it cannot be accidentally pressed.Note: Even though the Evoluent Windows drivers warns you to uninstall any previous mouse drivers to \"prevent conflicts,\" I ignored that and kept my Logitech drivers (SetPoint). Both mice work fine. I can actually still access the SetPoint drivers through a tab in the Evoluent drivers setting page. Nice.The Evoluent's sensitivity is indicated by 4 LEDs located at the top of the thumb divot and correspond to four hard-wired sensitivity settings. The lowest sensitivity is around 400cpi, while the highest feels like around 2000cpi (these are my estimates obtained by comparing it with other mice; it is not specified by Evoluent). I operate it on the 2nd-lowest setting, which is about 800cpi.\u0010 The nice thing is that the sensitivity function does not require special OS drivers, so it works right out of the box on any computer and any OS.  The mouse even remembers the last sensitivity setting used when you unplug it. The sensor is an eye-safe infrared laser. Even though it is not sold as a \"gaming mouse\", the Evoluent 4's sensor performs as well as gaming mice in both speed and tracking under high-acceleration. That is more than I can say for the MX 610.There are no Mac OS drivers supplied by the company, although third-party drivers exist for reprogramming the buttons (links are provided on the Evoluent product page). On Mac OS X, I did not install the third-party drivers, so I could not assign any special functions for the buttons. Out of the box, the button under your index finger is mapped to the \"left button\" (primary on a right-handed mouse). Button 3 under your ring finger is mapped to the \"right button\" (secondary). Button 2 (middle finger) brings up the Mac OS X dashboard, and the top thumb button triggers Expos&eacute;. The bottom thumb button and the mouse wheel button do nothing.The mouse is light enough and sensitive enough to push around with just your wrist; you don't have to move your whole arm. You can even steer it with just your thumb and finger tips. This is the secret to its comfort. It encourages you not to grip the mouse with any tension. You don't need to. With conventional mice, even ergonomic ones like the Logitech, I eventually find myself gripping the mouse with just the ring finger and thumb, and that creates tension and fatigue within an hour of use.The downsides are minor. The buttons don't require much force to click. While I like the light touch, it's sensitive enough that just reaching out and wrapping my hand around the mouse will sometimes result in unwanted button clicks. This is not a big problem, but I have noticed a minor increase in accidental clicking since I began using the Evoluent. Maybe I am still getting used to it. I can pick up and reposition the mouse while resting my fingers on the buttons without clicking those buttons, so it is not hair-trigger sensitive.Also, the dark gray part of the mouse where your palm touches is covered in a \"soft touch\" coating. While it feels nice, this type of coating is not very durable in the long run and will start to breakdown after several years, becoming tacky to the touch, or it can rub off at the points of frequent contact. This is probably why the pamphlet in the box warns not to use solvents or cleaners on the mouse, only a damp cloth. I wish companies would stop using this coating.Its unusual appearance also makes it a great conversation piece.Bottom line: if you're thinking about buying this mouse, buy it!\n",
      "Name: reviewText, dtype: object\n",
      "988    I was excited to buy my 1st ever DSLR camera & i did the mistake of going ahead with Nikon instead of a canon & i bought the D7000 because of a thanksgiving deal for $1075. I was excited about all its features: sports photography, faster shutter speeds etc and i bought the best possible (Lexar Professional 600x 16GB SDHC UHS-I Flash Memory Card LSD16GCTBNA600) card to use with it.Before i start with what's going on with me: i have been purchasing Nikon camera's since 2006 (point & shoot).My nightmares with this camera (D7000) began soon after the purchase, please note that i used this camera only once a month due to my busy work schedule and words are not enough to describe the problems i had to go through with this piece of junk.Problems:1. The camera failed to focus2. The camera failed to click multiple shots as advertised in its specs (6fps). Forget 6fps, it constantly showed an &#34;ERR&#34; message on screen preventing me from clicking any multiple shots at even the slowest of the speeds.3. The camera failed to work properly even with automatic mode on4. The shutter of the camera also was not working smoothly and made weird noises.5. The camera body suffered from multiple failures & i had to get embarrassed in front of my friends etc on many trips. The horrifying story doesn't end there, this is just the beginning of a continued saga (date: 6/24/14). After spending a good 30 minutes with the customer rep and explaining them my problems with the camera, they asked me to send in the camera. I had to pay $30.00 USD to USPS to get the camera shipped back to Nikon for repairs. After a month or so (they don't care or bother to provide any estimates on when they can fix the camera or care about their customer at all), it was shipped back to me. Fortunately for Nikon, i got busy with my professional life and could not spend time with the apparently &#34;fixed&#34; camera for another 2 months. After that, i decided to take the camera out for a nature photography on a pleasant saturday morning with my \u0010Tripod & guess what --&#62; the dreadful &#34;ERR&#34; showed up within 2 minutes of using the camera and i became a laughing stock yet again amongst my friends - thanks Nikon !6. I again went through the cumbersome (very unprofessional) process of educating and informing their pathetic customer service rep about the problems with the camera for the 2nd time & after speaking with their arrogant and weird attitude manager, it was requested to be shipped back to them yet again to get &#34;fixed&#34;. DESPITE MY REPEATED REQUESTS and NOTIFICATIONS that it is a FAULTY UNIT and i as a CUSTOMER HAS PAID NIKON PRECIOUS $1075.00 USD in FULL AMOUNT on DAY 1 for this camera --&#62; WHY ARE YOU CONSTANTLY REPAIRING AN ALREADY SCREWED UP CAMERA and MAKING MY LIFE HELL?? I requested for a REPLACEMENT AND WAS DENIED (Reason she offered was: Until and Unless our technician certifies that it cannot be repaired --&#62; we CANNOT give you a replacement). I requested for MONEY BACK as i told her that I AM NO LONGER interested in this pathetic camera. She said a COLD NO ! (that's NOT possible and is against Nikon Policy).7. In between this whole camera fiasco, all of a sudden the battery charger leaked some liquid out of it one day and it stopped working. I called in customer rep-&#62; requested for manager--&#62; who clearly said we are OUT OF THESE CHARGERS and there's a BACKLOG IN JAPAN right now for them and we DO NOT KNOW HOW MANY MONTHS IT MAY TAKE before we can send you a new charger. I was like....are you guys FOR REAL? Or is this a joke? I was furious and had to send in this crappy faulty charger...paid shipping charges again...pathetic experience !!8. Now Nikon did another BIG MISTAKE and LOST THE &#34;REPAIRED&#34; camera via UPS through mail & i am under constant communications with this company to get it sorted out. Forget about getting a replacement or a fixed faulty unit or money back, my situation and the experience working with NIKON IS THE WORST EVER IN USA !IF you WANT TO GO THROUGH TERRIBLE CUSTOMER SERVICE, ZERO PROFESSIONALISM, Lack of clear communication, no customer satisfaction concern, poor quality DSLR product --&#62; Go ahead and buy a nikon !Note: as of 6/24: my camera is still lost in the mail, the so called investigation is on, nobody knows what's going to happen, i WANT MY MONEY BACK ! I DO NOT NEED THIS COMPANY or its products to make my life hell !\n",
      "Name: reviewText, dtype: object\n",
      "259    These are a pain to put on.  It is a slow, careful process to ensure there are no bubbles or dust particles.  They fit well on my 4th gen ipod touch, but ended up peeling up at the corners (\u0010I think) due to my TPU Skin Cover.\n",
      "Name: reviewText, dtype: object\n",
      "625    Don't every buy a Foscam product! I bought one and needed help setting it up. The instructions are so bad. And I know a think otwo about computers. When you call technical support they say if you ordered it from Amazon you must pay $60 for phone support! This has to go down as the worst support I've experienced on a product in my life. Run, don't walk from this company!\n",
      "Name: reviewText, dtype: object\n",
      "122    This little gadget has converted my old music system into my own private concert hall, by letting me play my music library from my iPod touch.\n",
      "Name: reviewText, dtype: object\n",
      "Processed 4000000 records\n",
      "this round saved total 999393 records to MySQL\n",
      "319    Thinking I hated my Kindle Fire, I browsed to the Stylus looking for something else, and--at under $15.00--had to try it. It arrived overnight, a minor miracle in itself.Thanks to the Stylus, ol' fumblefingers now loves the Kindle Fire. This is a necessity, at least for me. Now I can highlight without accidently flipping pages. Now I can enter exactly whatI want without typing 'words' like 'bgxmtflyzkw' ever again. Just as in stores using these, the soft tip must make contact with the screen. (You knew that, but fumblefingers didn't)\u0010. This isthe best thing ever at a delightful price. My Kindle Fire world is now the pleasure anticipated. This Works! It's about the size of a pen, is light, and works for me, arthritis of the fingers and thumb notwithstanding. If you don't have arthritis, you'll be even more pleased I bet. Try it! You'll like it.[ASIN:B004GCJEZU AmazonBasics Stylus for Touchscreen Devices Including Kindle Fire, Apple iPad 2, Motorola Xoom, Samsung Galaxy Tab, BlackBerry PlayBook]]http://www.amazon.com/gp/product/B004GCJEZU/ref=cm_cr_rev_prod_titleAmazonBasics Stylus for Touchscreen Devices Including Kindle Fire, Apple iPad 2, Motorola Xoom, Samsung Galaxy Tab, BlackBerry PlayBook\n",
      "Name: reviewText, dtype: object\n",
      "389    .... know what they are doing.I adjusted my screen settings to perfect specifications and I'd like to share it with you all who want it. Now I've always been a guy to have contrast at full blast and brightness to a level in which I can see black comfortably however this affects the quality significantly and maybe I didn't compose that sentence persuasively but hear me out.Backlight- 100Bright- 50Contrast- 68Color- 60Tint- 0Sharpness- 45Temperature- coolblack detail- offBacklight control- offSmooth motion effect- low or off (this affects quick movements when you're in a game. It causes the screen to buffer/smoothen/blur).Reduce signal noise- low (same as smooth motion effect, trust me, I experimented)Reduce block noise- high.The last three settings are important for what you use our tv for. I use mine for gaming and thus those are the best settings. For tv you should put signal at high and motion at high unless you watch sports but that last statement is all assumption. Everything else is evidence based.Adjust brightness and color above to your satisfaction in your room. Whether it's a bright room or a dark room. I'm in a dark room and these settings work well in the dark.Now to the tricky part. Something that lots of people don't dare touch. The color tuner.Red-saturation- neg 20Red-bright- pos 5Green-saturation- pos 7Green-bright- neg 2Blue-bright- neg 14Cyan-saturation- pos 10Cyan-bright- pos 2Magenta-saturation- pos 4Magenta-bright- neg 14Yellow-hue- neg 10Yellow-saturation- pos 30Yellow-bright- pos 50Again. These are tested numbers and are objective rather than opinion/subjective/preference.The yellow color with a -10 hue is my preference because I* think the yellow is on the green side and I like my yellows rich rather than fluorescent. Note by rich I don't mean gold. I just mean what I believe a perfect yellow is. The other colors (red, green, blue) are based on gamma correction and they are all on the same color brightness spectrum. Meaning one color is not \"brighter\" than the next.Oh the picture is great haha. Love my tv in my room! One of my best buys ever.10/10 picture10/10 sound10/10 quality6/10 tv stand (flimsy and makes me worry but I know it's not going anywhere but\u001B\u001B\u001B. You know how it is..)Recommend for everyone who wants a very underrated cheap quality tv.\n",
      "Name: reviewText, dtype: object\n",
      "57    I am VERY upset that this tablet only lets you install just under 3 gigabytes of applications no matter what size you purchase.  Lets put this in perspective, you say 3 gigs of apps is plenty right?  Consider this, I have a Need For Speed game from EA sports installed (461megs), I also have Google Currents installed with 21 magazines inside it (1.13gb) and Google Music (237mbs) for a total of 1,728,000megabytes or 1.73gigabytes in three applications.  With that in mind I have about 1gb left for apps and with the rest of my apps I have run out of space, try updating apps when out of space.......argh.  So why didn't I just get an SD card and move the apps over to it?  I bought one but not a single application can be moved over to it, even apps that I KNOW for a fact should be able to move to the card (Nexflix) for example...nope.  APP2CD does not allow it and Norton Utilities will not either.  So, I can't even update Google Currents for \"current news/tech stories\", it says my memory is full, guess I can delete some of the books but I don't want to and I don't want to play the game of \"do I like this application I installed last week enough or do I delete it to make room for this new app in the market, it looks cool\".  I am VERY upset.  If you plan on installing applications with big footprints or games that take advantage of the Nvidia chipset you better think twice.  One final note, in settings/storage it shows I still have over 2gb of space left, that is not app space it is picture/doc/video space.UPDATE: You cannot uninstall Kaspersky Tablet Security.  If you do not purchase it, it just stays in the system tray and tells you it's not licensed.  I thought Microsoft got sued for making people have to have Internet Explorer installed without any way to remove it.\n",
      "Name: reviewText, dtype: object\n",
      "518    UPDATE - January 3rd, 2012 - HP DM1Z Pavilon (originally purchased on Amazon, Feb 2011).* It's been almost a year, since I purchased this DM1Z Ultra-portable (netbook), AND, I am not changing my 4-Star rating.Discussion - This has been my \"Travel NetBook\" since it was purchased, and I have made at least 6 trips to the West Coast, each time staying for a couple of weeks time.And I have stayed in both down town SF hotels as well as vacation rentals, so that gave me different environments to test its primary Computing function and audio-video performances, while on the road, that included multiple airports, and I'm not going to go into any hardware or software details, unless it's worth mentioning.(1) General Computing - Start-up a bit Slow (sometimes won't accept Sign-in password first time), Screen Freezes every once in a while, when on 'Sleep Mode', and therefore you need to Restart, Start-up Display population of Desk Top Icons is also Slow, IMO, and the 'Track-Pad' is still LAME (can't do much about that useless feature), otherwise, everything Works well. This is with the Stock 3GB of DDR3 RAM, which I will be upgrading later this year.(2) Audio-Visual performance - The 11.6-inch HD, 1366 by 768 resolution display (see other comments below for more detailed info) is very nice, and I don't have any specific complaints about, it is Bright & Sharp at almost 12-inches, and renders Colors + Graphics very nicely, BUT, does not perform as well as my 13-inch MacBook.The Altec Dolby Advanced Front Speaker Sound is very good for a 'netbook' and can be enhanced by either tuning it internally or you may use software to add more punch, just be aware that this is a 'netbook' and not a 5K Sony machine. I'm using iTunes and am satisfied with it for more than one reason, as it will become obvious.(3) Operating System (OS) included: Windows 7 Home Premium (64-bit) - After comparing it to other Window OS versions, that I've had before, like Windows 98, or XP Business and XP Pro, I really can't see W7, as anything futuristic or avant guard in nature, to me W7  has the me bones or 'Skeleton' as XP, with a few UI tweaks &  turns. Otherwise, I really can't see much difference, other than as usual, Microsoft, has broken the OS into the same old Window \"versions\", as before, so that you can \"Upgrade\" to a more 'powerful' Version, with more Bells & Whistles, in both 32-bit & 64-bit OS's, according to it's ridiculous, inflated Price Index.(4) W7 OS Updates - I don't think that there has been a SINGLE Day, without being prompted for a OS update, and this IS what I have always found so Annoying about Window Boxes, that they required a lot of constant care & attention. Plus, you are also constantly having to RESTART after each OS System, Software & Utility upgrades, (so much unlike Mac's that can be updated so easily via Wi-Fi), that I suggest that you use ETHERNET connection, otherwise, you may have to wait for hours for an update, if you only have Wi-Fi 802.11 \"G\" mode!~ For viewing or playback of Internet-based Movies, I urge you to use only ETHERNET, for Best results, especially for Hi-Def movies. ~* NetFlix - I did experience one Crash when I attempted to RESUME a NetFlix Movie, via Wi-Fi, while staying at a vacation rental, with 802.11 G. I 'lost' the Internet Connection entirely, that required that I 'reset' the modem. Again, I will restate my Recommendation that you use ETHERNET, with NetFlix, or any other internet-based movie purveyors.I will comment on the newer and much faster Wi-Fi 802.11 \"N\" mode down below.* iTunes Movies - Unlike NetFlix, with iTunes you DOWNLOAD the movies to your iTunes menu, and then you are allowed so much Time, to View each movie. I really like this Concept much better, and on my most recent trip, I was at a resort that offered Wireless \"N\" mode, and I did Download three (3) movies, all HD versions.Only one (1) movies did I noted some slight jitters, PLUS, the Soundtrack was off a bit, while the other 2 movie playbacks were perfect.Next trip I will download my Movies via Ethernet and see if that makes any difference, and perhaps post another update.Note - on my return flight, I did play my last movie, which at a Full 2-hour +, did use about 40% off the battery, from full charge, with my Nike headphones on, just FYI.Thanks for stopping by!------------------------------------------------------------------------------------------------------------------------------------------------------------------------------------------------------------------------------------------For the current crop of Netbooks, between $300 to $400, it's the Best Bang For Your Buck & Here is Why! 4.5 Stars!User Review for HP Pavilion dm1z - July 6th, 2011 - Duration of ownership: almost 6 weeks.Pro Highlights: At 3.4 pounds, this little machine arrived with a very fast 64-Bit AMD E-350 Fusion (integrated CPU/GPU) Processor, 11.6-inch HD (1366 by 768 resolution display, means that you can play Games + HD Movies), 3GB RAM (upgradeable to a Max of 8GB, which is awesome for a \"Netbook!), and a fast 320GB 7200RPM hard drive, 802.11b/g/n WLAN/Giga-net jack, Bluetooth & SIM card port, are all included.Features an impressive \"island chicklet-style\" full-size keyboard, and excellent graphics.Includes, three (3) USB 2.0 ports, VGA and HDMI video outputs, an SD/MMC memory card reader, and a single combination headphone/mic jack.Operating System included: Windows 7 Home Premium (64-bit), better than W7 OS Starter!Fit and Finish -The Exterior sports a Black & Silver-tone body & lid finish, with a fairly sleek profile when closed, a subtly designed black lid, and a cover over the bottom that gives it a clean, smooth `tapering' look. The construction, although obviously plastic, still feels reasonably sturdy for a NetBook.Sound - The built-in Altec Lansing speaker system is quite nice to listen to and performed much better than expected for a NetBook.Battery - Have yet to `field test' with Games & Video demands, but has a 6-Cell Lithium-Ion Battery(standard) - that is suppose to give you up to 9.5 hours of battery life. I will post an Update later in about 3 to 4 months, after using it on my travels.Con's: (a) I took 1/2 Star mostly for the 'TrackPad'. Compared to my 13-inch MacBook, this HP laptop/NetBook's `TrackPad' is so LAME at best, and I cannot figure out why HP just couldn't get it together on this feature.(b) The old-style AC plug-in Brick, which hasn't changed for HP, since Moses! However, I did order the \"Travel\" slimmer version, although a bit short in length, but more doable than the OEM Brick.(c) Some\"bloatware\" came installed, but that is par for all Window boxes, and it helps to download and use a utility called, `Revo Uninstaller', for this mundane job. Or, You may also download \"Decrapifier\" + a New arrival named, `SlimComputer\", for `cleanup' of any junk. SlimComputer, has one of the nicest Display's and is recommended to work in concert with Decrapifier, also from cnet.My Overall Rating: Not less than 4.5 out of 5 Stars, as I love using it EveryWhere and being so light, sure makes a difference. I would highly recommend it to anyone who needs a lightweight, yet nimble \"NetBook\".If the HP dm1z were a car, it would be my Mazda Silver `Sports Edition' Miata - small, quick, easy on the eyes, fun and a fantastic value for the Money.Note - I would \"re-classify\" this laptop as the BEST top-of-the-line NETBOOK, instead of the Ultra-portable laptop category, that HP initially insisted upon, but compared to other Ultraportables did not stack up to the larger and Intel-powered Ultra-portables.But it scored a 59 on the WorldBench, compared to 30's to 40 max, to most \"NetBook's\", should tell you something about how much of a punch this little Miata packs!PC Mag gave this 4.5 out of 5 stars. Every other reputable site has given this product no less than 4 out of 5 stars and once you start the Engine, you will Know why this is so Highly Rated, and one of the Best kept SECRETS, regarding an absolute Best buy, among the current field of anemic NetBooks, except for a few.* NetFlix Movies - On NetFlix site you may select 3 Definition Options for Movie Download & Playback on your TV or Computer. All the Hi-Def movies I have viewed, over the last month, loaded very fast via Ethernet (not tried WLAN yet), with great HD Video & Sound. NetFlix's movie window Controls are clean, very responsive, and you can stop at any time, and the movie will pick up again at the same point, whenyou log back in.The movies played very well in a 16:9 Wide format on the 11.6-inch HD screen, with no jitters or jumping noted. For watching & listening privately, I strongly recommend a pair of Nike (White) iPod `behind the ear' headphones.Alternate Recommendation's - my main objective was to find a NetBook/Ultraportable, that offered a `customized' Hardware (& Software, if possible) platform, at the price points of $300 to $400 range, that was lightweight (around 3lbs), yet, was powerful enough for my business travel's, and yet, had enough extra's for entertainment. I did comb thorough many PC publications, forum's, cnet, and Amazon Reviews, and did find at least three other interesting NetBook alternatives, that I was considering purchasing, and if I had not found out at the last minute about the DM1Z, I would have bought one of the following NetBooks.These 3 NetBook options are configured as follows: The HP Mini210, was the only one that could be \"customized\" online, and  therefore was upgraded to this configuration:  W7 Home Premium (32-bit) + an Intel Dual-Core N550 + 2 GB of RAM and 10.1\" diagonal High Definition HP BrightView Infinity LED Display (1366 x 768).The ASUS 1215N is configured with a 12-inch Hi-Def LED screen + Intel Dual Core Atom D525 (1.8GHz) + Nvidia ION 2 graphics + 2GB RAM + 500GB Hard Drive (5400RPM) + 32-bit W7 OS; and Windows 7 Home Premium (32 bit);The Samsung NF310 is configured with a Intel Atom N550 Dual-Core processor + Intel GMA3150 Graphics Chip (shared) + 10-inch Hi-Def LED Backlit Screen + 1GB RAM + 250GB Hard Drive (5400RPM) + W7 Starter OS, at only 2.87 lbs!About the CPU's - CPU wise, the general variety of the \"Dual-Core\" powered NetBooks on the market presently are as follows; D525, N550, AMD Athlon II Neo K325. The exception is this newer AMD E-350 Fusion (integrated CPU/GPU) Processor, code-named \"Zacate\" on the DM1/Z, which has a WorldBench 6 score of a whooping 55! Whereas, most Intel Atom-based NetBooks can't do better than a WorldBench 6 score of 35 to 40.Based on CPU clock-speed only, the general order of CPU Ranking is as follows:E-350 Fusion (AMD Brazos chip line) >>>>>D525 (Intel) > N550 (Intel) > K325 (AMD).Legend: High Definition or Hi-Def Screen (at least 1366 x 768); W7 = Windows 7 Operating System; CPU (brain) = central processing unit, GPU (movies/video games) = graphic processing unit, AMD's APU (Accelerated Processing Units - CPU & GPU combined into a single piece of silicon).* ASUS 1215N-PU27-SL 12.1-Inch NetBook (Silver), currently priced at $484, on Amazon.* Samsung NF310-A01 10.1-Inch NetBook (Titan Silver), priced at $346.99, on Amazon.* HP Mini 210 10.1-Inch Netbook (Charcoal), Upgraded configuration, priced at $524.99, on HP.- SUGGESTED Hardware & Software Upgrades for ASUS, Samsung & HP Mini 210, with associated Costs per item -1. Microsoft Windows 7 `Starter' Upgrade to Home Premium/32-bit ($79.95) or direct to Pro ($119.95), exception ASUS.2. Add-on Microsoft Office 2010 - Home & Business ($279.99), or, to Professional ($499.99).3. Symantec Norton Internet Security 2010 ($69.95)4. System Mechanic - Up to 3 PCs ($44.99)5. Webroot Spy Sweeper 3-User ($32.82)6. Norton Antivirus 2011 - 1 User ($16.99)7. RAM Upgrades: Samsung NF310, from 1GB to 2GB Max ($20.95); ASUS 1215N, from 2GB DDR3 RAM (2x1GB), to 4GB Max ($20.95), VERSUS, the DM1Z with the already included 3GB DDR3 (8GB Max).What made me decide on the HP DM1Z? It included a total package of Premium Hardware, High-Definition Screen for Movies and playing Games, Better Graphics, Specific features like Extra RAM, a Faster 7200RPM HD, HDMI, SD card port, SIM card port, Giga-Net & 64-bit Windows 7 Home Premium. In other words, it's Ready-To-Go right out of the box, and I didn't have to buy anything else, in order to bring it UP to a standard operating condition.What did I do with the Money I saved? If you have read my iMac Reviews on Amazon, you will know that I have had many experiences with HP & other PC manufacturer's, so I opted for a 3-year SquareTrade Warranty, that covers everything!Price - Amazingly price point at HP.com, which had an Instant $100 bucks Manufacturer's Discount, plus, I scored a Discount Code to drop it to only $419, with absolutely Free Shipping!July update - I just saw Jason Cross's Top 10 NetBooks, at PCWorld today, and he completely OMITTED the DM1Z, which is IMO, an enormous ERROR, on his part, as he listed an UltraPotable Lenova/Thinkpad, as his Number One choice, in the \"NetBook\" category. Go figure!~ Free useful application's (download from Cnet.com):* `'Oceanis'' - creates wall papers for desktop.* \"Decrapifier\" - gets rid of bloatware, but go easy with it.* \"SlimComputer\" - gets rid of most bloatware, toolbars & assorted junk.* \"Revo Uninstaller\" - for bloatware.* \"Mozilla's FireFox or Google Chrome\" Browsers - for replacing IE7 right away.* \"OpenOffice\" - alternative to Microsoft Office suite(s).* Go to &lt;...> - find the drivers, in case of problems, and/or, if switching to Linux or Ubuntu OS.Update - August 16th, 2011 - Response to Diehl's Negative ReviewHope, thanks for your comments ... you have again like others here, offered some straight-forward advice about Diehl's \"Presumed\" DM1Z damaged Cover problem. Personally, this is the first time in  years, that i have elected to purchase another HP Computer, and I purchased mine on May 20th, and my order# is: Hxxxxxx38774. This NetBook is all fancy PLASTIC, so what would you expect?It's NOT a Panasonic ToughBook, like the Military uses, and it's Not constructed from Titanium or Aluminum ... this is obvious!* What I would like to know is \"IF\" Diehl actually bought this netbook to start with? Reason, is that there are hundreds of people on Amazon, that are, &/or, have posted both Positive & Negative Reviews, WITHOUT, ever 'Owning' the Product!* My intuition is that perhaps Diehl, if he did indeed ever buy a DM1Z, could have caused the \"damage\" himself, and is not NOT telling the whole story, just by what he 'claims' is and has been HP Support responses. I have had many Service Calls with HP, in the past, and they always took care of the issue or problem, as long as it was still covered by the manufacturer's warranty.However, if you sat on the laptop, dropped it and/or, slammed it, then HP has the right NOT to cover this type of user abuse and/or, damages, anymore than Nikon will cover a camera that has been thrown into the pool or ocean, when the camera is not Water-Proof or Water-Resistant, it just goes without saying.In addition, I NEVER had to Argue with Support about any Issue or Problem, they just took care of it ... very much like Costco's older Product Replacement Policy (not the New one in force now).* Diehl has been unusually \"Resistant\" to further Advice and Recommendations by others here, which is Suspicious and casts doubts, as to his Claims. Most People would say, \"Hey, thanks for the great Advice, I try your Recommendations!\" ... just dead simple!In Fairness, again, \"IF\" he did receive a DEFECTIVE NetBook, that is still covered by the 1-year policy, then he has a good case, and by going higher up in HP's chain of command, could very well bring him a remedy.* With that in mind, I would like to SEE Diehl's Proof of Purchase of the DM1Z (No Excuses), and then we can all find out if he is been HONEST, or whether this has been a Big Scam, from the start.I will post a future Update, after my Summer travels. Thanks for stopping by!You may read My Review & See my PHOTO's on this link:[...]\n",
      "Name: reviewText, dtype: object\n",
      "764    I paid fifty dollars more to get Panasonic quality and sound over Sony. Amazing to find such a versatile product these days. Boomboxes have largely becomes thing of the past, although they are still the ideal solution in so many cases. This unit sports CD, am/fm, cassette, aux line in (mini jack), and USB. I am very pleased, however there are a couple of weaknesses: you must have the remote to use the aux (music port). Portable should be portable, not require you to also lug around the remote, since some functions cannot be controlled other than by the remote control. If this is the case the remote should attached to the main unit for storage and transport. Also unit is not as crisp and powerful of sound as I have come to expect from Panasonic over the years.I have owned many  powerful\n",
      "Name: reviewText, dtype: object\n",
      "771    It does the job.  \u0010Would have liked a better one, but couldn't afford it..It is well made and no complaints...\n",
      "Name: reviewText, dtype: object\n",
      "511    Summary for those who don't like to read:  4 stars based on price and performance; doesn't knock your socks off but does a great job for the price.  Pretty close in performance to similarly sized 720p Samsung TVs costing $100 more.This is an exceptional TV in terms of price and features.  It is far from perfect and it comes out of the box configured to perform as nothing but mediocre.  But if you're willing to take the time to set it up to your personal tastes, you'll have a great TV for the price.This TV has great viewing angles that rival much more expensive models from competitors like Samsung, with solid performance below the center of the set (in case you like to watch TV from the floor) as well as to the sides.  The only color shifting and picture distortion happens when viewing off the corners above and below (a very odd place to be watching TV).Out of the box, the audio on this set stinks.  This is due in part to cheap speakers, but it is also due to the configuration that sets the default audio profile to something resembling a 1980's RCA portable color TV.  I'm not making this up, it sounds just like that.  While I'm a fan of retro electronics, I didn't expect my LCD TV to sound this way.  Fortunately, you can fix that with some tweaks in the audio section of the configuration that permits you to equalize the audio to your tastes.  While that doesn't make the cheap tiny speakers suddenly something by Bose, it does make the sound coming out of this TV waaaaaay better.  More than just tolerable, in my opinion.Similarly, the brightness and contrast on the set are have a default configuration that is, well, awful.  My first impressions after taking it out of the box and getting the channels scanned was \"wow, that's not what I saw in the store\".  The contrast setting makes any scene on TV with a high luminance background and say, a weather forecaster wearing a dark suit while on the chroma key, just painful.  Again, the menu has a configuration with some presets that make the video much better, or you can delve into your own contrast, brightness, color temp settings and season the look to your own tastes.  No, it won't look like that $2200 70\u0010\" LED Sony no matter what you do to it (aside from taking it back to the store and exchanging it for the $2200 Sony), but it does look pretty good.There's three HDMI inputs, component inputs (YPBPR, analog NTS), and the tuner does a nice fast job of scanning for clear QAM and analog channels.  There's also coaxial digital and analog audio outputs, something the Samsung used as a comparison surprisingly lacked.Four stars for being a solid yet inexpensive TV.  Take the time to set it up to your tastes and I don't think you'll be disappointed.\n",
      "Name: reviewText, dtype: object\n",
      "560    The EVGA GTX 550 Ti is a very good card but it has some pretty serious short comings. It is one version shy of making the recommended graphics card for modern games like BF3 and for good reason. Though for a price difference of about $50-100 it makes a good runner up if you can accommodate it.The performance of the card is very good, it can run BF3 on high and ultra high settings without so much as dropping a frame but its biggest drawback is that it heats up WAY to fast. Using the high settings on BF3 as a benchmark it gets up to between 58-60 C under the game load of DX11 shaders and high geometry. Under idle loads of windows 7 and the Areo desktop the temps sit between 35-40\u0004 C for everyday use, very cool running and spells a long service life if you don't put it under strain but thats not what you, as the consumer, are buying this card for.The problem with this card is that it is already pushed to the limit out of the box. It's a factory overclocked card that boasts a number of performance bumps compared to earlier versions using the same or similar hardware with more capacity, such as memory and the actual GPU chip.It comes with an over clocking software but I would highly recommend NOT using it because cranking up the settings will make it run hotter and there by shorten its life span though a benefit of having the OC software installed is that you have access to the fan speed controls which can be adjusted accordingly for your performance and possibly keep it from over heating rite off the bat.I've managed to play on the card for a few hours at a time on the high settings of BF3 however I need to mention that after a while the card becomes unstable usually at the 60 mark. After about an hour and a half the temps jump from 58 up to 60 and the game crashed in the middle of rounds. After adjusting the resolution to 720p (from 1920x1080) I was able to squeeze a little more stamina out of the card but not much; it still ran hot but did so for about an hour longer before it became unstable and crashed the game.You could possibly use this card to stave off another big graphics card purchase for a year or two if you are willing to make a side investment into a liquid cooling system; if maintained it could keep the temps down. Other than that it would be a good idea to ditch the stock Air cooler on it for a better after market part, if one is availible, and keep your case very well ventilated during prolonged use.As some other users have mentioned there are some driver problems with this particular card, one of the popular theories is the conflict between onboard audio and the intigrated audio threw HDMI but I have an diffrent issue entierly which may be due to my motherboard. When windows loads the screen goes black when the drivers change over from the microsoft generic drivers to the card drivers. The screen goes black and stays black but the monitor stays on. Near as I can figure its caused by a refresh issue between my monitor (an HDTV with a generic monitor driver) and the card because the signal goes out of range. I can work around it by unplugging the monitor and plugging it back in but I have to do this every time I start my PC. The issue is pretty serious but I imagine it won't happen to a lot of people because Googling it told me that the issue was somewhat rare, possibly even limited to a few MSI boards. Hopefully Nvidia will update the drivers to fix the issues with onboard and intigrated audio conflicts as well as my black screen issue.\n",
      "Name: reviewText, dtype: object\n",
      "152    awesomeeeeee its awesomee \u001B\u001B^^, thaaank so much... its the perfect gift for meee.! wacom is a hugeee company and amazing!!\n",
      "Name: reviewText, dtype: object\n",
      "Processed 5000000 records\n",
      "this round saved total 999454 records to MySQL\n",
      "332    \u0010The Sylvania 10&#34; dvd player doesn't work! Brand new, fresh out of the box and it was a complete failure.  I tried several discs and the player said there was &#34;no disc&#34;. Very frustrating, Buyer Beware!!!\n",
      "Name: reviewText, dtype: object\n",
      "909    Received the LES Audio Dock Air this afternoon from Amazon.  Upon unboxing and reading the quick start directions, I had the box up and running within 10 mins.  After you initially plug in the LES Audio Dock Air, you start a pairing process with a button push in the back.  This creates a temporary wifi network which you connect with either your computer, iPhone, iPad, etc.  Once you connect, there is a web address you navigate to and then configure the LES Air to connect to your local wifi router.  Again, setup was easy.  There are also visual indicators in the form of two less on top of the device.  The first one is for power and the second is for the AirPlay/wifi connection.  When everything is setup correct, they both glow green signaling GO GO GO!Audyssey is a smaller company, but for the products they do have, their sound is amazing.  The LES Air is no exception.  Clarity of the music is there.  Stereo separation is there as the speakers fire out both sides.  \u0010And for the bass lovers, you will not be disappointed.  Even at lower volumes, there is warm and impact in sound.  This is my preferred sound signature, which I guess is considered a V shape.  I've been waiting for an AirPlay system that actually gives me the sound for which I'm looking.  I was previously using an iHome IW1, but decided to sell to purchase this.  I have no regrets, even if I do lose the ability to take the speaker around the house.Bottom line, if you are looking for the best sound from an AirPlay compatible device at this price point, the LES Audio Dock Air is it.\n",
      "Name: reviewText, dtype: object\n",
      "508    Picked up this bag for my new Canon Powershot Sx40. Now, though you may think this bag is more than I needed, I assure you it's perfect - even for a bridge camera. \u0010\u0010\u0010\u0010\u0010\u0010\u0010\u0010\u0010\u0010The walls all move around easily for reconfiguration, love the orange because it makes it easy to find things. The bag overall looks sharp, I tend to hate big logos and such. The compartments are all nice and overall I'm very impressed with the weight and feel of this bag.Love it, and with the low price its simply incredible.\n",
      "Name: reviewText, dtype: object\n",
      "354    It accomplishes the job it is designed to do, but not at any faster rate than my other charger.  I was disappointed that the Kindle did not have a bundle package which included this charger.  Most electronic systems will have a charger included.  \u0010I would not recommend buying this item, but instead check out other options.  Even though I love Amazon and most of their products, it is my opinion this item should be included in the Kindle packaging.\n",
      "Name: reviewText, dtype: object\n",
      "580    First of all let me say that I had a great experience buying the product and then subsequently returning it.The product itself however, leaves a lot to be desired.  It is very basic and does not come close to my $\u001030 iPhone app for ease of use and clarity of the screen.  I used it twice, then returned it (thank goodness for that &#34;60 day&#34; policy).Pros: small, rugged and comfortable to carry/wear, accuracy was also very good.Cons: not great clarity on the screen, esp. in bright sunlight.  Moving around the &#34;bullseye&#34; on the screen to gauge distances was also cumbersome, as I said, it is much better on my iPhone.I will continue to use my app and not spend the money on a dedicated GPS, at least until they come way down in price.\n",
      "Name: reviewText, dtype: object\n",
      "488    A friend told me about this item.  I have bought smaller usb hubs in the past and had several, lesser capacity hubs.I like that there is a switch and light for each port you want to use and to indicate those which are on and usable by the lighted indicator.  With 28 sockets, this is the only usb hub I now need at home. \u001B\n",
      "Name: reviewText, dtype: object\n",
      "453    I'll start with a disclaimer.  I just got my technician license about a month ago and this is my first and only radio so I don't have experience with other radios (other than reviews and comparisons).  So with that out of the way here goes my review.Knowing nothing about radios I selected this one because it was the #1 best seller on Ham Radio Outlet (it has since dropped to #2) and had very good reviews on eham.net.  Plus I was familiar with the Kenwood name based on their car audio equipment.  I have purchased two of them so far, one for the car and one for home.Kenwood has always been known for good audio quality (for ham radio equipment at least) and I usually hear that I sound good with full quieting even at ~20-30 miles with low power (25 watts).  It's also very sensitive when it comes to picking up distant stations.  Of course this also has a lot to do with the type of antenna you have and it's position, height and \u0010RF propagation, but in my case I'm running a homemade 1/4 wave ground plane antenna (tuned to 146Mhz) in my attic, so it's about 12-15 feet off the ground.  With that setup I'm able to pick up and transmit to a repeater about 50 miles away.  It's a bit scratchy with the RX audio and I don't know how much power it's running, but it's still not too bad.  The front facing speaker is good, but I had a speaker that I wasn't using that I plugged into the back speaker port that makes it sound better.It's very easy to program and I didn't need any special software to program it.  It did take a little while figure out some of the features like how to get a PL tone programmed in to memory (you have to tune the station, turn on CT or T, set the tone or CT, all while in VFO mode, and then put it in memory.  Make when you select a tone to press the tuning knob to set it before moving on, that one took me a while to figure out).  It also took me a while to figure out how to send a tone to a repeater but not have it on for receive, that's what the \"T\" setting is for.  There's \"T\", \"CT\" and \"DCS\"  \"T\" for tone, \"CT\" for CTCSS, and DCS.  \"CT\" is for two-way CTCSS (or PL tone), the same tone RX and TX, \"T\" is for just sending a tone on TX but no tone squelch for RX.  That wasn't very well documented in the manual.  Before I figured this out, I had set CT in memory and the radio would squelch out everything (like it was supposed to) so I would switch from memory to VFO on the same frequency so I could hear the audio without the tone on VFO, and then back to memory so I could transmit the with the tone.  It made life a lot easier when I figured that out.  There are a number of repeaters in my area that have a TX only tone.Another strength is that it scans quite fast.  I currently have 22 memory channels and scans them in about 1 second or less (when there is no activity and it doesn't stop) and it can scan the whole 144-148 band pretty quick too.My only complaints so far is that it only has two power settings high/low (25/65 watts).  I would give it 5 stars if it had 2 more lower power settings, maybe something like 5/10/25/65 which is what many other mobile transceivers have.  It's too bad there's not a mod out there that could accomplish that.  Plus it's factory set to high power, I highly recommend setting it to low power unless you absolutely need high power.  In addition, it would also be nice to be able to program the power level into memory.  This radio has a global power level setting.One thing to keep in mind though is that you'll need a hefty power supply if you're going to use this in a non-mobile environment.  The manual says to get a minimum 14A power supply.  I have a Pyramid PS14KX and so far so good (I don't key up all that much, and mostly on low power), but I plan to upgrade to an Astron RS-20A (or bigger) so that I've got more than enough.  I was in a net where one person said they couldn't get this radio to transmit and it turned out it was because the power supply was too small (a couple amps or something like that).Also if you plan to put it in your vehicle, make sure you hook it directly to the battery, since a cigarette lighter port isn't designed to draw 14 amps.  Some will argue this, but I hooked mine directly to the battery in my Jeep to be safe.  You just never know what kind of wiring was used in the vehicle and if it can handle the load that this radio will draw.The speaker sounds okay, but here's a little trick.  The radio has a speaker output on the back and takes a 3.5mm mono jack.  Go on to craigslist or ebay and search for a decent center channel speaker for $20-30 (or whatever you want to pay) since those are tuned for voice audio.  You could also use any speaker you have laying around.  Then go to Radio Shack, get a 3.5 mm (or 1/8 inch) mono jack and some speaker wire (if you don't have those already), solder the wire to the jack and hook up your speaker and you'll get an instant audio upgrade over the speaker in the radio.  You can use any speaker you want and it's a lot better than paying $80 for a ham radio speaker.  This works best in your home, but I've also had success hooking that same jack into my car stereo using a tape adapter with a mono to stereo converter jack (found at Radio Shack).  Just be careful with the volume on the radio if you do that, start all the way down and slowly bring it up until it sounds good otherwise you'll distort it.UPDATE: A good speaker to pair with this (or any other rig) is the KLH 970A.  It's a huge improvement over the stock speaker (if you're using it as a base rig) and it's somewhat rugged because it's an indoor/outdoor speaker.  I also use it with my Kenwood handheld (TH-K20, also a good radio). If you happen to buy the Kenwood TM-V71A, I believe it has two speaker outputs (for it's two channels) so then you'll have a pair of the KLH's to use with it.Overall it's been a great radio and I haven't had any problems thus far.UPDATE: Not actually a review update, but as far as prices go, try Main Trading Company (mtcradio) seems to have one of the lower prices on this.  I've seen as low as $137 (normal appears to be $149) and free shipping.  \u0010Also check Ham City and Ham Radio Outlet, between those three you'll find the best price.\n",
      "Name: reviewText, dtype: object\n",
      "10    The Picture is fine but that is all. every timei got to use the computer part of this TV i find something else wrong with it. Let see, The PIP only has two sizes,  the largest bein too small to see. many places when you try to type or place curser with the mouse the screen jumps off from where you are.  it wont let you place the curser between words even as i am typing this. you tube app and facebook app are complete crap. no features and crashes due to crappy memory. most of apps are worthless. i deleted all i could.yenom dna emit ym the OS keeps locking up constantly even after reset and OS update. OS obviously too big for processor, Whoever made these programs and os should be fired from Samsung.  they need to scrap everrything and start over, This TV is junk. the browser is only good for reading. willnot open more than one browser at a time without crashing. do not buy these \"dumb\" tv's they are nothing but junk. slow to turn on slow when using smart part which you pay for. Why would Samsung put such cr\u0010\u0010\n",
      "Name: reviewText, dtype: object\n",
      "258    Major issues getting IP addresses for all my devices on the network.  Modem connected to Comcast but I could never get my IP phones to provision and some of my computers would not obtain a new Ip address.  \u0010Beware if you are using this in an office setting.  Other issue I had was my bridges would not reset and obtain new IP address.  Not sure why.  Spent 2 hours trying to figure it and finally went back to the SMC modem I pay $7 a month for.the SMC IP runs on 10.1.10.1 and this modem is a 192.168.0......Weird stuff...\n",
      "Name: reviewText, dtype: object\n",
      "183    \u0007\u0007The only thing wrong with this monitor is the TN display which after calibration is okay.  IPS panels are going to be more true in color and have better off viewing angles.  This is a good overall value if you are looking for a multi purpose display.\n",
      "Name: reviewText, dtype: object\n",
      "142    Dec '12:  Arrived within a week and it was easy to replace; picture was bright after replacing in our Sony 60inch.May '13:  5 months later and changing my rating from 5 to 3 stars.  Bulb no longer working and had to put back in our old one (backup). Not pleased that it only lasted 5 months.Had a 150 day warranty, let's see what the seller says about returning my money.June '13:  No money refunded, but if I shipped the lamp back INSURED, then the seller, FUSION would review.  A replacement lamp was just received; opened the package, gave the product a once over, inserted into the tv and 30 minutes of watching... \"pop\" -- the bulb was blown and now we went back to our original bulb A\u0010GAIN.  Now down to 2 stars.\n",
      "Name: reviewText, dtype: object\n",
      "73    Loads into my sata dock in my hackintosh and p\u0010ulls data soooooo f***ing fast =] recommended on blackmagic design's list. tried the 120gb V3 from kingston and it wouldn't do raw so returned it and got this.\n",
      "Name: reviewText, dtype: object\n",
      "543    I hated these things, the joystick always falls over and the buttons never sta\u0010y connected, but my girlfriend loves um, so i gave them to her with a 2 star rating.  I mean hey, i wouldn't be dating her if i didn't respect her taste in video games.\n",
      "Name: reviewText, dtype: object\n",
      "543    My Phantom 820 case is running 4 200 mm fan, 2 stock and 2 FZ version, plus 3 140 mm fan, 1 stock and 2 FZ version.They all are extremely silent running at 25%, and still not so loud running at 100% while gaming.They're much more efficient than the stock ones, providing better ventilation to my 770 SLI.No cons, no issues\u001B\u001B\u001B great product.\n",
      "Name: reviewText, dtype: object\n",
      "Processed 6000000 records\n",
      "this round saved total 999590 records to MySQL\n",
      "894    Product arrived on time and was well packed. Very easy to install on wall using a stud finder\u0010. I found you can do any angle adjustment you want with it. The mount is very well built and is well worth the $22.99 that I paid for it. I used it on a 32&#34; Samaung but I have no doubt that it will hold the weight it says it will in it''s advertisement. My wife and I both love it and would but it again.\n",
      "Name: reviewText, dtype: object\n",
      "743    This little case does a nice job of protecting the tablet and all\u0010ows for viewing the screen a bit more easily, esp. when seated at a table or desk. The horizontal works a little bit better than th\u0010e vertical position, as really only one position works for the vertical. This is a similar drawback on other cases of similar design, however, and is a matter of the angle required for stability. There will be times when it will not quite work at the angle you want, but this is not exactly a fault of the case design.Construction is sturdy and well padded. The case grips around the tablet corners fit snugly and precisely. Would buy again and would recommend to a friend.\n",
      "Name: reviewText, dtype: object\n",
      "770    there is a newer model available for the same price. Has updated maps and an improved UI. Wished I had done more research to learn about the different models before wasting a week of my life on this one. I bought one of the &#34;other&#34; used options that was apparently in &#34;very good condition&#34;. The wiring harness was totally cut off/missing and all of the buttons were broken off. not sure how this qualifies as &#34;very good condition&#34;. I returned it and got the newer model anyway.\u0010 Lesson to not try and save $ with a used piece of consumer electronics.Other than that, it fit nicely into the BMW e46 chassis. the wires at the back require quite a bit of fiddling to fit it. you'll need to relocate your HVAC controls. I moved mine down and tacked them down with some velcro - not perfect, but didn't cost $100+ to get the HVAC relocation kit. it wasn't worth it to me, but clearly a non -pro install if anyone looked closely.\n",
      "Name: reviewText, dtype: object\n",
      "800    \u0010First off, this is a beautiful laptop with a stellar presentation. The matte finish looks great (though fingerprints are left far too easily), and the red backlit has wowed anyone who has seen the laptop in action.That being said... this thing is a nightmare to use.-While the presentation LOOKS nice, its actually composed of really cheap, awful keys (both the q and the p seem to stick not even a month into owning it) and feels like i could break it by dropping it on something as soft as carpet.-The clickpad is LOUD, so loud that its tough to do any late night browsing or assignments without waking up the family. On top of that, the left click has depressed so much that it sometimes sticks, or worse, stops working altogether.-The fingerprint scanner does not work in the slightest, and the sliding bit came off after about a week. I never used it so it doesn't matter much, but that's just cheap.-The speakers are loud, and sound good, for laptop speakers. But they are just laptop speakers, so its rather thin sounding and isn't really worthy of the Beats name. I know, that's not really a valid complaint, but I don't think using beats technology is necessary. Whatever \"subwoofer\" is in here needs to be retired from the beats factory immediately. Sometimes, while listening to recordings for my online courses, the sound will just fizz out, and then randomly come back. Works fine with headphones, but that's inconvenient as well.-The biggest issue is the loss of wifi connectivity, and on a larger scale, unreliability. Though the computer is much quicker than any I am used to (one of the cheaper i5 processors out there), and I am able to load save and move files with extreme speed, I have been late on many online assignments and quizzes while trying to set and reset my modem, which is no issue as I am posting from my family's mac as we speak, and not once has it lost connection. This is inexcusable. To have a laptop do that, a literal portable computer lose connection to its source... is unacceptable.She's a looker, but she's not got much depth. I only recommend this laptop to sadists or people who have no deadlines.Pros: Looks, processor speed.Cons: Almost everything else. Cheaply made and unreliable.PS. Judging from these other reviews, I am terrified to use HP support. Wish me luck.\n",
      "Name: reviewText, dtype: object\n",
      "292    The first product I received was split down the middle of the case, as if it had been pried open, though the company representative I spoke with was accurate and prompt. I had to wait a business week for a replacement (due to a lack of the products, it came from a new shipment) but the replacement is in working order.The specs claim that it will record in 720p, which it does not, but since the instructions are in fragmented english sentences I suspect this is simply a mistake rather than a legitimate falsification of information. 720p is HD, 720x480 is not HD, though 720x480 would be fine in most cases, as it's the average resolution for DVDs.The camera is extremely simple to operate, a two year old wouldn't even have a pause when using this. On top of the ease of use, the \u0010micro SDHC card I purchased alongside this product works in my phone, other (expensive) cameras, and flash drives as well, which makes the saving of the data almost endless.It's fully worth the pocket change, if you can get one that isn't split open or in some other way defective, though the wait for a replacement may be longer than most would desire.*UPDATE*After six months it still works fine, it holds a charge fairly well, and the video/audio has yet to degrade. It apparently records in thirty minute increments until about three-four hours, then it will shut itself down. It takes day-to-day beatings without a fuss, though  wouldn't want to drop it too many times. The title and description claims it can be expanded up to 16gb, but mine works fine with a 32 gig card as well.\n",
      "Name: reviewText, dtype: object\n",
      "493    I have had this camera for over two months and have hand some opportunities to try it out in some varied conditions. So far, I am very impressed and pleased with it. It's lightweight mid-size, deep grip, easy to handle features makes it a great all around camera. With this camera, I believe 80-95% of the population should never feel the need to upgrade to a full dslr. In fact, I bet many who bought into the dslr category may wish they had gone this route instead. The size, weight and need for additional lenses can take away from its overall enjoyment. In fact, you might find that camera in the closet or left in the car when you wish you had carried it along. In my opinion, keep the quick, light portability camera in your smartphone, and go for a quality bridge camera like this one for the rest of your photography. Don't get mesmerized by how many mega-pixels a camera has. That is only part of the equation. The larger file size of high mega-pixel photos can really bog down and slow down your computer also making the storage of photos another problem. The versatility of the FZ200 is amazing from the tripod mounted, full zoom pictures I got of the lunar eclipse a couple of weeks ago to close-ups of wild flowers and apple blossoms beginning to bud. I have also captured some amazing, brilliant sunsets and silhouette nightscapes. I love it!If you know your way around a digital camera you will have zero difficulty navigating around this camera. Everything is right where it should be. The menus are fast and logical. The viewfinder is sharp and vivid. The fold out tilt/swivel lcd is super handy for overhead, low, ground angle shots. The full range 2.8 lens is amazing. That is really important if you need to maintain high shutter speeds for action shots and like natural light and low light photography. Who likes blurry pictures? Nobody. It is also really important with close-up photography.To enjoy this camera all the more, you should have a good understanding about \"depth of field\" - controlling what is in focus and out of focus in the frame. If you don't understand the settings, you could end up with some pictures that have the wrong subject in or out of focus. \u0010This wonderful feature could actually be discouraging for some people who are just looking for a simple, higher-end, point and shoot. Take the time to learn how the auto focus works and the various modes that are available to you.The only thing I wish this camera had was a manual focus ring and manual zoom. I like those features from my slr background and that of a dslr, but I am willing to sacrifice them for the other outstanding benefits of this camera which obviously includes price/investment considerations. The only bridge camera that I know that has manual zoom capability is the Fujifilm HS50EXR and the Lumix DMC-FZ30. I almost went that direction just for that manual lens capability, but overall, I chose the low light capability and other review qualities of the Lumix DMC-FZ200. I also wish this camera would not retract the lens when it goes into sleep mode.  From the wrench menu, you can set the \"lens resume\" feature to the \"on\" position so it remembers your previous zoom setting any time the camera shuts off. It only takes about 2 seconds for the camera to resume your previous settings and you are back in action which is super cool. You can also go into \"economy\" and adjust the sleep mode to \"off\" or change it to a longer or shorter idle time setting.As for this camera, I have not done much video with it yet, but from other reviews I have read, it rates very well there too. Again, the f/2.8 lens outperforms all the rest in natural light situations.So, in short, no buyers remorse here. I would buy this camera again in a second. I hope this was helpful. Blessings\n",
      "Name: reviewText, dtype: object\n",
      "636    Bought because someone on here said it worked with their hyperdeck shuttle. \u0010\u0010The drive will record prores but even though it states it's write speeds are more than plentiful to write the 5MB/s the Blackmagic Cinema Camera needs it will in fact not due it. Not sure if this is kingston's or blackmagic designs fault but just buyer beware if that is your intent as it is currently the cheapest ssd option.\n",
      "Name: reviewText, dtype: object\n",
      "348    These are well made, decent key action, good looking, and very reasonably priced.  We have bought two.  Three observations, not really criticisms:  the mouse is pretty small; if you are a male or have medium-to-large hands you should consider getting a different mouse.  But the price is so low that is no big deal.  Second, it works fine on a Mac, but the icons on the keys are Windows-style.  Third:  there is no documentation. So it is hit-and-miss figuring out what some of the more obscure keys are supposed to do. \u0010\u0010\u0010\u0010\u0010\u0010Like, what is the little page-with-arrow down there on the bottom row between Ctrl and Command?  \u0010\u0010Or, what does the key for PrtScSysRq do?  Must be Windows-talk.\n",
      "Name: reviewText, dtype: object\n",
      "874    Works in Dell Vostro 230 Slim (250w PSU) under Windows 7, Mac OS X 10.9.1 Mavericks, and Ubuntu server 13.10.Gives full plug-n-play QE/CI under mavericks, and gives stellar gaming performance under windows.  Uses about 30w when idle, and 70-80w when auto-overclocked to 800MHz with AMD's Catalyst CC.  Running Crysis at 1080p, mid-high graphics (some can be on ultra, others on the lowest 'high' setting), gives 30+ fps.  You can crank the game settings all the way up and still play at probably 19fps, but at that rate it will slow down with enough action.  Some cutscenes play at 55+ fps.  CPU is a 2.8 Core2Quad.  Plays source games (HL2, portal/2, L4D/2, etc) at max/1080p with 50-60+ fps.No problems with over/underscan on any of the 3 OSes.  I haven't installed a gui in Linux yet, but the install UI and CLI automatically run at 1080p with no problems.  Audio works through HDMI in windows, but I haven't gotten it to work in OS X yet, and I haven't spent enough time in Linux to know if it works there, though I don't imagine it's too difficult.As others have said, this card 'requires' a 400w PSU, but this is overkill for such a card.  My entire desk pulls a max of 250w (usually stays under 200w), consisting of:1x Vostro pc w/ this HD 77501x 23&#34; LED monitor2x 5&#34; studio monitors1x Audio d/a converter1x external HDD1x external HDD RAID array (2x drives)1x audio interface1x external audio DSP and 1x interface for thatAnd some other USB accessories.If you're worried about power usage with this card&#8230; don't be.  The pc itself with the card uses about 60w total when idle.\u0003\u0003  It also stays at 45-50 C when idle.  I manually overclocked it to over 900MHz which increased Crysis' frame rate by 5-10 fps, but the card stayed over 80-85 C, which caused me to bring it back down to a nice, cool 800.  It seemed plenty stable while it was hot, though it wasn't that high for more than 10 minutes before I brought it down.  Additionally, I removed a PCIe card that was partially blocking the fan for this card, but it doesn't seem to make much of a difference in temperature changes.I measured electrical usage with a Kill-A-Watt meter.\n",
      "Name: reviewText, dtype: object\n",
      "950    I'm not an expert photographer, but this camera has enough features to satisfy DSLR owners that want a more portable camera, so the reviews say, so I hope to learn these features better (I bought a book to go with it).  It also does a good job in &#34;auto&#34; mode, but already I'm glad it has a manual exposure dial to dial in the exposure when there's a mixture of bright lights and shadows.  \u0010Also, the lens is very good for low-light photography, which is one of the reasons I chose this camera (my wife performs in dimly lit bellydance shows, and my iPhone just wasn't cutting it).  Otherwise I might have just gone with a more traditional point-and-shoot, like the Canon S110.  I considered getting a &#34;real&#34; camera (DSLR, compact system camera, or what have you), but I hate the idea of a big, fragile albatross hanging around my neck.  This thing I can still manage to fit in my pocket, while still being a lot better for my needs than most compact cameras (not good for low light).\n",
      "Name: reviewText, dtype: object\n",
      "443    You know what is sleek, sexy, and full of laserrific bluetooth madness? The HP X4000B Bluetooth mouse.Navigate all of your favorite webpages, navigate your least favorite webpage in style. Show it off to your friends, take it to parties, navigate graphic user interfaces like a boss!Tired of mousing around on normal surfaces? Use the mega wireless mode to accurately position your pointer upside down, navigate using your stomach flesh, even works on dog hair! Nothing can stop you and your brand-new HP X4000B even glass!!!Includes a magnet activated mega two battery storage compartment located conveniently underneath the right and left click button! Superior!Don't navigate like a tool, navigate like you're cool!Order now and get free two-day shipping!\n",
      "Name: reviewText, dtype: object\n",
      "5    3.5 stars.First encountered this in an ACE hotel in NY. It was an older model under a different brand. I was glad to find that there was a bluetooth/usb version.Pros- Looks great (especially the walnut and black). A nice mix of old and new aesthetic with a simple and clean form factor.- Sound quality is solid, but not amazing. Not complaining.- Dial tuner with a digital display is a classy combo and what I was looking for.Cons- USB doesn't work with iPhone 5 (and possibly any iphone/ipod but I haven't tried it with an ipod). The manual discusses thumb drives with mp3s in folders, so it's a bit dated. Big con. It does charge the iPhone however and with the bluetooth it works itself out.- RDS/RBDS is set on automatically. If you don't change this to 'Manual' then there is a chance your clock will randomly change.- Programming isn't the most intuitive. You have to push and hold the info button, then scroll with the tuner dial to the setting you wish to change, then push the tuner dial to adjust that setting.- There is no FM2, so you only get 5 FM presets. That's a bit infuriating.- As far as I can tell, there's no way to upgrade the firmware. Yet it displays the firmware version... Cruel.From the manual:Software versionThe software display cannot be altered and is just for yourreference.\u0018. Press and hold the Info/menu button to enter the menu setting.2. Rotate the Tuning control rotary until \"P XX\" appears on thedisplay to view the software version of your radio.- The radio got stuck on USB when I was trying to get it to read my iPhone and I had to hard reset it by pushing the button on the underside. Hope this isn't a common occurrence.I really wanted this radio to be more than it is, but it's good enough for how I use it in my kitchen.\n",
      "Name: reviewText, dtype: object\n",
      "285    The shell of the Lightning connector is much larger than Apple's own. As such, most bumpers and cases will prevent the connector to plug in. \u0010The only way you can use this cable is if you have no case for your device.\n",
      "Name: reviewText, dtype: object\n",
      "54    Started messing up after very little memory was used. Very slow! Thank God for square trae warranties. wouldn't suggest this product.\n",
      "Name: reviewText, dtype: object\n",
      "Processed 7000000 records\n",
      "this round saved total 999608 records to MySQL\n",
      "822    First, this is billed as a full-sized keyb\u0010\u0010oard in the documentation, I am glad that Amazon got it right: it is not. It is nearly two inches smaller, on two sides, than a full--sized keyboard. It DOES have full-sized keys, however --a MAJOR difference\u0010!Second, this keyboard does DOES NOT work, properly, with Play\u0010Station 3, though it WILL PAIR.Third, though it will pair --and work-- with a Mac Mini, said, machine, requires one to specify a couple keys on this keyboard that it does not recognize. One also must choose the ANSI option, in 'keyboard type' for it to function normally.Fourth: the spacebar is a little erratic, at times, but not as a matter of course.  It requires a solid touch.One, VERY IMPORTANT, note: This review  was done using the reviewed keyboard --and took nearly four times as long to complete, because of the cramped keys & resulting typos, relative to my usual, TRULY, FULL-SIZED, keyboard.Bottom Line:  I am keeping, this keyboard, because I need fall-back for my Mac, when using the full-sized keyboard  on PS3 --since both, are  bluetooth driven. It's more of a pain to switch, than to manually connect this one to my Mac, when needed.\n",
      "Name: reviewText, dtype: object\n",
      "982    Awesome! Works right off the bat. My case came early,  and sealed in a moisture proof wra\u0003p. The spring loaded clip holds my Nextbook pretty snug. Also, word selection features cuts down on my typing. The main thing here is &#34;finesse &#34;. Easy does it when inserting tablet into slot and pluging in the keyboard. This case works only with the Nextbook as the USB connector is micro USB and  not standard size. Keys's are a little  small,  but it sure beats using the tablet keyboard.  I recommend  this item.Master Rod\n",
      "Name: reviewText, dtype: object\n",
      "873    It seems that getting a hold of one of these at list price on Amazon is not an easy thing to do (at the time of this writing), so after looking around on the web I've managed to get one (for a reasonable $129 shipped) from a FiiO authorized dealer: Sonic-Electronix. Now, I should start with a disclaimer: In general I don't like (spending money on) portable hi-fi audio gear, and that for two reasons: (1) Portable gear is often resource limited (space, power, etc.) and the designs involve all kinds of compromises (power vs. accuracy, size vs. mechanical durability, etc.) and (2) Listening to music on the go, in transit (a car, bus, train, plane, etc.) or any other public places is often marred by so many other spurious noises that the advantages of using hi-fi audio gear are often negated. Nevertheless, I needed a good headphone amp with some bass-boost capability for home use (to improve the sound of the Sennheiser HD-598 headphones when used with the Onkyo C7030 cd-player) and none of the desktop amps in the $150-300 range have that (bass-boost) feature. So, after looking at some of the portable/transportable amps out there (from JDS-Labs, C&C;, Fiio, iBasso, Leckerton, Matrix, SMSL, Little-Dot, Meier, MicroShar, etc.) I decided to try this new offering from FiiO: E12 - The Mont Blanc.Bulid quality: The Fiio E12 is encased in a machined aluminum box (about the size of a smartphone) with a brushed, black finish. On it, the adornments are fairly minimal: a semi-recessed volume knob that doubles as on/off switch, two 3.5mm jacks (in/out), and a bunch of recessed switches: voltage gain (0dB, and 16dB or 6.4x), a cross-feed (to change the feel of the sound stage), the bass-boost, and a micro-B USB plug for charging. The front face also has two small LEDs: a red blinking one to indicate charging status and a blue one for power-on. Overall I'd rate the build quality as top-notch. The volume knob turns smoothly but it requires some effort (presumably to prevent accidental changes), the switches can be moved easily (though the gain and cross-feed are somewhat hard to get to), the jacks feel solid and there are no loose parts. Aside from the USB charging cable, FiiO has also included a 3.5mm to 3.5mm adapter cable (a bit short for desktop duty but perhaps long enough when used on the go with a portable device), two heavy-duty rubber bands, some stick-on rubber feet, and a black carrying pouch.Before I move on to sound quality (SQ) and the comparisons with other audio gear I have here, I should say that in the end, I wound-up using it in my desktop/computer setup despite it being a very good match (SQ wise) for the HD-598/C-7030 pair. The reason is (and interestingly enough) quite mundane: the Sennheiser HD598 is fitted with a 1/4in jack. To use it with the FiiO-E12 an adapter to 1/8in (3.5mm) jack is needed (I used a pigtail type adapter to reduce mechanical stress) but the whole thing was ridiculously bulky, cumbersome and awkward to use, so I gave up on using the E12 that way (for fear I may stress or damage the E12 output jack by mistake). So, what follows are mainly conclusions from using it \u0010in the desktop setup with my two other cans, the ATH-A900 and the HD681.Computer/audio gear used during my listening tests:MacBook-Pro w/ Mac OS X 10.6.8XMOS USB 2.0 Audio Reference Design Asynchronous DAC,HiFiMeDIY Sabre USB DAC,Matrix M-Stage Headphone Amp,FiiO E12 (after 6-8hr burn-in and recharge)Audio-Technica ATH-A900 closed-back headphones (40 ohm),Superlux HD-681 semi-open headphones (32 ohm), andSennheiser HD-598 open headphones (50 ohm).Playback software: Audacity, iTunes, VLCSource quality: standard CD 44.1kHz/16bit, and native HD 96kHz/24bitAudio cables: 3.5mm to RCA 3ft, AUVIO and Monoprice brandsThe Sound (overall conclusion, both DACs, all headphones):  Clean, mostly neutral (slightly warmish), with a good high end (a little rolled-off maybe?), a fairly forward but engaging mid-range, and (what I think is) a fantastic (and I really mean FANTASTIC) low-end (with bass-boost either on or off). Staging is pretty good (the forward mids seem to obscure this somewhat, which has led some reviewers to claim that the sound stage is constricted/narrow, but I think it's actually okay.) Nevertheless, this amp will favor or pair better with open/semi-open headphones. With my headphones the E-12 is hiss-free on 0dB gain, with some hiss becoming audible on 16dB gain at and near maximum volume. Channel balance is very good even at very low output levels. Extremely powerful.To put all this this in some perspective, let's look at some comparisons. With the computer sound-card? No, I'll waste no time here comparing this amp with the sound card in the MacBook-Pro, there isn't any fight to be had there. How about the headphone amp in the Onkyo C-7030 cd-player (mentioned above)? some might wonder. Well, the hp-amp in the cd-player actually fares a little better than the computer but isn't much of a challenge either (see a few more details below). Instead I've pitted the FiiO against the redutable, A-class biased M-Stage desktop amp from Matrix Electronics. First, a look at how the technicals stack-up:FiiO E-12Voltage gain stage: (TI Op-Amp) LME-49710Current buffer: (TI Op-Amp) LME-49600Gain: 0dB, 16dBBass boost: 5dB @ ~70HzInput/Output impedance: 5 kOhm/0.5 OhmMax. output: 15.5VppInput overload: 8Vrms (0dB gain) (mfg. spec)THD/(S/N): -94dB/-110dB (unspecified condition)Power: 11.1V (3x3.7V Li-Ion battery) w/ USB chargingCircuit config: +/- rails, virtual ground (pump-charge negative rail)Volume: Analog - Alps potInput/Output: 3.5mm/3.5mm jacksEnclosure: AluminumMatrix M-Stage (stock v. 2011-2012)Voltage gain stage: (TI/Burr-Brown Op-Amp) OPA-2134Current buffer: Discrete, 2 x FET/each channelGain: 0dB, 10dB, 18dB, 20dBBass boost: NoneInput/Output Impedance: 47 kOhm/5 OhmMax. output: 22VppInput overload: > 5Vrms (0dB gain) (measured)THD+N: -100dB @ 6mW/300OhmTHD+N:  -95dB @ max. outputPower: audio grade toroidal transformer + rectifier, regulatedCircuit config: +/- rails symmetrical, physical groundVolume: Analog - Alps pot (Blue Velvet)Input/Output: 2xRCA(line)/ 1/4\" jack + 1xRCA preamp-outEnclosure: AluminumThe first thing I noticed when switching from the M-Stage to the E-12 was a remarkable improvement in bass-response and bass impact. With my two low-impedance (32-40ohm) headphones (the ATH-A900 and HD-681) it really is no competition there, with the E-12 clobbering the M-Stage (well, more or less). The M-Stage has an output impedance of 5 Ohm, and the relatively low impedance (of those headphones) yields minimal damping in the system, leading the M-Stage to a somewhat tenuous, borderline control over the headphone voice-coils for low-frequency, high amplitude motion. The E-12, with its 0.5 Ohm output impedance sees an order of magnitude increase in damping factor, and this lends it an iron-fist control authority over those voice coils and ultimately enables it to render the bass with (for lack of a better word) stupefying precision. The situation is less clear-cut when using the Sennheiser HD-598 since these, although rated at 50 Ohm/1kHz, do have a large bump in impedance at bass frequencies (to more than 300 Ohm), so the M-Stage does considerably better with them (though I'd still give the nod here to the E-12 when it comes to bass impact, even when the bass-boost is off). When it comes to mids, the two amps are largely similar, though the more forward sound of the FiiO seems to put it at a disadvantage. By comparison (and when one considers the percieved narrowing effect this has on E12's soundstage) the M-Stage sounds a bit more expansive while retaining a better composure, or rather, a little more refinement. The E12 has a tad more warmth, likely owed to its higher THD (about 6dB more than the M-Stage) throughout that range so, perhaps unsurprisingly, the M-Stage is the more neutral/superior amp there in technical terms as well. When it comes to highs, I'd say the M-Stage does slightly better also. Can't put a finger on it, but all else being equal (including volume level) I find that I prefer the high end on the M-Stage. It is perhaps that the E12 at times seems to accentuate the graininess of the sound in the upper registers (in general, but especially for 44.1kHz/16bit playback). Regarding the attack and decay, I find the two amps to be fairy well matched. Powerwise, the M-Stage is the more powerful amp (with a max. voltage output of 22Vpp vs. the E12 at 15.5Vpp) but make no mistake, the E12 will put out a massive amount of power, which should be more than enough for most headphones (except perhaps for the most inefficient low impedance plannars). So, considering all this, if (hypothetically) I were forced to chose one of these amps which one would it be? Well, all things considered, despite the terrific low end of the FiiO and its very good overall sonic performance I would go with the M-Stage. (But, if I could have my cake and eat it too then I'd definitely get both.)A note on battery life: after recharging, I've used it for about 6hr at low to medium power (with 0dB gain) and is still going. So, battery life seems pretty decent. The cross-feed feature is there but I did not find it particularly useful - it just further reduces the width of the sound stage without any other benefit (that I could hear).Compared to the headphone amp on the C-7030 (JRC Op-Amp 2 x NJM-4580D/ symmetrical power rails + physical ground/ linear, regulated power supply) the FiiO E-12 is clearly superior. The cd-player headpone amp is fairly good for what it is but it sounds somewhat thin in the bass, and a little constricted/congested throughout the mids. The highs are pretty good and staging is decent but overall, especially with bass shy headphones (such as the open-back Sennheiser HD598), the entire listening experience leaves you wanting (hence my original motivation to look for an amplifier w/ bass-boost). The FiiO E12/HD598/C-7030 combo is (I think) a very good pairing but because of the whole 1/4in jack issue with these headphones (as mentioned above) I can't really recomend the E12 be used in such a fashion to anyone (and I don't think that I'm a particularly clumsy person but that kind of cumbersome connection between audio components is an accident waiting to happen). However, my other headphones (which have 1/8in jacks with screw-on 1/4in adapters) do work just fine in that configuration. Overall, for my desktop setup, I settled for the following with very good (and nearly identical) performance:  MacBook-Pro/XMOS-DAC/FiiO E12/Superlux HD-681 (slight EQ  - the Superlux have excessively bright highs),  and  MacBook-Pro/SABRE-DAC/M-Stage/ATH-A900 (some EQ). The Sennheisers are more versatile as they seem to work equally well with either amp/DAC combination with some bass-boost.To conclude, E-12, the latest (and perhaps greatest) headphone amplifier from FiiO, and which uses two of the newer high-end TI audio op-amps is a well built, great sounding little amp and I'd say (though I haven't listened to everything else out there in its price bracket) a good deal at list price (here consider that the M-Stage sells for twice as much). If I were to sum up the FiiO in one word I'd choose  - FUN.  The E12 is a fun sounding amp, and definitely the cure for boring sound. For whatever is worth, given my ingrained aversion to portable audio gear, the Mont-Blanc made a believer out of me: good things do, sometimes, come in small packages - so, no doubt - 5 star.UPDATE 05/30/2013: Some further thoughts after 3 weeks of nearly daily use -Battery life: 12-14 hr on a full charge on 0dB gain at low to medium volume with the 32ohm HD681. The amp will automatically shut-off when the battery charge drops below a certain level (I'm assuming the power monitoring/smart-charging chip in the amp does that to protect the battery (and the electronics in the amp) from damage if the battery voltage were to drop too low. Charging time is 6-7hr when using a regular (500 mAmp) USB port on my computer. Apparently the amplifier can be used while charging but I have not tried it, since, with the battery depleted the amp would, essentially, be powered directly from the USB and that type of power coupling to a fully loaded USB power port (and that, through a 5V to 11V boost converter too) can't possibly do anything good to sound quality.SQ: After an additional 20-30hrs of use the mids seem to have pushed back a little and the high end has smoothed somewhat. As a result the sound stage feels a bit more expansive than it did initially and the perceived slight roll-off of the high end is now gone (if it actually was there to begin with). It may be that this is just myself having gotten used to the sound of the amp but I'm more inclined to think that these subtle changes are, in fact, real since the E12 now (by and large) seems to have closed the overall SQ gap with the M-Stage while holding on to its better low end. While I cannot comment on its performance with power hungry cans (consider here that the negative rail is artificially produced, most likely by switching a capacitor - i.e. pump charge, and high current demands by difficult loads may lead to uneven rail voltages, distortion, leakage of the high frequency pump-charge switching noise into the audio-path, etc.) with my very efficient (98-101dB/mW) 32-50ohm cans the E12 is nothing short of remarkable.\n",
      "Name: reviewText, dtype: object\n",
      "735    It sounds pretty good for the price but it wants to force you to use it as an all-in-one media solution. The problem is that the interface for the \"home\" is slow and clunky. Every time you turn it on, you must start at the home screen. Then, you can click the source button multiple times to pick a source, not from a menu but you must view the input of every source (even if one is not actually even connected to that port) until you get to the one you want. The order is \"BD/DVD \u0002 D. IN \u0002 AUX \u0002 HDMI1 \u0002 HDMI2 \u0002 FM \u0002 BT.\" I think I will have to return it. This is the reason I do not buy Samsung or LG products. They do not make acceptable interfaces. I thought it would be different; learned my lesson, again.Update: I kept it. The firmware upgrade does now default to the last used input but only if you use the included remote control. So, I still have to use that remote for a single button. The interface is still horrible, the sound is ok to to good. Unnecessarily complicated which has always been my major complaint with Samsung.\n",
      "Name: reviewText, dtype: object\n",
      "825    I know if you're reading this, then you're probably considering buying a PlayStation 4. Well, you'll be happy to know that the PlayStation 4 is a good step in the right direction for the next generation of consoles; however, don't think this means you have to buy one right now. While the PlayStation 4 is a really nice next generation foray for Sony, there are still some things that need to be worked out and a decent game library to be built. I'll give you the quick and dirty first, and then a long, detailed review of each integral part of the console. Before I go into any of that, let me just state the obvious: The Playstation 4 does have graphical improvements, the hardware speaks for itself, and if you're not seeing that right now it's because most of the games are ports with minor graphical tweaks and you haven't seen Killzone Shadowfall or NBA 2k14 in full effect, and if you came here to see if someone would tell you whether it was better than the Xbox One check the bottom of this review. Now, on to the review!Pros:[+]console design (slim, sexy, fits in with your home theater setup)[+]interface (smooth, fast, easy to navigate)[+]nifty features (voice command, auto-patching, playing games while downloading/installing them)[+]swappable hard drive[+]controller design (with the small exception of its \"night light\")[+]sharing ability (expand your presence in the community)[+]online experience (soundly restructured from previous online with PS3)Cons:[-]cooling system (gets a bit loud)[-]touchpad usability (what usability?)[-]half-baked features (voice command, camera interactions)[-]game library currently (SO SMALL)[-]auto-patching (conflict of interest)Pros: A Love Story[+]  Let's start by talking about the design. The PlayStation 4 has a sleek, modern slant-design to it. It easily blends in with your home entertainment system, yet somehow stands out as futuristic. On the front it has two USB ports, a disc slot, and power/eject buttons activated by touch and not press. On the back, it has a plug for the power cord, a plug for HDMI, a plug for a digital optical audio output, a plug for ethernet, and a plug for the PlayStation camera, all of which are cleverly hidden within its slant design. So that's the basics of the console's design, let's talk about the interface.[+]  The interface is smooth as silk. When you boot up the PS4, you're immediately greeted with a selection menu for who is logging in. Once you select your login profile it is linked to the controller in your hand. If anyone else should try to login with another controller, the login screen will pop up again; as intrusive as this sounds, it only takes a second for somebody to login. The main interface builds upon the old cross media bar (XMB) of other Sony products (an obvious reference being the PlayStation 3's) and it improves the layout in every way possible. The XMB is now divided into two bars: one that addresses settings, online interaction, and the PlayStation store, and the other that presents games and media to the user in a clean and easy-to-navigate way. Movement between any part of these bars is fast and fluid, and the interface of the PlayStation Store fits the theme of the XMB layout in a very complementary way. Thanks to the layout of both the store and the cross media bar, any user can find their content within a matter of seconds. To help make this interface even more user-friendly, there exists a number of nifty features.[+] The nifty features I refer to are voice control, auto-patching, and \"play while you wait,\" as I like to call it. The PS4's voice control requires that you at least have A microphone plugged into your controller to use it, fortunately the PS4 comes with a microphone for your controller. By just saying \"PlayStation,\" followed by any command from a nicely presented bar in the bottom of the screen, you can turn your PlayStation off, start a game/app, or just navigate the cross media bar. Auto-patching means the PlayStation downloads patches for you and doesn't require you to approve them or even require you to wait for your game to install it before playing, this form of stealth updating also applies to PlayStation system software updates, and any and all updates appear in your notifications section so you know exactly what has been updated recently. Speaking of downloading/installing, you can now play games as they download and install, effectively meaning you can \"play while you wait\" as the game installs the rest of its content to the hard drive. Waiting on installs brings me to my next point, the requirement of installed games means the PS4's stock hard drive capacity is bound to be filled within the first year of owning it.[+]  Between the game installs and media downloads, it might seem that you'll have to do a lot of memory management in the next generation of gaming, but that doesn't have to be so for quite some time, as the PlayStation hard drive is swappable. In fact, Sony has made it incredibly easy to perform a hard drive swap and I can tell you the steps right here and now to demonstrate this ease. Simply press down firmly on the glossy side of the PS4 (while in horizontal position) and pull back at the same time, the top will pop out and slide off, then you'll see the hard drive encasement held by a very noticeable screw (it has the playstation button symbols on it), unscrew it, take out the encasement, unscrew the hard drive inside and replace it with your new hard drive, then reverse the order of the aforementioned steps to place it all back together. Easy as that. Alright, enough console talk, why don't we discuss the controller?[+]  The PlayStation 4 controller feels the same yet different, in a good way. The body of the controller has been widened a bit, with the middle space reserved for the touchpad at the top, a speaker in the middle, and the playstation button near the bottom. The analog sticks are now further apart meaning if you have large hands you won't feel cramped and if you have small hands you still won't have any trouble. The analog sticks also have a ribbed outer circle, so your thumbs don't slip off of either stick when you're getting into an intense gaming session. The triggers are less slippery than the PS3 controller's, and feel more responsive, each having a little lip toward the end so your fingers don't slide off at any given press. All in all, the controller just feel right in your hands. One more change that has been made, but doesn't affect the feel, is that the start and select buttons have been replaced by the options and the share button respectively, and with the share button comes a new dimension of console gaming.[+]  Yes, you can now show your friends, family, and even strangers, how cool you are or how insanely awesome something was in a game. Just hit the share button and a screen pops up offering you the chance to stream your skills to the world, post a snapshot to Facebook, or upload a video clip of your most recent gameplay. Sharing plays well into the PS4 environment, and you can watch other people's games with ease, or broadcast your own with little effort on your part (game playing aside). It adds a more connected feeling to the whole experience with the online community, bringing me to the conclusion of my pro side of things: Online Experience.[+]  The Online Experience of the PS4 is quite nice. Match setups are quick, messages and friend requests are easy to send out and respond to (when received), the share feature offers a nicely constructed comment thread for streamers to read through, and even though Sony has gone the route of Microsoft and made a subscription to Playstation Plus mandatory for those wanting to play online, you still get a lot of cool benefits from the service as a result; also, apps outside of gaming and multiplayer online don't require Plus to work, which is not the case on Microsoft's next-gen console.[[+]]  To conclude the pros side, Sony has crafted a beautiful new little addition to your home environment, complete with a sexy design, a smooth and user-friendly interface, some nifty features for a more seamless experience, a swappable hard drive, a touched-up controller, a sharing aspect for your gaming escapades, and a more structured online experience. Given all of these wonderful aspects, you have to wonder what might be wrong with this beauty, and I'm about to tell you.Cons: A Melancholy Nagging[-]  As I mentioned before, the PS4's design is sexy and subtle, yet some how pronounced. What I failed to mention is that it is also loud. I don't mean loud like the Hawaiian shirts your Uncle wears in public, I mean audibly loud. The cost of having that much tech in such a small encasement is that it has to have some serious help cooling those parts, and thus enters our loud friend: the cooling fan. If you fire up a game, and you have the tv volume turned down because you're trying to keep your gaming a secret, or attempting to not disturb someone else, the PS4 might give you away as the fan can grow progressively louder until it sounds like you have a small jet engine in your room. Granted, I'm exaggerating a bit here, you really won't notice the fan when you've got the volume at a reasonable level, but in between the action on screen, or in a lull of dialogue, you can here that tiny wonder of a fan spitting out as much hot air as it can.[-]  These cons can't really flow well together, so I'm going to trop the transitional statements in favor of some blunt honesty and topic switches. Let's talk about the elephant in the room: the touchpad. Sure it's not really a large elephant, okay, maybe no one noticed it or thought to ask about it, but that's my point! The touchpad has some limited use as of now, pressing it or swiping it has no consequence when navigating the new XMB, and so far games only use it for stats checks or the occasional mini-game. It's a gimmicky feature on the controller with nothing to justify its existence just yet. Hopefully Sony has some wonderful plans in store to show us that it's more than it initially appears to be.[-]  On the topic of gimmicks and gimmicky things (guess I can transition sometimes), the voice commands and the camera interactions have a half-baked feeling to them. The camera technically shouldn't be part of this review, but seeing as how it's tied to voice command and some of the interactivity of the PS4 I feel it should be addressed. Navigating the menu with your voice is cool the first time, but there's not much outside of it. You can't summon the menu with your voice while in game, and after a while you might just decide it's easier to use a few flicks of the analog stick and a press of a button as opposed to a few precious breaths. The facial recognition feature of the camera is also nice, but doesn't do terribly much outside of logging you into your account, inevitably forcing you to have to activate a controller to use an app or play a game.[-]  The game selection as of this writing is slim-pickings, in fact there are gaming sites that have released \"Top [Single-Digit] Games for PS4\", and it can mean you're restricted to one game per genre, so hopefully you like Assassin's Creed IV because it's the only open-world adventure game currently on PS4. Okay, perhaps that's not a true statement if you consider Don't Starve to be an open-world adventure game, but you get my point, right?[-]  My last con could be confusing to someone who just read the skinny on this review, since it contradicts one of the pros, but hopefully that person could piece it together without my help. Auto-patching, while a wonderful concept, doesn't have a rollback option. You can't just unpatch something once it's been patched. This means that once the patch is downloaded and installed, it could have potentially game breaking flaws. This is most likely a low risk, but still it would be nice to see Sony give some option for a rollback or an unpatch in the event that such a thing occurs.[[-]]  To conclude, the cons of the PS4 are pretty much nitpicks, and the one that should carry the most weight for you is the game library. If everything seems in order for you, and you think you want to get a PS4, just ask yourself if you can deal with the game library being small for a little while. Thinks will get good as the console's life cycle progresses, but for now it's a little powerhouse filled with potential.Well there you have it. My review, in so many words. I hope it has helped you make a decision on your purchase. Enjoy your new PS4, or don't. If you're that person that was looking at getting a PS4 or an Xbox One, then ask yourself if you're looking for something that is a dedicated gaming machine, or something that is more oriented toward an all-in-one media interface. If you chose a dedicated gaming machine this is for you, if you want the all-in-one with a nice setup for potential gaming, Xbox One is more your speed. Look for my Xbox One review coming soon, hopefully it will help solve your dilemma.\n",
      "Name: reviewText, dtype: object\n",
      "383    This monitor has an amazing array of inputs, which allows me to connect it to my iMac (DVI-D) and a laptop (Display Port) and switch between computers (also includes VGA, mini display port and HDMI). Monitor comes with the DVI and Display Port cables, which is a huge bonus. Front panel has touch sensitive switches that are intuitive and easy to use. One improvement suggestion would be to make it easier to switch between inputs (currently requires five selections in the menus)\u0010.\n",
      "Name: reviewText, dtype: object\n",
      "423    In my career I have used a lot of NAS Devices from companies like Thecus, Qnap, Cisco, Dell, Promise and Drobo, just to name few, and they are all great. I have built my own NAS using Nexenta, Open Solaris, FreeNAS (FreeBSD), Vanilla Linux, Windows Server and a number of other operating system. Building your own NAS is a great option that can save money, but increase setup and maintenance time exponentially. Having experience with all this I didn't think I would be saying that I prefer Synology over anything else I've used, but I do prefer it.Recommended for:I recommend any Synology product to the novice all the way to up the advanced user. The features available to enhance your experience just keep getting better with each new DSM release. Synology is always adding to their OS and enhancing security, improving usability, and increasing versatility. If you need block level storage or just want to store your media in a central location on your network then I'd recommend a Synology DiskStation. If you are thinking of buying a Synology for one specific reason I would recommend making sure something else on the market doesn't do that one thing you need done better. For those that need something rack mountable there are a number of RackStations they offer that will work well in a server room. The rack mountable units offer the same features, but the higher end models support 10Gb ethernet, have dual power supply support, have quad core cpus, support SAS drives, and support ECC ram up to 32GB.Pros:- Easy Setup and Maintenance.- Great hardware components backed by 3 year warranty.- Support for virtually any protocol out there: FTP, SFTP, FTPS, TFTP, PXE, Webdav, CIFS (\u0010SMB), AFP, NFS, SSH, Telnet, SNMP, Rsync, DLNA-UPnP, more.- Synology Hybrid RAID for those that have different size had drives, but want to use them in RAID.- Expand up to 10 more drives with 2 expansion units (DX510/DX513/DX213), for a total of 72TB of space- Huge potential for multipurpose uses with Apps and features that are easily accessible for for free.- Mobile Apps that pair with many of the multimedia features and work fairly well.- Easy to use operating system that is Web-enabled and allows multitasking, while also enabling advanced users to SSH and configure things.- Most built in Synology services/apps use ports 5000-5006 so you don't need to worry about configuring your firewall or router for an excessive amount of ports.- Speed limits for basically everything. You can limit bandwidth on backup jobs, FTP and other applications with ease.- The DSM Operating system is spanned across all disks for resiliency.Cons:- Price is higher than some other options on the Market.- Relatively weak CPU, but won't impact normal usage scenarios.- No hardware encryption for volumes or entire drives, only share level encryption. This is cpu extensive and slower.- No central management console/application for controlling and managing more than few DiskStations or RackStations.- No support for more than 4GB RAM on lower end units. Even though it isn't an option sat all, it would be nice to be able to setup RAM disks.- Cannot write to HFS+ external drives yet.- No builtin bare metal client backup software. Unlike Windows Server 2012 Essentials.- No dual power supply option on lower end units.We run about 30 Synology NAS devices ranging from their 2 bay Disk Stations all the way up to their 10 bay, dual power supply Rack Stations that we run with 10Gb ethernet. When we started using them about 4 years ago, we did so hesitantly. We bought one of their smaller non rack mount units and then proceed to torture test it. After a number of successful tests where we simulated brownouts, blackouts, and UPS failures. We then moved onto booting the system with a drive missing and then took a drive out with the system running and waited for each rebuild process to complete. All tests passed with flying colors and every rebuild completed successfully. We decide to buy more units and use them in our production environment. I find it very surprising that over these last 4 years we have had not one issue with any of the units we use, which are all in a production environments. Software has always installed fine, firmware upgrades have been flawless, RAID rebuilds have gone smoothly and integration with our enterprise environment has been great.As for the rest of this review I will focus mainly on what I use the DS1813+ for in a home environment because that is where I use this. I'll also talk about the hardware and software that make it my preferred NAS. The list of packages/software you can install with a few clicks is rather staggering. Like previously stated, most NAS options on the market have very similar features, but I have come to prefer what Synology offers over the rest. Generally, Synology has been providing 4 years of OS updates on current units, so you should have their newest DSM version for 4 years after the model was released. The model year is designated at the end of the model number. This is a 2013 model, thus it is named DS1813+. Although this model comes with support for up to 18 drives users can start off with only one drive if they want and then gradually add drives as they need. They also have 2 bay  and 5 bay units that would be more than sufficient for most users. The following is not an ALL inclusive source of what you'll get from Synology, but hopefully you find it helpful:***The Hardware****RAM: The DS1813+ comes with 2GB of RAM, but you can upgrade it to 4GB. You can purchase RAM from here: B007SDHAJ6, which is actually Synology Branded RAM. It takes about 5 minutes to add another RAM module. The second RAM slot is easily accessible and takes about 5 minutes to add*CPU: The CPU is an Intel Atom D2700 (2C/4T, 2.13 GHz). Although not a powerhouse the CPU is capable of handling pretty much anything you can run on a Synology DiskStation. This is however one of my biggest complaints with most NAS devices on the market, is their poor choice of CPUs. There are low power, and yet more powerful processors that they could use, especially at the price point you are paying for with Synology. Most users won't notice any performance issues with the D2700.*Enclosure: The enclosures they use are well built and more than sufficient for what these units are doing. The drive trays are lockable and now tool-less for 3.5&#34; Drive, although you'll still need screws for 2.5&#34; Drives. The fans are now easily removable and replaceable. As stated before, access to the expansion RAM slot is is quick and easy. You can also attach two expansion units that will add 5 more drives each.*Internals: They use quality components on the inside and that show because they offer a 3 year warranty to back it. You will however find that the only user serviceable parts are the RAM and Fans. If you tinker with anything else you risk voiding your warranty.*Network Ports: There are 4 network ports available. You can set these up a few different ways. You can use them independently of one another and control what apps use which ports, where each port will have it's own IP Address. This is nice for those that don't have a Layer 2 or 3 switch. For those that want more bandwidth or fault tolerance you can aggregate ports for fault tolerance or NIC teaming, but keep in mind you need a switch that supports this.*Expansion: If 8 x 4TB drives isn't enough for you then you can add up to a max of 10 more drives. You're options for expansion are the DX510 / DX513 or the DX213. The DX510 and DX513 both offer 5 more slots for drives via eSata, while the DX213. You can mix and match which expansion units you want, but you can only use two at the same time. The DS1813+ allows you to dynamically expand your existing RAID volumes using their expansion bays; however you can decide to use them for standalone volumes and then run backups to them as well. These expansion units come with eSata cables that screw into the back of both the expansion unit and the main unit for a tight and reliable connection.*RAID Made Easy: You can always use the vanilla style RAID, of which this unit supports RAID 0/1/5/6/10. You'll also be able to use your drives in a JBOD setup as well. Most users will be happy with using Synology Hybrid RAID, which allows for creating RAID volumes using different size disks while utilizing all the space on each disk for parity. Synology Hybrid RAID allows for 1 or 2 disk fault tolerance and easy volume expansion. Normal RAID will limit each drive to the smallest drive size in your RAID volume. Expanding RAID volumes is simple and relatively fast. In most cases you don't even have to wait for a volume to finish being created to use your system while the OS manages everything in the background for you and you'll be notified when things complete. If you are worried about not being around if a drive fails then you can just configure a global hot spare to auto rebuild if a drive is flagged offline in your RAID setup.***The Software****Setup and Management: Setting up one of these is quick and easy. Each unit requires the OS to be installed before it can be used, which is done with their Synology Setup Assistant software, although if you can find the IP address you can do so with the Webpage as well, completely bypassing the setup assistant. Be aware that the Synology Setup Assistant only works if the unit you are trying to setup is on the same subnet you are on. User and Groups management is made easy for those that have difficulty understanding UNIX permissions. You can just create and manage permissions in the GUI. Managing permission for applications, files and folders is done with just a few clicks. My biggest complaint is that there is no dedicated central management application to manage multiple devices easily. It would be ideal to be able to update firmware, restart, shutdown, wake and do other tasks straight from an application.*Packages/Apps: There are literally dozens of apps/packages that you can install with their built in Packages manager. It's basically a one click install affair. Most things are easily configure in no longer than a few minutes after installation. You can find 3rd party apps or &#34;community&#34; managed repositories where a good amount of non official apps are hosted. You can also install non-supported applications using terminal access via ssh, but unless you know exactly what you are doing it is not recommended.*Built in Functionality: The stock functionality is fantastic. Out of the box with no need to install any apps you can run backups via rsync (on a schedule), setup email/sms/push notifications for various purposes, setup your preferred DDNS service or use Synology's DDNS service for free, schedule cron jobs with the GUI, setup a syslog server, configure NIC link aggregation or fault tolerance, setup logging for virtually everything, enable a web server with virtual hosts, manage application privileges, and then setup access via the following protocols: FTP / SFTP / FTPS / TFTP / PXE / Webdav / CIFS (\u0010SMB) / AFP / NFS / SSH / Telnet / SNMP. The list goes on...*Mobile Apps: I don't' use most of the mobile apps much, but they have a a selection of apps that handles multimedia and one that can be used for basic management purposes. Overall they work well and are nice to have if you use the services that require them.*Enterprise/Business Features: There are a number of great features that home users probably won't take advantage of, but are here if you need them. Integration as an LDAP Client is available. You can easily join your DiskStaiton to an ActiveDirectory environment with a few clicks. iSCSI LUNs or Targets are also very easy to setup and accessible from any platform that supports using LUNs or Targets. If you have two SSDs you can setup an SSD cache to accelerate your I/O, although you won't likely need one in a home environment. Yet more click to install apps will let you run your own Radius server, VPN server, syslog server, DNS server, directory server, or a DHCP server. You can even setup your own email server if you want.*Resiliency and Data Protection - Backup/High Availability: You can backup your data with the built in backup protocols which use Rsync. Or you can use any number of third party cloud storage apps that integrate into paid services for offsite backup. You can use their built in backup features to maintain a backup of your data onto a volume located on an expansion unit or a secondary internal volume. If you have a second DiskStation you can just use High Availability and your entire unit will be mirrored to another disk station, this includes settings and services, software, data and even LUNs; according to what you configure it to sync.*Log - Audits: You can have logs for virtually anything. This is extremely nice for a System Admin to be able to audit certain things because you can have a trail of what was done by who and when. You are presented with current active connections as well which you can see for CloudStation, Network Shares and HTTP/s connections that are active. You can even kill said connections with the click of a button. You are also given a great log of who has been blocked and what IP they used when they were block, but I'll touch more on this later.***What I use the most****Cloud Station: My preferred replacement for any paid cloud storage company out there. You can have your own personal cloud server with very few limitations. Sync your files and folders to Windows, Mac and Linux. Allow multiple users to share and collaborate on files with different logins and access permissions (3rd party app called OwnCloud is worth a mention as well).*Photo Station: I use this to organize all my picture. Each user can have their own instance of Photo Station or you can setup on and then setup access level permission for all your folders.picture.*iTunes Server: I have about 65,000 songs that are hosted on my DS1813+ via the iTunes server. It hosts my entire music library and it is accessible via iTunes on any computer on my network.*DLNA/UPnP Server: If you have any devices that support streaming music or video like an Xbox 360/One or Playstation 3/4 you'll be able to stream to them. I use a bunch of Sonos players that I have setup in my home. You can configure it to transcode audio so that devices that don't support native playback of certain file types can play transcoded copies.*Auto Block: If you've enabled SSH or any other service that makes your disk station available over the internet then you'll want to be wary of malicious attempts to gain access to your server. Just turn on auto block and now you can auto block their IP addresses from attempting to access your server if they have N number of login attempts of N Minutes, where N is configurable by you. You are presented with a log/list of all IPs that have been blocked and you can keep them there permanently or set an interval for the block to expire. If you don't want certain IP addresses to get ever get blocked then you can add them to a Whitelist or even import a list of safe IPs.*Antivirus: Being based on linux Synology's OS isn't very susceptible to viruses, but the computers you conned to it are. There are two options for antivirus currently. The free one based os ClamAV. Or a paid one from McAfee. I use the free one, which is listed in the Package Center as Antivirus Essentials.*Backup and Restore: I run backups of my data, excluding media, using Rsync to another server that is my running rsync. This happens on a daily schedule. My media is replicated, using rsync, onto a server that is hosting Plex Media Server. All my files and media are automatically backed up and replicated where I need it. You can run your backups to any rsync compatible server or you can replicate entire shares or even LUNs between Synology DiskStations with ease. Backup to external drives are also easily setup and scheduled. Client backups are a different story. TimeMachine works well for Macs and is easily configured, but bare metal backup for other operating systems don't exist.*Surveillance - Security: We have a few IP cameras that are used to monitor our home and property. The Surveillance Station software is fantastic and works great with a large list of officially supported cameras and some that are user reported supported as well. We login and can view a live feed from any of our cameras. You can have the software track targets and trigger recording when a suspicious event occurs. Depending on your camera the software can be setup to have your cameras run on a patrol that automates panning tilting and zooming according to presets enabled by you.***Power Management***There are plenty of ways to manage power, and even some 3rd party apps for this. You can setup a &#34;Power Schedule&#34; that allows you to shutdown and startup on pretty much any schedule you'd like (especially with a 3rd party app). You can set the HDD Hibernation time for both internal or external drives, with logging as an option as well. Most mainstream UPS units are also supported for auto shutoff when your unit starts running on UPS powerI'll do my best to respond to questions if you have any.\n",
      "Name: reviewText, dtype: object\n",
      "210    This is the second Sharkk product that I have purchased from Amazon. Let me just start by saying that the build quality and customer service is incredible!!  The keyboard is perfect size (same size keys and spacing as my MacBook pro)\u0006 it was like I never left my laptop.  It is incredibly thin, and the aluminum backing makes the keyboard feel extremely solid when typing. I'm not worried about this thing breaking when I put it in my bag for travel. The backlit keys look outstanding,  I've caught myself staring as I cycle through the different colors numerous times. There are multiple brightness settings, so you can put it on a dimmer setting if you're trying to save battery. It came already charged, Ihavent even had to charge it yet. When I turned it on to sync with my nexus 7 2013, it was found instantly and makes typing a breeze.  All of the function keys work with my tablet, which has given me much more control than I previously did without a keyboard.  It will also work with IOS and windows, although I have not tried them out yet.  On the left side of the battery there is a slot to store a flashdrive, which I found to be a pretty cool added bonus. The keyboard goes into sleep mode after about 30 seconds on non use,  you simple press any button and it automatically wakes up and continues typing. They keyboard even works\u0006\u0006 with autocorrect and other spelling helpers. Overall I couldn't have asked for a better product,  this one fits the bill perfectly. I would have never found myself typing this long of a review if it weren't for having this incredible keyboard.  Thanks Sharkk!\n",
      "Name: reviewText, dtype: object\n",
      "772    The case-This is a nice very soft leather like lightweight case for your iPad. It looks nice and it is easy to carry and easy-to-use.There is one problem though. The magnetic flap that clasps it together also tends to hit the screen of the iPad . This is a problem that needs to be fixed.It only happens occasionally but ........The keyboard-the keyboard goe on easy and looks nice on  the case and is held there magneticallyIt is very easy to use.  It stays in place standing up very well. It's very reliablePairing the keyboard was quick and easyThe keyboard is advancedThe keyboard has many shortcuts you may use so that you never have to touch the screen of the iPadIt is so much simpler to use this keyboard than it is to use the flat keyboard that's on your actual iPadFor those of us who are bad typists it makes typing much easierAnd for those who are good typists i,t is a dream come true , you can type far more quickly and get so much more doneOver all I think almost everyone will like this case and the keyboard that comes with it ... the keyboard is brilliantThe only possible drawback that I can see with this case is that occasionally in the middle of you closing it, the magnetic flap will hit the screen of your iPad------ once that's fixed this is a perfect caseOverall I would recommend this iPad case.  i do advise people to just be careful of the flapI hope this review has helped you decide whether to buy this or notAnd with Amazon's great return policy I would suggest you try it !!  I think you'll really like it\n",
      "Name: reviewText, dtype: object\n",
      "940    I was hoping the padding would be decent around the edge but it turns out there is literally\u0010 no foam protecting the edges. What protects your notebook around the edges is the webbing material inside the case after it's zipped up. I would have given this 4-5 stars but cannot recommend it for a $2500 laptop. I ended up getting a Pelican case which is a complete overkill but gets the job done.\n",
      "Name: reviewText, dtype: object\n",
      "Processed 7824482 records\n",
      "Saved total 7820663 records to MySQL\n"
     ]
    }
   ],
   "source": [
    "file_name='electronics_reviews_original'\n",
    "electronics_reviews_list=getDF_reviews('data/reviews_Electronics.json.gz',review_columns,file_name)"
   ],
   "metadata": {
    "collapsed": false
   }
  },
  {
   "cell_type": "code",
   "execution_count": 22,
   "outputs": [
    {
     "name": "stdout",
     "output_type": "stream",
     "text": [
      "\n",
      "***The electronics_reviews after cleaned:***\n",
      " data of specified columns is NaN: 0\n",
      "                                  列名  num_rows  缺失值数量     数据类型\n",
      "reviewerID                reviewerID    999678      0   object\n",
      "asin                            asin    999678      0   object\n",
      "overall                      overall    999678      0  float64\n",
      "reviewTime                reviewTime    999678      0   object\n",
      "reviewText                reviewText    999678      0   object\n",
      "helpful_vote            helpful_vote    999678      0    int64\n",
      "total_vote                total_vote    999678      0    int64\n",
      "helpfulness_score  helpfulness_score    999678      0  float64\n",
      "\n",
      "***The electronics_reviews after cleaned:***\n",
      " data of specified columns is NaN: 0\n",
      "                                  列名  num_rows  缺失值数量     数据类型\n",
      "reviewerID                reviewerID    999496      0   object\n",
      "asin                            asin    999496      0   object\n",
      "overall                      overall    999496      0  float64\n",
      "reviewTime                reviewTime    999496      0   object\n",
      "reviewText                reviewText    999496      0   object\n",
      "helpful_vote            helpful_vote    999496      0    int64\n",
      "total_vote                total_vote    999496      0    int64\n",
      "helpfulness_score  helpfulness_score    999496      0  float64\n",
      "\n",
      "***The electronics_reviews after cleaned:***\n",
      " data of specified columns is NaN: 0\n",
      "                                  列名  num_rows  缺失值数量     数据类型\n",
      "reviewerID                reviewerID    999390      0   object\n",
      "asin                            asin    999390      0   object\n",
      "overall                      overall    999390      0  float64\n",
      "reviewTime                reviewTime    999390      0   object\n",
      "reviewText                reviewText    999390      0   object\n",
      "helpful_vote            helpful_vote    999390      0    int64\n",
      "total_vote                total_vote    999390      0    int64\n",
      "helpfulness_score  helpfulness_score    999390      0  float64\n",
      "\n",
      "***The electronics_reviews after cleaned:***\n",
      " data of specified columns is NaN: 0\n",
      "                                  列名  num_rows  缺失值数量     数据类型\n",
      "reviewerID                reviewerID    999393      0   object\n",
      "asin                            asin    999393      0   object\n",
      "overall                      overall    999393      0  float64\n",
      "reviewTime                reviewTime    999393      0   object\n",
      "reviewText                reviewText    999393      0   object\n",
      "helpful_vote            helpful_vote    999393      0    int64\n",
      "total_vote                total_vote    999393      0    int64\n",
      "helpfulness_score  helpfulness_score    999393      0  float64\n",
      "\n",
      "***The electronics_reviews after cleaned:***\n",
      " data of specified columns is NaN: 0\n",
      "                                  列名  num_rows  缺失值数量     数据类型\n",
      "reviewerID                reviewerID    999454      0   object\n",
      "asin                            asin    999454      0   object\n",
      "overall                      overall    999454      0  float64\n",
      "reviewTime                reviewTime    999454      0   object\n",
      "reviewText                reviewText    999454      0   object\n",
      "helpful_vote            helpful_vote    999454      0    int64\n",
      "total_vote                total_vote    999454      0    int64\n",
      "helpfulness_score  helpfulness_score    999454      0  float64\n",
      "\n",
      "***The electronics_reviews after cleaned:***\n",
      " data of specified columns is NaN: 0\n",
      "                                  列名  num_rows  缺失值数量     数据类型\n",
      "reviewerID                reviewerID    999590      0   object\n",
      "asin                            asin    999590      0   object\n",
      "overall                      overall    999590      0  float64\n",
      "reviewTime                reviewTime    999590      0   object\n",
      "reviewText                reviewText    999590      0   object\n",
      "helpful_vote            helpful_vote    999590      0    int64\n",
      "total_vote                total_vote    999590      0    int64\n",
      "helpfulness_score  helpfulness_score    999590      0  float64\n",
      "\n",
      "***The electronics_reviews after cleaned:***\n",
      " data of specified columns is NaN: 0\n",
      "                                  列名  num_rows  缺失值数量     数据类型\n",
      "reviewerID                reviewerID    999608      0   object\n",
      "asin                            asin    999608      0   object\n",
      "overall                      overall    999608      0  float64\n",
      "reviewTime                reviewTime    999608      0   object\n",
      "reviewText                reviewText    999608      0   object\n",
      "helpful_vote            helpful_vote    999608      0    int64\n",
      "total_vote                total_vote    999608      0    int64\n",
      "helpfulness_score  helpfulness_score    999608      0  float64\n",
      "\n",
      "***The electronics_reviews after cleaned:***\n",
      " data of specified columns is NaN: 0\n",
      "                                  列名  num_rows  缺失值数量     数据类型\n",
      "reviewerID                reviewerID       482      0   object\n",
      "asin                            asin       482      0   object\n",
      "overall                      overall       482      0  float64\n",
      "reviewTime                reviewTime       482      0   object\n",
      "reviewText                reviewText       482      0   object\n",
      "helpful_vote            helpful_vote       482      0    int64\n",
      "total_vote                total_vote       482      0    int64\n",
      "helpfulness_score  helpfulness_score       482      0  float64\n"
     ]
    }
   ],
   "source": [
    "for electronics_reviews in electronics_reviews_list:\n",
    "    print('\\n***The electronics_reviews after cleaned:***')\n",
    "    # review_len(electronics_reviews)\n",
    "    data_quality(electronics_reviews,content_columns_reviews)"
   ],
   "metadata": {
    "collapsed": false
   }
  },
  {
   "cell_type": "markdown",
   "source": [
    "**Data filter**"
   ],
   "metadata": {
    "collapsed": false
   }
  },
  {
   "cell_type": "code",
   "execution_count": 23,
   "outputs": [
    {
     "name": "stdout",
     "output_type": "stream",
     "text": [
      "filter with timeline finished!\n",
      "=====================\n",
      "total vote is 0:  329979\n",
      "     the ratio:  0.6595372152566662\n",
      "total vote>=2:  85664\n",
      "helpful vote is not 0:  140396\n",
      "=====================\n",
      "\n",
      "filter with vote finished!\n",
      "filter with timeline finished!\n",
      "=====================\n",
      "total vote is 0:  452805\n",
      "     the ratio:  0.649804185507862\n",
      "total vote>=2:  128200\n",
      "helpful vote is not 0:  203168\n",
      "=====================\n",
      "\n",
      "filter with vote finished!\n",
      "filter with timeline finished!\n",
      "=====================\n",
      "total vote is 0:  580341\n",
      "     the ratio:  0.6018236987506015\n",
      "total vote>=2:  224563\n",
      "helpful vote is not 0:  324791\n",
      "=====================\n",
      "\n",
      "filter with vote finished!\n",
      "filter with timeline finished!\n",
      "=====================\n",
      "total vote is 0:  612472\n",
      "     the ratio:  0.613304253872505\n",
      "total vote>=2:  226401\n",
      "helpful vote is not 0:  327088\n",
      "=====================\n",
      "\n",
      "filter with vote finished!\n",
      "filter with timeline finished!\n",
      "=====================\n",
      "total vote is 0:  628799\n",
      "     the ratio:  0.6292803995056218\n",
      "total vote>=2:  211850\n",
      "helpful vote is not 0:  309811\n",
      "=====================\n",
      "\n",
      "filter with vote finished!\n",
      "filter with timeline finished!\n",
      "=====================\n",
      "total vote is 0:  641267\n",
      "     the ratio:  0.6415800910844492\n",
      "total vote>=2:  201903\n",
      "helpful vote is not 0:  295833\n",
      "=====================\n",
      "\n",
      "filter with vote finished!\n",
      "filter with timeline finished!\n",
      "=====================\n",
      "total vote is 0:  617096\n",
      "     the ratio:  0.6174077909344219\n",
      "total vote>=2:  212840\n",
      "helpful vote is not 0:  312369\n",
      "=====================\n",
      "\n",
      "filter with vote finished!\n",
      "filter with timeline finished!\n",
      "=====================\n",
      "total vote is 0:  291\n",
      "     the ratio:  0.6037344398340249\n",
      "total vote>=2:  113\n",
      "helpful vote is not 0:  169\n",
      "=====================\n",
      "\n",
      "filter with vote finished!\n"
     ]
    }
   ],
   "source": [
    "electronics_reviews_filter_list=[]\n",
    "for electronics_reviews in electronics_reviews_list:\n",
    "    electronics_reviews_filter=filter_by_timeline(electronics_reviews)\n",
    "    print('filter with timeline finished!')\n",
    "    vote_analysis(electronics_reviews_filter)\n",
    "    electronics_reviews_filter=filter_by_vote(electronics_reviews_filter)\n",
    "    print('filter with vote finished!')\n",
    "    electronics_reviews_filter_list.append(electronics_reviews_filter)"
   ],
   "metadata": {
    "collapsed": false
   }
  },
  {
   "cell_type": "code",
   "execution_count": 24,
   "outputs": [
    {
     "name": "stdout",
     "output_type": "stream",
     "text": [
      "\n",
      "******************\n",
      "\n",
      " data of specified columns is NaN: 0\n",
      "                                  列名  num_rows  缺失值数量            数据类型\n",
      "reviewerID                reviewerID     85664      0          object\n",
      "asin                            asin     85664      0          object\n",
      "overall                      overall     85664      0         float64\n",
      "reviewTime                reviewTime     85664      0  datetime64[ns]\n",
      "reviewText                reviewText     85664      0          object\n",
      "helpful_vote            helpful_vote     85664      0           int64\n",
      "total_vote                total_vote     85664      0           int64\n",
      "helpfulness_score  helpfulness_score     85664      0         float64\n",
      "\n",
      "******************\n",
      "\n",
      " data of specified columns is NaN: 0\n",
      "                                  列名  num_rows  缺失值数量            数据类型\n",
      "reviewerID                reviewerID    128200      0          object\n",
      "asin                            asin    128200      0          object\n",
      "overall                      overall    128200      0         float64\n",
      "reviewTime                reviewTime    128200      0  datetime64[ns]\n",
      "reviewText                reviewText    128200      0          object\n",
      "helpful_vote            helpful_vote    128200      0           int64\n",
      "total_vote                total_vote    128200      0           int64\n",
      "helpfulness_score  helpfulness_score    128200      0         float64\n",
      "\n",
      "******************\n",
      "\n",
      " data of specified columns is NaN: 0\n",
      "                                  列名  num_rows  缺失值数量            数据类型\n",
      "reviewerID                reviewerID    224563      0          object\n",
      "asin                            asin    224563      0          object\n",
      "overall                      overall    224563      0         float64\n",
      "reviewTime                reviewTime    224563      0  datetime64[ns]\n",
      "reviewText                reviewText    224563      0          object\n",
      "helpful_vote            helpful_vote    224563      0           int64\n",
      "total_vote                total_vote    224563      0           int64\n",
      "helpfulness_score  helpfulness_score    224563      0         float64\n",
      "\n",
      "******************\n",
      "\n",
      " data of specified columns is NaN: 0\n",
      "                                  列名  num_rows  缺失值数量            数据类型\n",
      "reviewerID                reviewerID    226401      0          object\n",
      "asin                            asin    226401      0          object\n",
      "overall                      overall    226401      0         float64\n",
      "reviewTime                reviewTime    226401      0  datetime64[ns]\n",
      "reviewText                reviewText    226401      0          object\n",
      "helpful_vote            helpful_vote    226401      0           int64\n",
      "total_vote                total_vote    226401      0           int64\n",
      "helpfulness_score  helpfulness_score    226401      0         float64\n",
      "\n",
      "******************\n",
      "\n",
      " data of specified columns is NaN: 0\n",
      "                                  列名  num_rows  缺失值数量            数据类型\n",
      "reviewerID                reviewerID    211850      0          object\n",
      "asin                            asin    211850      0          object\n",
      "overall                      overall    211850      0         float64\n",
      "reviewTime                reviewTime    211850      0  datetime64[ns]\n",
      "reviewText                reviewText    211850      0          object\n",
      "helpful_vote            helpful_vote    211850      0           int64\n",
      "total_vote                total_vote    211850      0           int64\n",
      "helpfulness_score  helpfulness_score    211850      0         float64\n",
      "\n",
      "******************\n",
      "\n",
      " data of specified columns is NaN: 0\n",
      "                                  列名  num_rows  缺失值数量            数据类型\n",
      "reviewerID                reviewerID    201903      0          object\n",
      "asin                            asin    201903      0          object\n",
      "overall                      overall    201903      0         float64\n",
      "reviewTime                reviewTime    201903      0  datetime64[ns]\n",
      "reviewText                reviewText    201903      0          object\n",
      "helpful_vote            helpful_vote    201903      0           int64\n",
      "total_vote                total_vote    201903      0           int64\n",
      "helpfulness_score  helpfulness_score    201903      0         float64\n",
      "\n",
      "******************\n",
      "\n",
      " data of specified columns is NaN: 0\n",
      "                                  列名  num_rows  缺失值数量            数据类型\n",
      "reviewerID                reviewerID    212840      0          object\n",
      "asin                            asin    212840      0          object\n",
      "overall                      overall    212840      0         float64\n",
      "reviewTime                reviewTime    212840      0  datetime64[ns]\n",
      "reviewText                reviewText    212840      0          object\n",
      "helpful_vote            helpful_vote    212840      0           int64\n",
      "total_vote                total_vote    212840      0           int64\n",
      "helpfulness_score  helpfulness_score    212840      0         float64\n",
      "\n",
      "******************\n",
      "\n",
      " data of specified columns is NaN: 0\n",
      "                                  列名  num_rows  缺失值数量            数据类型\n",
      "reviewerID                reviewerID       113      0          object\n",
      "asin                            asin       113      0          object\n",
      "overall                      overall       113      0         float64\n",
      "reviewTime                reviewTime       113      0  datetime64[ns]\n",
      "reviewText                reviewText       113      0          object\n",
      "helpful_vote            helpful_vote       113      0           int64\n",
      "total_vote                total_vote       113      0           int64\n",
      "helpfulness_score  helpfulness_score       113      0         float64\n"
     ]
    }
   ],
   "source": [
    "for electronics_reviews in electronics_reviews_filter_list:\n",
    "    print('\\n******************\\n')\n",
    "    # review_len(electronics_reviews)\n",
    "    data_quality(electronics_reviews,content_columns_reviews)"
   ],
   "metadata": {
    "collapsed": false
   }
  },
  {
   "cell_type": "markdown",
   "source": [
    "***Concatenate***"
   ],
   "metadata": {
    "collapsed": false
   }
  },
  {
   "cell_type": "code",
   "execution_count": 25,
   "outputs": [
    {
     "name": "stdout",
     "output_type": "stream",
     "text": [
      "Table 'electronics_reviews_filter' does not exist. Creating new table...\n",
      "Table 'electronics_reviews_filter' created.\n"
     ]
    }
   ],
   "source": [
    "electronics_reviews_concatenated = pd.concat(electronics_reviews_filter_list, ignore_index=True)\n",
    "electronics_reviews_concatenated['reviewTime'] = electronics_reviews_concatenated['reviewTime'].dt.strftime('%Y-%m-%d')\n",
    "table_name='electronics_reviews_filter'\n",
    "saved_mysql(electronics_reviews_concatenated,table_name)"
   ],
   "metadata": {
    "collapsed": false
   }
  },
  {
   "cell_type": "code",
   "execution_count": 26,
   "outputs": [
    {
     "name": "stdout",
     "output_type": "stream",
     "text": [
      "Num of rows: 1291534\n",
      "====      \n",
      "Avg sentences: 7.374018802447322\n",
      "Total sentences: 9523796\n",
      "====      \n",
      "Max text length: 32703\n",
      "Min text length: 2\n",
      "Avg text length: 764.022096204978\n",
      "Mid text length: 447.0\n",
      "q75 text length: 905.0\n",
      "=====================================\n"
     ]
    }
   ],
   "source": [
    "review_len(electronics_reviews_concatenated)"
   ],
   "metadata": {
    "collapsed": false
   }
  },
  {
   "cell_type": "code",
   "execution_count": 27,
   "outputs": [
    {
     "name": "stdout",
     "output_type": "stream",
     "text": [
      " data of specified columns is NaN: 0\n",
      "                                  列名  num_rows  缺失值数量     数据类型\n",
      "reviewerID                reviewerID   1291534      0   object\n",
      "asin                            asin   1291534      0   object\n",
      "overall                      overall   1291534      0  float64\n",
      "reviewTime                reviewTime   1291534      0   object\n",
      "reviewText                reviewText   1291534      0   object\n",
      "helpful_vote            helpful_vote   1291534      0    int64\n",
      "total_vote                total_vote   1291534      0    int64\n",
      "helpfulness_score  helpfulness_score   1291534      0  float64\n"
     ]
    }
   ],
   "source": [
    "data_quality(electronics_reviews_concatenated,content_columns_reviews)"
   ],
   "metadata": {
    "collapsed": false
   }
  },
  {
   "cell_type": "markdown",
   "source": [
    "# ***Video Games***"
   ],
   "metadata": {
    "collapsed": false
   }
  },
  {
   "cell_type": "code",
   "execution_count": 28,
   "outputs": [
    {
     "name": "stdout",
     "output_type": "stream",
     "text": [
      "Table 'video_games_reviews_original' does not exist. Creating new table...\n",
      "Table 'video_games_reviews_original' created.\n",
      "611    I bought this game quite a while ago, but I hadn't spent much time playing with it--I tried it once, but I wasn't able to easily figure out how the game worked and the manual is lacking in several areas.  Now that I've spent a couple of days poking at it...There are two really major problems with the game: you can't save incomplete games, and a really obnoxious lockup problem, at least on my PS2.The inability to save in-progress games is understandable--it would be a challenge to get even a single map to fit on a memory card.  128K isn't much room for this sort of game.The lockup problem happens randomly when I'm in one of the menus. It's happened three times in a row after I've spent an hour or two building a really complex rail network (in one of the Australian scenarios), and thanks to the lack of a save feature that means all the work I've done is lost.  Admittedly it may be PS2-related, but it would be the first PS2-specific game problem I've run into (and I've tried at least 50 old PlayStation games on it).The interface is poorly implemented, which added to my initial frustration with trying to learn the game.  It takes a long time to become comfortable navigating the menus with the joypad... what it really needs is a mouse.  The most noticeable issue is that the pad behavior is inconsistent. In some screens the pad moves the cursor around the screen, but in other screens it performs other functions like highlighting buttons even though the cursor is still on the screen.  (I could go on for hours about other problems with the controls, but I won't bother...)Other people have mentioned graphics and text issues, but I haven't found these to be major issues.  I suspect the text would be hard to read on a small TV, and the font they used isn't that good.  The graphics aren't super, but they aren't horrible either--they're adequate.  No music?  That's a feature!Once I got over the initial &quot;how does this work?&quot; part Railroad Tycoon II turned out to be a really fun game; it ranks up there with SimCity or any of the other classic simulation games.  But the Playstation version just wasn't a good idea, especially with the lack of a save feature; \u001BI'll be playing the Linux version instead.\n",
      "Name: reviewText, dtype: object\n",
      "985    In Armored Core 2 ,the newest addition to the Armored Core series, you go head-to-head in relentless battles using an endless combination of parts. You can select from the collection of parts and armaments to customize your machine. Choose equipment from 14 different categories to make your own personal weapon of destruction.* Customize your own Armored Core.* Use 3 new parts functions:  Extension \u0016 An extension is a turret point that gas been added to the exterior of the Armored Core on both sides. It is designed to accommodate propulsion devices and assist in the machine\u0012s high-speed mobility.  Radiator \u0016 This new feature is used to cool the Armored Core, which can overheat when subjected to harsh weather conditions, enemy attacks or prolonged use of the booster.  Interior \u0016 Enables an Armored Core to carry even more weapons. These new weapons will be similar to those normally equipped on an Armored Core\u0012s arms or shoulders.* Original Armored Core creations can be saved to a memory card and put to the ultimate test in heated split-screen or link battles against a friend.* All new arenas and rules.For the Corporations, soldiers were nothing but expendable tools in the battlefields, and were held in low regard by society. However, the members of the Ravens, though they were soldiers as well, were guaranteed freedom and independence.They were admired and respected by all other soldiers. For those who fled the Earth\u0012s extremely poor underground cities and were barely surviving as soldiers, becoming a Raven represented the highest status and admiration they could acquire.And so a new soldier aspires to become a member of the famed Ravens. Think you are good enough? Time to find out.\n",
      "Name: reviewText, dtype: object\n",
      "216    I'm 30 something and enjoy the occasional video game, but never have been a really hardcore gamer.  If I play anything more than occasionally it has to be good.  My wife surprised me with the Gamecube and an assortment of titles including Super Monkey Ball for Christmas.  Simply stated this title is what gaming (and the nintendo game cube) is all about.I've logged a full Super Monkey gameday after work more than a few evenings consecutively. This game maybe on the stereotypical-cute-graphics-nintendo-bashers' hatelist but it does allow the title to appeal to both the young and old.  Make no mistake, this game is as addictive as they come regardless of your age and has no learning curve (but does take coordination and practice to master, if you ever do beat it.  I don't mean basic, try advanced then expert courses). This is one I can play with my 6 year old daughter, and then for hours after she goes to ''bed!  I can invite the guys over, or couples we hang out with -- and the same title entertains!  Monkey ball is a mixture of puzzle, racing, strategy, and sports.  Well rounded is an understatement.  An achievement is more like it.Nintendo is back doing what they do best in hardware and Sega - what can I say other than thanks?  The animation is very smooth, the sound track impressive.  Everything is amazingly detailed in its simplicity.  I've played this game so much this evening I can barely type - no kidding - best stress relief I've found in a long while.  With all of its levels - starting so simple and getting so incredibly hard while maintaining its simple demeanor is reason enough to buy the hardware. \u0018For the college age xbox demographic, this isn't just for kids (note the hint. . .party games. ..try it after a few drinks and everything is just that much more outrageous!)Hours and hours of fun in over a hundred levels and multiple party/mini games, some worthy of their own disc, make this title worth every penny.  For one player or several.  This is a must have. Undoubtably one of the signature games on the cube, already here - no need to wait!\n",
      "Name: reviewText, dtype: object\n",
      "975    Lately I haven really been the type to buy games until they've been marked down at least twice.  However for some insane reason I picked this game up very soon after it came out based on one person's recommendation.  Sounds like a mix for disappointment personally but in the end it was a good idea.For the most part I really hate these grid based Tactical RPGs.  Final Fantasy Tactics was frustratingly boring/difficult/lame after like 4 battles.  This game is ten times the game FFT was.  The battles are much quicker for one thing, especially if you're replaying old matches for experience.  Also you can move all your characters on one turn, something I really hated in FFT.  Though I must admit after a few days of regular playing it gets a little old.  I find eventually become a bit tired of this game and become distracted by other games or other things going on.However, the game is easy to come back to, and the charm picks back up almost immediately.  This game is a very good game.  That is to say, its something good to pick up and play when you have nothing else to play.Anyway, how about some information on the game itself.  You are Laharl, son of the late Lord of the Underworld, your mission is to defeat everyone else and become the new Overlord.  Its about time someone made a game where you play as the villain, or at least the less than heroic character.  As you battle through various locations eliminating other contenders for the throne.  You'll gain several of the characters you encounter to your party to assist you in combat.You'll need more than just the story characters though if you want to make quick work of things.  Any of the characters in your party can recruit followers from a large list of characters.  New classes and upgrades of classes become available as your existing characters gain experience.  One minor complaint, It would have been nice if the class upgrades would have gotten new sprite (graphics) instead of just recolors, but I suppose that would have made things a little too confusing.You can also recruit any monster you've battled before, but the cost of doing so is generally excessive for as weak as they are.  If you want monsters, the real way to do it is to capture them.  If you've weekend a monster in battle you can pick it up and toss it into your home base panel.  If the monster is weak enough and the party members in the panel are strong enough, you'll capture the monster.It doesn't take an eternity to gain levels either.  I once made a new level 1 character and had her kill a very strong (weakened) monster and she gained 19 levels in one fight.  She was ready to battle along side my stronger characters in no time.  Which is really nice since otherwise I\u001B$B!G\u001B(Bd have had an essentially useless character that late in the game.  Also this is the only RPG I can think of where levels go into the hundreds and thousands.Speaking of levels, you can level up a lot of things.  All your characters have regular experience levels of course.  Each character can also level up their special abilities, magic spells, and weapon skills for each weapon type.  These levels are dependent on how much you use the skill or weapon.  Weapons and items themselves can be leveled up as well.  You enter the Item World and fight through maps repeatedly.  Each map cleared is a level up for the item/weapon.  Along your trip through the item world you collect Residents.  The Residents are special monsters that give bonus status effects to weapons and items.  Once you've collected a Resident you can also move it to another more useful or more powerful item.There is also the Underworld Senate.  You can bring bills to the Senate for things like \"Better items for Sale\" or \"Stronger Monsters\".  The probability that they will pass depends on your favor with the senators.  By bribing the senators with items you can gain more favor.  Also if you're strong enough you can challenge the senators that vote against you to a battle.  You can also take tests to increase your level in the senate.Back to the core of the game, battles.  Like I mentioned, they are fairly quick and generally easy.  They do get more difficult in the later worlds, but there are some easy tricks you can use to gain levels quickly.  One of the main gimmicks in battle are the colored Geo Panels.  Random squares on the map will be colored one of several colors.  There are also colored Geo Stones lying around the maps (Note: Not every map has Geo Panels).  The stones add affects to the colored panels.  For example, a stone may have the effect \"Recover 20%\" and it's sitting on a red panel.  This will cause every red panel to recover 20% of the HP of any character on that space.  The Geo panels also affect monsters, so some strategy has to be used sometimes.  There are a ton of different effects from \"Enemy Boost\" to \"Warp\" to \"Invincibility\".  Also you can initiate massive chain reactions by destroying Geo Stones on the Geo Panels.  These chain reactions are often the only way to gain bonuses on some maps.Also, in battle characters will often initiate combination attacks with nearby characters.  If done correctly it\u001B$B!G\u001B(Bs possible to do many more hits of damage than you would have done with single attacks.  Also you can toss monsters or heroes around to help cover more ground.  Monsters can be combined into stronger monsters for more experience as well.Unfortunately, I am out of space, bottom line is that this is a really fun RPG.  There are a few points I didn't even get to touch such as the quirky plot or other battle features.\n",
      "Name: reviewText, dtype: object\n",
      "215    A GameCube-exclusive, Resident Evil 4 had been one of those games stuck in development for what seemed like an eternity. Despite the delays and concerns about the games exclusive status on Nintendos platform (don't worry, it will be released on the PlayStation 2 before the end of the year), Resident Evil 4 is a superb game that re-invents the tried-and-true mechanics of the series in important, innovative ways plus, it's creepy as hell. Resident Evil 4 picks up after Code: Veronica, with Leon Kennedy (from RE2) now a government agent sent to rescue the president\u0019s daughter who disappeared in Europe. Of course, her kidnapping is only a small part of the huge overall picture. The much-publicized absence of trademark zombies (and nemesis corporation Umbrella) was replaced by enemies that are far deadlier: crazed villagers and cultists (among others) who actually put up a fight. Enemies use explosives, weapons, and even bob and weave to dodge your attacks. They also set-up a variety of crude but effective booby traps.If the re-make of the first Resident Evil on the GameCube set a new visual standard for the series, then RE4 easily raises the bar. The game is gorgeous in a very effective way, with mist, rain, and other diverse weather effects coupled to immense detail. Static, pre-rendered backgrounds have been a love-hate relationship of the RE series, but number four wisely discards them with a new third-person view so you can see more of your surroundings, including attackers that may be lurking nearby.RE was frequently frustrating due to the limits on the play system, but not here. Characters can vault over rails, jump through windows, and even engage in hand-to-hand fighting when dry on ammunition. Interwoven into the play mechanics are Action Button sequences twitch-finger situations where you must press the button prompt that appears onscreen (two buttons simultaneously, or one button rapidly). Simple controls keep the diverse functions under simple command, and the various inventories are easy to access and navigate, but the inability to reload weapons in the menu screen or while moving can be a real pain. Speaking of weapons, the game serves up an arsenal Solid Snake would envy: Machine guns, sniper rifles, grenades, magnums, and other weapons can be obtained, and new ones can be purchased and upgraded by one of the many weapon Merchants at random spots throughout the game. If RE4 has any problem, it goes on a little too long (it spans two discs), with one boss battle and plot twist too many. However, there's an extensive reward system, including unlockable content that adds excellent replay value. It took time, but Resident Evil 4 finally arrived in glorious fashion, and fans of the series will be more than pleased. It's easily the best game in the series in recent years.\n",
      "Name: reviewText, dtype: object\n",
      "972    WARNING: I'll be going a bit in-depth partway into talking about \"The Third Age's\" endgame, so skip this review if you don't want to know about it.Okay. I liked the game, but it left me wanting just a bit more at the end.Overall, it's a refreshing change from the usual anime-flavored tactical turn-based fighting game, in that it's NOT anime-flavored. There's no better world to do this in than Middle-Earth. Some of you may feel disappointed that you don't get to play any of the major characters, but I think that this game is a step in a right direction. For me, there's a deeper sense of immersion playing alongside a major character rather than as one. It's a creative, satisfying twist.Note that I didn't refer to it as an RPG, as per the game itself. Strictly speaking it doesn't do the genre any real justice. A simple comparison to make this point: Considering Neverwinter Nights as a benchmark for the RPG genre in terms of its sheer depth and replayability, The Third Age is like watching the entire trilogy over Peter Jackson's shoulder and helpfully suggesting minor changes along the way. And then saving the whole thing to DVD.The most immersive aspects of this game are the fully realized Middle-Earth environments and the soundtrack, music and all. One of the pleasures I found in this game was the simple act of standing around just taking in the sights and sounds. (The fields of Rohan especially.)Now the gameplay: It plays almost exactly like anything out of the Final Fantasy series. (It actually reminds me more of FF VII than any of the more recent ones.) But it feels completely Middle-Earthy, again thanks to the visuals and sounds. Visual status effects (such as Fear, Stun, Spirit Resistances, Aura of The Valar, etc.) are well-made and manage to work well within the world and mythos of Middle-Earth. And I may add that playing dress-up is one of this game's better points; sure there's no point equipping less-beneficial items, but the chance to just put them on and view the whole package in real time is one of The Third Age's little pleasures.(Although I would note that the films themselves didn't display much in the way of physical manifestations of magic. Devoted Tolkien fans who loved the films would probably find these necessary visuals a seeming departure from the understated quality of magic in the movies.)The game itself isn't that tough. There were a few points when I thought I had broken the game, only to be surprised by later enemies you'd think were pushovers. (Case in point: Easterling warriors.) But there's a seeming imbalance here: in my opinion the most difficult enemies I faced in the whole game were, not even Sauron himself, but the Mumakil (the elephants on steroid megadoses, for the uninitiated.) The Balrog (even Sauron) in comparison, was a comparative cakewalk. Sure, given that the Balrog should indeed appear early on due to the game's linear nature, but I think that badass could've been a tad more... well, bad.And Sauron? Yes, you do get to fight him in the endgame (another event twice removed from the books), but it isn't that hard as long as you have the right characters in place and have the right spells and attacks ready to go. It's really just a matter of being patient and wearing him down.Now my real beef with the game.Assuming you've done everything the game asked, you should be at 99% completion and have all equipment and all epic scenes right after you finish fighting alongside Aragorn and right before you face off with the last eight Nazgul and then Sauron. The beef: you get level-ups after each of your two rounds with the Nazgul but don't get to save. And you still don't get to save after you finish off Sauron but instead get a final hidden epic scene that vaguely ties together the whole thing. (Kudos to Sir Ian for voicing the whole game, by the way.) And you don't even get to unlock Mordor as a final Evil Mode chapter.What I would have liked to see: 1) Mordor (specifically Barad-D\u0015ur) as an Evil Mode Chapter, 2) a chance to save after everything's said and done, and 3) a game summary screen to display stats, number of saves, items used, fave weapons, whatnot. Just to give players a better sense of completion.TO WRAP UP: Liked the game, wished Balrog was tougher, should've been a chance to save after defeating Sauron and unlock Mordor for Evil Mode.Hope it's been helpful. Thanks for taking the time to read my review. :)\n",
      "Name: reviewText, dtype: object\n",
      "916    I've been doing this for 67 days now, and I have over 35 hours of credits. The difference in my body is quite obvious. I started off in pretty good shape, but all of my muscles are clearly more toned now. I've also really honed my balance well.Yoga: Everything can be fairly distracting at first, and you really should focus on just learning the poses before you worry too much about your balance. The instructions and demonstration are far more helpful than any book could be, and unlike video, you can view any part of the pose from all around while they are paused or moving. \u0010Once you've learned a pose, the yellow circle and little red dot make a very useful tool. The guided breathing was a brilliant addition.Strength: Many of these start off easy, but as you unlock more, it can get very intense. Obviously this isn't meant for body-builders, but you can do quite a bit with it. Between the push-up challenge, jack knife challenge, rowing squats, and lunges you can give your whole body a VERY effective work-out. Many of the other exercises are great too, especially the one-arm stand.Aerobics: None of these will compare to swimming or riding a bike, especially at first, but they can be a lot more than a walk around the block. Once you unlock Free Step, put the board on something sturdy to raise it about a foot or more. If you do this on high speed, you'll get a very real work-out for your heart and lower body. The running works too to of course, but it's a bit clumsy and there's no stair-climbing effect.Balance Games: My sister said they remind her of the exercises she does in physical therapy. They are all short, simple, and fun. The coolest part about getting better at them over time is the fact that you are literally improving your balance, something people tend to seriously neglect.Overall, this game really is what it promises: a great, effective way to exercise at home and without equipment other than the board. You can definitely cheat at just about everything on it if you want to, and it's measurement of your performance isn't always perfect. But look at it for what it is: a tool for you to use to help yourself.\n",
      "Name: reviewText, dtype: object\n",
      "256   It doesn't work for Macs. That's disappointing considering this was made by Sony, a large company. It will work for several seconds before disconnecting.\n",
      "Name: reviewText, dtype: object\n",
      "911    The actual game mechanics are awesome, the story is THE best story I have ever exper\u0010ienced. I'm sorry it's overGOTY!!!!!!!\n",
      "Name: reviewText, dtype: object\n",
      "846    After playing around with my PS Vita for a couple days, I've been able to test out most of the features and game demos to give it the best possible review. Overall, I'm pretty impressed with my Vita. It's definitely worth the money I spent. I think it has potential to be a very successful system. I'm excited to see what developers create for it. A PS Vita version of Monster Hunter would make it sell out the roof, especially in Japan. Here's some features and components I thought stood out to me when I played it, good/bad.PROS:-The Design: One can quickly identify the Vita as a jumbo-sized PSP 1000, except the Vita is quite different. It is extremely light for it's size, and very sleek.-The Screen: The first thing that stands out to anybody who picks up the device. The 5\" OLED display is beautiful to the say the least. Along with the vivid display, is the touch component. The screen is extremely responsive, as responsive or better than my own iPhone's. No lag, whatsoever. A truly beautiful thing, especially for a gaming device where a majority of the controls rely on the screen's sensitivity.-The Controls(Buttons, Sticks): One thing that Sony hyped up that supposed to revolutionize handheld gaming was the addition quasi analog sticks. The initial feeling is a very grippy one, which is good for a gamer. Although very small in comparison to its Dualshock brother, the two control sticks do a great job when handling games like Uncharted: Golden Abyss. The X\u0017[]'O buttons are smaller compared to its predecessors' but once in gameplay their size does not pose an issue.-The OS/UI: After reading some earlier reviews before release, I found that many people disliked the UI that Sony had implemented with the PS Vita. I on the other hand, disagree. It is very user-friendly, as I had no problems using it. They made closing apps really easy by just a drag of the finger. Although it's not as simple looking as it's ancestor's XMB, it is still really easy to use and find things.-Party App: FINALLY. Something every Sony gamer has been calling for since the minute they played their systems online. The ability to do cross-game chat is huge for the Vita. It has the ability to chat with up to 8 people. The voice quality is very good, almost phone call quality. Very impressed with this feature.-Near: Near is an app that shows near by Vita players in your current location. It shows displays your PSN ID to others on a radar and shows the closest players and what games they're playing. I was surprised to see about 20 Vita players in a 2 mile radius around ASU campus. A good addition to the Vita.CONS:-Remote Play: I was very eager to try out Remote Play, to see if Sony had made any improvements on it since the PSP days. I was disappointed to find that it was EXACTLY the same as it was on my PSP. I tried to play many of my PSN games but to no avail, the same message over again, \"This feature is not available.\" I thought maybe with the increased computing power of the Vita, it would have the ability to do more with this feature. I was wrong. Hopefully Sony addresses this issue in an a feature update.-The Ability to play PS1 Games(Or Lack there of): It seems like a regression of sorts to not include a feature the PSP had. With the PS Store's large collection(and continually growing one), why not include the functionality to play PS1 games. I know Sony says they're working on the issue, but I really would have liked to see them have it on day 1. It would give owners something to play if they didn't buy any games at launch.-Camera: You'd think with Sony making the Vita, they would include a high quality camera. Nope. It's average at best. It's very grainy and doesn't focus well. But it's not such a big deal, you buy a playstation to game right?\n",
      "Name: reviewText, dtype: object\n",
      "946    This was a great purchase, flawless gameplay and great graphics overall I give it 4/5 stars!Namco as done it again Top-notch.\n",
      "Name: reviewText, dtype: object\n",
      "790   Of all the Halo games Halo 4 has got to be my least favorite, here's a list.Campaign:PROS:- Graphics were amazing- Character development was good- Some of the new weapons were really cool- You felt more like you were a thousand pound Spartan not a lightweight ninjaCONS:- Repetitive gameplay- Incredibly boring storyline compared to past Halo games- Mysterious forerunner atmosphere was lost- The redesigns of the every Covy alien was appalling.- The game didn't gain anything from having the Covies in it- They somehow made grunts MORE annoying, and in a bad way.- The new antagonists were obnoxious, incredibly boring to fight, and were an annoyance more than anything.- Some of the new audio was really weak sounding or down right obnoxious- Don't play through to the Legendary ending.- The soundtrack. It was awful, nothing about it was memorable, and it didn't feel even remotely like Halo. There were only a few songs that I didn't mind. Marty O'Donnell was sorely missed, the original atmosphere of Halo was stripped away due to the lack of his amazing music. Niel Davidge is not a bad producer or composer, he was just working outside his normal style of music.Multiplayer:PROS:- Griffball and Infection have their own online playlists- Oddball has been improvedNEUTRAL:- Armor abilities. If used properly they add to a game, if abused: invisible camping snipers- Promethean vision is too over powered in my opinion for multiplayer.- You can start out with some over powered weaponsCONS:- not a lot of cons, just personal preference on gameplayForge:PROS:- You can add more lights- Magnets are good if you know how to use them, and can be really helpful if you are fitting the same type of pieces together. They don't work so well when using two completely different pieces, obviously.- Textures are wonderful- Filters. Some are great for map atmosphere, some are meant more for Machinima.- Dynamic lighting. You can now make dark rooms and pieces cast shadows, adding depth to your map.- TREES. Finally, we have trees.NEUTRAL:- There are four forge specific maps, while not as large or malleable as Forge World, they add unique atmospheres to each. Except Forge Island.CONS:- Some of the same pieces from Reach have been reshaped to have pointless features that make an uneven surface. It can be worked around but is annoying.In conclusion, the game is not bad at all, but it was not good compared to Halo's standards.Given that this is 343's first game made by a bunch of people who hardly knew each other we should give them a bit of slack. I have high hopes for 343's future gaming endeavors.-Sarah\n",
      "Name: reviewText, dtype: object\n",
      "Processed 1000000 records\n",
      "this round saved total 999754 records to MySQL\n",
      "992    a little harder, more aspects added to this version vs the original quell, including multiple droplets, and poison dro\u0000plets, another way to burn some time when u have it!\n",
      "Name: reviewText, dtype: object\n",
      "386    Here's the deal. Is playstation all stars the best game ever? No. Does it Suck? No. Here's the low down short and sweet review of this game. This game is a brawler in a SIMILAR way to Super Smash Bros. Note SIMILAR. The way you play the game is alot different. There are no cheap ring outs, no annoying imbalances( everyone has somesort of nerd/weakness), and the game is very strategic. To those complaining about the final boss, he's un unfinished polygon cause thats who he is, POLYGONman, the original sony mascot. heres a short sweet out ten break downStory- 7/10 Characters have weird rivals, but amusing intro's to their story mode.Its a fighting games, who caresSingleplayer gameplay-7/10 playing alone, unlocking intros, outtros, and a costume for each character is fun and challange mode is cool, but playing multiplayer is the bestMultiplayer-9/10 playing with your friends online and offline is the most fun with this game and reason to own itSide Note-Some classics like spyro and crash are missing, but may appear as dlc, the Roster is already great though, with old characters like Parappa the Rapper and Daniel from Medevil, as well as more familiar faces such as Kratos and Nathan DrakeOverall score 8\u0010.75, Its a great game,  plus got a vita and ps3? just buy the ps3 version for a free downloadable vita copy\n",
      "Name: reviewText, dtype: object\n",
      "417    Like most people I was hesitant to pick this up because of all the mediocre reviews. I'm a 28 year old married working professional (pediatrics resident) and like many adults I don't have time to spend playing hours and hours of video games. I wanted something I could pick up recreationally and just have fun with (although i do look for a deep meaningful gaming experience, as well). I also wanted something I could use for party games with other people. I strongly considered xbox one. But a couple things really turned me off to that. For one I think its stupid (and genius) that you have to pay a subscription fee for any online service. I already paid $500 and now I have to pay $60/year more! That's ridiculous! Then I also realized that no game in the xbox one or xbox 360 lineup sounded as fun as nintendo games I had spent hundreds of hours playing (wii sports first, then mario, donkey kong, mario kart!!!, the 'trauma' series, just dance). I could pull out mario kart and EVERYONE loved playing it.The wii u piqued my interest for many reasons but mostly the price seemed right. The deluxe bundle with two games (mario and luigi) was $299. I also picked up nintendo land at gamestop for $13.50 and two wii motion plus add-ons for like $15 each.This has been the best gaming decision I could have possibly made!!!Reason #1: backwards compatibleI can play all my old wii games that I know and love!!! And I don't have to invest in all new controllers and stuff. ALSO, I just found out that a recent update now allows you to do a one time transfer from your wii!!! That means I don't have to re-purchase super mario 3, super mario world, street fighter, or the other games I had bought. No one seems to know about this (even thr nintendo reps I had asked!) But for previous wii owners this is a huge plus!!!Reason #2: the second screen is a God send to every married man or person in similar situationI'm with friends and they want to watch football, I wanted to mess around with the wii. No problem!!! my wife has certain shows that I like to avoid (ie real housewives).. this offers a perfect way to do it. You can even use the wii remotes with the screen to make it like a miniature tv.Reason #3: the FUN FACTORRemember the first time you played wii and it was cool because anyone could just pick it up and play. All of a sudden everyone wanted to try bowling.\u001B\u001B\u001B my mom, sisters\u001B\u001B\u001B.. people who previously hated how video games stole the tv. I never thought that would be replicated on the wii u. To be fair, I had doubts because the interface is less intuitive (although sometimes more intuitive with the ease of touching the gamepad).. there also have been a lot of updates which take time and could make the most casual gamers lose interest.But don't let that dissuade you! Nintendo land is literally the most fun I've had on a game system with family since those first days of owning a wii. My wife, who's never been into games (even the wii) has been asking to play nintendo land! The games are simple but just SO MUCH FUN!!! The smiles on her face and our laughs as we play these games more than cover the cost of the system. The asymetric gaming is something revolutionary. It allows people to have different roles in the same game. The uses for the second screen seem to be endless.The other fun part is creating your mii. They actually resemble you. And when you see yourself in the game it just adds something to the experience.Reason#5 - the futureI don't know what will happen with wii u. It may be too late to be successful. But I do know there are new games on the horizon that make it even more worth having (mario kart!!!). And best of all the games look GREAT! They are in true 1080 hd. There comes a point where better graphics only add so much. If you want that I've heard people say a gaming pc is better than xbox or PlayStation. but if you want fun\u001B\u001B\u001B invest in the wii u. Your kids will not be disappointed, and neither will you.Ps.. one additional hypothetical app that would make this system even cooler is Skype. If wii u was able to get this app (it already has netflix, amazon video, and hulu plus.. which work GREAT btw\u001B\u001B\u001B it even shows extra imdb content on the gamepad as you watch!!!). You could leave your wii u on and the second screen could recieve skype calls while you watch tv. How cool would that be!!! Xbox one has gotten a lot of attention for being a total entertainment system but wii u could be comparable. So what if you can control channels with xbox? You can do that with the nintendo gamepad. You can't control dvr or ondemand content so I think xbox is going to be less seamless than people think.Bottom line: LONG LIVE NINTENDO!!!\n",
      "Name: reviewText, dtype: object\n",
      "685    I know if you're reading this, then you're probably considering buying a PlayStation 4. Well, you'll be happy to know that the PlayStation 4 is a good step in the right direction for the next generation of consoles; however, don't think this means you have to buy one right now. While the PlayStation 4 is a really nice next generation foray for Sony, there are still some things that need to be worked out and a decent game library to be built. I'll give you the quick and dirty first, and then a long, detailed review of each integral part of the console. Before I go into any of that, let me just state the obvious: The Playstation 4 does have graphical improvements, the hardware speaks for itself, and if you're not seeing that right now it's because most of the games are ports with minor graphical tweaks and you haven't seen Killzone Shadowfall or NBA 2k14 in full effect, and if you came here to see if someone would tell you whether it was better than the Xbox One check the bottom of this review. Now, on to the review!Pros:[+]console design (slim, sexy, fits in with your home theater setup)[+]interface (smooth, fast, easy to navigate)[+]nifty features (voice command, auto-patching, playing games while downloading/installing them)[+]swappable hard drive[+]controller design (with the small exception of its \"night light\")[+]sharing ability (expand your presence in the community)[+]online experience (soundly restructured from previous online with PS3)Cons:[-]cooling system (gets a bit loud)[-]touchpad usability (what usability?)[-]half-baked features (voice command, camera interactions)[-]game library currently (SO SMALL)[-]auto-patching (conflict of interest)Pros: A Love Story[+]  Let's start by talking about the design. The PlayStation 4 has a sleek, modern slant-design to it. It easily blends in with your home entertainment system, yet somehow stands out as futuristic. On the front it has two USB ports, a disc slot, and power/eject buttons activated by touch and not press. On the back, it has a plug for the power cord, a plug for HDMI, a plug for a digital optical audio output, a plug for ethernet, and a plug for the PlayStation camera, all of which are cleverly hidden within its slant design. So that's the basics of the console's design, let's talk about the interface.[+]  The interface is smooth as silk. When you boot up the PS4, you're immediately greeted with a selection menu for who is logging in. Once you select your login profile it is linked to the controller in your hand. If anyone else should try to login with another controller, the login screen will pop up again; as intrusive as this sounds, it only takes a second for somebody to login. The main interface builds upon the old cross media bar (XMB) of other Sony products (an obvious reference being the PlayStation 3's) and it improves the layout in every way possible. The XMB is now divided into two bars: one that addresses settings, online interaction, and the PlayStation store, and the other that presents games and media to the user in a clean and easy-to-navigate way. Movement between any part of these bars is fast and fluid, and the interface of the PlayStation Store fits the theme of the XMB layout in a very complementary way. Thanks to the layout of both the store and the cross media bar, any user can find their content within a matter of seconds. To help make this interface even more user-friendly, there exists a number of nifty features.[+] The nifty features I refer to are voice control, auto-patching, and \"play while you wait,\" as I like to call it. The PS4's voice control requires that you at least have A microphone plugged into your controller to use it, fortunately the PS4 comes with a microphone for your controller. By just saying \"PlayStation,\" followed by any command from a nicely presented bar in the bottom of the screen, you can turn your PlayStation off, start a game/app, or just navigate the cross media bar. Auto-patching means the PlayStation downloads patches for you and doesn't require you to approve them or even require you to wait for your game to install it before playing, this form of stealth updating also applies to PlayStation system software updates, and any and all updates appear in your notifications section so you know exactly what has been updated recently. Speaking of downloading/installing, you can now play games as they download and install, effectively meaning you can \"play while you wait\" as the game installs the rest of its content to the hard drive. Waiting on installs brings me to my next point, the requirement of installed games means the PS4's stock hard drive capacity is bound to be filled within the first year of owning it.[+]  Between the game installs and media downloads, it might seem that you'll have to do a lot of memory management in the next generation of gaming, but that doesn't have to be so for quite some time, as the PlayStation hard drive is swappable. In fact, Sony has made it incredibly easy to perform a hard drive swap and I can tell you the steps right here and now to demonstrate this ease. Simply press down firmly on the glossy side of the PS4 (while in horizontal position) and pull back at the same time, the top will pop out and slide off, then you'll see the hard drive encasement held by a very noticeable screw (it has the playstation button symbols on it), unscrew it, take out the encasement, unscrew the hard drive inside and replace it with your new hard drive, then reverse the order of the aforementioned steps to place it all back together. Easy as that. Alright, enough console talk, why don't we discuss the controller?[+]  The PlayStation 4 controller feels the same yet different, in a good way. The body of the controller has been widened a bit, with the middle space reserved for the touchpad at the top, a speaker in the middle, and the playstation button near the bottom. The analog sticks are now further apart meaning if you have large hands you won't feel cramped and if you have small hands you still won't have any trouble. The analog sticks also have a ribbed outer circle, so your thumbs don't slip off of either stick when you're getting into an intense gaming session. The triggers are less slippery than the PS3 controller's, and feel more responsive, each having a little lip toward the end so your fingers don't slide off at any given press. All in all, the controller just feel right in your hands. One more change that has been made, but doesn't affect the feel, is that the start and select buttons have been replaced by the options and the share button respectively, and with the share button comes a new dimension of console gaming.[+]  Yes, you can now show your friends, family, and even strangers, how cool you are or how insanely awesome something was in a game. Just hit the share button and a screen pops up offering you the chance to stream your skills to the world, post a snapshot to Facebook, or upload a video clip of your most recent gameplay. Sharing plays well into the PS4 environment, and you can watch other people's games with ease, or broadcast your own with little effort on your part (game playing aside). It adds a more connected feeling to the whole experience with the online community, bringing me to the conclusion of my pro side of things: Online Experience.[+]  The Online Experience of the PS4 is quite nice. Match setups are quick, messages and friend requests are easy to send out and respond to (when received), the share feature offers a nicely constructed comment thread for streamers to read through, and even though Sony has gone the route of Microsoft and made a subscription to Playstation Plus mandatory for those wanting to play online, you still get a lot of cool benefits from the service as a result; also, apps outside of gaming and multiplayer online don't require Plus to work, which is not the case on Microsoft's next-gen console.[[+]]  To conclude the pros side, Sony has crafted a beautiful new little addition to your home environment, complete with a sexy design, a smooth and user-friendly interface, some nifty features for a more seamless experience, a swappable hard drive, a touched-up controller, a sharing aspect for your gaming escapades, and a more structured online experience. Given all of these wonderful aspects, you have to wonder what might be wrong with this beauty, and I'm about to tell you.Cons: A Melancholy Nagging[-]  As I mentioned before, the PS4's design is sexy and subtle, yet some how pronounced. What I failed to mention is that it is also loud. I don't mean loud like the Hawaiian shirts your Uncle wears in public, I mean audibly loud. The cost of having that much tech in such a small encasement is that it has to have some serious help cooling those parts, and thus enters our loud friend: the cooling fan. If you fire up a game, and you have the tv volume turned down because you're trying to keep your gaming a secret, or attempting to not disturb someone else, the PS4 might give you away as the fan can grow progressively louder until it sounds like you have a small jet engine in your room. Granted, I'm exaggerating a bit here, you really won't notice the fan when you've got the volume at a reasonable level, but in between the action on screen, or in a lull of dialogue, you can here that tiny wonder of a fan spitting out as much hot air as it can.[-]  These cons can't really flow well together, so I'm going to trop the transitional statements in favor of some blunt honesty and topic switches. Let's talk about the elephant in the room: the touchpad. Sure it's not really a large elephant, okay, maybe no one noticed it or thought to ask about it, but that's my point! The touchpad has some limited use as of now, pressing it or swiping it has no consequence when navigating the new XMB, and so far games only use it for stats checks or the occasional mini-game. It's a gimmicky feature on the controller with nothing to justify its existence just yet. Hopefully Sony has some wonderful plans in store to show us that it's more than it initially appears to be.[-]  On the topic of gimmicks and gimmicky things (guess I can transition sometimes), the voice commands and the camera interactions have a half-baked feeling to them. The camera technically shouldn't be part of this review, but seeing as how it's tied to voice command and some of the interactivity of the PS4 I feel it should be addressed. Navigating the menu with your voice is cool the first time, but there's not much outside of it. You can't summon the menu with your voice while in game, and after a while you might just decide it's easier to use a few flicks of the analog stick and a press of a button as opposed to a few precious breaths. The facial recognition feature of the camera is also nice, but doesn't do terribly much outside of logging you into your account, inevitably forcing you to have to activate a controller to use an app or play a game.[-]  The game selection as of this writing is slim-pickings, in fact there are gaming sites that have released \"Top [Single-Digit] Games for PS4\", and it can mean you're restricted to one game per genre, so hopefully you like Assassin's Creed IV because it's the only open-world adventure game currently on PS4. Okay, perhaps that's not a true statement if you consider Don't Starve to be an open-world adventure game, but you get my point, right?[-]  My last con could be confusing to someone who just read the skinny on this review, since it contradicts one of the pros, but hopefully that person could piece it together without my help. Auto-patching, while a wonderful concept, doesn't have a rollback option. You can't just unpatch something once it's been patched. This means that once the patch is downloaded and installed, it could have potentially game breaking flaws. This is most likely a low risk, but still it would be nice to see Sony give some option for a rollback or an unpatch in the event that such a thing occurs.[[-]]  To conclude, the cons of the PS4 are pretty much nitpicks, and the one that should carry the most weight for you is the game library. If everything seems in order for you, and you think you want to get a PS4, just ask yourself if you can deal with the game library being small for a little while. Thinks will get good as the console's life cycle progresses, but for now it's a little powerhouse filled with potential.Well there you have it. My review, in so many words. I hope it has helped you make a decision on your purchase. Enjoy your new PS4, or don't. If you're that person that was looking at getting a PS4 or an Xbox One, then ask yourself if you're looking for something that is a dedicated gaming machine, or something that is more oriented toward an all-in-one media interface. If you chose a dedicated gaming machine this is for you, if you want the all-in-one with a nice setup for potential gaming, Xbox One is more your speed. Look for my Xbox One review coming soon, hopefully it will help solve your dilemma.\n",
      "Name: reviewText, dtype: object\n",
      "Processed 1324753 records\n",
      "Saved total 1324433 records to MySQL\n"
     ]
    }
   ],
   "source": [
    "file_name='video_games_reviews_original'\n",
    "video_games_reviews_list=getDF_reviews('data/reviews_Video_Games.json.gz',review_columns,file_name)"
   ],
   "metadata": {
    "collapsed": false
   }
  },
  {
   "cell_type": "code",
   "execution_count": 29,
   "outputs": [
    {
     "name": "stdout",
     "output_type": "stream",
     "text": [
      "\n",
      "***The video_games_reviews after cleaned:***\n",
      " data of specified columns is NaN: 0\n",
      "                                  列名  num_rows  缺失值数量     数据类型\n",
      "reviewerID                reviewerID    999754      0   object\n",
      "asin                            asin    999754      0   object\n",
      "overall                      overall    999754      0  float64\n",
      "reviewTime                reviewTime    999754      0   object\n",
      "reviewText                reviewText    999754      0   object\n",
      "helpful_vote            helpful_vote    999754      0    int64\n",
      "total_vote                total_vote    999754      0    int64\n",
      "helpfulness_score  helpfulness_score    999754      0  float64\n",
      "\n",
      "***The video_games_reviews after cleaned:***\n",
      " data of specified columns is NaN: 0\n",
      "                                  列名  num_rows  缺失值数量     数据类型\n",
      "reviewerID                reviewerID       752      0   object\n",
      "asin                            asin       752      0   object\n",
      "overall                      overall       752      0  float64\n",
      "reviewTime                reviewTime       752      0   object\n",
      "reviewText                reviewText       752      0   object\n",
      "helpful_vote            helpful_vote       752      0    int64\n",
      "total_vote                total_vote       752      0    int64\n",
      "helpfulness_score  helpfulness_score       752      0  float64\n"
     ]
    }
   ],
   "source": [
    "for video_games_reviews in video_games_reviews_list:\n",
    "    print('\\n***The video_games_reviews after cleaned:***')\n",
    "    # review_len(video_games_reviews)\n",
    "    data_quality(video_games_reviews,content_columns_reviews)"
   ],
   "metadata": {
    "collapsed": false
   }
  },
  {
   "cell_type": "code",
   "execution_count": null,
   "outputs": [],
   "source": [],
   "metadata": {
    "collapsed": false
   }
  },
  {
   "cell_type": "markdown",
   "source": [
    "**Data filter**"
   ],
   "metadata": {
    "collapsed": false
   }
  },
  {
   "cell_type": "code",
   "execution_count": 30,
   "outputs": [
    {
     "name": "stdout",
     "output_type": "stream",
     "text": [
      "filter with timeline finished!\n",
      "=====================\n",
      "total vote is 0:  384880\n",
      "     the ratio:  0.5674620492799094\n",
      "total vote>=2:  183446\n",
      "helpful vote is not 0:  223175\n",
      "=====================\n",
      "\n",
      "filter with vote finished!\n",
      "filter with timeline finished!\n",
      "=====================\n",
      "total vote is 0:  340\n",
      "     the ratio:  0.4521276595744681\n",
      "total vote>=2:  285\n",
      "helpful vote is not 0:  362\n",
      "=====================\n",
      "\n",
      "filter with vote finished!\n"
     ]
    }
   ],
   "source": [
    "video_games_reviews_filter_list=[]\n",
    "for video_games_reviews in video_games_reviews_list:\n",
    "    video_games_reviews_filter=filter_by_timeline(video_games_reviews)\n",
    "    print('filter with timeline finished!')\n",
    "    vote_analysis(video_games_reviews_filter)\n",
    "    video_games_reviews_filter=filter_by_vote(video_games_reviews_filter)\n",
    "    video_games_reviews_filter_list.append(video_games_reviews_filter)\n",
    "    print('filter with vote finished!')"
   ],
   "metadata": {
    "collapsed": false
   }
  },
  {
   "cell_type": "code",
   "execution_count": 31,
   "outputs": [
    {
     "name": "stdout",
     "output_type": "stream",
     "text": [
      "\n",
      "******************\n",
      "\n",
      " data of specified columns is NaN: 0\n",
      "                                  列名  num_rows  缺失值数量            数据类型\n",
      "reviewerID                reviewerID    183446      0          object\n",
      "asin                            asin    183446      0          object\n",
      "overall                      overall    183446      0         float64\n",
      "reviewTime                reviewTime    183446      0  datetime64[ns]\n",
      "reviewText                reviewText    183446      0          object\n",
      "helpful_vote            helpful_vote    183446      0           int64\n",
      "total_vote                total_vote    183446      0           int64\n",
      "helpfulness_score  helpfulness_score    183446      0         float64\n",
      "\n",
      "******************\n",
      "\n",
      " data of specified columns is NaN: 0\n",
      "                                  列名  num_rows  缺失值数量            数据类型\n",
      "reviewerID                reviewerID       285      0          object\n",
      "asin                            asin       285      0          object\n",
      "overall                      overall       285      0         float64\n",
      "reviewTime                reviewTime       285      0  datetime64[ns]\n",
      "reviewText                reviewText       285      0          object\n",
      "helpful_vote            helpful_vote       285      0           int64\n",
      "total_vote                total_vote       285      0           int64\n",
      "helpfulness_score  helpfulness_score       285      0         float64\n"
     ]
    }
   ],
   "source": [
    "for video_games_reviews in video_games_reviews_filter_list:\n",
    "    print('\\n******************\\n')\n",
    "    # review_len(video_games_reviews)\n",
    "    data_quality(video_games_reviews,content_columns_reviews)"
   ],
   "metadata": {
    "collapsed": false
   }
  },
  {
   "cell_type": "markdown",
   "source": [
    "***Concatenate***"
   ],
   "metadata": {
    "collapsed": false
   }
  },
  {
   "cell_type": "code",
   "execution_count": 32,
   "outputs": [],
   "source": [
    "video_games_reviews_concatenated = pd.concat(video_games_reviews_filter_list, ignore_index=True)\n",
    "video_games_reviews_concatenated['reviewTime'] = video_games_reviews_concatenated['reviewTime'].dt.strftime('%Y-%m-%d')"
   ],
   "metadata": {
    "collapsed": false
   }
  },
  {
   "cell_type": "code",
   "execution_count": 33,
   "outputs": [
    {
     "name": "stdout",
     "output_type": "stream",
     "text": [
      "Table 'video_games_reviews_filter' does not exist. Creating new table...\n",
      "Table 'video_games_reviews_filter' created.\n"
     ]
    }
   ],
   "source": [
    "table_name='video_games_reviews_filter'\n",
    "saved_mysql(video_games_reviews_concatenated,table_name)"
   ],
   "metadata": {
    "collapsed": false
   }
  },
  {
   "cell_type": "code",
   "execution_count": 34,
   "outputs": [
    {
     "name": "stdout",
     "output_type": "stream",
     "text": [
      "Num of rows: 183731\n",
      "====      \n",
      "Avg sentences: 9.174913324370955\n",
      "Total sentences: 1685716\n",
      "====      \n",
      "Max text length: 32689\n",
      "Min text length: 5\n",
      "Avg text length: 1015.1052081575782\n",
      "Mid text length: 496\n",
      "q75 text length: 1146.0\n",
      "=====================================\n"
     ]
    }
   ],
   "source": [
    "review_len(video_games_reviews_concatenated)"
   ],
   "metadata": {
    "collapsed": false
   }
  },
  {
   "cell_type": "code",
   "execution_count": 35,
   "outputs": [
    {
     "name": "stdout",
     "output_type": "stream",
     "text": [
      " data of specified columns is NaN: 0\n",
      "                                  列名  num_rows  缺失值数量     数据类型\n",
      "reviewerID                reviewerID    183731      0   object\n",
      "asin                            asin    183731      0   object\n",
      "overall                      overall    183731      0  float64\n",
      "reviewTime                reviewTime    183731      0   object\n",
      "reviewText                reviewText    183731      0   object\n",
      "helpful_vote            helpful_vote    183731      0    int64\n",
      "total_vote                total_vote    183731      0    int64\n",
      "helpfulness_score  helpfulness_score    183731      0  float64\n"
     ]
    }
   ],
   "source": [
    "data_quality(video_games_reviews_concatenated,content_columns_reviews)"
   ],
   "metadata": {
    "collapsed": false
   }
  },
  {
   "cell_type": "markdown",
   "source": [
    "# ***Books***"
   ],
   "metadata": {
    "collapsed": false
   }
  },
  {
   "cell_type": "code",
   "execution_count": 14,
   "outputs": [
    {
     "name": "stdout",
     "output_type": "stream",
     "text": [
      "557    Is this book out of print? Why is it only in p...\n",
      "Name: reviewText, dtype: object\n",
      "652    The second of the Divergent trilogy, Roth's th...\n",
      "Name: reviewText, dtype: object\n",
      "846    **SPOILERS! RUN AWAY!**First, let's address th...\n",
      "Name: reviewText, dtype: object\n",
      "950    this book surpassed my expectations.  I read D...\n",
      "Name: reviewText, dtype: object\n",
      "79    The negativity comes from his capitalism ideas...\n",
      "Name: reviewText, dtype: object\n",
      "568    Love Monkey is a first novel that works on two...\n",
      "573    What's surprising about Love Monkey is not tha...\n",
      "591    This book is just a dead-on, blisteringly funn...\n",
      "Name: reviewText, dtype: object\n",
      "187    A Crack in the Line, by Michael Lawrence, is a...\n",
      "Name: reviewText, dtype: object\n",
      "161    \u0010Got this book as a gift from a friend, who kn...\n",
      "Name: reviewText, dtype: object\n",
      "475    I read with some astonishment the 12 reviews t...\n",
      "Name: reviewText, dtype: object\n",
      "902    I just loved this book when I first read it se...\n",
      "Name: reviewText, dtype: object\n",
      "975    This book was given to me for review and my fi...\n",
      "Name: reviewText, dtype: object\n",
      "532    The book I will recommend to you is very miser...\n",
      "Name: reviewText, dtype: object\n",
      "624    This was an elegant book.  I enjoyed it thorou...\n",
      "Name: reviewText, dtype: object\n",
      "751    An amazing work full of new and plausable idea...\n",
      "Name: reviewText, dtype: object\n",
      "795    for this to come out on CD.  I do so much read...\n",
      "Name: reviewText, dtype: object\n",
      "871    This is a tragic story, about a young man who ...\n",
      "Name: reviewText, dtype: object\n",
      "214    Russell Banks has been informing and inspiring...\n",
      "Name: reviewText, dtype: object\n",
      "917    (This review applies only to the Folger Shakes...\n",
      "Name: reviewText, dtype: object\n",
      "849    Actors tell wonderful stories.Why is that?Beca...\n",
      "Name: reviewText, dtype: object\n",
      "829    With Boundaries for Leaders: Results, Relation...\n",
      "Name: reviewText, dtype: object\n",
      "\n",
      "================================================================\n",
      "  Saved total 1 dataframes to MySQL books_reviews_original : \n",
      "999828\n",
      "================================================================\n",
      "261    No real meat here.  Kind of a blah book. Too b...\n",
      "Name: reviewText, dtype: object\n",
      "559    The premise of the book really intrigued me so...\n",
      "Name: reviewText, dtype: object\n",
      "504    I know this is a famous book by a famous autho...\n",
      "Name: reviewText, dtype: object\n",
      "632    This was the first Marion Zimmer Bradley novel...\n",
      "Name: reviewText, dtype: object\n",
      "208    In my estimation, reviews that pan a book (or ...\n",
      "Name: reviewText, dtype: object\n",
      "84    The title of this review is sufficent. Pope Pi...\n",
      "Name: reviewText, dtype: object\n",
      "545    2194,your future in Zimbabwe. A fantastic book...\n",
      "Name: reviewText, dtype: object\n",
      "751    My name is Max, a couple of days ago i finishe...\n",
      "Name: reviewText, dtype: object\n",
      "41    After reading animal farm, i fel a bit dissapp...\n",
      "Name: reviewText, dtype: object\n",
      "84    I've read Atlas Shrugged 8 times, starting in ...\n",
      "Name: reviewText, dtype: object\n",
      "503    I found this book while perusing lists of post...\n",
      "Name: reviewText, dtype: object\n",
      "647    Once I found out a book on Nickelodeon's golde...\n",
      "Name: reviewText, dtype: object\n",
      "790    As at least one reviewer has noted here, sexis...\n",
      "Name: reviewText, dtype: object\n",
      "678    Another \"hit\" for TC Boyle.  I've liked everyt...\n",
      "Name: reviewText, dtype: object\n",
      "632    I read Mosely for the writing.  The plot's gre...\n",
      "Name: reviewText, dtype: object\n",
      "885    The word \"cozy\" stands out in a review title h...\n",
      "Name: reviewText, dtype: object\n",
      "780    I would have given J\u0010CO my usual five stars, b...\n",
      "Name: reviewText, dtype: object\n",
      "616    This is the official report of the investigati...\n",
      "Name: reviewText, dtype: object\n",
      "814    I bought this book while pursuing my MFA. I wa...\n",
      "Name: reviewText, dtype: object\n",
      "854    ** THIS IS A VERY LONG REVIEW!***I've watched ...\n",
      "Name: reviewText, dtype: object\n",
      "65    When I was a boy in Berlin in the early years ...\n",
      "Name: reviewText, dtype: object\n",
      "497    MacNeilage reviews his own research and that o...\n",
      "Name: reviewText, dtype: object\n",
      "841    I have an old American made pocket dictionary ...\n",
      "Name: reviewText, dtype: object\n",
      "\n",
      "================================================================\n",
      "  Saved total 2 dataframes to MySQL books_reviews_original : \n",
      "1999699\n",
      "================================================================\n",
      "442    Mr. Friedman's\u0003analysis provides a straightfor...\n",
      "Name: reviewText, dtype: object\n",
      "163    If you think about it food and cookery have al...\n",
      "Name: reviewText, dtype: object\n",
      "945    This book presents accounts of four seminars t...\n",
      "Name: reviewText, dtype: object\n",
      "351    The Hobbit is about Hobbit by the name of Bilb...\n",
      "Name: reviewText, dtype: object\n",
      "783    An amazing collection of archeological artifac...\n",
      "Name: reviewText, dtype: object\n",
      "37    I was very lucky to have been asked to do a pe...\n",
      "Name: reviewText, dtype: object\n",
      "281    Righhht. Hardly. Yet the cynical tone of the n...\n",
      "Name: reviewText, dtype: object\n",
      "786    I don't feel this book needs \"hype.\"  It will ...\n",
      "Name: reviewText, dtype: object\n",
      "289    I have just finished reading Aftermath - and I...\n",
      "Name: reviewText, dtype: object\n",
      "934    \u0010First of all, I love the cover of this book. ...\n",
      "Name: reviewText, dtype: object\n",
      "818    Basically, I loathe \"chick lit.\"  However, thi...\n",
      "Name: reviewText, dtype: object\n",
      "941    I am new to jewelry making and have been disap...\n",
      "Name: reviewText, dtype: object\n",
      "230    I was devastated, even though I knew about the...\n",
      "Name: reviewText, dtype: object\n",
      "655    As a lover of travel literature, I recently ca...\n",
      "Name: reviewText, dtype: object\n",
      "76    I believe this is the most marvelous book I ha...\n",
      "Name: reviewText, dtype: object\n",
      "38    A Season for Tending is about an Amish girl, R...\n",
      "Name: reviewText, dtype: object\n",
      "62    I did it my way, this is the mantra of author ...\n",
      "Name: reviewText, dtype: object\n",
      "484    Love this version of the Bible. Always a nice ...\n",
      "Name: reviewText, dtype: object\n",
      "519    As a white, middle class female reader who lis...\n",
      "Name: reviewText, dtype: object\n",
      "835    The first thing I need to note is that the tit...\n",
      "Name: reviewText, dtype: object\n",
      "340    I could only get through 1/4 of this book beca...\n",
      "Name: reviewText, dtype: object\n",
      "914    This book is a quick read brilliantly written ...\n",
      "Name: reviewText, dtype: object\n",
      "63    \u0010This book is a good example of a good writer ...\n",
      "Name: reviewText, dtype: object\n",
      "531    There's a mournful quality to this wonderful b...\n",
      "Name: reviewText, dtype: object\n",
      "\n",
      "================================================================\n",
      "  Saved total 3 dataframes to MySQL books_reviews_original : \n",
      "2999557\n",
      "================================================================\n",
      "920    This book is not for the faint of heart \"posit...\n",
      "Name: reviewText, dtype: object\n",
      "40    Barbara's fractally correct in every possible ...\n",
      "Name: reviewText, dtype: object\n",
      "177    Worst book I ever read.  How could anyone writ...\n",
      "Name: reviewText, dtype: object\n",
      "353    This was a gift for my husband's birthday. It ...\n",
      "Name: reviewText, dtype: object\n",
      "269    THE STORY: Maximum Ride is a fourteen-year-old...\n",
      "Name: reviewText, dtype: object\n",
      "160    Something odd is happening to the teenage girl...\n",
      "Name: reviewText, dtype: object\n",
      "981    a lot of chumming by Paul Joyce, pandering to ...\n",
      "Name: reviewText, dtype: object\n",
      "271    It is rare when you come across a project mana...\n",
      "Name: reviewText, dtype: object\n",
      "696    I didn't reall\u0010y care for the story about the ...\n",
      "Name: reviewText, dtype: object\n",
      "267    This is a very short, easily read group of sho...\n",
      "Name: reviewText, dtype: object\n",
      "808    Despite the cheesy title, i bought this book o...\n",
      "Name: reviewText, dtype: object\n",
      "439    An enjoyable read --- nothing too grand or out...\n",
      "Name: reviewText, dtype: object\n",
      "284    Listened to the audio version - can't understa...\n",
      "Name: reviewText, dtype: object\n",
      "288    The Windup Girl starts off promisingly: we get...\n",
      "Name: reviewText, dtype: object\n",
      "\n",
      "================================================================\n",
      "  Saved total 4 dataframes to MySQL books_reviews_original : \n",
      "3999473\n",
      "================================================================\n",
      "812    If you were raised watching The Simpsons, you ...\n",
      "Name: reviewText, dtype: object\n",
      "80    I think his story is like a puzzle. Jostein Ga...\n",
      "Name: reviewText, dtype: object\n",
      "130    Wouldn't it be cool to have the condensed oppo...\n",
      "Name: reviewText, dtype: object\n",
      "593    Glossy and crisp. Never \u0010used. Dirt chep for a...\n",
      "Name: reviewText, dtype: object\n",
      "217    One of the best reads I've had in a very long ...\n",
      "Name: reviewText, dtype: object\n",
      "956    Leprechauns and Irish Folklore by Mary Pope Os...\n",
      "Name: reviewText, dtype: object\n",
      "832    It's so much fun to re-read a masterpiece. Fee...\n",
      "Name: reviewText, dtype: object\n",
      "588    In the book The Face on the Milk Carton, the a...\n",
      "Name: reviewText, dtype: object\n",
      "224    -{?\u0007\u0001?another in White's Alan Gregory series. ...\n",
      "Name: reviewText, dtype: object\n",
      "180    Reviews and descriptions of this story would l...\n",
      "Name: reviewText, dtype: object\n",
      "45    I LOVE THIS BOOK!  I have been trying to find ...\n",
      "Name: reviewText, dtype: object\n",
      "647    Kate Cohen's candid and insightful memoir is ...\n",
      "Name: reviewText, dtype: object\n",
      "37    this book looks really interesting i have not ...\n",
      "Name: reviewText, dtype: object\n",
      "223    Akira Kurosawa is now considered one of the fo...\n",
      "Name: reviewText, dtype: object\n",
      "650    The story is about Adolf Hitler and his group ...\n",
      "Name: reviewText, dtype: object\n",
      "264    Edgar Mitchell asks Uri Geller if he would be ...\n",
      "Name: reviewText, dtype: object\n",
      "936    I was introduced to Gibson in 90 by someone wh...\n",
      "Name: reviewText, dtype: object\n",
      "270    Yes, I've read Sue Grafton since the beginning...\n",
      "Name: reviewText, dtype: object\n",
      "165    I read this book as a metaphor for post-gradua...\n",
      "Name: reviewText, dtype: object\n",
      "848    As with the previous books in this series, \u0010hi...\n",
      "Name: reviewText, dtype: object\n",
      "\n",
      "================================================================\n",
      "  Saved total 5 dataframes to MySQL books_reviews_original : \n",
      "4999412\n",
      "================================================================\n",
      "180    When I first opened up an Anita Blake novel, I...\n",
      "Name: reviewText, dtype: object\n",
      "61    the book was reasonably well written. i still ...\n",
      "Name: reviewText, dtype: object\n",
      "731    Some creature is petrifying certain Hogwarts s...\n",
      "Name: reviewText, dtype: object\n",
      "604    This is the long-awaited fourth installment in...\n",
      "Name: reviewText, dtype: object\n",
      "216    Replay by Ken Grim wood is an intriguing book-...\n",
      "Name: reviewText, dtype: object\n",
      "122    Dozens of books have been written about Jacque...\n",
      "Name: reviewText, dtype: object\n",
      "548    I was first introduced to Mr. Maxwell by my sa...\n",
      "Name: reviewText, dtype: object\n",
      "573    What a great Halloween treat we all got this y...\n",
      "Name: reviewText, dtype: object\n",
      "207    Dozens of books have been written about Jacque...\n",
      "Name: reviewText, dtype: object\n",
      "895    Intelligent and scathing.  This is an entertai...\n",
      "Name: reviewText, dtype: object\n",
      "338    After the audio version of the book the author...\n",
      "Name: reviewText, dtype: object\n",
      "835    Amazing intelligent and profoud read. Anaya ...\n",
      "Name: reviewText, dtype: object\n",
      "885    Beginning in the 1920s, Col. James Churchward ...\n",
      "Name: reviewText, dtype: object\n",
      "598    This novel is one of Stephen King\u001B$B!G\u001B(Bs eas...\n",
      "Name: reviewText, dtype: object\n",
      "474    The Corruption of Blood by Robert K. Tanenbaum...\n",
      "Name: reviewText, dtype: object\n",
      "547    Lily Parker is just another teenage girl livin...\n",
      "Name: reviewText, dtype: object\n",
      "51    ow does one review a classic? With respect o...\n",
      "Name: reviewText, dtype: object\n",
      "82     Kelley Armstrong's debut novel, \"Bitten\", is a...\n",
      "870    What a great book, beautifully written - or wa...\n",
      "Name: reviewText, dtype: object\n",
      "\n",
      "================================================================\n",
      "  Saved total 6 dataframes to MySQL books_reviews_original : \n",
      "5999341\n",
      "================================================================\n",
      "127    \u0010Technological and industrial development in t...\n",
      "Name: reviewText, dtype: object\n",
      "881    \u0010I've been in financial recovery for nineteen ...\n",
      "Name: reviewText, dtype: object\n",
      "880    I found a little mistake in your pivots formul...\n",
      "Name: reviewText, dtype: object\n",
      "398    Schindler met Beethoven in 1814, when Beethove...\n",
      "Name: reviewText, dtype: object\n",
      "176    A must-read for all interested in 20th century...\n",
      "Name: reviewText, dtype: object\n",
      "449    I made the error of thinking this was a histor...\n",
      "Name: reviewText, dtype: object\n",
      "133    It has been 50 years  since I began to forget ...\n",
      "Name: reviewText, dtype: object\n",
      "349    Recently I had read a profile of James Salter ...\n",
      "Name: reviewText, dtype: object\n",
      "911    Ashes, Ashes is a terrifyingly realistic view ...\n",
      "Name: reviewText, dtype: object\n",
      "154    This book is now on my \"favorites\" list.  It's...\n",
      "Name: reviewText, dtype: object\n",
      "401    It has been almost 4 years since my beloved fo...\n",
      "Name: reviewText, dtype: object\n",
      "285    The German novelist Heinrich B\u001B\u001B\u001B\u001B\u001Bohl once wr...\n",
      "Name: reviewText, dtype: object\n",
      "228    Relatively recently relocated and currently in...\n",
      "Name: reviewText, dtype: object\n",
      "133    The Facebook online social network site has be...\n",
      "Name: reviewText, dtype: object\n",
      "459    easy to follow and use for all the areas I nee...\n",
      "Name: reviewText, dtype: object\n",
      "483    This book encompasses so many issues I barely ...\n",
      "Name: reviewText, dtype: object\n",
      "98    A child called \"it\" is an autobiography by Dav...\n",
      "Name: reviewText, dtype: object\n",
      "191    \u0016The Lost Boy written by Dave Pelzer is a grea...\n",
      "Name: reviewText, dtype: object\n",
      "\n",
      "================================================================\n",
      "  Saved total 7 dataframes to MySQL books_reviews_original : \n",
      "6999136\n",
      "================================================================\n",
      "780    RD THIS BOOK! This man's story will put yo...\n",
      "Name: reviewText, dtype: object\n",
      "854    \u0003I make my living with words, and the A-H Coll...\n",
      "Name: reviewText, dtype: object\n",
      "585    It's a great read.  The characters are so vivi...\n",
      "Name: reviewText, dtype: object\n",
      "884    I would have given this book a 2 1/2 stars if ...\n",
      "Name: reviewText, dtype: object\n",
      "766    I can think of only one thing more terrifying ...\n",
      "Name: reviewText, dtype: object\n",
      "363    Used it while working in Contract Billing Syst...\n",
      "Name: reviewText, dtype: object\n",
      "567    Someone had to do it, and it's Mordy Golding, ...\n",
      "Name: reviewText, dtype: object\n",
      "574    The annotated Persuasion is a lovely book, wit...\n",
      "Name: reviewText, dtype: object\n",
      "30    I, like the author, would not give up my life ...\n",
      "Name: reviewText, dtype: object\n",
      "605    I wish I could have found this book when I fir...\n",
      "Name: reviewText, dtype: object\n",
      "368    One word - Awesome. I have to be honest, when ...\n",
      "Name: reviewText, dtype: object\n",
      "197    I bought this book for my father, a Dylan affi...\n",
      "513    This book contains a compilation of Dylan's ow...\n",
      "Name: reviewText, dtype: object\n",
      "138    I love this book - it is big, beautiful and fu...\n",
      "Name: reviewText, dtype: object\n",
      "183    A very thorough, up to date account of current...\n",
      "Name: reviewText, dtype: object\n",
      "657    Here is a book that left this reviewer with mi...\n",
      "Name: reviewText, dtype: object\n",
      "707    Letting go is an excellent idea and this book ...\n",
      "Name: reviewText, dtype: object\n",
      "39    Stuff you already know, or have no idea what s...\n",
      "Name: reviewText, dtype: object\n",
      "298    Opposed to women's rights, social equality and...\n",
      "Name: reviewText, dtype: object\n",
      "\n",
      "================================================================\n",
      "  Saved total 8 dataframes to MySQL books_reviews_original : \n",
      "7999015\n",
      "================================================================\n",
      "211    Just what is a conscience? Brief contemplation...\n",
      "Name: reviewText, dtype: object\n",
      "91    I had read \"Nickle'd and Dime'd\" when I picked...\n",
      "Name: reviewText, dtype: object\n",
      "478    A friend had a copy autographed by Jim Coates ...\n",
      "Name: reviewText, dtype: object\n",
      "384    I didn't care for \"Mystic River.\" I'm from Bos...\n",
      "Name: reviewText, dtype: object\n",
      "808    A detailed leap into the world of fundamentali...\n",
      "Name: reviewText, dtype: object\n",
      "868    Ann Rule's readers will rejoice that she has p...\n",
      "Name: reviewText, dtype: object\n",
      "859    First I must qualify my comments by saying tha...\n",
      "Name: reviewText, dtype: object\n",
      "448    James P. Hogan, Kicking the Sacred Cow: Questi...\n",
      "Name: reviewText, dtype: object\n",
      "115    The author tackles a very important contempora...\n",
      "Name: reviewText, dtype: object\n",
      "463    So far, so good.  I've just started listening ...\n",
      "Name: reviewText, dtype: object\n",
      "143    She seems to effortlessly spin yarn after yarn...\n",
      "Name: reviewText, dtype: object\n",
      "572    ? \u0005?rant is a great collection of some of the ...\n",
      "Name: reviewText, dtype: object\n",
      "880    In Healing the Shame that Binds You, John Brad...\n",
      "Name: reviewText, dtype: object\n",
      "78    While a good book in general, there are seriou...\n",
      "Name: reviewText, dtype: object\n",
      "13    If you want the real Lincoln - read the myriad...\n",
      "Name: reviewText, dtype: object\n",
      "456    This was the best book I have ever had the cha...\n",
      "Name: reviewText, dtype: object\n",
      "984    This is EXACTLY what the magic ofNew York Ci...\n",
      "Name: reviewText, dtype: object\n",
      "98    Your work is an inspiration to us here at the ...\n",
      "Name: reviewText, dtype: object\n",
      "402    \u0016The dynamics of family changes as a person ge...\n",
      "Name: reviewText, dtype: object\n",
      "338    This interesting new book on the bayonets of t...\n",
      "Name: reviewText, dtype: object\n",
      "810    Open Source: The Unathorized White Papers is a...\n",
      "Name: reviewText, dtype: object\n",
      "929    There is compelling evidence that John Wilkes ...\n",
      "Name: reviewText, dtype: object\n",
      "974    Imagine getting through the audio of this vast...\n",
      "Name: reviewText, dtype: object\n",
      "\n",
      "================================================================\n",
      "  Saved total 9 dataframes to MySQL books_reviews_original : \n",
      "8998898\n",
      "================================================================\n",
      "195    As a casual reader, I often choose biographies...\n",
      "Name: reviewText, dtype: object\n",
      "202    This is a great book for the intermediate (and...\n",
      "Name: reviewText, dtype: object\n",
      "821    Raptor is a great book about a boy named Zack ...\n",
      "Name: reviewText, dtype: object\n",
      "312    Nice Book\u0010. Good Read. It will really expand y...\n",
      "Name: reviewText, dtype: object\n",
      "442    Says professor Ben Witherington III of this wo...\n",
      "Name: reviewText, dtype: object\n",
      "791    Be forewarned, these cards are tiny.  The 64 s...\n",
      "Name: reviewText, dtype: object\n",
      "620    Five EXCELLENT Stars. The latest edition in \"T...\n",
      "Name: reviewText, dtype: object\n",
      "614    (J~\u001B(BPassalong Plants was one of the first ga...\n",
      "Name: reviewText, dtype: object\n",
      "564    I really can't remember how long ago it was t...\n",
      "Name: reviewText, dtype: object\n",
      "785    I'm a long time reader of fantasy.  I've been ...\n",
      "Name: reviewText, dtype: object\n",
      "628    Why am I no longer seeing an option to rate it...\n",
      "Name: reviewText, dtype: object\n",
      "496    I listened to this book on tape because I can'...\n",
      "Name: reviewText, dtype: object\n",
      "564    Gilmartin attributes significance to apparentl...\n",
      "Name: reviewText, dtype: object\n",
      "\n",
      "================================================================\n",
      "  Saved total 10 dataframes to MySQL books_reviews_original : \n",
      "9998782\n",
      "================================================================\n",
      "374    Grupp\u0005e was a talented painter who has very ge...\n",
      "Name: reviewText, dtype: object\n",
      "790    4zJ?\u0017? soooo much fun reading  this series. Fo...\n",
      "Name: reviewText, dtype: object\n",
      "146    Heaven is for Real is about the experiences of...\n",
      "Name: reviewText, dtype: object\n",
      "703    Invaluable are the Introduction by Seymour Fel...\n",
      "Name: reviewText, dtype: object\n",
      "86    This publication from the Huntington Library i...\n",
      "Name: reviewText, dtype: object\n",
      "809    I think this book is unique for  several reaso...\n",
      "Name: reviewText, dtype: object\n",
      "249    if you're a bukowski fan, then this a must rea...\n",
      "Name: reviewText, dtype: object\n",
      "844    Weiss undertook these interviews of famous wri...\n",
      "Name: reviewText, dtype: object\n",
      "295    \"\u0003Conscousness of God is self-consciousness, k...\n",
      "Name: reviewText, dtype: object\n",
      "269    There \u0010a bunch of approximately similar\u0010\u0010\u0010\u0010 sm...\n",
      "Name: reviewText, dtype: object\n",
      "244    This book captures the joys and frustrations o...\n",
      "Name: reviewText, dtype: object\n",
      "429    When I first got this version of the I-\u0010Ching,...\n",
      "Name: reviewText, dtype: object\n",
      "955    I, recently, purchased this boook (my brother ...\n",
      "Name: reviewText, dtype: object\n",
      "690    Excellent book.  Beautiful cards.  The message...\n",
      "Name: reviewText, dtype: object\n",
      "85    Ray Brooks combines music, travel and zen in a...\n",
      "Name: reviewText, dtype: object\n",
      "915    The author, Dr. Guy S. Fasciana, in his work G...\n",
      "Name: reviewText, dtype: object\n",
      "363    ?\u0004\u0011\u0011 Lake Powell 2-5 times per year and keep o...\n",
      "Name: reviewText, dtype: object\n",
      "608    The Lunds put together an incredibly easy text...\n",
      "Name: reviewText, dtype: object\n",
      "154    Essential reading for us who have been damaged...\n",
      "Name: reviewText, dtype: object\n",
      "\n",
      "================================================================\n",
      "  Saved total 11 dataframes to MySQL books_reviews_original : \n",
      "10998673\n",
      "================================================================\n",
      "670    Mr. Robert Birkby did an excellent job of rese...\n",
      "Name: reviewText, dtype: object\n",
      "55    Read this book because we saw 70 fifth graders...\n",
      "Name: reviewText, dtype: object\n",
      "617    Before I discuss the book a little of my elect...\n",
      "Name: reviewText, dtype: object\n",
      "234    This book has the potential to be good, but Ya...\n",
      "Name: reviewText, dtype: object\n",
      "52    As an often overly dramatic and imaginative ad...\n",
      "Name: reviewText, dtype: object\n",
      "84    WOW!! This \"Enchanted\" book is so BEAUTIFUL!!!...\n",
      "Name: reviewText, dtype: object\n",
      "329    I have known Derek Gentile for several years a...\n",
      "Name: reviewText, dtype: object\n",
      "342    how many times do we see our friends going dow...\n",
      "Name: reviewText, dtype: object\n",
      "463    Richard \u0010Vigilante has launched an eponymous p...\n",
      "Name: reviewText, dtype: object\n",
      "378    Legacy Leadership by Jeannine Sandstrom and Le...\n",
      "Name: reviewText, dtype: object\n",
      "7    Too many diabetes books are all about informat...\n",
      "Name: reviewText, dtype: object\n",
      "61    Fast paced and funny.  This book is both quirk...\n",
      "Name: reviewText, dtype: object\n",
      "622    I definitely recommend purchasing Fast Forward...\n",
      "Name: reviewText, dtype: object\n",
      "890    First a disclaimer: While I have built and flo...\n",
      "Name: reviewText, dtype: object\n",
      "863    5 Stars for the photography, 1 star for the es...\n",
      "Name: reviewText, dtype: object\n",
      "44    Crudely written, the first part is GG's first ...\n",
      "Name: reviewText, dtype: object\n",
      "806    The Star-Crossed Saga: Protostar lives up to i...\n",
      "Name: reviewText, dtype: object\n",
      "\n",
      "================================================================\n",
      "  Saved total 12 dataframes to MySQL books_reviews_original : \n",
      "11998394\n",
      "================================================================\n",
      "274    \u0016I saw this book on GoodReads and thought I'd ...\n",
      "Name: reviewText, dtype: object\n",
      "763    David Wells is one of the rate \"outsiders\"  wh...\n",
      "Name: reviewText, dtype: object\n",
      "291    Teach Yourself Visually OS \u0010X Mavericks by Pau...\n",
      "Name: reviewText, dtype: object\n",
      "999    Wake\u001D was an amazing and clever story. Once I ...\n",
      "Name: reviewText, dtype: object\n",
      "800    The rule that requires each review here to spe...\n",
      "Name: reviewText, dtype: object\n",
      "644    Pete Deer is a wonderful storyteller, and it s...\n",
      "Name: reviewText, dtype: object\n",
      "531    The Alcoholic has some good writing and art bu...\n",
      "Name: reviewText, dtype: object\n",
      "764    The prologue leads you into a story within the...\n",
      "Name: reviewText, dtype: object\n",
      "966    This book is written b Philipp G. Rosengarten ...\n",
      "Name: reviewText, dtype: object\n",
      "883    \u0010As usual, this is a beautifully written book ...\n",
      "Name: reviewText, dtype: object\n",
      "842    Like Patti, I am also a high-end matchmaker.  ...\n",
      "Name: reviewText, dtype: object\n",
      "457    This book is a sleazy, tongue in cheek \"amends...\n",
      "Name: reviewText, dtype: object\n",
      "767    I found the book a pretty good read, but it di...\n",
      "Name: reviewText, dtype: object\n",
      "\n",
      "================================================================\n",
      "  Saved total 13 dataframes to MySQL books_reviews_original : \n",
      "12998262\n",
      "================================================================\n",
      "98    This calendar has a consistently high quality ...\n",
      "Name: reviewText, dtype: object\n",
      "947    \u0010Turgid, revolting, the fairly decent plot was...\n",
      "Name: reviewText, dtype: object\n",
      "144    A series of case studies supporting the hypoth...\n",
      "Name: reviewText, dtype: object\n",
      "Processed 13121199 records\n",
      "Table 'books_reviews_original_1' does not exist. Creating new table...\n",
      "Table 'books_reviews_original_1' created.\n",
      "397    so sorry.  wrote the recommendation under the ...\n",
      "Name: reviewText, dtype: object\n",
      "359    As a relationship expert and coach who's life ...\n",
      "Name: reviewText, dtype: object\n",
      "347    Let's be honest: what most Americans know abou...\n",
      "Name: reviewText, dtype: object\n",
      "828    I read it all the way through - barely.  \u0010Foun...\n",
      "Name: reviewText, dtype: object\n",
      "131    At this point, fans of the Robicheaux series d...\n",
      "Name: reviewText, dtype: object\n",
      "368    The book is garbage. The writing is horrible. ...\n",
      "Name: reviewText, dtype: object\n",
      "894    Why wasn't Richard Knaak selected for this pie...\n",
      "Name: reviewText, dtype: object\n",
      "182    Isaacson gave us some insight into Franklins l...\n",
      "Name: reviewText, dtype: object\n",
      "189    Well this was a new thing for this reviewer, c...\n",
      "Name: reviewText, dtype: object\n",
      "578    I first saw Melissa Cookston, as did many, on ...\n",
      "Name: reviewText, dtype: object\n",
      "234    1920: America's Great War (2013) is a SF Alter...\n",
      "Name: reviewText, dtype: object\n",
      "774    The problem with this book is that it doesn't ...\n",
      "Name: reviewText, dtype: object\n",
      "519    Since winter began I have almost completed the...\n",
      "Name: reviewText, dtype: object\n",
      "\n",
      "================================================================\n",
      "  Saved total 14 dataframes to MySQL books_reviews_original_1 : \n",
      "13998036\n",
      "================================================================\n",
      "478    I chose the first book because it was cheap.  ...\n",
      "Name: reviewText, dtype: object\n",
      "24    If you witness or experience a miracle, you wi...\n",
      "Name: reviewText, dtype: object\n",
      "976    \"Attention deficit hyperactivity disorder hand...\n",
      "Name: reviewText, dtype: object\n",
      "4    \u0010This fairly thick book isn't cheap and it wil...\n",
      "Name: reviewText, dtype: object\n",
      "59    This book is about scientific inference and su...\n",
      "Name: reviewText, dtype: object\n",
      "382    Eat Raw, Not Cooked is by far one of the BEST ...\n",
      "Name: reviewText, dtype: object\n",
      "908    I wasn't certain if the book was just a novel ...\n",
      "Name: reviewText, dtype: object\n",
      "\n",
      "================================================================\n",
      "  Saved total 15 dataframes to MySQL books_reviews_original_1 : \n",
      "14997928\n",
      "================================================================\n",
      "425    As someone who works on innovation for a large...\n",
      "Name: reviewText, dtype: object\n",
      "582    This is the second of Stipa's novels that I've...\n",
      "Name: reviewText, dtype: object\n",
      "182    \u0016*I reviewed this book for Martini Times Roman...\n",
      "Name: reviewText, dtype: object\n",
      "163    You, J.J. Knight always entertain me! You are ...\n",
      "Name: reviewText, dtype: object\n",
      "252    I love this calendar!  I have bought it for th...\n",
      "Name: reviewText, dtype: object\n",
      "205    I read this book recently in conjunction with ...\n",
      "Name: reviewText, dtype: object\n",
      "712    Moskowitz writes bea\u0010utif\u0010ully.  When I first ...\n",
      "Name: reviewText, dtype: object\n",
      "\n",
      "================================================================\n",
      "  Saved total 16 dataframes to MySQL books_reviews_original_1 : \n",
      "15997859\n",
      "================================================================\n",
      "879    I don't trust the information in this manual. ...\n",
      "Name: reviewText, dtype: object\n",
      "34    On the whole, this book is barely adequate. Mu...\n",
      "Name: reviewText, dtype: object\n",
      "893    Inside-Outside: Between Architecture and Lands...\n",
      "Name: reviewText, dtype: object\n",
      "453    I loved Robert Goolrick's book,A Reliable Wife...\n",
      "Name: reviewText, dtype: object\n",
      "94    This is either a great novel, or one of the gr...\n",
      "Name: reviewText, dtype: object\n",
      "61    I really love making things out of felt (and K...\n",
      "Name: reviewText, dtype: object\n",
      "867    If you want to know \"what experience shows\" in...\n",
      "Name: reviewText, dtype: object\n",
      "785    The story Wolff tells of Italian generosity, k...\n",
      "Name: reviewText, dtype: object\n",
      "891    The best book on personal thinking yet publish...\n",
      "Name: reviewText, dtype: object\n",
      "890    Turek and Geisler clearly have axes to grind a...\n",
      "Name: reviewText, dtype: object\n",
      "697    CRACKS by Sheila Kohler (Jonathan Ball, R109.9...\n",
      "Name: reviewText, dtype: object\n",
      "931    I have never read Liberty Meadows before, but ...\n",
      "Name: reviewText, dtype: object\n",
      "219    Every single age of the man has had its own mi...\n",
      "Name: reviewText, dtype: object\n",
      "871    Great cover. Powerful shot of the guy climbing...\n",
      "Name: reviewText, dtype: object\n",
      "746    If you like faced paced, thrill a minute adven...\n",
      "Name: reviewText, dtype: object\n",
      "515    This book is about 75 pages in all.  Most chap...\n",
      "Name: reviewText, dtype: object\n",
      "102    Haven't knit one up but have put it in my \"que...\n",
      "Name: reviewText, dtype: object\n",
      "954    While I am not sure about the accuracy of the ...\n",
      "Name: reviewText, dtype: object\n",
      "40    I've always been intrigued by the Mongols, as ...\n",
      "Name: reviewText, dtype: object\n",
      "522    I find it ironic that the word &quot;apologeti...\n",
      "Name: reviewText, dtype: object\n",
      "658    I agree with many of the reviews saying that t...\n",
      "Name: reviewText, dtype: object\n",
      "792    Just like Change of Heart, Nick Cooney's lates...\n",
      "Name: reviewText, dtype: object\n",
      "301    If you know absolutely nothing about programmi...\n",
      "Name: reviewText, dtype: object\n",
      "292    The trials and tribulations of Yusaku Godai co...\n",
      "Name: reviewText, dtype: object\n",
      "514    Another sterling job of deconstructing half a ...\n",
      "Name: reviewText, dtype: object\n",
      "551    Listening to Pema is always, for me, fun and u...\n",
      "Name: reviewText, dtype: object\n",
      "582    This book will answer any questions you may ha...\n",
      "Name: reviewText, dtype: object\n",
      "215    Call it \"noir meets Kill Bill.\" Frank Miller s...\n",
      "227    Call it \"noir meets Kill Bill.\" Frank Miller s...\n",
      "Name: reviewText, dtype: object\n",
      "709    I'm a Macintosh tech. Just perusing the excerp...\n",
      "Name: reviewText, dtype: object\n",
      "816    Scratch is shaping up to be the Logo of the 20...\n",
      "Name: reviewText, dtype: object\n",
      "\n",
      "================================================================\n",
      "  Saved total 17 dataframes to MySQL books_reviews_original_1 : \n",
      "16997699\n",
      "================================================================\n",
      "472    Loved this fun and muscular thriller that comb...\n",
      "Name: reviewText, dtype: object\n",
      "162    The study below is co-authored by Colin Campbe...\n",
      "Name: reviewText, dtype: object\n",
      "941    I care about two people who overeat and I have...\n",
      "Name: reviewText, dtype: object\n",
      "977    This book starts a little slowly, partly becau...\n",
      "Name: reviewText, dtype: object\n",
      "53    Out of curiosity I purchased this book to see ...\n",
      "Name: reviewText, dtype: object\n",
      "395    Basically logical info with a sense of scholar...\n",
      "Name: reviewText, dtype: object\n",
      "218    I enjoy accounts of heaven, I own several. Boo...\n",
      "Name: reviewText, dtype: object\n",
      "613    There is no magic secret to weight loss. Eat l...\n",
      "Name: reviewText, dtype: object\n",
      "300    This &#34;Almanac&#34; seems to be all about B...\n",
      "Name: reviewText, dtype: object\n",
      "266    Someone here really has it in for Kurdo Baksi....\n",
      "Name: reviewText, dtype: object\n",
      "817    I was a little disappointed. I went through th...\n",
      "Name: reviewText, dtype: object\n",
      "638    Awesome book! It provided so much more practic...\n",
      "Name: reviewText, dtype: object\n",
      "703    \u0010A simple proposition: make your own liqueurs ...\n",
      "Name: reviewText, dtype: object\n",
      "164    I got \"Nightfall\", the first in the Jack Night...\n",
      "Name: reviewText, dtype: object\n",
      "194    I purchased this coloring book because it is t...\n",
      "Name: reviewText, dtype: object\n",
      "183    Here is a classic tale of someone's journey of...\n",
      "Name: reviewText, dtype: object\n",
      "773    Turek and Geisler clearly have axes to grind a...\n",
      "Name: reviewText, dtype: object\n",
      "457    Another ScatteredThoughtsandRogueWords.com rev...\n",
      "543    Another ScatteredThoughtsandRogueWords.com rev...\n",
      "Name: reviewText, dtype: object\n",
      "759    Through the power of Twitter I came across Sun...\n",
      "Name: reviewText, dtype: object\n",
      "\n",
      "================================================================\n",
      "  Saved total 18 dataframes to MySQL books_reviews_original_1 : \n",
      "17997502\n",
      "================================================================\n",
      "456    An excellent book. While concise on the one ha...\n",
      "Name: reviewText, dtype: object\n",
      "74    This is an elegantly written, albeit slowly pa...\n",
      "Name: reviewText, dtype: object\n",
      "786    Over the past week, Banner of Truth has been e...\n",
      "Name: reviewText, dtype: object\n",
      "908    If you think you want this book, you do want i...\n",
      "Name: reviewText, dtype: object\n",
      "878    I was horribly disappointed by this book. I bo...\n",
      "Name: reviewText, dtype: object\n",
      "148    This must be considered David Irving's best re...\n",
      "Name: reviewText, dtype: object\n",
      "691    Montgomery\u0013 focusies on a MATRIX OF TEMPERAMEN...\n",
      "Name: reviewText, dtype: object\n",
      "854    Apparently this book is a lot more controversi...\n",
      "Name: reviewText, dtype: object\n",
      "50    A friend of mine had recommended this book to ...\n",
      "Name: reviewText, dtype: object\n",
      "255    Living in Beauty is a fascinating book that de...\n",
      "Name: reviewText, dtype: object\n",
      "671    \"Crescent\", a debut novel by Phil Rossi, is an...\n",
      "Name: reviewText, dtype: object\n",
      "379    A precise morbidly fascinating collection of b...\n",
      "Name: reviewText, dtype: object\n",
      "909    A GIFT IN THE SUNLIGHTBy Kay MouradianReview b...\n",
      "Name: reviewText, dtype: object\n",
      "644    I just finished reading &quot;When The Levee B...\n",
      "Name: reviewText, dtype: object\n",
      "440    After my oldest son &#34;loved&#34; our Mad \u0010S...\n",
      "Name: reviewText, dtype: object\n",
      "162    For those of us who can only wonder at the gla...\n",
      "Name: reviewText, dtype: object\n",
      "679    This pack comes with:-A new 18x22'' map board ...\n",
      "Name: reviewText, dtype: object\n",
      "50    The most objectionable sections of this book a...\n",
      "Name: reviewText, dtype: object\n",
      "259    &#34;At its heart, this collection is about th...\n",
      "Name: reviewText, dtype: object\n",
      "607    First, I should point out that this review wil...\n",
      "Name: reviewText, dtype: object\n",
      "998    This book had me from page one! I must admit I...\n",
      "Name: reviewText, dtype: object\n",
      "\n",
      "================================================================\n",
      "  Saved total 19 dataframes to MySQL books_reviews_original_1 : \n",
      "18997319\n",
      "================================================================\n",
      "92    The Star-Crossed Saga: Protostar lives up to i...\n",
      "Name: reviewText, dtype: object\n",
      "961    This classic lamrim text, although its edition...\n",
      "Name: reviewText, dtype: object\n",
      "290    &#34;Having  said  that,  this  reviewer  take...\n",
      "Name: reviewText, dtype: object\n",
      "329    bilingual espanol/english quarterly Internatio...\n",
      "Name: reviewText, dtype: object\n",
      "873    This was a favorite true adventure book which ...\n",
      "Name: reviewText, dtype: object\n",
      "110    \"It is doubtful if any military man or civilia...\n",
      "Name: reviewText, dtype: object\n",
      "128    I ordered the book The Queen of California  by...\n",
      "Name: reviewText, dtype: object\n",
      "355    The writings of the Church Fathers have always...\n",
      "Name: reviewText, dtype: object\n",
      "962    The plot gets a little lost at times with the ...\n",
      "Name: reviewText, dtype: object\n",
      "830    Sometimes you come across a book that compels ...\n",
      "Name: reviewText, dtype: object\n",
      "620    Although \u0010this was written \u0010in the days before...\n",
      "Name: reviewText, dtype: object\n",
      "731    Read this several months back and have thought...\n",
      "Name: reviewText, dtype: object\n",
      "\n",
      "================================================================\n",
      "  Saved total 20 dataframes to MySQL books_reviews_original_1 : \n",
      "19997204\n",
      "================================================================\n",
      "89    Barbara's fractally correct in every possible ...\n",
      "Name: reviewText, dtype: object\n",
      "341    With fun drawings and clear directions, Carol ...\n",
      "Name: reviewText, dtype: object\n",
      "13    This pains me greatly to write, dear reader.I ...\n",
      "Name: reviewText, dtype: object\n",
      "756    I really enjoyed the book and thought you'd be...\n",
      "Name: reviewText, dtype: object\n",
      "646    In this easy-to-read, fact-filled book, a youn...\n",
      "Name: reviewText, dtype: object\n",
      "452    Mary Buckham has created a treasure for writer...\n",
      "Name: reviewText, dtype: object\n",
      "862    This title stands out from all the other books...\n",
      "Name: reviewText, dtype: object\n",
      "41    This wasn't exactly what I thought it would be...\n",
      "Name: reviewText, dtype: object\n",
      "\n",
      "================================================================\n",
      "  Saved total 21 dataframes to MySQL books_reviews_original_1 : \n",
      "20997123\n",
      "================================================================\n",
      "733    A Heat of the Moment Thing is about so much mo...\n",
      "Name: reviewText, dtype: object\n",
      "827    ***UPDATED REVIEW on October 19, 2013***4.5 st...\n",
      "Name: reviewText, dtype: object\n",
      "418    This book offers a range of ideas for breakfas...\n",
      "Name: reviewText, dtype: object\n",
      "635    These short stories are not interesting.  The ...\n",
      "Name: reviewText, dtype: object\n",
      "459    Personally, I felt that this book fell just sh...\n",
      "Name: reviewText, dtype: object\n",
      "18    In Leading Virtual Project Teams: Adapting Lea...\n",
      "Name: reviewText, dtype: object\n",
      "916    For more of ScatteredThoughtsandRogueWords rev...\n",
      "Name: reviewText, dtype: object\n",
      "97    For more of my reviews and thoughts on writing...\n",
      "Name: reviewText, dtype: object\n",
      "943    Fish to Die For is about a &#34;zombie fish&#3...\n",
      "Name: reviewText, dtype: object\n",
      "563    Best-selling paranormal romance author Trinity...\n",
      "Name: reviewText, dtype: object\n",
      "\n",
      "================================================================\n",
      "  Saved total 22 dataframes to MySQL books_reviews_original_1 : \n",
      "21997071\n",
      "================================================================\n",
      "528    I have to point out that this is a novella and...\n",
      "Name: reviewText, dtype: object\n",
      "742    Love this series! I even like Elijah. He has b...\n",
      "Name: reviewText, dtype: object\n",
      "829    The Lighter Side of Agony is a book based on f...\n",
      "Name: reviewText, dtype: object\n",
      "807    Another ScatteredThoughtsandRogueWords.com rev...\n",
      "Name: reviewText, dtype: object\n",
      "\n",
      " dataframes_list append 507 dataframe chuck as one dataframes ====================================================\n",
      "Processed 22507155 records\n",
      "Saved total 22504220 records to MySQL\n"
     ]
    }
   ],
   "source": [
    "file_name='books_reviews_original'\n",
    "books_reviews_list=getDF_reviews('data/reviews_Books.json.gz',review_columns,file_name)\n"
   ],
   "metadata": {
    "collapsed": false
   }
  },
  {
   "cell_type": "code",
   "execution_count": 15,
   "outputs": [
    {
     "name": "stdout",
     "output_type": "stream",
     "text": [
      "24\n"
     ]
    }
   ],
   "source": [
    "print(len(books_reviews_list))"
   ],
   "metadata": {
    "collapsed": false
   }
  },
  {
   "cell_type": "code",
   "execution_count": null,
   "outputs": [],
   "source": [
    "for books_reviews in books_reviews_list:\n",
    "    print('\\n***The books_reviews after cleaned:***')\n",
    "    # books_reviews.drop_duplicates(keep='first', inplace=True)\n",
    "    # books_reviews=review_data_clean(books_reviews)\n",
    "    data_quality(books_reviews,content_columns_reviews)"
   ],
   "metadata": {
    "collapsed": false
   }
  },
  {
   "cell_type": "code",
   "execution_count": 18,
   "outputs": [
    {
     "name": "stdout",
     "output_type": "stream",
     "text": [
      "Connected to MySQL\n"
     ]
    },
    {
     "name": "stderr",
     "output_type": "stream",
     "text": [
      "/var/folders/s9/6ly2nsx50hg7kjfnghxs0bm80000gn/T/ipykernel_70507/3048093999.py:13: UserWarning: pandas only supports SQLAlchemy connectable (engine/connection) or database string URI or sqlite3 DBAPI2 connection. Other DBAPI2 objects are not tested. Please consider using SQLAlchemy.\n",
      "  df = pd.read_sql(query, conn)\n"
     ]
    },
    {
     "name": "stdout",
     "output_type": "stream",
     "text": [
      "load books_reviews_filter_vote_5 data from MySQL!\n"
     ]
    }
   ],
   "source": [
    "books_reviews=read_data_from_mysql('books_reviews_filter_vote_5')"
   ],
   "metadata": {
    "collapsed": false
   }
  },
  {
   "cell_type": "code",
   "execution_count": 19,
   "outputs": [
    {
     "data": {
      "text/plain": "       reviewerID        asin  overall  reviewTime  \\\n0  A23PISU0ZLW71C  0000029831      5.0  2014-02-24   \n1   AF7CSSGV93RXN  000100039X      5.0  2012-03-12   \n2  A37473RZR4WOHK  000100039X      5.0  2013-03-14   \n3  A3IS4WGMFR4X65  000100039X      5.0  2009-10-27   \n4  A39FW2WG64TQGO  000100039X      2.0  2012-06-03   \n\n                                          reviewText  helpful_vote  \\\n0  I thought this book was great before buying it...             5   \n1  I first read The Prophet by Kahlil Gibran over...             5   \n2  While it is certainly true that Gibran was no ...             5   \n3  The Prophet is Kahlil Gibran's best known work...             8   \n4  I'm afraid that if I write too much in this re...             2   \n\n   total_vote  helpfulness_score  \n0           5           1.000000  \n1           6           0.833333  \n2           6           0.833333  \n3          10           0.800000  \n4          14           0.142857  ",
      "text/html": "<div>\n<style scoped>\n    .dataframe tbody tr th:only-of-type {\n        vertical-align: middle;\n    }\n\n    .dataframe tbody tr th {\n        vertical-align: top;\n    }\n\n    .dataframe thead th {\n        text-align: right;\n    }\n</style>\n<table border=\"1\" class=\"dataframe\">\n  <thead>\n    <tr style=\"text-align: right;\">\n      <th></th>\n      <th>reviewerID</th>\n      <th>asin</th>\n      <th>overall</th>\n      <th>reviewTime</th>\n      <th>reviewText</th>\n      <th>helpful_vote</th>\n      <th>total_vote</th>\n      <th>helpfulness_score</th>\n    </tr>\n  </thead>\n  <tbody>\n    <tr>\n      <th>0</th>\n      <td>A23PISU0ZLW71C</td>\n      <td>0000029831</td>\n      <td>5.0</td>\n      <td>2014-02-24</td>\n      <td>I thought this book was great before buying it...</td>\n      <td>5</td>\n      <td>5</td>\n      <td>1.000000</td>\n    </tr>\n    <tr>\n      <th>1</th>\n      <td>AF7CSSGV93RXN</td>\n      <td>000100039X</td>\n      <td>5.0</td>\n      <td>2012-03-12</td>\n      <td>I first read The Prophet by Kahlil Gibran over...</td>\n      <td>5</td>\n      <td>6</td>\n      <td>0.833333</td>\n    </tr>\n    <tr>\n      <th>2</th>\n      <td>A37473RZR4WOHK</td>\n      <td>000100039X</td>\n      <td>5.0</td>\n      <td>2013-03-14</td>\n      <td>While it is certainly true that Gibran was no ...</td>\n      <td>5</td>\n      <td>6</td>\n      <td>0.833333</td>\n    </tr>\n    <tr>\n      <th>3</th>\n      <td>A3IS4WGMFR4X65</td>\n      <td>000100039X</td>\n      <td>5.0</td>\n      <td>2009-10-27</td>\n      <td>The Prophet is Kahlil Gibran's best known work...</td>\n      <td>8</td>\n      <td>10</td>\n      <td>0.800000</td>\n    </tr>\n    <tr>\n      <th>4</th>\n      <td>A39FW2WG64TQGO</td>\n      <td>000100039X</td>\n      <td>2.0</td>\n      <td>2012-06-03</td>\n      <td>I'm afraid that if I write too much in this re...</td>\n      <td>2</td>\n      <td>14</td>\n      <td>0.142857</td>\n    </tr>\n  </tbody>\n</table>\n</div>"
     },
     "execution_count": 19,
     "metadata": {},
     "output_type": "execute_result"
    }
   ],
   "source": [
    "books_reviews.head()"
   ],
   "metadata": {
    "collapsed": false
   }
  },
  {
   "cell_type": "code",
   "execution_count": 20,
   "outputs": [
    {
     "data": {
      "text/plain": "1625617"
     },
     "execution_count": 20,
     "metadata": {},
     "output_type": "execute_result"
    }
   ],
   "source": [
    "# vote_analysis(books_reviews)\n",
    "# books_reviews=filter_by_vote(books_reviews)\n",
    "len(books_reviews)"
   ],
   "metadata": {
    "collapsed": false
   }
  },
  {
   "cell_type": "code",
   "execution_count": 20,
   "outputs": [
    {
     "name": "stdout",
     "output_type": "stream",
     "text": [
      "Num of rows: 1625617\n",
      "====      \n",
      "Avg sentences: 9.028183760381443\n",
      "Total sentences: 14676369\n",
      "====      \n",
      "Max text length: 37120\n",
      "Min text length: 1\n",
      "Avg text length: 1097.7901602899085\n",
      "Mid text length: 636\n",
      "q75 text length: 1355.0\n",
      "=====================================\n"
     ]
    }
   ],
   "source": [
    "review_len(books_reviews)"
   ],
   "metadata": {
    "collapsed": false
   }
  },
  {
   "cell_type": "code",
   "execution_count": 21,
   "outputs": [
    {
     "name": "stdout",
     "output_type": "stream",
     "text": [
      "Not English!!!!!!!!!!!!!\n",
      "Not English!!!!!!!!!!!!!\n",
      "Not English!!!!!!!!!!!!!\n",
      "Not English!!!!!!!!!!!!!\n",
      "Not English!!!!!!!!!!!!!\n",
      "Not English!!!!!!!!!!!!!\n",
      "Not English!!!!!!!!!!!!!\n",
      "Not English!!!!!!!!!!!!!\n",
      "Not English!!!!!!!!!!!!!\n",
      "Not English!!!!!!!!!!!!!\n",
      "Not English!!!!!!!!!!!!!\n",
      "Not English!!!!!!!!!!!!!\n",
      "Not English!!!!!!!!!!!!!\n",
      "Not English!!!!!!!!!!!!!\n",
      "Not English!!!!!!!!!!!!!\n",
      "Not English!!!!!!!!!!!!!\n",
      "Not English!!!!!!!!!!!!!\n"
     ]
    },
    {
     "name": "stderr",
     "output_type": "stream",
     "text": [
      "/var/folders/s9/6ly2nsx50hg7kjfnghxs0bm80000gn/T/ipykernel_70507/198281822.py:15: SettingWithCopyWarning: \n",
      "A value is trying to be set on a copy of a slice from a DataFrame.\n",
      "Try using .loc[row_indexer,col_indexer] = value instead\n",
      "\n",
      "See the caveats in the documentation: https://pandas.pydata.org/pandas-docs/stable/user_guide/indexing.html#returning-a-view-versus-a-copy\n",
      "  df['language'] = df['reviewText'].apply(lan_check)\n"
     ]
    },
    {
     "name": "stdout",
     "output_type": "stream",
     "text": [
      "Finished:  30,000\n",
      "     with 29983 reviews\n",
      "Not English!!!!!!!!!!!!!\n",
      "Not English!!!!!!!!!!!!!\n",
      "Not English!!!!!!!!!!!!!\n",
      "Not English!!!!!!!!!!!!!\n",
      "Not English!!!!!!!!!!!!!\n",
      "Not English!!!!!!!!!!!!!\n",
      "Not English!!!!!!!!!!!!!\n",
      "Not English!!!!!!!!!!!!!\n",
      "Not English!!!!!!!!!!!!!\n",
      "Not English!!!!!!!!!!!!!\n"
     ]
    },
    {
     "name": "stderr",
     "output_type": "stream",
     "text": [
      "/var/folders/s9/6ly2nsx50hg7kjfnghxs0bm80000gn/T/ipykernel_70507/198281822.py:15: SettingWithCopyWarning: \n",
      "A value is trying to be set on a copy of a slice from a DataFrame.\n",
      "Try using .loc[row_indexer,col_indexer] = value instead\n",
      "\n",
      "See the caveats in the documentation: https://pandas.pydata.org/pandas-docs/stable/user_guide/indexing.html#returning-a-view-versus-a-copy\n",
      "  df['language'] = df['reviewText'].apply(lan_check)\n"
     ]
    },
    {
     "name": "stdout",
     "output_type": "stream",
     "text": [
      "Finished:  60,000\n",
      "     with 29990 reviews\n",
      "Not English!!!!!!!!!!!!!\n",
      "Not English!!!!!!!!!!!!!\n",
      "Not English!!!!!!!!!!!!!\n",
      "Not English!!!!!!!!!!!!!\n",
      "Not English!!!!!!!!!!!!!\n",
      "Not English!!!!!!!!!!!!!\n",
      "Not English!!!!!!!!!!!!!\n",
      "Not English!!!!!!!!!!!!!\n",
      "Not English!!!!!!!!!!!!!\n",
      "Not English!!!!!!!!!!!!!\n",
      "Not English!!!!!!!!!!!!!\n",
      "Not English!!!!!!!!!!!!!\n",
      "Not English!!!!!!!!!!!!!\n",
      "Not English!!!!!!!!!!!!!\n",
      "Not English!!!!!!!!!!!!!\n",
      "Not English!!!!!!!!!!!!!\n",
      "Not English!!!!!!!!!!!!!\n",
      "Not English!!!!!!!!!!!!!\n",
      "Not English!!!!!!!!!!!!!\n",
      "Not English!!!!!!!!!!!!!\n",
      "Not English!!!!!!!!!!!!!\n",
      "Not English!!!!!!!!!!!!!\n",
      "Not English!!!!!!!!!!!!!\n",
      "Not English!!!!!!!!!!!!!\n",
      "Not English!!!!!!!!!!!!!\n",
      "Not English!!!!!!!!!!!!!\n",
      "Not English!!!!!!!!!!!!!\n",
      "Not English!!!!!!!!!!!!!\n",
      "238\n"
     ]
    },
    {
     "name": "stderr",
     "output_type": "stream",
     "text": [
      "/var/folders/s9/6ly2nsx50hg7kjfnghxs0bm80000gn/T/ipykernel_70507/198281822.py:15: SettingWithCopyWarning: \n",
      "A value is trying to be set on a copy of a slice from a DataFrame.\n",
      "Try using .loc[row_indexer,col_indexer] = value instead\n",
      "\n",
      "See the caveats in the documentation: https://pandas.pydata.org/pandas-docs/stable/user_guide/indexing.html#returning-a-view-versus-a-copy\n",
      "  df['language'] = df['reviewText'].apply(lan_check)\n"
     ]
    },
    {
     "name": "stdout",
     "output_type": "stream",
     "text": [
      "Finished:  90,000\n",
      "     with 29972 reviews\n",
      "Not English!!!!!!!!!!!!!\n",
      "Not English!!!!!!!!!!!!!\n",
      "Not English!!!!!!!!!!!!!\n",
      "Not English!!!!!!!!!!!!!\n",
      "Not English!!!!!!!!!!!!!\n",
      "Not English!!!!!!!!!!!!!\n",
      "Not English!!!!!!!!!!!!!\n",
      "Not English!!!!!!!!!!!!!\n",
      "Not English!!!!!!!!!!!!!\n",
      "Not English!!!!!!!!!!!!!\n",
      "Not English!!!!!!!!!!!!!\n",
      "Not English!!!!!!!!!!!!!\n",
      "Not English!!!!!!!!!!!!!\n",
      "Not English!!!!!!!!!!!!!\n",
      "Not English!!!!!!!!!!!!!\n",
      "Not English!!!!!!!!!!!!!\n",
      "Not English!!!!!!!!!!!!!\n",
      "Not English!!!!!!!!!!!!!\n",
      "Not English!!!!!!!!!!!!!\n",
      "Not English!!!!!!!!!!!!!\n",
      "Not English!!!!!!!!!!!!!\n",
      "Not English!!!!!!!!!!!!!\n",
      "Not English!!!!!!!!!!!!!\n",
      "Not English!!!!!!!!!!!!!\n",
      "Not English!!!!!!!!!!!!!\n",
      "Not English!!!!!!!!!!!!!\n",
      "Not English!!!!!!!!!!!!!\n",
      "Not English!!!!!!!!!!!!!\n"
     ]
    },
    {
     "name": "stderr",
     "output_type": "stream",
     "text": [
      "/var/folders/s9/6ly2nsx50hg7kjfnghxs0bm80000gn/T/ipykernel_70507/198281822.py:15: SettingWithCopyWarning: \n",
      "A value is trying to be set on a copy of a slice from a DataFrame.\n",
      "Try using .loc[row_indexer,col_indexer] = value instead\n",
      "\n",
      "See the caveats in the documentation: https://pandas.pydata.org/pandas-docs/stable/user_guide/indexing.html#returning-a-view-versus-a-copy\n",
      "  df['language'] = df['reviewText'].apply(lan_check)\n"
     ]
    },
    {
     "name": "stdout",
     "output_type": "stream",
     "text": [
      "Finished:  120,000\n",
      "     with 29972 reviews\n",
      "Not English!!!!!!!!!!!!!\n",
      "Not English!!!!!!!!!!!!!\n",
      "Not English!!!!!!!!!!!!!\n",
      "Not English!!!!!!!!!!!!!\n",
      "Not English!!!!!!!!!!!!!\n",
      "Not English!!!!!!!!!!!!!\n",
      "Not English!!!!!!!!!!!!!\n",
      "Not English!!!!!!!!!!!!!\n",
      "Not English!!!!!!!!!!!!!\n",
      "Not English!!!!!!!!!!!!!\n",
      "Not English!!!!!!!!!!!!!\n",
      "Not English!!!!!!!!!!!!!\n",
      "Not English!!!!!!!!!!!!!\n",
      "Not English!!!!!!!!!!!!!\n",
      "Not English!!!!!!!!!!!!!\n",
      "Not English!!!!!!!!!!!!!\n",
      "Not English!!!!!!!!!!!!!\n",
      "Not English!!!!!!!!!!!!!\n",
      "Not English!!!!!!!!!!!!!\n",
      "Not English!!!!!!!!!!!!!\n",
      "Not English!!!!!!!!!!!!!\n",
      "Not English!!!!!!!!!!!!!\n",
      "Not English!!!!!!!!!!!!!\n",
      "Not English!!!!!!!!!!!!!\n"
     ]
    },
    {
     "name": "stderr",
     "output_type": "stream",
     "text": [
      "/var/folders/s9/6ly2nsx50hg7kjfnghxs0bm80000gn/T/ipykernel_70507/198281822.py:15: SettingWithCopyWarning: \n",
      "A value is trying to be set on a copy of a slice from a DataFrame.\n",
      "Try using .loc[row_indexer,col_indexer] = value instead\n",
      "\n",
      "See the caveats in the documentation: https://pandas.pydata.org/pandas-docs/stable/user_guide/indexing.html#returning-a-view-versus-a-copy\n",
      "  df['language'] = df['reviewText'].apply(lan_check)\n"
     ]
    },
    {
     "name": "stdout",
     "output_type": "stream",
     "text": [
      "Finished:  150,000\n",
      "     with 29976 reviews\n",
      "Not English!!!!!!!!!!!!!\n",
      "Not English!!!!!!!!!!!!!\n",
      "Not English!!!!!!!!!!!!!\n",
      "Not English!!!!!!!!!!!!!\n",
      "Not English!!!!!!!!!!!!!\n",
      "Not English!!!!!!!!!!!!!\n",
      "Not English!!!!!!!!!!!!!\n",
      "Not English!!!!!!!!!!!!!\n",
      "Not English!!!!!!!!!!!!!\n",
      "Not English!!!!!!!!!!!!!\n",
      "Not English!!!!!!!!!!!!!\n",
      "Not English!!!!!!!!!!!!!\n",
      "Not English!!!!!!!!!!!!!\n",
      "Not English!!!!!!!!!!!!!\n",
      "Not English!!!!!!!!!!!!!\n",
      "Not English!!!!!!!!!!!!!\n",
      "Not English!!!!!!!!!!!!!\n",
      "Not English!!!!!!!!!!!!!\n",
      "Not English!!!!!!!!!!!!!\n",
      "Not English!!!!!!!!!!!!!\n",
      "Not English!!!!!!!!!!!!!\n",
      "Not English!!!!!!!!!!!!!\n",
      "Not English!!!!!!!!!!!!!\n",
      "Not English!!!!!!!!!!!!!\n",
      "Not English!!!!!!!!!!!!!\n",
      "Not English!!!!!!!!!!!!!\n",
      "Not English!!!!!!!!!!!!!\n",
      "Not English!!!!!!!!!!!!!\n",
      "Not English!!!!!!!!!!!!!\n",
      "50\n",
      "Not English!!!!!!!!!!!!!\n",
      "Not English!!!!!!!!!!!!!\n",
      "Not English!!!!!!!!!!!!!\n",
      "Not English!!!!!!!!!!!!!\n",
      "Not English!!!!!!!!!!!!!\n",
      "Not English!!!!!!!!!!!!!\n",
      "Not English!!!!!!!!!!!!!\n",
      "Not English!!!!!!!!!!!!!\n",
      "Not English!!!!!!!!!!!!!\n",
      "Not English!!!!!!!!!!!!!\n",
      "Not English!!!!!!!!!!!!!\n",
      "Not English!!!!!!!!!!!!!\n",
      "Not English!!!!!!!!!!!!!\n",
      "Not English!!!!!!!!!!!!!\n",
      "Not English!!!!!!!!!!!!!\n"
     ]
    },
    {
     "name": "stderr",
     "output_type": "stream",
     "text": [
      "/var/folders/s9/6ly2nsx50hg7kjfnghxs0bm80000gn/T/ipykernel_70507/198281822.py:15: SettingWithCopyWarning: \n",
      "A value is trying to be set on a copy of a slice from a DataFrame.\n",
      "Try using .loc[row_indexer,col_indexer] = value instead\n",
      "\n",
      "See the caveats in the documentation: https://pandas.pydata.org/pandas-docs/stable/user_guide/indexing.html#returning-a-view-versus-a-copy\n",
      "  df['language'] = df['reviewText'].apply(lan_check)\n"
     ]
    },
    {
     "name": "stdout",
     "output_type": "stream",
     "text": [
      "Finished:  180,000\n",
      "     with 29956 reviews\n",
      "Not English!!!!!!!!!!!!!\n",
      "Not English!!!!!!!!!!!!!\n",
      "Not English!!!!!!!!!!!!!\n",
      "Not English!!!!!!!!!!!!!\n",
      "Not English!!!!!!!!!!!!!\n",
      "Not English!!!!!!!!!!!!!\n",
      "Not English!!!!!!!!!!!!!\n",
      "Not English!!!!!!!!!!!!!\n",
      "Not English!!!!!!!!!!!!!\n",
      "Not English!!!!!!!!!!!!!\n",
      "Not English!!!!!!!!!!!!!\n",
      "Not English!!!!!!!!!!!!!\n",
      "Not English!!!!!!!!!!!!!\n",
      "Not English!!!!!!!!!!!!!\n",
      "Not English!!!!!!!!!!!!!\n",
      "Not English!!!!!!!!!!!!!\n",
      "Not English!!!!!!!!!!!!!\n",
      "Not English!!!!!!!!!!!!!\n",
      "Not English!!!!!!!!!!!!!\n",
      "Not English!!!!!!!!!!!!!\n",
      "Not English!!!!!!!!!!!!!\n",
      "Not English!!!!!!!!!!!!!\n",
      "Not English!!!!!!!!!!!!!\n",
      "Not English!!!!!!!!!!!!!\n",
      "Not English!!!!!!!!!!!!!\n",
      "Not English!!!!!!!!!!!!!\n",
      "Not English!!!!!!!!!!!!!\n",
      "Not English!!!!!!!!!!!!!\n",
      "Not English!!!!!!!!!!!!!\n",
      "Not English!!!!!!!!!!!!!\n",
      "Not English!!!!!!!!!!!!!\n",
      "Not English!!!!!!!!!!!!!\n",
      "Not English!!!!!!!!!!!!!\n",
      "Not English!!!!!!!!!!!!!\n",
      "Not English!!!!!!!!!!!!!\n",
      "Not English!!!!!!!!!!!!!\n",
      "Not English!!!!!!!!!!!!!\n",
      "Not English!!!!!!!!!!!!!\n",
      "Not English!!!!!!!!!!!!!\n",
      "Not English!!!!!!!!!!!!!\n",
      "Not English!!!!!!!!!!!!!\n",
      "Not English!!!!!!!!!!!!!\n",
      "Not English!!!!!!!!!!!!!\n",
      "Not English!!!!!!!!!!!!!\n"
     ]
    },
    {
     "name": "stderr",
     "output_type": "stream",
     "text": [
      "/var/folders/s9/6ly2nsx50hg7kjfnghxs0bm80000gn/T/ipykernel_70507/198281822.py:15: SettingWithCopyWarning: \n",
      "A value is trying to be set on a copy of a slice from a DataFrame.\n",
      "Try using .loc[row_indexer,col_indexer] = value instead\n",
      "\n",
      "See the caveats in the documentation: https://pandas.pydata.org/pandas-docs/stable/user_guide/indexing.html#returning-a-view-versus-a-copy\n",
      "  df['language'] = df['reviewText'].apply(lan_check)\n"
     ]
    },
    {
     "name": "stdout",
     "output_type": "stream",
     "text": [
      "Finished:  210,000\n",
      "     with 29956 reviews\n",
      "Not English!!!!!!!!!!!!!\n",
      "Not English!!!!!!!!!!!!!\n",
      "Not English!!!!!!!!!!!!!\n",
      "Not English!!!!!!!!!!!!!\n",
      "Not English!!!!!!!!!!!!!\n",
      "1592\n"
     ]
    },
    {
     "name": "stderr",
     "output_type": "stream",
     "text": [
      "/var/folders/s9/6ly2nsx50hg7kjfnghxs0bm80000gn/T/ipykernel_70507/198281822.py:15: SettingWithCopyWarning: \n",
      "A value is trying to be set on a copy of a slice from a DataFrame.\n",
      "Try using .loc[row_indexer,col_indexer] = value instead\n",
      "\n",
      "See the caveats in the documentation: https://pandas.pydata.org/pandas-docs/stable/user_guide/indexing.html#returning-a-view-versus-a-copy\n",
      "  df['language'] = df['reviewText'].apply(lan_check)\n"
     ]
    },
    {
     "name": "stdout",
     "output_type": "stream",
     "text": [
      "Finished:  240,000\n",
      "     with 29995 reviews\n",
      "Not English!!!!!!!!!!!!!\n",
      "Not English!!!!!!!!!!!!!\n",
      "Not English!!!!!!!!!!!!!\n",
      "Not English!!!!!!!!!!!!!\n",
      "Not English!!!!!!!!!!!!!\n",
      "Not English!!!!!!!!!!!!!\n",
      "Not English!!!!!!!!!!!!!\n",
      "Not English!!!!!!!!!!!!!\n",
      "Not English!!!!!!!!!!!!!\n",
      "Not English!!!!!!!!!!!!!\n",
      "Not English!!!!!!!!!!!!!\n",
      "Not English!!!!!!!!!!!!!\n",
      "Not English!!!!!!!!!!!!!\n",
      "Not English!!!!!!!!!!!!!\n",
      "Not English!!!!!!!!!!!!!\n",
      "Not English!!!!!!!!!!!!!\n",
      "Not English!!!!!!!!!!!!!\n",
      "Not English!!!!!!!!!!!!!\n",
      "Not English!!!!!!!!!!!!!\n",
      "Not English!!!!!!!!!!!!!\n"
     ]
    },
    {
     "name": "stderr",
     "output_type": "stream",
     "text": [
      "/var/folders/s9/6ly2nsx50hg7kjfnghxs0bm80000gn/T/ipykernel_70507/198281822.py:15: SettingWithCopyWarning: \n",
      "A value is trying to be set on a copy of a slice from a DataFrame.\n",
      "Try using .loc[row_indexer,col_indexer] = value instead\n",
      "\n",
      "See the caveats in the documentation: https://pandas.pydata.org/pandas-docs/stable/user_guide/indexing.html#returning-a-view-versus-a-copy\n",
      "  df['language'] = df['reviewText'].apply(lan_check)\n"
     ]
    },
    {
     "name": "stdout",
     "output_type": "stream",
     "text": [
      "Finished:  270,000\n",
      "     with 29980 reviews\n",
      "Not English!!!!!!!!!!!!!\n",
      "Not English!!!!!!!!!!!!!\n",
      "Not English!!!!!!!!!!!!!\n",
      "Not English!!!!!!!!!!!!!\n",
      "Not English!!!!!!!!!!!!!\n",
      "Not English!!!!!!!!!!!!!\n",
      "Not English!!!!!!!!!!!!!\n",
      "Not English!!!!!!!!!!!!!\n",
      "Not English!!!!!!!!!!!!!\n",
      "Not English!!!!!!!!!!!!!\n",
      "Not English!!!!!!!!!!!!!\n",
      "Not English!!!!!!!!!!!!!\n",
      "Not English!!!!!!!!!!!!!\n",
      "Not English!!!!!!!!!!!!!\n",
      "Not English!!!!!!!!!!!!!\n",
      "Not English!!!!!!!!!!!!!\n",
      "Not English!!!!!!!!!!!!!\n",
      "Not English!!!!!!!!!!!!!\n",
      "Not English!!!!!!!!!!!!!\n",
      "Not English!!!!!!!!!!!!!\n",
      "Not English!!!!!!!!!!!!!\n",
      "Not English!!!!!!!!!!!!!\n",
      "Not English!!!!!!!!!!!!!\n",
      "Not English!!!!!!!!!!!!!\n",
      "Not English!!!!!!!!!!!!!\n",
      "Not English!!!!!!!!!!!!!\n",
      "Not English!!!!!!!!!!!!!\n",
      "Not English!!!!!!!!!!!!!\n",
      "Not English!!!!!!!!!!!!!\n",
      "Not English!!!!!!!!!!!!!\n",
      "Not English!!!!!!!!!!!!!\n",
      "Not English!!!!!!!!!!!!!\n",
      "Not English!!!!!!!!!!!!!\n",
      "Not English!!!!!!!!!!!!!\n",
      "Not English!!!!!!!!!!!!!\n",
      "Not English!!!!!!!!!!!!!\n",
      "Not English!!!!!!!!!!!!!\n"
     ]
    },
    {
     "name": "stderr",
     "output_type": "stream",
     "text": [
      "/var/folders/s9/6ly2nsx50hg7kjfnghxs0bm80000gn/T/ipykernel_70507/198281822.py:15: SettingWithCopyWarning: \n",
      "A value is trying to be set on a copy of a slice from a DataFrame.\n",
      "Try using .loc[row_indexer,col_indexer] = value instead\n",
      "\n",
      "See the caveats in the documentation: https://pandas.pydata.org/pandas-docs/stable/user_guide/indexing.html#returning-a-view-versus-a-copy\n",
      "  df['language'] = df['reviewText'].apply(lan_check)\n"
     ]
    },
    {
     "name": "stdout",
     "output_type": "stream",
     "text": [
      "Finished:  300,000\n",
      "     with 29963 reviews\n",
      "5\n",
      "Not English!!!!!!!!!!!!!\n",
      "Not English!!!!!!!!!!!!!\n",
      "Not English!!!!!!!!!!!!!\n",
      "Not English!!!!!!!!!!!!!\n",
      "Not English!!!!!!!!!!!!!\n",
      "Not English!!!!!!!!!!!!!\n",
      "Not English!!!!!!!!!!!!!\n",
      "Not English!!!!!!!!!!!!!\n",
      "Not English!!!!!!!!!!!!!\n",
      "Not English!!!!!!!!!!!!!\n",
      "Not English!!!!!!!!!!!!!\n",
      "Not English!!!!!!!!!!!!!\n",
      "Not English!!!!!!!!!!!!!\n",
      "Not English!!!!!!!!!!!!!\n",
      "Not English!!!!!!!!!!!!!\n",
      "Not English!!!!!!!!!!!!!\n",
      "Not English!!!!!!!!!!!!!\n"
     ]
    },
    {
     "name": "stderr",
     "output_type": "stream",
     "text": [
      "/var/folders/s9/6ly2nsx50hg7kjfnghxs0bm80000gn/T/ipykernel_70507/198281822.py:15: SettingWithCopyWarning: \n",
      "A value is trying to be set on a copy of a slice from a DataFrame.\n",
      "Try using .loc[row_indexer,col_indexer] = value instead\n",
      "\n",
      "See the caveats in the documentation: https://pandas.pydata.org/pandas-docs/stable/user_guide/indexing.html#returning-a-view-versus-a-copy\n",
      "  df['language'] = df['reviewText'].apply(lan_check)\n"
     ]
    },
    {
     "name": "stdout",
     "output_type": "stream",
     "text": [
      "Finished:  330,000\n",
      "     with 29983 reviews\n",
      "Not English!!!!!!!!!!!!!\n",
      "Not English!!!!!!!!!!!!!\n",
      "Not English!!!!!!!!!!!!!\n",
      "Not English!!!!!!!!!!!!!\n",
      "Not English!!!!!!!!!!!!!\n",
      "Not English!!!!!!!!!!!!!\n",
      "Not English!!!!!!!!!!!!!\n",
      "Not English!!!!!!!!!!!!!\n",
      "Not English!!!!!!!!!!!!!\n",
      "Not English!!!!!!!!!!!!!\n",
      "Not English!!!!!!!!!!!!!\n",
      "Not English!!!!!!!!!!!!!\n",
      "Not English!!!!!!!!!!!!!\n",
      "Not English!!!!!!!!!!!!!\n"
     ]
    },
    {
     "name": "stderr",
     "output_type": "stream",
     "text": [
      "/var/folders/s9/6ly2nsx50hg7kjfnghxs0bm80000gn/T/ipykernel_70507/198281822.py:15: SettingWithCopyWarning: \n",
      "A value is trying to be set on a copy of a slice from a DataFrame.\n",
      "Try using .loc[row_indexer,col_indexer] = value instead\n",
      "\n",
      "See the caveats in the documentation: https://pandas.pydata.org/pandas-docs/stable/user_guide/indexing.html#returning-a-view-versus-a-copy\n",
      "  df['language'] = df['reviewText'].apply(lan_check)\n"
     ]
    },
    {
     "name": "stdout",
     "output_type": "stream",
     "text": [
      "Finished:  360,000\n",
      "     with 29986 reviews\n",
      "Not English!!!!!!!!!!!!!\n",
      "Not English!!!!!!!!!!!!!\n",
      "Not English!!!!!!!!!!!!!\n",
      "Not English!!!!!!!!!!!!!\n",
      "Not English!!!!!!!!!!!!!\n",
      "Not English!!!!!!!!!!!!!\n",
      "Not English!!!!!!!!!!!!!\n",
      "Not English!!!!!!!!!!!!!\n",
      "Not English!!!!!!!!!!!!!\n",
      "Not English!!!!!!!!!!!!!\n",
      "Not English!!!!!!!!!!!!!\n"
     ]
    },
    {
     "name": "stderr",
     "output_type": "stream",
     "text": [
      "/var/folders/s9/6ly2nsx50hg7kjfnghxs0bm80000gn/T/ipykernel_70507/198281822.py:15: SettingWithCopyWarning: \n",
      "A value is trying to be set on a copy of a slice from a DataFrame.\n",
      "Try using .loc[row_indexer,col_indexer] = value instead\n",
      "\n",
      "See the caveats in the documentation: https://pandas.pydata.org/pandas-docs/stable/user_guide/indexing.html#returning-a-view-versus-a-copy\n",
      "  df['language'] = df['reviewText'].apply(lan_check)\n"
     ]
    },
    {
     "name": "stdout",
     "output_type": "stream",
     "text": [
      "Finished:  390,000\n",
      "     with 29989 reviews\n",
      "Not English!!!!!!!!!!!!!\n",
      "Not English!!!!!!!!!!!!!\n",
      "Not English!!!!!!!!!!!!!\n",
      "Not English!!!!!!!!!!!!!\n",
      "Not English!!!!!!!!!!!!!\n",
      "Not English!!!!!!!!!!!!!\n",
      "Not English!!!!!!!!!!!!!\n",
      "Not English!!!!!!!!!!!!!\n",
      "Not English!!!!!!!!!!!!!\n",
      "Not English!!!!!!!!!!!!!\n",
      "Not English!!!!!!!!!!!!!\n",
      "Not English!!!!!!!!!!!!!\n",
      "Not English!!!!!!!!!!!!!\n",
      "Not English!!!!!!!!!!!!!\n",
      "Not English!!!!!!!!!!!!!\n",
      "Not English!!!!!!!!!!!!!\n",
      "Not English!!!!!!!!!!!!!\n",
      "Not English!!!!!!!!!!!!!\n",
      "Not English!!!!!!!!!!!!!\n",
      "Not English!!!!!!!!!!!!!\n",
      "Not English!!!!!!!!!!!!!\n",
      "Not English!!!!!!!!!!!!!\n",
      "Not English!!!!!!!!!!!!!\n",
      "Not English!!!!!!!!!!!!!\n",
      "Not English!!!!!!!!!!!!!\n",
      "Not English!!!!!!!!!!!!!\n",
      "Not English!!!!!!!!!!!!!\n",
      "Not English!!!!!!!!!!!!!\n",
      "Not English!!!!!!!!!!!!!\n",
      "1306\n",
      "Not English!!!!!!!!!!!!!\n",
      "Not English!!!!!!!!!!!!!\n",
      "Not English!!!!!!!!!!!!!\n",
      "Not English!!!!!!!!!!!!!\n",
      "Not English!!!!!!!!!!!!!\n",
      "Not English!!!!!!!!!!!!!\n",
      "Not English!!!!!!!!!!!!!\n",
      "Not English!!!!!!!!!!!!!\n",
      "Not English!!!!!!!!!!!!!\n",
      "Not English!!!!!!!!!!!!!\n",
      "Not English!!!!!!!!!!!!!\n",
      "Not English!!!!!!!!!!!!!\n",
      "Not English!!!!!!!!!!!!!\n",
      "Not English!!!!!!!!!!!!!\n",
      "Not English!!!!!!!!!!!!!\n",
      "Not English!!!!!!!!!!!!!\n",
      "Not English!!!!!!!!!!!!!\n",
      "Not English!!!!!!!!!!!!!\n"
     ]
    },
    {
     "name": "stderr",
     "output_type": "stream",
     "text": [
      "/var/folders/s9/6ly2nsx50hg7kjfnghxs0bm80000gn/T/ipykernel_70507/198281822.py:15: SettingWithCopyWarning: \n",
      "A value is trying to be set on a copy of a slice from a DataFrame.\n",
      "Try using .loc[row_indexer,col_indexer] = value instead\n",
      "\n",
      "See the caveats in the documentation: https://pandas.pydata.org/pandas-docs/stable/user_guide/indexing.html#returning-a-view-versus-a-copy\n",
      "  df['language'] = df['reviewText'].apply(lan_check)\n"
     ]
    },
    {
     "name": "stdout",
     "output_type": "stream",
     "text": [
      "Finished:  420,000\n",
      "     with 29953 reviews\n",
      "Not English!!!!!!!!!!!!!\n",
      "5\n",
      "Not English!!!!!!!!!!!!!\n",
      "Not English!!!!!!!!!!!!!\n",
      "Not English!!!!!!!!!!!!!\n",
      "Not English!!!!!!!!!!!!!\n",
      "Not English!!!!!!!!!!!!!\n",
      "Not English!!!!!!!!!!!!!\n",
      "Not English!!!!!!!!!!!!!\n",
      "Not English!!!!!!!!!!!!!\n",
      "Not English!!!!!!!!!!!!!\n",
      "Not English!!!!!!!!!!!!!\n",
      "Not English!!!!!!!!!!!!!\n",
      "Not English!!!!!!!!!!!!!\n",
      "Not English!!!!!!!!!!!!!\n",
      "Not English!!!!!!!!!!!!!\n",
      "Not English!!!!!!!!!!!!!\n",
      "Not English!!!!!!!!!!!!!\n",
      "Not English!!!!!!!!!!!!!\n",
      "Not English!!!!!!!!!!!!!\n",
      "Not English!!!!!!!!!!!!!\n",
      "Not English!!!!!!!!!!!!!\n",
      "Not English!!!!!!!!!!!!!\n",
      "Not English!!!!!!!!!!!!!\n",
      "Not English!!!!!!!!!!!!!\n",
      "Not English!!!!!!!!!!!!!\n",
      "Not English!!!!!!!!!!!!!\n"
     ]
    },
    {
     "name": "stderr",
     "output_type": "stream",
     "text": [
      "/var/folders/s9/6ly2nsx50hg7kjfnghxs0bm80000gn/T/ipykernel_70507/198281822.py:15: SettingWithCopyWarning: \n",
      "A value is trying to be set on a copy of a slice from a DataFrame.\n",
      "Try using .loc[row_indexer,col_indexer] = value instead\n",
      "\n",
      "See the caveats in the documentation: https://pandas.pydata.org/pandas-docs/stable/user_guide/indexing.html#returning-a-view-versus-a-copy\n",
      "  df['language'] = df['reviewText'].apply(lan_check)\n"
     ]
    },
    {
     "name": "stdout",
     "output_type": "stream",
     "text": [
      "Finished:  450,000\n",
      "     with 29974 reviews\n",
      "Not English!!!!!!!!!!!!!\n",
      "Not English!!!!!!!!!!!!!\n",
      "Not English!!!!!!!!!!!!!\n",
      "Not English!!!!!!!!!!!!!\n",
      "Not English!!!!!!!!!!!!!\n",
      "Not English!!!!!!!!!!!!!\n",
      "Not English!!!!!!!!!!!!!\n",
      "Not English!!!!!!!!!!!!!\n",
      "Not English!!!!!!!!!!!!!\n",
      "Not English!!!!!!!!!!!!!\n",
      "Not English!!!!!!!!!!!!!\n",
      "Not English!!!!!!!!!!!!!\n",
      "Not English!!!!!!!!!!!!!\n",
      "Not English!!!!!!!!!!!!!\n",
      "Not English!!!!!!!!!!!!!\n",
      "Not English!!!!!!!!!!!!!\n",
      "Not English!!!!!!!!!!!!!\n",
      "Not English!!!!!!!!!!!!!\n",
      "Not English!!!!!!!!!!!!!\n",
      "Not English!!!!!!!!!!!!!\n",
      "Not English!!!!!!!!!!!!!\n"
     ]
    },
    {
     "name": "stderr",
     "output_type": "stream",
     "text": [
      "/var/folders/s9/6ly2nsx50hg7kjfnghxs0bm80000gn/T/ipykernel_70507/198281822.py:15: SettingWithCopyWarning: \n",
      "A value is trying to be set on a copy of a slice from a DataFrame.\n",
      "Try using .loc[row_indexer,col_indexer] = value instead\n",
      "\n",
      "See the caveats in the documentation: https://pandas.pydata.org/pandas-docs/stable/user_guide/indexing.html#returning-a-view-versus-a-copy\n",
      "  df['language'] = df['reviewText'].apply(lan_check)\n"
     ]
    },
    {
     "name": "stdout",
     "output_type": "stream",
     "text": [
      "Finished:  480,000\n",
      "     with 29979 reviews\n",
      "Not English!!!!!!!!!!!!!\n",
      "Not English!!!!!!!!!!!!!\n",
      "Not English!!!!!!!!!!!!!\n",
      "Not English!!!!!!!!!!!!!\n",
      "Not English!!!!!!!!!!!!!\n",
      "Not English!!!!!!!!!!!!!\n",
      "Not English!!!!!!!!!!!!!\n",
      "Not English!!!!!!!!!!!!!\n",
      "Not English!!!!!!!!!!!!!\n",
      "Not English!!!!!!!!!!!!!\n",
      "Not English!!!!!!!!!!!!!\n",
      "Not English!!!!!!!!!!!!!\n",
      "Not English!!!!!!!!!!!!!\n",
      "Not English!!!!!!!!!!!!!\n",
      "Not English!!!!!!!!!!!!!\n",
      "Not English!!!!!!!!!!!!!\n",
      "Not English!!!!!!!!!!!!!\n"
     ]
    },
    {
     "name": "stderr",
     "output_type": "stream",
     "text": [
      "/var/folders/s9/6ly2nsx50hg7kjfnghxs0bm80000gn/T/ipykernel_70507/198281822.py:15: SettingWithCopyWarning: \n",
      "A value is trying to be set on a copy of a slice from a DataFrame.\n",
      "Try using .loc[row_indexer,col_indexer] = value instead\n",
      "\n",
      "See the caveats in the documentation: https://pandas.pydata.org/pandas-docs/stable/user_guide/indexing.html#returning-a-view-versus-a-copy\n",
      "  df['language'] = df['reviewText'].apply(lan_check)\n"
     ]
    },
    {
     "name": "stdout",
     "output_type": "stream",
     "text": [
      "Finished:  510,000\n",
      "     with 29983 reviews\n",
      "Not English!!!!!!!!!!!!!\n",
      "Not English!!!!!!!!!!!!!\n",
      "Not English!!!!!!!!!!!!!\n",
      "Not English!!!!!!!!!!!!!\n",
      "Not English!!!!!!!!!!!!!\n",
      "Not English!!!!!!!!!!!!!\n",
      "Not English!!!!!!!!!!!!!\n",
      "Not English!!!!!!!!!!!!!\n",
      "Not English!!!!!!!!!!!!!\n",
      "Not English!!!!!!!!!!!!!\n",
      "Not English!!!!!!!!!!!!!\n",
      "Not English!!!!!!!!!!!!!\n",
      "Not English!!!!!!!!!!!!!\n",
      "Not English!!!!!!!!!!!!!\n",
      "Not English!!!!!!!!!!!!!\n",
      "Not English!!!!!!!!!!!!!\n",
      "Not English!!!!!!!!!!!!!\n",
      "Not English!!!!!!!!!!!!!\n",
      "Not English!!!!!!!!!!!!!\n",
      "Not English!!!!!!!!!!!!!\n",
      "Not English!!!!!!!!!!!!!\n",
      "Not English!!!!!!!!!!!!!\n",
      "Not English!!!!!!!!!!!!!\n",
      "Not English!!!!!!!!!!!!!\n",
      "Not English!!!!!!!!!!!!!\n",
      "Not English!!!!!!!!!!!!!\n",
      "Not English!!!!!!!!!!!!!\n",
      "Not English!!!!!!!!!!!!!\n",
      "Not English!!!!!!!!!!!!!\n",
      "Not English!!!!!!!!!!!!!\n",
      "Not English!!!!!!!!!!!!!\n",
      "Not English!!!!!!!!!!!!!\n",
      "Not English!!!!!!!!!!!!!\n",
      "Not English!!!!!!!!!!!!!\n",
      "Not English!!!!!!!!!!!!!\n"
     ]
    },
    {
     "name": "stderr",
     "output_type": "stream",
     "text": [
      "/var/folders/s9/6ly2nsx50hg7kjfnghxs0bm80000gn/T/ipykernel_70507/198281822.py:15: SettingWithCopyWarning: \n",
      "A value is trying to be set on a copy of a slice from a DataFrame.\n",
      "Try using .loc[row_indexer,col_indexer] = value instead\n",
      "\n",
      "See the caveats in the documentation: https://pandas.pydata.org/pandas-docs/stable/user_guide/indexing.html#returning-a-view-versus-a-copy\n",
      "  df['language'] = df['reviewText'].apply(lan_check)\n"
     ]
    },
    {
     "name": "stdout",
     "output_type": "stream",
     "text": [
      "Finished:  540,000\n",
      "     with 29965 reviews\n",
      "Not English!!!!!!!!!!!!!\n",
      "Not English!!!!!!!!!!!!!\n",
      "Not English!!!!!!!!!!!!!\n",
      "Not English!!!!!!!!!!!!!\n",
      "Not English!!!!!!!!!!!!!\n",
      "Not English!!!!!!!!!!!!!\n",
      "Not English!!!!!!!!!!!!!\n",
      "Not English!!!!!!!!!!!!!\n",
      "Not English!!!!!!!!!!!!!\n",
      "Not English!!!!!!!!!!!!!\n",
      "Not English!!!!!!!!!!!!!\n",
      "Not English!!!!!!!!!!!!!\n",
      "Not English!!!!!!!!!!!!!\n",
      "Not English!!!!!!!!!!!!!\n",
      "Not English!!!!!!!!!!!!!\n",
      "Not English!!!!!!!!!!!!!\n",
      "Not English!!!!!!!!!!!!!\n",
      "Not English!!!!!!!!!!!!!\n"
     ]
    },
    {
     "name": "stderr",
     "output_type": "stream",
     "text": [
      "/var/folders/s9/6ly2nsx50hg7kjfnghxs0bm80000gn/T/ipykernel_70507/198281822.py:15: SettingWithCopyWarning: \n",
      "A value is trying to be set on a copy of a slice from a DataFrame.\n",
      "Try using .loc[row_indexer,col_indexer] = value instead\n",
      "\n",
      "See the caveats in the documentation: https://pandas.pydata.org/pandas-docs/stable/user_guide/indexing.html#returning-a-view-versus-a-copy\n",
      "  df['language'] = df['reviewText'].apply(lan_check)\n"
     ]
    },
    {
     "name": "stdout",
     "output_type": "stream",
     "text": [
      "Finished:  570,000\n",
      "     with 29982 reviews\n",
      "Not English!!!!!!!!!!!!!\n",
      "Not English!!!!!!!!!!!!!\n",
      "Not English!!!!!!!!!!!!!\n",
      "Not English!!!!!!!!!!!!!\n",
      "Not English!!!!!!!!!!!!!\n",
      "Not English!!!!!!!!!!!!!\n",
      "Not English!!!!!!!!!!!!!\n",
      "Not English!!!!!!!!!!!!!\n",
      "Not English!!!!!!!!!!!!!\n",
      "Not English!!!!!!!!!!!!!\n",
      "Not English!!!!!!!!!!!!!\n",
      "Not English!!!!!!!!!!!!!\n",
      "Not English!!!!!!!!!!!!!\n",
      "Not English!!!!!!!!!!!!!\n",
      "Not English!!!!!!!!!!!!!\n"
     ]
    },
    {
     "name": "stderr",
     "output_type": "stream",
     "text": [
      "/var/folders/s9/6ly2nsx50hg7kjfnghxs0bm80000gn/T/ipykernel_70507/198281822.py:15: SettingWithCopyWarning: \n",
      "A value is trying to be set on a copy of a slice from a DataFrame.\n",
      "Try using .loc[row_indexer,col_indexer] = value instead\n",
      "\n",
      "See the caveats in the documentation: https://pandas.pydata.org/pandas-docs/stable/user_guide/indexing.html#returning-a-view-versus-a-copy\n",
      "  df['language'] = df['reviewText'].apply(lan_check)\n"
     ]
    },
    {
     "name": "stdout",
     "output_type": "stream",
     "text": [
      "Finished:  600,000\n",
      "     with 29985 reviews\n",
      "Not English!!!!!!!!!!!!!\n",
      "Not English!!!!!!!!!!!!!\n",
      "Not English!!!!!!!!!!!!!\n",
      "Not English!!!!!!!!!!!!!\n",
      "Not English!!!!!!!!!!!!!\n",
      "Not English!!!!!!!!!!!!!\n",
      "Not English!!!!!!!!!!!!!\n",
      "Not English!!!!!!!!!!!!!\n",
      "Not English!!!!!!!!!!!!!\n",
      "Not English!!!!!!!!!!!!!\n",
      "Not English!!!!!!!!!!!!!\n",
      "Not English!!!!!!!!!!!!!\n",
      "Not English!!!!!!!!!!!!!\n",
      "Not English!!!!!!!!!!!!!\n",
      "Not English!!!!!!!!!!!!!\n",
      "Not English!!!!!!!!!!!!!\n",
      "Not English!!!!!!!!!!!!!\n",
      "Not English!!!!!!!!!!!!!\n",
      "Not English!!!!!!!!!!!!!\n",
      "Not English!!!!!!!!!!!!!\n",
      "Not English!!!!!!!!!!!!!\n",
      "Not English!!!!!!!!!!!!!\n",
      "Not English!!!!!!!!!!!!!\n",
      "Not English!!!!!!!!!!!!!\n",
      "Not English!!!!!!!!!!!!!\n",
      "Not English!!!!!!!!!!!!!\n",
      "Not English!!!!!!!!!!!!!\n",
      "Not English!!!!!!!!!!!!!\n"
     ]
    },
    {
     "name": "stderr",
     "output_type": "stream",
     "text": [
      "/var/folders/s9/6ly2nsx50hg7kjfnghxs0bm80000gn/T/ipykernel_70507/198281822.py:15: SettingWithCopyWarning: \n",
      "A value is trying to be set on a copy of a slice from a DataFrame.\n",
      "Try using .loc[row_indexer,col_indexer] = value instead\n",
      "\n",
      "See the caveats in the documentation: https://pandas.pydata.org/pandas-docs/stable/user_guide/indexing.html#returning-a-view-versus-a-copy\n",
      "  df['language'] = df['reviewText'].apply(lan_check)\n"
     ]
    },
    {
     "name": "stdout",
     "output_type": "stream",
     "text": [
      "Finished:  630,000\n",
      "     with 29972 reviews\n",
      "Not English!!!!!!!!!!!!!\n",
      "Not English!!!!!!!!!!!!!\n",
      "Not English!!!!!!!!!!!!!\n",
      "Not English!!!!!!!!!!!!!\n",
      "Not English!!!!!!!!!!!!!\n",
      "Not English!!!!!!!!!!!!!\n",
      "Not English!!!!!!!!!!!!!\n",
      "Not English!!!!!!!!!!!!!\n",
      "Not English!!!!!!!!!!!!!\n",
      "Not English!!!!!!!!!!!!!\n",
      "Not English!!!!!!!!!!!!!\n",
      "Not English!!!!!!!!!!!!!\n",
      "Not English!!!!!!!!!!!!!\n",
      "Not English!!!!!!!!!!!!!\n",
      "Not English!!!!!!!!!!!!!\n",
      "Not English!!!!!!!!!!!!!\n",
      "Not English!!!!!!!!!!!!!\n",
      "Not English!!!!!!!!!!!!!\n",
      "Not English!!!!!!!!!!!!!\n",
      "Not English!!!!!!!!!!!!!\n",
      "Not English!!!!!!!!!!!!!\n"
     ]
    },
    {
     "name": "stderr",
     "output_type": "stream",
     "text": [
      "/var/folders/s9/6ly2nsx50hg7kjfnghxs0bm80000gn/T/ipykernel_70507/198281822.py:15: SettingWithCopyWarning: \n",
      "A value is trying to be set on a copy of a slice from a DataFrame.\n",
      "Try using .loc[row_indexer,col_indexer] = value instead\n",
      "\n",
      "See the caveats in the documentation: https://pandas.pydata.org/pandas-docs/stable/user_guide/indexing.html#returning-a-view-versus-a-copy\n",
      "  df['language'] = df['reviewText'].apply(lan_check)\n"
     ]
    },
    {
     "name": "stdout",
     "output_type": "stream",
     "text": [
      "Finished:  660,000\n",
      "     with 29979 reviews\n",
      "Not English!!!!!!!!!!!!!\n",
      "Not English!!!!!!!!!!!!!\n",
      "Not English!!!!!!!!!!!!!\n",
      "Not English!!!!!!!!!!!!!\n",
      "Not English!!!!!!!!!!!!!\n",
      "Not English!!!!!!!!!!!!!\n",
      "Not English!!!!!!!!!!!!!\n",
      "Not English!!!!!!!!!!!!!\n",
      "Not English!!!!!!!!!!!!!\n",
      "Not English!!!!!!!!!!!!!\n",
      "Not English!!!!!!!!!!!!!\n",
      "Not English!!!!!!!!!!!!!\n",
      "Not English!!!!!!!!!!!!!\n",
      "Not English!!!!!!!!!!!!!\n",
      "Not English!!!!!!!!!!!!!\n",
      "Not English!!!!!!!!!!!!!\n",
      "Not English!!!!!!!!!!!!!\n",
      "Not English!!!!!!!!!!!!!\n",
      "Not English!!!!!!!!!!!!!\n",
      "Not English!!!!!!!!!!!!!\n",
      "Not English!!!!!!!!!!!!!\n",
      "Not English!!!!!!!!!!!!!\n",
      "Not English!!!!!!!!!!!!!\n",
      "Not English!!!!!!!!!!!!!\n",
      "Not English!!!!!!!!!!!!!\n",
      "Not English!!!!!!!!!!!!!\n",
      "Not English!!!!!!!!!!!!!\n",
      "Not English!!!!!!!!!!!!!\n",
      "Not English!!!!!!!!!!!!!\n",
      "Not English!!!!!!!!!!!!!\n",
      "631\n",
      "Not English!!!!!!!!!!!!!\n",
      "Not English!!!!!!!!!!!!!\n",
      "Not English!!!!!!!!!!!!!\n",
      "Not English!!!!!!!!!!!!!\n",
      "Not English!!!!!!!!!!!!!\n",
      "Not English!!!!!!!!!!!!!\n",
      "Not English!!!!!!!!!!!!!\n",
      "Not English!!!!!!!!!!!!!\n",
      "Not English!!!!!!!!!!!!!\n",
      "Not English!!!!!!!!!!!!!\n"
     ]
    },
    {
     "name": "stderr",
     "output_type": "stream",
     "text": [
      "/var/folders/s9/6ly2nsx50hg7kjfnghxs0bm80000gn/T/ipykernel_70507/198281822.py:15: SettingWithCopyWarning: \n",
      "A value is trying to be set on a copy of a slice from a DataFrame.\n",
      "Try using .loc[row_indexer,col_indexer] = value instead\n",
      "\n",
      "See the caveats in the documentation: https://pandas.pydata.org/pandas-docs/stable/user_guide/indexing.html#returning-a-view-versus-a-copy\n",
      "  df['language'] = df['reviewText'].apply(lan_check)\n"
     ]
    },
    {
     "name": "stdout",
     "output_type": "stream",
     "text": [
      "Finished:  690,000\n",
      "     with 29960 reviews\n",
      "Not English!!!!!!!!!!!!!\n",
      "Not English!!!!!!!!!!!!!\n",
      "Not English!!!!!!!!!!!!!\n",
      "Not English!!!!!!!!!!!!!\n",
      "Not English!!!!!!!!!!!!!\n",
      "Not English!!!!!!!!!!!!!\n",
      "Not English!!!!!!!!!!!!!\n",
      "Not English!!!!!!!!!!!!!\n",
      "Not English!!!!!!!!!!!!!\n",
      "Not English!!!!!!!!!!!!!\n",
      "Not English!!!!!!!!!!!!!\n",
      "Not English!!!!!!!!!!!!!\n",
      "Not English!!!!!!!!!!!!!\n",
      "Not English!!!!!!!!!!!!!\n",
      "Not English!!!!!!!!!!!!!\n",
      "Not English!!!!!!!!!!!!!\n",
      "Not English!!!!!!!!!!!!!\n",
      "Not English!!!!!!!!!!!!!\n",
      "Not English!!!!!!!!!!!!!\n",
      "Not English!!!!!!!!!!!!!\n",
      "Not English!!!!!!!!!!!!!\n",
      "Not English!!!!!!!!!!!!!\n",
      "Not English!!!!!!!!!!!!!\n",
      "Not English!!!!!!!!!!!!!\n",
      "Not English!!!!!!!!!!!!!\n",
      "Not English!!!!!!!!!!!!!\n"
     ]
    },
    {
     "name": "stderr",
     "output_type": "stream",
     "text": [
      "/var/folders/s9/6ly2nsx50hg7kjfnghxs0bm80000gn/T/ipykernel_70507/198281822.py:15: SettingWithCopyWarning: \n",
      "A value is trying to be set on a copy of a slice from a DataFrame.\n",
      "Try using .loc[row_indexer,col_indexer] = value instead\n",
      "\n",
      "See the caveats in the documentation: https://pandas.pydata.org/pandas-docs/stable/user_guide/indexing.html#returning-a-view-versus-a-copy\n",
      "  df['language'] = df['reviewText'].apply(lan_check)\n"
     ]
    },
    {
     "name": "stdout",
     "output_type": "stream",
     "text": [
      "Finished:  720,000\n",
      "     with 29974 reviews\n",
      "Not English!!!!!!!!!!!!!\n",
      "Not English!!!!!!!!!!!!!\n",
      "Not English!!!!!!!!!!!!!\n",
      "Not English!!!!!!!!!!!!!\n",
      "Not English!!!!!!!!!!!!!\n",
      "Not English!!!!!!!!!!!!!\n",
      "Not English!!!!!!!!!!!!!\n",
      "Not English!!!!!!!!!!!!!\n",
      "Not English!!!!!!!!!!!!!\n",
      "Not English!!!!!!!!!!!!!\n",
      "Not English!!!!!!!!!!!!!\n",
      "Not English!!!!!!!!!!!!!\n",
      "Not English!!!!!!!!!!!!!\n",
      "Not English!!!!!!!!!!!!!\n",
      "Not English!!!!!!!!!!!!!\n"
     ]
    },
    {
     "name": "stderr",
     "output_type": "stream",
     "text": [
      "/var/folders/s9/6ly2nsx50hg7kjfnghxs0bm80000gn/T/ipykernel_70507/198281822.py:15: SettingWithCopyWarning: \n",
      "A value is trying to be set on a copy of a slice from a DataFrame.\n",
      "Try using .loc[row_indexer,col_indexer] = value instead\n",
      "\n",
      "See the caveats in the documentation: https://pandas.pydata.org/pandas-docs/stable/user_guide/indexing.html#returning-a-view-versus-a-copy\n",
      "  df['language'] = df['reviewText'].apply(lan_check)\n"
     ]
    },
    {
     "name": "stdout",
     "output_type": "stream",
     "text": [
      "Finished:  750,000\n",
      "     with 29985 reviews\n",
      "Not English!!!!!!!!!!!!!\n",
      "Not English!!!!!!!!!!!!!\n",
      "Not English!!!!!!!!!!!!!\n",
      "Not English!!!!!!!!!!!!!\n",
      "Not English!!!!!!!!!!!!!\n",
      "Not English!!!!!!!!!!!!!\n",
      "Not English!!!!!!!!!!!!!\n",
      "Not English!!!!!!!!!!!!!\n",
      "Not English!!!!!!!!!!!!!\n",
      "Not English!!!!!!!!!!!!!\n",
      "Not English!!!!!!!!!!!!!\n",
      "Not English!!!!!!!!!!!!!\n",
      "Not English!!!!!!!!!!!!!\n",
      "Not English!!!!!!!!!!!!!\n",
      "Not English!!!!!!!!!!!!!\n",
      "Not English!!!!!!!!!!!!!\n",
      "Not English!!!!!!!!!!!!!\n",
      "Not English!!!!!!!!!!!!!\n",
      "Not English!!!!!!!!!!!!!\n",
      "Not English!!!!!!!!!!!!!\n",
      "Not English!!!!!!!!!!!!!\n",
      "Not English!!!!!!!!!!!!!\n",
      "Not English!!!!!!!!!!!!!\n",
      "Not English!!!!!!!!!!!!!\n",
      "Not English!!!!!!!!!!!!!\n"
     ]
    },
    {
     "name": "stderr",
     "output_type": "stream",
     "text": [
      "/var/folders/s9/6ly2nsx50hg7kjfnghxs0bm80000gn/T/ipykernel_70507/198281822.py:15: SettingWithCopyWarning: \n",
      "A value is trying to be set on a copy of a slice from a DataFrame.\n",
      "Try using .loc[row_indexer,col_indexer] = value instead\n",
      "\n",
      "See the caveats in the documentation: https://pandas.pydata.org/pandas-docs/stable/user_guide/indexing.html#returning-a-view-versus-a-copy\n",
      "  df['language'] = df['reviewText'].apply(lan_check)\n"
     ]
    },
    {
     "name": "stdout",
     "output_type": "stream",
     "text": [
      "Finished:  780,000\n",
      "     with 29975 reviews\n",
      "Not English!!!!!!!!!!!!!\n",
      "Not English!!!!!!!!!!!!!\n",
      "Not English!!!!!!!!!!!!!\n",
      "Not English!!!!!!!!!!!!!\n",
      "Not English!!!!!!!!!!!!!\n",
      "Not English!!!!!!!!!!!!!\n",
      "Not English!!!!!!!!!!!!!\n",
      "Not English!!!!!!!!!!!!!\n",
      "Not English!!!!!!!!!!!!!\n",
      "Not English!!!!!!!!!!!!!\n",
      "Not English!!!!!!!!!!!!!\n",
      "Not English!!!!!!!!!!!!!\n",
      "Not English!!!!!!!!!!!!!\n",
      "Not English!!!!!!!!!!!!!\n"
     ]
    },
    {
     "name": "stderr",
     "output_type": "stream",
     "text": [
      "/var/folders/s9/6ly2nsx50hg7kjfnghxs0bm80000gn/T/ipykernel_70507/198281822.py:15: SettingWithCopyWarning: \n",
      "A value is trying to be set on a copy of a slice from a DataFrame.\n",
      "Try using .loc[row_indexer,col_indexer] = value instead\n",
      "\n",
      "See the caveats in the documentation: https://pandas.pydata.org/pandas-docs/stable/user_guide/indexing.html#returning-a-view-versus-a-copy\n",
      "  df['language'] = df['reviewText'].apply(lan_check)\n"
     ]
    },
    {
     "name": "stdout",
     "output_type": "stream",
     "text": [
      "Finished:  810,000\n",
      "     with 29986 reviews\n",
      "Not English!!!!!!!!!!!!!\n",
      "Not English!!!!!!!!!!!!!\n",
      "Not English!!!!!!!!!!!!!\n",
      "Not English!!!!!!!!!!!!!\n",
      "Not English!!!!!!!!!!!!!\n",
      "Not English!!!!!!!!!!!!!\n",
      "Not English!!!!!!!!!!!!!\n",
      "Not English!!!!!!!!!!!!!\n",
      "Not English!!!!!!!!!!!!!\n",
      "Not English!!!!!!!!!!!!!\n",
      "Not English!!!!!!!!!!!!!\n",
      "Not English!!!!!!!!!!!!!\n",
      "Not English!!!!!!!!!!!!!\n",
      "Not English!!!!!!!!!!!!!\n",
      "Not English!!!!!!!!!!!!!\n",
      "Not English!!!!!!!!!!!!!\n"
     ]
    },
    {
     "name": "stderr",
     "output_type": "stream",
     "text": [
      "/var/folders/s9/6ly2nsx50hg7kjfnghxs0bm80000gn/T/ipykernel_70507/198281822.py:15: SettingWithCopyWarning: \n",
      "A value is trying to be set on a copy of a slice from a DataFrame.\n",
      "Try using .loc[row_indexer,col_indexer] = value instead\n",
      "\n",
      "See the caveats in the documentation: https://pandas.pydata.org/pandas-docs/stable/user_guide/indexing.html#returning-a-view-versus-a-copy\n",
      "  df['language'] = df['reviewText'].apply(lan_check)\n"
     ]
    },
    {
     "name": "stdout",
     "output_type": "stream",
     "text": [
      "Finished:  840,000\n",
      "     with 29984 reviews\n",
      "Not English!!!!!!!!!!!!!\n",
      "198\n",
      "Not English!!!!!!!!!!!!!\n",
      "Not English!!!!!!!!!!!!!\n",
      "Not English!!!!!!!!!!!!!\n",
      "Not English!!!!!!!!!!!!!\n",
      "Not English!!!!!!!!!!!!!\n",
      "Not English!!!!!!!!!!!!!\n",
      "Not English!!!!!!!!!!!!!\n",
      "Not English!!!!!!!!!!!!!\n",
      "Not English!!!!!!!!!!!!!\n",
      "Not English!!!!!!!!!!!!!\n",
      "Not English!!!!!!!!!!!!!\n",
      "Not English!!!!!!!!!!!!!\n",
      "Not English!!!!!!!!!!!!!\n"
     ]
    },
    {
     "name": "stderr",
     "output_type": "stream",
     "text": [
      "/var/folders/s9/6ly2nsx50hg7kjfnghxs0bm80000gn/T/ipykernel_70507/198281822.py:15: SettingWithCopyWarning: \n",
      "A value is trying to be set on a copy of a slice from a DataFrame.\n",
      "Try using .loc[row_indexer,col_indexer] = value instead\n",
      "\n",
      "See the caveats in the documentation: https://pandas.pydata.org/pandas-docs/stable/user_guide/indexing.html#returning-a-view-versus-a-copy\n",
      "  df['language'] = df['reviewText'].apply(lan_check)\n"
     ]
    },
    {
     "name": "stdout",
     "output_type": "stream",
     "text": [
      "Finished:  870,000\n",
      "     with 29986 reviews\n",
      "Not English!!!!!!!!!!!!!\n",
      "Not English!!!!!!!!!!!!!\n",
      "Not English!!!!!!!!!!!!!\n",
      "Not English!!!!!!!!!!!!!\n",
      "Not English!!!!!!!!!!!!!\n",
      "Not English!!!!!!!!!!!!!\n",
      "Not English!!!!!!!!!!!!!\n",
      "Not English!!!!!!!!!!!!!\n",
      "Not English!!!!!!!!!!!!!\n",
      "Not English!!!!!!!!!!!!!\n",
      "Not English!!!!!!!!!!!!!\n",
      "Not English!!!!!!!!!!!!!\n",
      "Not English!!!!!!!!!!!!!\n",
      "Not English!!!!!!!!!!!!!\n"
     ]
    },
    {
     "name": "stderr",
     "output_type": "stream",
     "text": [
      "/var/folders/s9/6ly2nsx50hg7kjfnghxs0bm80000gn/T/ipykernel_70507/198281822.py:15: SettingWithCopyWarning: \n",
      "A value is trying to be set on a copy of a slice from a DataFrame.\n",
      "Try using .loc[row_indexer,col_indexer] = value instead\n",
      "\n",
      "See the caveats in the documentation: https://pandas.pydata.org/pandas-docs/stable/user_guide/indexing.html#returning-a-view-versus-a-copy\n",
      "  df['language'] = df['reviewText'].apply(lan_check)\n"
     ]
    },
    {
     "name": "stdout",
     "output_type": "stream",
     "text": [
      "Finished:  900,000\n",
      "     with 29986 reviews\n",
      "Not English!!!!!!!!!!!!!\n",
      "Not English!!!!!!!!!!!!!\n",
      "Not English!!!!!!!!!!!!!\n",
      "Not English!!!!!!!!!!!!!\n",
      "Not English!!!!!!!!!!!!!\n",
      "Not English!!!!!!!!!!!!!\n",
      "Not English!!!!!!!!!!!!!\n",
      "Not English!!!!!!!!!!!!!\n",
      "Not English!!!!!!!!!!!!!\n",
      "Not English!!!!!!!!!!!!!\n",
      "Not English!!!!!!!!!!!!!\n",
      "Not English!!!!!!!!!!!!!\n",
      "Not English!!!!!!!!!!!!!\n",
      "Not English!!!!!!!!!!!!!\n",
      "Not English!!!!!!!!!!!!!\n",
      "Not English!!!!!!!!!!!!!\n",
      "Not English!!!!!!!!!!!!!\n",
      "Not English!!!!!!!!!!!!!\n",
      "Not English!!!!!!!!!!!!!\n",
      "Not English!!!!!!!!!!!!!\n",
      "Not English!!!!!!!!!!!!!\n",
      "Not English!!!!!!!!!!!!!\n",
      "Not English!!!!!!!!!!!!!\n"
     ]
    },
    {
     "name": "stderr",
     "output_type": "stream",
     "text": [
      "/var/folders/s9/6ly2nsx50hg7kjfnghxs0bm80000gn/T/ipykernel_70507/198281822.py:15: SettingWithCopyWarning: \n",
      "A value is trying to be set on a copy of a slice from a DataFrame.\n",
      "Try using .loc[row_indexer,col_indexer] = value instead\n",
      "\n",
      "See the caveats in the documentation: https://pandas.pydata.org/pandas-docs/stable/user_guide/indexing.html#returning-a-view-versus-a-copy\n",
      "  df['language'] = df['reviewText'].apply(lan_check)\n"
     ]
    },
    {
     "name": "stdout",
     "output_type": "stream",
     "text": [
      "Finished:  930,000\n",
      "     with 29977 reviews\n",
      "Not English!!!!!!!!!!!!!\n",
      "Not English!!!!!!!!!!!!!\n",
      "Not English!!!!!!!!!!!!!\n",
      "Not English!!!!!!!!!!!!!\n",
      "Not English!!!!!!!!!!!!!\n",
      "Not English!!!!!!!!!!!!!\n",
      "Not English!!!!!!!!!!!!!\n",
      "Not English!!!!!!!!!!!!!\n",
      "Not English!!!!!!!!!!!!!\n"
     ]
    },
    {
     "name": "stderr",
     "output_type": "stream",
     "text": [
      "/var/folders/s9/6ly2nsx50hg7kjfnghxs0bm80000gn/T/ipykernel_70507/198281822.py:15: SettingWithCopyWarning: \n",
      "A value is trying to be set on a copy of a slice from a DataFrame.\n",
      "Try using .loc[row_indexer,col_indexer] = value instead\n",
      "\n",
      "See the caveats in the documentation: https://pandas.pydata.org/pandas-docs/stable/user_guide/indexing.html#returning-a-view-versus-a-copy\n",
      "  df['language'] = df['reviewText'].apply(lan_check)\n"
     ]
    },
    {
     "name": "stdout",
     "output_type": "stream",
     "text": [
      "Finished:  960,000\n",
      "     with 29991 reviews\n",
      "Not English!!!!!!!!!!!!!\n",
      "Not English!!!!!!!!!!!!!\n",
      "Not English!!!!!!!!!!!!!\n",
      "Not English!!!!!!!!!!!!!\n",
      "Not English!!!!!!!!!!!!!\n",
      "Not English!!!!!!!!!!!!!\n",
      "Not English!!!!!!!!!!!!!\n",
      "Not English!!!!!!!!!!!!!\n",
      "Not English!!!!!!!!!!!!!\n",
      "Not English!!!!!!!!!!!!!\n",
      "Not English!!!!!!!!!!!!!\n",
      "Not English!!!!!!!!!!!!!\n",
      "Not English!!!!!!!!!!!!!\n",
      "Not English!!!!!!!!!!!!!\n",
      "Not English!!!!!!!!!!!!!\n",
      "Not English!!!!!!!!!!!!!\n",
      "Not English!!!!!!!!!!!!!\n",
      "Not English!!!!!!!!!!!!!\n",
      "Not English!!!!!!!!!!!!!\n",
      "Not English!!!!!!!!!!!!!\n",
      "Not English!!!!!!!!!!!!!\n",
      "Not English!!!!!!!!!!!!!\n"
     ]
    },
    {
     "name": "stderr",
     "output_type": "stream",
     "text": [
      "/var/folders/s9/6ly2nsx50hg7kjfnghxs0bm80000gn/T/ipykernel_70507/198281822.py:15: SettingWithCopyWarning: \n",
      "A value is trying to be set on a copy of a slice from a DataFrame.\n",
      "Try using .loc[row_indexer,col_indexer] = value instead\n",
      "\n",
      "See the caveats in the documentation: https://pandas.pydata.org/pandas-docs/stable/user_guide/indexing.html#returning-a-view-versus-a-copy\n",
      "  df['language'] = df['reviewText'].apply(lan_check)\n"
     ]
    },
    {
     "name": "stdout",
     "output_type": "stream",
     "text": [
      "Finished:  990,000\n",
      "     with 29978 reviews\n",
      "Not English!!!!!!!!!!!!!\n",
      "Not English!!!!!!!!!!!!!\n",
      "Not English!!!!!!!!!!!!!\n",
      "Not English!!!!!!!!!!!!!\n",
      "Not English!!!!!!!!!!!!!\n",
      "Not English!!!!!!!!!!!!!\n",
      "Not English!!!!!!!!!!!!!\n",
      "Not English!!!!!!!!!!!!!\n",
      "Not English!!!!!!!!!!!!!\n",
      "Not English!!!!!!!!!!!!!\n",
      "Not English!!!!!!!!!!!!!\n",
      "Not English!!!!!!!!!!!!!\n",
      "Not English!!!!!!!!!!!!!\n",
      "Not English!!!!!!!!!!!!!\n",
      "Not English!!!!!!!!!!!!!\n",
      "Not English!!!!!!!!!!!!!\n",
      "Not English!!!!!!!!!!!!!\n",
      "Not English!!!!!!!!!!!!!\n",
      "Not English!!!!!!!!!!!!!\n",
      "Not English!!!!!!!!!!!!!\n",
      "Not English!!!!!!!!!!!!!\n",
      "Not English!!!!!!!!!!!!!\n",
      "Not English!!!!!!!!!!!!!\n",
      "Not English!!!!!!!!!!!!!\n",
      "Not English!!!!!!!!!!!!!\n",
      "Not English!!!!!!!!!!!!!\n",
      "Not English!!!!!!!!!!!!!\n",
      "Not English!!!!!!!!!!!!!\n",
      "Not English!!!!!!!!!!!!!\n",
      "Not English!!!!!!!!!!!!!\n",
      "Not English!!!!!!!!!!!!!\n",
      "Not English!!!!!!!!!!!!!\n",
      "Not English!!!!!!!!!!!!!\n",
      "Not English!!!!!!!!!!!!!\n",
      "Not English!!!!!!!!!!!!!\n",
      "Not English!!!!!!!!!!!!!\n",
      "Not English!!!!!!!!!!!!!\n",
      "Not English!!!!!!!!!!!!!\n",
      "Not English!!!!!!!!!!!!!\n",
      "Not English!!!!!!!!!!!!!\n",
      "Not English!!!!!!!!!!!!!\n",
      "Not English!!!!!!!!!!!!!\n",
      "Not English!!!!!!!!!!!!!\n",
      "Not English!!!!!!!!!!!!!\n",
      "Not English!!!!!!!!!!!!!\n"
     ]
    },
    {
     "name": "stderr",
     "output_type": "stream",
     "text": [
      "/var/folders/s9/6ly2nsx50hg7kjfnghxs0bm80000gn/T/ipykernel_70507/198281822.py:15: SettingWithCopyWarning: \n",
      "A value is trying to be set on a copy of a slice from a DataFrame.\n",
      "Try using .loc[row_indexer,col_indexer] = value instead\n",
      "\n",
      "See the caveats in the documentation: https://pandas.pydata.org/pandas-docs/stable/user_guide/indexing.html#returning-a-view-versus-a-copy\n",
      "  df['language'] = df['reviewText'].apply(lan_check)\n"
     ]
    },
    {
     "name": "stdout",
     "output_type": "stream",
     "text": [
      "Finished:  1020,000\n",
      "     with 29955 reviews\n",
      "Not English!!!!!!!!!!!!!\n",
      "Not English!!!!!!!!!!!!!\n",
      "Not English!!!!!!!!!!!!!\n",
      "Not English!!!!!!!!!!!!!\n",
      "Not English!!!!!!!!!!!!!\n",
      "Not English!!!!!!!!!!!!!\n",
      "Not English!!!!!!!!!!!!!\n",
      "Not English!!!!!!!!!!!!!\n",
      "Not English!!!!!!!!!!!!!\n",
      "Not English!!!!!!!!!!!!!\n",
      "Not English!!!!!!!!!!!!!\n",
      "Not English!!!!!!!!!!!!!\n",
      "Not English!!!!!!!!!!!!!\n",
      "Not English!!!!!!!!!!!!!\n",
      "Not English!!!!!!!!!!!!!\n",
      "Not English!!!!!!!!!!!!!\n",
      "Not English!!!!!!!!!!!!!\n",
      "Not English!!!!!!!!!!!!!\n",
      "Not English!!!!!!!!!!!!!\n",
      "Not English!!!!!!!!!!!!!\n",
      "Not English!!!!!!!!!!!!!\n",
      "Not English!!!!!!!!!!!!!\n"
     ]
    },
    {
     "name": "stderr",
     "output_type": "stream",
     "text": [
      "/var/folders/s9/6ly2nsx50hg7kjfnghxs0bm80000gn/T/ipykernel_70507/198281822.py:15: SettingWithCopyWarning: \n",
      "A value is trying to be set on a copy of a slice from a DataFrame.\n",
      "Try using .loc[row_indexer,col_indexer] = value instead\n",
      "\n",
      "See the caveats in the documentation: https://pandas.pydata.org/pandas-docs/stable/user_guide/indexing.html#returning-a-view-versus-a-copy\n",
      "  df['language'] = df['reviewText'].apply(lan_check)\n"
     ]
    },
    {
     "name": "stdout",
     "output_type": "stream",
     "text": [
      "Finished:  1050,000\n",
      "     with 29978 reviews\n",
      "Not English!!!!!!!!!!!!!\n",
      "Not English!!!!!!!!!!!!!\n",
      "Not English!!!!!!!!!!!!!\n",
      "Not English!!!!!!!!!!!!!\n",
      "Not English!!!!!!!!!!!!!\n",
      "Not English!!!!!!!!!!!!!\n",
      "Not English!!!!!!!!!!!!!\n",
      "Not English!!!!!!!!!!!!!\n",
      "Not English!!!!!!!!!!!!!\n",
      "Not English!!!!!!!!!!!!!\n",
      "Not English!!!!!!!!!!!!!\n",
      "Not English!!!!!!!!!!!!!\n",
      "Not English!!!!!!!!!!!!!\n",
      "Not English!!!!!!!!!!!!!\n",
      "Not English!!!!!!!!!!!!!\n",
      "Not English!!!!!!!!!!!!!\n",
      "Not English!!!!!!!!!!!!!\n",
      "Not English!!!!!!!!!!!!!\n",
      "Not English!!!!!!!!!!!!!\n",
      "Not English!!!!!!!!!!!!!\n",
      "Not English!!!!!!!!!!!!!\n",
      "Not English!!!!!!!!!!!!!\n",
      "Not English!!!!!!!!!!!!!\n",
      "Not English!!!!!!!!!!!!!\n",
      "Not English!!!!!!!!!!!!!\n",
      "Not English!!!!!!!!!!!!!\n",
      "Not English!!!!!!!!!!!!!\n",
      "Not English!!!!!!!!!!!!!\n",
      "Not English!!!!!!!!!!!!!\n",
      "Not English!!!!!!!!!!!!!\n",
      "Not English!!!!!!!!!!!!!\n",
      "Not English!!!!!!!!!!!!!\n",
      "Not English!!!!!!!!!!!!!\n",
      "Not English!!!!!!!!!!!!!\n",
      "Not English!!!!!!!!!!!!!\n",
      "Not English!!!!!!!!!!!!!\n",
      "Not English!!!!!!!!!!!!!\n",
      "Not English!!!!!!!!!!!!!\n",
      "Not English!!!!!!!!!!!!!\n",
      "Not English!!!!!!!!!!!!!\n",
      "Not English!!!!!!!!!!!!!\n",
      "Not English!!!!!!!!!!!!!\n"
     ]
    },
    {
     "name": "stderr",
     "output_type": "stream",
     "text": [
      "/var/folders/s9/6ly2nsx50hg7kjfnghxs0bm80000gn/T/ipykernel_70507/198281822.py:15: SettingWithCopyWarning: \n",
      "A value is trying to be set on a copy of a slice from a DataFrame.\n",
      "Try using .loc[row_indexer,col_indexer] = value instead\n",
      "\n",
      "See the caveats in the documentation: https://pandas.pydata.org/pandas-docs/stable/user_guide/indexing.html#returning-a-view-versus-a-copy\n",
      "  df['language'] = df['reviewText'].apply(lan_check)\n"
     ]
    },
    {
     "name": "stdout",
     "output_type": "stream",
     "text": [
      "Finished:  1080,000\n",
      "     with 29958 reviews\n",
      "Not English!!!!!!!!!!!!!\n",
      "Not English!!!!!!!!!!!!!\n",
      "Not English!!!!!!!!!!!!!\n",
      "Not English!!!!!!!!!!!!!\n",
      "Not English!!!!!!!!!!!!!\n",
      "Not English!!!!!!!!!!!!!\n",
      "Not English!!!!!!!!!!!!!\n",
      "Not English!!!!!!!!!!!!!\n",
      "Not English!!!!!!!!!!!!!\n",
      "Not English!!!!!!!!!!!!!\n",
      "Not English!!!!!!!!!!!!!\n",
      "817\n",
      "Not English!!!!!!!!!!!!!\n",
      "Not English!!!!!!!!!!!!!\n",
      "Not English!!!!!!!!!!!!!\n",
      "Not English!!!!!!!!!!!!!\n",
      "7109\n",
      "Not English!!!!!!!!!!!!!\n",
      "Not English!!!!!!!!!!!!!\n",
      "Not English!!!!!!!!!!!!!\n",
      "Not English!!!!!!!!!!!!!\n",
      "Not English!!!!!!!!!!!!!\n",
      "Not English!!!!!!!!!!!!!\n",
      "Not English!!!!!!!!!!!!!\n",
      "Not English!!!!!!!!!!!!!\n",
      "Not English!!!!!!!!!!!!!\n",
      "Not English!!!!!!!!!!!!!\n",
      "Not English!!!!!!!!!!!!!\n",
      "Not English!!!!!!!!!!!!!\n",
      "Not English!!!!!!!!!!!!!\n",
      "Not English!!!!!!!!!!!!!\n",
      "Not English!!!!!!!!!!!!!\n",
      "Not English!!!!!!!!!!!!!\n",
      "Not English!!!!!!!!!!!!!\n",
      "Not English!!!!!!!!!!!!!\n",
      "Not English!!!!!!!!!!!!!\n",
      "Not English!!!!!!!!!!!!!\n",
      "Not English!!!!!!!!!!!!!\n",
      "Not English!!!!!!!!!!!!!\n",
      "Not English!!!!!!!!!!!!!\n",
      "Not English!!!!!!!!!!!!!\n",
      "Not English!!!!!!!!!!!!!\n",
      "Not English!!!!!!!!!!!!!\n",
      "Not English!!!!!!!!!!!!!\n",
      "Not English!!!!!!!!!!!!!\n",
      "Not English!!!!!!!!!!!!!\n",
      "Not English!!!!!!!!!!!!!\n",
      "Not English!!!!!!!!!!!!!\n",
      "Not English!!!!!!!!!!!!!\n"
     ]
    },
    {
     "name": "stderr",
     "output_type": "stream",
     "text": [
      "/var/folders/s9/6ly2nsx50hg7kjfnghxs0bm80000gn/T/ipykernel_70507/198281822.py:15: SettingWithCopyWarning: \n",
      "A value is trying to be set on a copy of a slice from a DataFrame.\n",
      "Try using .loc[row_indexer,col_indexer] = value instead\n",
      "\n",
      "See the caveats in the documentation: https://pandas.pydata.org/pandas-docs/stable/user_guide/indexing.html#returning-a-view-versus-a-copy\n",
      "  df['language'] = df['reviewText'].apply(lan_check)\n"
     ]
    },
    {
     "name": "stdout",
     "output_type": "stream",
     "text": [
      "Finished:  1110,000\n",
      "     with 29953 reviews\n",
      "Not English!!!!!!!!!!!!!\n",
      "Not English!!!!!!!!!!!!!\n",
      "Not English!!!!!!!!!!!!!\n",
      "Not English!!!!!!!!!!!!!\n",
      "Not English!!!!!!!!!!!!!\n",
      "Not English!!!!!!!!!!!!!\n",
      "Not English!!!!!!!!!!!!!\n",
      "Not English!!!!!!!!!!!!!\n",
      "Not English!!!!!!!!!!!!!\n",
      "Not English!!!!!!!!!!!!!\n",
      "Not English!!!!!!!!!!!!!\n",
      "Not English!!!!!!!!!!!!!\n",
      "Not English!!!!!!!!!!!!!\n",
      "Not English!!!!!!!!!!!!!\n",
      "Not English!!!!!!!!!!!!!\n",
      "Not English!!!!!!!!!!!!!\n",
      "Not English!!!!!!!!!!!!!\n"
     ]
    },
    {
     "name": "stderr",
     "output_type": "stream",
     "text": [
      "/var/folders/s9/6ly2nsx50hg7kjfnghxs0bm80000gn/T/ipykernel_70507/198281822.py:15: SettingWithCopyWarning: \n",
      "A value is trying to be set on a copy of a slice from a DataFrame.\n",
      "Try using .loc[row_indexer,col_indexer] = value instead\n",
      "\n",
      "See the caveats in the documentation: https://pandas.pydata.org/pandas-docs/stable/user_guide/indexing.html#returning-a-view-versus-a-copy\n",
      "  df['language'] = df['reviewText'].apply(lan_check)\n"
     ]
    },
    {
     "name": "stdout",
     "output_type": "stream",
     "text": [
      "Finished:  1140,000\n",
      "     with 29983 reviews\n",
      "Not English!!!!!!!!!!!!!\n",
      "Not English!!!!!!!!!!!!!\n",
      "Not English!!!!!!!!!!!!!\n",
      "Not English!!!!!!!!!!!!!\n",
      "Not English!!!!!!!!!!!!!\n",
      "Not English!!!!!!!!!!!!!\n",
      "Not English!!!!!!!!!!!!!\n",
      "Not English!!!!!!!!!!!!!\n",
      "Not English!!!!!!!!!!!!!\n",
      "Not English!!!!!!!!!!!!!\n",
      "Not English!!!!!!!!!!!!!\n",
      "Not English!!!!!!!!!!!!!\n",
      "Not English!!!!!!!!!!!!!\n",
      "Not English!!!!!!!!!!!!!\n",
      "Not English!!!!!!!!!!!!!\n",
      "Not English!!!!!!!!!!!!!\n",
      "Not English!!!!!!!!!!!!!\n",
      "Not English!!!!!!!!!!!!!\n",
      "Not English!!!!!!!!!!!!!\n",
      "Not English!!!!!!!!!!!!!\n",
      "Not English!!!!!!!!!!!!!\n",
      "Not English!!!!!!!!!!!!!\n",
      "Not English!!!!!!!!!!!!!\n",
      "Not English!!!!!!!!!!!!!\n",
      "Not English!!!!!!!!!!!!!\n",
      "Not English!!!!!!!!!!!!!\n"
     ]
    },
    {
     "name": "stderr",
     "output_type": "stream",
     "text": [
      "/var/folders/s9/6ly2nsx50hg7kjfnghxs0bm80000gn/T/ipykernel_70507/198281822.py:15: SettingWithCopyWarning: \n",
      "A value is trying to be set on a copy of a slice from a DataFrame.\n",
      "Try using .loc[row_indexer,col_indexer] = value instead\n",
      "\n",
      "See the caveats in the documentation: https://pandas.pydata.org/pandas-docs/stable/user_guide/indexing.html#returning-a-view-versus-a-copy\n",
      "  df['language'] = df['reviewText'].apply(lan_check)\n"
     ]
    },
    {
     "name": "stdout",
     "output_type": "stream",
     "text": [
      "Finished:  1170,000\n",
      "     with 29974 reviews\n",
      "Not English!!!!!!!!!!!!!\n",
      "Not English!!!!!!!!!!!!!\n",
      "Not English!!!!!!!!!!!!!\n",
      "Not English!!!!!!!!!!!!!\n",
      "Not English!!!!!!!!!!!!!\n",
      "Not English!!!!!!!!!!!!!\n",
      "Not English!!!!!!!!!!!!!\n",
      "Not English!!!!!!!!!!!!!\n",
      "Not English!!!!!!!!!!!!!\n",
      "Not English!!!!!!!!!!!!!\n",
      "Not English!!!!!!!!!!!!!\n",
      "Not English!!!!!!!!!!!!!\n",
      "Not English!!!!!!!!!!!!!\n",
      "Not English!!!!!!!!!!!!!\n",
      "Not English!!!!!!!!!!!!!\n",
      "Not English!!!!!!!!!!!!!\n",
      "Not English!!!!!!!!!!!!!\n",
      "Not English!!!!!!!!!!!!!\n",
      "Not English!!!!!!!!!!!!!\n",
      "Not English!!!!!!!!!!!!!\n",
      "Not English!!!!!!!!!!!!!\n"
     ]
    },
    {
     "name": "stderr",
     "output_type": "stream",
     "text": [
      "/var/folders/s9/6ly2nsx50hg7kjfnghxs0bm80000gn/T/ipykernel_70507/198281822.py:15: SettingWithCopyWarning: \n",
      "A value is trying to be set on a copy of a slice from a DataFrame.\n",
      "Try using .loc[row_indexer,col_indexer] = value instead\n",
      "\n",
      "See the caveats in the documentation: https://pandas.pydata.org/pandas-docs/stable/user_guide/indexing.html#returning-a-view-versus-a-copy\n",
      "  df['language'] = df['reviewText'].apply(lan_check)\n"
     ]
    },
    {
     "name": "stdout",
     "output_type": "stream",
     "text": [
      "Finished:  1200,000\n",
      "     with 29979 reviews\n",
      "Not English!!!!!!!!!!!!!\n",
      "Not English!!!!!!!!!!!!!\n",
      "Not English!!!!!!!!!!!!!\n",
      "Not English!!!!!!!!!!!!!\n",
      "Not English!!!!!!!!!!!!!\n",
      "Not English!!!!!!!!!!!!!\n",
      "Not English!!!!!!!!!!!!!\n",
      "Not English!!!!!!!!!!!!!\n",
      "Not English!!!!!!!!!!!!!\n",
      "Not English!!!!!!!!!!!!!\n",
      "Not English!!!!!!!!!!!!!\n",
      "Not English!!!!!!!!!!!!!\n",
      "Not English!!!!!!!!!!!!!\n"
     ]
    },
    {
     "name": "stderr",
     "output_type": "stream",
     "text": [
      "/var/folders/s9/6ly2nsx50hg7kjfnghxs0bm80000gn/T/ipykernel_70507/198281822.py:15: SettingWithCopyWarning: \n",
      "A value is trying to be set on a copy of a slice from a DataFrame.\n",
      "Try using .loc[row_indexer,col_indexer] = value instead\n",
      "\n",
      "See the caveats in the documentation: https://pandas.pydata.org/pandas-docs/stable/user_guide/indexing.html#returning-a-view-versus-a-copy\n",
      "  df['language'] = df['reviewText'].apply(lan_check)\n"
     ]
    },
    {
     "name": "stdout",
     "output_type": "stream",
     "text": [
      "Finished:  1230,000\n",
      "     with 29987 reviews\n",
      "Not English!!!!!!!!!!!!!\n",
      "Not English!!!!!!!!!!!!!\n",
      "Not English!!!!!!!!!!!!!\n",
      "Not English!!!!!!!!!!!!!\n",
      "Not English!!!!!!!!!!!!!\n",
      "Not English!!!!!!!!!!!!!\n",
      "Not English!!!!!!!!!!!!!\n",
      "Not English!!!!!!!!!!!!!\n",
      "Not English!!!!!!!!!!!!!\n",
      "Not English!!!!!!!!!!!!!\n",
      "Not English!!!!!!!!!!!!!\n",
      "Not English!!!!!!!!!!!!!\n",
      "Not English!!!!!!!!!!!!!\n",
      "Not English!!!!!!!!!!!!!\n",
      "Not English!!!!!!!!!!!!!\n",
      "Not English!!!!!!!!!!!!!\n",
      "Not English!!!!!!!!!!!!!\n",
      "Not English!!!!!!!!!!!!!\n",
      "Not English!!!!!!!!!!!!!\n",
      "Not English!!!!!!!!!!!!!\n"
     ]
    },
    {
     "name": "stderr",
     "output_type": "stream",
     "text": [
      "/var/folders/s9/6ly2nsx50hg7kjfnghxs0bm80000gn/T/ipykernel_70507/198281822.py:15: SettingWithCopyWarning: \n",
      "A value is trying to be set on a copy of a slice from a DataFrame.\n",
      "Try using .loc[row_indexer,col_indexer] = value instead\n",
      "\n",
      "See the caveats in the documentation: https://pandas.pydata.org/pandas-docs/stable/user_guide/indexing.html#returning-a-view-versus-a-copy\n",
      "  df['language'] = df['reviewText'].apply(lan_check)\n"
     ]
    },
    {
     "name": "stdout",
     "output_type": "stream",
     "text": [
      "Finished:  1260,000\n",
      "     with 29980 reviews\n",
      "Not English!!!!!!!!!!!!!\n",
      "Not English!!!!!!!!!!!!!\n",
      "Not English!!!!!!!!!!!!!\n",
      "Not English!!!!!!!!!!!!!\n",
      "Not English!!!!!!!!!!!!!\n",
      "Not English!!!!!!!!!!!!!\n",
      "Not English!!!!!!!!!!!!!\n",
      "Not English!!!!!!!!!!!!!\n",
      "Not English!!!!!!!!!!!!!\n",
      "Not English!!!!!!!!!!!!!\n",
      "Not English!!!!!!!!!!!!!\n",
      "Not English!!!!!!!!!!!!!\n",
      "Not English!!!!!!!!!!!!!\n",
      "Not English!!!!!!!!!!!!!\n",
      "Not English!!!!!!!!!!!!!\n",
      "Not English!!!!!!!!!!!!!\n",
      "Not English!!!!!!!!!!!!!\n",
      "Not English!!!!!!!!!!!!!\n",
      "Not English!!!!!!!!!!!!!\n",
      "Not English!!!!!!!!!!!!!\n",
      "Not English!!!!!!!!!!!!!\n",
      "Not English!!!!!!!!!!!!!\n",
      "Not English!!!!!!!!!!!!!\n",
      "Not English!!!!!!!!!!!!!\n",
      "Not English!!!!!!!!!!!!!\n",
      "Not English!!!!!!!!!!!!!\n",
      "Not English!!!!!!!!!!!!!\n",
      "Not English!!!!!!!!!!!!!\n",
      "Not English!!!!!!!!!!!!!\n",
      "Not English!!!!!!!!!!!!!\n",
      "Not English!!!!!!!!!!!!!\n",
      "Not English!!!!!!!!!!!!!\n",
      "Not English!!!!!!!!!!!!!\n",
      "Not English!!!!!!!!!!!!!\n",
      "Not English!!!!!!!!!!!!!\n",
      "Not English!!!!!!!!!!!!!\n",
      "Not English!!!!!!!!!!!!!\n",
      "Not English!!!!!!!!!!!!!\n",
      "Not English!!!!!!!!!!!!!\n",
      "Not English!!!!!!!!!!!!!\n",
      "Not English!!!!!!!!!!!!!\n",
      "Not English!!!!!!!!!!!!!\n",
      "169\n",
      "Not English!!!!!!!!!!!!!\n",
      "Not English!!!!!!!!!!!!!\n"
     ]
    },
    {
     "name": "stderr",
     "output_type": "stream",
     "text": [
      "/var/folders/s9/6ly2nsx50hg7kjfnghxs0bm80000gn/T/ipykernel_70507/198281822.py:15: SettingWithCopyWarning: \n",
      "A value is trying to be set on a copy of a slice from a DataFrame.\n",
      "Try using .loc[row_indexer,col_indexer] = value instead\n",
      "\n",
      "See the caveats in the documentation: https://pandas.pydata.org/pandas-docs/stable/user_guide/indexing.html#returning-a-view-versus-a-copy\n",
      "  df['language'] = df['reviewText'].apply(lan_check)\n"
     ]
    },
    {
     "name": "stdout",
     "output_type": "stream",
     "text": [
      "Finished:  1290,000\n",
      "     with 29956 reviews\n",
      "Not English!!!!!!!!!!!!!\n",
      "Not English!!!!!!!!!!!!!\n",
      "Not English!!!!!!!!!!!!!\n",
      "Not English!!!!!!!!!!!!!\n",
      "Not English!!!!!!!!!!!!!\n",
      "Not English!!!!!!!!!!!!!\n",
      "Not English!!!!!!!!!!!!!\n",
      "Not English!!!!!!!!!!!!!\n",
      "Not English!!!!!!!!!!!!!\n",
      "Not English!!!!!!!!!!!!!\n",
      "Not English!!!!!!!!!!!!!\n",
      "Not English!!!!!!!!!!!!!\n",
      "Not English!!!!!!!!!!!!!\n",
      "Not English!!!!!!!!!!!!!\n",
      "Not English!!!!!!!!!!!!!\n",
      "Not English!!!!!!!!!!!!!\n",
      "Not English!!!!!!!!!!!!!\n",
      "Not English!!!!!!!!!!!!!\n",
      "Not English!!!!!!!!!!!!!\n",
      "Not English!!!!!!!!!!!!!\n",
      "Not English!!!!!!!!!!!!!\n",
      "Not English!!!!!!!!!!!!!\n",
      "Not English!!!!!!!!!!!!!\n",
      "Not English!!!!!!!!!!!!!\n",
      "Not English!!!!!!!!!!!!!\n",
      "Not English!!!!!!!!!!!!!\n",
      "Not English!!!!!!!!!!!!!\n",
      "Not English!!!!!!!!!!!!!\n",
      "Not English!!!!!!!!!!!!!\n",
      "Not English!!!!!!!!!!!!!\n",
      "Not English!!!!!!!!!!!!!\n",
      "Not English!!!!!!!!!!!!!\n",
      "Not English!!!!!!!!!!!!!\n",
      "Not English!!!!!!!!!!!!!\n",
      "Not English!!!!!!!!!!!!!\n",
      "Not English!!!!!!!!!!!!!\n",
      "Not English!!!!!!!!!!!!!\n",
      "Not English!!!!!!!!!!!!!\n",
      "Not English!!!!!!!!!!!!!\n",
      "Not English!!!!!!!!!!!!!\n",
      "Not English!!!!!!!!!!!!!\n",
      "Not English!!!!!!!!!!!!!\n"
     ]
    },
    {
     "name": "stderr",
     "output_type": "stream",
     "text": [
      "/var/folders/s9/6ly2nsx50hg7kjfnghxs0bm80000gn/T/ipykernel_70507/198281822.py:15: SettingWithCopyWarning: \n",
      "A value is trying to be set on a copy of a slice from a DataFrame.\n",
      "Try using .loc[row_indexer,col_indexer] = value instead\n",
      "\n",
      "See the caveats in the documentation: https://pandas.pydata.org/pandas-docs/stable/user_guide/indexing.html#returning-a-view-versus-a-copy\n",
      "  df['language'] = df['reviewText'].apply(lan_check)\n"
     ]
    },
    {
     "name": "stdout",
     "output_type": "stream",
     "text": [
      "Finished:  1320,000\n",
      "     with 29958 reviews\n",
      "Not English!!!!!!!!!!!!!\n",
      "Not English!!!!!!!!!!!!!\n",
      "Not English!!!!!!!!!!!!!\n",
      "Not English!!!!!!!!!!!!!\n",
      "Not English!!!!!!!!!!!!!\n",
      "Not English!!!!!!!!!!!!!\n",
      "Not English!!!!!!!!!!!!!\n",
      "Not English!!!!!!!!!!!!!\n",
      "Not English!!!!!!!!!!!!!\n",
      "Not English!!!!!!!!!!!!!\n",
      "Not English!!!!!!!!!!!!!\n",
      "Not English!!!!!!!!!!!!!\n",
      "Not English!!!!!!!!!!!!!\n",
      "Not English!!!!!!!!!!!!!\n",
      "Not English!!!!!!!!!!!!!\n",
      "Not English!!!!!!!!!!!!!\n",
      "Not English!!!!!!!!!!!!!\n",
      "Not English!!!!!!!!!!!!!\n",
      "Not English!!!!!!!!!!!!!\n",
      "Not English!!!!!!!!!!!!!\n",
      "Not English!!!!!!!!!!!!!\n",
      "Not English!!!!!!!!!!!!!\n",
      "Not English!!!!!!!!!!!!!\n",
      "Not English!!!!!!!!!!!!!\n",
      "Not English!!!!!!!!!!!!!\n",
      "Not English!!!!!!!!!!!!!\n",
      "Not English!!!!!!!!!!!!!\n",
      "Not English!!!!!!!!!!!!!\n",
      "Not English!!!!!!!!!!!!!\n",
      "1\n",
      "Not English!!!!!!!!!!!!!\n",
      "Not English!!!!!!!!!!!!!\n",
      "Not English!!!!!!!!!!!!!\n",
      "Not English!!!!!!!!!!!!!\n",
      "Not English!!!!!!!!!!!!!\n",
      "Not English!!!!!!!!!!!!!\n",
      "Not English!!!!!!!!!!!!!\n",
      "Not English!!!!!!!!!!!!!\n",
      "Not English!!!!!!!!!!!!!\n"
     ]
    },
    {
     "name": "stderr",
     "output_type": "stream",
     "text": [
      "/var/folders/s9/6ly2nsx50hg7kjfnghxs0bm80000gn/T/ipykernel_70507/198281822.py:15: SettingWithCopyWarning: \n",
      "A value is trying to be set on a copy of a slice from a DataFrame.\n",
      "Try using .loc[row_indexer,col_indexer] = value instead\n",
      "\n",
      "See the caveats in the documentation: https://pandas.pydata.org/pandas-docs/stable/user_guide/indexing.html#returning-a-view-versus-a-copy\n",
      "  df['language'] = df['reviewText'].apply(lan_check)\n"
     ]
    },
    {
     "name": "stdout",
     "output_type": "stream",
     "text": [
      "Finished:  1350,000\n",
      "     with 29962 reviews\n",
      "Not English!!!!!!!!!!!!!\n",
      "Not English!!!!!!!!!!!!!\n",
      "Not English!!!!!!!!!!!!!\n",
      "Not English!!!!!!!!!!!!!\n",
      "Not English!!!!!!!!!!!!!\n",
      "Not English!!!!!!!!!!!!!\n",
      "Not English!!!!!!!!!!!!!\n",
      "Not English!!!!!!!!!!!!!\n",
      "Not English!!!!!!!!!!!!!\n",
      "Not English!!!!!!!!!!!!!\n",
      "Not English!!!!!!!!!!!!!\n",
      "Not English!!!!!!!!!!!!!\n",
      "Not English!!!!!!!!!!!!!\n",
      "Not English!!!!!!!!!!!!!\n",
      "Not English!!!!!!!!!!!!!\n",
      "Not English!!!!!!!!!!!!!\n",
      "Not English!!!!!!!!!!!!!\n",
      "Not English!!!!!!!!!!!!!\n",
      "Not English!!!!!!!!!!!!!\n",
      "Not English!!!!!!!!!!!!!\n",
      "Not English!!!!!!!!!!!!!\n",
      "Not English!!!!!!!!!!!!!\n",
      "Not English!!!!!!!!!!!!!\n",
      "Not English!!!!!!!!!!!!!\n",
      "Not English!!!!!!!!!!!!!\n",
      "Not English!!!!!!!!!!!!!\n",
      "Not English!!!!!!!!!!!!!\n",
      "Not English!!!!!!!!!!!!!\n",
      "Not English!!!!!!!!!!!!!\n",
      "Not English!!!!!!!!!!!!!\n",
      "Not English!!!!!!!!!!!!!\n",
      "Not English!!!!!!!!!!!!!\n",
      "Not English!!!!!!!!!!!!!\n",
      "Not English!!!!!!!!!!!!!\n"
     ]
    },
    {
     "name": "stderr",
     "output_type": "stream",
     "text": [
      "/var/folders/s9/6ly2nsx50hg7kjfnghxs0bm80000gn/T/ipykernel_70507/198281822.py:15: SettingWithCopyWarning: \n",
      "A value is trying to be set on a copy of a slice from a DataFrame.\n",
      "Try using .loc[row_indexer,col_indexer] = value instead\n",
      "\n",
      "See the caveats in the documentation: https://pandas.pydata.org/pandas-docs/stable/user_guide/indexing.html#returning-a-view-versus-a-copy\n",
      "  df['language'] = df['reviewText'].apply(lan_check)\n"
     ]
    },
    {
     "name": "stdout",
     "output_type": "stream",
     "text": [
      "Finished:  1380,000\n",
      "     with 29966 reviews\n",
      "Not English!!!!!!!!!!!!!\n",
      "Not English!!!!!!!!!!!!!\n",
      "Not English!!!!!!!!!!!!!\n",
      "Not English!!!!!!!!!!!!!\n",
      "Not English!!!!!!!!!!!!!\n",
      "Not English!!!!!!!!!!!!!\n",
      "Not English!!!!!!!!!!!!!\n",
      "Not English!!!!!!!!!!!!!\n",
      "Not English!!!!!!!!!!!!!\n",
      "Not English!!!!!!!!!!!!!\n",
      "Not English!!!!!!!!!!!!!\n",
      "Not English!!!!!!!!!!!!!\n",
      "Not English!!!!!!!!!!!!!\n",
      "Not English!!!!!!!!!!!!!\n",
      "Not English!!!!!!!!!!!!!\n",
      "Not English!!!!!!!!!!!!!\n",
      "Not English!!!!!!!!!!!!!\n",
      "Not English!!!!!!!!!!!!!\n",
      "Not English!!!!!!!!!!!!!\n",
      "Not English!!!!!!!!!!!!!\n",
      "Not English!!!!!!!!!!!!!\n",
      "Not English!!!!!!!!!!!!!\n",
      "Not English!!!!!!!!!!!!!\n",
      "Not English!!!!!!!!!!!!!\n",
      "Not English!!!!!!!!!!!!!\n",
      "Not English!!!!!!!!!!!!!\n",
      "Not English!!!!!!!!!!!!!\n",
      "Not English!!!!!!!!!!!!!\n",
      "Not English!!!!!!!!!!!!!\n",
      "Not English!!!!!!!!!!!!!\n",
      "Not English!!!!!!!!!!!!!\n",
      "Not English!!!!!!!!!!!!!\n"
     ]
    },
    {
     "name": "stderr",
     "output_type": "stream",
     "text": [
      "/var/folders/s9/6ly2nsx50hg7kjfnghxs0bm80000gn/T/ipykernel_70507/198281822.py:15: SettingWithCopyWarning: \n",
      "A value is trying to be set on a copy of a slice from a DataFrame.\n",
      "Try using .loc[row_indexer,col_indexer] = value instead\n",
      "\n",
      "See the caveats in the documentation: https://pandas.pydata.org/pandas-docs/stable/user_guide/indexing.html#returning-a-view-versus-a-copy\n",
      "  df['language'] = df['reviewText'].apply(lan_check)\n"
     ]
    },
    {
     "name": "stdout",
     "output_type": "stream",
     "text": [
      "Finished:  1410,000\n",
      "     with 29968 reviews\n",
      "Not English!!!!!!!!!!!!!\n",
      "Not English!!!!!!!!!!!!!\n",
      "Not English!!!!!!!!!!!!!\n",
      "Not English!!!!!!!!!!!!!\n",
      "Not English!!!!!!!!!!!!!\n",
      "Not English!!!!!!!!!!!!!\n",
      "Not English!!!!!!!!!!!!!\n",
      "Not English!!!!!!!!!!!!!\n",
      "Not English!!!!!!!!!!!!!\n",
      "Not English!!!!!!!!!!!!!\n",
      "Not English!!!!!!!!!!!!!\n",
      "Not English!!!!!!!!!!!!!\n",
      "Not English!!!!!!!!!!!!!\n",
      "Not English!!!!!!!!!!!!!\n",
      "Not English!!!!!!!!!!!!!\n",
      "Not English!!!!!!!!!!!!!\n",
      "Not English!!!!!!!!!!!!!\n",
      "Not English!!!!!!!!!!!!!\n",
      "Not English!!!!!!!!!!!!!\n",
      "Not English!!!!!!!!!!!!!\n",
      "Not English!!!!!!!!!!!!!\n",
      "Not English!!!!!!!!!!!!!\n",
      "Not English!!!!!!!!!!!!!\n",
      "Not English!!!!!!!!!!!!!\n",
      "Not English!!!!!!!!!!!!!\n",
      "Not English!!!!!!!!!!!!!\n",
      "Not English!!!!!!!!!!!!!\n",
      "Not English!!!!!!!!!!!!!\n",
      "Not English!!!!!!!!!!!!!\n",
      "Not English!!!!!!!!!!!!!\n",
      "Not English!!!!!!!!!!!!!\n",
      "Not English!!!!!!!!!!!!!\n",
      "Not English!!!!!!!!!!!!!\n",
      "Not English!!!!!!!!!!!!!\n",
      "Not English!!!!!!!!!!!!!\n",
      "Not English!!!!!!!!!!!!!\n",
      "Not English!!!!!!!!!!!!!\n",
      "Not English!!!!!!!!!!!!!\n",
      "Not English!!!!!!!!!!!!!\n",
      "Not English!!!!!!!!!!!!!\n",
      "Not English!!!!!!!!!!!!!\n",
      "Not English!!!!!!!!!!!!!\n",
      "2796\n",
      "Not English!!!!!!!!!!!!!\n",
      "Not English!!!!!!!!!!!!!\n",
      "Not English!!!!!!!!!!!!!\n",
      "Not English!!!!!!!!!!!!!\n",
      "Not English!!!!!!!!!!!!!\n",
      "Not English!!!!!!!!!!!!!\n",
      "Not English!!!!!!!!!!!!!\n",
      "Not English!!!!!!!!!!!!!\n",
      "Not English!!!!!!!!!!!!!\n",
      "Not English!!!!!!!!!!!!!\n",
      "Not English!!!!!!!!!!!!!\n",
      "Not English!!!!!!!!!!!!!\n",
      "Not English!!!!!!!!!!!!!\n",
      "Not English!!!!!!!!!!!!!\n",
      "Not English!!!!!!!!!!!!!\n",
      "Not English!!!!!!!!!!!!!\n",
      "Not English!!!!!!!!!!!!!\n",
      "Not English!!!!!!!!!!!!!\n",
      "Not English!!!!!!!!!!!!!\n",
      "Not English!!!!!!!!!!!!!\n",
      "Not English!!!!!!!!!!!!!\n",
      "Not English!!!!!!!!!!!!!\n",
      "Not English!!!!!!!!!!!!!\n",
      "Not English!!!!!!!!!!!!!\n",
      "Not English!!!!!!!!!!!!!\n",
      "Not English!!!!!!!!!!!!!\n",
      "Not English!!!!!!!!!!!!!\n",
      "Not English!!!!!!!!!!!!!\n",
      "Not English!!!!!!!!!!!!!\n",
      "Not English!!!!!!!!!!!!!\n",
      "Not English!!!!!!!!!!!!!\n",
      "Not English!!!!!!!!!!!!!\n",
      "Not English!!!!!!!!!!!!!\n",
      "Not English!!!!!!!!!!!!!\n",
      "Not English!!!!!!!!!!!!!\n",
      "Not English!!!!!!!!!!!!!\n",
      "Not English!!!!!!!!!!!!!\n",
      "Not English!!!!!!!!!!!!!\n",
      "Not English!!!!!!!!!!!!!\n",
      "Not English!!!!!!!!!!!!!\n",
      "Not English!!!!!!!!!!!!!\n",
      "Not English!!!!!!!!!!!!!\n",
      "Not English!!!!!!!!!!!!!\n",
      "Not English!!!!!!!!!!!!!\n",
      "Not English!!!!!!!!!!!!!\n",
      "Not English!!!!!!!!!!!!!\n",
      "Not English!!!!!!!!!!!!!\n",
      "Not English!!!!!!!!!!!!!\n",
      "Not English!!!!!!!!!!!!!\n",
      "Not English!!!!!!!!!!!!!\n",
      "Not English!!!!!!!!!!!!!\n",
      "Not English!!!!!!!!!!!!!\n",
      "Not English!!!!!!!!!!!!!\n",
      "Not English!!!!!!!!!!!!!\n",
      "Not English!!!!!!!!!!!!!\n",
      "Not English!!!!!!!!!!!!!\n",
      "Not English!!!!!!!!!!!!!\n",
      "Not English!!!!!!!!!!!!!\n",
      "Not English!!!!!!!!!!!!!\n",
      "Not English!!!!!!!!!!!!!\n",
      "Not English!!!!!!!!!!!!!\n",
      "Not English!!!!!!!!!!!!!\n",
      "Not English!!!!!!!!!!!!!\n",
      "Not English!!!!!!!!!!!!!\n",
      "Not English!!!!!!!!!!!!!\n",
      "Not English!!!!!!!!!!!!!\n",
      "Not English!!!!!!!!!!!!!\n",
      "Not English!!!!!!!!!!!!!\n",
      "Not English!!!!!!!!!!!!!\n",
      "Not English!!!!!!!!!!!!!\n",
      "Not English!!!!!!!!!!!!!\n",
      "Not English!!!!!!!!!!!!!\n",
      "Not English!!!!!!!!!!!!!\n",
      "Not English!!!!!!!!!!!!!\n",
      "Not English!!!!!!!!!!!!!\n",
      "Not English!!!!!!!!!!!!!\n",
      "Not English!!!!!!!!!!!!!\n",
      "Not English!!!!!!!!!!!!!\n",
      "Not English!!!!!!!!!!!!!\n",
      "Not English!!!!!!!!!!!!!\n",
      "Not English!!!!!!!!!!!!!\n",
      "Not English!!!!!!!!!!!!!\n",
      "Not English!!!!!!!!!!!!!\n",
      "Not English!!!!!!!!!!!!!\n",
      "Not English!!!!!!!!!!!!!\n",
      "Not English!!!!!!!!!!!!!\n",
      "Not English!!!!!!!!!!!!!\n",
      "Not English!!!!!!!!!!!!!\n",
      "Not English!!!!!!!!!!!!!\n",
      "Not English!!!!!!!!!!!!!\n",
      "Not English!!!!!!!!!!!!!\n",
      "Not English!!!!!!!!!!!!!\n",
      "Not English!!!!!!!!!!!!!\n",
      "Not English!!!!!!!!!!!!!\n",
      "Not English!!!!!!!!!!!!!\n",
      "Not English!!!!!!!!!!!!!\n",
      "Not English!!!!!!!!!!!!!\n",
      "Not English!!!!!!!!!!!!!\n",
      "Not English!!!!!!!!!!!!!\n",
      "Not English!!!!!!!!!!!!!\n",
      "Not English!!!!!!!!!!!!!\n",
      "Not English!!!!!!!!!!!!!\n",
      "Not English!!!!!!!!!!!!!\n",
      "Not English!!!!!!!!!!!!!\n",
      "Not English!!!!!!!!!!!!!\n",
      "Not English!!!!!!!!!!!!!\n",
      "Not English!!!!!!!!!!!!!\n",
      "Not English!!!!!!!!!!!!!\n",
      "Not English!!!!!!!!!!!!!\n",
      "Not English!!!!!!!!!!!!!\n",
      "Not English!!!!!!!!!!!!!\n",
      "Not English!!!!!!!!!!!!!\n",
      "Not English!!!!!!!!!!!!!\n",
      "Not English!!!!!!!!!!!!!\n",
      "Not English!!!!!!!!!!!!!\n",
      "Not English!!!!!!!!!!!!!\n",
      "Not English!!!!!!!!!!!!!\n",
      "Not English!!!!!!!!!!!!!\n",
      "Not English!!!!!!!!!!!!!\n",
      "Not English!!!!!!!!!!!!!\n",
      "Not English!!!!!!!!!!!!!\n",
      "Not English!!!!!!!!!!!!!\n",
      "Not English!!!!!!!!!!!!!\n",
      "Not English!!!!!!!!!!!!!\n",
      "Not English!!!!!!!!!!!!!\n",
      "Not English!!!!!!!!!!!!!\n",
      "Not English!!!!!!!!!!!!!\n",
      "Not English!!!!!!!!!!!!!\n",
      "Not English!!!!!!!!!!!!!\n",
      "Not English!!!!!!!!!!!!!\n",
      "Not English!!!!!!!!!!!!!\n",
      "Not English!!!!!!!!!!!!!\n",
      "Not English!!!!!!!!!!!!!\n",
      "Not English!!!!!!!!!!!!!\n",
      "Not English!!!!!!!!!!!!!\n",
      "Not English!!!!!!!!!!!!!\n",
      "Not English!!!!!!!!!!!!!\n",
      "Not English!!!!!!!!!!!!!\n",
      "Not English!!!!!!!!!!!!!\n",
      "Not English!!!!!!!!!!!!!\n",
      "Not English!!!!!!!!!!!!!\n",
      "Not English!!!!!!!!!!!!!\n",
      "Not English!!!!!!!!!!!!!\n",
      "Not English!!!!!!!!!!!!!\n",
      "Not English!!!!!!!!!!!!!\n",
      "Not English!!!!!!!!!!!!!\n",
      "Not English!!!!!!!!!!!!!\n",
      "Not English!!!!!!!!!!!!!\n",
      "Not English!!!!!!!!!!!!!\n",
      "Not English!!!!!!!!!!!!!\n",
      "Not English!!!!!!!!!!!!!\n",
      "Not English!!!!!!!!!!!!!\n",
      "Not English!!!!!!!!!!!!!\n",
      "Not English!!!!!!!!!!!!!\n",
      "Not English!!!!!!!!!!!!!\n",
      "Not English!!!!!!!!!!!!!\n",
      "Not English!!!!!!!!!!!!!\n",
      "Not English!!!!!!!!!!!!!\n",
      "Not English!!!!!!!!!!!!!\n",
      "Not English!!!!!!!!!!!!!\n",
      "Not English!!!!!!!!!!!!!\n",
      "Not English!!!!!!!!!!!!!\n",
      "Not English!!!!!!!!!!!!!\n",
      "Not English!!!!!!!!!!!!!\n",
      "Not English!!!!!!!!!!!!!\n",
      "Not English!!!!!!!!!!!!!\n",
      "Not English!!!!!!!!!!!!!\n",
      "Not English!!!!!!!!!!!!!\n",
      "Not English!!!!!!!!!!!!!\n",
      "Not English!!!!!!!!!!!!!\n",
      "Not English!!!!!!!!!!!!!\n",
      "Not English!!!!!!!!!!!!!\n",
      "Not English!!!!!!!!!!!!!\n",
      "Not English!!!!!!!!!!!!!\n",
      "Not English!!!!!!!!!!!!!\n",
      "Not English!!!!!!!!!!!!!\n",
      "Not English!!!!!!!!!!!!!\n",
      "Not English!!!!!!!!!!!!!\n",
      "Not English!!!!!!!!!!!!!\n",
      "Not English!!!!!!!!!!!!!\n",
      "Not English!!!!!!!!!!!!!\n",
      "Not English!!!!!!!!!!!!!\n",
      "Not English!!!!!!!!!!!!!\n",
      "Not English!!!!!!!!!!!!!\n",
      "Not English!!!!!!!!!!!!!\n",
      "Not English!!!!!!!!!!!!!\n",
      "Not English!!!!!!!!!!!!!\n",
      "Not English!!!!!!!!!!!!!\n",
      "Not English!!!!!!!!!!!!!\n",
      "Not English!!!!!!!!!!!!!\n",
      "Not English!!!!!!!!!!!!!\n",
      "Not English!!!!!!!!!!!!!\n",
      "Not English!!!!!!!!!!!!!\n",
      "Not English!!!!!!!!!!!!!\n",
      "Not English!!!!!!!!!!!!!\n",
      "Not English!!!!!!!!!!!!!\n",
      "Not English!!!!!!!!!!!!!\n",
      "Not English!!!!!!!!!!!!!\n",
      "Not English!!!!!!!!!!!!!\n",
      "Not English!!!!!!!!!!!!!\n",
      "Not English!!!!!!!!!!!!!\n",
      "Not English!!!!!!!!!!!!!\n",
      "Not English!!!!!!!!!!!!!\n",
      "Not English!!!!!!!!!!!!!\n",
      "Not English!!!!!!!!!!!!!\n",
      "Not English!!!!!!!!!!!!!\n",
      "Not English!!!!!!!!!!!!!\n",
      "Not English!!!!!!!!!!!!!\n",
      "Not English!!!!!!!!!!!!!\n",
      "Not English!!!!!!!!!!!!!\n",
      "Not English!!!!!!!!!!!!!\n",
      "Not English!!!!!!!!!!!!!\n",
      "Not English!!!!!!!!!!!!!\n",
      "Not English!!!!!!!!!!!!!\n",
      "Not English!!!!!!!!!!!!!\n",
      "Not English!!!!!!!!!!!!!\n",
      "Not English!!!!!!!!!!!!!\n",
      "Not English!!!!!!!!!!!!!\n",
      "Not English!!!!!!!!!!!!!\n"
     ]
    },
    {
     "name": "stderr",
     "output_type": "stream",
     "text": [
      "/var/folders/s9/6ly2nsx50hg7kjfnghxs0bm80000gn/T/ipykernel_70507/198281822.py:15: SettingWithCopyWarning: \n",
      "A value is trying to be set on a copy of a slice from a DataFrame.\n",
      "Try using .loc[row_indexer,col_indexer] = value instead\n",
      "\n",
      "See the caveats in the documentation: https://pandas.pydata.org/pandas-docs/stable/user_guide/indexing.html#returning-a-view-versus-a-copy\n",
      "  df['language'] = df['reviewText'].apply(lan_check)\n"
     ]
    },
    {
     "name": "stdout",
     "output_type": "stream",
     "text": [
      "Finished:  1440,000\n",
      "     with 29739 reviews\n",
      "Not English!!!!!!!!!!!!!\n",
      "Not English!!!!!!!!!!!!!\n",
      "Not English!!!!!!!!!!!!!\n",
      "Not English!!!!!!!!!!!!!\n",
      "Not English!!!!!!!!!!!!!\n",
      "Not English!!!!!!!!!!!!!\n",
      "Not English!!!!!!!!!!!!!\n",
      "Not English!!!!!!!!!!!!!\n",
      "Not English!!!!!!!!!!!!!\n",
      "Not English!!!!!!!!!!!!!\n",
      "Not English!!!!!!!!!!!!!\n",
      "Not English!!!!!!!!!!!!!\n",
      "Not English!!!!!!!!!!!!!\n",
      "Not English!!!!!!!!!!!!!\n",
      "Not English!!!!!!!!!!!!!\n",
      "Not English!!!!!!!!!!!!!\n",
      "Not English!!!!!!!!!!!!!\n",
      "Not English!!!!!!!!!!!!!\n",
      "Not English!!!!!!!!!!!!!\n",
      "Not English!!!!!!!!!!!!!\n",
      "Not English!!!!!!!!!!!!!\n",
      "Not English!!!!!!!!!!!!!\n",
      "Not English!!!!!!!!!!!!!\n",
      "Not English!!!!!!!!!!!!!\n",
      "Not English!!!!!!!!!!!!!\n",
      "Not English!!!!!!!!!!!!!\n",
      "Not English!!!!!!!!!!!!!\n",
      "Not English!!!!!!!!!!!!!\n",
      "Not English!!!!!!!!!!!!!\n",
      "Not English!!!!!!!!!!!!!\n",
      "Not English!!!!!!!!!!!!!\n",
      "Not English!!!!!!!!!!!!!\n",
      "Not English!!!!!!!!!!!!!\n",
      "Not English!!!!!!!!!!!!!\n",
      "Not English!!!!!!!!!!!!!\n",
      "Not English!!!!!!!!!!!!!\n",
      "Not English!!!!!!!!!!!!!\n",
      "Not English!!!!!!!!!!!!!\n",
      "Not English!!!!!!!!!!!!!\n",
      "Not English!!!!!!!!!!!!!\n",
      "Not English!!!!!!!!!!!!!\n",
      "Not English!!!!!!!!!!!!!\n",
      "Not English!!!!!!!!!!!!!\n",
      "Not English!!!!!!!!!!!!!\n",
      "Not English!!!!!!!!!!!!!\n",
      "Not English!!!!!!!!!!!!!\n",
      "Not English!!!!!!!!!!!!!\n",
      "Not English!!!!!!!!!!!!!\n",
      "Not English!!!!!!!!!!!!!\n",
      "Not English!!!!!!!!!!!!!\n",
      "Not English!!!!!!!!!!!!!\n",
      "Not English!!!!!!!!!!!!!\n",
      "Not English!!!!!!!!!!!!!\n",
      "Not English!!!!!!!!!!!!!\n",
      "Not English!!!!!!!!!!!!!\n",
      "Not English!!!!!!!!!!!!!\n",
      "Not English!!!!!!!!!!!!!\n",
      "Not English!!!!!!!!!!!!!\n",
      "Not English!!!!!!!!!!!!!\n",
      "Not English!!!!!!!!!!!!!\n",
      "Not English!!!!!!!!!!!!!\n",
      "Not English!!!!!!!!!!!!!\n",
      "Not English!!!!!!!!!!!!!\n",
      "Not English!!!!!!!!!!!!!\n",
      "Not English!!!!!!!!!!!!!\n",
      "Finished:  1470,000\n",
      "     with 29935 reviews\n"
     ]
    },
    {
     "name": "stderr",
     "output_type": "stream",
     "text": [
      "/var/folders/s9/6ly2nsx50hg7kjfnghxs0bm80000gn/T/ipykernel_70507/198281822.py:15: SettingWithCopyWarning: \n",
      "A value is trying to be set on a copy of a slice from a DataFrame.\n",
      "Try using .loc[row_indexer,col_indexer] = value instead\n",
      "\n",
      "See the caveats in the documentation: https://pandas.pydata.org/pandas-docs/stable/user_guide/indexing.html#returning-a-view-versus-a-copy\n",
      "  df['language'] = df['reviewText'].apply(lan_check)\n"
     ]
    },
    {
     "name": "stdout",
     "output_type": "stream",
     "text": [
      "Not English!!!!!!!!!!!!!\n",
      "Not English!!!!!!!!!!!!!\n",
      "Not English!!!!!!!!!!!!!\n",
      "Not English!!!!!!!!!!!!!\n",
      "Not English!!!!!!!!!!!!!\n",
      "Not English!!!!!!!!!!!!!\n",
      "Not English!!!!!!!!!!!!!\n",
      "Not English!!!!!!!!!!!!!\n",
      "Not English!!!!!!!!!!!!!\n",
      "Not English!!!!!!!!!!!!!\n",
      "Not English!!!!!!!!!!!!!\n",
      "Not English!!!!!!!!!!!!!\n",
      "Not English!!!!!!!!!!!!!\n",
      "Not English!!!!!!!!!!!!!\n",
      "Not English!!!!!!!!!!!!!\n",
      "Not English!!!!!!!!!!!!!\n",
      "Not English!!!!!!!!!!!!!\n",
      "Not English!!!!!!!!!!!!!\n",
      "Not English!!!!!!!!!!!!!\n",
      "Not English!!!!!!!!!!!!!\n",
      "Not English!!!!!!!!!!!!!\n",
      "Not English!!!!!!!!!!!!!\n",
      "Not English!!!!!!!!!!!!!\n",
      "Not English!!!!!!!!!!!!!\n",
      "Not English!!!!!!!!!!!!!\n",
      "Not English!!!!!!!!!!!!!\n",
      "Not English!!!!!!!!!!!!!\n",
      "Not English!!!!!!!!!!!!!\n",
      "Not English!!!!!!!!!!!!!\n",
      "Not English!!!!!!!!!!!!!\n",
      "Not English!!!!!!!!!!!!!\n",
      "Not English!!!!!!!!!!!!!\n",
      "Not English!!!!!!!!!!!!!\n",
      "Not English!!!!!!!!!!!!!\n",
      "Not English!!!!!!!!!!!!!\n",
      "Not English!!!!!!!!!!!!!\n",
      "Not English!!!!!!!!!!!!!\n",
      "Not English!!!!!!!!!!!!!\n",
      "Not English!!!!!!!!!!!!!\n",
      "Not English!!!!!!!!!!!!!\n",
      "Not English!!!!!!!!!!!!!\n",
      "Not English!!!!!!!!!!!!!\n",
      "Not English!!!!!!!!!!!!!\n",
      "Not English!!!!!!!!!!!!!\n",
      "Not English!!!!!!!!!!!!!\n",
      "Not English!!!!!!!!!!!!!\n",
      "Not English!!!!!!!!!!!!!\n",
      "Not English!!!!!!!!!!!!!\n",
      "Not English!!!!!!!!!!!!!\n",
      "Not English!!!!!!!!!!!!!\n",
      "Not English!!!!!!!!!!!!!\n",
      "Not English!!!!!!!!!!!!!\n",
      "Not English!!!!!!!!!!!!!\n",
      "Not English!!!!!!!!!!!!!\n"
     ]
    },
    {
     "name": "stderr",
     "output_type": "stream",
     "text": [
      "/var/folders/s9/6ly2nsx50hg7kjfnghxs0bm80000gn/T/ipykernel_70507/198281822.py:15: SettingWithCopyWarning: \n",
      "A value is trying to be set on a copy of a slice from a DataFrame.\n",
      "Try using .loc[row_indexer,col_indexer] = value instead\n",
      "\n",
      "See the caveats in the documentation: https://pandas.pydata.org/pandas-docs/stable/user_guide/indexing.html#returning-a-view-versus-a-copy\n",
      "  df['language'] = df['reviewText'].apply(lan_check)\n"
     ]
    },
    {
     "name": "stdout",
     "output_type": "stream",
     "text": [
      "Finished:  1500,000\n",
      "     with 29946 reviews\n",
      "Not English!!!!!!!!!!!!!\n",
      "Not English!!!!!!!!!!!!!\n",
      "Not English!!!!!!!!!!!!!\n",
      "Not English!!!!!!!!!!!!!\n",
      "Not English!!!!!!!!!!!!!\n",
      "Not English!!!!!!!!!!!!!\n",
      "Not English!!!!!!!!!!!!!\n",
      "Not English!!!!!!!!!!!!!\n",
      "Not English!!!!!!!!!!!!!\n",
      "Not English!!!!!!!!!!!!!\n",
      "Not English!!!!!!!!!!!!!\n",
      "Not English!!!!!!!!!!!!!\n",
      "Not English!!!!!!!!!!!!!\n",
      "Not English!!!!!!!!!!!!!\n",
      "Not English!!!!!!!!!!!!!\n",
      "Not English!!!!!!!!!!!!!\n",
      "Not English!!!!!!!!!!!!!\n",
      "Not English!!!!!!!!!!!!!\n",
      "Not English!!!!!!!!!!!!!\n",
      "Not English!!!!!!!!!!!!!\n",
      "Not English!!!!!!!!!!!!!\n",
      "Not English!!!!!!!!!!!!!\n",
      "Not English!!!!!!!!!!!!!\n",
      "Not English!!!!!!!!!!!!!\n",
      "Not English!!!!!!!!!!!!!\n",
      "Not English!!!!!!!!!!!!!\n",
      "Not English!!!!!!!!!!!!!\n",
      "Not English!!!!!!!!!!!!!\n",
      "Not English!!!!!!!!!!!!!\n",
      "Not English!!!!!!!!!!!!!\n",
      "Not English!!!!!!!!!!!!!\n",
      "Not English!!!!!!!!!!!!!\n",
      "Not English!!!!!!!!!!!!!\n",
      "Not English!!!!!!!!!!!!!\n",
      "Not English!!!!!!!!!!!!!\n",
      "Not English!!!!!!!!!!!!!\n",
      "Not English!!!!!!!!!!!!!\n",
      "Not English!!!!!!!!!!!!!\n",
      "Not English!!!!!!!!!!!!!\n",
      "Not English!!!!!!!!!!!!!\n",
      "Not English!!!!!!!!!!!!!\n",
      "Not English!!!!!!!!!!!!!\n",
      "Not English!!!!!!!!!!!!!\n",
      "Not English!!!!!!!!!!!!!\n"
     ]
    },
    {
     "name": "stderr",
     "output_type": "stream",
     "text": [
      "/var/folders/s9/6ly2nsx50hg7kjfnghxs0bm80000gn/T/ipykernel_70507/198281822.py:15: SettingWithCopyWarning: \n",
      "A value is trying to be set on a copy of a slice from a DataFrame.\n",
      "Try using .loc[row_indexer,col_indexer] = value instead\n",
      "\n",
      "See the caveats in the documentation: https://pandas.pydata.org/pandas-docs/stable/user_guide/indexing.html#returning-a-view-versus-a-copy\n",
      "  df['language'] = df['reviewText'].apply(lan_check)\n"
     ]
    },
    {
     "name": "stdout",
     "output_type": "stream",
     "text": [
      "Finished:  1530,000\n",
      "     with 29956 reviews\n",
      "Not English!!!!!!!!!!!!!\n",
      "Not English!!!!!!!!!!!!!\n",
      "Not English!!!!!!!!!!!!!\n",
      "Not English!!!!!!!!!!!!!\n",
      "Not English!!!!!!!!!!!!!\n",
      "Not English!!!!!!!!!!!!!\n",
      "Not English!!!!!!!!!!!!!\n",
      "Not English!!!!!!!!!!!!!\n",
      "Not English!!!!!!!!!!!!!\n",
      "Not English!!!!!!!!!!!!!\n",
      "Not English!!!!!!!!!!!!!\n",
      "Not English!!!!!!!!!!!!!\n",
      "Not English!!!!!!!!!!!!!\n",
      "Not English!!!!!!!!!!!!!\n",
      "Not English!!!!!!!!!!!!!\n",
      "Not English!!!!!!!!!!!!!\n",
      "Not English!!!!!!!!!!!!!\n",
      "Not English!!!!!!!!!!!!!\n",
      "Not English!!!!!!!!!!!!!\n",
      "Not English!!!!!!!!!!!!!\n",
      "Not English!!!!!!!!!!!!!\n",
      "Not English!!!!!!!!!!!!!\n",
      "Not English!!!!!!!!!!!!!\n",
      "Not English!!!!!!!!!!!!!\n",
      "Not English!!!!!!!!!!!!!\n",
      "Not English!!!!!!!!!!!!!\n",
      "Not English!!!!!!!!!!!!!\n",
      "Not English!!!!!!!!!!!!!\n",
      "Not English!!!!!!!!!!!!!\n",
      "Not English!!!!!!!!!!!!!\n",
      "Not English!!!!!!!!!!!!!\n",
      "Not English!!!!!!!!!!!!!\n"
     ]
    },
    {
     "name": "stderr",
     "output_type": "stream",
     "text": [
      "/var/folders/s9/6ly2nsx50hg7kjfnghxs0bm80000gn/T/ipykernel_70507/198281822.py:15: SettingWithCopyWarning: \n",
      "A value is trying to be set on a copy of a slice from a DataFrame.\n",
      "Try using .loc[row_indexer,col_indexer] = value instead\n",
      "\n",
      "See the caveats in the documentation: https://pandas.pydata.org/pandas-docs/stable/user_guide/indexing.html#returning-a-view-versus-a-copy\n",
      "  df['language'] = df['reviewText'].apply(lan_check)\n"
     ]
    },
    {
     "name": "stdout",
     "output_type": "stream",
     "text": [
      "Finished:  1560,000\n",
      "     with 29968 reviews\n",
      "Not English!!!!!!!!!!!!!\n",
      "Not English!!!!!!!!!!!!!\n",
      "Not English!!!!!!!!!!!!!\n",
      "Not English!!!!!!!!!!!!!\n",
      "Not English!!!!!!!!!!!!!\n",
      "Not English!!!!!!!!!!!!!\n",
      "Not English!!!!!!!!!!!!!\n",
      "Not English!!!!!!!!!!!!!\n",
      "Not English!!!!!!!!!!!!!\n",
      "Not English!!!!!!!!!!!!!\n",
      "Not English!!!!!!!!!!!!!\n",
      "Not English!!!!!!!!!!!!!\n",
      "Not English!!!!!!!!!!!!!\n",
      "Not English!!!!!!!!!!!!!\n",
      "Not English!!!!!!!!!!!!!\n",
      "Not English!!!!!!!!!!!!!\n",
      "Not English!!!!!!!!!!!!!\n",
      "Not English!!!!!!!!!!!!!\n",
      "Not English!!!!!!!!!!!!!\n",
      "Not English!!!!!!!!!!!!!\n",
      "Not English!!!!!!!!!!!!!\n",
      "Not English!!!!!!!!!!!!!\n",
      "Not English!!!!!!!!!!!!!\n",
      "Not English!!!!!!!!!!!!!\n",
      "Not English!!!!!!!!!!!!!\n",
      "Not English!!!!!!!!!!!!!\n"
     ]
    },
    {
     "name": "stderr",
     "output_type": "stream",
     "text": [
      "/var/folders/s9/6ly2nsx50hg7kjfnghxs0bm80000gn/T/ipykernel_70507/198281822.py:15: SettingWithCopyWarning: \n",
      "A value is trying to be set on a copy of a slice from a DataFrame.\n",
      "Try using .loc[row_indexer,col_indexer] = value instead\n",
      "\n",
      "See the caveats in the documentation: https://pandas.pydata.org/pandas-docs/stable/user_guide/indexing.html#returning-a-view-versus-a-copy\n",
      "  df['language'] = df['reviewText'].apply(lan_check)\n"
     ]
    },
    {
     "name": "stdout",
     "output_type": "stream",
     "text": [
      "Finished:  1590,000\n",
      "     with 29974 reviews\n",
      "Not English!!!!!!!!!!!!!\n",
      "Not English!!!!!!!!!!!!!\n",
      "Not English!!!!!!!!!!!!!\n",
      "Not English!!!!!!!!!!!!!\n",
      "Not English!!!!!!!!!!!!!\n",
      "Not English!!!!!!!!!!!!!\n",
      "Not English!!!!!!!!!!!!!\n",
      "Not English!!!!!!!!!!!!!\n",
      "Not English!!!!!!!!!!!!!\n",
      "Not English!!!!!!!!!!!!!\n",
      "Not English!!!!!!!!!!!!!\n",
      "Not English!!!!!!!!!!!!!\n",
      "Not English!!!!!!!!!!!!!\n",
      "Not English!!!!!!!!!!!!!\n",
      "Not English!!!!!!!!!!!!!\n",
      "Not English!!!!!!!!!!!!!\n",
      "Not English!!!!!!!!!!!!!\n",
      "Not English!!!!!!!!!!!!!\n",
      "Not English!!!!!!!!!!!!!\n",
      "Not English!!!!!!!!!!!!!\n",
      "Not English!!!!!!!!!!!!!\n",
      "Not English!!!!!!!!!!!!!\n"
     ]
    },
    {
     "name": "stderr",
     "output_type": "stream",
     "text": [
      "/var/folders/s9/6ly2nsx50hg7kjfnghxs0bm80000gn/T/ipykernel_70507/198281822.py:15: SettingWithCopyWarning: \n",
      "A value is trying to be set on a copy of a slice from a DataFrame.\n",
      "Try using .loc[row_indexer,col_indexer] = value instead\n",
      "\n",
      "See the caveats in the documentation: https://pandas.pydata.org/pandas-docs/stable/user_guide/indexing.html#returning-a-view-versus-a-copy\n",
      "  df['language'] = df['reviewText'].apply(lan_check)\n"
     ]
    },
    {
     "name": "stdout",
     "output_type": "stream",
     "text": [
      "Finished:  1620,000\n",
      "     with 29978 reviews\n",
      "Not English!!!!!!!!!!!!!\n",
      "Not English!!!!!!!!!!!!!\n",
      "Not English!!!!!!!!!!!!!\n",
      "1\n",
      "Finished:  1650,000\n",
      "     with 5614 reviews\n"
     ]
    },
    {
     "name": "stderr",
     "output_type": "stream",
     "text": [
      "/var/folders/s9/6ly2nsx50hg7kjfnghxs0bm80000gn/T/ipykernel_70507/198281822.py:15: SettingWithCopyWarning: \n",
      "A value is trying to be set on a copy of a slice from a DataFrame.\n",
      "Try using .loc[row_indexer,col_indexer] = value instead\n",
      "\n",
      "See the caveats in the documentation: https://pandas.pydata.org/pandas-docs/stable/user_guide/indexing.html#returning-a-view-versus-a-copy\n",
      "  df['language'] = df['reviewText'].apply(lan_check)\n"
     ]
    }
   ],
   "source": [
    "def lan_check(text):\n",
    "    try:\n",
    "        if detect(text) == 'en':\n",
    "            return True\n",
    "        else:\n",
    "            print(f'Not English!!!!!!!!!!!!!')\n",
    "            return False\n",
    "    except:\n",
    "        print(len(text))\n",
    "        return True\n",
    "\n",
    "def del_english(df):\n",
    "    # 假设df是你的DataFrame，reviewText是包含文本的列名\n",
    "    # 创建一个新的列，存储每个文本的检测语言\n",
    "    df['language'] = df['reviewText'].apply(lan_check)\n",
    "    # 过滤掉非英语语言的数据行\n",
    "    df = df[df['language']]\n",
    "    # 删除辅助列\n",
    "    df = df.drop(columns=['language'])\n",
    "    return df\n",
    "\n",
    "books_reviews_list=[]\n",
    "for i in range(0, (len(books_reviews)//30000)+1):\n",
    "    temp=books_reviews.iloc[i*30000:(i+1)*30000]\n",
    "    temp = del_english(temp)\n",
    "    books_reviews_list.append(temp)\n",
    "    print(f'Finished:  {(i+1)*3}0,000\\n     with {len(temp)} reviews')"
   ],
   "metadata": {
    "collapsed": false
   }
  },
  {
   "cell_type": "markdown",
   "source": [
    "**Data filter**"
   ],
   "metadata": {
    "collapsed": false
   }
  },
  {
   "cell_type": "code",
   "execution_count": null,
   "outputs": [],
   "source": [
    "total=0\n",
    "books_reviews_filter_list=[]\n",
    "for books_reviews in books_reviews_list:\n",
    "    books_reviews_filter=filter_by_timeline(books_reviews)\n",
    "    print('filter with timeline finished!')\n",
    "    vote_analysis(books_reviews_filter)\n",
    "    books_reviews_filter=filter_by_vote(books_reviews_filter)\n",
    "    print('filter with vote finished!')\n",
    "    # caculate total number of reviews\n",
    "    print('\\n******************\\n')\n",
    "    num_rows, num_cols = books_reviews_filter.shape\n",
    "    total+=num_rows\n",
    "    print('total: ',total)\n",
    "    print('\\n******************\\n')\n",
    "    books_reviews_filter_list.append(books_reviews_filter)"
   ],
   "metadata": {
    "collapsed": false,
    "pycharm": {
     "is_executing": true
    }
   }
  },
  {
   "cell_type": "code",
   "execution_count": 29,
   "outputs": [
    {
     "name": "stdout",
     "output_type": "stream",
     "text": [
      " data of specified columns is NaN: 0\n",
      "                                  列名  num_rows  缺失值数量     数据类型\n",
      "reviewerID                reviewerID   1625617      0   object\n",
      "asin                            asin   1625617      0   object\n",
      "overall                      overall   1625617      0  float64\n",
      "reviewTime                reviewTime   1625617      0   object\n",
      "reviewText                reviewText   1625617      0   object\n",
      "helpful_vote            helpful_vote   1625617      0    int64\n",
      "total_vote                total_vote   1625617      0    int64\n",
      "helpfulness_score  helpfulness_score   1625617      0  float64\n"
     ]
    }
   ],
   "source": [
    "for books_reviews in books_reviews_filter_list:\n",
    "    data_quality(books_reviews,content_columns_reviews)"
   ],
   "metadata": {
    "collapsed": false
   }
  },
  {
   "cell_type": "markdown",
   "source": [
    "***Concatenate***"
   ],
   "metadata": {
    "collapsed": false
   }
  },
  {
   "cell_type": "code",
   "execution_count": 22,
   "outputs": [],
   "source": [
    "# books_reviews_concatenated = pd.concat(books_reviews_filter_list, ignore_index=True)\n",
    "\n",
    "books_reviews_concatenated = pd.concat(books_reviews_list, ignore_index=True)\n",
    "# make reviewTime is datetime type\n",
    "books_reviews_concatenated['reviewTime'] = pd.to_datetime(books_reviews_concatenated['reviewTime'], format='%Y-%m-%d').dt.strftime('%Y-%m-%d')"
   ],
   "metadata": {
    "collapsed": false
   }
  },
  {
   "cell_type": "code",
   "execution_count": 23,
   "outputs": [],
   "source": [
    "books_reviews_concatenated.drop_duplicates(keep='first', inplace=True)"
   ],
   "metadata": {
    "collapsed": false
   }
  },
  {
   "cell_type": "code",
   "execution_count": 24,
   "outputs": [
    {
     "name": "stdout",
     "output_type": "stream",
     "text": [
      " data of specified columns is NaN: 0\n",
      "                                  列名  num_rows  缺失值数量     数据类型\n",
      "reviewerID                reviewerID   1623922      0   object\n",
      "asin                            asin   1623922      0   object\n",
      "overall                      overall   1623922      0  float64\n",
      "reviewTime                reviewTime   1623922      0   object\n",
      "reviewText                reviewText   1623922      0   object\n",
      "helpful_vote            helpful_vote   1623922      0    int64\n",
      "total_vote                total_vote   1623922      0    int64\n",
      "helpfulness_score  helpfulness_score   1623922      0  float64\n"
     ]
    }
   ],
   "source": [
    "data_quality(books_reviews_concatenated,content_columns_reviews)"
   ],
   "metadata": {
    "collapsed": false
   }
  },
  {
   "cell_type": "code",
   "execution_count": 25,
   "outputs": [
    {
     "name": "stdout",
     "output_type": "stream",
     "text": [
      "Table 'books_reviews_filter_final' does not exist. Creating new table...\n",
      "Table 'books_reviews_filter_final' created.\n"
     ]
    }
   ],
   "source": [
    "# table_name='books_reviews_filter'\n",
    "table_name='books_reviews_filter_final'\n",
    "saved_mysql(books_reviews_concatenated,table_name)"
   ],
   "metadata": {
    "collapsed": false
   }
  },
  {
   "cell_type": "code",
   "execution_count": 26,
   "outputs": [
    {
     "name": "stdout",
     "output_type": "stream",
     "text": [
      "Num of rows: 1623922\n",
      "====      \n",
      "Avg sentences: 9.033063164363806\n",
      "Total sentences: 14668990\n",
      "====      \n",
      "Max text length: 33036\n",
      "Min text length: 1\n",
      "Avg text length: 1098.257458794203\n",
      "Mid text length: 636.0\n",
      "q75 text length: 1356.0\n",
      "=====================================\n"
     ]
    }
   ],
   "source": [
    "review_len(books_reviews_concatenated)"
   ],
   "metadata": {
    "collapsed": false
   }
  },
  {
   "cell_type": "markdown",
   "source": [
    "# **Load Product Data and Do Data Clean**"
   ],
   "metadata": {
    "collapsed": false
   }
  },
  {
   "cell_type": "markdown",
   "source": [
    "# ***Cell Phone and Accessories***"
   ],
   "metadata": {
    "collapsed": false
   }
  },
  {
   "cell_type": "code",
   "execution_count": null,
   "outputs": [],
   "source": [
    "cell_phones_meta= getDF('data/meta_Cell_Phones_and_Accessories.json.gz',meta_columns)\n",
    "cell_phones_meta.head()"
   ],
   "metadata": {
    "collapsed": false
   }
  },
  {
   "cell_type": "code",
   "execution_count": null,
   "outputs": [],
   "source": [
    "table_name='cell_phones_meta_original'\n",
    "saved_mysql(cell_phones_meta,table_name)"
   ],
   "metadata": {
    "collapsed": false
   }
  },
  {
   "cell_type": "code",
   "execution_count": null,
   "outputs": [],
   "source": [
    "cell_phones_meta_report = data_quality(cell_phones_meta, content_columns_meta)\n",
    "cell_phones_meta_report"
   ],
   "metadata": {
    "collapsed": false
   }
  },
  {
   "cell_type": "markdown",
   "source": [
    "***delete NaN***"
   ],
   "metadata": {
    "collapsed": false
   }
  },
  {
   "cell_type": "code",
   "execution_count": null,
   "outputs": [],
   "source": [
    "cell_phones_meta=meta_delete_all_NaN(df=cell_phones_meta,table_name=table_name,content_columns=content_columns_meta)"
   ],
   "metadata": {
    "collapsed": false
   }
  },
  {
   "cell_type": "code",
   "execution_count": null,
   "outputs": [],
   "source": [
    "cell_phones_meta_report=data_quality(cell_phones_meta,content_columns_meta)\n",
    "cell_phones_meta_report"
   ],
   "metadata": {
    "collapsed": false
   }
  },
  {
   "cell_type": "code",
   "execution_count": null,
   "outputs": [],
   "source": [
    "table_name='cell_phones_meta_cleaned'\n",
    "saved_mysql(cell_phones_meta,table_name)"
   ],
   "metadata": {
    "collapsed": false
   }
  },
  {
   "cell_type": "markdown",
   "source": [
    "# ***Electronics***"
   ],
   "metadata": {
    "collapsed": false
   }
  },
  {
   "cell_type": "code",
   "execution_count": null,
   "outputs": [],
   "source": [
    "electronics_meta= getDF('data/meta_Electronics.json.gz',meta_columns)\n",
    "electronics_meta.head()"
   ],
   "metadata": {
    "collapsed": false
   }
  },
  {
   "cell_type": "code",
   "execution_count": null,
   "outputs": [],
   "source": [
    "table_name='electronics_meta_original'\n",
    "saved_mysql(electronics_meta,table_name)"
   ],
   "metadata": {
    "collapsed": false
   }
  },
  {
   "cell_type": "code",
   "execution_count": null,
   "outputs": [],
   "source": [
    "electronics_meta_report = data_quality(electronics_meta, content_columns_meta)\n",
    "electronics_meta_report"
   ],
   "metadata": {
    "collapsed": false
   }
  },
  {
   "cell_type": "markdown",
   "source": [
    "***delete NaN***"
   ],
   "metadata": {
    "collapsed": false
   }
  },
  {
   "cell_type": "code",
   "execution_count": null,
   "outputs": [],
   "source": [
    "electronics_meta=meta_delete_all_NaN(df=electronics_meta,table_name=table_name,content_columns=content_columns_meta)"
   ],
   "metadata": {
    "collapsed": false
   }
  },
  {
   "cell_type": "code",
   "execution_count": null,
   "outputs": [],
   "source": [
    "table_name='electronics_meta_cleaned'\n",
    "saved_mysql(electronics_meta,table_name)"
   ],
   "metadata": {
    "collapsed": false
   }
  },
  {
   "cell_type": "markdown",
   "source": [
    "# ***Books***"
   ],
   "metadata": {
    "collapsed": false
   }
  },
  {
   "cell_type": "code",
   "execution_count": null,
   "outputs": [],
   "source": [
    "books_meta= getDF('data/meta_Books.json.gz',meta_columns)\n",
    "books_meta.head()"
   ],
   "metadata": {
    "collapsed": false
   }
  },
  {
   "cell_type": "code",
   "execution_count": null,
   "outputs": [],
   "source": [
    "table_name='books_meta_original'\n",
    "saved_mysql(books_meta,table_name)"
   ],
   "metadata": {
    "collapsed": false
   }
  },
  {
   "cell_type": "code",
   "execution_count": null,
   "outputs": [],
   "source": [
    "# books_meta=read_data_from_mysql('books_meta_original')"
   ],
   "metadata": {
    "collapsed": false
   }
  },
  {
   "cell_type": "code",
   "execution_count": null,
   "outputs": [],
   "source": [
    "data_quality(books_meta,content_columns_meta)"
   ],
   "metadata": {
    "collapsed": false
   }
  },
  {
   "cell_type": "code",
   "execution_count": null,
   "outputs": [],
   "source": [
    "books_meta=meta_delete_all_NaN(df=books_meta,table_name=table_name,content_columns=content_columns_meta)"
   ],
   "metadata": {
    "collapsed": false
   }
  },
  {
   "cell_type": "code",
   "execution_count": null,
   "outputs": [],
   "source": [
    "data_quality(books_meta,content_columns_meta)"
   ],
   "metadata": {
    "collapsed": false
   }
  },
  {
   "cell_type": "code",
   "execution_count": null,
   "outputs": [],
   "source": [
    "table_name='books_meta_cleaned'\n",
    "saved_mysql(books_meta,table_name)"
   ],
   "metadata": {
    "collapsed": false
   }
  },
  {
   "cell_type": "markdown",
   "source": [
    "***Video Games***"
   ],
   "metadata": {
    "collapsed": false
   }
  },
  {
   "cell_type": "code",
   "execution_count": null,
   "outputs": [],
   "source": [
    "video_games_meta= getDF('data/meta_Video_Games.json.gz',meta_columns)\n",
    "video_games_meta.head()"
   ],
   "metadata": {
    "collapsed": false
   }
  },
  {
   "cell_type": "code",
   "execution_count": null,
   "outputs": [],
   "source": [
    "table_name='video_games_meta_original'\n",
    "saved_mysql(video_games_meta,table_name)"
   ],
   "metadata": {
    "collapsed": false
   }
  },
  {
   "cell_type": "code",
   "execution_count": null,
   "outputs": [],
   "source": [
    "data_quality(video_games_meta,content_columns_meta)"
   ],
   "metadata": {
    "collapsed": false
   }
  },
  {
   "cell_type": "code",
   "execution_count": null,
   "outputs": [],
   "source": [
    "video_games_meta=meta_delete_all_NaN(df=video_games_meta,table_name=table_name,content_columns=content_columns_meta)"
   ],
   "metadata": {
    "collapsed": false
   }
  },
  {
   "cell_type": "code",
   "execution_count": null,
   "outputs": [],
   "source": [
    "data_quality(video_games_meta,content_columns_meta)"
   ],
   "metadata": {
    "collapsed": false
   }
  },
  {
   "cell_type": "code",
   "execution_count": null,
   "outputs": [],
   "source": [
    "table_name='video_games_meta_cleaned'\n",
    "saved_mysql(video_games_meta,table_name)"
   ],
   "metadata": {
    "collapsed": false
   }
  },
  {
   "cell_type": "markdown",
   "source": [
    "# *product clean*"
   ],
   "metadata": {
    "collapsed": false
   }
  },
  {
   "cell_type": "code",
   "execution_count": null,
   "outputs": [],
   "source": [
    "meta_cell_phones=read_data_from_mysql('meta_cell_phones')\n",
    "meta_electronics=read_data_from_mysql('meta_electronics')\n",
    "meta_books=read_data_from_mysql('meta_books')\n",
    "meta_video_games=read_data_from_mysql('meta_video_games')"
   ],
   "metadata": {
    "collapsed": false
   }
  },
  {
   "cell_type": "code",
   "execution_count": null,
   "outputs": [],
   "source": [
    "data_quality(meta_cell_phones,content_columns_meta)\n",
    "data_quality(meta_electronics,content_columns_meta)\n",
    "data_quality(meta_books,content_columns_meta)\n",
    "data_quality(meta_video_games,content_columns_meta)"
   ],
   "metadata": {
    "collapsed": false
   }
  },
  {
   "cell_type": "markdown",
   "source": [
    "**SP**"
   ],
   "metadata": {
    "collapsed": false
   }
  },
  {
   "cell_type": "code",
   "execution_count": null,
   "outputs": [],
   "source": [
    "cell_phones_reviews=read_data_from_mysql('cell_phones_reviews_filter')\n",
    "electronics_reviews=read_data_from_mysql('electronics_reviews_filter')"
   ],
   "metadata": {
    "collapsed": false
   }
  },
  {
   "cell_type": "code",
   "execution_count": null,
   "outputs": [],
   "source": [
    "data_quality(cell_phones_reviews,content_columns_reviews)\n",
    "data_quality(electronics_reviews,content_columns_reviews)"
   ],
   "metadata": {
    "collapsed": false
   }
  },
  {
   "cell_type": "code",
   "execution_count": null,
   "outputs": [],
   "source": [
    "asin_cell_phone = cell_phones_reviews['asin'].drop_duplicates().reset_index(drop=True)\n",
    "asin_electronics = electronics_reviews['asin'].drop_duplicates().reset_index(drop=True)\n",
    "asin_electronics.head()"
   ],
   "metadata": {
    "collapsed": false
   }
  },
  {
   "cell_type": "code",
   "execution_count": null,
   "outputs": [],
   "source": [
    "# Convert the Series to a DataFrame\n",
    "asin_cell_phone = pd.DataFrame({'asin': asin_cell_phone})\n",
    "asin_electronics=pd.DataFrame({'asin': asin_electronics})"
   ],
   "metadata": {
    "collapsed": false
   }
  },
  {
   "cell_type": "code",
   "execution_count": null,
   "outputs": [],
   "source": [
    "asin_cell_phone.columns"
   ],
   "metadata": {
    "collapsed": false
   }
  },
  {
   "cell_type": "code",
   "execution_count": null,
   "outputs": [],
   "source": [
    "len(asin_electronics)"
   ],
   "metadata": {
    "collapsed": false
   }
  },
  {
   "cell_type": "code",
   "execution_count": null,
   "outputs": [],
   "source": [
    "# Filter 'meta_cell_phone' based on whether 'asin' values are present in 'product'\n",
    "meta_cell_phone = meta_cell_phones[meta_cell_phones['asin'].isin(asin_cell_phone['asin'])]\n",
    "file_name='meta_cell_phone_filter'\n",
    "saved_mysql(meta_cell_phone,file_name)\n",
    "data_quality(meta_cell_phone,content_columns_meta)"
   ],
   "metadata": {
    "collapsed": false
   }
  },
  {
   "cell_type": "code",
   "execution_count": null,
   "outputs": [],
   "source": [
    "meta_electronics = meta_electronics[meta_electronics['asin'].isin(asin_electronics['asin'])]\n",
    "file_name='meta_electronics_filter'\n",
    "saved_mysql(meta_electronics,file_name)\n",
    "data_quality(meta_electronics,content_columns_meta)"
   ],
   "metadata": {
    "collapsed": false
   }
  },
  {
   "cell_type": "markdown",
   "source": [
    "*EP*"
   ],
   "metadata": {
    "collapsed": false
   }
  },
  {
   "cell_type": "code",
   "execution_count": null,
   "outputs": [],
   "source": [
    "video_games_reviews=read_data_from_mysql('video_games_reviews_filter')\n",
    "data_quality(video_games_reviews,content_columns_reviews)"
   ],
   "metadata": {
    "collapsed": false
   }
  },
  {
   "cell_type": "code",
   "execution_count": null,
   "outputs": [],
   "source": [
    "asin_video_games = video_games_reviews['asin'].drop_duplicates().reset_index(drop=True)\n",
    "asin_video_games = pd.DataFrame({'asin': asin_video_games})\n",
    "asin_video_games.head()"
   ],
   "metadata": {
    "collapsed": false
   }
  },
  {
   "cell_type": "code",
   "execution_count": null,
   "outputs": [],
   "source": [
    "len(asin_video_games)"
   ],
   "metadata": {
    "collapsed": false
   }
  },
  {
   "cell_type": "code",
   "execution_count": null,
   "outputs": [],
   "source": [
    "meta_video_games = meta_video_games[meta_video_games['asin'].isin(asin_video_games['asin'])]\n",
    "file_name='meta_video_games_filter'\n",
    "saved_mysql(meta_video_games,file_name)\n",
    "data_quality(meta_video_games,content_columns_meta)"
   ],
   "metadata": {
    "collapsed": false
   }
  },
  {
   "cell_type": "code",
   "execution_count": null,
   "outputs": [],
   "source": [
    "books_reviews=read_data_from_mysql('books_reviews_filter')\n",
    "data_quality(books_reviews,content_columns_reviews)"
   ],
   "metadata": {
    "collapsed": false
   }
  },
  {
   "cell_type": "code",
   "execution_count": null,
   "outputs": [],
   "source": [
    "asin_books = books_reviews['asin'].drop_duplicates().reset_index(drop=True)\n",
    "asin_books = pd.DataFrame({'asin': asin_books})"
   ],
   "metadata": {
    "collapsed": false
   }
  },
  {
   "cell_type": "code",
   "execution_count": null,
   "outputs": [],
   "source": [
    "len(asin_books)"
   ],
   "metadata": {
    "collapsed": false
   }
  },
  {
   "cell_type": "code",
   "execution_count": null,
   "outputs": [],
   "source": [
    "meta_books=read_data_from_mysql('books_meta_original')"
   ],
   "metadata": {
    "collapsed": false
   }
  },
  {
   "cell_type": "code",
   "execution_count": null,
   "outputs": [],
   "source": [
    "data_quality(meta_books,content_columns_meta)"
   ],
   "metadata": {
    "collapsed": false
   }
  },
  {
   "cell_type": "code",
   "execution_count": null,
   "outputs": [],
   "source": [
    "table_name='books_meta_original'\n",
    "meta_books=meta_delete_all_NaN(df=meta_books,table_name=table_name,content_columns=content_columns_meta)"
   ],
   "metadata": {
    "collapsed": false
   }
  },
  {
   "cell_type": "code",
   "execution_count": null,
   "outputs": [],
   "source": [
    "data_quality(meta_books,content_columns_meta)"
   ],
   "metadata": {
    "collapsed": false
   }
  },
  {
   "cell_type": "code",
   "execution_count": null,
   "outputs": [],
   "source": [
    "meta_books = meta_books[meta_books['asin'].isin(asin_books['asin'])]"
   ],
   "metadata": {
    "collapsed": false
   }
  },
  {
   "cell_type": "code",
   "execution_count": null,
   "outputs": [],
   "source": [
    "duplicates = asin_books.duplicated()\n",
    "duplicates[duplicates == True]"
   ],
   "metadata": {
    "collapsed": false
   }
  },
  {
   "cell_type": "code",
   "execution_count": null,
   "outputs": [],
   "source": [
    "# meta_books = meta_books[meta_books['asin'].isin(asin_books['asin'])]\n",
    "file_name='meta_books_filter'\n",
    "saved_mysql(meta_books,file_name)\n",
    "data_quality(meta_books,content_columns_meta)"
   ],
   "metadata": {
    "collapsed": false
   }
  }
 ],
 "metadata": {
  "kernelspec": {
   "display_name": "Python 3",
   "language": "python",
   "name": "python3"
  },
  "language_info": {
   "codemirror_mode": {
    "name": "ipython",
    "version": 2
   },
   "file_extension": ".py",
   "mimetype": "text/x-python",
   "name": "python",
   "nbconvert_exporter": "python",
   "pygments_lexer": "ipython2",
   "version": "2.7.6"
  }
 },
 "nbformat": 4,
 "nbformat_minor": 0
}
