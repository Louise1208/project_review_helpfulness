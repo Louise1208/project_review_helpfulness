{
 "cells": [
  {
   "cell_type": "code",
   "execution_count": 1,
   "outputs": [],
   "source": [
    "import pandas as pd\n",
    "from sklearn.preprocessing import StandardScaler\n",
    "from torch.utils.data import DataLoader, TensorDataset\n",
    "import numpy as np\n",
    "from sklearn.svm import SVR\n",
    "from sklearn.model_selection import GridSearchCV\n",
    "import data_load"
   ],
   "metadata": {
    "collapsed": false
   }
  },
  {
   "cell_type": "code",
   "execution_count": 2,
   "outputs": [
    {
     "data": {
      "text/plain": "0"
     },
     "execution_count": 2,
     "metadata": {},
     "output_type": "execute_result"
    }
   ],
   "source": [
    "import gc\n",
    "gc.collect()"
   ],
   "metadata": {
    "collapsed": false
   }
  },
  {
   "cell_type": "code",
   "execution_count": 3,
   "outputs": [],
   "source": [
    "max_sequence_length = 1024"
   ],
   "metadata": {
    "collapsed": false
   }
  },
  {
   "cell_type": "code",
   "execution_count": 4,
   "outputs": [
    {
     "name": "stdout",
     "output_type": "stream",
     "text": [
      "Loaded GloVe!\n"
     ]
    }
   ],
   "source": [
    "from gensim.models import KeyedVectors  # 用于加载GloVe词嵌入\n",
    "# 加载预训练的GloVe词嵌入\n",
    "glove_file = 'glove.6B/glove.6B.100d.txt'  # 替换为实际的GloVe文件路径 Common Crawl (42B tokens, 1.9M vocab, uncased, 300d vectors, 1.75 GB download Vocabulary Size: 400000   Embedding Dimension: 100d )\n",
    "glove_model = KeyedVectors.load_word2vec_format(glove_file, binary=False)\n",
    "print('Loaded GloVe!')"
   ],
   "metadata": {
    "collapsed": false
   }
  },
  {
   "cell_type": "code",
   "execution_count": 5,
   "outputs": [],
   "source": [
    "def get_embedding_vector_for_word(word):\n",
    "    if word in glove_model:\n",
    "        return glove_model[word]\n",
    "    else:\n",
    "        return None\n",
    "\n",
    "def review_preprocessing(X_train,X_validation,X_test):\n",
    "\n",
    "    x_train_reviews=X_train['reviewText'].tolist()\n",
    "    x_validation_reviews=X_validation['reviewText'].tolist()\n",
    "    x_test_reviews=X_test['reviewText'].tolist()\n",
    "\n",
    "    x_train_combined = x_train_reviews + x_validation_reviews\n",
    "    del x_train_reviews\n",
    "    del x_validation_reviews\n",
    "\n",
    "    # Combine all reviews to create vocabulary\n",
    "    all_reviews = x_train_combined + x_test_reviews\n",
    "\n",
    "    # Build vocabulary manually\n",
    "    word_index = {}\n",
    "    current_index = 1  # Start index from 1\n",
    "    for review in all_reviews:\n",
    "        words = review.split()\n",
    "        for word in words:\n",
    "            if word not in word_index:\n",
    "                word_index[word] = current_index\n",
    "                current_index += 1\n",
    "    vocab_size = len(word_index) + 1\n",
    "    print('Vocabulary size:', vocab_size)\n",
    "\n",
    "    # Initialize embedding matrix\n",
    "    embedding_dim = 100  # Assuming embedding dimension is 100\n",
    "    embedding_matrix = np.zeros((vocab_size, embedding_dim))\n",
    "\n",
    "    # Fill embedding matrix\n",
    "    for word, i in word_index.items():\n",
    "        embedding_vector = get_embedding_vector_for_word(word)  # Get embedding vector for word\n",
    "        if embedding_vector is not None:\n",
    "            embedding_matrix[i] = embedding_vector\n",
    "    print('Embedding matrix shape:', embedding_matrix.shape)\n",
    "    # Save embedding matrix to file\n",
    "    np.save('embedding_matrix.npy', embedding_matrix)\n",
    "\n",
    "    # Convert text to embedding representation\n",
    "    def text_to_sequences(texts, word_index):\n",
    "        sequences = []\n",
    "        for text in texts:\n",
    "            words = text.split()\n",
    "            sequence = [word_index[word] for word in words if word in word_index]\n",
    "            sequences.append(sequence)\n",
    "        return sequences\n",
    "\n",
    "    x_train_combined_sequences = text_to_sequences(x_train_combined, word_index)\n",
    "    x_test_sequences = text_to_sequences(x_test_reviews, word_index)\n",
    "\n",
    "    def pad_sequences(sequences, max_length):\n",
    "        padded_sequences = []\n",
    "        for seq in sequences:\n",
    "            if len(seq) < max_length:\n",
    "                padded_seq = seq + [0] * (max_length - len(seq))\n",
    "            else:\n",
    "                padded_seq = seq[:max_length]\n",
    "            padded_sequences.append(padded_seq)\n",
    "        return padded_sequences\n",
    "\n",
    "    x_train_combined_padded = pad_sequences(x_train_combined_sequences, max_sequence_length)\n",
    "    x_test_padded = pad_sequences(x_test_sequences, max_sequence_length)\n",
    "    print('sample review:', len(x_train_combined_padded[0]))\n",
    "    print('Text preprocessing done!')\n",
    "    return x_train_combined_padded, x_test_padded\n"
   ],
   "metadata": {
    "collapsed": false
   }
  },
  {
   "cell_type": "code",
   "execution_count": 6,
   "outputs": [],
   "source": [
    "def features_preprocessing(X_train,X_validation,X_test):\n",
    "    # do with Features\n",
    "    X_train.drop(columns=['reviewText'],inplace=True)\n",
    "    X_validation.drop(columns=['reviewText'],inplace=True)\n",
    "    X_test.drop(columns=['reviewText'], inplace=True)\n",
    "\n",
    "    x_train_features_combined = pd.concat([X_train, X_validation], axis=0)\n",
    "    del X_train\n",
    "    del X_validation\n",
    "\n",
    "    # 定义数值特征转换器，将每个特征的值转换为均值为 0，标准差为 1 的分布，从而使得数据的分布更接近正态分布。\n",
    "    scaler = StandardScaler()\n",
    "    x_train_features_combined_features=scaler.fit_transform(x_train_features_combined)\n",
    "    x_test_features=scaler.transform(X_test)\n",
    "    print('Features preprocessing done!')\n",
    "    return x_train_features_combined_features,x_test_features"
   ],
   "metadata": {
    "collapsed": false
   }
  },
  {
   "cell_type": "code",
   "execution_count": 7,
   "outputs": [],
   "source": [
    "def data_processing(x_train_combined_padded, x_test_padded,x_train_features_combined_features,x_test_features,y_train,y_validation,y_test):\n",
    "    x_train_combined=np.concatenate((x_train_combined_padded, x_train_features_combined_features), axis=1)\n",
    "    y_train_combined = np.concatenate((y_train, y_validation), axis=0)\n",
    "    x_test=np.concatenate((x_test_padded, x_test_features), axis=1)\n",
    "\n",
    "    print('x_train_combined.shape:', x_train_combined.shape)\n",
    "\n",
    "    return x_train_combined,y_train_combined,x_test,y_test"
   ],
   "metadata": {
    "collapsed": false
   }
  },
  {
   "cell_type": "markdown",
   "source": [
    "## Model"
   ],
   "metadata": {
    "collapsed": false
   }
  },
  {
   "cell_type": "code",
   "execution_count": 8,
   "outputs": [],
   "source": [
    "import time\n",
    "from sklearn.svm import NuSVR\n",
    "# # NuSVR: a Support Vector Machine for Regression\n",
    "#     # suitable for large datasets\n",
    "#     # 处理高维数据：NuSVR可以有效地处理高维特征空间中的数据，适用于大量的特征。\n",
    "#     # 控制支持向量数量：通过参数nu，控制模型中的支持向量数量，从而在大型数据库中降低内存和计算资源的需求。\n",
    "#     # 非线性关系建模：NuSVR支持使用核函数来处理非线性关系，这使得它在处理复杂的数据模式时非常有用。\n",
    "#     # 可扩展性：NuSVR可以处理大型数据集，因为它在训练过程中采用了一些优化方法，如启发式收缩和使用子集选择支持向量。\n",
    "#     # 泛化能力：NuSVR在适当的参数设置下，通常能够很好地泛化到未见过的数据。\n",
    "#\n",
    "#"
   ],
   "metadata": {
    "collapsed": false
   }
  },
  {
   "cell_type": "code",
   "execution_count": 9,
   "outputs": [],
   "source": [
    "\n",
    "# def find_best_parameters(X_train_combined, y_train_combined):\n",
    "#     nu_svm_model = NuSVR()\n",
    "#     # GridSearchCV to find the best hyperparameters\n",
    "#     param_grid = {\n",
    "#         'nu': [0.3,0.5],  # range of nu\n",
    "#         'gamma': ['scale', 'auto'],  # range of gamma\n",
    "#         'cache_size': [80,100,200] , # cache size in MB: 原数据大小：min 165, max 1500,report里写80-1000。这里这样是因为取了1/10\n",
    "#         'shrinking': [True, False], # whether to use the shrinking heuristic\n",
    "#         'max_iter': [-1], # the maximum number of iterations to be run,100，1000，2000时是无法收敛，ConvergenceWarning: Solver terminated early (max_iter=100,1000).\n",
    "#         'kernel':['rbf','poly']\n",
    "#         # epsilon, nuSVR does not support the parameter epsilon\n",
    "#     }\n",
    "#     start=time.time()\n",
    "#     # build GridSearchCV instance\n",
    "#     grid_search = GridSearchCV(nu_svm_model, param_grid, cv=2, scoring='neg_mean_squared_error', verbose=3, n_jobs=-1)\n",
    "#\n",
    "#     # do grid search on training set\n",
    "#     grid_search.fit(X_train_combined, y_train_combined)\n",
    "#\n",
    "#     end = time.time() - start\n",
    "#     # get the best hyperparameters\n",
    "#     best_params = grid_search.best_params_\n",
    "#     print('Best parameters for nu-svy_predr: ', best_params)\n",
    "#\n",
    "#     #  best: {'cache_size': 80, 'gamma': 'scale', 'kernel': 'rbf', 'max_iter': -1, 'nu': 0.5,'shrinking': False}\n",
    "#     best_svr = grid_search.best_estimator_\n",
    "#     # best_estimator_: 一步到位找到最佳的模型\n",
    "#\n",
    "#     with open('results/evaluation_result_SVR.txt', 'a') as f:\n",
    "#         f.write('training time: '+str(end) + '\\n')\n",
    "#         f.write('Best parameters for nu-svy_predr: '+ str(best_params) + '\\n')\n",
    "#\n",
    "#\n",
    "#     return best_svr\n"
   ],
   "metadata": {
    "collapsed": false
   }
  },
  {
   "cell_type": "code",
   "execution_count": 10,
   "outputs": [],
   "source": [
    "def model_build(x_train_combined,y_train_combined):\n",
    "    start = time.time()\n",
    "    best_svm_model = NuSVR(cache_size=80, gamma='scale', kernel='rbf', max_iter=-1, nu=0.5, shrinking=False)\n",
    "    # 在训练集上训练模型\n",
    "    best_svm_model.fit(x_train_combined, y_train_combined)\n",
    "    end = time.time() - start\n",
    "    print('training time:', end)\n",
    "    with open('results/evaluation_result_SVR.txt', 'a') as f:\n",
    "        f.write('training time: '+str(end) + '\\n')\n",
    "    return best_svm_model\n"
   ],
   "metadata": {
    "collapsed": false
   }
  },
  {
   "cell_type": "code",
   "execution_count": 11,
   "outputs": [],
   "source": [
    "# X 是特征向量，y 是目标变量（有用性分数）\n",
    "def predict( X_test, y_ture,x_test_original,best_svm_model,saved_file):\n",
    "    y_pred = best_svm_model.predict(X_test)\n",
    "    print(len(y_pred))\n",
    "    print('y_pred:', y_pred[:10])\n",
    "    x_test_original['y_pred'] = y_pred\n",
    "    x_test_original['y_true'] = y_ture\n",
    "    x_test_original.to_csv(saved_file, index=False)\n",
    "    return y_pred"
   ],
   "metadata": {
    "collapsed": false
   }
  },
  {
   "cell_type": "code",
   "execution_count": 12,
   "outputs": [],
   "source": [
    "import evaluation as ev\n",
    "def evaluation_svr(y_pred,y_ture,path):\n",
    "    # Reshape y_pred_video_games\n",
    "    y_pred = np.reshape(y_pred, (y_pred.shape[0],))\n",
    "    print('y_pred.shape:', y_pred.shape)\n",
    "\n",
    "    rmse=ev.rmse(y_ture,y_pred)\n",
    "    rmse=round(rmse,3)\n",
    "    pcc=ev.pcc(y_ture,y_pred)\n",
    "    pcc=round(pcc,3)\n",
    "    ndcg=ev.ndcg(y_ture,y_pred)\n",
    "    ndcg=round(ndcg,3)\n",
    "    print('rmse:',rmse)\n",
    "    print('pcc:',pcc)\n",
    "    print('ndcg:',ndcg)\n",
    "\n",
    "    # save into text file\n",
    "    with open(path, 'a') as f:\n",
    "        f.write('RMSE: ' + str(rmse) + '\\n')\n",
    "        f.write('PCC: ' + str(pcc) + '\\n')\n",
    "        f.write('NDCG: ' + str(ndcg) + '\\n')\n",
    "        f.write('\\n\\n')"
   ],
   "metadata": {
    "collapsed": false
   }
  },
  {
   "cell_type": "markdown",
   "source": [
    "## Main"
   ],
   "metadata": {
    "collapsed": false
   }
  },
  {
   "cell_type": "markdown",
   "source": [
    "## 1. video_games"
   ],
   "metadata": {
    "collapsed": false
   }
  },
  {
   "cell_type": "markdown",
   "source": [
    "### 1.1 all features"
   ],
   "metadata": {
    "collapsed": false
   },
   "execution_count": 11
  },
  {
   "cell_type": "code",
   "execution_count": 13,
   "outputs": [
    {
     "name": "stderr",
     "output_type": "stream",
     "text": [
      "/Users/xiangzhiping/Code/project_review_helpfulness/data_load.py:18: UserWarning: pandas only supports SQLAlchemy connectable (engine/connection) or database string URI or sqlite3 DBAPI2 connection. Other DBAPI2 objects are not tested. Please consider using SQLAlchemy.\n",
      "  df = pd.read_sql(query, conn)\n"
     ]
    },
    {
     "name": "stdout",
     "output_type": "stream",
     "text": [
      "load features_video_games from MySQL: (55120, 11)!\n",
      "features selection finished!\n",
      "No null values found in the dataset.\n",
      "shape of X_train: (39686, 10)\n",
      "shape of X_validation: (4410, 10)\n",
      "shape of X_test: (11024, 10)\n",
      "shape of y_train: (39686,)\n",
      "shape of y_validation: (4410,)\n",
      "shape of y_test: (11024,)\n",
      "Index(['reviewText', 'overall', 'review_length', 'num_sentences',\n",
      "       'avg_sentence_length', 'subjectivity', 'readability', 'timeline',\n",
      "       'topic', 'review_volume'],\n",
      "      dtype='object')\n"
     ]
    }
   ],
   "source": [
    "x_train_video_games, x_validation_video_games, x_test_video_games, y_train_video_games, y_validation_video_games, y_test_video_games = data_load.data_load(tag='all',table_name='features_video_games')\n",
    "with open('results/evaluation_result_SVR.txt', 'a') as f:\n",
    "    f.write('===========video_games===========' + '\\n\\n')\n",
    "    f.write('====All Features====' + '\\n')"
   ],
   "metadata": {
    "collapsed": false
   }
  },
  {
   "cell_type": "code",
   "execution_count": 14,
   "outputs": [
    {
     "name": "stdout",
     "output_type": "stream",
     "text": [
      "Vocabulary size: 374733\n",
      "Embedding matrix shape: (374733, 100)\n",
      "sample review: 1024\n",
      "Text preprocessing done!\n"
     ]
    }
   ],
   "source": [
    "x_train_combined_padded, x_test_padded=review_preprocessing(x_train_video_games, x_validation_video_games, x_test_video_games)"
   ],
   "metadata": {
    "collapsed": false
   }
  },
  {
   "cell_type": "code",
   "execution_count": 15,
   "outputs": [
    {
     "name": "stdout",
     "output_type": "stream",
     "text": [
      "Features preprocessing done!\n"
     ]
    }
   ],
   "source": [
    "x_train_features_combined_features,x_test_features=features_preprocessing(x_train_video_games, x_validation_video_games, x_test_video_games)"
   ],
   "metadata": {
    "collapsed": false
   }
  },
  {
   "cell_type": "code",
   "execution_count": 16,
   "outputs": [
    {
     "name": "stdout",
     "output_type": "stream",
     "text": [
      "x_train_combined.shape: (44096, 1033)\n"
     ]
    }
   ],
   "source": [
    "x_train_combined,y_train_combined,x_test,y_test=data_processing(x_train_combined_padded, x_test_padded,x_train_features_combined_features,x_test_features,y_train_video_games, y_validation_video_games,y_test_video_games)"
   ],
   "metadata": {
    "collapsed": false
   }
  },
  {
   "cell_type": "code",
   "execution_count": 17,
   "outputs": [],
   "source": [
    "# best_svm_model=find_best_parameters_randomized(x_train_combined, y_train_combined)"
   ],
   "metadata": {
    "collapsed": false
   }
  },
  {
   "cell_type": "code",
   "execution_count": null,
   "outputs": [],
   "source": [
    "best_svm_model=model_build(x_train_combined,y_train_combined)"
   ],
   "metadata": {
    "collapsed": false,
    "pycharm": {
     "is_executing": true
    }
   }
  },
  {
   "cell_type": "code",
   "execution_count": null,
   "outputs": [],
   "source": [
    "y_pred_video_games=predict(x_test,y_test,x_test_video_games,best_svm_model,'results/svr_video_games_all.csv')"
   ],
   "metadata": {
    "collapsed": false,
    "pycharm": {
     "is_executing": true
    }
   }
  },
  {
   "cell_type": "code",
   "execution_count": null,
   "outputs": [],
   "source": [
    "evaluation_svr(y_pred_video_games,y_test_video_games,'results/evaluation_result_SVR.txt')"
   ],
   "metadata": {
    "collapsed": false,
    "pycharm": {
     "is_executing": true
    }
   }
  },
  {
   "cell_type": "code",
   "execution_count": null,
   "outputs": [],
   "source": [
    "del x_train_video_games\n",
    "del x_test\n",
    "del x_test_features\n",
    "del x_train_features_combined_features\n",
    "del x_train_combined"
   ],
   "metadata": {
    "collapsed": false,
    "pycharm": {
     "is_executing": true
    }
   }
  },
  {
   "cell_type": "markdown",
   "source": [
    "## Gini: only gini features"
   ],
   "metadata": {
    "collapsed": false
   }
  },
  {
   "cell_type": "code",
   "execution_count": null,
   "outputs": [],
   "source": [
    "x_train_video_games, x_validation_video_games, x_test_video_games, y_train_video_games, y_validation_video_games, y_test_video_games = data_load.data_load(tag='Gini',table_name='features_video_games')\n",
    "with open('results/evaluation_result_SVR.txt', 'a') as f:\n",
    "    f.write('====Gini Features====' + '\\n')"
   ],
   "metadata": {
    "collapsed": false,
    "pycharm": {
     "is_executing": true
    }
   }
  },
  {
   "cell_type": "code",
   "execution_count": null,
   "outputs": [],
   "source": [
    "x_train_combined_padded, x_test_padded=review_preprocessing(x_train_video_games, x_validation_video_games, x_test_video_games)"
   ],
   "metadata": {
    "collapsed": false,
    "pycharm": {
     "is_executing": true
    }
   }
  },
  {
   "cell_type": "code",
   "execution_count": null,
   "outputs": [],
   "source": [
    "x_train_features_combined_features,x_test_features=features_preprocessing(x_train_video_games, x_validation_video_games, x_test_video_games)"
   ],
   "metadata": {
    "collapsed": false,
    "pycharm": {
     "is_executing": true
    }
   }
  },
  {
   "cell_type": "code",
   "execution_count": null,
   "outputs": [],
   "source": [
    "x_train_combined,y_train_combined,x_test,y_test=data_processing(x_train_combined_padded, x_test_padded,x_train_features_combined_features,x_test_features,y_train_video_games, y_validation_video_games,y_test_video_games)"
   ],
   "metadata": {
    "collapsed": false,
    "pycharm": {
     "is_executing": true
    }
   }
  },
  {
   "cell_type": "code",
   "execution_count": null,
   "outputs": [],
   "source": [
    "best_svm_model=model_build(x_train_combined,y_train_combined)"
   ],
   "metadata": {
    "collapsed": false,
    "pycharm": {
     "is_executing": true
    }
   }
  },
  {
   "cell_type": "code",
   "execution_count": null,
   "outputs": [],
   "source": [
    "y_pred_video_games=predict(x_test,y_test,x_test_video_games,best_svm_model,'results/svr_video_games_Gini.csv')"
   ],
   "metadata": {
    "collapsed": false,
    "pycharm": {
     "is_executing": true
    }
   }
  },
  {
   "cell_type": "code",
   "execution_count": null,
   "outputs": [],
   "source": [
    "evaluation_svr(y_pred_video_games,y_test_video_games,'results/evaluation_result_SVR.txt')"
   ],
   "metadata": {
    "collapsed": false,
    "pycharm": {
     "is_executing": true
    }
   }
  },
  {
   "cell_type": "markdown",
   "source": [
    "## PCC: only PCC features"
   ],
   "metadata": {
    "collapsed": false
   }
  },
  {
   "cell_type": "code",
   "execution_count": null,
   "outputs": [],
   "source": [
    "x_train_video_games, x_validation_video_games, x_test_video_games, y_train_video_games, y_validation_video_games, y_test_video_games = data_load.data_load(tag='PCC',table_name='features_video_games')\n",
    "with open('results/evaluation_result_SVR.txt', 'a') as f:\n",
    "    f.write('====PCC Features====' + '\\n')"
   ],
   "metadata": {
    "collapsed": false,
    "pycharm": {
     "is_executing": true
    }
   }
  },
  {
   "cell_type": "code",
   "execution_count": null,
   "outputs": [],
   "source": [
    "x_train_combined_padded, x_test_padded=review_preprocessing(x_train_video_games, x_validation_video_games, x_test_video_games)"
   ],
   "metadata": {
    "collapsed": false,
    "pycharm": {
     "is_executing": true
    }
   }
  },
  {
   "cell_type": "code",
   "execution_count": null,
   "outputs": [],
   "source": [
    "x_train_features_combined_features,x_test_features=features_preprocessing(x_train_video_games, x_validation_video_games, x_test_video_games)"
   ],
   "metadata": {
    "collapsed": false,
    "pycharm": {
     "is_executing": true
    }
   }
  },
  {
   "cell_type": "code",
   "execution_count": null,
   "outputs": [],
   "source": [
    "x_train_combined,y_train_combined,x_test,y_test=data_processing(x_train_combined_padded, x_test_padded,x_train_features_combined_features,x_test_features,y_train_video_games, y_validation_video_games,y_test_video_games)"
   ],
   "metadata": {
    "collapsed": false,
    "pycharm": {
     "is_executing": true
    }
   }
  },
  {
   "cell_type": "code",
   "execution_count": null,
   "outputs": [],
   "source": [
    "best_svm_model=model_build(x_train_combined,y_train_combined)"
   ],
   "metadata": {
    "collapsed": false,
    "pycharm": {
     "is_executing": true
    }
   }
  },
  {
   "cell_type": "code",
   "execution_count": null,
   "outputs": [],
   "source": [
    "y_pred_video_games=predict(x_test,y_test,x_test_video_games,best_svm_model,'results/svr_video_games_PCC.csv')"
   ],
   "metadata": {
    "collapsed": false,
    "pycharm": {
     "is_executing": true
    }
   }
  },
  {
   "cell_type": "code",
   "execution_count": null,
   "outputs": [],
   "source": [
    "evaluation_svr(y_pred_video_games,y_test_video_games,'results/evaluation_result_SVR.txt')"
   ],
   "metadata": {
    "collapsed": false,
    "pycharm": {
     "is_executing": true
    }
   }
  },
  {
   "cell_type": "markdown",
   "source": [
    "## SPC: only SPC features"
   ],
   "metadata": {
    "collapsed": false
   }
  },
  {
   "cell_type": "code",
   "execution_count": null,
   "outputs": [],
   "source": [
    "x_train_video_games, x_validation_video_games, x_test_video_games, y_train_video_games, y_validation_video_games, y_test_video_games = data_load.data_load(tag='SPC',table_name='features_video_games')\n",
    "with open('results/evaluation_result_SVR.txt', 'a') as f:\n",
    "    f.write('====SPC Features====' + '\\n')"
   ],
   "metadata": {
    "collapsed": false,
    "pycharm": {
     "is_executing": true
    }
   }
  },
  {
   "cell_type": "code",
   "execution_count": null,
   "outputs": [],
   "source": [
    "x_train_combined_padded, x_test_padded=review_preprocessing(x_train_video_games, x_validation_video_games, x_test_video_games)"
   ],
   "metadata": {
    "collapsed": false,
    "pycharm": {
     "is_executing": true
    }
   }
  },
  {
   "cell_type": "code",
   "execution_count": null,
   "outputs": [],
   "source": [
    "x_train_features_combined_features,x_test_features=features_preprocessing(x_train_video_games, x_validation_video_games, x_test_video_games)"
   ],
   "metadata": {
    "collapsed": false,
    "pycharm": {
     "is_executing": true
    }
   }
  },
  {
   "cell_type": "code",
   "execution_count": null,
   "outputs": [],
   "source": [
    "x_train_combined,y_train_combined,x_test,y_test=data_processing(x_train_combined_padded, x_test_padded,x_train_features_combined_features,x_test_features,y_train_video_games, y_validation_video_games,y_test_video_games)"
   ],
   "metadata": {
    "collapsed": false,
    "pycharm": {
     "is_executing": true
    }
   }
  },
  {
   "cell_type": "code",
   "execution_count": null,
   "outputs": [],
   "source": [
    "best_svm_model=model_build(x_train_combined,y_train_combined)"
   ],
   "metadata": {
    "collapsed": false,
    "pycharm": {
     "is_executing": true
    }
   }
  },
  {
   "cell_type": "code",
   "execution_count": null,
   "outputs": [],
   "source": [
    "y_pred_video_games=predict(x_test,y_test,x_test_video_games,best_svm_model,'results/svr_video_games_SPC.csv')"
   ],
   "metadata": {
    "collapsed": false,
    "pycharm": {
     "is_executing": true
    }
   }
  },
  {
   "cell_type": "code",
   "execution_count": null,
   "outputs": [],
   "source": [
    "evaluation_svr(y_pred_video_games,y_test_video_games,'results/evaluation_result_SVR.txt')"
   ],
   "metadata": {
    "collapsed": false,
    "pycharm": {
     "is_executing": true
    }
   }
  },
  {
   "cell_type": "markdown",
   "source": [
    "## None features: Only reviewText"
   ],
   "metadata": {
    "collapsed": false
   }
  },
  {
   "cell_type": "code",
   "execution_count": 14,
   "outputs": [
    {
     "name": "stderr",
     "output_type": "stream",
     "text": [
      "/Users/xiangzhiping/Code/project_review_helpfulness/data_load.py:18: UserWarning: pandas only supports SQLAlchemy connectable (engine/connection) or database string URI or sqlite3 DBAPI2 connection. Other DBAPI2 objects are not tested. Please consider using SQLAlchemy.\n",
      "  df = pd.read_sql(query, conn)\n"
     ]
    },
    {
     "name": "stdout",
     "output_type": "stream",
     "text": [
      "load features_video_games from MySQL: (18374, 11)!\n",
      "features selection finished!\n",
      "No null values found in the dataset.\n",
      "shape of X_train: (13229, 1)\n",
      "shape of X_validation: (1470, 1)\n",
      "shape of X_test: (3675, 1)\n",
      "shape of y_train: (13229,)\n",
      "shape of y_validation: (1470,)\n",
      "shape of y_test: (3675,)\n",
      "Index(['reviewText'], dtype='object')\n"
     ]
    }
   ],
   "source": [
    "x_train_video_games, x_validation_video_games, x_test_video_games, y_train_video_games, y_validation_video_games, y_test_video_games = data_load.data_load(tag='none',table_name='features_video_games')\n",
    "with open('results/evaluation_result_SVR.txt', 'a') as f:\n",
    "    f.write('====None Features====' + '\\n')"
   ],
   "metadata": {
    "collapsed": false
   }
  },
  {
   "cell_type": "code",
   "execution_count": 15,
   "outputs": [
    {
     "name": "stdout",
     "output_type": "stream",
     "text": [
      "Vocabulary size: 173529\n",
      "Embedding matrix shape: (173529, 100)\n",
      "sample review: 1024\n",
      "Text preprocessing done!\n"
     ]
    }
   ],
   "source": [
    "x_train_combined_padded, x_test_padded=review_preprocessing(x_train_video_games, x_validation_video_games, x_test_video_games)"
   ],
   "metadata": {
    "collapsed": false
   }
  },
  {
   "cell_type": "code",
   "execution_count": 19,
   "outputs": [
    {
     "name": "stdout",
     "output_type": "stream",
     "text": [
      "(3675, 1024)\n"
     ]
    }
   ],
   "source": [
    "y_train_combined = np.concatenate((y_train_video_games, y_validation_video_games), axis=0)\n",
    "# 转换为dataframe\n",
    "x_train_combined=pd.DataFrame(x_train_combined_padded)\n",
    "x_test=pd.DataFrame(x_test_padded)\n",
    "y_test=y_test_video_games\n",
    "print(x_test.shape)"
   ],
   "metadata": {
    "collapsed": false
   }
  },
  {
   "cell_type": "code",
   "execution_count": 17,
   "outputs": [
    {
     "name": "stdout",
     "output_type": "stream",
     "text": [
      "training time: 133.63129591941833\n"
     ]
    }
   ],
   "source": [
    "best_svm_model=model_build(x_train_combined,y_train_combined)"
   ],
   "metadata": {
    "collapsed": false
   }
  },
  {
   "cell_type": "code",
   "execution_count": 20,
   "outputs": [
    {
     "name": "stdout",
     "output_type": "stream",
     "text": [
      "3675\n",
      "y_pred: [0.6225422  0.6527349  0.59775787 0.65590853 0.67687925 0.48571723\n",
      " 0.73145672 0.37565835 0.46239102 0.58702385]\n"
     ]
    }
   ],
   "source": [
    "y_pred_video_games=predict(x_test,y_test,x_test_video_games,best_svm_model,'results/svr_video_games_none.csv')"
   ],
   "metadata": {
    "collapsed": false
   }
  },
  {
   "cell_type": "code",
   "execution_count": 21,
   "outputs": [
    {
     "name": "stdout",
     "output_type": "stream",
     "text": [
      "y_pred.shape: (3675,)\n",
      "rmse: 0.334\n",
      "pcc: 0.238\n",
      "ndcg: 0.936\n"
     ]
    }
   ],
   "source": [
    "evaluation_svr(y_pred_video_games,y_test_video_games,'results/evaluation_result_SVR.txt')"
   ],
   "metadata": {
    "collapsed": false
   }
  },
  {
   "cell_type": "code",
   "execution_count": 22,
   "outputs": [],
   "source": [
    "del x_train_video_games\n",
    "del x_validation_video_games\n",
    "del x_test_video_games\n",
    "del y_train_video_games\n",
    "del y_validation_video_games\n",
    "del y_test_video_games\n",
    "del x_train_combined_padded\n",
    "del x_test_padded\n",
    "del y_train_combined\n",
    "del x_test\n",
    "del y_test\n",
    "del best_svm_model\n",
    "del y_pred_video_games"
   ],
   "metadata": {
    "collapsed": false
   }
  },
  {
   "cell_type": "markdown",
   "source": [
    "# 2. Books"
   ],
   "metadata": {
    "collapsed": false
   }
  },
  {
   "cell_type": "markdown",
   "source": [
    "## 2.1 all features"
   ],
   "metadata": {
    "collapsed": false
   }
  },
  {
   "cell_type": "code",
   "execution_count": null,
   "outputs": [],
   "source": [
    "x_train_books, x_validation_books, x_test_books, y_train_books, y_validation_books, y_test_books = data_load.data_load(tag='all',table_name='features_books')\n",
    "with open('results/evaluation_result_SVR.txt', 'a') as f:\n",
    "    f.write('===========books===========' + '\\n\\n')\n",
    "    f.write('====All Features====' + '\\n')"
   ],
   "metadata": {
    "collapsed": false,
    "pycharm": {
     "is_executing": true
    }
   }
  },
  {
   "cell_type": "code",
   "execution_count": null,
   "outputs": [],
   "source": [
    "x_train_combined_padded, x_test_padded=review_preprocessing(x_train_books, x_validation_books, x_test_books)"
   ],
   "metadata": {
    "collapsed": false,
    "pycharm": {
     "is_executing": true
    }
   }
  },
  {
   "cell_type": "code",
   "execution_count": null,
   "outputs": [],
   "source": [
    "x_train_features_combined_features,x_test_features=features_preprocessing(x_train_books, x_validation_books, x_test_books)"
   ],
   "metadata": {
    "collapsed": false,
    "pycharm": {
     "is_executing": true
    }
   }
  },
  {
   "cell_type": "code",
   "execution_count": null,
   "outputs": [],
   "source": [
    "x_train_combined,y_train_combined,x_test,y_test=data_processing(x_train_combined_padded, x_test_padded,x_train_features_combined_features,x_test_features,y_train_books, y_validation_books,y_test_books)"
   ],
   "metadata": {
    "collapsed": false,
    "pycharm": {
     "is_executing": true
    }
   }
  },
  {
   "cell_type": "code",
   "execution_count": null,
   "outputs": [],
   "source": [
    "best_svm_model=model_build(x_train_combined,y_train_combined)"
   ],
   "metadata": {
    "collapsed": false,
    "pycharm": {
     "is_executing": true
    }
   }
  },
  {
   "cell_type": "code",
   "execution_count": null,
   "outputs": [],
   "source": [
    "y_pred_books=predict(x_test,y_test,x_test_books,best_svm_model,'results/svr_books_all.csv')"
   ],
   "metadata": {
    "collapsed": false,
    "pycharm": {
     "is_executing": true
    }
   }
  },
  {
   "cell_type": "code",
   "execution_count": null,
   "outputs": [],
   "source": [
    "evaluation_svr(y_pred_books,y_test_books,'results/evaluation_result_SVR.txt')"
   ],
   "metadata": {
    "collapsed": false,
    "pycharm": {
     "is_executing": true
    }
   }
  },
  {
   "cell_type": "code",
   "execution_count": null,
   "outputs": [],
   "source": [
    "del x_train_books\n",
    "del x_validation_books\n",
    "del x_test\n",
    "del x_test_features\n",
    "del x_train_combined_padded\n",
    "del x_train_combined\n",
    "del y_pred_books\n",
    "del y_test_books\n",
    "del best_svm_model\n",
    "del x_test_padded\n",
    "del x_train_features_combined_features"
   ],
   "metadata": {
    "collapsed": false,
    "pycharm": {
     "is_executing": true
    }
   }
  },
  {
   "cell_type": "markdown",
   "source": [
    "## Gini: only gini features"
   ],
   "metadata": {
    "collapsed": false
   }
  },
  {
   "cell_type": "code",
   "execution_count": null,
   "outputs": [],
   "source": [
    "x_train_books, x_validation_books, x_test_books, y_train_books, y_validation_books, y_test_books = data_load.data_load(tag='Gini',table_name='features_books')\n",
    "with open('results/evaluation_result_SVR.txt', 'a') as f:\n",
    "    f.write('====Gini Features====' + '\\n')"
   ],
   "metadata": {
    "collapsed": false,
    "pycharm": {
     "is_executing": true
    }
   }
  },
  {
   "cell_type": "code",
   "execution_count": null,
   "outputs": [],
   "source": [
    "x_train_combined_padded, x_test_padded=review_preprocessing(x_train_books, x_validation_books, x_test_books)"
   ],
   "metadata": {
    "collapsed": false,
    "pycharm": {
     "is_executing": true
    }
   }
  },
  {
   "cell_type": "code",
   "execution_count": null,
   "outputs": [],
   "source": [
    "x_train_features_combined_features,x_test_features=features_preprocessing(x_train_books, x_validation_books, x_test_books)"
   ],
   "metadata": {
    "collapsed": false,
    "pycharm": {
     "is_executing": true
    }
   }
  },
  {
   "cell_type": "code",
   "execution_count": null,
   "outputs": [],
   "source": [
    "x_train_combined,y_train_combined,x_test,y_test=data_processing(x_train_combined_padded, x_test_padded,x_train_features_combined_features,x_test_features,y_train_books, y_validation_books,y_test_books)"
   ],
   "metadata": {
    "collapsed": false,
    "pycharm": {
     "is_executing": true
    }
   }
  },
  {
   "cell_type": "code",
   "execution_count": null,
   "outputs": [],
   "source": [
    "best_svm_model=model_build(x_train_combined,y_train_combined)"
   ],
   "metadata": {
    "collapsed": false,
    "pycharm": {
     "is_executing": true
    }
   }
  },
  {
   "cell_type": "code",
   "execution_count": null,
   "outputs": [],
   "source": [
    "y_pred_books=predict(x_test,y_test,x_test_books,best_svm_model,'results/svr_books_Gini.csv')"
   ],
   "metadata": {
    "collapsed": false,
    "pycharm": {
     "is_executing": true
    }
   }
  },
  {
   "cell_type": "code",
   "execution_count": null,
   "outputs": [],
   "source": [
    "evaluation_svr(y_pred_books,y_test_books,'results/evaluation_result_SVR.txt')"
   ],
   "metadata": {
    "collapsed": false,
    "pycharm": {
     "is_executing": true
    }
   }
  },
  {
   "cell_type": "code",
   "execution_count": null,
   "outputs": [],
   "source": [
    "del x_train_books\n",
    "del x_validation_books\n",
    "del x_test\n",
    "del x_test_features\n",
    "del x_train_combined_padded\n",
    "del x_train_combined\n",
    "del y_pred_books\n",
    "del y_test_books\n",
    "del best_svm_model\n",
    "del x_test_padded\n",
    "del x_train_features_combined_features"
   ],
   "metadata": {
    "collapsed": false,
    "pycharm": {
     "is_executing": true
    }
   }
  },
  {
   "cell_type": "markdown",
   "source": [
    "## PCC: only PCC features"
   ],
   "metadata": {
    "collapsed": false
   }
  },
  {
   "cell_type": "code",
   "execution_count": null,
   "outputs": [],
   "source": [
    "x_train_books, x_validation_books, x_test_books, y_train_books, y_validation_books, y_test_books = data_load.data_load(tag='PCC',table_name='features_books')\n",
    "with open('results/evaluation_result_SVR.txt', 'a') as f:\n",
    "    f.write('====PCC Features====' + '\\n')"
   ],
   "metadata": {
    "collapsed": false,
    "pycharm": {
     "is_executing": true
    }
   }
  },
  {
   "cell_type": "code",
   "execution_count": null,
   "outputs": [],
   "source": [
    "x_train_combined_padded, x_test_padded=review_preprocessing(x_train_books, x_validation_books, x_test_books)"
   ],
   "metadata": {
    "collapsed": false,
    "pycharm": {
     "is_executing": true
    }
   }
  },
  {
   "cell_type": "code",
   "execution_count": null,
   "outputs": [],
   "source": [
    "x_train_features_combined_features,x_test_features=features_preprocessing(x_train_books, x_validation_books, x_test_books)"
   ],
   "metadata": {
    "collapsed": false,
    "pycharm": {
     "is_executing": true
    }
   }
  },
  {
   "cell_type": "code",
   "execution_count": null,
   "outputs": [],
   "source": [
    "x_train_combined,y_train_combined,x_test,y_test=data_processing(x_train_combined_padded, x_test_padded,x_train_features_combined_features,x_test_features,y_train_books, y_validation_books,y_test_books)"
   ],
   "metadata": {
    "collapsed": false,
    "pycharm": {
     "is_executing": true
    }
   }
  },
  {
   "cell_type": "code",
   "execution_count": null,
   "outputs": [],
   "source": [
    "best_svm_model=model_build(x_train_combined,y_train_combined)"
   ],
   "metadata": {
    "collapsed": false,
    "pycharm": {
     "is_executing": true
    }
   }
  },
  {
   "cell_type": "code",
   "execution_count": null,
   "outputs": [],
   "source": [
    "y_pred_books=predict(x_test,y_test,x_test_books,best_svm_model,'results/svr_books_PCC.csv')"
   ],
   "metadata": {
    "collapsed": false,
    "pycharm": {
     "is_executing": true
    }
   }
  },
  {
   "cell_type": "code",
   "execution_count": null,
   "outputs": [],
   "source": [
    "evaluation_svr(y_pred_books,y_test_books,'results/evaluation_result_SVR.txt')"
   ],
   "metadata": {
    "collapsed": false,
    "pycharm": {
     "is_executing": true
    }
   }
  },
  {
   "cell_type": "code",
   "execution_count": null,
   "outputs": [],
   "source": [
    "del x_train_books\n",
    "del x_validation_books\n",
    "del x_test\n",
    "del x_test_features\n",
    "del x_train_combined_padded\n",
    "del x_train_combined\n",
    "del y_pred_books\n",
    "del y_test_books\n",
    "del best_svm_model\n",
    "del x_test_padded\n",
    "del x_train_features_combined_features"
   ],
   "metadata": {
    "collapsed": false,
    "pycharm": {
     "is_executing": true
    }
   }
  },
  {
   "cell_type": "markdown",
   "source": [
    "## SPC: only SPC features"
   ],
   "metadata": {
    "collapsed": false
   }
  },
  {
   "cell_type": "code",
   "execution_count": null,
   "outputs": [],
   "source": [
    "x_train_books, x_validation_books, x_test_books, y_train_books, y_validation_books, y_test_books = data_load.data_load(tag='SPC',table_name='features_books')\n",
    "with open('results/evaluation_result_SVR.txt', 'a') as f:\n",
    "    f.write('====SPC Features====' + '\\n')\n"
   ],
   "metadata": {
    "collapsed": false,
    "pycharm": {
     "is_executing": true
    }
   }
  },
  {
   "cell_type": "code",
   "execution_count": null,
   "outputs": [],
   "source": [
    "x_train_combined_padded, x_test_padded=review_preprocessing(x_train_books, x_validation_books, x_test_books)"
   ],
   "metadata": {
    "collapsed": false,
    "pycharm": {
     "is_executing": true
    }
   }
  },
  {
   "cell_type": "code",
   "execution_count": null,
   "outputs": [],
   "source": [
    "x_train_features_combined_features,x_test_features=features_preprocessing(x_train_books, x_validation_books, x_test_books)"
   ],
   "metadata": {
    "collapsed": false,
    "pycharm": {
     "is_executing": true
    }
   }
  },
  {
   "cell_type": "code",
   "execution_count": null,
   "outputs": [],
   "source": [
    "x_train_combined,y_train_combined,x_test,y_test=data_processing(x_train_combined_padded, x_test_padded,x_train_features_combined_features,x_test_features,y_train_books, y_validation_books,y_test_books)"
   ],
   "metadata": {
    "collapsed": false,
    "pycharm": {
     "is_executing": true
    }
   }
  },
  {
   "cell_type": "code",
   "execution_count": null,
   "outputs": [],
   "source": [
    "best_svm_model=model_build(x_train_combined,y_train_combined)"
   ],
   "metadata": {
    "collapsed": false,
    "pycharm": {
     "is_executing": true
    }
   }
  },
  {
   "cell_type": "code",
   "execution_count": null,
   "outputs": [],
   "source": [
    "y_pred_books=predict(x_test,y_test,x_test_books,best_svm_model,'results/svr_books_SPC.csv')"
   ],
   "metadata": {
    "collapsed": false,
    "pycharm": {
     "is_executing": true
    }
   }
  },
  {
   "cell_type": "code",
   "execution_count": null,
   "outputs": [],
   "source": [
    "evaluation_svr(y_pred_books,y_test_books,'results/evaluation_result_SVR.txt')"
   ],
   "metadata": {
    "collapsed": false,
    "pycharm": {
     "is_executing": true
    }
   }
  },
  {
   "cell_type": "code",
   "execution_count": null,
   "outputs": [],
   "source": [
    "del x_train_books\n",
    "del x_validation_books\n",
    "del x_test\n",
    "del x_test_features\n",
    "del x_train_combined_padded\n",
    "del x_train_combined\n",
    "del y_pred_books\n",
    "del y_test_books\n",
    "del best_svm_model\n",
    "del x_test_padded\n",
    "del x_train_features_combined_features"
   ],
   "metadata": {
    "collapsed": false,
    "pycharm": {
     "is_executing": true
    }
   }
  },
  {
   "cell_type": "markdown",
   "source": [
    "## None features: Only reviewText"
   ],
   "metadata": {
    "collapsed": false
   }
  },
  {
   "cell_type": "code",
   "execution_count": 21,
   "outputs": [
    {
     "name": "stderr",
     "output_type": "stream",
     "text": [
      "/Users/xiangzhiping/Code/project_review_helpfulness/data_load.py:18: UserWarning: pandas only supports SQLAlchemy connectable (engine/connection) or database string URI or sqlite3 DBAPI2 connection. Other DBAPI2 objects are not tested. Please consider using SQLAlchemy.\n",
      "  df = pd.read_sql(query, conn)\n"
     ]
    },
    {
     "name": "stdout",
     "output_type": "stream",
     "text": [
      "load features_books from MySQL: (16240, 11)!\n",
      "features selection finished!\n",
      "No null values found in the dataset.\n",
      "shape of X_train: (11692, 1)\n",
      "shape of X_validation: (1300, 1)\n",
      "shape of X_test: (3248, 1)\n",
      "shape of y_train: (11692,)\n",
      "shape of y_validation: (1300,)\n",
      "shape of y_test: (3248,)\n",
      "Index(['reviewText'], dtype='object')\n"
     ]
    }
   ],
   "source": [
    "x_train_books, x_validation_books, x_test_books, y_train_books, y_validation_books, y_test_books = data_load.data_load(tag='none',table_name='features_books')\n",
    "\n",
    "with open('results/evaluation_result_SVR.txt', 'a') as f:\n",
    "    f.write('====None Features====' + '\\n')"
   ],
   "metadata": {
    "collapsed": false
   }
  },
  {
   "cell_type": "code",
   "execution_count": 22,
   "outputs": [
    {
     "name": "stdout",
     "output_type": "stream",
     "text": [
      "Vocabulary size: 207954\n",
      "Embedding matrix shape: (207954, 100)\n",
      "sample review: 1024\n",
      "Text preprocessing done!\n"
     ]
    }
   ],
   "source": [
    "x_train_combined_padded, x_test_padded=review_preprocessing(x_train_books, x_validation_books, x_test_books)"
   ],
   "metadata": {
    "collapsed": false
   }
  },
  {
   "cell_type": "code",
   "execution_count": 23,
   "outputs": [
    {
     "name": "stdout",
     "output_type": "stream",
     "text": [
      "(12992, 1024)\n"
     ]
    }
   ],
   "source": [
    "y_train_combined = np.concatenate((y_train_books, y_validation_books), axis=0)\n",
    "x_train_combined=pd.DataFrame(x_train_combined_padded)\n",
    "x_test=pd.DataFrame(x_test_padded)\n",
    "print(x_train_combined.shape)"
   ],
   "metadata": {
    "collapsed": false
   }
  },
  {
   "cell_type": "code",
   "execution_count": 24,
   "outputs": [
    {
     "name": "stdout",
     "output_type": "stream",
     "text": [
      "training time: 87.33634400367737\n"
     ]
    }
   ],
   "source": [
    "best_svm_model=model_build(x_train_combined,y_train_combined)"
   ],
   "metadata": {
    "collapsed": false
   }
  },
  {
   "cell_type": "code",
   "execution_count": 26,
   "outputs": [
    {
     "name": "stdout",
     "output_type": "stream",
     "text": [
      "3248\n",
      "y_pred: [0.55353394 0.74053495 0.69906644 0.6993805  0.68932229 0.64537149\n",
      " 0.69818853 0.7385824  0.5886254  0.72143682]\n"
     ]
    }
   ],
   "source": [
    "y_pred_books=predict(x_test,y_test_books,x_test_books,best_svm_model,'results/svr_books_none.csv')"
   ],
   "metadata": {
    "collapsed": false
   }
  },
  {
   "cell_type": "code",
   "execution_count": 27,
   "outputs": [
    {
     "name": "stdout",
     "output_type": "stream",
     "text": [
      "y_pred.shape: (3248,)\n",
      "rmse: 0.292\n",
      "pcc: 0.198\n",
      "ndcg: 0.96\n"
     ]
    }
   ],
   "source": [
    "evaluation_svr(y_pred_books,y_test_books,'results/evaluation_result_SVR.txt')"
   ],
   "metadata": {
    "collapsed": false
   }
  },
  {
   "cell_type": "code",
   "execution_count": 28,
   "outputs": [
    {
     "data": {
      "text/plain": "544"
     },
     "execution_count": 28,
     "metadata": {},
     "output_type": "execute_result"
    }
   ],
   "source": [
    "gc.collect()"
   ],
   "metadata": {
    "collapsed": false
   }
  },
  {
   "cell_type": "markdown",
   "source": [
    "# 3. cell phone"
   ],
   "metadata": {
    "collapsed": false
   }
  },
  {
   "cell_type": "code",
   "execution_count": null,
   "outputs": [],
   "source": [
    "x_train_cell_phone, x_validation_cell_phone, x_test_cell_phone, y_train_cell_phone, y_validation_cell_phone, y_test_cell_phone = data_load.data_load(tag='all',table_name='features_cell_phones')\n",
    "with open('results/evaluation_result_SVR.txt', 'a') as f:\n",
    "    f.write('===========cell_phone===========' + '\\n\\n')\n",
    "    f.write('====All Features====' + '\\n')"
   ],
   "metadata": {
    "collapsed": false,
    "pycharm": {
     "is_executing": true
    }
   }
  },
  {
   "cell_type": "code",
   "execution_count": null,
   "outputs": [],
   "source": [
    "x_train_combined_padded, x_test_padded=review_preprocessing(x_train_cell_phone, x_validation_cell_phone, x_test_cell_phone)"
   ],
   "metadata": {
    "collapsed": false,
    "pycharm": {
     "is_executing": true
    }
   }
  },
  {
   "cell_type": "code",
   "execution_count": null,
   "outputs": [],
   "source": [
    "x_train_features_combined_features,x_test_features=features_preprocessing(x_train_cell_phone, x_validation_cell_phone, x_test_cell_phone)"
   ],
   "metadata": {
    "collapsed": false,
    "pycharm": {
     "is_executing": true
    }
   }
  },
  {
   "cell_type": "code",
   "execution_count": null,
   "outputs": [],
   "source": [
    "x_train_combined,y_train_combined,x_test,y_test=data_processing(x_train_combined_padded, x_test_padded,x_train_features_combined_features,x_test_features,y_train_cell_phone, y_validation_cell_phone,y_test_cell_phone)"
   ],
   "metadata": {
    "collapsed": false,
    "pycharm": {
     "is_executing": true
    }
   }
  },
  {
   "cell_type": "code",
   "execution_count": null,
   "outputs": [],
   "source": [
    "best_svm_model=model_build(x_train_combined,y_train_combined)"
   ],
   "metadata": {
    "collapsed": false,
    "pycharm": {
     "is_executing": true
    }
   }
  },
  {
   "cell_type": "code",
   "execution_count": null,
   "outputs": [],
   "source": [
    "y_pred_cell_phone=predict(x_test,y_test,x_test_cell_phone,best_svm_model,'results/svr_cell_phone_all.csv')"
   ],
   "metadata": {
    "collapsed": false,
    "pycharm": {
     "is_executing": true
    }
   }
  },
  {
   "cell_type": "code",
   "execution_count": null,
   "outputs": [],
   "source": [
    "evaluation_svr(y_pred_cell_phone,y_test_cell_phone,'results/evaluation_result_SVR.txt')"
   ],
   "metadata": {
    "collapsed": false,
    "pycharm": {
     "is_executing": true
    }
   }
  },
  {
   "cell_type": "code",
   "execution_count": null,
   "outputs": [],
   "source": [
    "del x_train_cell_phone\n",
    "del x_validation_cell_phone\n",
    "del x_test\n",
    "del x_test_features\n",
    "del x_train_combined_padded\n",
    "del x_train_combined\n",
    "del y_pred_cell_phone\n",
    "del y_test_cell_phone\n",
    "del best_svm_model"
   ],
   "metadata": {
    "collapsed": false,
    "pycharm": {
     "is_executing": true
    }
   }
  },
  {
   "cell_type": "markdown",
   "source": [
    "## Gini: only gini features"
   ],
   "metadata": {
    "collapsed": false
   }
  },
  {
   "cell_type": "code",
   "execution_count": null,
   "outputs": [],
   "source": [
    "x_train_cell_phone, x_validation_cell_phone, x_test_cell_phone, y_train_cell_phone, y_validation_cell_phone, y_test_cell_phone = data_load.data_load(tag='Gini',table_name='features_cell_phones')"
   ],
   "metadata": {
    "collapsed": false,
    "pycharm": {
     "is_executing": true
    }
   }
  },
  {
   "cell_type": "code",
   "execution_count": null,
   "outputs": [],
   "source": [
    "with open('results/evaluation_result_SVR.txt', 'a') as f:\n",
    "    f.write('====Gini Features====' + '\\n')"
   ],
   "metadata": {
    "collapsed": false,
    "pycharm": {
     "is_executing": true
    }
   }
  },
  {
   "cell_type": "code",
   "execution_count": null,
   "outputs": [],
   "source": [
    "x_train_combined_padded, x_test_padded=review_preprocessing(x_train_cell_phone, x_validation_cell_phone, x_test_cell_phone)"
   ],
   "metadata": {
    "collapsed": false,
    "pycharm": {
     "is_executing": true
    }
   }
  },
  {
   "cell_type": "code",
   "execution_count": null,
   "outputs": [],
   "source": [
    "x_train_features_combined_features,x_test_features=features_preprocessing(x_train_cell_phone, x_validation_cell_phone, x_test_cell_phone)"
   ],
   "metadata": {
    "collapsed": false,
    "pycharm": {
     "is_executing": true
    }
   }
  },
  {
   "cell_type": "code",
   "execution_count": null,
   "outputs": [],
   "source": [
    "x_train_combined,y_train_combined,x_test,y_test=data_processing(x_train_combined_padded, x_test_padded,x_train_features_combined_features,x_test_features,y_train_cell_phone, y_validation_cell_phone,y_test_cell_phone)"
   ],
   "metadata": {
    "collapsed": false,
    "pycharm": {
     "is_executing": true
    }
   }
  },
  {
   "cell_type": "code",
   "execution_count": null,
   "outputs": [],
   "source": [
    "best_svm_model=model_build(x_train_combined,y_train_combined)"
   ],
   "metadata": {
    "collapsed": false,
    "pycharm": {
     "is_executing": true
    }
   }
  },
  {
   "cell_type": "code",
   "execution_count": null,
   "outputs": [],
   "source": [
    "y_pred_cell_phone=predict(x_test,y_test,x_test_cell_phone,best_svm_model,'results/svr_cell_phone_Gini.csv')"
   ],
   "metadata": {
    "collapsed": false,
    "pycharm": {
     "is_executing": true
    }
   }
  },
  {
   "cell_type": "code",
   "execution_count": null,
   "outputs": [],
   "source": [
    "evaluation_svr(y_pred_cell_phone,y_test_cell_phone,'results/evaluation_result_SVR.txt')"
   ],
   "metadata": {
    "collapsed": false,
    "pycharm": {
     "is_executing": true
    }
   }
  },
  {
   "cell_type": "code",
   "execution_count": null,
   "outputs": [],
   "source": [
    "del x_train_cell_phone\n",
    "del x_validation_cell_phone\n",
    "del x_test\n",
    "del x_test_features\n",
    "del x_train_combined_padded\n",
    "del x_train_combined\n",
    "del y_pred_cell_phone\n",
    "del y_test_cell_phone\n",
    "del best_svm_model"
   ],
   "metadata": {
    "collapsed": false,
    "pycharm": {
     "is_executing": true
    }
   }
  },
  {
   "cell_type": "markdown",
   "source": [
    "## PCC: only PCC features"
   ],
   "metadata": {
    "collapsed": false
   }
  },
  {
   "cell_type": "code",
   "execution_count": null,
   "outputs": [],
   "source": [
    "x_train_cell_phone, x_validation_cell_phone, x_test_cell_phone, y_train_cell_phone, y_validation_cell_phone, y_test_cell_phone = data_load.data_load(tag='PCC',table_name='features_cell_phones')\n",
    "with open('results/evaluation_result_SVR.txt', 'a') as f:\n",
    "    f.write('====PCC Features====' + '\\n')"
   ],
   "metadata": {
    "collapsed": false,
    "pycharm": {
     "is_executing": true
    }
   }
  },
  {
   "cell_type": "code",
   "execution_count": null,
   "outputs": [],
   "source": [
    "x_train_combined_padded, x_test_padded=review_preprocessing(x_train_cell_phone, x_validation_cell_phone, x_test_cell_phone)"
   ],
   "metadata": {
    "collapsed": false,
    "pycharm": {
     "is_executing": true
    }
   }
  },
  {
   "cell_type": "code",
   "execution_count": null,
   "outputs": [],
   "source": [
    "x_train_features_combined_features,x_test_features=features_preprocessing(x_train_cell_phone, x_validation_cell_phone, x_test_cell_phone)"
   ],
   "metadata": {
    "collapsed": false,
    "pycharm": {
     "is_executing": true
    }
   }
  },
  {
   "cell_type": "code",
   "execution_count": null,
   "outputs": [],
   "source": [
    "x_train_combined,y_train_combined,x_test,y_test=data_processing(x_train_combined_padded, x_test_padded,x_train_features_combined_features,x_test_features,y_train_cell_phone, y_validation_cell_phone,y_test_cell_phone)"
   ],
   "metadata": {
    "collapsed": false,
    "pycharm": {
     "is_executing": true
    }
   }
  },
  {
   "cell_type": "code",
   "execution_count": null,
   "outputs": [],
   "source": [
    "best_svm_model=model_build(x_train_combined,y_train_combined)"
   ],
   "metadata": {
    "collapsed": false,
    "pycharm": {
     "is_executing": true
    }
   }
  },
  {
   "cell_type": "code",
   "execution_count": null,
   "outputs": [],
   "source": [
    "y_pred_cell_phone=predict(x_test,y_test,x_test_cell_phone,best_svm_model,'results/svr_cell_phone_PCC.csv')"
   ],
   "metadata": {
    "collapsed": false,
    "pycharm": {
     "is_executing": true
    }
   }
  },
  {
   "cell_type": "code",
   "execution_count": null,
   "outputs": [],
   "source": [
    "evaluation_svr(y_pred_cell_phone,y_test_cell_phone,'results/evaluation_result_SVR.txt')"
   ],
   "metadata": {
    "collapsed": false,
    "pycharm": {
     "is_executing": true
    }
   }
  },
  {
   "cell_type": "code",
   "execution_count": null,
   "outputs": [],
   "source": [
    "del x_train_cell_phone\n",
    "del x_validation_cell_phone\n",
    "del x_test\n",
    "del x_test_features\n",
    "del x_train_combined_padded\n",
    "del x_train_combined\n",
    "del y_pred_cell_phone\n",
    "del y_test_cell_phone\n",
    "del best_svm_model"
   ],
   "metadata": {
    "collapsed": false,
    "pycharm": {
     "is_executing": true
    }
   }
  },
  {
   "cell_type": "markdown",
   "source": [
    "## SPC: only SPC features"
   ],
   "metadata": {
    "collapsed": false
   }
  },
  {
   "cell_type": "code",
   "execution_count": null,
   "outputs": [],
   "source": [
    "x_train_cell_phone, x_validation_cell_phone, x_test_cell_phone, y_train_cell_phone, y_validation_cell_phone, y_test_cell_phone = data_load.data_load(tag='SPC',table_name='features_cell_phones')"
   ],
   "metadata": {
    "collapsed": false,
    "pycharm": {
     "is_executing": true
    }
   }
  },
  {
   "cell_type": "code",
   "execution_count": null,
   "outputs": [],
   "source": [
    "with open('results/evaluation_result_SVR.txt', 'a') as f:\n",
    "    f.write('====SPC Features====' + '\\n')"
   ],
   "metadata": {
    "collapsed": false,
    "pycharm": {
     "is_executing": true
    }
   }
  },
  {
   "cell_type": "code",
   "execution_count": null,
   "outputs": [],
   "source": [
    "x_train_combined_padded, x_test_padded=review_preprocessing(x_train_cell_phone, x_validation_cell_phone, x_test_cell_phone)"
   ],
   "metadata": {
    "collapsed": false,
    "pycharm": {
     "is_executing": true
    }
   }
  },
  {
   "cell_type": "code",
   "execution_count": null,
   "outputs": [],
   "source": [
    "x_train_features_combined_features,x_test_features=features_preprocessing(x_train_cell_phone, x_validation_cell_phone, x_test_cell_phone)"
   ],
   "metadata": {
    "collapsed": false,
    "pycharm": {
     "is_executing": true
    }
   }
  },
  {
   "cell_type": "code",
   "execution_count": null,
   "outputs": [],
   "source": [
    "x_train_combined,y_train_combined,x_test,y_test=data_processing(x_train_combined_padded, x_test_padded,x_train_features_combined_features,x_test_features,y_train_cell_phone, y_validation_cell_phone,y_test_cell_phone)"
   ],
   "metadata": {
    "collapsed": false,
    "pycharm": {
     "is_executing": true
    }
   }
  },
  {
   "cell_type": "code",
   "execution_count": null,
   "outputs": [],
   "source": [
    "best_svm_model=model_build(x_train_combined,y_train_combined)"
   ],
   "metadata": {
    "collapsed": false,
    "pycharm": {
     "is_executing": true
    }
   }
  },
  {
   "cell_type": "code",
   "execution_count": null,
   "outputs": [],
   "source": [
    "y_pred_cell_phone=predict(x_test,y_test,x_test_cell_phone,best_svm_model,'results/svr_cell_phone_SPC.csv')"
   ],
   "metadata": {
    "collapsed": false,
    "pycharm": {
     "is_executing": true
    }
   }
  },
  {
   "cell_type": "code",
   "execution_count": null,
   "outputs": [],
   "source": [
    "evaluation_svr(y_pred_cell_phone,y_test_cell_phone,'results/evaluation_result_SVR.txt')"
   ],
   "metadata": {
    "collapsed": false,
    "pycharm": {
     "is_executing": true
    }
   }
  },
  {
   "cell_type": "code",
   "execution_count": null,
   "outputs": [],
   "source": [
    "del x_train_cell_phone\n",
    "del x_validation_cell_phone\n",
    "del x_test\n",
    "del x_test_features\n",
    "del x_train_combined_padded\n",
    "del x_train_combined\n",
    "del y_pred_cell_phone\n",
    "del y_test_cell_phone\n",
    "del best_svm_model"
   ],
   "metadata": {
    "collapsed": false,
    "pycharm": {
     "is_executing": true
    }
   }
  },
  {
   "cell_type": "markdown",
   "source": [
    "## None features: Only reviewText"
   ],
   "metadata": {
    "collapsed": false
   }
  },
  {
   "cell_type": "code",
   "execution_count": 13,
   "outputs": [
    {
     "name": "stderr",
     "output_type": "stream",
     "text": [
      "/Users/xiangzhiping/Code/project_review_helpfulness/data_load.py:18: UserWarning: pandas only supports SQLAlchemy connectable (engine/connection) or database string URI or sqlite3 DBAPI2 connection. Other DBAPI2 objects are not tested. Please consider using SQLAlchemy.\n",
      "  df = pd.read_sql(query, conn)\n"
     ]
    },
    {
     "name": "stdout",
     "output_type": "stream",
     "text": [
      "load features_cell_phones from MySQL: (35667, 11)!\n",
      "features selection finished!\n",
      "No null values found in the dataset.\n",
      "shape of X_train: (25679, 1)\n",
      "shape of X_validation: (2854, 1)\n",
      "shape of X_test: (7134, 1)\n",
      "shape of y_train: (25679,)\n",
      "shape of y_validation: (2854,)\n",
      "shape of y_test: (7134,)\n",
      "Index(['reviewText'], dtype='object')\n"
     ]
    }
   ],
   "source": [
    "x_train_cell_phone, x_validation_cell_phone, x_test_cell_phone, y_train_cell_phone, y_validation_cell_phone, y_test_cell_phone = data_load.data_load(tag='none',table_name='features_cell_phones')"
   ],
   "metadata": {
    "collapsed": false
   }
  },
  {
   "cell_type": "code",
   "execution_count": 14,
   "outputs": [],
   "source": [
    "with open('results/evaluation_result_SVR.txt', 'a') as f:\n",
    "    f.write('features_cell_phones')\n",
    "    f.write('====None Features====' + '\\n')"
   ],
   "metadata": {
    "collapsed": false
   }
  },
  {
   "cell_type": "code",
   "execution_count": 15,
   "outputs": [
    {
     "name": "stdout",
     "output_type": "stream",
     "text": [
      "Vocabulary size: 156827\n",
      "Embedding matrix shape: (156827, 100)\n",
      "sample review: 1024\n",
      "Text preprocessing done!\n"
     ]
    }
   ],
   "source": [
    "x_train_combined_padded, x_test_padded=review_preprocessing(x_train_cell_phone, x_validation_cell_phone, x_test_cell_phone)"
   ],
   "metadata": {
    "collapsed": false
   }
  },
  {
   "cell_type": "code",
   "execution_count": 16,
   "outputs": [
    {
     "name": "stdout",
     "output_type": "stream",
     "text": [
      "(28533, 1024)\n"
     ]
    }
   ],
   "source": [
    "y_train_combined = np.concatenate((y_train_cell_phone, y_validation_cell_phone), axis=0)\n",
    "x_train_combined=pd.DataFrame(x_train_combined_padded)\n",
    "x_test=pd.DataFrame(x_test_padded)\n",
    "print(x_train_combined.shape)"
   ],
   "metadata": {
    "collapsed": false
   }
  },
  {
   "cell_type": "code",
   "execution_count": 17,
   "outputs": [
    {
     "name": "stdout",
     "output_type": "stream",
     "text": [
      "training time: 629.8269200325012\n"
     ]
    }
   ],
   "source": [
    "best_svm_model=model_build(x_train_combined,y_train_combined)"
   ],
   "metadata": {
    "collapsed": false
   }
  },
  {
   "cell_type": "code",
   "execution_count": 19,
   "outputs": [
    {
     "name": "stdout",
     "output_type": "stream",
     "text": [
      "7134\n",
      "y_pred: [0.79166356 0.78737279 0.67120789 0.69179194 0.79470353 0.72442176\n",
      " 0.79804711 0.69566366 0.69493791 0.76973687]\n"
     ]
    }
   ],
   "source": [
    "y_pred_cell_phone=predict(x_test,y_test_cell_phone,x_test_cell_phone,best_svm_model,'results/svr_cell_phone_none.csv')"
   ],
   "metadata": {
    "collapsed": false
   }
  },
  {
   "cell_type": "code",
   "execution_count": 20,
   "outputs": [
    {
     "name": "stdout",
     "output_type": "stream",
     "text": [
      "y_pred.shape: (7134,)\n",
      "rmse: 0.319\n",
      "pcc: -0.01\n",
      "ndcg: 0.957\n"
     ]
    }
   ],
   "source": [
    "evaluation_svr(y_pred_cell_phone,y_test_cell_phone,'results/evaluation_result_SVR.txt')"
   ],
   "metadata": {
    "collapsed": false
   }
  },
  {
   "cell_type": "code",
   "execution_count": 21,
   "outputs": [
    {
     "data": {
      "text/plain": "3346"
     },
     "execution_count": 21,
     "metadata": {},
     "output_type": "execute_result"
    }
   ],
   "source": [
    "gc.collect()"
   ],
   "metadata": {
    "collapsed": false
   }
  },
  {
   "cell_type": "markdown",
   "source": [
    "# 4. electronics"
   ],
   "metadata": {
    "collapsed": false
   }
  },
  {
   "cell_type": "code",
   "execution_count": null,
   "outputs": [],
   "source": [
    "X_train_electronics, X_validation_electronics, X_test_electronics, y_train_electronics, y_validation_electronics, y_test_electronics = data_load.data_load(tag='all', table_name='features_electronics')\n",
    "with open('results/evaluation_result_SVR.txt', 'a') as f:\n",
    "    f.write('===========electronics===========' + '\\n\\n')\n",
    "    f.write('====All Features====' + '\\n')"
   ],
   "metadata": {
    "collapsed": false,
    "pycharm": {
     "is_executing": true
    }
   }
  },
  {
   "cell_type": "code",
   "execution_count": null,
   "outputs": [],
   "source": [
    "x_train_combined_padded, x_test_padded=review_preprocessing(X_train_electronics, X_validation_electronics, X_test_electronics)"
   ],
   "metadata": {
    "collapsed": false,
    "pycharm": {
     "is_executing": true
    }
   }
  },
  {
   "cell_type": "code",
   "execution_count": null,
   "outputs": [],
   "source": [
    "x_train_features_combined_features,x_test_features=features_preprocessing(X_train_electronics, X_validation_electronics, X_test_electronics)"
   ],
   "metadata": {
    "collapsed": false,
    "pycharm": {
     "is_executing": true
    }
   }
  },
  {
   "cell_type": "code",
   "execution_count": null,
   "outputs": [],
   "source": [
    "x_train_combined,y_train_combined,x_test,y_test=data_processing(x_train_combined_padded, x_test_padded,x_train_features_combined_features,x_test_features,y_train_electronics, y_validation_electronics,y_test_electronics)"
   ],
   "metadata": {
    "collapsed": false,
    "pycharm": {
     "is_executing": true
    }
   }
  },
  {
   "cell_type": "code",
   "execution_count": null,
   "outputs": [],
   "source": [
    "best_svm_model=model_build(x_train_combined,y_train_combined)"
   ],
   "metadata": {
    "collapsed": false,
    "pycharm": {
     "is_executing": true
    }
   }
  },
  {
   "cell_type": "code",
   "execution_count": null,
   "outputs": [],
   "source": [
    "y_pred_electronics=predict(x_test,y_test,X_test_electronics,best_svm_model,'results/svr_electronics_all.csv')"
   ],
   "metadata": {
    "collapsed": false,
    "pycharm": {
     "is_executing": true
    }
   }
  },
  {
   "cell_type": "code",
   "execution_count": null,
   "outputs": [],
   "source": [
    "evaluation_svr(y_pred_electronics,y_test_electronics,'results/evaluation_result_SVR.txt')"
   ],
   "metadata": {
    "collapsed": false,
    "pycharm": {
     "is_executing": true
    }
   }
  },
  {
   "cell_type": "code",
   "execution_count": null,
   "outputs": [],
   "source": [
    "del x_train_combined\n",
    "del x_test\n",
    "del x_train_features_combined_features\n",
    "del x_test_features\n",
    "del x_train_combined_padded\n",
    "del x_test_padded\n",
    "del y_pred_electronics\n",
    "del y_test_electronics\n",
    "del best_svm_model"
   ],
   "metadata": {
    "collapsed": false,
    "pycharm": {
     "is_executing": true
    }
   }
  },
  {
   "cell_type": "markdown",
   "source": [
    "## Gini: only gini features"
   ],
   "metadata": {
    "collapsed": false
   }
  },
  {
   "cell_type": "code",
   "execution_count": null,
   "outputs": [],
   "source": [
    "X_train_electronics, X_validation_electronics, X_test_electronics, y_train_electronics, y_validation_electronics, y_test_electronics = data_load.data_load(tag='Gini', table_name='features_electronics')"
   ],
   "metadata": {
    "collapsed": false,
    "pycharm": {
     "is_executing": true
    }
   }
  },
  {
   "cell_type": "code",
   "execution_count": null,
   "outputs": [],
   "source": [
    "with open('results/evaluation_result_SVR.txt', 'a') as f:\n",
    "    f.write('====Gini Features====' + '\\n')"
   ],
   "metadata": {
    "collapsed": false,
    "pycharm": {
     "is_executing": true
    }
   }
  },
  {
   "cell_type": "code",
   "execution_count": null,
   "outputs": [],
   "source": [
    "x_train_combined_padded, x_test_padded=review_preprocessing(X_train_electronics, X_validation_electronics, X_test_electronics)"
   ],
   "metadata": {
    "collapsed": false,
    "pycharm": {
     "is_executing": true
    }
   }
  },
  {
   "cell_type": "code",
   "execution_count": null,
   "outputs": [],
   "source": [
    "x_train_features_combined_features,x_test_features=features_preprocessing(X_train_electronics, X_validation_electronics, X_test_electronics)"
   ],
   "metadata": {
    "collapsed": false,
    "pycharm": {
     "is_executing": true
    }
   }
  },
  {
   "cell_type": "code",
   "execution_count": null,
   "outputs": [],
   "source": [
    "x_train_combined,y_train_combined,x_test,y_test=data_processing(x_train_combined_padded, x_test_padded,x_train_features_combined_features,x_test_features,y_train_electronics, y_validation_electronics,y_test_electronics)"
   ],
   "metadata": {
    "collapsed": false,
    "pycharm": {
     "is_executing": true
    }
   }
  },
  {
   "cell_type": "code",
   "execution_count": null,
   "outputs": [],
   "source": [
    "best_svm_model=model_build(x_train_combined,y_train_combined)"
   ],
   "metadata": {
    "collapsed": false,
    "pycharm": {
     "is_executing": true
    }
   }
  },
  {
   "cell_type": "code",
   "execution_count": null,
   "outputs": [],
   "source": [
    "y_pred_electronics=predict(x_test,y_test,X_test_electronics,best_svm_model,'results/svr_electronics_Gini.csv')"
   ],
   "metadata": {
    "collapsed": false,
    "pycharm": {
     "is_executing": true
    }
   }
  },
  {
   "cell_type": "code",
   "execution_count": null,
   "outputs": [],
   "source": [
    "evaluation_svr(y_pred_electronics,y_test_electronics,'results/evaluation_result_SVR.txt')"
   ],
   "metadata": {
    "collapsed": false,
    "pycharm": {
     "is_executing": true
    }
   }
  },
  {
   "cell_type": "code",
   "execution_count": null,
   "outputs": [],
   "source": [
    "del x_train_combined\n",
    "del x_test\n",
    "del x_train_features_combined_features\n",
    "del x_test_features\n",
    "del x_train_combined_padded\n",
    "del x_test_padded\n",
    "del y_pred_electronics\n",
    "del y_test_electronics\n",
    "del best_svm_model"
   ],
   "metadata": {
    "collapsed": false,
    "pycharm": {
     "is_executing": true
    }
   }
  },
  {
   "cell_type": "markdown",
   "source": [
    "## PCC: only PCC features"
   ],
   "metadata": {
    "collapsed": false
   }
  },
  {
   "cell_type": "code",
   "execution_count": null,
   "outputs": [],
   "source": [
    "X_train_electronics, X_validation_electronics, X_test_electronics, y_train_electronics, y_validation_electronics, y_test_electronics = data_load.data_load(tag='PCC', table_name='features_electronics')"
   ],
   "metadata": {
    "collapsed": false,
    "pycharm": {
     "is_executing": true
    }
   }
  },
  {
   "cell_type": "code",
   "execution_count": null,
   "outputs": [],
   "source": [
    "with open('results/evaluation_result_SVR.txt', 'a') as f:\n",
    "    f.write('====PCC Features====' + '\\n')"
   ],
   "metadata": {
    "collapsed": false,
    "pycharm": {
     "is_executing": true
    }
   }
  },
  {
   "cell_type": "code",
   "execution_count": null,
   "outputs": [],
   "source": [
    "x_train_combined_padded, x_test_padded=review_preprocessing(X_train_electronics, X_validation_electronics, X_test_electronics)"
   ],
   "metadata": {
    "collapsed": false,
    "pycharm": {
     "is_executing": true
    }
   }
  },
  {
   "cell_type": "code",
   "execution_count": null,
   "outputs": [],
   "source": [
    "x_train_features_combined_features,x_test_features=features_preprocessing(X_train_electronics, X_validation_electronics, X_test_electronics)"
   ],
   "metadata": {
    "collapsed": false,
    "pycharm": {
     "is_executing": true
    }
   }
  },
  {
   "cell_type": "code",
   "execution_count": null,
   "outputs": [],
   "source": [
    "x_train_combined,y_train_combined,x_test,y_test=data_processing(x_train_combined_padded, x_test_padded,x_train_features_combined_features,x_test_features,y_train_electronics, y_validation_electronics,y_test_electronics)"
   ],
   "metadata": {
    "collapsed": false,
    "pycharm": {
     "is_executing": true
    }
   }
  },
  {
   "cell_type": "code",
   "execution_count": null,
   "outputs": [],
   "source": [
    "best_svm_model=model_build(x_train_combined,y_train_combined)"
   ],
   "metadata": {
    "collapsed": false,
    "pycharm": {
     "is_executing": true
    }
   }
  },
  {
   "cell_type": "code",
   "execution_count": null,
   "outputs": [],
   "source": [
    "y_pred_electronics=predict(x_test,y_test,X_test_electronics,best_svm_model,'results/svr_electronics_PCC.csv')"
   ],
   "metadata": {
    "collapsed": false,
    "pycharm": {
     "is_executing": true
    }
   }
  },
  {
   "cell_type": "code",
   "execution_count": null,
   "outputs": [],
   "source": [
    "evaluation_svr(y_pred_electronics,y_test_electronics,'results/evaluation_result_SVR.txt')"
   ],
   "metadata": {
    "collapsed": false,
    "pycharm": {
     "is_executing": true
    }
   }
  },
  {
   "cell_type": "code",
   "execution_count": null,
   "outputs": [],
   "source": [
    "del x_train_combined\n",
    "del x_test\n",
    "del x_train_features_combined_features\n",
    "del x_test_features\n",
    "del x_train_combined_padded\n",
    "del x_test_padded\n",
    "del y_pred_electronics\n",
    "del y_test_electronics\n",
    "del best_svm_model"
   ],
   "metadata": {
    "collapsed": false,
    "pycharm": {
     "is_executing": true
    }
   }
  },
  {
   "cell_type": "markdown",
   "source": [
    "## SPC: only SPC features"
   ],
   "metadata": {
    "collapsed": false
   }
  },
  {
   "cell_type": "code",
   "execution_count": null,
   "outputs": [],
   "source": [
    "X_train_electronics, X_validation_electronics, X_test_electronics, y_train_electronics, y_validation_electronics, y_test_electronics = data_load.data_load(tag='SPC', table_name='features_electronics')"
   ],
   "metadata": {
    "collapsed": false,
    "pycharm": {
     "is_executing": true
    }
   }
  },
  {
   "cell_type": "code",
   "execution_count": null,
   "outputs": [],
   "source": [
    "with open('results/evaluation_result_SVR.txt', 'a') as f:\n",
    "    f.write('====SPC Features====' + '\\n')"
   ],
   "metadata": {
    "collapsed": false,
    "pycharm": {
     "is_executing": true
    }
   }
  },
  {
   "cell_type": "code",
   "execution_count": null,
   "outputs": [],
   "source": [
    "x_train_combined_padded, x_test_padded=review_preprocessing(X_train_electronics, X_validation_electronics, X_test_electronics)"
   ],
   "metadata": {
    "collapsed": false,
    "pycharm": {
     "is_executing": true
    }
   }
  },
  {
   "cell_type": "code",
   "execution_count": null,
   "outputs": [],
   "source": [
    "x_train_features_combined_features,x_test_features=features_preprocessing(X_train_electronics, X_validation_electronics, X_test_electronics)"
   ],
   "metadata": {
    "collapsed": false,
    "pycharm": {
     "is_executing": true
    }
   }
  },
  {
   "cell_type": "code",
   "execution_count": null,
   "outputs": [],
   "source": [
    "x_train_combined,y_train_combined,x_test,y_test=data_processing(x_train_combined_padded, x_test_padded,x_train_features_combined_features,x_test_features,y_train_electronics, y_validation_electronics,y_test_electronics)"
   ],
   "metadata": {
    "collapsed": false,
    "pycharm": {
     "is_executing": true
    }
   }
  },
  {
   "cell_type": "code",
   "execution_count": null,
   "outputs": [],
   "source": [
    "best_svm_model=model_build(x_train_combined,y_train_combined)"
   ],
   "metadata": {
    "collapsed": false,
    "pycharm": {
     "is_executing": true
    }
   }
  },
  {
   "cell_type": "code",
   "execution_count": null,
   "outputs": [],
   "source": [
    "y_pred_electronics=predict(x_test,y_test,X_test_electronics,best_svm_model,'results/svr_electronics_SPC.csv')"
   ],
   "metadata": {
    "collapsed": false,
    "pycharm": {
     "is_executing": true
    }
   }
  },
  {
   "cell_type": "code",
   "execution_count": null,
   "outputs": [],
   "source": [
    "evaluation_svr(y_pred_electronics,y_test_electronics,'results/evaluation_result_SVR.txt')"
   ],
   "metadata": {
    "collapsed": false,
    "pycharm": {
     "is_executing": true
    }
   }
  },
  {
   "cell_type": "code",
   "execution_count": null,
   "outputs": [],
   "source": [
    "del x_train_combined\n",
    "del x_test\n",
    "del x_train_features_combined_features\n",
    "del x_test_features\n",
    "del x_train_combined_padded\n",
    "del x_test_padded\n",
    "del y_pred_electronics\n",
    "del y_test_electronics\n",
    "del best_svm_model"
   ],
   "metadata": {
    "collapsed": false,
    "pycharm": {
     "is_executing": true
    }
   }
  },
  {
   "cell_type": "markdown",
   "source": [
    "## None features: Only reviewText"
   ],
   "metadata": {
    "collapsed": false
   }
  },
  {
   "cell_type": "code",
   "execution_count": 13,
   "outputs": [
    {
     "name": "stderr",
     "output_type": "stream",
     "text": [
      "/Users/xiangzhiping/Code/project_review_helpfulness/data_load.py:18: UserWarning: pandas only supports SQLAlchemy connectable (engine/connection) or database string URI or sqlite3 DBAPI2 connection. Other DBAPI2 objects are not tested. Please consider using SQLAlchemy.\n",
      "  df = pd.read_sql(query, conn)\n"
     ]
    },
    {
     "name": "stdout",
     "output_type": "stream",
     "text": [
      "load features_electronics from MySQL: (12916, 11)!\n",
      "features selection finished!\n",
      "No null values found in the dataset.\n",
      "shape of X_train: (9298, 1)\n",
      "shape of X_validation: (1034, 1)\n",
      "shape of X_test: (2584, 1)\n",
      "shape of y_train: (9298,)\n",
      "shape of y_validation: (1034,)\n",
      "shape of y_test: (2584,)\n",
      "Index(['reviewText'], dtype='object')\n"
     ]
    }
   ],
   "source": [
    "X_train_electronics, X_validation_electronics, X_test_electronics, y_train_electronics, y_validation_electronics, y_test_electronics = data_load.data_load(tag='none', table_name='features_electronics')"
   ],
   "metadata": {
    "collapsed": false
   }
  },
  {
   "cell_type": "code",
   "execution_count": 14,
   "outputs": [],
   "source": [
    "with open('results/evaluation_result_SVR.txt', 'a') as f:\n",
    "    f.write('features_electronics\\n')\n",
    "    f.write('====None Features====' + '\\n')"
   ],
   "metadata": {
    "collapsed": false
   }
  },
  {
   "cell_type": "code",
   "execution_count": 15,
   "outputs": [
    {
     "name": "stdout",
     "output_type": "stream",
     "text": [
      "Vocabulary size: 108387\n",
      "Embedding matrix shape: (108387, 100)\n",
      "sample review: 1024\n",
      "Text preprocessing done!\n"
     ]
    }
   ],
   "source": [
    "x_train_combined_padded, x_test_padded=review_preprocessing(X_train_electronics, X_validation_electronics, X_test_electronics)"
   ],
   "metadata": {
    "collapsed": false
   }
  },
  {
   "cell_type": "code",
   "execution_count": 16,
   "outputs": [
    {
     "name": "stdout",
     "output_type": "stream",
     "text": [
      "(10332, 1024)\n"
     ]
    }
   ],
   "source": [
    "y_train_combined = np.concatenate((y_train_electronics, y_validation_electronics), axis=0)\n",
    "x_train_combined=pd.DataFrame(x_train_combined_padded)\n",
    "x_test=pd.DataFrame(x_test_padded)\n",
    "print(x_train_combined.shape)"
   ],
   "metadata": {
    "collapsed": false
   }
  },
  {
   "cell_type": "code",
   "execution_count": 17,
   "outputs": [
    {
     "name": "stdout",
     "output_type": "stream",
     "text": [
      "training time: 46.249162912368774\n"
     ]
    }
   ],
   "source": [
    "best_svm_model=model_build(x_train_combined,y_train_combined)"
   ],
   "metadata": {
    "collapsed": false
   }
  },
  {
   "cell_type": "code",
   "execution_count": 18,
   "outputs": [
    {
     "name": "stdout",
     "output_type": "stream",
     "text": [
      "2584\n",
      "y_pred: [0.71304371 0.70966094 0.74205532 0.65046189 0.76437643 0.7403033\n",
      " 0.66033558 0.7406425  0.56740973 0.6030238 ]\n"
     ]
    }
   ],
   "source": [
    "y_pred_electronics=predict(x_test,y_test_electronics,X_test_electronics,best_svm_model,'results/svr_electronics_none.csv')"
   ],
   "metadata": {
    "collapsed": false
   }
  },
  {
   "cell_type": "code",
   "execution_count": 19,
   "outputs": [
    {
     "name": "stdout",
     "output_type": "stream",
     "text": [
      "y_pred.shape: (2584,)\n",
      "rmse: 0.329\n",
      "pcc: 0.124\n",
      "ndcg: 0.953\n"
     ]
    }
   ],
   "source": [
    "evaluation_svr(y_pred_electronics,y_test_electronics,'results/evaluation_result_SVR.txt')"
   ],
   "metadata": {
    "collapsed": false
   }
  },
  {
   "cell_type": "code",
   "execution_count": 20,
   "outputs": [
    {
     "data": {
      "text/plain": "41"
     },
     "execution_count": 20,
     "metadata": {},
     "output_type": "execute_result"
    }
   ],
   "source": [
    "gc.collect()"
   ],
   "metadata": {
    "collapsed": false
   }
  },
  {
   "cell_type": "markdown",
   "source": [],
   "metadata": {
    "collapsed": false
   }
  }
 ],
 "metadata": {
  "kernelspec": {
   "display_name": "Python 3",
   "language": "python",
   "name": "python3"
  },
  "language_info": {
   "codemirror_mode": {
    "name": "ipython",
    "version": 2
   },
   "file_extension": ".py",
   "mimetype": "text/x-python",
   "name": "python",
   "nbconvert_exporter": "python",
   "pygments_lexer": "ipython2",
   "version": "2.7.6"
  }
 },
 "nbformat": 4,
 "nbformat_minor": 0
}
