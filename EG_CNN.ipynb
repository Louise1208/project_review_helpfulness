{
 "cells": [
  {
   "cell_type": "code",
   "execution_count": 1,
   "metadata": {},
   "outputs": [],
   "source": [
    "import numpy as np\n",
    "import pandas as pd\n",
    "import torch.nn as nn\n",
    "import torch.nn.functional as F\n",
    "from sklearn.preprocessing import StandardScaler\n",
    "from torch.utils.data import DataLoader, TensorDataset\n",
    "import data_load\n",
    "import evaluation"
   ]
  },
  {
   "cell_type": "code",
   "execution_count": 2,
   "outputs": [
    {
     "data": {
      "text/plain": "0"
     },
     "execution_count": 2,
     "metadata": {},
     "output_type": "execute_result"
    }
   ],
   "source": [
    "import gc\n",
    "gc.collect()"
   ],
   "metadata": {
    "collapsed": false
   }
  },
  {
   "cell_type": "code",
   "execution_count": 3,
   "outputs": [],
   "source": [
    "max_sequence_length=512"
   ],
   "metadata": {
    "collapsed": false
   }
  },
  {
   "cell_type": "code",
   "execution_count": 4,
   "metadata": {},
   "outputs": [
    {
     "name": "stdout",
     "output_type": "stream",
     "text": [
      "2.1.0.dev20230818\n",
      "mps\n"
     ]
    }
   ],
   "source": [
    "import torch\n",
    "# always check your version\n",
    "print(torch.__version__)\n",
    "torch.device('mps')\n",
    "# True\n",
    "device = torch.device('mps' if torch.backends.mps.is_available() else 'cpu')\n",
    "print('mps' if torch.backends.mps.is_available() else 'cpu')\n"
   ]
  },
  {
   "cell_type": "code",
   "execution_count": 5,
   "metadata": {},
   "outputs": [
    {
     "name": "stdout",
     "output_type": "stream",
     "text": [
      "Loaded GloVe!\n"
     ]
    }
   ],
   "source": [
    "\n",
    "from gensim.models import KeyedVectors  # 用于加载GloVe词嵌入\n",
    "# 加载预训练的GloVe词嵌入\n",
    "glove_file = 'glove.6B/glove.6B.100d.txt'  # 替换为实际的GloVe文件路径 Common Crawl (42B tokens, 1.9M vocab, uncased, 300d vectors, 1.75 GB download Vocabulary Size: 400000   Embedding Dimension: 100d )\n",
    "glove_model = KeyedVectors.load_word2vec_format(glove_file, binary=False)\n",
    "print('Loaded GloVe!')"
   ]
  },
  {
   "cell_type": "code",
   "execution_count": 6,
   "metadata": {},
   "outputs": [],
   "source": [
    "def get_embedding_vector_for_word(word):\n",
    "    if word in glove_model:\n",
    "        return glove_model[word]\n",
    "    else:\n",
    "        return None\n",
    "\n",
    "def review_preprocessing(X_train,X_validation,X_test):\n",
    "\n",
    "    x_train_reviews=X_train['reviewText'].tolist()\n",
    "    x_validation_reviews=X_validation['reviewText'].tolist()\n",
    "    x_test_reviews=X_test['reviewText'].tolist()\n",
    "\n",
    "    # Combine all reviews to create vocabulary\n",
    "    all_reviews = x_train_reviews + x_validation_reviews + x_test_reviews\n",
    "\n",
    "    # Build vocabulary manually\n",
    "    word_index = {}\n",
    "    current_index = 1  # Start index from 1\n",
    "    for review in all_reviews:\n",
    "        words = review.split()\n",
    "        for word in words:\n",
    "            if word not in word_index:\n",
    "                word_index[word] = current_index\n",
    "                current_index += 1\n",
    "    vocab_size = len(word_index) + 1\n",
    "    print('Vocabulary size:', vocab_size)\n",
    "\n",
    "    # Initialize embedding matrix\n",
    "    embedding_dim = 100  # Assuming embedding dimension is 100\n",
    "    embedding_matrix = np.zeros((vocab_size, embedding_dim))\n",
    "\n",
    "    # Fill embedding matrix\n",
    "    for word, i in word_index.items():\n",
    "        embedding_vector = get_embedding_vector_for_word(word)  # Get embedding vector for word\n",
    "        if embedding_vector is not None:\n",
    "            embedding_matrix[i] = embedding_vector\n",
    "    print('Embedding matrix shape:', embedding_matrix.shape)\n",
    "    # Save embedding matrix to file\n",
    "    np.save('embedding_matrix.npy', embedding_matrix)\n",
    "\n",
    "    # Convert text to embedding representation\n",
    "    def text_to_sequences(texts, word_index):\n",
    "        sequences = []\n",
    "        for text in texts:\n",
    "            words = text.split()\n",
    "            sequence = [word_index[word] for word in words if word in word_index]\n",
    "            sequences.append(sequence)\n",
    "        return sequences\n",
    "\n",
    "    x_train_sequences = text_to_sequences(x_train_reviews, word_index)\n",
    "    x_validation_sequences = text_to_sequences(x_validation_reviews, word_index)\n",
    "    x_test_sequences = text_to_sequences(x_test_reviews, word_index)\n",
    "\n",
    "    # Find the maximum sequence length\n",
    "    # max_sequence_length = max(\n",
    "    #     len(seq) for seq in x_train_sequences + x_validation_sequences + x_test_sequences\n",
    "    # )\n",
    "    # print('Max sequence length:', max_sequence_length)\n",
    "\n",
    "    def pad_sequences(sequences, max_length):\n",
    "        padded_sequences = []\n",
    "        for seq in sequences:\n",
    "            if len(seq) < max_length:\n",
    "                padded_seq = seq + [0] * (max_length - len(seq))\n",
    "            else:\n",
    "                padded_seq = seq[:max_length]\n",
    "            padded_sequences.append(padded_seq)\n",
    "        return padded_sequences\n",
    "\n",
    "    x_train_padded = pad_sequences(x_train_sequences, max_sequence_length)\n",
    "    x_validation_padded = pad_sequences(x_validation_sequences, max_sequence_length)\n",
    "    x_test_padded = pad_sequences(x_test_sequences, max_sequence_length)\n",
    "    print('sample review:', len(x_train_padded[0]))\n",
    "    print('Text preprocessing done!')\n",
    "    return x_train_padded, x_validation_padded, x_test_padded\n"
   ]
  },
  {
   "cell_type": "code",
   "execution_count": 7,
   "metadata": {},
   "outputs": [],
   "source": [
    "def features_preprocessing(X_train,X_validation,X_test):\n",
    "    # do with Features\n",
    "    X_train.drop(columns=['reviewText'],inplace=True)\n",
    "    X_validation.drop(columns=['reviewText'],inplace=True)\n",
    "    X_test.drop(columns=['reviewText'], inplace=True)\n",
    "\n",
    "\n",
    "    # 定义数值特征转换器，将每个特征的值转换为均值为 0，标准差为 1 的分布，从而使得数据的分布更接近正态分布。\n",
    "    scaler = StandardScaler()\n",
    "    x_train_features=scaler.fit_transform(X_train)\n",
    "    x_validation_features=scaler.transform(X_validation)\n",
    "    x_test_features=scaler.transform(X_test)\n",
    "    print('Features preprocessing done!')\n",
    "    return x_train_features,x_validation_features,x_test_features"
   ]
  },
  {
   "cell_type": "code",
   "execution_count": 8,
   "metadata": {},
   "outputs": [],
   "source": [
    "def create_dataloader(x_train_padded, x_validation_padded, x_test_padded, x_train_features, x_validation_features, x_test_features, y_train, y_val, y_test,batch_size):\n",
    "    import torch\n",
    "    # Convert the data to PyTorch tensors\n",
    "    x_train_padded = torch.tensor(x_train_padded)\n",
    "    x_validation_padded = torch.tensor(x_validation_padded)\n",
    "    x_test_padded = torch.tensor(x_test_padded)\n",
    "    x_train_features = torch.tensor(x_train_features, dtype=torch.float32)\n",
    "    x_validation_features = torch.tensor(x_validation_features, dtype=torch.float32)\n",
    "    x_test_features = torch.tensor(x_test_features, dtype=torch.float32)\n",
    "    # y_train=y_train.values.reshape(-1,1)\n",
    "    # y_val=y_val.values.reshape(-1,1)\n",
    "    # y_test=y_test.values.reshape(-1,1)\n",
    "    y_train = torch.tensor(y_train.tolist(), dtype=torch.float32)\n",
    "    y_val = torch.tensor(y_val.tolist(), dtype=torch.float32)\n",
    "    y_test = torch.tensor(y_test.tolist(), dtype=torch.float32)\n",
    "\n",
    "    # Create TensorDatasets for train, validation, and test sets\n",
    "    train_dataset = TensorDataset(x_train_padded, x_train_features, y_train)\n",
    "    validation_dataset = TensorDataset(x_validation_padded, x_validation_features, y_val)\n",
    "    test_dataset = TensorDataset(x_test_padded, x_test_features, y_test)\n",
    "\n",
    "    # Create DataLoaders for train, validation, and test sets\n",
    "    train_loader = DataLoader(train_dataset, batch_size=batch_size, shuffle=True)\n",
    "    validation_loader = DataLoader(validation_dataset, batch_size=batch_size, shuffle=False)\n",
    "    test_loader = DataLoader(test_dataset, batch_size=batch_size, shuffle=False)\n",
    "\n",
    "    # for batch in train_loader:\n",
    "    #     batch_inputs, batch_features, batch_labels = tuple(b.to(device) for b in batch)\n",
    "    #     print(batch_inputs.shape)\n",
    "    #     print(batch_features.shape)\n",
    "    #     print(batch_labels.shape)\n",
    "    #     break\n",
    "    print('     total number of batches of train_loader:', len(train_loader) )\n",
    "\n",
    "    return train_loader,validation_loader,test_loader\n"
   ]
  },
  {
   "cell_type": "markdown",
   "metadata": {},
   "source": [
    "# Model"
   ]
  },
  {
   "cell_type": "code",
   "execution_count": 9,
   "metadata": {},
   "outputs": [],
   "source": [
    "class GatedCNNModel(nn.Module):\n",
    "    def __init__(self, embedding_matrix, num_features, num_filters, dropout):\n",
    "        super(GatedCNNModel, self).__init__()\n",
    "\n",
    "        vocab_size, embedding_dim = embedding_matrix.shape\n",
    "\n",
    "        # Embedding layer\n",
    "        self.embedding = nn.Embedding.from_pretrained(torch.FloatTensor(embedding_matrix))\n",
    "\n",
    "        # Gating layer\n",
    "        self.gating_layer = nn.Linear(embedding_dim, 1)\n",
    "\n",
    "        # Convolutional layers\n",
    "        self.convs = nn.ModuleList([\n",
    "            nn.Conv2d(in_channels=1, out_channels=num_filters, kernel_size=(f, embedding_dim)) for f in [2, 3, 4, 5]\n",
    "        ])\n",
    "\n",
    "        # Fully connected layers for features\n",
    "        self.features_fc1 = nn.Linear(num_features * 1, 256)\n",
    "        self.features_fc2 = nn.Linear(256, 128)  # Additional layer\n",
    "\n",
    "        self.fc1 = nn.Linear(4 * num_filters + 128, 64)  # First regression layer\n",
    "        self.fc2 = nn.Linear(64, 1)  # Second regression layer\n",
    "\n",
    "        self.dropout = nn.Dropout(dropout)\n",
    "\n",
    "\n",
    "    def forward(self, text, features):\n",
    "        embedded = self.embedding(text)  # (batch_size, seq_len, embedding_dim)\n",
    "\n",
    "        # Apply gating mechanism\n",
    "        gate = torch.sigmoid(self.gating_layer(embedded))\n",
    "        weighted_embedded = embedded * gate\n",
    "\n",
    "        # Convolutional and max-pooling layers\n",
    "        conved = [F.relu(conv(weighted_embedded.unsqueeze(1))).squeeze(3) for conv in self.convs]\n",
    "\n",
    "        pooled = [F.max_pool1d(conv, conv.shape[2]).squeeze(2) for conv in conved]\n",
    "\n",
    "        cat_pooled = torch.cat(pooled, dim=1)  # Concatenate pooled outputs\n",
    "\n",
    "        # Fully connected layers for features\n",
    "        features_out = self.features_fc1(features)\n",
    "        features_out = self.features_fc2(features_out)\n",
    "\n",
    "        # Concatenate CNN and features outputs\n",
    "        combined = torch.cat((cat_pooled, features_out), dim=1)\n",
    "\n",
    "        # Apply two regression layers\n",
    "        regression_output = F.relu(self.fc1(self.dropout(combined)))\n",
    "        output = torch.sigmoid(self.fc2(regression_output))  # Ensure [0, 1] range\n",
    "        return output\n"
   ]
  },
  {
   "cell_type": "code",
   "execution_count": 10,
   "metadata": {},
   "outputs": [],
   "source": [
    "def model_preparing( num_filter, dropout, weight_decay,lr,num_features=9 ):\n",
    "    embedding_matrix=np.load('embedding_matrix.npy')\n",
    "\n",
    "    # 实例化模型\n",
    "    model = GatedCNNModel(embedding_matrix, num_features, num_filter, dropout)\n",
    "    model.to(device)\n",
    "\n",
    "    loss_function = nn.MSELoss()\n",
    "    # 定义optimizer\n",
    "    optimizer = torch.optim.AdamW(model.parameters(),\n",
    "                      lr=lr,\n",
    "                      weight_decay = weight_decay,\n",
    "                      eps=1e-8)\n",
    "\n",
    "    # 添加L2正则化（权重衰减）： 在模型的每个权重更新步骤中，通过在损失函数中添加权重的平方项，限制权重的大小。这可以防止某些权重过大，从而控制模型的复杂度。\n",
    "    print('   model_preparing done!')\n",
    "    return model,loss_function,optimizer"
   ]
  },
  {
   "cell_type": "code",
   "execution_count": 11,
   "outputs": [],
   "source": [
    "# 定义model evaluate function\n",
    "def model_evaluate(model, loss_function, test_dataloader):\n",
    "    model.eval()\n",
    "    test_loss= []\n",
    "    for batch in test_dataloader:\n",
    "        batch_inputs, batch_features, batch_labels = tuple(b.to(device) for b in batch)\n",
    "        with torch.no_grad():\n",
    "            outputs = model(batch_inputs, batch_features)\n",
    "        loss = loss_function(outputs.squeeze(), batch_labels.squeeze())\n",
    "        test_loss.append(loss.item())\n",
    "    return np.mean(test_loss)\n"
   ],
   "metadata": {
    "collapsed": false
   }
  },
  {
   "cell_type": "code",
   "execution_count": 12,
   "outputs": [],
   "source": [
    "#This is just to format the time that training takes\n",
    "import datetime\n",
    "\n",
    "def format_time(elapsed):\n",
    "    '''\n",
    "    Takes a time in seconds and returns a string hh:mm:ss\n",
    "    '''\n",
    "    # Round to the nearest second.\n",
    "    elapsed_rounded = int(round((elapsed)))\n",
    "\n",
    "    # Format as hh:mm:ss\n",
    "    return str(datetime.timedelta(seconds=elapsed_rounded))\n"
   ],
   "metadata": {
    "collapsed": false
   }
  },
  {
   "cell_type": "code",
   "execution_count": 13,
   "metadata": {},
   "outputs": [],
   "source": [
    "from matplotlib import pyplot as plt\n",
    "import time\n",
    "def train(num_epochs,model,train_loader,optimizer,loss_function,validation_loader,name_best,pic,stats):\n",
    "\n",
    "    val_loss = model_evaluate(model, loss_function, validation_loader)\n",
    "    best_loss = val_loss\n",
    "    # best_loss=0.08622624  #eg_cnn_video_games_batch_size_32_num_filter_16_dropout_0.5_weight_decay_0.0001_lr0.001.pt\n",
    "    print('     Initial validation loss:', best_loss)\n",
    "    training_stats = []\n",
    "    epochs_no_improve = 0\n",
    "    best_epoch = 0\n",
    "    t_total_start = time.time()\n",
    "    for epoch in range(num_epochs):\n",
    "        #starting time of training\n",
    "        t_e_start = time.time()\n",
    "        train_loss = 0.0\n",
    "        temp=0\n",
    "        model.train()\n",
    "        for batch_text, batch_features, batch_labels in train_loader:\n",
    "            batch_text, batch_features, batch_labels = batch_text.to(device), batch_features.to(device), batch_labels.to(device)\n",
    "\n",
    "            optimizer.zero_grad()\n",
    "            output = model(batch_text, batch_features)\n",
    "            loss = loss_function(output.squeeze(), batch_labels.squeeze())\n",
    "            loss.backward()\n",
    "            optimizer.step()\n",
    "            train_loss += loss.item()\n",
    "            if temp==int((len(train_loader)-1)/2) :\n",
    "                print(f'        epoch: {epoch}, batch: {temp}, avg_loss: {train_loss / (temp+1)}')\n",
    "            temp=temp+1\n",
    "\n",
    "        avg_train_loss = train_loss / len(train_loader)\n",
    "\n",
    "        # Evaluate on validation data\n",
    "        val_loss = model_evaluate(model, loss_function, validation_loader)\n",
    "        training_time_epoch =format_time(time.time() - t_e_start)\n",
    "\n",
    "        training_stats.append({\n",
    "            'epoch': epoch,\n",
    "            'training loss': avg_train_loss,\n",
    "            'valid loss': val_loss,\n",
    "            'training time': training_time_epoch\n",
    "        })\n",
    "\n",
    "        print(f\"Epoch [{epoch}/{num_epochs}] - Train Loss: {avg_train_loss:.4f} - Valid Loss: {val_loss:.4f} - Training Time: {training_time_epoch} \")\n",
    "\n",
    "\n",
    "        # add early stopping\n",
    "        # 训练过程中使用Early Stopping来防止过拟合。如果模型在验证集上的损失值连续3个epoch没有下降，则停止训练。\n",
    "        if val_loss < best_loss:\n",
    "            best_loss = val_loss\n",
    "            best_epoch = epoch\n",
    "            torch.save({'epoch': best_epoch, 'best_loss': best_loss, 'state_dict': model.state_dict(), 'optimizer': optimizer.state_dict()}, name_best)\n",
    "            epochs_no_improve = 0\n",
    "        else:\n",
    "            epochs_no_improve += 1\n",
    "            # Check early stopping condition\n",
    "            if epochs_no_improve == 3:\n",
    "                print(\"Early Stopping! No improvement in validation loss for {} epochs.\".format(epoch))\n",
    "                break\n",
    "\n",
    "    print('time elapsed for training',format_time(time.time() - t_total_start))\n",
    "\n",
    "    print(f\"the best loss for epoch {best_epoch} is {best_loss}\")\n",
    "\n",
    "    df_stats = pd.DataFrame(data=training_stats)\n",
    "    df_stats = df_stats.set_index('epoch')\n",
    "    df_stats.to_csv(stats, sep='\\t', index=False)\n",
    "    print(df_stats)\n",
    "\n",
    "    # Plot loss values\n",
    "    plt.plot(df_stats['training loss'], label='Training Loss')\n",
    "    plt.plot(df_stats['valid loss'], label='Validation Loss')\n",
    "    plt.xlabel('Epoch')\n",
    "    plt.ylabel('Loss')\n",
    "    plt.title('Training and Validation Loss')\n",
    "    plt.legend()\n",
    "    plt.savefig(pic)\n",
    "    plt.show()"
   ]
  },
  {
   "cell_type": "code",
   "execution_count": 14,
   "outputs": [],
   "source": [
    "def load_ckp(checkpoint_fpath, model, optimizer):\n",
    "    \"\"\"\n",
    "    checkpoint_path: path to saved checkpoint\n",
    "    model: model that we want to load checkpoint parameters into\n",
    "    optimizer: optimizer used in training\n",
    "    \"\"\"\n",
    "    # load checkpoint\n",
    "    checkpoint = torch.load(checkpoint_fpath)\n",
    "    # initialize state_dict from checkpoint to model\n",
    "    model.load_state_dict(checkpoint['state_dict'])\n",
    "    # initialize optimizer from checkpoint to optimizer\n",
    "    optimizer.load_state_dict(checkpoint['optimizer'])\n",
    "    # initialize best_loss from checkpoint to best_loss\n",
    "    best_loss = checkpoint['best_loss']\n",
    "    return model, optimizer, checkpoint['epoch'], best_loss"
   ],
   "metadata": {
    "collapsed": false
   }
  },
  {
   "cell_type": "code",
   "execution_count": 15,
   "metadata": {},
   "outputs": [],
   "source": [
    "# Define the predict function\n",
    "def predict(model, test_loader):\n",
    "    model.eval()\n",
    "    predictions = []\n",
    "\n",
    "    with torch.no_grad():\n",
    "        for batch_text, batch_features, _ in test_loader:\n",
    "            batch_text, batch_features = batch_text.to(device), batch_features.to(device)\n",
    "            output = model(batch_text, batch_features)\n",
    "            predictions.extend(output.cpu().numpy())\n",
    "\n",
    "    predictions = np.array(predictions)\n",
    "    return predictions\n"
   ]
  },
  {
   "cell_type": "code",
   "execution_count": 16,
   "metadata": {},
   "outputs": [],
   "source": [
    "def saved_results(y_pred,y_ture,X_test,saved_path):\n",
    "    X_test['y_pred'] = y_pred\n",
    "    X_test['y_true'] = y_ture\n",
    "    X_test.to_csv(saved_path, index=False)"
   ]
  },
  {
   "cell_type": "code",
   "execution_count": 17,
   "outputs": [],
   "source": [
    "def evaluation_cnn(y_pred,y_ture,path):\n",
    "    # Reshape y_pred_video_games\n",
    "    y_pred = np.reshape(y_pred, (y_pred.shape[0],))\n",
    "    print('y_pred.shape:', y_pred.shape)\n",
    "\n",
    "    rmse=evaluation.rmse(y_ture,y_pred)\n",
    "    pcc=evaluation.pcc(y_ture,y_pred)\n",
    "    ndcg=evaluation.ndcg(y_ture,y_pred)\n",
    "    print('rmse:',rmse)\n",
    "    print('pcc:',pcc)\n",
    "    print('ndcg:',ndcg)\n",
    "\n",
    "    # save into text file\n",
    "    with open(path, 'a') as f:\n",
    "        f.write('RMSE: ' + str(rmse) + '\\n')\n",
    "        f.write('PCC: ' + str(pcc) + '\\n')\n",
    "        f.write('NDCG: ' + str(ndcg) + '\\n')\n",
    "        f.write('\\n=====================\\n\\n')\n"
   ],
   "metadata": {
    "collapsed": false
   }
  },
  {
   "cell_type": "markdown",
   "metadata": {},
   "source": [
    "# Video Games"
   ]
  },
  {
   "cell_type": "markdown",
   "source": [
    "***try with video games***"
   ],
   "metadata": {
    "collapsed": false
   }
  },
  {
   "cell_type": "code",
   "execution_count": 65,
   "outputs": [
    {
     "name": "stderr",
     "output_type": "stream",
     "text": [
      "/Users/xiangzhiping/Code/project_review_helpfulness/data_load.py:18: UserWarning: pandas only supports SQLAlchemy connectable (engine/connection) or database string URI or sqlite3 DBAPI2 connection. Other DBAPI2 objects are not tested. Please consider using SQLAlchemy.\n",
      "  df = pd.read_sql(query, conn)\n"
     ]
    },
    {
     "name": "stdout",
     "output_type": "stream",
     "text": [
      "load features_video_games from MySQL: (18374, 11)!\n",
      "features selection finished!\n",
      "No null values found in the dataset.\n",
      "shape of X_train: (13229, 10)\n",
      "shape of X_validation: (1470, 10)\n",
      "shape of X_test: (3675, 10)\n",
      "shape of y_train: (13229,)\n",
      "shape of y_validation: (1470,)\n",
      "shape of y_test: (3675,)\n",
      "Index(['reviewText', 'overall', 'review_length', 'num_sentences',\n",
      "       'avg_sentence_length', 'subjectivity', 'readability', 'timeline',\n",
      "       'topic', 'review_volume'],\n",
      "      dtype='object')\n"
     ]
    }
   ],
   "source": [
    "# load data\n",
    "# video_games\n",
    "X_train_video_games, X_validation_video_games, X_test_video_games, y_train_video_games, y_validation_video_games, y_test_video_games = data_load.data_load(tag='all', table_name='features_video_games')\n",
    "\n",
    "# features number :9 for all\n",
    "num_features=9"
   ],
   "metadata": {
    "collapsed": false
   }
  },
  {
   "cell_type": "code",
   "execution_count": 66,
   "outputs": [
    {
     "name": "stdout",
     "output_type": "stream",
     "text": [
      "Vocabulary size: 173529\n",
      "Embedding matrix shape: (173529, 100)\n",
      "sample review: 512\n",
      "Text preprocessing done!\n"
     ]
    }
   ],
   "source": [
    "#处理review\n",
    "X_train_video_games_text, X_validation_video_games_text, X_test_video_games_text=review_preprocessing(X_train_video_games, X_validation_video_games, X_test_video_games)"
   ],
   "metadata": {
    "collapsed": false
   }
  },
  {
   "cell_type": "code",
   "execution_count": 67,
   "outputs": [
    {
     "name": "stdout",
     "output_type": "stream",
     "text": [
      "Features preprocessing done!\n"
     ]
    }
   ],
   "source": [
    "#处理features\n",
    "X_train_video_games_features, X_validation_video_games_features, X_test_video_games_features=features_preprocessing(X_train_video_games, X_validation_video_games, X_test_video_games)"
   ],
   "metadata": {
    "collapsed": false
   }
  },
  {
   "cell_type": "markdown",
   "source": [
    "# ***Tune***"
   ],
   "metadata": {
    "collapsed": false
   }
  },
  {
   "cell_type": "code",
   "execution_count": 68,
   "outputs": [],
   "source": [
    "# Tune\n",
    "batch_sizes=[64] #64, 128\n",
    "# batch_size=32: the dataset of their paper is too small, but ours' is too large, so we need to increase the batch size for generalization\n",
    "# batch_size=512:崩溃\n",
    "# batch_size=256: too long,30 mins for 1 epoch\n",
    "\n",
    "num_filters=[32] #try 32-64  ,32比16好   16,\n",
    "dropouts = [0.5] # try 0.0-0.5\n",
    "# dropouts= 0:过拟合在epoch==3就出现\n",
    "#有论文认为dropout取值为0.5模型表现最佳（https://arxiv.org/pdf/1207.0580.pdf）\n",
    "#Dropout of 50% of the hidden units significantly improves the performance of the model on all three tasks.\n",
    "\n",
    "weight_decaies=[1e-5] # 1e-4,\n",
    "#将 weigt_decay 与其他正则化方法（如 Dropout）一起使用，以提高模型的泛化性能。\n",
    "#权重衰减是一种正则化项，用于控制权重的大小。初始值可以在 1e-5 到 1e-3 之间。对于大型数据集，你可以选择较小的值。权重衰减的目标是防止模型过拟合，但请注意过大的权重衰减可能导致欠拟合\n",
    "\n",
    "learning_rates=[1e-4]\n",
    "#学习率控制了参数更新的步幅。通常，你可以从较小的学习率开始，如 1e-4 或 1e-5。如果训练过程很慢或损失函数下降不稳定，你可以尝试增大学习率，例如 1e-3。使用学习率衰减策略来动态地减小学习率。\n",
    "# lr=0.0005 学习率过大，validation loss震荡\n",
    "#lr=0.01,batch_size=32: train loss震荡，validation loss震荡，不收敛: 原因如下：\n",
    "#1. 学习率设置过大，参数更新可能会导致损失函数的震荡。参数的变化太大可能导致模型无法稳定收敛。\n",
    "#2. batch_size设置过小，导致训练过程中的梯度更新过于频繁，模型无法稳定收敛。且数据中存在的异常值、噪声会特别明显，这可能会导致模型在训练时出现震荡\n",
    "#3. lr=1e-5,batch_size=64: 呈下降趋势，不收敛\n",
    "\n",
    "\n",
    "# 取值范围怎么来的？\n",
    "#每个例子一张图\n",
    "# 怎么确定？： validation loss 收敛"
   ],
   "metadata": {
    "collapsed": false
   }
  },
  {
   "cell_type": "code",
   "execution_count": 69,
   "outputs": [
    {
     "name": "stdout",
     "output_type": "stream",
     "text": [
      "     total number of batches of train_loader: 207\n",
      "\n",
      "============================\n",
      "For batch_size:  64 \n",
      "\n",
      " num_filter: 32\n",
      " dropout: 0.5\n",
      " weight_decay: 1e-05\n",
      " learning_rate: 0.0001\n",
      "   model_preparing done!\n",
      "     Initial validation loss: 0.121805634835492\n",
      "        epoch: 0, batch: 103, avg_loss: 0.10541930458006951\n",
      "Epoch [0/20] - Train Loss: 0.1015 - Valid Loss: 0.0963 - Training Time: 0:06:02 \n",
      "        epoch: 1, batch: 103, avg_loss: 0.09692796513151664\n",
      "Epoch [1/20] - Train Loss: 0.0961 - Valid Loss: 0.0941 - Training Time: 0:06:02 \n",
      "        epoch: 2, batch: 103, avg_loss: 0.0950689993512172\n",
      "Epoch [2/20] - Train Loss: 0.0938 - Valid Loss: 0.0926 - Training Time: 0:06:01 \n",
      "        epoch: 3, batch: 103, avg_loss: 0.09304697109529605\n",
      "Epoch [3/20] - Train Loss: 0.0928 - Valid Loss: 0.0906 - Training Time: 0:06:02 \n",
      "        epoch: 4, batch: 103, avg_loss: 0.09294348969482459\n",
      "Epoch [4/20] - Train Loss: 0.0912 - Valid Loss: 0.0905 - Training Time: 0:06:02 \n",
      "        epoch: 5, batch: 103, avg_loss: 0.09025841671973467\n",
      "Epoch [5/20] - Train Loss: 0.0902 - Valid Loss: 0.0902 - Training Time: 0:06:03 \n",
      "        epoch: 6, batch: 103, avg_loss: 0.08907411806285381\n",
      "Epoch [6/20] - Train Loss: 0.0895 - Valid Loss: 0.0892 - Training Time: 0:06:02 \n",
      "        epoch: 7, batch: 103, avg_loss: 0.08859623270109296\n",
      "Epoch [7/20] - Train Loss: 0.0885 - Valid Loss: 0.0892 - Training Time: 0:06:02 \n",
      "        epoch: 8, batch: 103, avg_loss: 0.08585597180689757\n",
      "Epoch [8/20] - Train Loss: 0.0873 - Valid Loss: 0.0884 - Training Time: 0:06:02 \n",
      "        epoch: 9, batch: 103, avg_loss: 0.08641846578281659\n",
      "Epoch [9/20] - Train Loss: 0.0865 - Valid Loss: 0.0876 - Training Time: 0:06:02 \n",
      "        epoch: 10, batch: 103, avg_loss: 0.08601258985268381\n",
      "Epoch [10/20] - Train Loss: 0.0860 - Valid Loss: 0.0879 - Training Time: 0:06:03 \n",
      "        epoch: 11, batch: 103, avg_loss: 0.0838097663094791\n",
      "Epoch [11/20] - Train Loss: 0.0847 - Valid Loss: 0.0878 - Training Time: 0:06:02 \n",
      "        epoch: 12, batch: 103, avg_loss: 0.08563194792860976\n",
      "Epoch [12/20] - Train Loss: 0.0846 - Valid Loss: 0.0876 - Training Time: 0:06:02 \n",
      "Early Stopping! No improvement in validation loss for 12 epochs.\n",
      "time elapsed for training 1:18:30\n",
      "the best loss for epoch 9 is 0.08757294908813808\n",
      "       training loss  valid loss training time\n",
      "epoch                                         \n",
      "0           0.101455    0.096282       0:06:02\n",
      "1           0.096068    0.094083       0:06:02\n",
      "2           0.093787    0.092613       0:06:01\n",
      "3           0.092760    0.090589       0:06:02\n",
      "4           0.091175    0.090535       0:06:02\n",
      "5           0.090236    0.090185       0:06:03\n",
      "6           0.089467    0.089230       0:06:02\n",
      "7           0.088463    0.089206       0:06:02\n",
      "8           0.087261    0.088437       0:06:02\n",
      "9           0.086548    0.087573       0:06:02\n",
      "10          0.086026    0.087942       0:06:03\n",
      "11          0.084691    0.087793       0:06:02\n",
      "12          0.084553    0.087590       0:06:02\n"
     ]
    },
    {
     "data": {
      "text/plain": "<Figure size 640x480 with 1 Axes>",
      "image/png": "[encoded data removed]"
     },
     "metadata": {},
     "output_type": "display_data"
    },
    {
     "name": "stdout",
     "output_type": "stream",
     "text": [
      "=============In this step=====================\n",
      "best_loss: 0.08757294908813808\n",
      "best_epoch: 9\n",
      "best_batch_size: 64\n",
      "best_num_filter: 32\n",
      "best_dropout: 0.5\n",
      "best_weight_decay: 1e-05\n",
      "best_learning_rate: 0.0001\n",
      "best_model_file: checkpoints/cnn_tune/eg_cnn_video_games_best_batch_size_64_num_filter_32_dropout_0.5_weight_decay_1e-05_lr_0.0001.pt\n",
      "==================================\n",
      "\n",
      "==================================\n",
      "\n",
      "==========Results of the best one !!!!!==========\n",
      "best_model_file: checkpoints/cnn_tune/eg_cnn_video_games_best_batch_size_64_num_filter_32_dropout_0.5_weight_decay_1e-05_lr_0.0001.pt\n",
      "     best_loss: 0.08757294908813808\n",
      "     best_epoch: 9\n",
      "     best_batch_size: 64\n",
      "     best_num_filter: 32\n",
      "     best_dropout: 0.5\n",
      "     best_weight_decay: 1e-05\n",
      "     best_learning_rate: 0.0001\n"
     ]
    }
   ],
   "source": [
    "num_epochs=20\n",
    "best_loss_final=10\n",
    "best_loss=1\n",
    "best_lr=0\n",
    "best_epoch_final=0\n",
    "best_batch_size=0\n",
    "best_num_filter=0\n",
    "best_dropout=0\n",
    "best_weight_decay=0\n",
    "best_model_file=''\n",
    "best_model=''\n",
    "for batch_size in batch_sizes:\n",
    "    # create dataloader\n",
    "    train_loader,validation_loader,test_loader=create_dataloader(X_train_video_games_text,X_validation_video_games_text, X_test_video_games_text, X_train_video_games_features, X_validation_video_games_features, X_test_video_games_features, y_train_video_games, y_validation_video_games, y_test_video_games,batch_size)\n",
    "    print('\\n============================\\nFor batch_size: ',batch_size,'\\n')\n",
    "    for num_filter in num_filters:\n",
    "        for lr in learning_rates:\n",
    "            for dropout in dropouts:\n",
    "                for weight_decay in weight_decaies:\n",
    "                    print(' num_filter:',num_filter)\n",
    "                    print(' dropout:',dropout)\n",
    "                    print(' weight_decay:',weight_decay)\n",
    "                    print(' learning_rate:',lr)\n",
    "\n",
    "                    if  num_filter==32 and dropout ==0.5 and weight_decay==0.0001 and lr==0.0001:\n",
    "                        print('skip this one\\n')\n",
    "                        continue\n",
    "\n",
    "                   # model preparing\n",
    "                    model,loss_function,optimizer=model_preparing(num_filter, dropout, weight_decay,lr,num_features)\n",
    "\n",
    "                    # saved_file\n",
    "                    name_best=f'checkpoints/cnn_tune/eg_cnn_video_games_best_batch_size_{batch_size}_num_filter_{num_filter}_dropout_{dropout}_weight_decay_{weight_decay}_lr_{lr}.pt'\n",
    "                    pic=f'pictures/cnn_tune/eg_cnn_video_games_batch_size_{batch_size}_num_filter_{num_filter}_dropout_{dropout}_weight_decay_{weight_decay}_lr_{lr}.png'\n",
    "                    stats=f'checkpoints/cnn_tune/eg_cnn_video_games_batch_size_{batch_size}_num_filter_{num_filter}_dropout_{dropout}_weight_decay_{weight_decay}_lr_{lr}.txt'\n",
    "\n",
    "                    # train\n",
    "                    train(num_epochs,model,train_loader,optimizer,loss_function,validation_loader,name_best,pic,stats)\n",
    "\n",
    "                    # get the best model with hyperparameters\n",
    "                    model, optimizer, best_epoch, best_loss= load_ckp(name_best, model, optimizer)\n",
    "                    if best_loss<best_loss_final:\n",
    "                        best_loss_final=best_loss\n",
    "                        best_epoch_final=best_epoch\n",
    "                        best_batch_size=batch_size\n",
    "                        best_num_filter=num_filter\n",
    "                        best_dropout=dropout\n",
    "                        best_weight_decay=weight_decay\n",
    "                        best_lr=lr\n",
    "                        best_model_file=name_best\n",
    "                        print('=============In this step=====================')\n",
    "                        print('best_loss:',best_loss_final)\n",
    "                        print('best_epoch:',best_epoch_final)\n",
    "                        print('best_batch_size:',best_batch_size)\n",
    "                        print('best_num_filter:',best_num_filter)\n",
    "                        print('best_dropout:',best_dropout)\n",
    "                        print('best_weight_decay:',best_weight_decay)\n",
    "                        print('best_learning_rate:',best_lr)\n",
    "                        print('best_model_file:',best_model_file)\n",
    "                        print('==================================')\n",
    "\n",
    "                    del model\n",
    "                    del optimizer\n",
    "                    del loss_function\n",
    "    del train_loader\n",
    "    del validation_loader\n",
    "    del test_loader\n",
    "\n",
    "print('\\n==================================\\n')\n",
    "print('==========Results of the best one !!!!!==========')\n",
    "print('best_model_file:',best_model_file)\n",
    "print('     best_loss:',best_loss_final)\n",
    "\n",
    "print('     best_epoch:',best_epoch_final)\n",
    "print('     best_batch_size:',best_batch_size)\n",
    "print('     best_num_filter:',best_num_filter)\n",
    "print('     best_dropout:',best_dropout)\n",
    "print('     best_weight_decay:',best_weight_decay)\n",
    "print('     best_learning_rate:',best_lr)\n",
    "# validation loss 图像末尾呈现波浪状：收敛\n"
   ],
   "metadata": {
    "collapsed": false
   }
  },
  {
   "cell_type": "code",
   "execution_count": 70,
   "outputs": [],
   "source": [
    "# 目前最好的：\n",
    "# best_loss: 0.07785466862352271\n",
    "# best_epoch: 19\n",
    "# best_batch_size: 64\n",
    "# best_num_filter: 32\n",
    "# best_dropout: 0.5\n",
    "# best_weight_decay: 1e-05\n",
    "# best_learning_rate: 0.0001\n",
    "# best_model_file: checkpoints/cnn_tune/eg_cnn_video_games_best_batch_size_64_num_filter_32_dropout_0.5_weight_decay_1e-05_lr_0.0001.pt\n",
    "\n",
    "# if best_loss_final>=0.07785466862352271:\n",
    "#     best_epoch=19\n",
    "#     best_batch_size=64\n",
    "#     best_num_filter=32\n",
    "#     best_dropout=0.5\n",
    "#     best_weight_decay=1e-05\n",
    "#     best_lr=0.0001\n",
    "#     best_model_file='checkpoints/cnn_tune/eg_cnn_video_games_best_batch_size_64_num_filter_32_dropout_0.5_weight_decay_1e-05_lr_0.0001.pt'\n",
    "#     print('=============In this step=====================')\n",
    "#     print('best_loss:',0.07785466862352271)\n",
    "#     print('best_epoch:',best_epoch)\n",
    "#     print('best_batch_size:',best_batch_size)\n",
    "#     print('best_num_filter:',best_num_filter)\n",
    "#     print('best_dropout:',best_dropout)\n",
    "#     print('best_weight_decay:',best_weight_decay)\n",
    "#     print('best_learning_rate:',best_lr)\n",
    "#     print('best_model_file:',best_model_file)\n",
    "#     print('==================================')"
   ],
   "metadata": {
    "collapsed": false
   }
  },
  {
   "cell_type": "markdown",
   "source": [
    "# ***Test***"
   ],
   "metadata": {
    "collapsed": false
   }
  },
  {
   "cell_type": "code",
   "execution_count": 71,
   "outputs": [
    {
     "name": "stdout",
     "output_type": "stream",
     "text": [
      "     total number of batches of train_loader: 207\n"
     ]
    }
   ],
   "source": [
    "#load best dataloader\n",
    "train_loader,validation_loader,test_loader=create_dataloader(X_train_video_games_text,X_validation_video_games_text, X_test_video_games_text, X_train_video_games_features, X_validation_video_games_features, X_test_video_games_features, y_train_video_games, y_validation_video_games, y_test_video_games,best_batch_size)\n",
    "del train_loader\n",
    "del validation_loader"
   ],
   "metadata": {
    "collapsed": false
   }
  },
  {
   "cell_type": "code",
   "execution_count": 72,
   "outputs": [
    {
     "name": "stdout",
     "output_type": "stream",
     "text": [
      "   model_preparing done!\n",
      "GatedCNNModel(\n",
      "  (embedding): Embedding(173529, 100)\n",
      "  (gating_layer): Linear(in_features=100, out_features=1, bias=True)\n",
      "  (convs): ModuleList(\n",
      "    (0): Conv2d(1, 32, kernel_size=(2, 100), stride=(1, 1))\n",
      "    (1): Conv2d(1, 32, kernel_size=(3, 100), stride=(1, 1))\n",
      "    (2): Conv2d(1, 32, kernel_size=(4, 100), stride=(1, 1))\n",
      "    (3): Conv2d(1, 32, kernel_size=(5, 100), stride=(1, 1))\n",
      "  )\n",
      "  (features_fc1): Linear(in_features=9, out_features=256, bias=True)\n",
      "  (features_fc2): Linear(in_features=256, out_features=128, bias=True)\n",
      "  (fc1): Linear(in_features=256, out_features=64, bias=True)\n",
      "  (fc2): Linear(in_features=64, out_features=1, bias=True)\n",
      "  (dropout): Dropout(p=0.5, inplace=False)\n",
      ")\n"
     ]
    }
   ],
   "source": [
    "#load best model\n",
    "model,loss_function,optimizer=model_preparing(best_num_filter, best_dropout,best_weight_decay,best_lr,num_features)\n",
    "model, optimizer, best_epoch, best_loss= load_ckp(best_model_file, model, optimizer)\n",
    "print(model)"
   ],
   "metadata": {
    "collapsed": false
   }
  },
  {
   "cell_type": "code",
   "execution_count": 73,
   "outputs": [],
   "source": [
    "\n",
    "with open('results/evaluation_result_CNN.txt', 'a') as f:\n",
    "    f.write('\\n====================video_games====================\\n')\n",
    "    f.write('best_loss:'+str(best_loss)+'\\n')\n",
    "    f.write('best_epoch:'+str(best_epoch)+'\\n')\n",
    "    f.write('best_batch_size:'+str(best_batch_size)+'\\n')\n",
    "    f.write('best_num_filter:'+str(best_num_filter)+'\\n')\n",
    "    f.write('best_dropout:'+str(best_dropout)+'\\n')\n",
    "    f.write('best_weight_decay:'+str(best_weight_decay)+'\\n')\n",
    "    f.write('best_learning_rate:'+str(best_lr)+'\\n')\n",
    "    f.write('best_model_file:'+str(best_model_file)+'\\n')\n",
    "# predict\n",
    "y_pred_video_games=predict(model,test_loader)\n",
    "saved_path='results/cnn_video_games.csv'\n",
    "saved_results(y_pred_video_games,y_test_video_games,X_test_video_games,saved_path)"
   ],
   "metadata": {
    "collapsed": false
   }
  },
  {
   "cell_type": "code",
   "execution_count": 74,
   "outputs": [
    {
     "name": "stdout",
     "output_type": "stream",
     "text": [
      "<class 'numpy.ndarray'>\n",
      "<class 'pandas.core.series.Series'>\n",
      "3675\n",
      "3675\n",
      "(3675, 1)\n",
      "(3675,)\n"
     ]
    }
   ],
   "source": [
    "print(type(y_pred_video_games))\n",
    "print(type(y_test_video_games))\n",
    "print(len(y_pred_video_games))\n",
    "print(len(y_test_video_games))\n",
    "print(y_pred_video_games.shape)\n",
    "print(y_test_video_games.shape)\n"
   ],
   "metadata": {
    "collapsed": false
   }
  },
  {
   "cell_type": "code",
   "execution_count": 75,
   "outputs": [
    {
     "name": "stdout",
     "output_type": "stream",
     "text": [
      "y_pred.shape: (3675,)\n",
      "rmse: 0.2964767378696391\n",
      "pcc: 0.49195539228312996\n",
      "ndcg: 0.9658954239499855\n"
     ]
    }
   ],
   "source": [
    "with open('results/evaluation_result_CNN.txt', 'a') as f:\n",
    "    f.write('=====================')\n",
    "    f.write(' test evaluation:\\n')\n",
    "evaluation_cnn(y_pred_video_games,y_test_video_games,'results/evaluation_result_CNN.txt')"
   ],
   "metadata": {
    "collapsed": false
   }
  },
  {
   "cell_type": "code",
   "execution_count": 76,
   "outputs": [],
   "source": [
    "del model\n",
    "del optimizer\n",
    "del loss_function\n",
    "del test_loader\n",
    "del X_train_video_games_text\n",
    "del X_validation_video_games_text\n",
    "del X_test_video_games_text\n",
    "del X_train_video_games_features\n",
    "del X_validation_video_games_features\n",
    "del X_test_video_games_features\n",
    "del y_train_video_games\n",
    "del y_validation_video_games\n",
    "del y_test_video_games\n",
    "del y_pred_video_games\n",
    "del saved_path\n",
    "del best_model_file\n",
    "del best_lr\n",
    "del best_weight_decay\n",
    "del best_dropout\n",
    "del best_num_filter\n",
    "del best_batch_size\n",
    "del best_epoch\n",
    "del best_loss\n",
    "del best_loss_final\n",
    "del num_epochs\n",
    "del batch_sizes\n",
    "del num_filters\n",
    "del dropouts\n",
    "del weight_decaies\n",
    "del learning_rates\n"
   ],
   "metadata": {
    "collapsed": false
   }
  },
  {
   "cell_type": "markdown",
   "source": [
    "# ***Books***"
   ],
   "metadata": {
    "collapsed": false
   }
  },
  {
   "cell_type": "code",
   "execution_count": 30,
   "outputs": [
    {
     "name": "stderr",
     "output_type": "stream",
     "text": [
      "/Users/xiangzhiping/Code/project_review_helpfulness/data_load.py:18: UserWarning: pandas only supports SQLAlchemy connectable (engine/connection) or database string URI or sqlite3 DBAPI2 connection. Other DBAPI2 objects are not tested. Please consider using SQLAlchemy.\n",
      "  df = pd.read_sql(query, conn)\n"
     ]
    },
    {
     "name": "stdout",
     "output_type": "stream",
     "text": [
      "load features_books from MySQL: (81197, 11)!\n",
      "features selection finished!\n",
      "No null values found in the dataset.\n",
      "shape of X_train: (58461, 10)\n",
      "shape of X_validation: (6496, 10)\n",
      "shape of X_test: (16240, 10)\n",
      "shape of y_train: (58461,)\n",
      "shape of y_validation: (6496,)\n",
      "shape of y_test: (16240,)\n",
      "Index(['reviewText', 'overall', 'review_length', 'num_sentences',\n",
      "       'avg_sentence_length', 'subjectivity', 'readability', 'timeline',\n",
      "       'topic', 'review_volume'],\n",
      "      dtype='object')\n"
     ]
    }
   ],
   "source": [
    "# load data\n",
    "# books\n",
    "X_train_books, X_validation_books, X_test_books, y_train_books, y_validation_books, y_test_books = data_load.data_load(tag='all', table_name='features_books')\n",
    "# features number :9 for all\n",
    "num_features=9"
   ],
   "metadata": {
    "collapsed": false
   }
  },
  {
   "cell_type": "code",
   "execution_count": 31,
   "outputs": [
    {
     "name": "stdout",
     "output_type": "stream",
     "text": [
      "Vocabulary size: 631878\n",
      "Embedding matrix shape: (631878, 100)\n",
      "sample review: 512\n",
      "Text preprocessing done!\n"
     ]
    }
   ],
   "source": [
    "#处理review\n",
    "X_train_books_text, X_validation_books_text, X_test_books_text=review_preprocessing(X_train_books, X_validation_books, X_test_books)\n"
   ],
   "metadata": {
    "collapsed": false
   }
  },
  {
   "cell_type": "code",
   "execution_count": 32,
   "outputs": [
    {
     "name": "stdout",
     "output_type": "stream",
     "text": [
      "Features preprocessing done!\n"
     ]
    }
   ],
   "source": [
    "#处理features\n",
    "X_train_books_features, X_validation_books_features, X_test_books_features=features_preprocessing(X_train_books, X_validation_books, X_test_books)\n"
   ],
   "metadata": {
    "collapsed": false
   }
  },
  {
   "cell_type": "code",
   "execution_count": 33,
   "outputs": [],
   "source": [
    "batch_size=64\n",
    "num_filter=32\n",
    "dropout=0.5\n",
    "weight_decay=1e-05\n",
    "lr=0.0001\n",
    "num_epochs=20\n",
    "# saved_file\n",
    "name_best_books=f'checkpoints/cnn_tune/eg_cnn_books_best_batch_size_{batch_size}_num_filter_{num_filter}_dropout_{dropout}_weight_decay_{weight_decay}_lr_{lr}.pt'\n",
    "pic_books=f'pictures/cnn_tune/eg_cnn_books_batch_size_{batch_size}_num_filter_{num_filter}_dropout_{dropout}_weight_decay_{weight_decay}_lr_{lr}.png'\n",
    "stats_books=f'checkpoints/cnn_tune/eg_cnn_books_batch_size_{batch_size}_num_filter_{num_filter}_dropout_{dropout}_weight_decay_{weight_decay}_lr_{lr}.txt'\n"
   ],
   "metadata": {
    "collapsed": false
   }
  },
  {
   "cell_type": "code",
   "execution_count": 34,
   "outputs": [
    {
     "name": "stdout",
     "output_type": "stream",
     "text": [
      "     total number of batches of train_loader: 914\n"
     ]
    }
   ],
   "source": [
    "train_loader,validation_loader,test_loader=create_dataloader(X_train_books_text,X_validation_books_text, X_test_books_text, X_train_books_features, X_validation_books_features, X_test_books_features, y_train_books, y_validation_books, y_test_books,batch_size)"
   ],
   "metadata": {
    "collapsed": false
   }
  },
  {
   "cell_type": "code",
   "execution_count": 35,
   "outputs": [
    {
     "name": "stdout",
     "output_type": "stream",
     "text": [
      "   model_preparing done!\n"
     ]
    }
   ],
   "source": [
    "# model preparing\n",
    "model_books,loss_function_books,optimizer_books=model_preparing(num_filter, dropout, weight_decay,lr,num_features)"
   ],
   "metadata": {
    "collapsed": false
   }
  },
  {
   "cell_type": "code",
   "execution_count": 36,
   "outputs": [
    {
     "name": "stdout",
     "output_type": "stream",
     "text": [
      "     Initial validation loss: 0.13174396921314446\n",
      "        epoch: 0, batch: 456, avg_loss: 0.07118301531320327\n",
      "Epoch [0/20] - Train Loss: 0.0677 - Valid Loss: 0.0611 - Training Time: 0:26:41 \n",
      "        epoch: 1, batch: 456, avg_loss: 0.06237965004204791\n",
      "Epoch [1/20] - Train Loss: 0.0618 - Valid Loss: 0.0591 - Training Time: 0:26:41 \n",
      "        epoch: 2, batch: 456, avg_loss: 0.06061636002762834\n",
      "Epoch [2/20] - Train Loss: 0.0604 - Valid Loss: 0.0582 - Training Time: 0:26:41 \n",
      "        epoch: 3, batch: 456, avg_loss: 0.05931479096640904\n",
      "Epoch [3/20] - Train Loss: 0.0594 - Valid Loss: 0.0573 - Training Time: 0:26:41 \n",
      "        epoch: 4, batch: 456, avg_loss: 0.058679241149052486\n",
      "Epoch [4/20] - Train Loss: 0.0585 - Valid Loss: 0.0568 - Training Time: 0:26:42 \n",
      "        epoch: 5, batch: 456, avg_loss: 0.05796794386690633\n",
      "Epoch [5/20] - Train Loss: 0.0578 - Valid Loss: 0.0563 - Training Time: 0:26:40 \n",
      "        epoch: 6, batch: 456, avg_loss: 0.05760066643259457\n",
      "Epoch [6/20] - Train Loss: 0.0573 - Valid Loss: 0.0560 - Training Time: 0:26:41 \n",
      "        epoch: 7, batch: 456, avg_loss: 0.05742347694493227\n",
      "Epoch [7/20] - Train Loss: 0.0567 - Valid Loss: 0.0557 - Training Time: 0:26:42 \n",
      "        epoch: 8, batch: 456, avg_loss: 0.05638631266955474\n",
      "Epoch [8/20] - Train Loss: 0.0562 - Valid Loss: 0.0555 - Training Time: 0:26:42 \n",
      "        epoch: 9, batch: 456, avg_loss: 0.05610220606237063\n",
      "Epoch [9/20] - Train Loss: 0.0559 - Valid Loss: 0.0553 - Training Time: 0:26:41 \n",
      "        epoch: 10, batch: 456, avg_loss: 0.05513830311775729\n",
      "Epoch [10/20] - Train Loss: 0.0552 - Valid Loss: 0.0556 - Training Time: 0:26:42 \n",
      "        epoch: 11, batch: 456, avg_loss: 0.05492439849355158\n",
      "Epoch [11/20] - Train Loss: 0.0548 - Valid Loss: 0.0551 - Training Time: 0:26:42 \n",
      "        epoch: 12, batch: 456, avg_loss: 0.05458552681349821\n",
      "Epoch [12/20] - Train Loss: 0.0544 - Valid Loss: 0.0547 - Training Time: 0:26:42 \n",
      "        epoch: 13, batch: 456, avg_loss: 0.05310028117696227\n",
      "Epoch [13/20] - Train Loss: 0.0541 - Valid Loss: 0.0548 - Training Time: 0:26:41 \n",
      "        epoch: 14, batch: 456, avg_loss: 0.05404900286664587\n",
      "Epoch [14/20] - Train Loss: 0.0536 - Valid Loss: 0.0544 - Training Time: 0:26:42 \n",
      "        epoch: 15, batch: 456, avg_loss: 0.053117659823312804\n",
      "Epoch [15/20] - Train Loss: 0.0535 - Valid Loss: 0.0542 - Training Time: 0:26:42 \n",
      "        epoch: 16, batch: 456, avg_loss: 0.053280124359273026\n",
      "Epoch [16/20] - Train Loss: 0.0528 - Valid Loss: 0.0542 - Training Time: 0:26:41 \n",
      "        epoch: 17, batch: 456, avg_loss: 0.05273488732115967\n",
      "Epoch [17/20] - Train Loss: 0.0528 - Valid Loss: 0.0541 - Training Time: 0:26:42 \n",
      "        epoch: 18, batch: 456, avg_loss: 0.05257036017673803\n",
      "Epoch [18/20] - Train Loss: 0.0524 - Valid Loss: 0.0544 - Training Time: 0:26:42 \n",
      "        epoch: 19, batch: 456, avg_loss: 0.051717434669447414\n",
      "Epoch [19/20] - Train Loss: 0.0521 - Valid Loss: 0.0539 - Training Time: 0:26:40 \n",
      "time elapsed for training 8:53:54\n",
      "the best loss for epoch 19 is 0.05388489219487882\n",
      "       training loss  valid loss training time\n",
      "epoch                                         \n",
      "0           0.067660    0.061067       0:26:41\n",
      "1           0.061834    0.059057       0:26:41\n",
      "2           0.060439    0.058247       0:26:41\n",
      "3           0.059370    0.057318       0:26:41\n",
      "4           0.058480    0.056767       0:26:42\n",
      "5           0.057826    0.056349       0:26:40\n",
      "6           0.057308    0.056010       0:26:41\n",
      "7           0.056726    0.055735       0:26:42\n",
      "8           0.056194    0.055480       0:26:42\n",
      "9           0.055883    0.055294       0:26:41\n",
      "10          0.055157    0.055571       0:26:42\n",
      "11          0.054791    0.055148       0:26:42\n",
      "12          0.054431    0.054736       0:26:42\n",
      "13          0.054100    0.054847       0:26:41\n",
      "14          0.053590    0.054406       0:26:42\n",
      "15          0.053472    0.054156       0:26:42\n",
      "16          0.052806    0.054247       0:26:41\n",
      "17          0.052844    0.054141       0:26:42\n",
      "18          0.052389    0.054406       0:26:42\n",
      "19          0.052135    0.053885       0:26:40\n"
     ]
    },
    {
     "data": {
      "text/plain": "<Figure size 640x480 with 1 Axes>",
      "image/png": "[encoded data removed]"
     },
     "metadata": {},
     "output_type": "display_data"
    }
   ],
   "source": [
    " # train\n",
    "train(num_epochs,model_books,train_loader,optimizer_books,loss_function_books,validation_loader,name_best_books,pic_books,stats_books)"
   ],
   "metadata": {
    "collapsed": false
   }
  },
  {
   "cell_type": "code",
   "execution_count": 37,
   "outputs": [
    {
     "name": "stdout",
     "output_type": "stream",
     "text": [
      "GatedCNNModel(\n",
      "  (embedding): Embedding(631878, 100)\n",
      "  (gating_layer): Linear(in_features=100, out_features=1, bias=True)\n",
      "  (convs): ModuleList(\n",
      "    (0): Conv2d(1, 32, kernel_size=(2, 100), stride=(1, 1))\n",
      "    (1): Conv2d(1, 32, kernel_size=(3, 100), stride=(1, 1))\n",
      "    (2): Conv2d(1, 32, kernel_size=(4, 100), stride=(1, 1))\n",
      "    (3): Conv2d(1, 32, kernel_size=(5, 100), stride=(1, 1))\n",
      "  )\n",
      "  (features_fc1): Linear(in_features=9, out_features=256, bias=True)\n",
      "  (features_fc2): Linear(in_features=256, out_features=128, bias=True)\n",
      "  (fc1): Linear(in_features=256, out_features=64, bias=True)\n",
      "  (fc2): Linear(in_features=64, out_features=1, bias=True)\n",
      "  (dropout): Dropout(p=0.5, inplace=False)\n",
      ")\n"
     ]
    }
   ],
   "source": [
    "# load best model\n",
    "model_books, optimizer_books, best_epoch_books, best_loss_books= load_ckp(name_best_books, model_books, optimizer_books)\n",
    "print(model_books)"
   ],
   "metadata": {
    "collapsed": false
   }
  },
  {
   "cell_type": "code",
   "execution_count": 38,
   "outputs": [],
   "source": [
    "with open('results/evaluation_result_CNN.txt', 'a') as f:\n",
    "    f.write('\\n====================books====================\\n')\n",
    "    f.write('best_loss:'+str(best_loss_books)+'\\n')\n",
    "    f.write('best_epoch:'+str(best_epoch_books)+'\\n')\n",
    "    f.write('best_model_file:'+str(name_best_books)+'\\n')"
   ],
   "metadata": {
    "collapsed": false
   }
  },
  {
   "cell_type": "code",
   "execution_count": 39,
   "outputs": [],
   "source": [
    "# predict\n",
    "y_pred_books=predict(model_books,test_loader)\n",
    "saved_path='results/cnn_books.csv'\n",
    "saved_results(y_pred_books,y_test_books,X_test_books,saved_path)\n"
   ],
   "metadata": {
    "collapsed": false
   }
  },
  {
   "cell_type": "code",
   "execution_count": 40,
   "outputs": [
    {
     "name": "stdout",
     "output_type": "stream",
     "text": [
      "y_pred.shape: (16240,)\n",
      "rmse: 0.23207411236442724\n",
      "pcc: 0.6181633053163821\n",
      "ndcg: 0.9874771655648726\n"
     ]
    }
   ],
   "source": [
    "with open('results/evaluation_result_CNN.txt', 'a') as f:\n",
    "    f.write(' test evaluation:\\n')\n",
    "evaluation_cnn(y_pred_books,y_test_books,'results/evaluation_result_CNN.txt')"
   ],
   "metadata": {
    "collapsed": false
   }
  },
  {
   "cell_type": "code",
   "execution_count": 41,
   "outputs": [],
   "source": [
    "del model_books\n",
    "del optimizer_books\n",
    "del loss_function_books\n",
    "del test_loader\n",
    "del X_train_books_text\n",
    "del X_validation_books_text\n",
    "del X_test_books_text\n",
    "del X_train_books_features\n",
    "del X_validation_books_features\n",
    "del X_test_books_features\n",
    "del y_train_books\n",
    "del y_validation_books\n",
    "del y_test_books\n",
    "del y_pred_books\n",
    "del saved_path\n",
    "del name_best_books\n",
    "del pic_books\n",
    "del stats_books\n",
    "del best_epoch_books\n",
    "del best_loss_books\n",
    "del num_epochs\n",
    "del batch_size\n",
    "del num_filter\n",
    "del dropout\n",
    "del weight_decay\n",
    "del lr\n",
    "del train_loader\n",
    "del validation_loader"
   ],
   "metadata": {
    "collapsed": false
   }
  },
  {
   "cell_type": "markdown",
   "source": [
    "# cell phones"
   ],
   "metadata": {
    "collapsed": false
   }
  },
  {
   "cell_type": "code",
   "execution_count": 42,
   "outputs": [
    {
     "name": "stderr",
     "output_type": "stream",
     "text": [
      "/Users/xiangzhiping/Code/project_review_helpfulness/data_load.py:18: UserWarning: pandas only supports SQLAlchemy connectable (engine/connection) or database string URI or sqlite3 DBAPI2 connection. Other DBAPI2 objects are not tested. Please consider using SQLAlchemy.\n",
      "  df = pd.read_sql(query, conn)\n"
     ]
    },
    {
     "name": "stdout",
     "output_type": "stream",
     "text": [
      "load features_cell_phones from MySQL: (35667, 11)!\n",
      "features selection finished!\n",
      "No null values found in the dataset.\n",
      "shape of X_train: (25679, 6)\n",
      "shape of X_validation: (2854, 6)\n",
      "shape of X_test: (7134, 6)\n",
      "shape of y_train: (25679,)\n",
      "shape of y_validation: (2854,)\n",
      "shape of y_test: (7134,)\n",
      "Index(['reviewText', 'review_volume', 'overall', 'timeline', 'review_length',\n",
      "       'num_sentences'],\n",
      "      dtype='object')\n"
     ]
    }
   ],
   "source": [
    "# load data\n",
    "# cell phones\n",
    "X_train_cell_phones, X_validation_cell_phones, X_test_cell_phones, y_train_cell_phones, y_validation_cell_phones, y_test_cell_phones = data_load.data_load(tag='SPC', table_name='features_cell_phones')\n",
    "# features number :9 for all\n",
    "num_features=5"
   ],
   "metadata": {
    "collapsed": false
   }
  },
  {
   "cell_type": "code",
   "execution_count": 43,
   "outputs": [
    {
     "name": "stdout",
     "output_type": "stream",
     "text": [
      "Vocabulary size: 156827\n",
      "Embedding matrix shape: (156827, 100)\n",
      "sample review: 512\n",
      "Text preprocessing done!\n"
     ]
    }
   ],
   "source": [
    "#处理review\n",
    "X_train_cell_phones_text, X_validation_cell_phones_text, X_test_cell_phones_text=review_preprocessing(X_train_cell_phones, X_validation_cell_phones, X_test_cell_phones)"
   ],
   "metadata": {
    "collapsed": false
   }
  },
  {
   "cell_type": "code",
   "execution_count": 44,
   "outputs": [
    {
     "name": "stdout",
     "output_type": "stream",
     "text": [
      "Features preprocessing done!\n"
     ]
    }
   ],
   "source": [
    "#处理features\n",
    "X_train_cell_phones_features, X_validation_cell_phones_features, X_test_cell_phones_features=features_preprocessing(X_train_cell_phones, X_validation_cell_phones, X_test_cell_phones)"
   ],
   "metadata": {
    "collapsed": false
   }
  },
  {
   "cell_type": "code",
   "execution_count": 45,
   "outputs": [],
   "source": [
    "batch_size=64\n",
    "num_filter=32\n",
    "dropout=0.5\n",
    "weight_decay=1e-05\n",
    "lr=0.0001\n",
    "num_epochs=20\n",
    "# saved_file\n",
    "name_best_cell_phones=f'checkpoints/cnn_tune/eg_cnn_cell_phones_best_batch_size_{batch_size}_num_filter_{num_filter}_dropout_{dropout}_weight_decay_{weight_decay}_lr_{lr}.pt'\n",
    "pic_cell_phones=f'pictures/cnn_tune/eg_cnn_cell_phones_batch_size_{batch_size}_num_filter_{num_filter}_dropout_{dropout}_weight_decay_{weight_decay}_lr_{lr}.png'\n",
    "stats_cell_phones=f'checkpoints/cnn_tune/eg_cnn_cell_phones_batch_size_{batch_size}_num_filter_{num_filter}_dropout_{dropout}_weight_decay_{weight_decay}_lr_{lr}.txt'"
   ],
   "metadata": {
    "collapsed": false
   }
  },
  {
   "cell_type": "code",
   "execution_count": 46,
   "outputs": [
    {
     "name": "stdout",
     "output_type": "stream",
     "text": [
      "     total number of batches of train_loader: 402\n"
     ]
    }
   ],
   "source": [
    "train_loader,validation_loader,test_loader=create_dataloader(X_train_cell_phones_text,X_validation_cell_phones_text, X_test_cell_phones_text, X_train_cell_phones_features, X_validation_cell_phones_features, X_test_cell_phones_features, y_train_cell_phones, y_validation_cell_phones, y_test_cell_phones,batch_size)\n"
   ],
   "metadata": {
    "collapsed": false
   }
  },
  {
   "cell_type": "code",
   "execution_count": 47,
   "outputs": [
    {
     "name": "stdout",
     "output_type": "stream",
     "text": [
      "   model_preparing done!\n"
     ]
    }
   ],
   "source": [
    "# model preparing\n",
    "model_cell_phones,loss_function_cell_phones,optimizer_cell_phones=model_preparing(num_filter, dropout, weight_decay,lr,num_features)\n"
   ],
   "metadata": {
    "collapsed": false
   }
  },
  {
   "cell_type": "code",
   "execution_count": 48,
   "outputs": [
    {
     "name": "stdout",
     "output_type": "stream",
     "text": [
      "     Initial validation loss: 0.15544235325521893\n",
      "        epoch: 0, batch: 200, avg_loss: 0.09258086862626361\n",
      "Epoch [0/20] - Train Loss: 0.0881 - Valid Loss: 0.0845 - Training Time: 0:11:44 \n",
      "        epoch: 1, batch: 200, avg_loss: 0.08344731413161577\n",
      "Epoch [1/20] - Train Loss: 0.0836 - Valid Loss: 0.0839 - Training Time: 0:11:44 \n",
      "        epoch: 2, batch: 200, avg_loss: 0.08328640529543013\n",
      "Epoch [2/20] - Train Loss: 0.0828 - Valid Loss: 0.0827 - Training Time: 0:11:42 \n",
      "        epoch: 3, batch: 200, avg_loss: 0.08338062543032775\n",
      "Epoch [3/20] - Train Loss: 0.0822 - Valid Loss: 0.0821 - Training Time: 0:11:42 \n",
      "        epoch: 4, batch: 200, avg_loss: 0.08169376197739027\n",
      "Epoch [4/20] - Train Loss: 0.0816 - Valid Loss: 0.0819 - Training Time: 0:11:42 \n",
      "        epoch: 5, batch: 200, avg_loss: 0.08187471081813176\n",
      "Epoch [5/20] - Train Loss: 0.0809 - Valid Loss: 0.0816 - Training Time: 0:11:45 \n",
      "        epoch: 6, batch: 200, avg_loss: 0.08041109007537661\n",
      "Epoch [6/20] - Train Loss: 0.0808 - Valid Loss: 0.0813 - Training Time: 0:11:42 \n",
      "        epoch: 7, batch: 200, avg_loss: 0.08035721083111431\n",
      "Epoch [7/20] - Train Loss: 0.0803 - Valid Loss: 0.0807 - Training Time: 0:11:44 \n",
      "        epoch: 8, batch: 200, avg_loss: 0.0798679064421808\n",
      "Epoch [8/20] - Train Loss: 0.0799 - Valid Loss: 0.0810 - Training Time: 0:11:42 \n",
      "        epoch: 9, batch: 200, avg_loss: 0.08028568086487736\n",
      "Epoch [9/20] - Train Loss: 0.0796 - Valid Loss: 0.0808 - Training Time: 0:11:43 \n",
      "        epoch: 10, batch: 200, avg_loss: 0.07872321755064661\n",
      "Epoch [10/20] - Train Loss: 0.0792 - Valid Loss: 0.0807 - Training Time: 0:11:43 \n",
      "        epoch: 11, batch: 200, avg_loss: 0.07942799643719968\n",
      "Epoch [11/20] - Train Loss: 0.0790 - Valid Loss: 0.0805 - Training Time: 0:11:43 \n",
      "        epoch: 12, batch: 200, avg_loss: 0.078562450812972\n",
      "Epoch [12/20] - Train Loss: 0.0784 - Valid Loss: 0.0801 - Training Time: 0:11:42 \n",
      "        epoch: 13, batch: 200, avg_loss: 0.07776861239354409\n",
      "Epoch [13/20] - Train Loss: 0.0779 - Valid Loss: 0.0801 - Training Time: 0:11:43 \n",
      "        epoch: 14, batch: 200, avg_loss: 0.07771861251091483\n",
      "Epoch [14/20] - Train Loss: 0.0780 - Valid Loss: 0.0805 - Training Time: 0:11:43 \n",
      "        epoch: 15, batch: 200, avg_loss: 0.07884133942610588\n",
      "Epoch [15/20] - Train Loss: 0.0774 - Valid Loss: 0.0798 - Training Time: 0:11:41 \n",
      "        epoch: 16, batch: 200, avg_loss: 0.07680037115417902\n",
      "Epoch [16/20] - Train Loss: 0.0769 - Valid Loss: 0.0802 - Training Time: 0:11:43 \n",
      "        epoch: 17, batch: 200, avg_loss: 0.07595035359634096\n",
      "Epoch [17/20] - Train Loss: 0.0766 - Valid Loss: 0.0799 - Training Time: 0:11:36 \n",
      "        epoch: 18, batch: 200, avg_loss: 0.07690646586504149\n",
      "Epoch [18/20] - Train Loss: 0.0760 - Valid Loss: 0.0798 - Training Time: 0:11:43 \n",
      "Early Stopping! No improvement in validation loss for 18 epochs.\n",
      "time elapsed for training 3:42:29\n",
      "the best loss for epoch 15 is 0.0797948414252864\n",
      "       training loss  valid loss training time\n",
      "epoch                                         \n",
      "0           0.088076    0.084512       0:11:44\n",
      "1           0.083587    0.083862       0:11:44\n",
      "2           0.082848    0.082748       0:11:42\n",
      "3           0.082191    0.082137       0:11:42\n",
      "4           0.081630    0.081884       0:11:42\n",
      "5           0.080905    0.081594       0:11:45\n",
      "6           0.080809    0.081350       0:11:42\n",
      "7           0.080314    0.080746       0:11:44\n",
      "8           0.079913    0.081018       0:11:42\n",
      "9           0.079550    0.080824       0:11:43\n",
      "10          0.079177    0.080694       0:11:43\n",
      "11          0.079002    0.080462       0:11:43\n",
      "12          0.078383    0.080123       0:11:42\n",
      "13          0.077944    0.080127       0:11:43\n",
      "14          0.077986    0.080472       0:11:43\n",
      "15          0.077408    0.079795       0:11:41\n",
      "16          0.076874    0.080178       0:11:43\n",
      "17          0.076552    0.079926       0:11:36\n",
      "18          0.075999    0.079802       0:11:43\n"
     ]
    },
    {
     "data": {
      "text/plain": "<Figure size 640x480 with 1 Axes>",
      "image/png": "[encoded data removed]"
     },
     "metadata": {},
     "output_type": "display_data"
    }
   ],
   "source": [
    "    # train\n",
    "train(num_epochs,model_cell_phones,train_loader,optimizer_cell_phones,loss_function_cell_phones,validation_loader,name_best_cell_phones,pic_cell_phones,stats_cell_phones)\n"
   ],
   "metadata": {
    "collapsed": false
   }
  },
  {
   "cell_type": "code",
   "execution_count": 49,
   "outputs": [
    {
     "name": "stdout",
     "output_type": "stream",
     "text": [
      "GatedCNNModel(\n",
      "  (embedding): Embedding(156827, 100)\n",
      "  (gating_layer): Linear(in_features=100, out_features=1, bias=True)\n",
      "  (convs): ModuleList(\n",
      "    (0): Conv2d(1, 32, kernel_size=(2, 100), stride=(1, 1))\n",
      "    (1): Conv2d(1, 32, kernel_size=(3, 100), stride=(1, 1))\n",
      "    (2): Conv2d(1, 32, kernel_size=(4, 100), stride=(1, 1))\n",
      "    (3): Conv2d(1, 32, kernel_size=(5, 100), stride=(1, 1))\n",
      "  )\n",
      "  (features_fc1): Linear(in_features=5, out_features=256, bias=True)\n",
      "  (features_fc2): Linear(in_features=256, out_features=128, bias=True)\n",
      "  (fc1): Linear(in_features=256, out_features=64, bias=True)\n",
      "  (fc2): Linear(in_features=64, out_features=1, bias=True)\n",
      "  (dropout): Dropout(p=0.5, inplace=False)\n",
      ")\n"
     ]
    }
   ],
   "source": [
    "# load best model\n",
    "model_cell_phones, optimizer_cell_phones, best_epoch_cell_phones, best_loss_cell_phones= load_ckp(name_best_cell_phones, model_cell_phones, optimizer_cell_phones)\n",
    "print(model_cell_phones)"
   ],
   "metadata": {
    "collapsed": false
   }
  },
  {
   "cell_type": "code",
   "execution_count": 50,
   "outputs": [],
   "source": [
    "with open('results/evaluation_result_CNN.txt', 'a') as f:\n",
    "    f.write('\\n====================cell_phones====================\\n')\n",
    "    f.write('best_loss:'+str(best_loss_cell_phones)+'\\n')\n",
    "    f.write('best_epoch:'+str(best_epoch_cell_phones)+'\\n')\n",
    "    f.write('best_model_file:'+str(name_best_cell_phones)+'\\n')"
   ],
   "metadata": {
    "collapsed": false
   }
  },
  {
   "cell_type": "code",
   "execution_count": 51,
   "outputs": [],
   "source": [
    "# predict\n",
    "y_pred_cell_phones=predict(model_cell_phones,test_loader)\n",
    "saved_path='results/cnn_cell_phones.csv'\n",
    "saved_results(y_pred_cell_phones,y_test_cell_phones,X_test_cell_phones,saved_path)"
   ],
   "metadata": {
    "collapsed": false
   }
  },
  {
   "cell_type": "code",
   "execution_count": 52,
   "outputs": [
    {
     "name": "stdout",
     "output_type": "stream",
     "text": [
      "y_pred.shape: (7134,)\n",
      "rmse: 0.2795228197579774\n",
      "pcc: 0.42536690710992753\n",
      "ndcg: 0.9818138441666545\n"
     ]
    }
   ],
   "source": [
    "with open('results/evaluation_result_CNN.txt', 'a') as f:\n",
    "    f.write(' test evaluation:\\n')\n",
    "evaluation_cnn(y_pred_cell_phones,y_test_cell_phones,'results/evaluation_result_CNN.txt')"
   ],
   "metadata": {
    "collapsed": false
   }
  },
  {
   "cell_type": "code",
   "execution_count": 53,
   "outputs": [],
   "source": [
    "del model_cell_phones\n",
    "del optimizer_cell_phones\n",
    "del loss_function_cell_phones\n",
    "del test_loader\n",
    "del X_train_cell_phones_text\n",
    "del X_validation_cell_phones_text\n",
    "del X_test_cell_phones_text\n",
    "del X_train_cell_phones_features\n",
    "del X_validation_cell_phones_features\n",
    "del X_test_cell_phones_features\n",
    "del y_train_cell_phones\n",
    "del y_validation_cell_phones\n",
    "del y_test_cell_phones\n",
    "del y_pred_cell_phones\n",
    "del saved_path\n",
    "del name_best_cell_phones"
   ],
   "metadata": {
    "collapsed": false
   }
  },
  {
   "cell_type": "markdown",
   "source": [
    "# ***electronics***"
   ],
   "metadata": {
    "collapsed": false
   }
  },
  {
   "cell_type": "code",
   "execution_count": 54,
   "outputs": [
    {
     "name": "stderr",
     "output_type": "stream",
     "text": [
      "/Users/xiangzhiping/Code/project_review_helpfulness/data_load.py:18: UserWarning: pandas only supports SQLAlchemy connectable (engine/connection) or database string URI or sqlite3 DBAPI2 connection. Other DBAPI2 objects are not tested. Please consider using SQLAlchemy.\n",
      "  df = pd.read_sql(query, conn)\n"
     ]
    },
    {
     "name": "stdout",
     "output_type": "stream",
     "text": [
      "load features_electronics from MySQL: (64577, 11)!\n",
      "features selection finished!\n",
      "No null values found in the dataset.\n",
      "shape of X_train: (46494, 6)\n",
      "shape of X_validation: (5167, 6)\n",
      "shape of X_test: (12916, 6)\n",
      "shape of y_train: (46494,)\n",
      "shape of y_validation: (5167,)\n",
      "shape of y_test: (12916,)\n",
      "Index(['reviewText', 'review_volume', 'overall', 'readability',\n",
      "       'review_length', 'num_sentences'],\n",
      "      dtype='object')\n"
     ]
    }
   ],
   "source": [
    "# load data\n",
    "# electronics\n",
    "X_train_electronics, X_validation_electronics, X_test_electronics, y_train_electronics, y_validation_electronics, y_test_electronics = data_load.data_load(tag='SPC', table_name='features_electronics')\n",
    "num_features=5"
   ],
   "metadata": {
    "collapsed": false
   }
  },
  {
   "cell_type": "code",
   "execution_count": 55,
   "outputs": [
    {
     "name": "stdout",
     "output_type": "stream",
     "text": [
      "Vocabulary size: 339539\n",
      "Embedding matrix shape: (339539, 100)\n",
      "sample review: 512\n",
      "Text preprocessing done!\n"
     ]
    }
   ],
   "source": [
    "#处理review\n",
    "X_train_electronics_text, X_validation_electronics_text, X_test_electronics_text=review_preprocessing(X_train_electronics, X_validation_electronics, X_test_electronics)"
   ],
   "metadata": {
    "collapsed": false
   }
  },
  {
   "cell_type": "code",
   "execution_count": 56,
   "outputs": [
    {
     "name": "stdout",
     "output_type": "stream",
     "text": [
      "Features preprocessing done!\n"
     ]
    }
   ],
   "source": [
    "#处理features\n",
    "X_train_electronics_features, X_validation_electronics_features, X_test_electronics_features=features_preprocessing(X_train_electronics, X_validation_electronics, X_test_electronics)"
   ],
   "metadata": {
    "collapsed": false
   }
  },
  {
   "cell_type": "code",
   "execution_count": 57,
   "outputs": [],
   "source": [
    "batch_size=64\n",
    "num_filter=32\n",
    "dropout=0.5\n",
    "weight_decay=1e-05\n",
    "lr=0.0001\n",
    "num_epochs=20\n",
    "# saved_file\n",
    "name_best_electronics=f'checkpoints/cnn_tune/eg_cnn_electronics_best_batch_size_{batch_size}_num_filter_{num_filter}_dropout_{dropout}_weight_decay_{weight_decay}_lr_{lr}.pt'\n",
    "pic_electronics=f'pictures/cnn_tune/eg_cnn_electronics_batch_size_{batch_size}_num_filter_{num_filter}_dropout_{dropout}_weight_decay_{weight_decay}_lr_{lr}.png'\n",
    "stats_electronics=f'checkpoints/cnn_tune/eg_cnn_electronics_batch_size_{batch_size}_num_filter_{num_filter}_dropout_{dropout}_weight_decay_{weight_decay}_lr_{lr}.txt'\n"
   ],
   "metadata": {
    "collapsed": false
   }
  },
  {
   "cell_type": "code",
   "execution_count": 58,
   "outputs": [
    {
     "name": "stdout",
     "output_type": "stream",
     "text": [
      "     total number of batches of train_loader: 727\n"
     ]
    }
   ],
   "source": [
    "train_loader,validation_loader,test_loader=create_dataloader(X_train_electronics_text,X_validation_electronics_text, X_test_electronics_text, X_train_electronics_features, X_validation_electronics_features, X_test_electronics_features, y_train_electronics, y_validation_electronics, y_test_electronics,batch_size)"
   ],
   "metadata": {
    "collapsed": false
   }
  },
  {
   "cell_type": "code",
   "execution_count": 59,
   "outputs": [
    {
     "name": "stdout",
     "output_type": "stream",
     "text": [
      "   model_preparing done!\n"
     ]
    }
   ],
   "source": [
    "# model preparing\n",
    "model_electronics,loss_function_electronics,optimizer_electronics=model_preparing(num_filter, dropout, weight_decay,lr,num_features)\n"
   ],
   "metadata": {
    "collapsed": false
   }
  },
  {
   "cell_type": "code",
   "execution_count": 60,
   "outputs": [
    {
     "name": "stdout",
     "output_type": "stream",
     "text": [
      "     Initial validation loss: 0.16686955591042837\n",
      "        epoch: 0, batch: 363, avg_loss: 0.0931164374738768\n",
      "Epoch [0/20] - Train Loss: 0.0901 - Valid Loss: 0.0852 - Training Time: 0:21:13 \n",
      "        epoch: 1, batch: 363, avg_loss: 0.08630069606210831\n",
      "Epoch [1/20] - Train Loss: 0.0860 - Valid Loss: 0.0837 - Training Time: 0:21:12 \n",
      "        epoch: 2, batch: 363, avg_loss: 0.08499543692220698\n",
      "Epoch [2/20] - Train Loss: 0.0847 - Valid Loss: 0.0825 - Training Time: 0:21:13 \n",
      "        epoch: 3, batch: 363, avg_loss: 0.08394093720426599\n",
      "Epoch [3/20] - Train Loss: 0.0839 - Valid Loss: 0.0821 - Training Time: 0:21:12 \n",
      "        epoch: 4, batch: 363, avg_loss: 0.08383474654548771\n",
      "Epoch [4/20] - Train Loss: 0.0830 - Valid Loss: 0.0817 - Training Time: 0:21:13 \n",
      "        epoch: 5, batch: 363, avg_loss: 0.08319811998856264\n",
      "Epoch [5/20] - Train Loss: 0.0824 - Valid Loss: 0.0815 - Training Time: 0:21:14 \n",
      "        epoch: 6, batch: 363, avg_loss: 0.08165344674713336\n",
      "Epoch [6/20] - Train Loss: 0.0819 - Valid Loss: 0.0812 - Training Time: 0:21:14 \n",
      "        epoch: 7, batch: 363, avg_loss: 0.08096636101030387\n",
      "Epoch [7/20] - Train Loss: 0.0814 - Valid Loss: 0.0807 - Training Time: 0:21:11 \n",
      "        epoch: 8, batch: 363, avg_loss: 0.08002401947729536\n",
      "Epoch [8/20] - Train Loss: 0.0808 - Valid Loss: 0.0806 - Training Time: 0:21:12 \n",
      "        epoch: 9, batch: 363, avg_loss: 0.080572485790721\n",
      "Epoch [9/20] - Train Loss: 0.0803 - Valid Loss: 0.0803 - Training Time: 0:21:12 \n",
      "        epoch: 10, batch: 363, avg_loss: 0.07929336303169583\n",
      "Epoch [10/20] - Train Loss: 0.0800 - Valid Loss: 0.0803 - Training Time: 0:21:11 \n",
      "        epoch: 11, batch: 363, avg_loss: 0.08018841644605765\n",
      "Epoch [11/20] - Train Loss: 0.0796 - Valid Loss: 0.0801 - Training Time: 0:21:14 \n",
      "        epoch: 12, batch: 363, avg_loss: 0.07899007556325459\n",
      "Epoch [12/20] - Train Loss: 0.0788 - Valid Loss: 0.0806 - Training Time: 0:21:12 \n",
      "        epoch: 13, batch: 363, avg_loss: 0.07816369819280865\n",
      "Epoch [13/20] - Train Loss: 0.0786 - Valid Loss: 0.0801 - Training Time: 0:21:15 \n",
      "        epoch: 14, batch: 363, avg_loss: 0.0777628388010211\n",
      "Epoch [14/20] - Train Loss: 0.0783 - Valid Loss: 0.0804 - Training Time: 0:21:21 \n",
      "        epoch: 15, batch: 363, avg_loss: 0.07705622601353533\n",
      "Epoch [15/20] - Train Loss: 0.0778 - Valid Loss: 0.0798 - Training Time: 0:21:23 \n",
      "        epoch: 16, batch: 363, avg_loss: 0.07686796349442594\n",
      "Epoch [16/20] - Train Loss: 0.0773 - Valid Loss: 0.0797 - Training Time: 0:21:12 \n",
      "        epoch: 17, batch: 363, avg_loss: 0.07783416155111658\n",
      "Epoch [17/20] - Train Loss: 0.0767 - Valid Loss: 0.0798 - Training Time: 0:21:13 \n",
      "        epoch: 18, batch: 363, avg_loss: 0.07638521356364855\n",
      "Epoch [18/20] - Train Loss: 0.0763 - Valid Loss: 0.0796 - Training Time: 0:21:13 \n",
      "        epoch: 19, batch: 363, avg_loss: 0.07619055416844375\n",
      "Epoch [19/20] - Train Loss: 0.0762 - Valid Loss: 0.0797 - Training Time: 0:21:12 \n",
      "time elapsed for training 7:04:38\n",
      "the best loss for epoch 18 is 0.0796341545143981\n",
      "       training loss  valid loss training time\n",
      "epoch                                         \n",
      "0           0.090079    0.085184       0:21:13\n",
      "1           0.086042    0.083696       0:21:12\n",
      "2           0.084736    0.082541       0:21:13\n",
      "3           0.083865    0.082134       0:21:12\n",
      "4           0.083042    0.081674       0:21:13\n",
      "5           0.082438    0.081480       0:21:14\n",
      "6           0.081911    0.081245       0:21:14\n",
      "7           0.081436    0.080716       0:21:11\n",
      "8           0.080791    0.080566       0:21:12\n",
      "9           0.080311    0.080287       0:21:12\n",
      "10          0.080018    0.080253       0:21:11\n",
      "11          0.079567    0.080114       0:21:14\n",
      "12          0.078830    0.080648       0:21:12\n",
      "13          0.078563    0.080095       0:21:15\n",
      "14          0.078283    0.080376       0:21:21\n",
      "15          0.077844    0.079754       0:21:23\n",
      "16          0.077332    0.079735       0:21:12\n",
      "17          0.076743    0.079789       0:21:13\n",
      "18          0.076298    0.079634       0:21:13\n",
      "19          0.076194    0.079698       0:21:12\n"
     ]
    },
    {
     "data": {
      "text/plain": "<Figure size 640x480 with 1 Axes>",
      "image/png": "[encoded data removed]"
     },
     "metadata": {},
     "output_type": "display_data"
    }
   ],
   "source": [
    "    # train\n",
    "train(num_epochs,model_electronics,train_loader,optimizer_electronics,loss_function_electronics,validation_loader,name_best_electronics,pic_electronics,stats_electronics)"
   ],
   "metadata": {
    "collapsed": false
   }
  },
  {
   "cell_type": "code",
   "execution_count": 61,
   "outputs": [],
   "source": [
    "# load best model\n",
    "model_electronics, optimizer_electronics, best_epoch_electronics, best_loss_electronics= load_ckp(name_best_electronics, model_electronics, optimizer_electronics)"
   ],
   "metadata": {
    "collapsed": false
   }
  },
  {
   "cell_type": "code",
   "execution_count": 62,
   "outputs": [],
   "source": [
    "with open('results/evaluation_result_CNN.txt', 'a') as f:\n",
    "    f.write('\\n====================electronics====================\\n')\n",
    "    f.write('best_loss:'+str(best_loss_electronics)+'\\n')\n",
    "    f.write('best_epoch:'+str(best_epoch_electronics)+'\\n')\n",
    "    f.write('best_model_file:'+str(name_best_electronics)+'\\n')"
   ],
   "metadata": {
    "collapsed": false
   }
  },
  {
   "cell_type": "code",
   "execution_count": 63,
   "outputs": [],
   "source": [
    "# predict\n",
    "y_pred_electronics=predict(model_electronics,test_loader)\n",
    "saved_path='results/cnn_electronics.csv'\n",
    "saved_results(y_pred_electronics,y_test_electronics,X_test_electronics,saved_path)"
   ],
   "metadata": {
    "collapsed": false
   }
  },
  {
   "cell_type": "code",
   "execution_count": 64,
   "outputs": [
    {
     "name": "stdout",
     "output_type": "stream",
     "text": [
      "y_pred.shape: (12916,)\n",
      "rmse: 0.2848093616082267\n",
      "pcc: 0.4729156598625768\n",
      "ndcg: 0.9829425750081963\n"
     ]
    }
   ],
   "source": [
    "with open('results/evaluation_result_CNN.txt', 'a') as f:\n",
    "    f.write(' test evaluation:\\n')\n",
    "evaluation_cnn(y_pred_electronics,y_test_electronics,'results/evaluation_result_CNN.txt')\n"
   ],
   "metadata": {
    "collapsed": false
   }
  },
  {
   "cell_type": "code",
   "execution_count": 64,
   "outputs": [],
   "source": [],
   "metadata": {
    "collapsed": false
   }
  }
 ],
 "metadata": {
  "kernelspec": {
   "display_name": "Python 3 (ipykernel)",
   "language": "python",
   "name": "python3"
  },
  "language_info": {
   "codemirror_mode": {
    "name": "ipython",
    "version": 3
   },
   "file_extension": ".py",
   "mimetype": "text/x-python",
   "name": "python",
   "nbconvert_exporter": "python",
   "pygments_lexer": "ipython3",
   "version": "3.8.17"
  }
 },
 "nbformat": 4,
 "nbformat_minor": 1
}
